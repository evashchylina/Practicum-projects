{
 "cells": [
  {
   "cell_type": "markdown",
   "metadata": {},
   "source": [
    "# Анализ пользовательского поведения в мобильном приложении 📲\n",
    "## Содержание\n",
    "\n",
    "1) [Описание проекта](#anchor_1)  \n",
    "2) [Загрузка данных и подготовка их к анализу](#anchor_2)  \n",
    "3) [Проверка данных](#anchor_3)  \n",
    "4) [Воронка событий](#anchor_4)  \n",
    "5) [Исследование результатов эксперимента](#anchor_5)  \n",
    "6) [Общий вывод](#anchor_6)  "
   ]
  },
  {
   "cell_type": "markdown",
   "metadata": {},
   "source": [
    "<a id='anchor_1'></a>\n",
    "## Описание проекта"
   ]
  },
  {
   "cell_type": "markdown",
   "metadata": {},
   "source": [
    "**Задача:**\n",
    "\n",
    "Нам необходимо изучить, как ведут себя пользователи мобильного приложения по продаже продуктов питания (построить воронку продаж, сделать по ней выводы).\n",
    "Далее исследуем результаты A/A/B-эксперимента. Пользователей разбили на 3 группы: 2 контрольные со старыми шрифтами и одну экспериментальную — с новыми. Выясните, какой шрифт лучше. Решение о смене шрифтов будет принято по результатам A/A/B-теста.\n",
    "\n",
    "**Цель исследования:**\n",
    "\n",
    "Выяснить, на каких шагах воронки происходит максимальная потеря пользователей. На основании A/A/B-эксперимента определить, какой шрифт лучше.\n",
    "\n",
    "**Ход исследования:**\n",
    "\n",
    "Познакомимся с данными, подготовим их для исследования.  \n",
    "Определим период исследования, построим гистограмму по дате и времени.  \n",
    "Изучим воронку событий. Посмотрим, какие события есть в логах, как часто они встречаются. Отсортируем события по частоте.  \n",
    "По воронке событий посчитаем, какая доля пользователей проходит на следующий шаг воронки (от числа пользователей на предыдущем). Определим, на каком шаге теряется больше всего пользователей и какая доля пользователей доходит от первого события до оплаты.  \n",
    "\n",
    "Изучим результаты эксперимента.\n",
    "Проверим, находят ли статистические критерии разницу между выборками 246 и 247.  \n",
    "Посчитаем долю пользователей, совершивших самое популярное событие в каждой из групп. Проверим, будет ли отличие между группами статистически достоверным. Сделаем выводы из эксперимента, определим наилучший шрифт.  "
   ]
  },
  {
   "cell_type": "markdown",
   "metadata": {},
   "source": [
    "<a id='anchor_2'></a>\n",
    "## Загрузка данных и подготовка их к анализу"
   ]
  },
  {
   "cell_type": "markdown",
   "metadata": {},
   "source": [
    "Для начала произведём импорт всех необходимых нам библиотек, сделаем некоторые базовые настройки:"
   ]
  },
  {
   "cell_type": "code",
   "execution_count": 1,
   "metadata": {
    "scrolled": false
   },
   "outputs": [
    {
     "data": {
      "text/html": [
       "        <script type=\"text/javascript\">\n",
       "        window.PlotlyConfig = {MathJaxConfig: 'local'};\n",
       "        if (window.MathJax) {MathJax.Hub.Config({SVG: {font: \"STIX-Web\"}});}\n",
       "        if (typeof require !== 'undefined') {\n",
       "        require.undef(\"plotly\");\n",
       "        requirejs.config({\n",
       "            paths: {\n",
       "                'plotly': ['https://cdn.plot.ly/plotly-2.11.1.min']\n",
       "            }\n",
       "        });\n",
       "        require(['plotly'], function(Plotly) {\n",
       "            window._Plotly = Plotly;\n",
       "        });\n",
       "        }\n",
       "        </script>\n",
       "        "
      ]
     },
     "metadata": {},
     "output_type": "display_data"
    }
   ],
   "source": [
    "# импорт библиотеки pandas\n",
    "import pandas as pd\n",
    "\n",
    "#импорт библиотеки numpy для операций с массивами\n",
    "import numpy as np\n",
    "\n",
    "# импорт библиотеки для работы с датами\n",
    "from datetime import datetime, timedelta\n",
    "\n",
    "# импорт библиотеки визуализации seaborn\n",
    "import seaborn as sns\n",
    "\n",
    "# импорт библиотеки matplotlib для продвинутой работы с графиками\n",
    "import matplotlib.pyplot as plt\n",
    "\n",
    "# зафиксируем размер графиков\n",
    "plt.rcParams[\"figure.figsize\"] = (12,6)\n",
    "\n",
    "# зададим цветовую палитру для графиков\n",
    "sns.set_palette('pastel') \n",
    "\n",
    "# установка и импорт библиотеки для работы с интерактивной визуализацией\n",
    "import plotly.express as px\n",
    "from plotly import graph_objects as go\n",
    "from plotly.offline import plot, iplot, init_notebook_mode\n",
    "init_notebook_mode(connected=True)\n",
    "\n",
    "# импорт библиотек для проведения статистических тестов\n",
    "from scipy import stats as st\n",
    "import scipy.stats as stats\n",
    "import math as mth\n",
    "\n",
    "# импорт библиотеки для игнорирования предупреждений\n",
    "import warnings\n",
    "warnings.filterwarnings(\"ignore\")\n",
    "\n",
    "# снимем ограничение по ширине граф\n",
    "pd.set_option('display.max_colwidth', None)\n",
    "\n",
    "# снимем ограничение по количеству отображаемых строк\n",
    "pd.set_option('display.max_rows', None)"
   ]
  },
  {
   "cell_type": "markdown",
   "metadata": {},
   "source": [
    "Прочитаем данные из файла с информацией о действиях пользователей в мобильном приложении. Выведем на экран 5 случайных строк:"
   ]
  },
  {
   "cell_type": "code",
   "execution_count": 2,
   "metadata": {},
   "outputs": [
    {
     "data": {
      "text/html": [
       "<div>\n",
       "<style scoped>\n",
       "    .dataframe tbody tr th:only-of-type {\n",
       "        vertical-align: middle;\n",
       "    }\n",
       "\n",
       "    .dataframe tbody tr th {\n",
       "        vertical-align: top;\n",
       "    }\n",
       "\n",
       "    .dataframe thead th {\n",
       "        text-align: right;\n",
       "    }\n",
       "</style>\n",
       "<table border=\"1\" class=\"dataframe\">\n",
       "  <thead>\n",
       "    <tr style=\"text-align: right;\">\n",
       "      <th></th>\n",
       "      <th>EventName</th>\n",
       "      <th>DeviceIDHash</th>\n",
       "      <th>EventTimestamp</th>\n",
       "      <th>ExpId</th>\n",
       "    </tr>\n",
       "  </thead>\n",
       "  <tbody>\n",
       "    <tr>\n",
       "      <th>104340</th>\n",
       "      <td>MainScreenAppear</td>\n",
       "      <td>735251485903965518</td>\n",
       "      <td>1564857597</td>\n",
       "      <td>248</td>\n",
       "    </tr>\n",
       "    <tr>\n",
       "      <th>227363</th>\n",
       "      <td>MainScreenAppear</td>\n",
       "      <td>1256042479757208235</td>\n",
       "      <td>1565180898</td>\n",
       "      <td>246</td>\n",
       "    </tr>\n",
       "    <tr>\n",
       "      <th>49450</th>\n",
       "      <td>MainScreenAppear</td>\n",
       "      <td>8595734159262380396</td>\n",
       "      <td>1564737299</td>\n",
       "      <td>247</td>\n",
       "    </tr>\n",
       "    <tr>\n",
       "      <th>39581</th>\n",
       "      <td>PaymentScreenSuccessful</td>\n",
       "      <td>6304868067479728361</td>\n",
       "      <td>1564706887</td>\n",
       "      <td>248</td>\n",
       "    </tr>\n",
       "    <tr>\n",
       "      <th>62923</th>\n",
       "      <td>CartScreenAppear</td>\n",
       "      <td>6254218025818064974</td>\n",
       "      <td>1564759252</td>\n",
       "      <td>247</td>\n",
       "    </tr>\n",
       "  </tbody>\n",
       "</table>\n",
       "</div>"
      ],
      "text/plain": [
       "                      EventName         DeviceIDHash  EventTimestamp  ExpId\n",
       "104340         MainScreenAppear   735251485903965518      1564857597    248\n",
       "227363         MainScreenAppear  1256042479757208235      1565180898    246\n",
       "49450          MainScreenAppear  8595734159262380396      1564737299    247\n",
       "39581   PaymentScreenSuccessful  6304868067479728361      1564706887    248\n",
       "62923          CartScreenAppear  6254218025818064974      1564759252    247"
      ]
     },
     "metadata": {},
     "output_type": "display_data"
    }
   ],
   "source": [
    "try:\n",
    "    logs = pd.read_csv('/datasets/logs_exp.csv', sep='\\t')\n",
    "except:\n",
    "    logs = pd.read_csv('logs_exp.csv', sep='\\t')\n",
    "display(logs.sample(5))"
   ]
  },
  {
   "cell_type": "markdown",
   "metadata": {},
   "source": [
    "Согласно документации к данным таблица logs_exp содержит следующую информацию (каждая запись в логе — это действие пользователя, или событие):\n",
    "\n",
    "- EventName — название события;\n",
    "- DeviceIDHash — уникальный идентификатор пользователя;\n",
    "- ExpId — номер эксперимента: 246 и 247 — контрольные группы, а 248 — экспериментальная.    \n",
    "\n",
    "Посмотрим общую информацию о таблице, воспользовавшись методом *info()*:"
   ]
  },
  {
   "cell_type": "code",
   "execution_count": 3,
   "metadata": {},
   "outputs": [
    {
     "name": "stdout",
     "output_type": "stream",
     "text": [
      "<class 'pandas.core.frame.DataFrame'>\n",
      "RangeIndex: 244126 entries, 0 to 244125\n",
      "Data columns (total 4 columns):\n",
      " #   Column          Non-Null Count   Dtype \n",
      "---  ------          --------------   ----- \n",
      " 0   EventName       244126 non-null  object\n",
      " 1   DeviceIDHash    244126 non-null  int64 \n",
      " 2   EventTimestamp  244126 non-null  int64 \n",
      " 3   ExpId           244126 non-null  int64 \n",
      "dtypes: int64(3), object(1)\n",
      "memory usage: 7.5+ MB\n"
     ]
    }
   ],
   "source": [
    "logs.info()"
   ]
  },
  {
   "cell_type": "markdown",
   "metadata": {},
   "source": [
    "Итак, в нашем распоряжении оказалась объёмная таблица из четырёх граф. Так как количество столбцов небольшое, то нет необходимости проверять наличие пропусков методом *isna()* - их нет.\n",
    "\n",
    "Для удобства переименуем столбцы:"
   ]
  },
  {
   "cell_type": "code",
   "execution_count": 4,
   "metadata": {},
   "outputs": [
    {
     "data": {
      "text/plain": [
       "Index(['event', 'user_id', 'timestamp', 'group'], dtype='object')"
      ]
     },
     "execution_count": 4,
     "metadata": {},
     "output_type": "execute_result"
    }
   ],
   "source": [
    "logs = logs.rename(columns = {'EventName':'event', 'DeviceIDHash':'user_id',\n",
    "                              'EventTimestamp':'timestamp', 'ExpId':'group'})\n",
    "logs.columns"
   ]
  },
  {
   "cell_type": "markdown",
   "metadata": {},
   "source": [
    "Проверим таблицу на наличие явных дубликатов:"
   ]
  },
  {
   "cell_type": "code",
   "execution_count": 5,
   "metadata": {},
   "outputs": [
    {
     "data": {
      "text/plain": [
       "413"
      ]
     },
     "execution_count": 5,
     "metadata": {},
     "output_type": "execute_result"
    }
   ],
   "source": [
    "logs.duplicated().sum()"
   ]
  },
  {
   "cell_type": "markdown",
   "metadata": {},
   "source": [
    "Нашлись явные дубликаты, их следует удалить:"
   ]
  },
  {
   "cell_type": "code",
   "execution_count": 6,
   "metadata": {},
   "outputs": [
    {
     "data": {
      "text/plain": [
       "243713"
      ]
     },
     "execution_count": 6,
     "metadata": {},
     "output_type": "execute_result"
    }
   ],
   "source": [
    "logs = logs.drop_duplicates().reset_index(drop = True)\n",
    "logs.shape[0]"
   ]
  },
  {
   "cell_type": "markdown",
   "metadata": {},
   "source": [
    "Проверим, нет ли подозрительных значений в графе 'group':"
   ]
  },
  {
   "cell_type": "code",
   "execution_count": 7,
   "metadata": {},
   "outputs": [
    {
     "data": {
      "text/plain": [
       "array([246, 248, 247])"
      ]
     },
     "execution_count": 7,
     "metadata": {},
     "output_type": "execute_result"
    }
   ],
   "source": [
    "logs['group'].unique()"
   ]
  },
  {
   "cell_type": "markdown",
   "metadata": {},
   "source": [
    "Информация о наблюдаемых выборках корректна. Посмотрим, какие события хранятся в графе 'event':"
   ]
  },
  {
   "cell_type": "code",
   "execution_count": 8,
   "metadata": {},
   "outputs": [
    {
     "data": {
      "text/plain": [
       "array(['MainScreenAppear', 'PaymentScreenSuccessful', 'CartScreenAppear',\n",
       "       'OffersScreenAppear', 'Tutorial'], dtype=object)"
      ]
     },
     "execution_count": 8,
     "metadata": {},
     "output_type": "execute_result"
    }
   ],
   "source": [
    "logs['event'].unique()"
   ]
  },
  {
   "cell_type": "markdown",
   "metadata": {},
   "source": [
    "В нашей таблице хранится информация о пяти типах событий:\n",
    "\n",
    "- MainScreenAppear - загрузка главной страницы,\n",
    "- OffersScreenAppear - загрузка страницы товара,\n",
    "- CartScreenAppear - загрузка страницы \"корзина\",\n",
    "- PaymentScreenSuccessful - успешная оплата,\n",
    "- Tutorial - руководство пользователя (реквизиты, условия оплаты и доставки товара, возврата товара и др.)\n",
    "    \n",
    "Время события у нас в таблице приведено в формате \"unix\". Для удобства привем его к формату datetime, а также выделим информацию о дате в отдельный столбец:"
   ]
  },
  {
   "cell_type": "code",
   "execution_count": 9,
   "metadata": {},
   "outputs": [
    {
     "data": {
      "text/html": [
       "<div>\n",
       "<style scoped>\n",
       "    .dataframe tbody tr th:only-of-type {\n",
       "        vertical-align: middle;\n",
       "    }\n",
       "\n",
       "    .dataframe tbody tr th {\n",
       "        vertical-align: top;\n",
       "    }\n",
       "\n",
       "    .dataframe thead th {\n",
       "        text-align: right;\n",
       "    }\n",
       "</style>\n",
       "<table border=\"1\" class=\"dataframe\">\n",
       "  <thead>\n",
       "    <tr style=\"text-align: right;\">\n",
       "      <th></th>\n",
       "      <th>event</th>\n",
       "      <th>user_id</th>\n",
       "      <th>group</th>\n",
       "      <th>datetime</th>\n",
       "      <th>date</th>\n",
       "    </tr>\n",
       "  </thead>\n",
       "  <tbody>\n",
       "    <tr>\n",
       "      <th>0</th>\n",
       "      <td>MainScreenAppear</td>\n",
       "      <td>4575588528974610257</td>\n",
       "      <td>246</td>\n",
       "      <td>2019-07-25 04:43:36</td>\n",
       "      <td>2019-07-25</td>\n",
       "    </tr>\n",
       "    <tr>\n",
       "      <th>1</th>\n",
       "      <td>MainScreenAppear</td>\n",
       "      <td>7416695313311560658</td>\n",
       "      <td>246</td>\n",
       "      <td>2019-07-25 11:11:42</td>\n",
       "      <td>2019-07-25</td>\n",
       "    </tr>\n",
       "    <tr>\n",
       "      <th>2</th>\n",
       "      <td>PaymentScreenSuccessful</td>\n",
       "      <td>3518123091307005509</td>\n",
       "      <td>248</td>\n",
       "      <td>2019-07-25 11:28:47</td>\n",
       "      <td>2019-07-25</td>\n",
       "    </tr>\n",
       "    <tr>\n",
       "      <th>3</th>\n",
       "      <td>CartScreenAppear</td>\n",
       "      <td>3518123091307005509</td>\n",
       "      <td>248</td>\n",
       "      <td>2019-07-25 11:28:47</td>\n",
       "      <td>2019-07-25</td>\n",
       "    </tr>\n",
       "    <tr>\n",
       "      <th>4</th>\n",
       "      <td>PaymentScreenSuccessful</td>\n",
       "      <td>6217807653094995999</td>\n",
       "      <td>248</td>\n",
       "      <td>2019-07-25 11:48:42</td>\n",
       "      <td>2019-07-25</td>\n",
       "    </tr>\n",
       "  </tbody>\n",
       "</table>\n",
       "</div>"
      ],
      "text/plain": [
       "                     event              user_id  group            datetime  \\\n",
       "0         MainScreenAppear  4575588528974610257    246 2019-07-25 04:43:36   \n",
       "1         MainScreenAppear  7416695313311560658    246 2019-07-25 11:11:42   \n",
       "2  PaymentScreenSuccessful  3518123091307005509    248 2019-07-25 11:28:47   \n",
       "3         CartScreenAppear  3518123091307005509    248 2019-07-25 11:28:47   \n",
       "4  PaymentScreenSuccessful  6217807653094995999    248 2019-07-25 11:48:42   \n",
       "\n",
       "         date  \n",
       "0  2019-07-25  \n",
       "1  2019-07-25  \n",
       "2  2019-07-25  \n",
       "3  2019-07-25  \n",
       "4  2019-07-25  "
      ]
     },
     "execution_count": 9,
     "metadata": {},
     "output_type": "execute_result"
    }
   ],
   "source": [
    "logs['datetime'] = pd.to_datetime(logs['timestamp'], unit='s')\n",
    "logs['date'] = pd.to_datetime(logs['datetime']).dt.date \n",
    "logs = logs[['event', 'user_id', 'group', 'datetime', 'date']]\n",
    "logs.head()"
   ]
  },
  {
   "cell_type": "markdown",
   "metadata": {},
   "source": [
    "Итак, на первом этапе исследования мы изучили исходные данные, убедились в отсутствии пропусков. Обнаружили в данных явные дубликаты, удалили их. Нестабильное интернет-соединение могло привести к тому, что какие-то действия пользователей задвоились. Присвоили графам более удобные названия, а также привели тип данных к более подходящему для работы (в частности, информацию о датах).  \n",
    "Закончив с предобработкой данных, можно переходить к следующим шагам исследования."
   ]
  },
  {
   "cell_type": "markdown",
   "metadata": {},
   "source": [
    "<a id='anchor_3'></a>\n",
    "## Проверка данных"
   ]
  },
  {
   "cell_type": "markdown",
   "metadata": {},
   "source": [
    "Посчитаем, сколько в логе всего зафиксировано событий:  "
   ]
  },
  {
   "cell_type": "code",
   "execution_count": 10,
   "metadata": {},
   "outputs": [
    {
     "name": "stdout",
     "output_type": "stream",
     "text": [
      "Количество событий в логе: 243713\n"
     ]
    }
   ],
   "source": [
    "print('Количество событий в логе:', len(logs['event']))"
   ]
  },
  {
   "cell_type": "markdown",
   "metadata": {},
   "source": [
    "Посмотрим, сколько всего пользователей в логе. Для этого нужно получить количество уникальных 'user_id', т.к. одним пользователем совершалось несколько действий (соответственно событий):"
   ]
  },
  {
   "cell_type": "code",
   "execution_count": 11,
   "metadata": {},
   "outputs": [
    {
     "name": "stdout",
     "output_type": "stream",
     "text": [
      "Количество пользователей в логе: 7551\n"
     ]
    }
   ],
   "source": [
    "count_users = len(logs['user_id'].unique())\n",
    "print('Количество пользователей в логе:', count_users)"
   ]
  },
  {
   "cell_type": "markdown",
   "metadata": {},
   "source": [
    "Интересно посмотреть, сколько в среднем событий приходится на пользователя. Для этого разделим число событий на количество пользователй, округлим до целых:  "
   ]
  },
  {
   "cell_type": "code",
   "execution_count": 12,
   "metadata": {},
   "outputs": [
    {
     "name": "stdout",
     "output_type": "stream",
     "text": [
      "В среднем на пользователя приходится 32 событий(я).\n"
     ]
    }
   ],
   "source": [
    "print('В среднем на пользователя приходится',\n",
    "      round(len(logs['event'])/len(logs['user_id'].unique())), 'событий(я).')"
   ]
  },
  {
   "cell_type": "markdown",
   "metadata": {},
   "source": [
    "Получаем, что в исследуемый период каждый пользователь совершил в среднем по 32 действия. Однако, в массиве могут быть пользователи, соверешившие аномально много действий. В таком случае более типичным поведением пользователя будет медианное количество событий.  \n",
    "Посмотрим описательные статистики:"
   ]
  },
  {
   "cell_type": "code",
   "execution_count": 13,
   "metadata": {},
   "outputs": [
    {
     "data": {
      "text/html": [
       "<div>\n",
       "<style scoped>\n",
       "    .dataframe tbody tr th:only-of-type {\n",
       "        vertical-align: middle;\n",
       "    }\n",
       "\n",
       "    .dataframe tbody tr th {\n",
       "        vertical-align: top;\n",
       "    }\n",
       "\n",
       "    .dataframe thead th {\n",
       "        text-align: right;\n",
       "    }\n",
       "</style>\n",
       "<table border=\"1\" class=\"dataframe\">\n",
       "  <thead>\n",
       "    <tr style=\"text-align: right;\">\n",
       "      <th></th>\n",
       "      <th>count</th>\n",
       "      <th>mean</th>\n",
       "      <th>std</th>\n",
       "      <th>min</th>\n",
       "      <th>25%</th>\n",
       "      <th>50%</th>\n",
       "      <th>75%</th>\n",
       "      <th>max</th>\n",
       "    </tr>\n",
       "  </thead>\n",
       "  <tbody>\n",
       "    <tr>\n",
       "      <th>event</th>\n",
       "      <td>7551.0</td>\n",
       "      <td>32.275593</td>\n",
       "      <td>65.154219</td>\n",
       "      <td>1.0</td>\n",
       "      <td>9.0</td>\n",
       "      <td>20.0</td>\n",
       "      <td>37.0</td>\n",
       "      <td>2307.0</td>\n",
       "    </tr>\n",
       "  </tbody>\n",
       "</table>\n",
       "</div>"
      ],
      "text/plain": [
       "        count       mean        std  min  25%   50%   75%     max\n",
       "event  7551.0  32.275593  65.154219  1.0  9.0  20.0  37.0  2307.0"
      ]
     },
     "execution_count": 13,
     "metadata": {},
     "output_type": "execute_result"
    }
   ],
   "source": [
    "logs.groupby('user_id')[['event']].count().describe().T"
   ]
  },
  {
   "cell_type": "markdown",
   "metadata": {},
   "source": [
    "Действительно, заметим, что максимальное количество событий, совершённых пользователем значительно выше остальных характеристик - можно делать вывод о наличии в данных \"выбросов\". Таким образом, наиболее типичным количеством событий на одного пользователя следует считать медианное значение показателя, а именно 20 событий.\n",
    "\n",
    "Выясним, каков исследуемый период. Найдём максимальную и минимальную дату: "
   ]
  },
  {
   "cell_type": "code",
   "execution_count": 14,
   "metadata": {},
   "outputs": [
    {
     "name": "stdout",
     "output_type": "stream",
     "text": [
      "Самая ранняя дата: 2019-07-25\n",
      "Самая поздняя дата: 2019-08-07\n"
     ]
    }
   ],
   "source": [
    "print('Самая ранняя дата:', logs['date'].min())\n",
    "print('Самая поздняя дата:', logs['date'].max())"
   ]
  },
  {
   "cell_type": "markdown",
   "metadata": {},
   "source": [
    "В нашей таблице нашли отражение события за период с 25 июля 2019 года по 7 августа того же года. Построим гистограмму по дате и времени:"
   ]
  },
  {
   "cell_type": "code",
   "execution_count": 15,
   "metadata": {},
   "outputs": [
    {
     "data": {
      "image/png": "[encoded data removed]",
      "text/plain": [
       "<Figure size 1080x432 with 1 Axes>"
      ]
     },
     "metadata": {
      "needs_background": "light"
     },
     "output_type": "display_data"
    }
   ],
   "source": [
    "logs['datetime'].hist(bins=300, figsize=(15,6))\n",
    "plt.title('Распределение событий по дате и времени')\n",
    "plt.xlabel('Дата события')\n",
    "plt.xticks(rotation=45)\n",
    "plt.ylabel('Частота')\n",
    "plt.axvline(x=datetime(2019, 8, 1).date(), color='grey', linestyle='--');"
   ]
  },
  {
   "cell_type": "markdown",
   "metadata": {},
   "source": [
    "Можно заметить, что количество событий до 1 августа 2019 года очень небольшое, можно сделать вывод, что данные в этом периоде неполные. Для последующего анализа следует \"отсечь\" их. Посмотрим, сколько в таком случае отбрасыватся данных:"
   ]
  },
  {
   "cell_type": "code",
   "execution_count": 16,
   "metadata": {},
   "outputs": [
    {
     "name": "stdout",
     "output_type": "stream",
     "text": [
      "Процент отсеченных данных - 1.16%\n"
     ]
    }
   ],
   "source": [
    "percent = len(logs.query('date < datetime(2019, 8, 1).date()'))/len(logs)\n",
    "print(f'Процент отсеченных данных - {percent:.2%}')"
   ]
  },
  {
   "cell_type": "markdown",
   "metadata": {},
   "source": [
    "Убедившись в том, что доля отсченных данных очень небольшая, оставляем для дальнейшего исследования только информацию с 1 по 7 августа 2019 года:"
   ]
  },
  {
   "cell_type": "code",
   "execution_count": 17,
   "metadata": {},
   "outputs": [
    {
     "data": {
      "text/plain": [
       "240887"
      ]
     },
     "execution_count": 17,
     "metadata": {},
     "output_type": "execute_result"
    }
   ],
   "source": [
    "logs = logs.query('date >= datetime(2019, 8, 1).date()')\n",
    "logs.shape[0]"
   ]
  },
  {
   "cell_type": "markdown",
   "metadata": {},
   "source": [
    "По общему числу строк мы можем сделать вывод о количестве событий, которые у нас удалились. Однако, проверим скольких пользователей мы лишились в результате среза данных:"
   ]
  },
  {
   "cell_type": "code",
   "execution_count": 18,
   "metadata": {},
   "outputs": [
    {
     "name": "stdout",
     "output_type": "stream",
     "text": [
      "Количество пользователей в обновлённом логе: 7534\n",
      "Процент удалённых пользователей - 0.23%\n"
     ]
    }
   ],
   "source": [
    "print('Количество пользователей в обновлённом логе:', len(logs['user_id'].unique()))\n",
    "percent = 1-len(logs['user_id'].unique())/count_users\n",
    "print(f'Процент удалённых пользователей - {percent:.2%}')"
   ]
  },
  {
   "cell_type": "markdown",
   "metadata": {},
   "source": [
    "Мы потеряли только одного пользователя, что в относительном выражении всего 0.3%.\n",
    "\n",
    "Для будущего анализа результатов экспримента необходимо убедиться в том, что у нас есть пользователи из всех трёх экспериментальных групп. Проверим наполняемость каждой группы:"
   ]
  },
  {
   "cell_type": "code",
   "execution_count": 19,
   "metadata": {},
   "outputs": [
    {
     "data": {
      "text/html": [
       "<div>\n",
       "<style scoped>\n",
       "    .dataframe tbody tr th:only-of-type {\n",
       "        vertical-align: middle;\n",
       "    }\n",
       "\n",
       "    .dataframe tbody tr th {\n",
       "        vertical-align: top;\n",
       "    }\n",
       "\n",
       "    .dataframe thead th {\n",
       "        text-align: right;\n",
       "    }\n",
       "</style>\n",
       "<table border=\"1\" class=\"dataframe\">\n",
       "  <thead>\n",
       "    <tr style=\"text-align: right;\">\n",
       "      <th></th>\n",
       "      <th>event</th>\n",
       "      <th>user_id</th>\n",
       "      <th>events_per_user</th>\n",
       "    </tr>\n",
       "    <tr>\n",
       "      <th>group</th>\n",
       "      <th></th>\n",
       "      <th></th>\n",
       "      <th></th>\n",
       "    </tr>\n",
       "  </thead>\n",
       "  <tbody>\n",
       "    <tr>\n",
       "      <th>246</th>\n",
       "      <td>79302</td>\n",
       "      <td>2484</td>\n",
       "      <td>32.0</td>\n",
       "    </tr>\n",
       "    <tr>\n",
       "      <th>247</th>\n",
       "      <td>77022</td>\n",
       "      <td>2513</td>\n",
       "      <td>31.0</td>\n",
       "    </tr>\n",
       "    <tr>\n",
       "      <th>248</th>\n",
       "      <td>84563</td>\n",
       "      <td>2537</td>\n",
       "      <td>33.0</td>\n",
       "    </tr>\n",
       "  </tbody>\n",
       "</table>\n",
       "</div>"
      ],
      "text/plain": [
       "       event  user_id  events_per_user\n",
       "group                                 \n",
       "246    79302     2484             32.0\n",
       "247    77022     2513             31.0\n",
       "248    84563     2537             33.0"
      ]
     },
     "metadata": {},
     "output_type": "display_data"
    }
   ],
   "source": [
    "# определим число событий и пользователей по каждой группе\n",
    "group_logs = logs.groupby(by='group').agg({'event':'count', 'user_id':'nunique'})\n",
    "# добавим столбец, где рассчитаем число событий на каждого пользователя\n",
    "group_logs['events_per_user'] = round(group_logs['event']/group_logs['user_id'])\n",
    "display(group_logs)"
   ]
  },
  {
   "cell_type": "markdown",
   "metadata": {},
   "source": [
    "В результате \"чистки\" данных наполняемость наших экспериментальных групп не пострадала.\n",
    "\n",
    "На этапе проверки данных мы установили период, за который собраны данные (с 25 июля 2019 года по 7 августа того же года). Однако, выяснили за первую неделю данные неполные, потому мы их удалили (в результате исследуемый период: с 1 по 7 августа 2019 года). После этого мы рассчитали количество пользователей и событий в каждой экспериментальной группе и убедились в том, что их наполняемость не пострадала. Среднее количество событий на одного пользователя также не изменилось (32 события в среднем как до, так и после \"чистки\" данных)."
   ]
  },
  {
   "cell_type": "markdown",
   "metadata": {},
   "source": [
    "<a id='anchor_4'></a>\n",
    "## Воронка событий"
   ]
  },
  {
   "cell_type": "markdown",
   "metadata": {},
   "source": [
    "Посмотрим, какие события есть в логах и как часто они встречаются. Отсортируем события по частоте:  "
   ]
  },
  {
   "cell_type": "code",
   "execution_count": 20,
   "metadata": {},
   "outputs": [
    {
     "data": {
      "text/plain": [
       "MainScreenAppear           117328\n",
       "OffersScreenAppear          46333\n",
       "CartScreenAppear            42303\n",
       "PaymentScreenSuccessful     33918\n",
       "Tutorial                     1005\n",
       "Name: event, dtype: int64"
      ]
     },
     "execution_count": 20,
     "metadata": {},
     "output_type": "execute_result"
    }
   ],
   "source": [
    "logs['event'].value_counts()"
   ]
  },
  {
   "cell_type": "code",
   "execution_count": 21,
   "metadata": {},
   "outputs": [
    {
     "data": {
      "text/plain": [
       "7534"
      ]
     },
     "execution_count": 21,
     "metadata": {},
     "output_type": "execute_result"
    }
   ],
   "source": [
    "# посчитаем количество пользователей\n",
    "len(logs['user_id'].unique())"
   ]
  },
  {
   "cell_type": "markdown",
   "metadata": {},
   "source": [
    "Самое популярное событие - загрузка главной страницы. Реже всего люди обращаются к руководству пользователя.\n",
    "\n",
    "Посчитаем, сколько пользователей совершали каждое из этих событий. Отсортируем события по числу пользователей. Посчитаем долю пользователей, которые хоть раз совершали событие:  "
   ]
  },
  {
   "cell_type": "code",
   "execution_count": 22,
   "metadata": {},
   "outputs": [
    {
     "data": {
      "text/html": [
       "<style type=\"text/css\">\n",
       "</style>\n",
       "<table id=\"T_19c72_\">\n",
       "  <thead>\n",
       "    <tr>\n",
       "      <th class=\"blank level0\" >&nbsp;</th>\n",
       "      <th class=\"col_heading level0 col0\" >event</th>\n",
       "      <th class=\"col_heading level0 col1\" >user_id</th>\n",
       "      <th class=\"col_heading level0 col2\" >percent_users</th>\n",
       "    </tr>\n",
       "  </thead>\n",
       "  <tbody>\n",
       "    <tr>\n",
       "      <th id=\"T_19c72_level0_row0\" class=\"row_heading level0 row0\" >0</th>\n",
       "      <td id=\"T_19c72_row0_col0\" class=\"data row0 col0\" >All_Users</td>\n",
       "      <td id=\"T_19c72_row0_col1\" class=\"data row0 col1\" >7534</td>\n",
       "      <td id=\"T_19c72_row0_col2\" class=\"data row0 col2\" >100.00%</td>\n",
       "    </tr>\n",
       "    <tr>\n",
       "      <th id=\"T_19c72_level0_row1\" class=\"row_heading level0 row1\" >1</th>\n",
       "      <td id=\"T_19c72_row1_col0\" class=\"data row1 col0\" >MainScreenAppear</td>\n",
       "      <td id=\"T_19c72_row1_col1\" class=\"data row1 col1\" >7419</td>\n",
       "      <td id=\"T_19c72_row1_col2\" class=\"data row1 col2\" >98.47%</td>\n",
       "    </tr>\n",
       "    <tr>\n",
       "      <th id=\"T_19c72_level0_row2\" class=\"row_heading level0 row2\" >2</th>\n",
       "      <td id=\"T_19c72_row2_col0\" class=\"data row2 col0\" >OffersScreenAppear</td>\n",
       "      <td id=\"T_19c72_row2_col1\" class=\"data row2 col1\" >4593</td>\n",
       "      <td id=\"T_19c72_row2_col2\" class=\"data row2 col2\" >60.96%</td>\n",
       "    </tr>\n",
       "    <tr>\n",
       "      <th id=\"T_19c72_level0_row3\" class=\"row_heading level0 row3\" >3</th>\n",
       "      <td id=\"T_19c72_row3_col0\" class=\"data row3 col0\" >CartScreenAppear</td>\n",
       "      <td id=\"T_19c72_row3_col1\" class=\"data row3 col1\" >3734</td>\n",
       "      <td id=\"T_19c72_row3_col2\" class=\"data row3 col2\" >49.56%</td>\n",
       "    </tr>\n",
       "    <tr>\n",
       "      <th id=\"T_19c72_level0_row4\" class=\"row_heading level0 row4\" >4</th>\n",
       "      <td id=\"T_19c72_row4_col0\" class=\"data row4 col0\" >PaymentScreenSuccessful</td>\n",
       "      <td id=\"T_19c72_row4_col1\" class=\"data row4 col1\" >3539</td>\n",
       "      <td id=\"T_19c72_row4_col2\" class=\"data row4 col2\" >46.97%</td>\n",
       "    </tr>\n",
       "    <tr>\n",
       "      <th id=\"T_19c72_level0_row5\" class=\"row_heading level0 row5\" >5</th>\n",
       "      <td id=\"T_19c72_row5_col0\" class=\"data row5 col0\" >Tutorial</td>\n",
       "      <td id=\"T_19c72_row5_col1\" class=\"data row5 col1\" >840</td>\n",
       "      <td id=\"T_19c72_row5_col2\" class=\"data row5 col2\" >11.15%</td>\n",
       "    </tr>\n",
       "  </tbody>\n",
       "</table>\n"
      ],
      "text/plain": [
       "<pandas.io.formats.style.Styler at 0x7f9a9b9ad7c0>"
      ]
     },
     "execution_count": 22,
     "metadata": {},
     "output_type": "execute_result"
    }
   ],
   "source": [
    "# определим число пользователей по каждому событию\n",
    "event_logs = logs.groupby(by='event', as_index=False).agg({'user_id':'nunique'})\n",
    "\n",
    "# добавим строку с общим числом пользователей\n",
    "new_row = pd.Series(\n",
    "    data={'event':'All_Users', 'user_id':len(logs['user_id'].unique())}, name='x')\n",
    "event_logs = event_logs.append(new_row, ignore_index=False)\n",
    "\n",
    "# отсортируем события по числу пользователей\n",
    "event_logs = event_logs.sort_values(by='user_id', ascending=False).reset_index(drop=True)\n",
    "\n",
    "# добавим столбец, где рассчитаем долю пользователей по каждому событию от общего числа пользователей\n",
    "event_logs['percent_users'] = round(100*event_logs['user_id']/len(logs['user_id'].unique()), 2)\n",
    "event_logs.style.format({'percent_users':'{:.2f}%'})"
   ]
  },
  {
   "cell_type": "markdown",
   "metadata": {},
   "source": [
    "Логично предположить, что события происходят в следующем порядке:\n",
    "\n",
    "1) загрузка главной страницы,  \n",
    "2) загрузка страницы товара,  \n",
    "3) загрузка страницы \"корзина\",  \n",
    "4) успешная оплата.  \n",
    "\n",
    "Даже на первом шаге воронки мы не имеем 100% конверсии. Это может говорить о том, что пользователь может проходить сразу на страницу товара, минуя главную. Например, по прямой ссылке на эту страницу. Кроме того, в приложениях часто есть раздел с уже совершённымми заказами, где можно повторить заказ. В таком случае пользователь сразу окажется на странице \"корзина\".\n",
    "\n",
    "К странице \"руководство пользователя\" покупатели обращаются вне зависимости от всех остальных событий. Таким образом, событие 'Tutorial' следует исключить при расчете воронки.  \n",
    "Построим воронку событий, где посчитаем, какая доля пользователей проходит на следующий шаг воронки (от числа пользователей на предыдущем):"
   ]
  },
  {
   "cell_type": "code",
   "execution_count": 23,
   "metadata": {},
   "outputs": [
    {
     "data": {
      "application/vnd.plotly.v1+json": {
       "config": {
        "plotlyServerURL": "https://plot.ly"
       },
       "data": [
        {
         "textinfo": "value+percent previous",
         "type": "funnel",
         "x": [
          7534,
          7419,
          4593,
          3734,
          3539
         ],
         "y": [
          "All_Users",
          "MainScreenAppear",
          "OffersScreenAppear",
          "CartScreenAppear",
          "PaymentScreenSuccessful"
         ]
        }
       ],
       "layout": {
        "template": {
         "data": {
          "bar": [
           {
            "error_x": {
             "color": "#2a3f5f"
            },
            "error_y": {
             "color": "#2a3f5f"
            },
            "marker": {
             "line": {
              "color": "#E5ECF6",
              "width": 0.5
             },
             "pattern": {
              "fillmode": "overlay",
              "size": 10,
              "solidity": 0.2
             }
            },
            "type": "bar"
           }
          ],
          "barpolar": [
           {
            "marker": {
             "line": {
              "color": "#E5ECF6",
              "width": 0.5
             },
             "pattern": {
              "fillmode": "overlay",
              "size": 10,
              "solidity": 0.2
             }
            },
            "type": "barpolar"
           }
          ],
          "carpet": [
           {
            "aaxis": {
             "endlinecolor": "#2a3f5f",
             "gridcolor": "white",
             "linecolor": "white",
             "minorgridcolor": "white",
             "startlinecolor": "#2a3f5f"
            },
            "baxis": {
             "endlinecolor": "#2a3f5f",
             "gridcolor": "white",
             "linecolor": "white",
             "minorgridcolor": "white",
             "startlinecolor": "#2a3f5f"
            },
            "type": "carpet"
           }
          ],
          "choropleth": [
           {
            "colorbar": {
             "outlinewidth": 0,
             "ticks": ""
            },
            "type": "choropleth"
           }
          ],
          "contour": [
           {
            "colorbar": {
             "outlinewidth": 0,
             "ticks": ""
            },
            "colorscale": [
             [
              0,
              "#0d0887"
             ],
             [
              0.1111111111111111,
              "#46039f"
             ],
             [
              0.2222222222222222,
              "#7201a8"
             ],
             [
              0.3333333333333333,
              "#9c179e"
             ],
             [
              0.4444444444444444,
              "#bd3786"
             ],
             [
              0.5555555555555556,
              "#d8576b"
             ],
             [
              0.6666666666666666,
              "#ed7953"
             ],
             [
              0.7777777777777778,
              "#fb9f3a"
             ],
             [
              0.8888888888888888,
              "#fdca26"
             ],
             [
              1,
              "#f0f921"
             ]
            ],
            "type": "contour"
           }
          ],
          "contourcarpet": [
           {
            "colorbar": {
             "outlinewidth": 0,
             "ticks": ""
            },
            "type": "contourcarpet"
           }
          ],
          "heatmap": [
           {
            "colorbar": {
             "outlinewidth": 0,
             "ticks": ""
            },
            "colorscale": [
             [
              0,
              "#0d0887"
             ],
             [
              0.1111111111111111,
              "#46039f"
             ],
             [
              0.2222222222222222,
              "#7201a8"
             ],
             [
              0.3333333333333333,
              "#9c179e"
             ],
             [
              0.4444444444444444,
              "#bd3786"
             ],
             [
              0.5555555555555556,
              "#d8576b"
             ],
             [
              0.6666666666666666,
              "#ed7953"
             ],
             [
              0.7777777777777778,
              "#fb9f3a"
             ],
             [
              0.8888888888888888,
              "#fdca26"
             ],
             [
              1,
              "#f0f921"
             ]
            ],
            "type": "heatmap"
           }
          ],
          "heatmapgl": [
           {
            "colorbar": {
             "outlinewidth": 0,
             "ticks": ""
            },
            "colorscale": [
             [
              0,
              "#0d0887"
             ],
             [
              0.1111111111111111,
              "#46039f"
             ],
             [
              0.2222222222222222,
              "#7201a8"
             ],
             [
              0.3333333333333333,
              "#9c179e"
             ],
             [
              0.4444444444444444,
              "#bd3786"
             ],
             [
              0.5555555555555556,
              "#d8576b"
             ],
             [
              0.6666666666666666,
              "#ed7953"
             ],
             [
              0.7777777777777778,
              "#fb9f3a"
             ],
             [
              0.8888888888888888,
              "#fdca26"
             ],
             [
              1,
              "#f0f921"
             ]
            ],
            "type": "heatmapgl"
           }
          ],
          "histogram": [
           {
            "marker": {
             "pattern": {
              "fillmode": "overlay",
              "size": 10,
              "solidity": 0.2
             }
            },
            "type": "histogram"
           }
          ],
          "histogram2d": [
           {
            "colorbar": {
             "outlinewidth": 0,
             "ticks": ""
            },
            "colorscale": [
             [
              0,
              "#0d0887"
             ],
             [
              0.1111111111111111,
              "#46039f"
             ],
             [
              0.2222222222222222,
              "#7201a8"
             ],
             [
              0.3333333333333333,
              "#9c179e"
             ],
             [
              0.4444444444444444,
              "#bd3786"
             ],
             [
              0.5555555555555556,
              "#d8576b"
             ],
             [
              0.6666666666666666,
              "#ed7953"
             ],
             [
              0.7777777777777778,
              "#fb9f3a"
             ],
             [
              0.8888888888888888,
              "#fdca26"
             ],
             [
              1,
              "#f0f921"
             ]
            ],
            "type": "histogram2d"
           }
          ],
          "histogram2dcontour": [
           {
            "colorbar": {
             "outlinewidth": 0,
             "ticks": ""
            },
            "colorscale": [
             [
              0,
              "#0d0887"
             ],
             [
              0.1111111111111111,
              "#46039f"
             ],
             [
              0.2222222222222222,
              "#7201a8"
             ],
             [
              0.3333333333333333,
              "#9c179e"
             ],
             [
              0.4444444444444444,
              "#bd3786"
             ],
             [
              0.5555555555555556,
              "#d8576b"
             ],
             [
              0.6666666666666666,
              "#ed7953"
             ],
             [
              0.7777777777777778,
              "#fb9f3a"
             ],
             [
              0.8888888888888888,
              "#fdca26"
             ],
             [
              1,
              "#f0f921"
             ]
            ],
            "type": "histogram2dcontour"
           }
          ],
          "mesh3d": [
           {
            "colorbar": {
             "outlinewidth": 0,
             "ticks": ""
            },
            "type": "mesh3d"
           }
          ],
          "parcoords": [
           {
            "line": {
             "colorbar": {
              "outlinewidth": 0,
              "ticks": ""
             }
            },
            "type": "parcoords"
           }
          ],
          "pie": [
           {
            "automargin": true,
            "type": "pie"
           }
          ],
          "scatter": [
           {
            "fillpattern": {
             "fillmode": "overlay",
             "size": 10,
             "solidity": 0.2
            },
            "type": "scatter"
           }
          ],
          "scatter3d": [
           {
            "line": {
             "colorbar": {
              "outlinewidth": 0,
              "ticks": ""
             }
            },
            "marker": {
             "colorbar": {
              "outlinewidth": 0,
              "ticks": ""
             }
            },
            "type": "scatter3d"
           }
          ],
          "scattercarpet": [
           {
            "marker": {
             "colorbar": {
              "outlinewidth": 0,
              "ticks": ""
             }
            },
            "type": "scattercarpet"
           }
          ],
          "scattergeo": [
           {
            "marker": {
             "colorbar": {
              "outlinewidth": 0,
              "ticks": ""
             }
            },
            "type": "scattergeo"
           }
          ],
          "scattergl": [
           {
            "marker": {
             "colorbar": {
              "outlinewidth": 0,
              "ticks": ""
             }
            },
            "type": "scattergl"
           }
          ],
          "scattermapbox": [
           {
            "marker": {
             "colorbar": {
              "outlinewidth": 0,
              "ticks": ""
             }
            },
            "type": "scattermapbox"
           }
          ],
          "scatterpolar": [
           {
            "marker": {
             "colorbar": {
              "outlinewidth": 0,
              "ticks": ""
             }
            },
            "type": "scatterpolar"
           }
          ],
          "scatterpolargl": [
           {
            "marker": {
             "colorbar": {
              "outlinewidth": 0,
              "ticks": ""
             }
            },
            "type": "scatterpolargl"
           }
          ],
          "scatterternary": [
           {
            "marker": {
             "colorbar": {
              "outlinewidth": 0,
              "ticks": ""
             }
            },
            "type": "scatterternary"
           }
          ],
          "surface": [
           {
            "colorbar": {
             "outlinewidth": 0,
             "ticks": ""
            },
            "colorscale": [
             [
              0,
              "#0d0887"
             ],
             [
              0.1111111111111111,
              "#46039f"
             ],
             [
              0.2222222222222222,
              "#7201a8"
             ],
             [
              0.3333333333333333,
              "#9c179e"
             ],
             [
              0.4444444444444444,
              "#bd3786"
             ],
             [
              0.5555555555555556,
              "#d8576b"
             ],
             [
              0.6666666666666666,
              "#ed7953"
             ],
             [
              0.7777777777777778,
              "#fb9f3a"
             ],
             [
              0.8888888888888888,
              "#fdca26"
             ],
             [
              1,
              "#f0f921"
             ]
            ],
            "type": "surface"
           }
          ],
          "table": [
           {
            "cells": {
             "fill": {
              "color": "#EBF0F8"
             },
             "line": {
              "color": "white"
             }
            },
            "header": {
             "fill": {
              "color": "#C8D4E3"
             },
             "line": {
              "color": "white"
             }
            },
            "type": "table"
           }
          ]
         },
         "layout": {
          "annotationdefaults": {
           "arrowcolor": "#2a3f5f",
           "arrowhead": 0,
           "arrowwidth": 1
          },
          "autotypenumbers": "strict",
          "coloraxis": {
           "colorbar": {
            "outlinewidth": 0,
            "ticks": ""
           }
          },
          "colorscale": {
           "diverging": [
            [
             0,
             "#8e0152"
            ],
            [
             0.1,
             "#c51b7d"
            ],
            [
             0.2,
             "#de77ae"
            ],
            [
             0.3,
             "#f1b6da"
            ],
            [
             0.4,
             "#fde0ef"
            ],
            [
             0.5,
             "#f7f7f7"
            ],
            [
             0.6,
             "#e6f5d0"
            ],
            [
             0.7,
             "#b8e186"
            ],
            [
             0.8,
             "#7fbc41"
            ],
            [
             0.9,
             "#4d9221"
            ],
            [
             1,
             "#276419"
            ]
           ],
           "sequential": [
            [
             0,
             "#0d0887"
            ],
            [
             0.1111111111111111,
             "#46039f"
            ],
            [
             0.2222222222222222,
             "#7201a8"
            ],
            [
             0.3333333333333333,
             "#9c179e"
            ],
            [
             0.4444444444444444,
             "#bd3786"
            ],
            [
             0.5555555555555556,
             "#d8576b"
            ],
            [
             0.6666666666666666,
             "#ed7953"
            ],
            [
             0.7777777777777778,
             "#fb9f3a"
            ],
            [
             0.8888888888888888,
             "#fdca26"
            ],
            [
             1,
             "#f0f921"
            ]
           ],
           "sequentialminus": [
            [
             0,
             "#0d0887"
            ],
            [
             0.1111111111111111,
             "#46039f"
            ],
            [
             0.2222222222222222,
             "#7201a8"
            ],
            [
             0.3333333333333333,
             "#9c179e"
            ],
            [
             0.4444444444444444,
             "#bd3786"
            ],
            [
             0.5555555555555556,
             "#d8576b"
            ],
            [
             0.6666666666666666,
             "#ed7953"
            ],
            [
             0.7777777777777778,
             "#fb9f3a"
            ],
            [
             0.8888888888888888,
             "#fdca26"
            ],
            [
             1,
             "#f0f921"
            ]
           ]
          },
          "colorway": [
           "#636efa",
           "#EF553B",
           "#00cc96",
           "#ab63fa",
           "#FFA15A",
           "#19d3f3",
           "#FF6692",
           "#B6E880",
           "#FF97FF",
           "#FECB52"
          ],
          "font": {
           "color": "#2a3f5f"
          },
          "geo": {
           "bgcolor": "white",
           "lakecolor": "white",
           "landcolor": "#E5ECF6",
           "showlakes": true,
           "showland": true,
           "subunitcolor": "white"
          },
          "hoverlabel": {
           "align": "left"
          },
          "hovermode": "closest",
          "mapbox": {
           "style": "light"
          },
          "paper_bgcolor": "white",
          "plot_bgcolor": "#E5ECF6",
          "polar": {
           "angularaxis": {
            "gridcolor": "white",
            "linecolor": "white",
            "ticks": ""
           },
           "bgcolor": "#E5ECF6",
           "radialaxis": {
            "gridcolor": "white",
            "linecolor": "white",
            "ticks": ""
           }
          },
          "scene": {
           "xaxis": {
            "backgroundcolor": "#E5ECF6",
            "gridcolor": "white",
            "gridwidth": 2,
            "linecolor": "white",
            "showbackground": true,
            "ticks": "",
            "zerolinecolor": "white"
           },
           "yaxis": {
            "backgroundcolor": "#E5ECF6",
            "gridcolor": "white",
            "gridwidth": 2,
            "linecolor": "white",
            "showbackground": true,
            "ticks": "",
            "zerolinecolor": "white"
           },
           "zaxis": {
            "backgroundcolor": "#E5ECF6",
            "gridcolor": "white",
            "gridwidth": 2,
            "linecolor": "white",
            "showbackground": true,
            "ticks": "",
            "zerolinecolor": "white"
           }
          },
          "shapedefaults": {
           "line": {
            "color": "#2a3f5f"
           }
          },
          "ternary": {
           "aaxis": {
            "gridcolor": "white",
            "linecolor": "white",
            "ticks": ""
           },
           "baxis": {
            "gridcolor": "white",
            "linecolor": "white",
            "ticks": ""
           },
           "bgcolor": "#E5ECF6",
           "caxis": {
            "gridcolor": "white",
            "linecolor": "white",
            "ticks": ""
           }
          },
          "title": {
           "x": 0.05
          },
          "xaxis": {
           "automargin": true,
           "gridcolor": "white",
           "linecolor": "white",
           "ticks": "",
           "title": {
            "standoff": 15
           },
           "zerolinecolor": "white",
           "zerolinewidth": 2
          },
          "yaxis": {
           "automargin": true,
           "gridcolor": "white",
           "linecolor": "white",
           "ticks": "",
           "title": {
            "standoff": 15
           },
           "zerolinecolor": "white",
           "zerolinewidth": 2
          }
         }
        }
       }
      },
      "text/html": [
       "<div>                            <div id=\"813f12c1-4a3f-46c9-979a-dc72990b6829\" class=\"plotly-graph-div\" style=\"height:525px; width:100%;\"></div>            <script type=\"text/javascript\">                require([\"plotly\"], function(Plotly) {                    window.PLOTLYENV=window.PLOTLYENV || {};                                    if (document.getElementById(\"813f12c1-4a3f-46c9-979a-dc72990b6829\")) {                    Plotly.newPlot(                        \"813f12c1-4a3f-46c9-979a-dc72990b6829\",                        [{\"textinfo\":\"value+percent previous\",\"x\":[7534,7419,4593,3734,3539],\"y\":[\"All_Users\",\"MainScreenAppear\",\"OffersScreenAppear\",\"CartScreenAppear\",\"PaymentScreenSuccessful\"],\"type\":\"funnel\"}],                        {\"template\":{\"data\":{\"histogram2dcontour\":[{\"type\":\"histogram2dcontour\",\"colorbar\":{\"outlinewidth\":0,\"ticks\":\"\"},\"colorscale\":[[0.0,\"#0d0887\"],[0.1111111111111111,\"#46039f\"],[0.2222222222222222,\"#7201a8\"],[0.3333333333333333,\"#9c179e\"],[0.4444444444444444,\"#bd3786\"],[0.5555555555555556,\"#d8576b\"],[0.6666666666666666,\"#ed7953\"],[0.7777777777777778,\"#fb9f3a\"],[0.8888888888888888,\"#fdca26\"],[1.0,\"#f0f921\"]]}],\"choropleth\":[{\"type\":\"choropleth\",\"colorbar\":{\"outlinewidth\":0,\"ticks\":\"\"}}],\"histogram2d\":[{\"type\":\"histogram2d\",\"colorbar\":{\"outlinewidth\":0,\"ticks\":\"\"},\"colorscale\":[[0.0,\"#0d0887\"],[0.1111111111111111,\"#46039f\"],[0.2222222222222222,\"#7201a8\"],[0.3333333333333333,\"#9c179e\"],[0.4444444444444444,\"#bd3786\"],[0.5555555555555556,\"#d8576b\"],[0.6666666666666666,\"#ed7953\"],[0.7777777777777778,\"#fb9f3a\"],[0.8888888888888888,\"#fdca26\"],[1.0,\"#f0f921\"]]}],\"heatmap\":[{\"type\":\"heatmap\",\"colorbar\":{\"outlinewidth\":0,\"ticks\":\"\"},\"colorscale\":[[0.0,\"#0d0887\"],[0.1111111111111111,\"#46039f\"],[0.2222222222222222,\"#7201a8\"],[0.3333333333333333,\"#9c179e\"],[0.4444444444444444,\"#bd3786\"],[0.5555555555555556,\"#d8576b\"],[0.6666666666666666,\"#ed7953\"],[0.7777777777777778,\"#fb9f3a\"],[0.8888888888888888,\"#fdca26\"],[1.0,\"#f0f921\"]]}],\"heatmapgl\":[{\"type\":\"heatmapgl\",\"colorbar\":{\"outlinewidth\":0,\"ticks\":\"\"},\"colorscale\":[[0.0,\"#0d0887\"],[0.1111111111111111,\"#46039f\"],[0.2222222222222222,\"#7201a8\"],[0.3333333333333333,\"#9c179e\"],[0.4444444444444444,\"#bd3786\"],[0.5555555555555556,\"#d8576b\"],[0.6666666666666666,\"#ed7953\"],[0.7777777777777778,\"#fb9f3a\"],[0.8888888888888888,\"#fdca26\"],[1.0,\"#f0f921\"]]}],\"contourcarpet\":[{\"type\":\"contourcarpet\",\"colorbar\":{\"outlinewidth\":0,\"ticks\":\"\"}}],\"contour\":[{\"type\":\"contour\",\"colorbar\":{\"outlinewidth\":0,\"ticks\":\"\"},\"colorscale\":[[0.0,\"#0d0887\"],[0.1111111111111111,\"#46039f\"],[0.2222222222222222,\"#7201a8\"],[0.3333333333333333,\"#9c179e\"],[0.4444444444444444,\"#bd3786\"],[0.5555555555555556,\"#d8576b\"],[0.6666666666666666,\"#ed7953\"],[0.7777777777777778,\"#fb9f3a\"],[0.8888888888888888,\"#fdca26\"],[1.0,\"#f0f921\"]]}],\"surface\":[{\"type\":\"surface\",\"colorbar\":{\"outlinewidth\":0,\"ticks\":\"\"},\"colorscale\":[[0.0,\"#0d0887\"],[0.1111111111111111,\"#46039f\"],[0.2222222222222222,\"#7201a8\"],[0.3333333333333333,\"#9c179e\"],[0.4444444444444444,\"#bd3786\"],[0.5555555555555556,\"#d8576b\"],[0.6666666666666666,\"#ed7953\"],[0.7777777777777778,\"#fb9f3a\"],[0.8888888888888888,\"#fdca26\"],[1.0,\"#f0f921\"]]}],\"mesh3d\":[{\"type\":\"mesh3d\",\"colorbar\":{\"outlinewidth\":0,\"ticks\":\"\"}}],\"scatter\":[{\"fillpattern\":{\"fillmode\":\"overlay\",\"size\":10,\"solidity\":0.2},\"type\":\"scatter\"}],\"parcoords\":[{\"type\":\"parcoords\",\"line\":{\"colorbar\":{\"outlinewidth\":0,\"ticks\":\"\"}}}],\"scatterpolargl\":[{\"type\":\"scatterpolargl\",\"marker\":{\"colorbar\":{\"outlinewidth\":0,\"ticks\":\"\"}}}],\"bar\":[{\"error_x\":{\"color\":\"#2a3f5f\"},\"error_y\":{\"color\":\"#2a3f5f\"},\"marker\":{\"line\":{\"color\":\"#E5ECF6\",\"width\":0.5},\"pattern\":{\"fillmode\":\"overlay\",\"size\":10,\"solidity\":0.2}},\"type\":\"bar\"}],\"scattergeo\":[{\"type\":\"scattergeo\",\"marker\":{\"colorbar\":{\"outlinewidth\":0,\"ticks\":\"\"}}}],\"scatterpolar\":[{\"type\":\"scatterpolar\",\"marker\":{\"colorbar\":{\"outlinewidth\":0,\"ticks\":\"\"}}}],\"histogram\":[{\"marker\":{\"pattern\":{\"fillmode\":\"overlay\",\"size\":10,\"solidity\":0.2}},\"type\":\"histogram\"}],\"scattergl\":[{\"type\":\"scattergl\",\"marker\":{\"colorbar\":{\"outlinewidth\":0,\"ticks\":\"\"}}}],\"scatter3d\":[{\"type\":\"scatter3d\",\"line\":{\"colorbar\":{\"outlinewidth\":0,\"ticks\":\"\"}},\"marker\":{\"colorbar\":{\"outlinewidth\":0,\"ticks\":\"\"}}}],\"scattermapbox\":[{\"type\":\"scattermapbox\",\"marker\":{\"colorbar\":{\"outlinewidth\":0,\"ticks\":\"\"}}}],\"scatterternary\":[{\"type\":\"scatterternary\",\"marker\":{\"colorbar\":{\"outlinewidth\":0,\"ticks\":\"\"}}}],\"scattercarpet\":[{\"type\":\"scattercarpet\",\"marker\":{\"colorbar\":{\"outlinewidth\":0,\"ticks\":\"\"}}}],\"carpet\":[{\"aaxis\":{\"endlinecolor\":\"#2a3f5f\",\"gridcolor\":\"white\",\"linecolor\":\"white\",\"minorgridcolor\":\"white\",\"startlinecolor\":\"#2a3f5f\"},\"baxis\":{\"endlinecolor\":\"#2a3f5f\",\"gridcolor\":\"white\",\"linecolor\":\"white\",\"minorgridcolor\":\"white\",\"startlinecolor\":\"#2a3f5f\"},\"type\":\"carpet\"}],\"table\":[{\"cells\":{\"fill\":{\"color\":\"#EBF0F8\"},\"line\":{\"color\":\"white\"}},\"header\":{\"fill\":{\"color\":\"#C8D4E3\"},\"line\":{\"color\":\"white\"}},\"type\":\"table\"}],\"barpolar\":[{\"marker\":{\"line\":{\"color\":\"#E5ECF6\",\"width\":0.5},\"pattern\":{\"fillmode\":\"overlay\",\"size\":10,\"solidity\":0.2}},\"type\":\"barpolar\"}],\"pie\":[{\"automargin\":true,\"type\":\"pie\"}]},\"layout\":{\"autotypenumbers\":\"strict\",\"colorway\":[\"#636efa\",\"#EF553B\",\"#00cc96\",\"#ab63fa\",\"#FFA15A\",\"#19d3f3\",\"#FF6692\",\"#B6E880\",\"#FF97FF\",\"#FECB52\"],\"font\":{\"color\":\"#2a3f5f\"},\"hovermode\":\"closest\",\"hoverlabel\":{\"align\":\"left\"},\"paper_bgcolor\":\"white\",\"plot_bgcolor\":\"#E5ECF6\",\"polar\":{\"bgcolor\":\"#E5ECF6\",\"angularaxis\":{\"gridcolor\":\"white\",\"linecolor\":\"white\",\"ticks\":\"\"},\"radialaxis\":{\"gridcolor\":\"white\",\"linecolor\":\"white\",\"ticks\":\"\"}},\"ternary\":{\"bgcolor\":\"#E5ECF6\",\"aaxis\":{\"gridcolor\":\"white\",\"linecolor\":\"white\",\"ticks\":\"\"},\"baxis\":{\"gridcolor\":\"white\",\"linecolor\":\"white\",\"ticks\":\"\"},\"caxis\":{\"gridcolor\":\"white\",\"linecolor\":\"white\",\"ticks\":\"\"}},\"coloraxis\":{\"colorbar\":{\"outlinewidth\":0,\"ticks\":\"\"}},\"colorscale\":{\"sequential\":[[0.0,\"#0d0887\"],[0.1111111111111111,\"#46039f\"],[0.2222222222222222,\"#7201a8\"],[0.3333333333333333,\"#9c179e\"],[0.4444444444444444,\"#bd3786\"],[0.5555555555555556,\"#d8576b\"],[0.6666666666666666,\"#ed7953\"],[0.7777777777777778,\"#fb9f3a\"],[0.8888888888888888,\"#fdca26\"],[1.0,\"#f0f921\"]],\"sequentialminus\":[[0.0,\"#0d0887\"],[0.1111111111111111,\"#46039f\"],[0.2222222222222222,\"#7201a8\"],[0.3333333333333333,\"#9c179e\"],[0.4444444444444444,\"#bd3786\"],[0.5555555555555556,\"#d8576b\"],[0.6666666666666666,\"#ed7953\"],[0.7777777777777778,\"#fb9f3a\"],[0.8888888888888888,\"#fdca26\"],[1.0,\"#f0f921\"]],\"diverging\":[[0,\"#8e0152\"],[0.1,\"#c51b7d\"],[0.2,\"#de77ae\"],[0.3,\"#f1b6da\"],[0.4,\"#fde0ef\"],[0.5,\"#f7f7f7\"],[0.6,\"#e6f5d0\"],[0.7,\"#b8e186\"],[0.8,\"#7fbc41\"],[0.9,\"#4d9221\"],[1,\"#276419\"]]},\"xaxis\":{\"gridcolor\":\"white\",\"linecolor\":\"white\",\"ticks\":\"\",\"title\":{\"standoff\":15},\"zerolinecolor\":\"white\",\"automargin\":true,\"zerolinewidth\":2},\"yaxis\":{\"gridcolor\":\"white\",\"linecolor\":\"white\",\"ticks\":\"\",\"title\":{\"standoff\":15},\"zerolinecolor\":\"white\",\"automargin\":true,\"zerolinewidth\":2},\"scene\":{\"xaxis\":{\"backgroundcolor\":\"#E5ECF6\",\"gridcolor\":\"white\",\"linecolor\":\"white\",\"showbackground\":true,\"ticks\":\"\",\"zerolinecolor\":\"white\",\"gridwidth\":2},\"yaxis\":{\"backgroundcolor\":\"#E5ECF6\",\"gridcolor\":\"white\",\"linecolor\":\"white\",\"showbackground\":true,\"ticks\":\"\",\"zerolinecolor\":\"white\",\"gridwidth\":2},\"zaxis\":{\"backgroundcolor\":\"#E5ECF6\",\"gridcolor\":\"white\",\"linecolor\":\"white\",\"showbackground\":true,\"ticks\":\"\",\"zerolinecolor\":\"white\",\"gridwidth\":2}},\"shapedefaults\":{\"line\":{\"color\":\"#2a3f5f\"}},\"annotationdefaults\":{\"arrowcolor\":\"#2a3f5f\",\"arrowhead\":0,\"arrowwidth\":1},\"geo\":{\"bgcolor\":\"white\",\"landcolor\":\"#E5ECF6\",\"subunitcolor\":\"white\",\"showland\":true,\"showlakes\":true,\"lakecolor\":\"white\"},\"title\":{\"x\":0.05},\"mapbox\":{\"style\":\"light\"}}}},                        {\"responsive\": true}                    ).then(function(){\n",
       "                            \n",
       "var gd = document.getElementById('813f12c1-4a3f-46c9-979a-dc72990b6829');\n",
       "var x = new MutationObserver(function (mutations, observer) {{\n",
       "        var display = window.getComputedStyle(gd).display;\n",
       "        if (!display || display === 'none') {{\n",
       "            console.log([gd, 'removed!']);\n",
       "            Plotly.purge(gd);\n",
       "            observer.disconnect();\n",
       "        }}\n",
       "}});\n",
       "\n",
       "// Listen for the removal of the full notebook cells\n",
       "var notebookContainer = gd.closest('#notebook-container');\n",
       "if (notebookContainer) {{\n",
       "    x.observe(notebookContainer, {childList: true});\n",
       "}}\n",
       "\n",
       "// Listen for the clearing of the current output cell\n",
       "var outputEl = gd.closest('.output');\n",
       "if (outputEl) {{\n",
       "    x.observe(outputEl, {childList: true});\n",
       "}}\n",
       "\n",
       "                        })                };                });            </script>        </div>"
      ]
     },
     "metadata": {},
     "output_type": "display_data"
    }
   ],
   "source": [
    "event_logs = event_logs.query('event != \"Tutorial\"')\n",
    "\n",
    "fig = go.Figure(\n",
    "    go.Funnel(\n",
    "        y=event_logs['event'].unique(),\n",
    "        x=event_logs['user_id'].unique(),\n",
    "        textinfo = 'value + percent previous'\n",
    "    )\n",
    ")\n",
    "\n",
    "fig.show() "
   ]
  },
  {
   "cell_type": "code",
   "execution_count": 24,
   "metadata": {},
   "outputs": [
    {
     "data": {
      "text/plain": [
       "'Доля пользователей, прошедших все этапы воронки: 46.97%'"
      ]
     },
     "execution_count": 24,
     "metadata": {},
     "output_type": "execute_result"
    }
   ],
   "source": [
    "# рассчитаем, сколько пользователей проходят все этапы воронки - \n",
    "# от открытия главной страницы до проведения успешной оплаты\n",
    "'{}{:.2%}'.format('Доля пользователей, прошедших все этапы воронки: ',\n",
    "                  (event_logs.loc[4, 'user_id']/event_logs.loc[0, 'user_id']))"
   ]
  },
  {
   "cell_type": "markdown",
   "metadata": {},
   "source": [
    "Из графика мы видим, что больше всего пользователей мы теряем на шаге \"переход на страницу товара\" - 38.1% пользователей, открывших главную страницу приложения, не переходят к следующему действию. Наименьшая потеря пользователей происходит на заключительном шаге - 94.8% пользователей, положивших товар в корзину, оформляют оплату.  \n",
    "47.0% пользователей проходят все шаги - от открытия главной страницы до проведения успешной оплаты.\n",
    "\n",
    "Интересно, как выглядит воронка событий в разрезе пользователей трёх групп. Построим такую воронку и посмотрим на то, согласуются ли данные разных групп между собой:"
   ]
  },
  {
   "cell_type": "code",
   "execution_count": 25,
   "metadata": {},
   "outputs": [
    {
     "data": {
      "text/html": [
       "<div>\n",
       "<style scoped>\n",
       "    .dataframe tbody tr th:only-of-type {\n",
       "        vertical-align: middle;\n",
       "    }\n",
       "\n",
       "    .dataframe tbody tr th {\n",
       "        vertical-align: top;\n",
       "    }\n",
       "\n",
       "    .dataframe thead th {\n",
       "        text-align: right;\n",
       "    }\n",
       "</style>\n",
       "<table border=\"1\" class=\"dataframe\">\n",
       "  <thead>\n",
       "    <tr style=\"text-align: right;\">\n",
       "      <th>group</th>\n",
       "      <th>event</th>\n",
       "      <th>246</th>\n",
       "      <th>247</th>\n",
       "      <th>248</th>\n",
       "    </tr>\n",
       "  </thead>\n",
       "  <tbody>\n",
       "    <tr>\n",
       "      <th>0</th>\n",
       "      <td>MainScreenAppear</td>\n",
       "      <td>2450</td>\n",
       "      <td>2476</td>\n",
       "      <td>2493</td>\n",
       "    </tr>\n",
       "    <tr>\n",
       "      <th>1</th>\n",
       "      <td>OffersScreenAppear</td>\n",
       "      <td>1542</td>\n",
       "      <td>1520</td>\n",
       "      <td>1531</td>\n",
       "    </tr>\n",
       "    <tr>\n",
       "      <th>2</th>\n",
       "      <td>CartScreenAppear</td>\n",
       "      <td>1266</td>\n",
       "      <td>1238</td>\n",
       "      <td>1230</td>\n",
       "    </tr>\n",
       "    <tr>\n",
       "      <th>3</th>\n",
       "      <td>PaymentScreenSuccessful</td>\n",
       "      <td>1200</td>\n",
       "      <td>1158</td>\n",
       "      <td>1181</td>\n",
       "    </tr>\n",
       "  </tbody>\n",
       "</table>\n",
       "</div>"
      ],
      "text/plain": [
       "group                    event   246   247   248\n",
       "0             MainScreenAppear  2450  2476  2493\n",
       "1           OffersScreenAppear  1542  1520  1531\n",
       "2             CartScreenAppear  1266  1238  1230\n",
       "3      PaymentScreenSuccessful  1200  1158  1181"
      ]
     },
     "execution_count": 25,
     "metadata": {},
     "output_type": "execute_result"
    }
   ],
   "source": [
    "# сгруппируем данные по событиям и по группам\n",
    "group_event_logs = (logs[logs['event']!='Tutorial'].pivot_table(\n",
    "    index='event',\n",
    "    columns='group',\n",
    "    values='user_id',\n",
    "    aggfunc='nunique').\n",
    "                    sort_values(by=246, ascending=False).reset_index())\n",
    "group_event_logs"
   ]
  },
  {
   "cell_type": "code",
   "execution_count": 26,
   "metadata": {},
   "outputs": [
    {
     "data": {
      "text/html": [
       "<div>\n",
       "<style scoped>\n",
       "    .dataframe tbody tr th:only-of-type {\n",
       "        vertical-align: middle;\n",
       "    }\n",
       "\n",
       "    .dataframe tbody tr th {\n",
       "        vertical-align: top;\n",
       "    }\n",
       "\n",
       "    .dataframe thead th {\n",
       "        text-align: right;\n",
       "    }\n",
       "</style>\n",
       "<table border=\"1\" class=\"dataframe\">\n",
       "  <thead>\n",
       "    <tr style=\"text-align: right;\">\n",
       "      <th>group</th>\n",
       "      <th>246</th>\n",
       "      <th>247</th>\n",
       "      <th>248</th>\n",
       "    </tr>\n",
       "  </thead>\n",
       "  <tbody>\n",
       "    <tr>\n",
       "      <th>user_id</th>\n",
       "      <td>2484</td>\n",
       "      <td>2513</td>\n",
       "      <td>2537</td>\n",
       "    </tr>\n",
       "  </tbody>\n",
       "</table>\n",
       "</div>"
      ],
      "text/plain": [
       "group     246   247   248\n",
       "user_id  2484  2513  2537"
      ]
     },
     "execution_count": 26,
     "metadata": {},
     "output_type": "execute_result"
    }
   ],
   "source": [
    "# посчитаем число пользователей в каждой группе\n",
    "group_event_total = (logs.pivot_table(\n",
    "    columns='group',\n",
    "    values='user_id',\n",
    "    aggfunc='nunique').\n",
    "                    sort_values(by=246, ascending=False))\n",
    "group_event_total"
   ]
  },
  {
   "cell_type": "code",
   "execution_count": 27,
   "metadata": {},
   "outputs": [
    {
     "data": {
      "text/html": [
       "<div>\n",
       "<style scoped>\n",
       "    .dataframe tbody tr th:only-of-type {\n",
       "        vertical-align: middle;\n",
       "    }\n",
       "\n",
       "    .dataframe tbody tr th {\n",
       "        vertical-align: top;\n",
       "    }\n",
       "\n",
       "    .dataframe thead th {\n",
       "        text-align: right;\n",
       "    }\n",
       "</style>\n",
       "<table border=\"1\" class=\"dataframe\">\n",
       "  <thead>\n",
       "    <tr style=\"text-align: right;\">\n",
       "      <th>group</th>\n",
       "      <th>246</th>\n",
       "      <th>247</th>\n",
       "      <th>248</th>\n",
       "    </tr>\n",
       "  </thead>\n",
       "  <tbody>\n",
       "    <tr>\n",
       "      <th>All_users</th>\n",
       "      <td>2484</td>\n",
       "      <td>2513</td>\n",
       "      <td>2537</td>\n",
       "    </tr>\n",
       "    <tr>\n",
       "      <th>MainScreenAppear</th>\n",
       "      <td>2450</td>\n",
       "      <td>2476</td>\n",
       "      <td>2493</td>\n",
       "    </tr>\n",
       "    <tr>\n",
       "      <th>OffersScreenAppear</th>\n",
       "      <td>1542</td>\n",
       "      <td>1520</td>\n",
       "      <td>1531</td>\n",
       "    </tr>\n",
       "    <tr>\n",
       "      <th>CartScreenAppear</th>\n",
       "      <td>1266</td>\n",
       "      <td>1238</td>\n",
       "      <td>1230</td>\n",
       "    </tr>\n",
       "    <tr>\n",
       "      <th>PaymentScreenSuccessful</th>\n",
       "      <td>1200</td>\n",
       "      <td>1158</td>\n",
       "      <td>1181</td>\n",
       "    </tr>\n",
       "  </tbody>\n",
       "</table>\n",
       "</div>"
      ],
      "text/plain": [
       "group                     246   247   248\n",
       "All_users                2484  2513  2537\n",
       "MainScreenAppear         2450  2476  2493\n",
       "OffersScreenAppear       1542  1520  1531\n",
       "CartScreenAppear         1266  1238  1230\n",
       "PaymentScreenSuccessful  1200  1158  1181"
      ]
     },
     "execution_count": 27,
     "metadata": {},
     "output_type": "execute_result"
    }
   ],
   "source": [
    "# объединим данные двух таблиц для будущей воронки\n",
    "\n",
    "group_funnel = pd.concat([group_event_total, group_event_logs],\n",
    "                         axis=0).set_index('event')\n",
    "group_funnel = group_funnel.set_axis(['All_users',\n",
    "                                     'MainScreenAppear',\n",
    "                                     'OffersScreenAppear',\n",
    "                                     'CartScreenAppear',\n",
    "                                     'PaymentScreenSuccessful'],\n",
    "                                     axis=0)\n",
    "group_funnel"
   ]
  },
  {
   "cell_type": "code",
   "execution_count": 28,
   "metadata": {},
   "outputs": [
    {
     "data": {
      "application/vnd.plotly.v1+json": {
       "config": {
        "plotlyServerURL": "https://plot.ly"
       },
       "data": [
        {
         "name": "246",
         "textinfo": "value+percent previous",
         "type": "funnel",
         "x": [
          2484,
          2450,
          1542,
          1266,
          1200
         ],
         "y": [
          "All_users",
          "MainScreenAppear",
          "OffersScreenAppear",
          "CartScreenAppear",
          "PaymentScreenSuccessful"
         ]
        },
        {
         "name": "247",
         "textinfo": "value+percent previous",
         "type": "funnel",
         "x": [
          2513,
          2476,
          1520,
          1238,
          1158
         ],
         "y": [
          "All_users",
          "MainScreenAppear",
          "OffersScreenAppear",
          "CartScreenAppear",
          "PaymentScreenSuccessful"
         ]
        },
        {
         "name": "248",
         "textinfo": "value+percent previous",
         "type": "funnel",
         "x": [
          2537,
          2493,
          1531,
          1230,
          1181
         ],
         "y": [
          "All_users",
          "MainScreenAppear",
          "OffersScreenAppear",
          "CartScreenAppear",
          "PaymentScreenSuccessful"
         ]
        }
       ],
       "layout": {
        "template": {
         "data": {
          "bar": [
           {
            "error_x": {
             "color": "#2a3f5f"
            },
            "error_y": {
             "color": "#2a3f5f"
            },
            "marker": {
             "line": {
              "color": "#E5ECF6",
              "width": 0.5
             },
             "pattern": {
              "fillmode": "overlay",
              "size": 10,
              "solidity": 0.2
             }
            },
            "type": "bar"
           }
          ],
          "barpolar": [
           {
            "marker": {
             "line": {
              "color": "#E5ECF6",
              "width": 0.5
             },
             "pattern": {
              "fillmode": "overlay",
              "size": 10,
              "solidity": 0.2
             }
            },
            "type": "barpolar"
           }
          ],
          "carpet": [
           {
            "aaxis": {
             "endlinecolor": "#2a3f5f",
             "gridcolor": "white",
             "linecolor": "white",
             "minorgridcolor": "white",
             "startlinecolor": "#2a3f5f"
            },
            "baxis": {
             "endlinecolor": "#2a3f5f",
             "gridcolor": "white",
             "linecolor": "white",
             "minorgridcolor": "white",
             "startlinecolor": "#2a3f5f"
            },
            "type": "carpet"
           }
          ],
          "choropleth": [
           {
            "colorbar": {
             "outlinewidth": 0,
             "ticks": ""
            },
            "type": "choropleth"
           }
          ],
          "contour": [
           {
            "colorbar": {
             "outlinewidth": 0,
             "ticks": ""
            },
            "colorscale": [
             [
              0,
              "#0d0887"
             ],
             [
              0.1111111111111111,
              "#46039f"
             ],
             [
              0.2222222222222222,
              "#7201a8"
             ],
             [
              0.3333333333333333,
              "#9c179e"
             ],
             [
              0.4444444444444444,
              "#bd3786"
             ],
             [
              0.5555555555555556,
              "#d8576b"
             ],
             [
              0.6666666666666666,
              "#ed7953"
             ],
             [
              0.7777777777777778,
              "#fb9f3a"
             ],
             [
              0.8888888888888888,
              "#fdca26"
             ],
             [
              1,
              "#f0f921"
             ]
            ],
            "type": "contour"
           }
          ],
          "contourcarpet": [
           {
            "colorbar": {
             "outlinewidth": 0,
             "ticks": ""
            },
            "type": "contourcarpet"
           }
          ],
          "heatmap": [
           {
            "colorbar": {
             "outlinewidth": 0,
             "ticks": ""
            },
            "colorscale": [
             [
              0,
              "#0d0887"
             ],
             [
              0.1111111111111111,
              "#46039f"
             ],
             [
              0.2222222222222222,
              "#7201a8"
             ],
             [
              0.3333333333333333,
              "#9c179e"
             ],
             [
              0.4444444444444444,
              "#bd3786"
             ],
             [
              0.5555555555555556,
              "#d8576b"
             ],
             [
              0.6666666666666666,
              "#ed7953"
             ],
             [
              0.7777777777777778,
              "#fb9f3a"
             ],
             [
              0.8888888888888888,
              "#fdca26"
             ],
             [
              1,
              "#f0f921"
             ]
            ],
            "type": "heatmap"
           }
          ],
          "heatmapgl": [
           {
            "colorbar": {
             "outlinewidth": 0,
             "ticks": ""
            },
            "colorscale": [
             [
              0,
              "#0d0887"
             ],
             [
              0.1111111111111111,
              "#46039f"
             ],
             [
              0.2222222222222222,
              "#7201a8"
             ],
             [
              0.3333333333333333,
              "#9c179e"
             ],
             [
              0.4444444444444444,
              "#bd3786"
             ],
             [
              0.5555555555555556,
              "#d8576b"
             ],
             [
              0.6666666666666666,
              "#ed7953"
             ],
             [
              0.7777777777777778,
              "#fb9f3a"
             ],
             [
              0.8888888888888888,
              "#fdca26"
             ],
             [
              1,
              "#f0f921"
             ]
            ],
            "type": "heatmapgl"
           }
          ],
          "histogram": [
           {
            "marker": {
             "pattern": {
              "fillmode": "overlay",
              "size": 10,
              "solidity": 0.2
             }
            },
            "type": "histogram"
           }
          ],
          "histogram2d": [
           {
            "colorbar": {
             "outlinewidth": 0,
             "ticks": ""
            },
            "colorscale": [
             [
              0,
              "#0d0887"
             ],
             [
              0.1111111111111111,
              "#46039f"
             ],
             [
              0.2222222222222222,
              "#7201a8"
             ],
             [
              0.3333333333333333,
              "#9c179e"
             ],
             [
              0.4444444444444444,
              "#bd3786"
             ],
             [
              0.5555555555555556,
              "#d8576b"
             ],
             [
              0.6666666666666666,
              "#ed7953"
             ],
             [
              0.7777777777777778,
              "#fb9f3a"
             ],
             [
              0.8888888888888888,
              "#fdca26"
             ],
             [
              1,
              "#f0f921"
             ]
            ],
            "type": "histogram2d"
           }
          ],
          "histogram2dcontour": [
           {
            "colorbar": {
             "outlinewidth": 0,
             "ticks": ""
            },
            "colorscale": [
             [
              0,
              "#0d0887"
             ],
             [
              0.1111111111111111,
              "#46039f"
             ],
             [
              0.2222222222222222,
              "#7201a8"
             ],
             [
              0.3333333333333333,
              "#9c179e"
             ],
             [
              0.4444444444444444,
              "#bd3786"
             ],
             [
              0.5555555555555556,
              "#d8576b"
             ],
             [
              0.6666666666666666,
              "#ed7953"
             ],
             [
              0.7777777777777778,
              "#fb9f3a"
             ],
             [
              0.8888888888888888,
              "#fdca26"
             ],
             [
              1,
              "#f0f921"
             ]
            ],
            "type": "histogram2dcontour"
           }
          ],
          "mesh3d": [
           {
            "colorbar": {
             "outlinewidth": 0,
             "ticks": ""
            },
            "type": "mesh3d"
           }
          ],
          "parcoords": [
           {
            "line": {
             "colorbar": {
              "outlinewidth": 0,
              "ticks": ""
             }
            },
            "type": "parcoords"
           }
          ],
          "pie": [
           {
            "automargin": true,
            "type": "pie"
           }
          ],
          "scatter": [
           {
            "fillpattern": {
             "fillmode": "overlay",
             "size": 10,
             "solidity": 0.2
            },
            "type": "scatter"
           }
          ],
          "scatter3d": [
           {
            "line": {
             "colorbar": {
              "outlinewidth": 0,
              "ticks": ""
             }
            },
            "marker": {
             "colorbar": {
              "outlinewidth": 0,
              "ticks": ""
             }
            },
            "type": "scatter3d"
           }
          ],
          "scattercarpet": [
           {
            "marker": {
             "colorbar": {
              "outlinewidth": 0,
              "ticks": ""
             }
            },
            "type": "scattercarpet"
           }
          ],
          "scattergeo": [
           {
            "marker": {
             "colorbar": {
              "outlinewidth": 0,
              "ticks": ""
             }
            },
            "type": "scattergeo"
           }
          ],
          "scattergl": [
           {
            "marker": {
             "colorbar": {
              "outlinewidth": 0,
              "ticks": ""
             }
            },
            "type": "scattergl"
           }
          ],
          "scattermapbox": [
           {
            "marker": {
             "colorbar": {
              "outlinewidth": 0,
              "ticks": ""
             }
            },
            "type": "scattermapbox"
           }
          ],
          "scatterpolar": [
           {
            "marker": {
             "colorbar": {
              "outlinewidth": 0,
              "ticks": ""
             }
            },
            "type": "scatterpolar"
           }
          ],
          "scatterpolargl": [
           {
            "marker": {
             "colorbar": {
              "outlinewidth": 0,
              "ticks": ""
             }
            },
            "type": "scatterpolargl"
           }
          ],
          "scatterternary": [
           {
            "marker": {
             "colorbar": {
              "outlinewidth": 0,
              "ticks": ""
             }
            },
            "type": "scatterternary"
           }
          ],
          "surface": [
           {
            "colorbar": {
             "outlinewidth": 0,
             "ticks": ""
            },
            "colorscale": [
             [
              0,
              "#0d0887"
             ],
             [
              0.1111111111111111,
              "#46039f"
             ],
             [
              0.2222222222222222,
              "#7201a8"
             ],
             [
              0.3333333333333333,
              "#9c179e"
             ],
             [
              0.4444444444444444,
              "#bd3786"
             ],
             [
              0.5555555555555556,
              "#d8576b"
             ],
             [
              0.6666666666666666,
              "#ed7953"
             ],
             [
              0.7777777777777778,
              "#fb9f3a"
             ],
             [
              0.8888888888888888,
              "#fdca26"
             ],
             [
              1,
              "#f0f921"
             ]
            ],
            "type": "surface"
           }
          ],
          "table": [
           {
            "cells": {
             "fill": {
              "color": "#EBF0F8"
             },
             "line": {
              "color": "white"
             }
            },
            "header": {
             "fill": {
              "color": "#C8D4E3"
             },
             "line": {
              "color": "white"
             }
            },
            "type": "table"
           }
          ]
         },
         "layout": {
          "annotationdefaults": {
           "arrowcolor": "#2a3f5f",
           "arrowhead": 0,
           "arrowwidth": 1
          },
          "autotypenumbers": "strict",
          "coloraxis": {
           "colorbar": {
            "outlinewidth": 0,
            "ticks": ""
           }
          },
          "colorscale": {
           "diverging": [
            [
             0,
             "#8e0152"
            ],
            [
             0.1,
             "#c51b7d"
            ],
            [
             0.2,
             "#de77ae"
            ],
            [
             0.3,
             "#f1b6da"
            ],
            [
             0.4,
             "#fde0ef"
            ],
            [
             0.5,
             "#f7f7f7"
            ],
            [
             0.6,
             "#e6f5d0"
            ],
            [
             0.7,
             "#b8e186"
            ],
            [
             0.8,
             "#7fbc41"
            ],
            [
             0.9,
             "#4d9221"
            ],
            [
             1,
             "#276419"
            ]
           ],
           "sequential": [
            [
             0,
             "#0d0887"
            ],
            [
             0.1111111111111111,
             "#46039f"
            ],
            [
             0.2222222222222222,
             "#7201a8"
            ],
            [
             0.3333333333333333,
             "#9c179e"
            ],
            [
             0.4444444444444444,
             "#bd3786"
            ],
            [
             0.5555555555555556,
             "#d8576b"
            ],
            [
             0.6666666666666666,
             "#ed7953"
            ],
            [
             0.7777777777777778,
             "#fb9f3a"
            ],
            [
             0.8888888888888888,
             "#fdca26"
            ],
            [
             1,
             "#f0f921"
            ]
           ],
           "sequentialminus": [
            [
             0,
             "#0d0887"
            ],
            [
             0.1111111111111111,
             "#46039f"
            ],
            [
             0.2222222222222222,
             "#7201a8"
            ],
            [
             0.3333333333333333,
             "#9c179e"
            ],
            [
             0.4444444444444444,
             "#bd3786"
            ],
            [
             0.5555555555555556,
             "#d8576b"
            ],
            [
             0.6666666666666666,
             "#ed7953"
            ],
            [
             0.7777777777777778,
             "#fb9f3a"
            ],
            [
             0.8888888888888888,
             "#fdca26"
            ],
            [
             1,
             "#f0f921"
            ]
           ]
          },
          "colorway": [
           "#636efa",
           "#EF553B",
           "#00cc96",
           "#ab63fa",
           "#FFA15A",
           "#19d3f3",
           "#FF6692",
           "#B6E880",
           "#FF97FF",
           "#FECB52"
          ],
          "font": {
           "color": "#2a3f5f"
          },
          "geo": {
           "bgcolor": "white",
           "lakecolor": "white",
           "landcolor": "#E5ECF6",
           "showlakes": true,
           "showland": true,
           "subunitcolor": "white"
          },
          "hoverlabel": {
           "align": "left"
          },
          "hovermode": "closest",
          "mapbox": {
           "style": "light"
          },
          "paper_bgcolor": "white",
          "plot_bgcolor": "#E5ECF6",
          "polar": {
           "angularaxis": {
            "gridcolor": "white",
            "linecolor": "white",
            "ticks": ""
           },
           "bgcolor": "#E5ECF6",
           "radialaxis": {
            "gridcolor": "white",
            "linecolor": "white",
            "ticks": ""
           }
          },
          "scene": {
           "xaxis": {
            "backgroundcolor": "#E5ECF6",
            "gridcolor": "white",
            "gridwidth": 2,
            "linecolor": "white",
            "showbackground": true,
            "ticks": "",
            "zerolinecolor": "white"
           },
           "yaxis": {
            "backgroundcolor": "#E5ECF6",
            "gridcolor": "white",
            "gridwidth": 2,
            "linecolor": "white",
            "showbackground": true,
            "ticks": "",
            "zerolinecolor": "white"
           },
           "zaxis": {
            "backgroundcolor": "#E5ECF6",
            "gridcolor": "white",
            "gridwidth": 2,
            "linecolor": "white",
            "showbackground": true,
            "ticks": "",
            "zerolinecolor": "white"
           }
          },
          "shapedefaults": {
           "line": {
            "color": "#2a3f5f"
           }
          },
          "ternary": {
           "aaxis": {
            "gridcolor": "white",
            "linecolor": "white",
            "ticks": ""
           },
           "baxis": {
            "gridcolor": "white",
            "linecolor": "white",
            "ticks": ""
           },
           "bgcolor": "#E5ECF6",
           "caxis": {
            "gridcolor": "white",
            "linecolor": "white",
            "ticks": ""
           }
          },
          "title": {
           "x": 0.05
          },
          "xaxis": {
           "automargin": true,
           "gridcolor": "white",
           "linecolor": "white",
           "ticks": "",
           "title": {
            "standoff": 15
           },
           "zerolinecolor": "white",
           "zerolinewidth": 2
          },
          "yaxis": {
           "automargin": true,
           "gridcolor": "white",
           "linecolor": "white",
           "ticks": "",
           "title": {
            "standoff": 15
           },
           "zerolinecolor": "white",
           "zerolinewidth": 2
          }
         }
        }
       }
      },
      "text/html": [
       "<div>                            <div id=\"b87a6a79-265b-4850-b239-2edcbec35c06\" class=\"plotly-graph-div\" style=\"height:525px; width:100%;\"></div>            <script type=\"text/javascript\">                require([\"plotly\"], function(Plotly) {                    window.PLOTLYENV=window.PLOTLYENV || {};                                    if (document.getElementById(\"b87a6a79-265b-4850-b239-2edcbec35c06\")) {                    Plotly.newPlot(                        \"b87a6a79-265b-4850-b239-2edcbec35c06\",                        [{\"name\":\"246\",\"textinfo\":\"value+percent previous\",\"x\":[2484,2450,1542,1266,1200],\"y\":[\"All_users\",\"MainScreenAppear\",\"OffersScreenAppear\",\"CartScreenAppear\",\"PaymentScreenSuccessful\"],\"type\":\"funnel\"},{\"name\":\"247\",\"textinfo\":\"value+percent previous\",\"x\":[2513,2476,1520,1238,1158],\"y\":[\"All_users\",\"MainScreenAppear\",\"OffersScreenAppear\",\"CartScreenAppear\",\"PaymentScreenSuccessful\"],\"type\":\"funnel\"},{\"name\":\"248\",\"textinfo\":\"value+percent previous\",\"x\":[2537,2493,1531,1230,1181],\"y\":[\"All_users\",\"MainScreenAppear\",\"OffersScreenAppear\",\"CartScreenAppear\",\"PaymentScreenSuccessful\"],\"type\":\"funnel\"}],                        {\"template\":{\"data\":{\"histogram2dcontour\":[{\"type\":\"histogram2dcontour\",\"colorbar\":{\"outlinewidth\":0,\"ticks\":\"\"},\"colorscale\":[[0.0,\"#0d0887\"],[0.1111111111111111,\"#46039f\"],[0.2222222222222222,\"#7201a8\"],[0.3333333333333333,\"#9c179e\"],[0.4444444444444444,\"#bd3786\"],[0.5555555555555556,\"#d8576b\"],[0.6666666666666666,\"#ed7953\"],[0.7777777777777778,\"#fb9f3a\"],[0.8888888888888888,\"#fdca26\"],[1.0,\"#f0f921\"]]}],\"choropleth\":[{\"type\":\"choropleth\",\"colorbar\":{\"outlinewidth\":0,\"ticks\":\"\"}}],\"histogram2d\":[{\"type\":\"histogram2d\",\"colorbar\":{\"outlinewidth\":0,\"ticks\":\"\"},\"colorscale\":[[0.0,\"#0d0887\"],[0.1111111111111111,\"#46039f\"],[0.2222222222222222,\"#7201a8\"],[0.3333333333333333,\"#9c179e\"],[0.4444444444444444,\"#bd3786\"],[0.5555555555555556,\"#d8576b\"],[0.6666666666666666,\"#ed7953\"],[0.7777777777777778,\"#fb9f3a\"],[0.8888888888888888,\"#fdca26\"],[1.0,\"#f0f921\"]]}],\"heatmap\":[{\"type\":\"heatmap\",\"colorbar\":{\"outlinewidth\":0,\"ticks\":\"\"},\"colorscale\":[[0.0,\"#0d0887\"],[0.1111111111111111,\"#46039f\"],[0.2222222222222222,\"#7201a8\"],[0.3333333333333333,\"#9c179e\"],[0.4444444444444444,\"#bd3786\"],[0.5555555555555556,\"#d8576b\"],[0.6666666666666666,\"#ed7953\"],[0.7777777777777778,\"#fb9f3a\"],[0.8888888888888888,\"#fdca26\"],[1.0,\"#f0f921\"]]}],\"heatmapgl\":[{\"type\":\"heatmapgl\",\"colorbar\":{\"outlinewidth\":0,\"ticks\":\"\"},\"colorscale\":[[0.0,\"#0d0887\"],[0.1111111111111111,\"#46039f\"],[0.2222222222222222,\"#7201a8\"],[0.3333333333333333,\"#9c179e\"],[0.4444444444444444,\"#bd3786\"],[0.5555555555555556,\"#d8576b\"],[0.6666666666666666,\"#ed7953\"],[0.7777777777777778,\"#fb9f3a\"],[0.8888888888888888,\"#fdca26\"],[1.0,\"#f0f921\"]]}],\"contourcarpet\":[{\"type\":\"contourcarpet\",\"colorbar\":{\"outlinewidth\":0,\"ticks\":\"\"}}],\"contour\":[{\"type\":\"contour\",\"colorbar\":{\"outlinewidth\":0,\"ticks\":\"\"},\"colorscale\":[[0.0,\"#0d0887\"],[0.1111111111111111,\"#46039f\"],[0.2222222222222222,\"#7201a8\"],[0.3333333333333333,\"#9c179e\"],[0.4444444444444444,\"#bd3786\"],[0.5555555555555556,\"#d8576b\"],[0.6666666666666666,\"#ed7953\"],[0.7777777777777778,\"#fb9f3a\"],[0.8888888888888888,\"#fdca26\"],[1.0,\"#f0f921\"]]}],\"surface\":[{\"type\":\"surface\",\"colorbar\":{\"outlinewidth\":0,\"ticks\":\"\"},\"colorscale\":[[0.0,\"#0d0887\"],[0.1111111111111111,\"#46039f\"],[0.2222222222222222,\"#7201a8\"],[0.3333333333333333,\"#9c179e\"],[0.4444444444444444,\"#bd3786\"],[0.5555555555555556,\"#d8576b\"],[0.6666666666666666,\"#ed7953\"],[0.7777777777777778,\"#fb9f3a\"],[0.8888888888888888,\"#fdca26\"],[1.0,\"#f0f921\"]]}],\"mesh3d\":[{\"type\":\"mesh3d\",\"colorbar\":{\"outlinewidth\":0,\"ticks\":\"\"}}],\"scatter\":[{\"fillpattern\":{\"fillmode\":\"overlay\",\"size\":10,\"solidity\":0.2},\"type\":\"scatter\"}],\"parcoords\":[{\"type\":\"parcoords\",\"line\":{\"colorbar\":{\"outlinewidth\":0,\"ticks\":\"\"}}}],\"scatterpolargl\":[{\"type\":\"scatterpolargl\",\"marker\":{\"colorbar\":{\"outlinewidth\":0,\"ticks\":\"\"}}}],\"bar\":[{\"error_x\":{\"color\":\"#2a3f5f\"},\"error_y\":{\"color\":\"#2a3f5f\"},\"marker\":{\"line\":{\"color\":\"#E5ECF6\",\"width\":0.5},\"pattern\":{\"fillmode\":\"overlay\",\"size\":10,\"solidity\":0.2}},\"type\":\"bar\"}],\"scattergeo\":[{\"type\":\"scattergeo\",\"marker\":{\"colorbar\":{\"outlinewidth\":0,\"ticks\":\"\"}}}],\"scatterpolar\":[{\"type\":\"scatterpolar\",\"marker\":{\"colorbar\":{\"outlinewidth\":0,\"ticks\":\"\"}}}],\"histogram\":[{\"marker\":{\"pattern\":{\"fillmode\":\"overlay\",\"size\":10,\"solidity\":0.2}},\"type\":\"histogram\"}],\"scattergl\":[{\"type\":\"scattergl\",\"marker\":{\"colorbar\":{\"outlinewidth\":0,\"ticks\":\"\"}}}],\"scatter3d\":[{\"type\":\"scatter3d\",\"line\":{\"colorbar\":{\"outlinewidth\":0,\"ticks\":\"\"}},\"marker\":{\"colorbar\":{\"outlinewidth\":0,\"ticks\":\"\"}}}],\"scattermapbox\":[{\"type\":\"scattermapbox\",\"marker\":{\"colorbar\":{\"outlinewidth\":0,\"ticks\":\"\"}}}],\"scatterternary\":[{\"type\":\"scatterternary\",\"marker\":{\"colorbar\":{\"outlinewidth\":0,\"ticks\":\"\"}}}],\"scattercarpet\":[{\"type\":\"scattercarpet\",\"marker\":{\"colorbar\":{\"outlinewidth\":0,\"ticks\":\"\"}}}],\"carpet\":[{\"aaxis\":{\"endlinecolor\":\"#2a3f5f\",\"gridcolor\":\"white\",\"linecolor\":\"white\",\"minorgridcolor\":\"white\",\"startlinecolor\":\"#2a3f5f\"},\"baxis\":{\"endlinecolor\":\"#2a3f5f\",\"gridcolor\":\"white\",\"linecolor\":\"white\",\"minorgridcolor\":\"white\",\"startlinecolor\":\"#2a3f5f\"},\"type\":\"carpet\"}],\"table\":[{\"cells\":{\"fill\":{\"color\":\"#EBF0F8\"},\"line\":{\"color\":\"white\"}},\"header\":{\"fill\":{\"color\":\"#C8D4E3\"},\"line\":{\"color\":\"white\"}},\"type\":\"table\"}],\"barpolar\":[{\"marker\":{\"line\":{\"color\":\"#E5ECF6\",\"width\":0.5},\"pattern\":{\"fillmode\":\"overlay\",\"size\":10,\"solidity\":0.2}},\"type\":\"barpolar\"}],\"pie\":[{\"automargin\":true,\"type\":\"pie\"}]},\"layout\":{\"autotypenumbers\":\"strict\",\"colorway\":[\"#636efa\",\"#EF553B\",\"#00cc96\",\"#ab63fa\",\"#FFA15A\",\"#19d3f3\",\"#FF6692\",\"#B6E880\",\"#FF97FF\",\"#FECB52\"],\"font\":{\"color\":\"#2a3f5f\"},\"hovermode\":\"closest\",\"hoverlabel\":{\"align\":\"left\"},\"paper_bgcolor\":\"white\",\"plot_bgcolor\":\"#E5ECF6\",\"polar\":{\"bgcolor\":\"#E5ECF6\",\"angularaxis\":{\"gridcolor\":\"white\",\"linecolor\":\"white\",\"ticks\":\"\"},\"radialaxis\":{\"gridcolor\":\"white\",\"linecolor\":\"white\",\"ticks\":\"\"}},\"ternary\":{\"bgcolor\":\"#E5ECF6\",\"aaxis\":{\"gridcolor\":\"white\",\"linecolor\":\"white\",\"ticks\":\"\"},\"baxis\":{\"gridcolor\":\"white\",\"linecolor\":\"white\",\"ticks\":\"\"},\"caxis\":{\"gridcolor\":\"white\",\"linecolor\":\"white\",\"ticks\":\"\"}},\"coloraxis\":{\"colorbar\":{\"outlinewidth\":0,\"ticks\":\"\"}},\"colorscale\":{\"sequential\":[[0.0,\"#0d0887\"],[0.1111111111111111,\"#46039f\"],[0.2222222222222222,\"#7201a8\"],[0.3333333333333333,\"#9c179e\"],[0.4444444444444444,\"#bd3786\"],[0.5555555555555556,\"#d8576b\"],[0.6666666666666666,\"#ed7953\"],[0.7777777777777778,\"#fb9f3a\"],[0.8888888888888888,\"#fdca26\"],[1.0,\"#f0f921\"]],\"sequentialminus\":[[0.0,\"#0d0887\"],[0.1111111111111111,\"#46039f\"],[0.2222222222222222,\"#7201a8\"],[0.3333333333333333,\"#9c179e\"],[0.4444444444444444,\"#bd3786\"],[0.5555555555555556,\"#d8576b\"],[0.6666666666666666,\"#ed7953\"],[0.7777777777777778,\"#fb9f3a\"],[0.8888888888888888,\"#fdca26\"],[1.0,\"#f0f921\"]],\"diverging\":[[0,\"#8e0152\"],[0.1,\"#c51b7d\"],[0.2,\"#de77ae\"],[0.3,\"#f1b6da\"],[0.4,\"#fde0ef\"],[0.5,\"#f7f7f7\"],[0.6,\"#e6f5d0\"],[0.7,\"#b8e186\"],[0.8,\"#7fbc41\"],[0.9,\"#4d9221\"],[1,\"#276419\"]]},\"xaxis\":{\"gridcolor\":\"white\",\"linecolor\":\"white\",\"ticks\":\"\",\"title\":{\"standoff\":15},\"zerolinecolor\":\"white\",\"automargin\":true,\"zerolinewidth\":2},\"yaxis\":{\"gridcolor\":\"white\",\"linecolor\":\"white\",\"ticks\":\"\",\"title\":{\"standoff\":15},\"zerolinecolor\":\"white\",\"automargin\":true,\"zerolinewidth\":2},\"scene\":{\"xaxis\":{\"backgroundcolor\":\"#E5ECF6\",\"gridcolor\":\"white\",\"linecolor\":\"white\",\"showbackground\":true,\"ticks\":\"\",\"zerolinecolor\":\"white\",\"gridwidth\":2},\"yaxis\":{\"backgroundcolor\":\"#E5ECF6\",\"gridcolor\":\"white\",\"linecolor\":\"white\",\"showbackground\":true,\"ticks\":\"\",\"zerolinecolor\":\"white\",\"gridwidth\":2},\"zaxis\":{\"backgroundcolor\":\"#E5ECF6\",\"gridcolor\":\"white\",\"linecolor\":\"white\",\"showbackground\":true,\"ticks\":\"\",\"zerolinecolor\":\"white\",\"gridwidth\":2}},\"shapedefaults\":{\"line\":{\"color\":\"#2a3f5f\"}},\"annotationdefaults\":{\"arrowcolor\":\"#2a3f5f\",\"arrowhead\":0,\"arrowwidth\":1},\"geo\":{\"bgcolor\":\"white\",\"landcolor\":\"#E5ECF6\",\"subunitcolor\":\"white\",\"showland\":true,\"showlakes\":true,\"lakecolor\":\"white\"},\"title\":{\"x\":0.05},\"mapbox\":{\"style\":\"light\"}}}},                        {\"responsive\": true}                    ).then(function(){\n",
       "                            \n",
       "var gd = document.getElementById('b87a6a79-265b-4850-b239-2edcbec35c06');\n",
       "var x = new MutationObserver(function (mutations, observer) {{\n",
       "        var display = window.getComputedStyle(gd).display;\n",
       "        if (!display || display === 'none') {{\n",
       "            console.log([gd, 'removed!']);\n",
       "            Plotly.purge(gd);\n",
       "            observer.disconnect();\n",
       "        }}\n",
       "}});\n",
       "\n",
       "// Listen for the removal of the full notebook cells\n",
       "var notebookContainer = gd.closest('#notebook-container');\n",
       "if (notebookContainer) {{\n",
       "    x.observe(notebookContainer, {childList: true});\n",
       "}}\n",
       "\n",
       "// Listen for the clearing of the current output cell\n",
       "var outputEl = gd.closest('.output');\n",
       "if (outputEl) {{\n",
       "    x.observe(outputEl, {childList: true});\n",
       "}}\n",
       "\n",
       "                        })                };                });            </script>        </div>"
      ]
     },
     "metadata": {},
     "output_type": "display_data"
    }
   ],
   "source": [
    "# построим воронку событий с разбивкой по группам\n",
    "fig = go.Figure()\n",
    "\n",
    "for i in (246, 247, 248):\n",
    "    fig.add_trace(go.Funnel(\n",
    "        name=i,\n",
    "        y= group_funnel.index.tolist(),\n",
    "        x= group_funnel[i].tolist(),\n",
    "        textinfo = 'value + percent previous'\n",
    "    )\n",
    ")\n",
    "    \n",
    "fig.show()"
   ]
  },
  {
   "cell_type": "markdown",
   "metadata": {},
   "source": [
    "Мы видим, что тенденции поведения пользователей трёх групп аналогичны общей воронке: больше всего пользователей \"теряется\" при переходе с главной страницы на страницу товара и подавляющее большинство пользователей, положивших товар в корзину, проводят успешную оплату (94-96%). Доля пользователей по каждому шагу не имеет большого разрыва между группами и составляет буквально 1-2%.\n",
    "\n",
    "Таким образом, изучив информацию о событиях, которые нашли отражение в нашей таблице, мы установили, что пользователь совершает 4 шага при приобретении товара:\n",
    "\n",
    "1) загрузка главной страницы,  \n",
    "2) загрузка страницы товара,  \n",
    "3) загрузка страницы \"корзина\",  \n",
    "4) успешная оплата.  \n",
    "\n",
    "Руководство пользователя покупатели часто не смотрят, это событие мы исключили при расчете воронки событий. Построив воронку событий, мы выяснили, что больше всего пользователей \"теряются\" при переходе от главной страницы на страницу товара. Подавляющее большинство пользователей, положивших товар в корзину, проводят успешную оплату."
   ]
  },
  {
   "cell_type": "markdown",
   "metadata": {},
   "source": [
    "<a id='anchor_5'></a>\n",
    "## Исследование результатов эксперимента"
   ]
  },
  {
   "cell_type": "markdown",
   "metadata": {},
   "source": [
    "Переходим к анализу результатов А/В-теста. Для начала выясним, сколько пользователей и событий в каждой экспериментальной группе:  "
   ]
  },
  {
   "cell_type": "code",
   "execution_count": 29,
   "metadata": {},
   "outputs": [
    {
     "data": {
      "text/html": [
       "<div>\n",
       "<style scoped>\n",
       "    .dataframe tbody tr th:only-of-type {\n",
       "        vertical-align: middle;\n",
       "    }\n",
       "\n",
       "    .dataframe tbody tr th {\n",
       "        vertical-align: top;\n",
       "    }\n",
       "\n",
       "    .dataframe thead th {\n",
       "        text-align: right;\n",
       "    }\n",
       "</style>\n",
       "<table border=\"1\" class=\"dataframe\">\n",
       "  <thead>\n",
       "    <tr style=\"text-align: right;\">\n",
       "      <th></th>\n",
       "      <th>group</th>\n",
       "      <th>event</th>\n",
       "      <th>user_id</th>\n",
       "      <th>events_per_user</th>\n",
       "    </tr>\n",
       "  </thead>\n",
       "  <tbody>\n",
       "    <tr>\n",
       "      <th>0</th>\n",
       "      <td>246</td>\n",
       "      <td>78985</td>\n",
       "      <td>2483</td>\n",
       "      <td>32.0</td>\n",
       "    </tr>\n",
       "    <tr>\n",
       "      <th>1</th>\n",
       "      <td>247</td>\n",
       "      <td>76684</td>\n",
       "      <td>2512</td>\n",
       "      <td>31.0</td>\n",
       "    </tr>\n",
       "    <tr>\n",
       "      <th>2</th>\n",
       "      <td>248</td>\n",
       "      <td>84213</td>\n",
       "      <td>2535</td>\n",
       "      <td>33.0</td>\n",
       "    </tr>\n",
       "  </tbody>\n",
       "</table>\n",
       "</div>"
      ],
      "text/plain": [
       "   group  event  user_id  events_per_user\n",
       "0    246  78985     2483             32.0\n",
       "1    247  76684     2512             31.0\n",
       "2    248  84213     2535             33.0"
      ]
     },
     "metadata": {},
     "output_type": "display_data"
    }
   ],
   "source": [
    "# при анализе результатов А/В-теста событие 'Tutorial' также следует исключить\n",
    "logs = logs.query('event != \"Tutorial\"')\n",
    "# определим число событий и пользователей по каждой группе\n",
    "group_exp = logs.groupby(by='group', as_index=False).agg(\n",
    "    {'event':'count', 'user_id':'nunique'})\n",
    "# добавим столбец, где рассчитаем число событий на каждого пользователя\n",
    "group_exp['events_per_user'] = round(group_exp['event']/group_exp['user_id'])\n",
    "display(group_exp)"
   ]
  },
  {
   "cell_type": "markdown",
   "metadata": {},
   "source": [
    "Мы видим, что небольшое различие в экспериментальных группах есть. Это говорит нам о неоптимальности разбиения данных по группам. Для будущих тестов следует несколько поработать с механикой выделения групп и, возможно, изменить подход к их выделению. Посмотрим, какова эта разница в процентном отношении:"
   ]
  },
  {
   "cell_type": "code",
   "execution_count": 30,
   "metadata": {},
   "outputs": [
    {
     "name": "stdout",
     "output_type": "stream",
     "text": [
      "Разница групп 246 и 247 составляет: 1.15%\n",
      "Разница групп 246 и 248 составляет: 2.05%\n"
     ]
    }
   ],
   "source": [
    "a_aa = 1-group_exp.loc[0, 'user_id']/group_exp.loc[1, 'user_id']\n",
    "print(f'Разница групп 246 и 247 составляет: {a_aa:.2%}')\n",
    "a_b = 1-group_exp.loc[0, 'user_id']/group_exp.loc[2, 'user_id']\n",
    "print(f'Разница групп 246 и 248 составляет: {a_b:.2%}')"
   ]
  },
  {
   "cell_type": "markdown",
   "metadata": {},
   "source": [
    "Важным условием успешности проведения А/В-теста является отсутствие в группах пересекающихся значений. Проверим это для нашего случая:"
   ]
  },
  {
   "cell_type": "code",
   "execution_count": 31,
   "metadata": {},
   "outputs": [
    {
     "name": "stdout",
     "output_type": "stream",
     "text": [
      "Количество уникальных пользователей в трёх группах: 7530\n",
      "[]\n",
      "Количество пересекающихся значений в группах: 0\n"
     ]
    }
   ],
   "source": [
    "print('Количество уникальных пользователей в трёх группах:', len( logs['user_id'].unique()))\n",
    "# составим списки уникальных пользователей для каждой группы\n",
    "group_a = logs.query('group == 246')['user_id'].unique()\n",
    "group_aa = logs.query('group == 247')['user_id'].unique()\n",
    "group_b = logs.query('group == 248')['user_id'].unique()\n",
    "# выделим пересекающиеся значения в отдельный список\n",
    "cross_users = np.intersect1d(group_b, group_a)\n",
    "print(cross_users)\n",
    "print('Количество пересекающихся значений в группах:', len(cross_users))"
   ]
  },
  {
   "cell_type": "code",
   "execution_count": 32,
   "metadata": {},
   "outputs": [
    {
     "name": "stdout",
     "output_type": "stream",
     "text": [
      "[]\n",
      "Количество пересекающихся значений в группах: 0\n"
     ]
    }
   ],
   "source": [
    "cross_users = np.intersect1d(group_b, group_aa)\n",
    "print(cross_users)\n",
    "print('Количество пересекающихся значений в группах:', len(cross_users))"
   ]
  },
  {
   "cell_type": "code",
   "execution_count": 33,
   "metadata": {},
   "outputs": [
    {
     "name": "stdout",
     "output_type": "stream",
     "text": [
      "[]\n",
      "Количество пересекающихся значений в группах: 0\n"
     ]
    }
   ],
   "source": [
    "cross_users = np.intersect1d(group_aa, group_a)\n",
    "print(cross_users)\n",
    "print('Количество пересекающихся значений в группах:', len(cross_users))"
   ]
  },
  {
   "cell_type": "markdown",
   "metadata": {},
   "source": [
    "Таким образом, мы не обнаружили пользователей, которые бы входили в состав нескольких групп одновременно."
   ]
  },
  {
   "cell_type": "markdown",
   "metadata": {},
   "source": [
    "### A/A-тест"
   ]
  },
  {
   "cell_type": "markdown",
   "metadata": {},
   "source": [
    "Чтобы проверить корректность всех механизмов и расчётов, у нас есть 2 контрольные группы для А/А-эксперимента.  \n",
    "Проверим, находят ли статистические критерии разницу между выборками 246 и 247. Для этого посчитаем долю каждой группы в общем чиcле пользователей и проверим гипотезы:\n",
    "\n",
    "**H_0:** доли каждой группы в общем чиcле пользователей равны,  \n",
    "**H_1:** доли каждой группы в общем чиcле пользователей отличаются.\n",
    "\n",
    "Для проверки гипотезы о равенстве долей используем критерий со стандартным нормальным распределением (z_value): со средним, равным нулю, и стандартным отклонением, равным единице:"
   ]
  },
  {
   "cell_type": "code",
   "execution_count": 34,
   "metadata": {},
   "outputs": [
    {
     "name": "stdout",
     "output_type": "stream",
     "text": [
      "p-значение:  0.6157227013842994\n",
      "Не получилось отвергнуть нулевую гипотезу, нет оснований считать доли разными\n"
     ]
    }
   ],
   "source": [
    "alpha = .05 # критический уровень статистической значимости\n",
    "\n",
    "successes = np.array([group_exp.loc[0, 'user_id'], group_exp.loc[1, 'user_id']])\n",
    "trials = np.array([len(logs['user_id'].unique()), len(logs['user_id'].unique())])\n",
    "\n",
    "# напишем функцию для расчета критерия z_value\n",
    "def z_value(successes, trials):\n",
    "\n",
    "    # пропорция успехов в первой группе:\n",
    "    p1 = successes[0]/trials[0]\n",
    "\n",
    "    # пропорция успехов во второй группе:\n",
    "    p2 = successes[1]/trials[1]\n",
    "\n",
    "    # пропорция успехов в комбинированном датасете:\n",
    "    p_combined = (successes[0] + successes[1]) / (trials[0] + trials[1])\n",
    "\n",
    "    # разница пропорций в датасетах\n",
    "    difference = p1 - p2 \n",
    "\n",
    "    # считаем статистику в ст.отклонениях стандартного нормального распределения\n",
    "    z_value = difference / mth.sqrt(\n",
    "        p_combined * (1 - p_combined) * (1 / trials[0] + 1 / trials[1])\n",
    "    )\n",
    "\n",
    "    # задаем стандартное нормальное распределение (среднее 0, ст.отклонение 1)\n",
    "    distr = st.norm(0, 1)\n",
    "\n",
    "    p_value = (1 - distr.cdf(abs(z_value))) * 2\n",
    "    return p_value\n",
    "\n",
    "print('p-значение: ', z_value(successes, trials))\n",
    "\n",
    "if z_value(successes, trials) < alpha:\n",
    "    print('Отвергаем нулевую гипотезу: между долями есть значимая разница')\n",
    "else:\n",
    "    print(\n",
    "        'Не получилось отвергнуть нулевую гипотезу, нет оснований считать доли разными'\n",
    "    )"
   ]
  },
  {
   "cell_type": "markdown",
   "metadata": {},
   "source": [
    "Таким образом, не получилось отвергнуть нулевую гипотезу, нет оснований разницу между выборками 246 и 247 считать статистически значимой.\n",
    "\n",
    "Найдём самое популярное событие. Посчитаем число пользователей, совершивших это событие в каждой из контрольных групп. Посчитаем долю пользователей, совершивших это событие."
   ]
  },
  {
   "cell_type": "code",
   "execution_count": 35,
   "metadata": {},
   "outputs": [
    {
     "data": {
      "text/html": [
       "<style type=\"text/css\">\n",
       "</style>\n",
       "<table id=\"T_1dc7b_\">\n",
       "  <thead>\n",
       "    <tr>\n",
       "      <th class=\"blank level0\" >&nbsp;</th>\n",
       "      <th class=\"col_heading level0 col0\" >group</th>\n",
       "      <th class=\"col_heading level0 col1\" >event</th>\n",
       "      <th class=\"col_heading level0 col2\" >user_id</th>\n",
       "      <th class=\"col_heading level0 col3\" >all_users</th>\n",
       "      <th class=\"col_heading level0 col4\" >successes_percent</th>\n",
       "    </tr>\n",
       "  </thead>\n",
       "  <tbody>\n",
       "    <tr>\n",
       "      <th id=\"T_1dc7b_level0_row0\" class=\"row_heading level0 row0\" >0</th>\n",
       "      <td id=\"T_1dc7b_row0_col0\" class=\"data row0 col0\" >248</td>\n",
       "      <td id=\"T_1dc7b_row0_col1\" class=\"data row0 col1\" >MainScreenAppear</td>\n",
       "      <td id=\"T_1dc7b_row0_col2\" class=\"data row0 col2\" >2493</td>\n",
       "      <td id=\"T_1dc7b_row0_col3\" class=\"data row0 col3\" >2535</td>\n",
       "      <td id=\"T_1dc7b_row0_col4\" class=\"data row0 col4\" >98.34%</td>\n",
       "    </tr>\n",
       "    <tr>\n",
       "      <th id=\"T_1dc7b_level0_row1\" class=\"row_heading level0 row1\" >1</th>\n",
       "      <td id=\"T_1dc7b_row1_col0\" class=\"data row1 col0\" >247</td>\n",
       "      <td id=\"T_1dc7b_row1_col1\" class=\"data row1 col1\" >MainScreenAppear</td>\n",
       "      <td id=\"T_1dc7b_row1_col2\" class=\"data row1 col2\" >2476</td>\n",
       "      <td id=\"T_1dc7b_row1_col3\" class=\"data row1 col3\" >2512</td>\n",
       "      <td id=\"T_1dc7b_row1_col4\" class=\"data row1 col4\" >98.57%</td>\n",
       "    </tr>\n",
       "    <tr>\n",
       "      <th id=\"T_1dc7b_level0_row2\" class=\"row_heading level0 row2\" >2</th>\n",
       "      <td id=\"T_1dc7b_row2_col0\" class=\"data row2 col0\" >246</td>\n",
       "      <td id=\"T_1dc7b_row2_col1\" class=\"data row2 col1\" >MainScreenAppear</td>\n",
       "      <td id=\"T_1dc7b_row2_col2\" class=\"data row2 col2\" >2450</td>\n",
       "      <td id=\"T_1dc7b_row2_col3\" class=\"data row2 col3\" >2483</td>\n",
       "      <td id=\"T_1dc7b_row2_col4\" class=\"data row2 col4\" >98.67%</td>\n",
       "    </tr>\n",
       "    <tr>\n",
       "      <th id=\"T_1dc7b_level0_row3\" class=\"row_heading level0 row3\" >3</th>\n",
       "      <td id=\"T_1dc7b_row3_col0\" class=\"data row3 col0\" >246</td>\n",
       "      <td id=\"T_1dc7b_row3_col1\" class=\"data row3 col1\" >OffersScreenAppear</td>\n",
       "      <td id=\"T_1dc7b_row3_col2\" class=\"data row3 col2\" >1542</td>\n",
       "      <td id=\"T_1dc7b_row3_col3\" class=\"data row3 col3\" >2483</td>\n",
       "      <td id=\"T_1dc7b_row3_col4\" class=\"data row3 col4\" >62.10%</td>\n",
       "    </tr>\n",
       "    <tr>\n",
       "      <th id=\"T_1dc7b_level0_row4\" class=\"row_heading level0 row4\" >4</th>\n",
       "      <td id=\"T_1dc7b_row4_col0\" class=\"data row4 col0\" >248</td>\n",
       "      <td id=\"T_1dc7b_row4_col1\" class=\"data row4 col1\" >OffersScreenAppear</td>\n",
       "      <td id=\"T_1dc7b_row4_col2\" class=\"data row4 col2\" >1531</td>\n",
       "      <td id=\"T_1dc7b_row4_col3\" class=\"data row4 col3\" >2535</td>\n",
       "      <td id=\"T_1dc7b_row4_col4\" class=\"data row4 col4\" >60.39%</td>\n",
       "    </tr>\n",
       "    <tr>\n",
       "      <th id=\"T_1dc7b_level0_row5\" class=\"row_heading level0 row5\" >5</th>\n",
       "      <td id=\"T_1dc7b_row5_col0\" class=\"data row5 col0\" >247</td>\n",
       "      <td id=\"T_1dc7b_row5_col1\" class=\"data row5 col1\" >OffersScreenAppear</td>\n",
       "      <td id=\"T_1dc7b_row5_col2\" class=\"data row5 col2\" >1520</td>\n",
       "      <td id=\"T_1dc7b_row5_col3\" class=\"data row5 col3\" >2512</td>\n",
       "      <td id=\"T_1dc7b_row5_col4\" class=\"data row5 col4\" >60.51%</td>\n",
       "    </tr>\n",
       "    <tr>\n",
       "      <th id=\"T_1dc7b_level0_row6\" class=\"row_heading level0 row6\" >6</th>\n",
       "      <td id=\"T_1dc7b_row6_col0\" class=\"data row6 col0\" >246</td>\n",
       "      <td id=\"T_1dc7b_row6_col1\" class=\"data row6 col1\" >CartScreenAppear</td>\n",
       "      <td id=\"T_1dc7b_row6_col2\" class=\"data row6 col2\" >1266</td>\n",
       "      <td id=\"T_1dc7b_row6_col3\" class=\"data row6 col3\" >2483</td>\n",
       "      <td id=\"T_1dc7b_row6_col4\" class=\"data row6 col4\" >50.99%</td>\n",
       "    </tr>\n",
       "    <tr>\n",
       "      <th id=\"T_1dc7b_level0_row7\" class=\"row_heading level0 row7\" >7</th>\n",
       "      <td id=\"T_1dc7b_row7_col0\" class=\"data row7 col0\" >247</td>\n",
       "      <td id=\"T_1dc7b_row7_col1\" class=\"data row7 col1\" >CartScreenAppear</td>\n",
       "      <td id=\"T_1dc7b_row7_col2\" class=\"data row7 col2\" >1238</td>\n",
       "      <td id=\"T_1dc7b_row7_col3\" class=\"data row7 col3\" >2512</td>\n",
       "      <td id=\"T_1dc7b_row7_col4\" class=\"data row7 col4\" >49.28%</td>\n",
       "    </tr>\n",
       "    <tr>\n",
       "      <th id=\"T_1dc7b_level0_row8\" class=\"row_heading level0 row8\" >8</th>\n",
       "      <td id=\"T_1dc7b_row8_col0\" class=\"data row8 col0\" >248</td>\n",
       "      <td id=\"T_1dc7b_row8_col1\" class=\"data row8 col1\" >CartScreenAppear</td>\n",
       "      <td id=\"T_1dc7b_row8_col2\" class=\"data row8 col2\" >1230</td>\n",
       "      <td id=\"T_1dc7b_row8_col3\" class=\"data row8 col3\" >2535</td>\n",
       "      <td id=\"T_1dc7b_row8_col4\" class=\"data row8 col4\" >48.52%</td>\n",
       "    </tr>\n",
       "    <tr>\n",
       "      <th id=\"T_1dc7b_level0_row9\" class=\"row_heading level0 row9\" >9</th>\n",
       "      <td id=\"T_1dc7b_row9_col0\" class=\"data row9 col0\" >246</td>\n",
       "      <td id=\"T_1dc7b_row9_col1\" class=\"data row9 col1\" >PaymentScreenSuccessful</td>\n",
       "      <td id=\"T_1dc7b_row9_col2\" class=\"data row9 col2\" >1200</td>\n",
       "      <td id=\"T_1dc7b_row9_col3\" class=\"data row9 col3\" >2483</td>\n",
       "      <td id=\"T_1dc7b_row9_col4\" class=\"data row9 col4\" >48.33%</td>\n",
       "    </tr>\n",
       "    <tr>\n",
       "      <th id=\"T_1dc7b_level0_row10\" class=\"row_heading level0 row10\" >10</th>\n",
       "      <td id=\"T_1dc7b_row10_col0\" class=\"data row10 col0\" >248</td>\n",
       "      <td id=\"T_1dc7b_row10_col1\" class=\"data row10 col1\" >PaymentScreenSuccessful</td>\n",
       "      <td id=\"T_1dc7b_row10_col2\" class=\"data row10 col2\" >1181</td>\n",
       "      <td id=\"T_1dc7b_row10_col3\" class=\"data row10 col3\" >2535</td>\n",
       "      <td id=\"T_1dc7b_row10_col4\" class=\"data row10 col4\" >46.59%</td>\n",
       "    </tr>\n",
       "    <tr>\n",
       "      <th id=\"T_1dc7b_level0_row11\" class=\"row_heading level0 row11\" >11</th>\n",
       "      <td id=\"T_1dc7b_row11_col0\" class=\"data row11 col0\" >247</td>\n",
       "      <td id=\"T_1dc7b_row11_col1\" class=\"data row11 col1\" >PaymentScreenSuccessful</td>\n",
       "      <td id=\"T_1dc7b_row11_col2\" class=\"data row11 col2\" >1158</td>\n",
       "      <td id=\"T_1dc7b_row11_col3\" class=\"data row11 col3\" >2512</td>\n",
       "      <td id=\"T_1dc7b_row11_col4\" class=\"data row11 col4\" >46.10%</td>\n",
       "    </tr>\n",
       "  </tbody>\n",
       "</table>\n"
      ],
      "text/plain": [
       "<pandas.io.formats.style.Styler at 0x7f9a9c511220>"
      ]
     },
     "execution_count": 35,
     "metadata": {},
     "output_type": "execute_result"
    }
   ],
   "source": [
    "# определим число пользователей, совершиших событие по каждой группе\n",
    "group_event_exp = logs.groupby(by=['group', 'event'], as_index=False).agg(\n",
    "    {'user_id':'nunique'})\n",
    "group_event_exp = group_event_exp.merge(\n",
    "    group_exp[['user_id','group']].rename(columns = {'user_id':'all_users'}), on='group')\n",
    "# добавим столбец, где рассчитаем долю пользователей, совершивших событие \n",
    "group_event_exp['successes_percent'] = 100*group_event_exp[\n",
    "    'user_id']/group_event_exp['all_users']\n",
    "group_event_exp = group_event_exp.sort_values(by='user_id',\n",
    "                                              ascending=False).reset_index(drop=True)\n",
    "group_event_exp.style.format({'successes_percent':'{:.2f}%'})"
   ]
  },
  {
   "cell_type": "markdown",
   "metadata": {},
   "source": [
    "Самое популярное событие - \"загрузка главной страницы\". Проверим, будет ли отличие между группами 246 и 247 в части этого события статистически достоверным.  \n",
    "Проверим гипотезы:\n",
    "\n",
    "**H_0:** доли пользователей, совершивших событие, в общем чиcле пользователей группы равны,  \n",
    "**H_1:** эти доли отличаются."
   ]
  },
  {
   "cell_type": "code",
   "execution_count": 36,
   "metadata": {},
   "outputs": [
    {
     "name": "stdout",
     "output_type": "stream",
     "text": [
      "Событие: загрузка главной страницы\n",
      "p-значение:  0.7526703436483038\n",
      "Не получилось отвергнуть нулевую гипотезу, нет оснований считать доли разными\n"
     ]
    }
   ],
   "source": [
    "successes = np.array([group_event_exp.loc[2, 'user_id'],\n",
    "                      group_event_exp.loc[1, 'user_id']])\n",
    "trials = np.array([group_event_exp.loc[2, 'all_users'],\n",
    "                   group_event_exp.loc[1, 'all_users']])\n",
    "\n",
    "print('Событие: загрузка главной страницы')\n",
    "print('p-значение: ', z_value(successes, trials))\n",
    "\n",
    "if z_value(successes, trials) < alpha:\n",
    "    print('Отвергаем нулевую гипотезу: между долями есть значимая разница')\n",
    "else:\n",
    "    print(\n",
    "        'Не получилось отвергнуть нулевую гипотезу, нет оснований считать доли разными'\n",
    "    )"
   ]
  },
  {
   "cell_type": "markdown",
   "metadata": {},
   "source": [
    "Таким образом, не получилось отвергнуть нулевую гипотезу, т.е. нет оснований считать доли пользователей, загрузивших главную страницу в каждой из групп 246 и 247, разными.\n",
    "\n",
    "Проделаем то же самое для всех других событий. Проверим гипотезы:\n",
    "\n",
    "**H_0:** доли пользователей, совершивших событие, в общем чиcле пользователей группы равны,  \n",
    "**H_1:** эти доли отличаются."
   ]
  },
  {
   "cell_type": "code",
   "execution_count": 37,
   "metadata": {},
   "outputs": [
    {
     "name": "stdout",
     "output_type": "stream",
     "text": [
      "Событие: загрузка страницы товара\n",
      "p-значение:  0.24786096925282264\n",
      "Не получилось отвергнуть нулевую гипотезу, нет оснований считать доли разными\n",
      "\n",
      "Событие: загрузка страницы \"корзина\"\n",
      "p-значение:  0.22867643757335676\n",
      "Не получилось отвергнуть нулевую гипотезу, нет оснований считать доли разными\n",
      "\n",
      "Событие: успешная оплата\n",
      "p-значение:  0.11446627829276612\n",
      "Не получилось отвергнуть нулевую гипотезу, нет оснований считать доли разными\n"
     ]
    }
   ],
   "source": [
    "successes = np.array([group_event_exp.loc[3, 'user_id'],\n",
    "                      group_event_exp.loc[5, 'user_id']])\n",
    "\n",
    "print('Событие: загрузка страницы товара')\n",
    "print('p-значение: ', z_value(successes, trials))\n",
    "\n",
    "if z_value(successes, trials) < alpha:\n",
    "    print('Отвергаем нулевую гипотезу: между долями есть значимая разница')\n",
    "else:\n",
    "    print(\n",
    "        'Не получилось отвергнуть нулевую гипотезу, нет оснований считать доли разными'\n",
    "    )\n",
    "\n",
    "# следующее событие\n",
    "successes = np.array([group_event_exp.loc[6, 'user_id'],\n",
    "                      group_event_exp.loc[7, 'user_id']])\n",
    "\n",
    "print('')\n",
    "print('Событие: загрузка страницы \"корзина\"')\n",
    "print('p-значение: ', z_value(successes, trials))\n",
    "\n",
    "if z_value(successes, trials) < alpha:\n",
    "    print('Отвергаем нулевую гипотезу: между долями есть значимая разница')\n",
    "else:\n",
    "    print(\n",
    "        'Не получилось отвергнуть нулевую гипотезу, нет оснований считать доли разными'\n",
    "    )\n",
    "    \n",
    "# следующее событие\n",
    "successes = np.array([group_event_exp.loc[9, 'user_id'],\n",
    "                      group_event_exp.loc[11, 'user_id']])\n",
    "\n",
    "print('')\n",
    "print('Событие: успешная оплата')\n",
    "print('p-значение: ', z_value(successes, trials))\n",
    "\n",
    "if z_value(successes, trials) < alpha:\n",
    "    print('Отвергаем нулевую гипотезу: между долями есть значимая разница')\n",
    "else:\n",
    "    print(\n",
    "        'Не получилось отвергнуть нулевую гипотезу, нет оснований считать доли разными'\n",
    "    )"
   ]
  },
  {
   "cell_type": "markdown",
   "metadata": {},
   "source": [
    "В результате по каждому событию мы получили одинаковый результат: нет оснований считать доли пользователей, совершивших действие в каждой из групп 246 и 247, разными. Таким образом, мы проанализировали результаты проведения А/А-теста, и можно сказать, что разбиение на группы работает корректно, так как различие ключевых метрик не имеет статистической значимости."
   ]
  },
  {
   "cell_type": "markdown",
   "metadata": {},
   "source": [
    "### A/B-тест"
   ]
  },
  {
   "cell_type": "markdown",
   "metadata": {},
   "source": [
    "Поступим аналогично с группой с изменённым шрифтом (А/В-тест). Проверим гипотезы:\n",
    "\n",
    "**H_0:** доли каждой группы в общем чиcле пользователей равны,  \n",
    "**H_1:** доли каждой группы в общем чиcле пользователей отличаются."
   ]
  },
  {
   "cell_type": "code",
   "execution_count": 38,
   "metadata": {},
   "outputs": [
    {
     "name": "stdout",
     "output_type": "stream",
     "text": [
      "p-значение:  0.36867393977530094\n",
      "Не получилось отвергнуть нулевую гипотезу, нет оснований считать доли разными\n"
     ]
    }
   ],
   "source": [
    "successes = np.array([group_exp.loc[0, 'user_id'], group_exp.loc[2, 'user_id']])\n",
    "trials = np.array([len(logs['user_id'].unique()), len(logs['user_id'].unique())])\n",
    "\n",
    "print('p-значение: ', z_value(successes, trials))\n",
    "\n",
    "if z_value(successes, trials) < alpha:\n",
    "    print('Отвергаем нулевую гипотезу: между долями есть значимая разница')\n",
    "else:\n",
    "    print(\n",
    "        'Не получилось отвергнуть нулевую гипотезу, нет оснований считать доли разными'\n",
    "    )"
   ]
  },
  {
   "cell_type": "markdown",
   "metadata": {},
   "source": [
    "По результатам А/В-теста не получилось отвергнуть нулевую гипотезу, нет оснований считать доли групп 246 и 248 в общем числе пользователей разными.\n",
    "\n",
    "Проделаем то же самое для каждого события в группах 246 и 248. Проверим гипотезы:\n",
    "\n",
    "**H_0:** доли пользователей, совершивших событие, в общем чиcле пользователей группы равны,  \n",
    "**H_1:** эти доли отличаются."
   ]
  },
  {
   "cell_type": "code",
   "execution_count": 39,
   "metadata": {},
   "outputs": [
    {
     "name": "stdout",
     "output_type": "stream",
     "text": [
      "Событие: загрузка главной страницы\n",
      "p-значение:  0.3387114076159288\n",
      "Не получилось отвергнуть нулевую гипотезу, нет оснований считать доли разными\n",
      "\n",
      "Событие: загрузка страницы товара\n",
      "p-значение:  0.21442476639710506\n",
      "Не получилось отвергнуть нулевую гипотезу, нет оснований считать доли разными\n",
      "\n",
      "Событие: загрузка страницы \"корзина\"\n",
      "p-значение:  0.08067367598823139\n",
      "Не получилось отвергнуть нулевую гипотезу, нет оснований считать доли разными\n",
      "\n",
      "Событие: успешная оплата\n",
      "p-значение:  0.21693033984516674\n",
      "Не получилось отвергнуть нулевую гипотезу, нет оснований считать доли разными\n"
     ]
    }
   ],
   "source": [
    "successes = np.array([group_event_exp.loc[2, 'user_id'],\n",
    "                      group_event_exp.loc[0, 'user_id']])\n",
    "trials = np.array([group_event_exp.loc[2, 'all_users'],\n",
    "                   group_event_exp.loc[0, 'all_users']])\n",
    "\n",
    "print('Событие: загрузка главной страницы')\n",
    "print('p-значение: ', z_value(successes, trials))\n",
    "\n",
    "if z_value(successes, trials) < alpha:\n",
    "    print('Отвергаем нулевую гипотезу: между долями есть значимая разница')\n",
    "else:\n",
    "    print(\n",
    "        'Не получилось отвергнуть нулевую гипотезу, нет оснований считать доли разными'\n",
    "    )\n",
    "    \n",
    "# следующее событие\n",
    "successes = np.array([group_event_exp.loc[3, 'user_id'],\n",
    "                      group_event_exp.loc[4, 'user_id']])\n",
    "\n",
    "print('')\n",
    "print('Событие: загрузка страницы товара')\n",
    "print('p-значение: ', z_value(successes, trials))\n",
    "\n",
    "if z_value(successes, trials) < alpha:\n",
    "    print('Отвергаем нулевую гипотезу: между долями есть значимая разница')\n",
    "else:\n",
    "    print(\n",
    "        'Не получилось отвергнуть нулевую гипотезу, нет оснований считать доли разными'\n",
    "    )\n",
    "\n",
    "# следующее событие\n",
    "successes = np.array([group_event_exp.loc[6, 'user_id'],\n",
    "                      group_event_exp.loc[8, 'user_id']])\n",
    "\n",
    "print('')\n",
    "print('Событие: загрузка страницы \"корзина\"')\n",
    "print('p-значение: ', z_value(successes, trials))\n",
    "\n",
    "if z_value(successes, trials) < alpha:\n",
    "    print('Отвергаем нулевую гипотезу: между долями есть значимая разница')\n",
    "else:\n",
    "    print(\n",
    "        'Не получилось отвергнуть нулевую гипотезу, нет оснований считать доли разными'\n",
    "    )\n",
    "    \n",
    "# следующее событие\n",
    "successes = np.array([group_event_exp.loc[9, 'user_id'],\n",
    "                      group_event_exp.loc[10, 'user_id']])\n",
    "\n",
    "print('')\n",
    "print('Событие: успешная оплата')\n",
    "print('p-значение: ', z_value(successes, trials))\n",
    "\n",
    "if z_value(successes, trials) < alpha:\n",
    "    print('Отвергаем нулевую гипотезу: между долями есть значимая разница')\n",
    "else:\n",
    "    print(\n",
    "        'Не получилось отвергнуть нулевую гипотезу, нет оснований считать доли разными'\n",
    "    )"
   ]
  },
  {
   "cell_type": "markdown",
   "metadata": {},
   "source": [
    "Мы получили одинаковый результат по всем событиям в группах 246 и 248: нет оснований считать доли пользователей, совершивших действие в каждой из групп, разными. Таким образом, мы проанализировали результаты проведения А/В-теста, и можно сказать, что различие ключевых метрик не имеет статистической значимости.\n",
    "\n",
    "Проведём аналогичный тест для групп 247 и 248. Сначала для общего числа пользователей в группе по отношении числу пользователей в всех трёх группах. Проверим гипотезы:\n",
    "\n",
    "**H_0:** доли каждой группы в общем чиcле пользователей равны,  \n",
    "**H_1:** доли каждой группы в общем чиcле пользователей отличаются."
   ]
  },
  {
   "cell_type": "code",
   "execution_count": 40,
   "metadata": {},
   "outputs": [
    {
     "name": "stdout",
     "output_type": "stream",
     "text": [
      "p-значение:  0.6913330430967497\n",
      "Не получилось отвергнуть нулевую гипотезу, нет оснований считать доли разными\n"
     ]
    }
   ],
   "source": [
    "successes = np.array([group_exp.loc[1, 'user_id'], group_exp.loc[2, 'user_id']])\n",
    "trials = np.array([len(logs['user_id'].unique()), len(logs['user_id'].unique())])\n",
    "\n",
    "print('p-значение: ', z_value(successes, trials))\n",
    "\n",
    "if z_value(successes, trials) < alpha:\n",
    "    print('Отвергаем нулевую гипотезу: между долями есть значимая разница')\n",
    "else:\n",
    "    print(\n",
    "        'Не получилось отвергнуть нулевую гипотезу, нет оснований считать доли разными'\n",
    "    )"
   ]
  },
  {
   "cell_type": "markdown",
   "metadata": {},
   "source": [
    "По результатам А/В-теста не получилось отвергнуть нулевую гипотезу, нет оснований считать доли групп 247 и 248 в общем числе пользователей разными.\n",
    "\n",
    "Проделаем то же самое для каждого события в группах 247 и 248. Проверим гипотезы:\n",
    "\n",
    "**H_0:** доли пользователей, совершивших событие, в общем чиcле пользователей группы равны,  \n",
    "**H_1:** эти доли отличаются."
   ]
  },
  {
   "cell_type": "code",
   "execution_count": 41,
   "metadata": {},
   "outputs": [
    {
     "name": "stdout",
     "output_type": "stream",
     "text": [
      "Событие: загрузка главной страницы\n",
      "p-значение:  0.5194964354051703\n",
      "Не получилось отвергнуть нулевую гипотезу, нет оснований считать доли разными\n",
      "\n",
      "Событие: загрузка страницы товара\n",
      "p-значение:  0.9333751305879443\n",
      "Не получилось отвергнуть нулевую гипотезу, нет оснований считать доли разными\n",
      "\n",
      "Событие: загрузка страницы \"корзина\"\n",
      "p-значение:  0.5878284605111943\n",
      "Не получилось отвергнуть нулевую гипотезу, нет оснований считать доли разными\n",
      "\n",
      "Событие: успешная оплата\n",
      "p-значение:  0.7275718682261119\n",
      "Не получилось отвергнуть нулевую гипотезу, нет оснований считать доли разными\n"
     ]
    }
   ],
   "source": [
    "successes = np.array([group_event_exp.loc[1, 'user_id'],\n",
    "                      group_event_exp.loc[0, 'user_id']])\n",
    "trials = np.array([group_event_exp.loc[1, 'all_users'],\n",
    "                   group_event_exp.loc[0, 'all_users']])\n",
    "\n",
    "print('Событие: загрузка главной страницы')\n",
    "print('p-значение: ', z_value(successes, trials))\n",
    "\n",
    "if z_value(successes, trials) < alpha:\n",
    "    print('Отвергаем нулевую гипотезу: между долями есть значимая разница')\n",
    "else:\n",
    "    print(\n",
    "        'Не получилось отвергнуть нулевую гипотезу, нет оснований считать доли разными'\n",
    "    )\n",
    "    \n",
    "# следующее событие\n",
    "successes = np.array([group_event_exp.loc[5, 'user_id'],\n",
    "                      group_event_exp.loc[4, 'user_id']])\n",
    "\n",
    "print('')\n",
    "print('Событие: загрузка страницы товара')\n",
    "print('p-значение: ', z_value(successes, trials))\n",
    "\n",
    "if z_value(successes, trials) < alpha:\n",
    "    print('Отвергаем нулевую гипотезу: между долями есть значимая разница')\n",
    "else:\n",
    "    print(\n",
    "        'Не получилось отвергнуть нулевую гипотезу, нет оснований считать доли разными'\n",
    "    )\n",
    "\n",
    "# следующее событие\n",
    "successes = np.array([group_event_exp.loc[7, 'user_id'],\n",
    "                      group_event_exp.loc[8, 'user_id']])\n",
    "\n",
    "print('')\n",
    "print('Событие: загрузка страницы \"корзина\"')\n",
    "print('p-значение: ', z_value(successes, trials))\n",
    "\n",
    "if z_value(successes, trials) < alpha:\n",
    "    print('Отвергаем нулевую гипотезу: между долями есть значимая разница')\n",
    "else:\n",
    "    print(\n",
    "        'Не получилось отвергнуть нулевую гипотезу, нет оснований считать доли разными'\n",
    "    )\n",
    "    \n",
    "# следующее событие\n",
    "successes = np.array([group_event_exp.loc[11, 'user_id'],\n",
    "                      group_event_exp.loc[10, 'user_id']])\n",
    "\n",
    "print('')\n",
    "print('Событие: успешная оплата')\n",
    "print('p-значение: ', z_value(successes, trials))\n",
    "\n",
    "if z_value(successes, trials) < alpha:\n",
    "    print('Отвергаем нулевую гипотезу: между долями есть значимая разница')\n",
    "else:\n",
    "    print(\n",
    "        'Не получилось отвергнуть нулевую гипотезу, нет оснований считать доли разными'\n",
    "    )"
   ]
  },
  {
   "cell_type": "markdown",
   "metadata": {},
   "source": [
    "Мы получили одинаковый результат по всем событиям в группах 247 и 248: нет оснований считать доли пользователей, совершивших действие в каждой из групп, разными. Таким образом, мы проанализировали результаты проведения А/В-теста, и можно сказать, что различие ключевых метрик не имеет статистической значимости."
   ]
  },
  {
   "cell_type": "markdown",
   "metadata": {},
   "source": [
    "### Тест для объединённой А группы и группы В"
   ]
  },
  {
   "cell_type": "markdown",
   "metadata": {},
   "source": [
    "Сравним результаты с объединённой контрольной группой (группа 246 + группа 247). Посмотрим, какие выводы из эксперимента можно будет сделать. Проверим гипотезы:\n",
    "\n",
    "**H_0:** доли объединённой контрольной группы и группы с изменённым шрифтом в общем числе пользователей равны,  \n",
    "**H_1:** эти доли отличаются."
   ]
  },
  {
   "cell_type": "code",
   "execution_count": 42,
   "metadata": {},
   "outputs": [
    {
     "name": "stdout",
     "output_type": "stream",
     "text": [
      "p-значение:  0.0\n",
      "Отвергаем нулевую гипотезу: между долями есть значимая разница\n"
     ]
    }
   ],
   "source": [
    "successes = np.array([group_exp.loc[0, 'user_id']+group_exp.loc[1, 'user_id'],\n",
    "                      group_exp.loc[2, 'user_id']])\n",
    "trials = np.array([len(logs['user_id'].unique()), len(logs['user_id'].unique())])\n",
    "\n",
    "print('p-значение: ', z_value(successes, trials))\n",
    "\n",
    "if z_value(successes, trials) < alpha:\n",
    "    print('Отвергаем нулевую гипотезу: между долями есть значимая разница')\n",
    "else:\n",
    "    print(\n",
    "        'Не получилось отвергнуть нулевую гипотезу, нет оснований считать доли разными'\n",
    "    )"
   ]
  },
  {
   "cell_type": "markdown",
   "metadata": {},
   "source": [
    "Мы отвергли нулевую гипотезу в пользу альтернативной. Это вполне предсказуемый результат, т.к. объединённая контрольная группа примерно вдвое больше группы с изменённым шрифтом, соответственно удельный вес этой группы составляет около двух третей от общего числа пользователей против одной трети, которая приходится на группу 248. Таким образом, разницу между долями можно считать статистически значимой.\n",
    "\n",
    "Изучим разницу долей объединённой группы и группы с изменнённым шрифтом для каждого события. Проверим гипотезы:\n",
    "\n",
    "**H_0:** доли пользователей объединённой контрольной группы и группы с изменённым шрифтом, совершивших событие, в общем чиcле пользователей группы равны,  \n",
    "**H_1:** эти доли отличаются."
   ]
  },
  {
   "cell_type": "code",
   "execution_count": 43,
   "metadata": {},
   "outputs": [
    {
     "name": "stdout",
     "output_type": "stream",
     "text": [
      "Событие: загрузка главной страницы\n",
      "p-значение:  0.3486684291093256\n",
      "Не получилось отвергнуть нулевую гипотезу, нет оснований считать доли разными\n",
      "\n",
      "Событие: загрузка страницы товара\n",
      "p-значение:  0.44582745409482394\n",
      "Не получилось отвергнуть нулевую гипотезу, нет оснований считать доли разными\n",
      "\n",
      "Событие: загрузка страницы \"корзина\"\n",
      "p-значение:  0.18683558686831558\n",
      "Не получилось отвергнуть нулевую гипотезу, нет оснований считать доли разными\n",
      "\n",
      "Событие: успешная оплата\n",
      "p-значение:  0.6107918742187335\n",
      "Не получилось отвергнуть нулевую гипотезу, нет оснований считать доли разными\n"
     ]
    }
   ],
   "source": [
    "successes = np.array([group_event_exp.loc[1, 'user_id']+group_event_exp.loc[2, 'user_id'],\n",
    "                      group_event_exp.loc[0, 'user_id']])\n",
    "trials = np.array([\n",
    "    group_event_exp.loc[1, 'all_users']+group_event_exp.loc[2, 'all_users'],\n",
    "    group_event_exp.loc[0, 'all_users']])\n",
    "\n",
    "print('Событие: загрузка главной страницы')\n",
    "print('p-значение: ', z_value(successes, trials))\n",
    "\n",
    "if z_value(successes, trials) < alpha:\n",
    "    print('Отвергаем нулевую гипотезу: между долями есть значимая разница')\n",
    "else:\n",
    "    print(\n",
    "        'Не получилось отвергнуть нулевую гипотезу, нет оснований считать доли разными'\n",
    "    )\n",
    "    \n",
    "# следующее событие\n",
    "successes = np.array([group_event_exp.loc[3, 'user_id']+group_event_exp.loc[5, 'user_id'],\n",
    "                      group_event_exp.loc[4, 'user_id']])\n",
    "\n",
    "print('')\n",
    "print('Событие: загрузка страницы товара')\n",
    "print('p-значение: ', z_value(successes, trials))\n",
    "\n",
    "if z_value(successes, trials) < alpha:\n",
    "    print('Отвергаем нулевую гипотезу: между долями есть значимая разница')\n",
    "else:\n",
    "    print(\n",
    "        'Не получилось отвергнуть нулевую гипотезу, нет оснований считать доли разными'\n",
    "    )\n",
    "\n",
    "# следующее событие\n",
    "successes = np.array([group_event_exp.loc[6, 'user_id']+group_event_exp.loc[7, 'user_id'],\n",
    "                      group_event_exp.loc[8, 'user_id']])\n",
    "\n",
    "print('')\n",
    "print('Событие: загрузка страницы \"корзина\"')\n",
    "print('p-значение: ', z_value(successes, trials))\n",
    "\n",
    "if z_value(successes, trials) < alpha:\n",
    "    print('Отвергаем нулевую гипотезу: между долями есть значимая разница')\n",
    "else:\n",
    "    print(\n",
    "        'Не получилось отвергнуть нулевую гипотезу, нет оснований считать доли разными'\n",
    "    )\n",
    "    \n",
    "# следующее событие\n",
    "successes = np.array([group_event_exp.loc[9, 'user_id']+group_event_exp.loc[11, 'user_id'],\n",
    "                      group_event_exp.loc[10, 'user_id']])\n",
    "\n",
    "print('')\n",
    "print('Событие: успешная оплата')\n",
    "print('p-значение: ', z_value(successes, trials))\n",
    "\n",
    "if z_value(successes, trials) < alpha:\n",
    "    print('Отвергаем нулевую гипотезу: между долями есть значимая разница')\n",
    "else:\n",
    "    print(\n",
    "        'Не получилось отвергнуть нулевую гипотезу, нет оснований считать доли разными'\n",
    "    )"
   ]
  },
  {
   "cell_type": "markdown",
   "metadata": {},
   "source": [
    "Мы получили одинаковый результат по всем событиям в объединённой контрольной группе (группа 246 + группа 247) и группе с изменённм шрифом (248): нет оснований считать доли пользователей, совершивших действие в каждой из групп, разными. Таким образом, мы проанализировали результаты проведения А/В-теста, и можно сказать, что различие ключевых метрик не имеет статистической значимости. Нет оснований полагать, что изменённый шрифт влияет на поведение пользователей как в лучшую, так и в худшую сторону.\n",
    "\n",
    "Мы тестировали нашу гипотезу в разных вариациях - это множественный тест. Его важная особенность в том, что с каждой новой проверкой гипотезы растёт вероятность ошибки первого рода. Чтобы снизить вероятность ложнопозитивного результата при множественном тестировании гипотез, применяют разные методы корректировки уровня значимости для уменьшения группового коэффициента ошибок. Самая грубая и распространённая поправка к требуемым уровням значимости - *Метод Бонферрони (поправка Бонферрони)*. Суть данного метода заключается в том, что уровни значимости в каждом из m сравнений в m раз меньше, чем уровень значимости, требуемый при единственном сравнении. Проще говоря, делят уровень значимости ɑ на число гипотез. Однако в нашем эксперименете нет смысла применять поправочный коэффициент, т.к. все нулевые гипотезы не удалось отвергнуть при выбранном нами уровне значимости ɑ = 0.05. При данном уровне значимости каждый пятидесятый раз можно получать ложный результат. В результате нашего А/В-теста мы проверили 16 гипотез (по 2 гипотезы на каждое из 4-х событий при попарном сравнении трёх групп). Таким образом, нет шанса принять альтернативную гипотезу сравнивая расчетное z_value с уровнем ɑ, уменьшенным ещё в 16 раз.  \n",
    "Вместе с тем, имеет смысл изучить, какой уровень различий между группами критичен. Так, например, разница между группами может не превышать и процента, а \"вылиться\" компании в большие убытки. Возникает ошибка второго рода. Таким образом, приходится выбирать, что для нас важнее - значимость или мощность теста.\n",
    "\n",
    "Мы изучили результаты проведения А/А/В-теста. Сравнили, есть ли разница между долями пользователей, совершивших событие в каждой из двух контрольных групп и в группе с изменённым шрифтом. Проверяли следующие гипотезы:\n",
    "\n",
    "**H_0:** доли пользователей, совершивших событие, в общем чиcле пользователей группы равны,  \n",
    "**H_1:** эти доли отличаются.\n",
    "\n",
    "Для всех событий и для всех групп мы получили одинаковый результат: нет оснований считать доли пользователей, совершивших действие в каждой из групп, разными. Различие ключевых метрик не имеет статистической значимости. Далее мы проверили результаты ещё раз, сравнивая объединённую контрольную группу и группу с изменённым шрифтом - получили тот же результат. Таким образом, нет оснований полагать, что изменённый шрифт влияет на поведение пользователей как в лучшую, так и в худшую сторону."
   ]
  },
  {
   "cell_type": "markdown",
   "metadata": {},
   "source": [
    "<a id='anchor_6'></a>\n",
    "## Общий вывод"
   ]
  },
  {
   "cell_type": "markdown",
   "metadata": {},
   "source": [
    "Мы познакомились с данными, устранили явные дубликаты и адаптировали таблицу для исследования.  \n",
    "\n",
    "Мы установили период, за который собраны данные (с 25 июля 2019 года по 7 августа того же года). Однако, выяснили, что за первую неделю данные неполные, потому мы их удалили (в результате исследуемый период: с 1 по 7 августа 2019 года). После этого мы рассчитали количество пользователей и событий в каждой экспериментальной группе и убедились в том, что их наполняемость не пострадала. Среднее количество событий на одного пользователя также не изменилось (32 события в среднем как до, так и после \"чистки\" данных). Вместе с тем, в массиве данных имеются пользователи, которые совершили аномально много действий. В силу этого средняя величина завышает \"типичное\" для пользователя количество действий. Медианное значение показателя - 20 событий на пользователя.\n",
    "\n",
    "Построили воронку событий. Выяснили, что больше всего пользователей мы теряем на шаге \"переход на страницу товара\" - 38.1% пользователей, открывших главную страницу приложения, не переходят к следующему действию. Наименьшая потеря пользователей происходит на заключительном шаге - 94.8% пользователей, положивших товар в корзину, оформляют оплату.  \n",
    "47.0% пользователей проходят все шаги - от открытия главной страницы до проведения успешной оплаты.\n",
    "\n",
    "Таким образом, изучив информацию о событиях, которые нашли отражение в данных исследования, мы установили, что пользователь совершает 4 шага при приобретении товара:\n",
    "\n",
    "загрузка главной страницы → загрузка страницы товара → загрузка страницы \"корзина\" → успешная оплата.  \n",
    "\n",
    "Руководство пользователя покупатели часто не смотрят, это событие мы исключили при расчете воронки событий.\n",
    "\n",
    "Мы изучили результаты проведения А/А/В-теста. Сравнили, есть ли разница между долями пользователей, совершивших событие в каждой из двух контрольных групп и в группе с изменённым шрифтом. Проверяли следующие гипотезы:\n",
    "\n",
    "**H_0:** доли пользователей, совершивших событие, в общем чиcле пользователей группы равны,  \n",
    "**H_1:** эти доли отличаются.\n",
    "\n",
    "Для всех событий и для всех групп мы получили одинаковый результат: нет оснований считать доли пользователей, совершивших действие в каждой из групп, разными. Различие ключевых метрик не имеет статистической значимости. Далее мы проверили результаты ещё раз, сравнивая объединённую контрольную группу и группу с изменённым шрифтом - получили тот же результат. Таким образом, нет оснований полагать, что изменённый шрифт влияет на поведение пользователей как в лучшую, так и в худшую сторону. Изменение шрифтов можно провести, однако это не увеличит показатели.\n",
    "\n",
    "Мы тестировали нашу гипотезу в разных вариациях - это множественный тест. Его важная особенность в том, что с каждой новой проверкой гипотезы растёт вероятность ошибки первого рода. Чтобы снизить вероятность ложнопозитивного результата при множественном тестировании гипотез, применяют разные методы корректировки уровня значимости для уменьшения группового коэффициента ошибок. Самая грубая и распространённая поправка к требуемым уровням значимости - *Метод Бонферрони (поправка Бонферрони)*. Суть данного метода заключается в том, что уровни значимости в каждом из m сравнений в m раз меньше, чем уровень значимости, требуемый при единственном сравнении. Проще говоря, делят уровень значимости ɑ на число гипотез. Однако в нашем эксперименете нет смысла применять поправочный коэффициент, т.к. все нулевые гипотезы не удалось отвергнуть при выбранном нами уровне значимости ɑ = 0.05. При данном уровне значимости каждый пятидесятый раз можно получать ложный результат. В результате нашего А/В-теста мы проверили 16 гипотез (по 2 гипотезы на каждое из 4-х событий при попарном сравнении трёх групп). Таким образом, нет шанса принять альтернативную гипотезу сравнивая расчетное z_value с уровнем ɑ, уменьшенным ещё в 16 раз.  \n",
    "Вместе с тем, имеет смысл изучить, какой уровень различий между группами критичен. Так, например, разница между группами может не превышать и процента, а \"вылиться\" компании в большие убытки. Возникает ошибка второго рода. Таким образом, приходится выбирать, что для нас важнее - значимость или мощность теста."
   ]
  },
  {
   "cell_type": "code",
   "execution_count": null,
   "metadata": {},
   "outputs": [],
   "source": []
  }
 ],
 "metadata": {
  "ExecuteTimeLog": [
   {
    "duration": 10347,
    "start_time": "2022-05-02T16:33:51.405Z"
   },
   {
    "duration": 223,
    "start_time": "2022-05-02T16:34:32.665Z"
   },
   {
    "duration": 28,
    "start_time": "2022-05-02T16:35:08.578Z"
   },
   {
    "duration": 14,
    "start_time": "2022-05-02T16:35:40.635Z"
   },
   {
    "duration": 99,
    "start_time": "2022-05-02T16:36:06.405Z"
   },
   {
    "duration": 103,
    "start_time": "2022-05-02T16:36:33.305Z"
   },
   {
    "duration": 13,
    "start_time": "2022-05-02T16:38:31.056Z"
   },
   {
    "duration": 28,
    "start_time": "2022-05-02T16:38:58.366Z"
   },
   {
    "duration": 163,
    "start_time": "2022-05-02T16:39:30.193Z"
   },
   {
    "duration": 4,
    "start_time": "2022-05-02T16:40:39.705Z"
   },
   {
    "duration": 9,
    "start_time": "2022-05-02T16:41:18.984Z"
   },
   {
    "duration": 10,
    "start_time": "2022-05-02T16:42:04.925Z"
   },
   {
    "duration": 7,
    "start_time": "2022-05-02T16:42:15.045Z"
   },
   {
    "duration": 55,
    "start_time": "2022-05-02T16:42:55.725Z"
   },
   {
    "duration": 45,
    "start_time": "2022-05-02T16:43:22.665Z"
   },
   {
    "duration": 1252,
    "start_time": "2022-05-02T16:43:54.006Z"
   },
   {
    "duration": 9880,
    "start_time": "2022-05-02T16:45:38.628Z"
   },
   {
    "duration": 235,
    "start_time": "2022-05-02T16:45:48.511Z"
   },
   {
    "duration": 35,
    "start_time": "2022-05-02T16:45:48.748Z"
   },
   {
    "duration": 14,
    "start_time": "2022-05-02T16:45:48.785Z"
   },
   {
    "duration": 117,
    "start_time": "2022-05-02T16:45:48.802Z"
   },
   {
    "duration": 115,
    "start_time": "2022-05-02T16:45:48.921Z"
   },
   {
    "duration": 19,
    "start_time": "2022-05-02T16:45:49.038Z"
   },
   {
    "duration": 32,
    "start_time": "2022-05-02T16:45:49.060Z"
   },
   {
    "duration": 180,
    "start_time": "2022-05-02T16:45:49.094Z"
   },
   {
    "duration": 5,
    "start_time": "2022-05-02T16:45:49.276Z"
   },
   {
    "duration": 12,
    "start_time": "2022-05-02T16:45:49.283Z"
   },
   {
    "duration": 7,
    "start_time": "2022-05-02T16:45:49.297Z"
   },
   {
    "duration": 87,
    "start_time": "2022-05-02T16:45:49.306Z"
   },
   {
    "duration": 38,
    "start_time": "2022-05-02T16:45:49.396Z"
   },
   {
    "duration": 1288,
    "start_time": "2022-05-02T16:45:49.436Z"
   },
   {
    "duration": 43,
    "start_time": "2022-05-02T16:45:50.727Z"
   },
   {
    "duration": 45,
    "start_time": "2022-05-02T16:46:09.279Z"
   },
   {
    "duration": 70,
    "start_time": "2022-05-02T16:46:41.619Z"
   },
   {
    "duration": 30,
    "start_time": "2022-05-02T16:47:44.005Z"
   },
   {
    "duration": 8,
    "start_time": "2022-05-02T16:48:37.138Z"
   },
   {
    "duration": 149,
    "start_time": "2022-05-02T16:49:12.987Z"
   },
   {
    "duration": 269,
    "start_time": "2022-05-02T16:49:52.840Z"
   },
   {
    "duration": 10330,
    "start_time": "2022-05-02T16:53:22.361Z"
   },
   {
    "duration": 328,
    "start_time": "2022-05-02T16:53:32.695Z"
   },
   {
    "duration": 50,
    "start_time": "2022-05-02T16:53:33.026Z"
   },
   {
    "duration": 14,
    "start_time": "2022-05-02T16:53:33.078Z"
   },
   {
    "duration": 145,
    "start_time": "2022-05-02T16:53:33.096Z"
   },
   {
    "duration": 144,
    "start_time": "2022-05-02T16:53:33.252Z"
   },
   {
    "duration": 10,
    "start_time": "2022-05-02T16:53:33.399Z"
   },
   {
    "duration": 58,
    "start_time": "2022-05-02T16:53:33.411Z"
   },
   {
    "duration": 243,
    "start_time": "2022-05-02T16:53:33.471Z"
   },
   {
    "duration": 5,
    "start_time": "2022-05-02T16:53:33.717Z"
   },
   {
    "duration": 28,
    "start_time": "2022-05-02T16:53:33.724Z"
   },
   {
    "duration": 10,
    "start_time": "2022-05-02T16:53:33.754Z"
   },
   {
    "duration": 54,
    "start_time": "2022-05-02T16:53:33.767Z"
   },
   {
    "duration": 68,
    "start_time": "2022-05-02T16:53:33.824Z"
   },
   {
    "duration": 1300,
    "start_time": "2022-05-02T16:53:33.894Z"
   },
   {
    "duration": 23,
    "start_time": "2022-05-02T16:53:35.196Z"
   },
   {
    "duration": 72,
    "start_time": "2022-05-02T16:53:35.221Z"
   },
   {
    "duration": 79,
    "start_time": "2022-05-02T16:53:35.296Z"
   },
   {
    "duration": 32,
    "start_time": "2022-05-02T16:53:35.377Z"
   },
   {
    "duration": 22,
    "start_time": "2022-05-02T16:53:35.411Z"
   },
   {
    "duration": 166,
    "start_time": "2022-05-02T16:53:35.435Z"
   },
   {
    "duration": 202,
    "start_time": "2022-05-02T16:53:35.604Z"
   },
   {
    "duration": 0,
    "start_time": "2022-05-02T16:53:35.809Z"
   },
   {
    "duration": 227,
    "start_time": "2022-05-02T16:53:48.887Z"
   },
   {
    "duration": 349,
    "start_time": "2022-05-02T16:54:55.097Z"
   },
   {
    "duration": 131,
    "start_time": "2022-05-02T16:55:05.746Z"
   },
   {
    "duration": 23053,
    "start_time": "2022-05-02T18:42:37.663Z"
   },
   {
    "duration": 201,
    "start_time": "2022-05-02T18:43:00.719Z"
   },
   {
    "duration": 36,
    "start_time": "2022-05-02T18:43:00.921Z"
   },
   {
    "duration": 12,
    "start_time": "2022-05-02T18:43:00.959Z"
   },
   {
    "duration": 78,
    "start_time": "2022-05-02T18:43:00.973Z"
   },
   {
    "duration": 72,
    "start_time": "2022-05-02T18:43:01.053Z"
   },
   {
    "duration": 8,
    "start_time": "2022-05-02T18:43:01.133Z"
   },
   {
    "duration": 40,
    "start_time": "2022-05-02T18:43:01.143Z"
   },
   {
    "duration": 135,
    "start_time": "2022-05-02T18:43:01.185Z"
   },
   {
    "duration": 5,
    "start_time": "2022-05-02T18:43:01.321Z"
   },
   {
    "duration": 29,
    "start_time": "2022-05-02T18:43:01.328Z"
   },
   {
    "duration": 7,
    "start_time": "2022-05-02T18:43:01.359Z"
   },
   {
    "duration": 41,
    "start_time": "2022-05-02T18:43:01.368Z"
   },
   {
    "duration": 44,
    "start_time": "2022-05-02T18:43:01.413Z"
   },
   {
    "duration": 1098,
    "start_time": "2022-05-02T18:43:01.461Z"
   },
   {
    "duration": 18,
    "start_time": "2022-05-02T18:43:02.561Z"
   },
   {
    "duration": 28,
    "start_time": "2022-05-02T18:43:02.580Z"
   },
   {
    "duration": 87,
    "start_time": "2022-05-02T18:43:02.609Z"
   },
   {
    "duration": 58,
    "start_time": "2022-05-02T18:43:02.698Z"
   },
   {
    "duration": 11,
    "start_time": "2022-05-02T18:43:02.758Z"
   },
   {
    "duration": 122,
    "start_time": "2022-05-02T18:43:02.771Z"
   },
   {
    "duration": 278,
    "start_time": "2022-05-02T18:43:02.895Z"
   },
   {
    "duration": 4,
    "start_time": "2022-05-02T18:43:03.175Z"
   },
   {
    "duration": 173,
    "start_time": "2022-05-02T18:43:03.181Z"
   },
   {
    "duration": 5,
    "start_time": "2022-05-02T18:43:03.355Z"
   },
   {
    "duration": 42,
    "start_time": "2022-05-02T18:43:22.953Z"
   },
   {
    "duration": 5,
    "start_time": "2022-05-02T18:43:33.988Z"
   },
   {
    "duration": 5,
    "start_time": "2022-05-02T18:43:51.596Z"
   },
   {
    "duration": 14,
    "start_time": "2022-05-02T18:44:21.915Z"
   },
   {
    "duration": 97,
    "start_time": "2022-05-02T18:44:47.616Z"
   },
   {
    "duration": 117,
    "start_time": "2022-05-02T18:45:22.915Z"
   },
   {
    "duration": 10,
    "start_time": "2022-05-02T18:45:56.477Z"
   },
   {
    "duration": 26,
    "start_time": "2022-05-02T18:46:32.561Z"
   },
   {
    "duration": 13,
    "start_time": "2022-05-02T18:47:02.393Z"
   },
   {
    "duration": 25,
    "start_time": "2022-05-02T18:47:33.454Z"
   },
   {
    "duration": 12,
    "start_time": "2022-05-02T18:48:20.075Z"
   },
   {
    "duration": 22,
    "start_time": "2022-05-02T18:48:36.273Z"
   },
   {
    "duration": 32,
    "start_time": "2022-05-02T18:48:46.429Z"
   },
   {
    "duration": 16,
    "start_time": "2022-05-02T18:48:49.769Z"
   },
   {
    "duration": 21,
    "start_time": "2022-05-02T18:49:07.660Z"
   },
   {
    "duration": 12,
    "start_time": "2022-05-02T18:49:14.263Z"
   },
   {
    "duration": 19,
    "start_time": "2022-05-02T18:50:14.510Z"
   },
   {
    "duration": 90,
    "start_time": "2022-05-02T18:51:29.629Z"
   },
   {
    "duration": 49474,
    "start_time": "2022-05-02T18:57:15.727Z"
   },
   {
    "duration": 214,
    "start_time": "2022-05-02T18:58:05.203Z"
   },
   {
    "duration": 30,
    "start_time": "2022-05-02T18:58:05.419Z"
   },
   {
    "duration": 44,
    "start_time": "2022-05-02T18:58:05.451Z"
   },
   {
    "duration": 83,
    "start_time": "2022-05-02T18:58:05.498Z"
   },
   {
    "duration": 80,
    "start_time": "2022-05-02T18:58:05.583Z"
   },
   {
    "duration": 14,
    "start_time": "2022-05-02T18:58:05.666Z"
   },
   {
    "duration": 23,
    "start_time": "2022-05-02T18:58:05.683Z"
   },
   {
    "duration": 143,
    "start_time": "2022-05-02T18:58:05.708Z"
   },
   {
    "duration": 6,
    "start_time": "2022-05-02T18:58:05.855Z"
   },
   {
    "duration": 26,
    "start_time": "2022-05-02T18:58:05.863Z"
   },
   {
    "duration": 10,
    "start_time": "2022-05-02T18:58:05.891Z"
   },
   {
    "duration": 46,
    "start_time": "2022-05-02T18:58:05.903Z"
   },
   {
    "duration": 44,
    "start_time": "2022-05-02T18:58:05.953Z"
   },
   {
    "duration": 996,
    "start_time": "2022-05-02T18:58:06.000Z"
   },
   {
    "duration": 17,
    "start_time": "2022-05-02T18:58:06.998Z"
   },
   {
    "duration": 62,
    "start_time": "2022-05-02T18:58:07.017Z"
   },
   {
    "duration": 75,
    "start_time": "2022-05-02T18:58:07.082Z"
   },
   {
    "duration": 39,
    "start_time": "2022-05-02T18:58:07.161Z"
   },
   {
    "duration": 8,
    "start_time": "2022-05-02T18:58:07.202Z"
   },
   {
    "duration": 118,
    "start_time": "2022-05-02T18:58:07.213Z"
   },
   {
    "duration": 207,
    "start_time": "2022-05-02T18:58:07.337Z"
   },
   {
    "duration": 10,
    "start_time": "2022-05-02T18:58:07.546Z"
   },
   {
    "duration": 211,
    "start_time": "2022-05-02T18:58:07.558Z"
   },
   {
    "duration": 6,
    "start_time": "2022-05-02T18:58:07.770Z"
   },
   {
    "duration": 51,
    "start_time": "2022-05-02T18:58:07.778Z"
   },
   {
    "duration": 10,
    "start_time": "2022-05-02T18:58:07.831Z"
   },
   {
    "duration": 52,
    "start_time": "2022-05-02T18:58:07.842Z"
   },
   {
    "duration": 15,
    "start_time": "2022-05-02T18:58:07.896Z"
   },
   {
    "duration": 87,
    "start_time": "2022-05-02T18:58:07.913Z"
   },
   {
    "duration": 9,
    "start_time": "2022-05-02T18:58:08.002Z"
   },
   {
    "duration": 37,
    "start_time": "2022-05-02T18:58:08.012Z"
   },
   {
    "duration": 27,
    "start_time": "2022-05-02T18:58:08.055Z"
   },
   {
    "duration": 23,
    "start_time": "2022-05-02T18:58:08.084Z"
   },
   {
    "duration": 14,
    "start_time": "2022-05-02T18:58:08.109Z"
   },
   {
    "duration": 41,
    "start_time": "2022-05-02T18:58:08.125Z"
   },
   {
    "duration": 11083,
    "start_time": "2022-05-03T15:40:01.814Z"
   },
   {
    "duration": 158,
    "start_time": "2022-05-03T15:40:12.899Z"
   },
   {
    "duration": 22,
    "start_time": "2022-05-03T15:40:13.059Z"
   },
   {
    "duration": 11,
    "start_time": "2022-05-03T15:40:13.083Z"
   },
   {
    "duration": 81,
    "start_time": "2022-05-03T15:40:13.096Z"
   },
   {
    "duration": 64,
    "start_time": "2022-05-03T15:40:13.178Z"
   },
   {
    "duration": 14,
    "start_time": "2022-05-03T15:40:13.244Z"
   },
   {
    "duration": 18,
    "start_time": "2022-05-03T15:40:13.260Z"
   },
   {
    "duration": 123,
    "start_time": "2022-05-03T15:40:13.279Z"
   },
   {
    "duration": 4,
    "start_time": "2022-05-03T15:40:13.405Z"
   },
   {
    "duration": 11,
    "start_time": "2022-05-03T15:40:13.411Z"
   },
   {
    "duration": 7,
    "start_time": "2022-05-03T15:40:13.424Z"
   },
   {
    "duration": 52,
    "start_time": "2022-05-03T15:40:13.433Z"
   },
   {
    "duration": 30,
    "start_time": "2022-05-03T15:40:13.486Z"
   },
   {
    "duration": 778,
    "start_time": "2022-05-03T15:40:13.517Z"
   },
   {
    "duration": 18,
    "start_time": "2022-05-03T15:40:14.297Z"
   },
   {
    "duration": 44,
    "start_time": "2022-05-03T15:40:14.316Z"
   },
   {
    "duration": 50,
    "start_time": "2022-05-03T15:40:14.362Z"
   },
   {
    "duration": 42,
    "start_time": "2022-05-03T15:40:14.414Z"
   },
   {
    "duration": 10,
    "start_time": "2022-05-03T15:40:14.458Z"
   },
   {
    "duration": 114,
    "start_time": "2022-05-03T15:40:14.470Z"
   },
   {
    "duration": 295,
    "start_time": "2022-05-03T15:40:14.586Z"
   },
   {
    "duration": 5,
    "start_time": "2022-05-03T15:40:14.884Z"
   },
   {
    "duration": 181,
    "start_time": "2022-05-03T15:40:14.891Z"
   },
   {
    "duration": 6,
    "start_time": "2022-05-03T15:40:15.074Z"
   },
   {
    "duration": 78,
    "start_time": "2022-05-03T15:40:15.083Z"
   },
   {
    "duration": 5,
    "start_time": "2022-05-03T15:40:15.163Z"
   },
   {
    "duration": 5,
    "start_time": "2022-05-03T15:40:15.173Z"
   },
   {
    "duration": 20,
    "start_time": "2022-05-03T15:40:15.181Z"
   },
   {
    "duration": 134,
    "start_time": "2022-05-03T15:40:15.203Z"
   },
   {
    "duration": 17,
    "start_time": "2022-05-03T15:40:15.340Z"
   },
   {
    "duration": 18,
    "start_time": "2022-05-03T15:40:15.359Z"
   },
   {
    "duration": 17,
    "start_time": "2022-05-03T15:40:15.379Z"
   },
   {
    "duration": 19,
    "start_time": "2022-05-03T15:40:15.398Z"
   },
   {
    "duration": 41,
    "start_time": "2022-05-03T15:40:15.418Z"
   },
   {
    "duration": 21,
    "start_time": "2022-05-03T15:40:15.461Z"
   },
   {
    "duration": 7,
    "start_time": "2022-05-03T15:43:46.259Z"
   },
   {
    "duration": 9592,
    "start_time": "2022-05-06T13:10:21.844Z"
   },
   {
    "duration": 167,
    "start_time": "2022-05-06T13:10:31.438Z"
   },
   {
    "duration": 22,
    "start_time": "2022-05-06T13:10:31.607Z"
   },
   {
    "duration": 15,
    "start_time": "2022-05-06T13:10:31.631Z"
   },
   {
    "duration": 72,
    "start_time": "2022-05-06T13:10:31.648Z"
   },
   {
    "duration": 72,
    "start_time": "2022-05-06T13:10:31.721Z"
   },
   {
    "duration": 5,
    "start_time": "2022-05-06T13:10:31.795Z"
   },
   {
    "duration": 30,
    "start_time": "2022-05-06T13:10:31.802Z"
   },
   {
    "duration": 101,
    "start_time": "2022-05-06T13:10:31.833Z"
   },
   {
    "duration": 3,
    "start_time": "2022-05-06T13:10:31.937Z"
   },
   {
    "duration": 11,
    "start_time": "2022-05-06T13:10:31.941Z"
   },
   {
    "duration": 10,
    "start_time": "2022-05-06T13:10:31.954Z"
   },
   {
    "duration": 46,
    "start_time": "2022-05-06T13:10:31.966Z"
   },
   {
    "duration": 31,
    "start_time": "2022-05-06T13:10:32.013Z"
   },
   {
    "duration": 811,
    "start_time": "2022-05-06T13:10:32.045Z"
   },
   {
    "duration": 17,
    "start_time": "2022-05-06T13:10:32.858Z"
   },
   {
    "duration": 37,
    "start_time": "2022-05-06T13:10:32.877Z"
   },
   {
    "duration": 8,
    "start_time": "2022-05-06T13:10:32.916Z"
   },
   {
    "duration": 66,
    "start_time": "2022-05-06T13:10:32.926Z"
   },
   {
    "duration": 26,
    "start_time": "2022-05-06T13:10:32.994Z"
   },
   {
    "duration": 14,
    "start_time": "2022-05-06T13:10:33.022Z"
   },
   {
    "duration": 112,
    "start_time": "2022-05-06T13:10:33.038Z"
   },
   {
    "duration": 264,
    "start_time": "2022-05-06T13:10:33.152Z"
   },
   {
    "duration": 4,
    "start_time": "2022-05-06T13:10:33.418Z"
   },
   {
    "duration": 180,
    "start_time": "2022-05-06T13:10:33.424Z"
   },
   {
    "duration": 4,
    "start_time": "2022-05-06T13:10:33.606Z"
   },
   {
    "duration": 31,
    "start_time": "2022-05-06T13:10:33.612Z"
   },
   {
    "duration": 47,
    "start_time": "2022-05-06T13:10:33.647Z"
   },
   {
    "duration": 5,
    "start_time": "2022-05-06T13:10:33.696Z"
   },
   {
    "duration": 13,
    "start_time": "2022-05-06T13:10:33.703Z"
   },
   {
    "duration": 104,
    "start_time": "2022-05-06T13:10:33.718Z"
   },
   {
    "duration": 7,
    "start_time": "2022-05-06T13:10:33.824Z"
   },
   {
    "duration": 14,
    "start_time": "2022-05-06T13:10:33.833Z"
   },
   {
    "duration": 13,
    "start_time": "2022-05-06T13:10:33.848Z"
   },
   {
    "duration": 18,
    "start_time": "2022-05-06T13:10:33.893Z"
   },
   {
    "duration": 14,
    "start_time": "2022-05-06T13:10:33.913Z"
   },
   {
    "duration": 19,
    "start_time": "2022-05-06T13:10:33.929Z"
   },
   {
    "duration": 8,
    "start_time": "2022-05-06T13:12:25.644Z"
   },
   {
    "duration": 240,
    "start_time": "2022-05-06T13:39:49.884Z"
   },
   {
    "duration": 98,
    "start_time": "2022-05-06T13:40:35.976Z"
   },
   {
    "duration": 98,
    "start_time": "2022-05-06T13:40:54.521Z"
   },
   {
    "duration": 94,
    "start_time": "2022-05-06T13:41:44.874Z"
   },
   {
    "duration": 94,
    "start_time": "2022-05-06T13:42:37.414Z"
   },
   {
    "duration": 41,
    "start_time": "2022-05-06T13:45:00.500Z"
   },
   {
    "duration": 12,
    "start_time": "2022-05-06T13:48:05.393Z"
   },
   {
    "duration": 10,
    "start_time": "2022-05-06T13:48:26.255Z"
   },
   {
    "duration": 9,
    "start_time": "2022-05-06T13:49:20.503Z"
   },
   {
    "duration": 11,
    "start_time": "2022-05-06T13:51:49.325Z"
   },
   {
    "duration": 5,
    "start_time": "2022-05-06T13:52:36.861Z"
   },
   {
    "duration": 10,
    "start_time": "2022-05-06T13:52:42.572Z"
   },
   {
    "duration": 10,
    "start_time": "2022-05-06T13:53:09.619Z"
   },
   {
    "duration": 7672,
    "start_time": "2022-05-06T13:53:21.183Z"
   },
   {
    "duration": 169,
    "start_time": "2022-05-06T13:53:28.857Z"
   },
   {
    "duration": 22,
    "start_time": "2022-05-06T13:53:29.028Z"
   },
   {
    "duration": 11,
    "start_time": "2022-05-06T13:53:29.052Z"
   },
   {
    "duration": 86,
    "start_time": "2022-05-06T13:53:29.065Z"
   },
   {
    "duration": 79,
    "start_time": "2022-05-06T13:53:29.153Z"
   },
   {
    "duration": 5,
    "start_time": "2022-05-06T13:53:29.234Z"
   },
   {
    "duration": 21,
    "start_time": "2022-05-06T13:53:29.241Z"
   },
   {
    "duration": 113,
    "start_time": "2022-05-06T13:53:29.264Z"
   },
   {
    "duration": 4,
    "start_time": "2022-05-06T13:53:29.379Z"
   },
   {
    "duration": 11,
    "start_time": "2022-05-06T13:53:29.393Z"
   },
   {
    "duration": 11,
    "start_time": "2022-05-06T13:53:29.406Z"
   },
   {
    "duration": 36,
    "start_time": "2022-05-06T13:53:29.418Z"
   },
   {
    "duration": 46,
    "start_time": "2022-05-06T13:53:29.455Z"
   },
   {
    "duration": 864,
    "start_time": "2022-05-06T13:53:29.502Z"
   },
   {
    "duration": 17,
    "start_time": "2022-05-06T13:53:30.368Z"
   },
   {
    "duration": 59,
    "start_time": "2022-05-06T13:53:30.392Z"
   },
   {
    "duration": 9,
    "start_time": "2022-05-06T13:53:30.452Z"
   },
   {
    "duration": 71,
    "start_time": "2022-05-06T13:53:30.463Z"
   },
   {
    "duration": 23,
    "start_time": "2022-05-06T13:53:30.536Z"
   },
   {
    "duration": 14,
    "start_time": "2022-05-06T13:53:30.561Z"
   },
   {
    "duration": 109,
    "start_time": "2022-05-06T13:53:30.577Z"
   },
   {
    "duration": 668,
    "start_time": "2022-05-06T13:53:30.692Z"
   },
   {
    "duration": 5,
    "start_time": "2022-05-06T13:53:31.363Z"
   },
   {
    "duration": 224,
    "start_time": "2022-05-06T13:53:31.370Z"
   },
   {
    "duration": 48,
    "start_time": "2022-05-06T13:53:31.596Z"
   },
   {
    "duration": 11,
    "start_time": "2022-05-06T13:53:31.646Z"
   },
   {
    "duration": 95,
    "start_time": "2022-05-06T13:53:31.661Z"
   },
   {
    "duration": 5,
    "start_time": "2022-05-06T13:53:31.758Z"
   },
   {
    "duration": 56,
    "start_time": "2022-05-06T13:53:31.765Z"
   },
   {
    "duration": 5,
    "start_time": "2022-05-06T13:53:31.823Z"
   },
   {
    "duration": 17,
    "start_time": "2022-05-06T13:53:31.830Z"
   },
   {
    "duration": 26,
    "start_time": "2022-05-06T13:53:31.849Z"
   },
   {
    "duration": 92,
    "start_time": "2022-05-06T13:53:31.877Z"
   },
   {
    "duration": 8,
    "start_time": "2022-05-06T13:53:31.971Z"
   },
   {
    "duration": 29,
    "start_time": "2022-05-06T13:53:31.981Z"
   },
   {
    "duration": 17,
    "start_time": "2022-05-06T13:53:32.012Z"
   },
   {
    "duration": 25,
    "start_time": "2022-05-06T13:53:32.030Z"
   },
   {
    "duration": 24,
    "start_time": "2022-05-06T13:53:32.057Z"
   },
   {
    "duration": 21,
    "start_time": "2022-05-06T13:53:32.083Z"
   },
   {
    "duration": 10,
    "start_time": "2022-05-06T13:54:14.662Z"
   },
   {
    "duration": 11,
    "start_time": "2022-05-06T13:54:35.732Z"
   },
   {
    "duration": 6525,
    "start_time": "2022-05-06T13:55:18.014Z"
   },
   {
    "duration": 162,
    "start_time": "2022-05-06T13:55:24.541Z"
   },
   {
    "duration": 21,
    "start_time": "2022-05-06T13:55:24.704Z"
   },
   {
    "duration": 10,
    "start_time": "2022-05-06T13:55:24.727Z"
   },
   {
    "duration": 79,
    "start_time": "2022-05-06T13:55:24.740Z"
   },
   {
    "duration": 76,
    "start_time": "2022-05-06T13:55:24.821Z"
   },
   {
    "duration": 5,
    "start_time": "2022-05-06T13:55:24.899Z"
   },
   {
    "duration": 22,
    "start_time": "2022-05-06T13:55:24.906Z"
   },
   {
    "duration": 120,
    "start_time": "2022-05-06T13:55:24.930Z"
   },
   {
    "duration": 4,
    "start_time": "2022-05-06T13:55:25.052Z"
   },
   {
    "duration": 11,
    "start_time": "2022-05-06T13:55:25.057Z"
   },
   {
    "duration": 7,
    "start_time": "2022-05-06T13:55:25.070Z"
   },
   {
    "duration": 33,
    "start_time": "2022-05-06T13:55:25.093Z"
   },
   {
    "duration": 29,
    "start_time": "2022-05-06T13:55:25.129Z"
   },
   {
    "duration": 764,
    "start_time": "2022-05-06T13:55:25.160Z"
   },
   {
    "duration": 16,
    "start_time": "2022-05-06T13:55:25.926Z"
   },
   {
    "duration": 25,
    "start_time": "2022-05-06T13:55:25.944Z"
   },
   {
    "duration": 25,
    "start_time": "2022-05-06T13:55:25.971Z"
   },
   {
    "duration": 54,
    "start_time": "2022-05-06T13:55:25.998Z"
   },
   {
    "duration": 40,
    "start_time": "2022-05-06T13:55:26.054Z"
   },
   {
    "duration": 7,
    "start_time": "2022-05-06T13:55:26.096Z"
   },
   {
    "duration": 108,
    "start_time": "2022-05-06T13:55:26.105Z"
   },
   {
    "duration": 267,
    "start_time": "2022-05-06T13:55:26.214Z"
   },
   {
    "duration": 5,
    "start_time": "2022-05-06T13:55:26.483Z"
   },
   {
    "duration": 159,
    "start_time": "2022-05-06T13:55:26.489Z"
   },
   {
    "duration": 76,
    "start_time": "2022-05-06T13:55:26.650Z"
   },
   {
    "duration": 10,
    "start_time": "2022-05-06T13:55:26.729Z"
   },
   {
    "duration": 83,
    "start_time": "2022-05-06T13:55:26.740Z"
   },
   {
    "duration": 4,
    "start_time": "2022-05-06T13:55:26.824Z"
   },
   {
    "duration": 35,
    "start_time": "2022-05-06T13:55:26.830Z"
   },
   {
    "duration": 4,
    "start_time": "2022-05-06T13:55:26.866Z"
   },
   {
    "duration": 21,
    "start_time": "2022-05-06T13:55:26.872Z"
   },
   {
    "duration": 13,
    "start_time": "2022-05-06T13:55:26.894Z"
   },
   {
    "duration": 68,
    "start_time": "2022-05-06T13:55:26.908Z"
   },
   {
    "duration": 8,
    "start_time": "2022-05-06T13:55:26.992Z"
   },
   {
    "duration": 19,
    "start_time": "2022-05-06T13:55:27.002Z"
   },
   {
    "duration": 20,
    "start_time": "2022-05-06T13:55:27.023Z"
   },
   {
    "duration": 27,
    "start_time": "2022-05-06T13:55:27.045Z"
   },
   {
    "duration": 24,
    "start_time": "2022-05-06T13:55:27.074Z"
   },
   {
    "duration": 17,
    "start_time": "2022-05-06T13:55:27.100Z"
   },
   {
    "duration": 40,
    "start_time": "2022-05-06T13:57:18.012Z"
   },
   {
    "duration": 10,
    "start_time": "2022-05-06T13:57:20.245Z"
   },
   {
    "duration": 2299,
    "start_time": "2022-05-06T14:03:57.216Z"
   },
   {
    "duration": 2281,
    "start_time": "2022-05-06T14:04:37.159Z"
   },
   {
    "duration": 2371,
    "start_time": "2022-05-06T14:04:53.868Z"
   },
   {
    "duration": 2282,
    "start_time": "2022-05-06T14:06:12.625Z"
   },
   {
    "duration": 2704,
    "start_time": "2022-05-06T14:06:30.609Z"
   },
   {
    "duration": 2209,
    "start_time": "2022-05-06T14:07:27.911Z"
   },
   {
    "duration": 2143,
    "start_time": "2022-05-06T14:07:46.289Z"
   },
   {
    "duration": 2176,
    "start_time": "2022-05-06T14:09:24.274Z"
   },
   {
    "duration": 10,
    "start_time": "2022-05-06T14:10:56.346Z"
   },
   {
    "duration": 11,
    "start_time": "2022-05-06T14:11:21.516Z"
   },
   {
    "duration": 10,
    "start_time": "2022-05-06T14:11:36.324Z"
   },
   {
    "duration": 2414,
    "start_time": "2022-05-06T14:12:14.688Z"
   },
   {
    "duration": 12,
    "start_time": "2022-05-06T14:18:41.683Z"
   },
   {
    "duration": 10,
    "start_time": "2022-05-06T14:18:53.357Z"
   },
   {
    "duration": 2260,
    "start_time": "2022-05-06T14:19:21.116Z"
   },
   {
    "duration": 6460,
    "start_time": "2022-05-06T14:19:53.027Z"
   },
   {
    "duration": 168,
    "start_time": "2022-05-06T14:19:59.490Z"
   },
   {
    "duration": 20,
    "start_time": "2022-05-06T14:19:59.660Z"
   },
   {
    "duration": 8,
    "start_time": "2022-05-06T14:19:59.692Z"
   },
   {
    "duration": 62,
    "start_time": "2022-05-06T14:19:59.703Z"
   },
   {
    "duration": 83,
    "start_time": "2022-05-06T14:19:59.767Z"
   },
   {
    "duration": 5,
    "start_time": "2022-05-06T14:19:59.851Z"
   },
   {
    "duration": 40,
    "start_time": "2022-05-06T14:19:59.858Z"
   },
   {
    "duration": 101,
    "start_time": "2022-05-06T14:19:59.900Z"
   },
   {
    "duration": 4,
    "start_time": "2022-05-06T14:20:00.003Z"
   },
   {
    "duration": 16,
    "start_time": "2022-05-06T14:20:00.009Z"
   },
   {
    "duration": 10,
    "start_time": "2022-05-06T14:20:00.027Z"
   },
   {
    "duration": 38,
    "start_time": "2022-05-06T14:20:00.039Z"
   },
   {
    "duration": 40,
    "start_time": "2022-05-06T14:20:00.080Z"
   },
   {
    "duration": 813,
    "start_time": "2022-05-06T14:20:00.121Z"
   },
   {
    "duration": 16,
    "start_time": "2022-05-06T14:20:00.936Z"
   },
   {
    "duration": 42,
    "start_time": "2022-05-06T14:20:00.954Z"
   },
   {
    "duration": 11,
    "start_time": "2022-05-06T14:20:00.998Z"
   },
   {
    "duration": 49,
    "start_time": "2022-05-06T14:20:01.011Z"
   },
   {
    "duration": 44,
    "start_time": "2022-05-06T14:20:01.061Z"
   },
   {
    "duration": 9,
    "start_time": "2022-05-06T14:20:01.107Z"
   },
   {
    "duration": 112,
    "start_time": "2022-05-06T14:20:01.118Z"
   },
   {
    "duration": 281,
    "start_time": "2022-05-06T14:20:01.231Z"
   },
   {
    "duration": 5,
    "start_time": "2022-05-06T14:20:01.515Z"
   },
   {
    "duration": 199,
    "start_time": "2022-05-06T14:20:01.521Z"
   },
   {
    "duration": 48,
    "start_time": "2022-05-06T14:20:01.722Z"
   },
   {
    "duration": 22,
    "start_time": "2022-05-06T14:20:01.772Z"
   },
   {
    "duration": 3532,
    "start_time": "2022-05-06T14:20:01.796Z"
   },
   {
    "duration": 0,
    "start_time": "2022-05-06T14:20:05.331Z"
   },
   {
    "duration": 0,
    "start_time": "2022-05-06T14:20:05.332Z"
   },
   {
    "duration": 0,
    "start_time": "2022-05-06T14:20:05.334Z"
   },
   {
    "duration": 0,
    "start_time": "2022-05-06T14:20:05.335Z"
   },
   {
    "duration": 0,
    "start_time": "2022-05-06T14:20:05.336Z"
   },
   {
    "duration": 0,
    "start_time": "2022-05-06T14:20:05.337Z"
   },
   {
    "duration": 0,
    "start_time": "2022-05-06T14:20:05.338Z"
   },
   {
    "duration": 0,
    "start_time": "2022-05-06T14:20:05.339Z"
   },
   {
    "duration": 0,
    "start_time": "2022-05-06T14:20:05.340Z"
   },
   {
    "duration": 0,
    "start_time": "2022-05-06T14:20:05.341Z"
   },
   {
    "duration": 0,
    "start_time": "2022-05-06T14:20:05.343Z"
   },
   {
    "duration": 0,
    "start_time": "2022-05-06T14:20:05.344Z"
   },
   {
    "duration": 0,
    "start_time": "2022-05-06T14:20:05.345Z"
   },
   {
    "duration": 2478,
    "start_time": "2022-05-06T14:20:50.963Z"
   },
   {
    "duration": 6856,
    "start_time": "2022-05-06T15:02:05.381Z"
   },
   {
    "duration": 171,
    "start_time": "2022-05-06T15:02:12.246Z"
   },
   {
    "duration": 20,
    "start_time": "2022-05-06T15:02:12.419Z"
   },
   {
    "duration": 25,
    "start_time": "2022-05-06T15:02:12.440Z"
   },
   {
    "duration": 75,
    "start_time": "2022-05-06T15:02:12.467Z"
   },
   {
    "duration": 75,
    "start_time": "2022-05-06T15:02:12.544Z"
   },
   {
    "duration": 5,
    "start_time": "2022-05-06T15:02:12.620Z"
   },
   {
    "duration": 21,
    "start_time": "2022-05-06T15:02:12.627Z"
   },
   {
    "duration": 122,
    "start_time": "2022-05-06T15:02:12.650Z"
   },
   {
    "duration": 4,
    "start_time": "2022-05-06T15:02:12.773Z"
   },
   {
    "duration": 18,
    "start_time": "2022-05-06T15:02:12.778Z"
   },
   {
    "duration": 8,
    "start_time": "2022-05-06T15:02:12.799Z"
   },
   {
    "duration": 40,
    "start_time": "2022-05-06T15:02:12.809Z"
   },
   {
    "duration": 59,
    "start_time": "2022-05-06T15:02:12.852Z"
   },
   {
    "duration": 823,
    "start_time": "2022-05-06T15:02:12.913Z"
   },
   {
    "duration": 18,
    "start_time": "2022-05-06T15:02:13.738Z"
   },
   {
    "duration": 39,
    "start_time": "2022-05-06T15:02:13.757Z"
   },
   {
    "duration": 15,
    "start_time": "2022-05-06T15:02:13.799Z"
   },
   {
    "duration": 51,
    "start_time": "2022-05-06T15:02:13.816Z"
   },
   {
    "duration": 53,
    "start_time": "2022-05-06T15:02:13.868Z"
   },
   {
    "duration": 10,
    "start_time": "2022-05-06T15:02:13.923Z"
   },
   {
    "duration": 118,
    "start_time": "2022-05-06T15:02:13.935Z"
   },
   {
    "duration": 287,
    "start_time": "2022-05-06T15:02:14.055Z"
   },
   {
    "duration": 5,
    "start_time": "2022-05-06T15:02:14.343Z"
   },
   {
    "duration": 181,
    "start_time": "2022-05-06T15:02:14.350Z"
   },
   {
    "duration": 64,
    "start_time": "2022-05-06T15:02:14.532Z"
   },
   {
    "duration": 14,
    "start_time": "2022-05-06T15:02:14.599Z"
   },
   {
    "duration": 23,
    "start_time": "2022-05-06T15:02:14.615Z"
   },
   {
    "duration": 82,
    "start_time": "2022-05-06T15:02:14.639Z"
   },
   {
    "duration": 4,
    "start_time": "2022-05-06T15:02:14.722Z"
   },
   {
    "duration": 34,
    "start_time": "2022-05-06T15:02:14.728Z"
   },
   {
    "duration": 5,
    "start_time": "2022-05-06T15:02:14.764Z"
   },
   {
    "duration": 25,
    "start_time": "2022-05-06T15:02:14.771Z"
   },
   {
    "duration": 18,
    "start_time": "2022-05-06T15:02:14.798Z"
   },
   {
    "duration": 83,
    "start_time": "2022-05-06T15:02:14.818Z"
   },
   {
    "duration": 9,
    "start_time": "2022-05-06T15:02:14.903Z"
   },
   {
    "duration": 15,
    "start_time": "2022-05-06T15:02:14.914Z"
   },
   {
    "duration": 12,
    "start_time": "2022-05-06T15:02:14.931Z"
   },
   {
    "duration": 53,
    "start_time": "2022-05-06T15:02:14.945Z"
   },
   {
    "duration": 16,
    "start_time": "2022-05-06T15:02:15.000Z"
   },
   {
    "duration": 20,
    "start_time": "2022-05-06T15:02:15.019Z"
   },
   {
    "duration": 10,
    "start_time": "2022-05-06T15:03:17.906Z"
   },
   {
    "duration": 10,
    "start_time": "2022-05-06T15:29:38.463Z"
   },
   {
    "duration": 17,
    "start_time": "2022-05-06T15:34:08.165Z"
   },
   {
    "duration": 19444,
    "start_time": "2022-05-07T16:31:46.647Z"
   },
   {
    "duration": 445,
    "start_time": "2022-05-07T16:32:06.094Z"
   },
   {
    "duration": 45,
    "start_time": "2022-05-07T16:32:06.542Z"
   },
   {
    "duration": 16,
    "start_time": "2022-05-07T16:32:06.592Z"
   },
   {
    "duration": 144,
    "start_time": "2022-05-07T16:32:06.611Z"
   },
   {
    "duration": 156,
    "start_time": "2022-05-07T16:32:06.758Z"
   },
   {
    "duration": 8,
    "start_time": "2022-05-07T16:32:06.916Z"
   },
   {
    "duration": 36,
    "start_time": "2022-05-07T16:32:06.926Z"
   },
   {
    "duration": 236,
    "start_time": "2022-05-07T16:32:06.993Z"
   },
   {
    "duration": 6,
    "start_time": "2022-05-07T16:32:07.234Z"
   },
   {
    "duration": 15,
    "start_time": "2022-05-07T16:32:07.243Z"
   },
   {
    "duration": 10,
    "start_time": "2022-05-07T16:32:07.283Z"
   },
   {
    "duration": 93,
    "start_time": "2022-05-07T16:32:07.295Z"
   },
   {
    "duration": 50,
    "start_time": "2022-05-07T16:32:07.390Z"
   },
   {
    "duration": 1273,
    "start_time": "2022-05-07T16:32:07.443Z"
   },
   {
    "duration": 22,
    "start_time": "2022-05-07T16:32:08.718Z"
   },
   {
    "duration": 68,
    "start_time": "2022-05-07T16:32:08.743Z"
   },
   {
    "duration": 19,
    "start_time": "2022-05-07T16:32:08.814Z"
   },
   {
    "duration": 123,
    "start_time": "2022-05-07T16:32:08.836Z"
   },
   {
    "duration": 43,
    "start_time": "2022-05-07T16:32:08.962Z"
   },
   {
    "duration": 11,
    "start_time": "2022-05-07T16:32:09.011Z"
   },
   {
    "duration": 220,
    "start_time": "2022-05-07T16:32:09.025Z"
   },
   {
    "duration": 360,
    "start_time": "2022-05-07T16:32:09.248Z"
   },
   {
    "duration": 7,
    "start_time": "2022-05-07T16:32:09.611Z"
   },
   {
    "duration": 335,
    "start_time": "2022-05-07T16:32:09.621Z"
   },
   {
    "duration": 81,
    "start_time": "2022-05-07T16:32:09.958Z"
   },
   {
    "duration": 15,
    "start_time": "2022-05-07T16:32:10.041Z"
   },
   {
    "duration": 24,
    "start_time": "2022-05-07T16:32:10.084Z"
   },
   {
    "duration": 113,
    "start_time": "2022-05-07T16:32:10.111Z"
   },
   {
    "duration": 8,
    "start_time": "2022-05-07T16:32:10.227Z"
   },
   {
    "duration": 73,
    "start_time": "2022-05-07T16:32:10.238Z"
   },
   {
    "duration": 6,
    "start_time": "2022-05-07T16:32:10.314Z"
   },
   {
    "duration": 8,
    "start_time": "2022-05-07T16:32:10.322Z"
   },
   {
    "duration": 22,
    "start_time": "2022-05-07T16:32:10.333Z"
   },
   {
    "duration": 152,
    "start_time": "2022-05-07T16:32:10.391Z"
   },
   {
    "duration": 11,
    "start_time": "2022-05-07T16:32:10.546Z"
   },
   {
    "duration": 52,
    "start_time": "2022-05-07T16:32:10.560Z"
   },
   {
    "duration": 19,
    "start_time": "2022-05-07T16:32:10.614Z"
   },
   {
    "duration": 65,
    "start_time": "2022-05-07T16:32:10.636Z"
   },
   {
    "duration": 23,
    "start_time": "2022-05-07T16:32:10.703Z"
   },
   {
    "duration": 32,
    "start_time": "2022-05-07T16:32:10.730Z"
   },
   {
    "duration": 23,
    "start_time": "2022-05-07T16:32:10.782Z"
   },
   {
    "duration": 35,
    "start_time": "2022-05-07T16:32:10.810Z"
   },
   {
    "duration": 12337,
    "start_time": "2022-05-07T16:46:11.441Z"
   },
   {
    "duration": 281,
    "start_time": "2022-05-07T16:46:23.782Z"
   },
   {
    "duration": 52,
    "start_time": "2022-05-07T16:46:24.066Z"
   },
   {
    "duration": 18,
    "start_time": "2022-05-07T16:46:24.121Z"
   },
   {
    "duration": 158,
    "start_time": "2022-05-07T16:46:24.142Z"
   },
   {
    "duration": 142,
    "start_time": "2022-05-07T16:46:24.307Z"
   },
   {
    "duration": 8,
    "start_time": "2022-05-07T16:46:24.452Z"
   },
   {
    "duration": 74,
    "start_time": "2022-05-07T16:46:24.462Z"
   },
   {
    "duration": 235,
    "start_time": "2022-05-07T16:46:24.539Z"
   },
   {
    "duration": 13,
    "start_time": "2022-05-07T16:46:24.777Z"
   },
   {
    "duration": 48,
    "start_time": "2022-05-07T16:46:24.793Z"
   },
   {
    "duration": 11,
    "start_time": "2022-05-07T16:46:24.844Z"
   },
   {
    "duration": 82,
    "start_time": "2022-05-07T16:46:24.858Z"
   },
   {
    "duration": 75,
    "start_time": "2022-05-07T16:46:24.946Z"
   },
   {
    "duration": 1525,
    "start_time": "2022-05-07T16:46:25.024Z"
   },
   {
    "duration": 44,
    "start_time": "2022-05-07T16:46:26.551Z"
   },
   {
    "duration": 43,
    "start_time": "2022-05-07T16:46:26.599Z"
   },
   {
    "duration": 13,
    "start_time": "2022-05-07T16:46:26.647Z"
   },
   {
    "duration": 124,
    "start_time": "2022-05-07T16:46:26.663Z"
   },
   {
    "duration": 54,
    "start_time": "2022-05-07T16:46:26.790Z"
   },
   {
    "duration": 10,
    "start_time": "2022-05-07T16:46:26.847Z"
   },
   {
    "duration": 228,
    "start_time": "2022-05-07T16:46:26.884Z"
   },
   {
    "duration": 417,
    "start_time": "2022-05-07T16:46:27.115Z"
   },
   {
    "duration": 7,
    "start_time": "2022-05-07T16:46:27.535Z"
   },
   {
    "duration": 302,
    "start_time": "2022-05-07T16:46:27.546Z"
   },
   {
    "duration": 102,
    "start_time": "2022-05-07T16:46:27.851Z"
   },
   {
    "duration": 32,
    "start_time": "2022-05-07T16:46:27.956Z"
   },
   {
    "duration": 40,
    "start_time": "2022-05-07T16:46:27.991Z"
   },
   {
    "duration": 107,
    "start_time": "2022-05-07T16:46:28.034Z"
   },
   {
    "duration": 6,
    "start_time": "2022-05-07T16:46:28.143Z"
   },
   {
    "duration": 74,
    "start_time": "2022-05-07T16:46:28.152Z"
   },
   {
    "duration": 7,
    "start_time": "2022-05-07T16:46:28.230Z"
   },
   {
    "duration": 8,
    "start_time": "2022-05-07T16:46:28.240Z"
   },
   {
    "duration": 52,
    "start_time": "2022-05-07T16:46:28.251Z"
   },
   {
    "duration": 173,
    "start_time": "2022-05-07T16:46:28.305Z"
   },
   {
    "duration": 14,
    "start_time": "2022-05-07T16:46:28.482Z"
   },
   {
    "duration": 40,
    "start_time": "2022-05-07T16:46:28.499Z"
   },
   {
    "duration": 24,
    "start_time": "2022-05-07T16:46:28.542Z"
   },
   {
    "duration": 41,
    "start_time": "2022-05-07T16:46:28.594Z"
   },
   {
    "duration": 23,
    "start_time": "2022-05-07T16:46:28.638Z"
   },
   {
    "duration": 41,
    "start_time": "2022-05-07T16:46:28.689Z"
   },
   {
    "duration": 17,
    "start_time": "2022-05-07T16:46:28.734Z"
   },
   {
    "duration": 78,
    "start_time": "2022-05-07T16:46:28.755Z"
   }
  ],
  "kernelspec": {
   "display_name": "Python 3 (ipykernel)",
   "language": "python",
   "name": "python3"
  },
  "language_info": {
   "codemirror_mode": {
    "name": "ipython",
    "version": 3
   },
   "file_extension": ".py",
   "mimetype": "text/x-python",
   "name": "python",
   "nbconvert_exporter": "python",
   "pygments_lexer": "ipython3",
   "version": "3.9.7"
  },
  "toc": {
   "base_numbering": 1,
   "nav_menu": {},
   "number_sections": true,
   "sideBar": true,
   "skip_h1_title": true,
   "title_cell": "Table of Contents",
   "title_sidebar": "Contents",
   "toc_cell": false,
   "toc_position": {},
   "toc_section_display": true,
   "toc_window_display": false
  }
 },
 "nbformat": 4,
 "nbformat_minor": 2
}
