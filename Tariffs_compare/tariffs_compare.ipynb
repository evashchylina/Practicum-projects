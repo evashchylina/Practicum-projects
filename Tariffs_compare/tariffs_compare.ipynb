{
 "cells": [
  {
   "cell_type": "markdown",
   "metadata": {},
   "source": [
    "# Определение выгодного тарифа для телеком компании ☎️\n",
    "\n",
    "<font size=\"4\"><b>Содержание</b></font>\n",
    "\n",
    "    \n",
    "\n",
    "[Описание проекта](#project_summary)  \n",
    "[Изучение данных из файла и их предобработка](#read_data)  \n",
    "[Расчет показателей для каждого пользователя](#calculation)  \n",
    "[Анализ данных. Описание распределений](#analisis)  \n",
    "[Проверка гипотез](#hipothesis)  \n",
    "[Общий вывод](#total_conclusion)  \n",
    "\n",
    "___"
   ]
  },
  {
   "cell_type": "markdown",
   "metadata": {},
   "source": [
    "<a id='project_summary'></a>\n",
    "## Описание проекта\n",
    "\n",
    "**Задача**\n",
    "\n",
    "Коммерческий департамент попросил нас выяснить, какой тариф приносит больше денег, для принятия решений по корректировке рекламного бюджета. Нам предстоит изучить данные 500 случайных пользователей «Мегалайна» за 2018 год. Для сравнения заданы два тарифных плана. Познакомимся с данными, изучим описательные статистики, построим гистограммы, опишем распределения. Сформулируем и проверим статистические гипотезы о равенстве/различии среднепользовательской выручки:\n",
    "- по тарифу \"Смарт\" и \"Ультра\",\n",
    "- среди клиентов Москвы и других регионов.\n",
    "\n",
    "**Описание тарифов**\n",
    "\n",
    "Тариф| *«Смарт»*| *«Ультра»*\n",
    "------|:--------:|------:\n",
    "Ежемесячная плата:| 550 рублей| 1950 рублей\n",
    "Включено:| 500 минут разговора, 50 сообщений и 15 Гб интернет-трафика| 3000 минут разговора, 1000 сообщений и 30 Гб интернет-трафика\n",
    "*Стоимость услуг сверх тарифного пакета:*\n",
    "минута разговора:| 3 рубля| 1 рубль\n",
    "сообщение:| 3 рубля| 1 рубль\n",
    "1 Гб интернет-трафика:| 200 рублей| 150 рублей\n",
    "\n",
    "**Примечание**  \n",
    "«Мегалайн» всегда округляет секунды до минут, а мегабайты — до гигабайт. Каждый звонок округляется отдельно: даже если он длился всего 1 секунду, будет засчитан как 1 минута.\n",
    "Для веб-трафика отдельные сессии не считаются. Вместо этого общая сумма за месяц округляется в бо́льшую сторону. Если абонент использует 1025 мегабайт в этом месяце, с него возьмут плату за 2 гигабайта.\n",
    "\n",
    "**Цель исследования**  \n",
    "На основании предоставленных данных сделать заключение о наиболее привлекательном для бизнеса тарифном плане. Сравнить поведение (активность) клиентов из Москвы и других регионов.\n",
    "\n",
    "**Ход исследования**  \n",
    "Познакомимся с данными, произведём обзор данных, проверим наличие ошибок и оценим их влияние на исследование. На этапе предобработки данных приведем массив к пригодному для исследования виду: объединим таблицы, произведём группировку. Применим графические методы и сводные таблицы для представления полученных результатов. Проверим две гипотезы о средней выручке пользователей \"Мегалайна\". Таким образом, исследование пройдёт в четыре этапа:\n",
    "\n",
    "1) Обзор данных и их предобработка;  \n",
    "2) Расчет показателей для каждого пользователя;  \n",
    "3) Анализ данных. Описание распределений;  \n",
    "4) Проверка гипотез.  "
   ]
  },
  {
   "cell_type": "markdown",
   "metadata": {},
   "source": [
    "<a id='read_data'></a>\n",
    "## Изучение данных из файлов и их предобработка \n",
    "\n",
    "Для начала произведём импорт всех необходимых нам библиотек:"
   ]
  },
  {
   "cell_type": "code",
   "execution_count": 1,
   "metadata": {},
   "outputs": [],
   "source": [
    "# импорт библиотеки pandas\n",
    "import pandas as pd\n",
    "\n",
    "#импорт библиотеки numpy для операций с массивами\n",
    "import numpy as np\n",
    "\n",
    "# импорт библиотеки визуализации seaborn\n",
    "import seaborn as sns\n",
    "\n",
    "# импорт библиотеки matplotlib для продвинутой работы с графиками\n",
    "import matplotlib.pyplot as plt\n",
    "\n",
    "# импорт библиотеки для проведения статистических тестов\n",
    "from scipy import stats as st\n",
    "\n",
    "# импорт библиотеки для статистического моделирования\n",
    "import statsmodels.api as sm\n",
    "\n",
    "# импорт библиотеки для игнорирования предупреждений\n",
    "import warnings\n",
    "warnings.filterwarnings(\"ignore\")"
   ]
  },
  {
   "cell_type": "markdown",
   "metadata": {},
   "source": [
    "___\n",
    "Прочитаем данные из первого файла (информация о звонках). Выведем на экран первые 5 строк датасета."
   ]
  },
  {
   "cell_type": "code",
   "execution_count": 2,
   "metadata": {},
   "outputs": [
    {
     "data": {
      "text/html": [
       "<div>\n",
       "<style scoped>\n",
       "    .dataframe tbody tr th:only-of-type {\n",
       "        vertical-align: middle;\n",
       "    }\n",
       "\n",
       "    .dataframe tbody tr th {\n",
       "        vertical-align: top;\n",
       "    }\n",
       "\n",
       "    .dataframe thead th {\n",
       "        text-align: right;\n",
       "    }\n",
       "</style>\n",
       "<table border=\"1\" class=\"dataframe\">\n",
       "  <thead>\n",
       "    <tr style=\"text-align: right;\">\n",
       "      <th></th>\n",
       "      <th>id</th>\n",
       "      <th>call_date</th>\n",
       "      <th>duration</th>\n",
       "      <th>user_id</th>\n",
       "    </tr>\n",
       "  </thead>\n",
       "  <tbody>\n",
       "    <tr>\n",
       "      <th>0</th>\n",
       "      <td>1000_0</td>\n",
       "      <td>2018-07-25</td>\n",
       "      <td>0.00</td>\n",
       "      <td>1000</td>\n",
       "    </tr>\n",
       "    <tr>\n",
       "      <th>1</th>\n",
       "      <td>1000_1</td>\n",
       "      <td>2018-08-17</td>\n",
       "      <td>0.00</td>\n",
       "      <td>1000</td>\n",
       "    </tr>\n",
       "    <tr>\n",
       "      <th>2</th>\n",
       "      <td>1000_2</td>\n",
       "      <td>2018-06-11</td>\n",
       "      <td>2.85</td>\n",
       "      <td>1000</td>\n",
       "    </tr>\n",
       "    <tr>\n",
       "      <th>3</th>\n",
       "      <td>1000_3</td>\n",
       "      <td>2018-09-21</td>\n",
       "      <td>13.80</td>\n",
       "      <td>1000</td>\n",
       "    </tr>\n",
       "    <tr>\n",
       "      <th>4</th>\n",
       "      <td>1000_4</td>\n",
       "      <td>2018-12-15</td>\n",
       "      <td>5.18</td>\n",
       "      <td>1000</td>\n",
       "    </tr>\n",
       "  </tbody>\n",
       "</table>\n",
       "</div>"
      ],
      "text/plain": [
       "       id   call_date  duration  user_id\n",
       "0  1000_0  2018-07-25      0.00     1000\n",
       "1  1000_1  2018-08-17      0.00     1000\n",
       "2  1000_2  2018-06-11      2.85     1000\n",
       "3  1000_3  2018-09-21     13.80     1000\n",
       "4  1000_4  2018-12-15      5.18     1000"
      ]
     },
     "metadata": {},
     "output_type": "display_data"
    }
   ],
   "source": [
    "try:\n",
    "    calls = pd.read_csv('/datasets/calls.csv')\n",
    "except:\n",
    "    calls = pd.read_csv('calls.csv')\n",
    "display(calls.head())"
   ]
  },
  {
   "cell_type": "markdown",
   "metadata": {},
   "source": [
    "Согласно документации к данным, в датафрейме содержится следующая информация:  \n",
    "\n",
    "**Таблица calls (информация о звонках):**\n",
    "- id — уникальный номер звонка\n",
    "- call_date — дата звонка\n",
    "- duration — длительность звонка в минутах\n",
    "- user_id — идентификатор пользователя, сделавшего звонок\n",
    "\n",
    "В данных можно заметить звонки с нулевой продолжительностью. Это не ошибка: нулями обозначены пропущенные звонки, поэтому их не нужно удалять.  \n",
    "Посмотрим главные характеристики таблицы, воспользовавшись методом *info()*."
   ]
  },
  {
   "cell_type": "code",
   "execution_count": 3,
   "metadata": {},
   "outputs": [
    {
     "name": "stdout",
     "output_type": "stream",
     "text": [
      "<class 'pandas.core.frame.DataFrame'>\n",
      "RangeIndex: 202607 entries, 0 to 202606\n",
      "Data columns (total 4 columns):\n",
      " #   Column     Non-Null Count   Dtype  \n",
      "---  ------     --------------   -----  \n",
      " 0   id         202607 non-null  object \n",
      " 1   call_date  202607 non-null  object \n",
      " 2   duration   202607 non-null  float64\n",
      " 3   user_id    202607 non-null  int64  \n",
      "dtypes: float64(1), int64(1), object(2)\n",
      "memory usage: 6.2+ MB\n"
     ]
    }
   ],
   "source": [
    "calls.info()"
   ]
  },
  {
   "cell_type": "markdown",
   "metadata": {},
   "source": [
    "Мы имеем дело с объёмным массивом информации с большим количеством строк, пропущенных значений в таблице нет. Графу *'call_date'* удобно трансформировать в тип данных *datetime*, но сначала изучим описательную статистику посредством метода *describe()*:"
   ]
  },
  {
   "cell_type": "code",
   "execution_count": 4,
   "metadata": {},
   "outputs": [
    {
     "data": {
      "text/html": [
       "<div>\n",
       "<style scoped>\n",
       "    .dataframe tbody tr th:only-of-type {\n",
       "        vertical-align: middle;\n",
       "    }\n",
       "\n",
       "    .dataframe tbody tr th {\n",
       "        vertical-align: top;\n",
       "    }\n",
       "\n",
       "    .dataframe thead th {\n",
       "        text-align: right;\n",
       "    }\n",
       "</style>\n",
       "<table border=\"1\" class=\"dataframe\">\n",
       "  <thead>\n",
       "    <tr style=\"text-align: right;\">\n",
       "      <th></th>\n",
       "      <th>duration</th>\n",
       "      <th>user_id</th>\n",
       "    </tr>\n",
       "  </thead>\n",
       "  <tbody>\n",
       "    <tr>\n",
       "      <th>count</th>\n",
       "      <td>202607.000000</td>\n",
       "      <td>202607.000000</td>\n",
       "    </tr>\n",
       "    <tr>\n",
       "      <th>mean</th>\n",
       "      <td>6.755887</td>\n",
       "      <td>1253.940619</td>\n",
       "    </tr>\n",
       "    <tr>\n",
       "      <th>std</th>\n",
       "      <td>5.843365</td>\n",
       "      <td>144.722751</td>\n",
       "    </tr>\n",
       "    <tr>\n",
       "      <th>min</th>\n",
       "      <td>0.000000</td>\n",
       "      <td>1000.000000</td>\n",
       "    </tr>\n",
       "    <tr>\n",
       "      <th>25%</th>\n",
       "      <td>1.300000</td>\n",
       "      <td>1126.000000</td>\n",
       "    </tr>\n",
       "    <tr>\n",
       "      <th>50%</th>\n",
       "      <td>6.000000</td>\n",
       "      <td>1260.000000</td>\n",
       "    </tr>\n",
       "    <tr>\n",
       "      <th>75%</th>\n",
       "      <td>10.700000</td>\n",
       "      <td>1379.000000</td>\n",
       "    </tr>\n",
       "    <tr>\n",
       "      <th>max</th>\n",
       "      <td>38.000000</td>\n",
       "      <td>1499.000000</td>\n",
       "    </tr>\n",
       "  </tbody>\n",
       "</table>\n",
       "</div>"
      ],
      "text/plain": [
       "            duration        user_id\n",
       "count  202607.000000  202607.000000\n",
       "mean        6.755887    1253.940619\n",
       "std         5.843365     144.722751\n",
       "min         0.000000    1000.000000\n",
       "25%         1.300000    1126.000000\n",
       "50%         6.000000    1260.000000\n",
       "75%        10.700000    1379.000000\n",
       "max        38.000000    1499.000000"
      ]
     },
     "execution_count": 4,
     "metadata": {},
     "output_type": "execute_result"
    }
   ],
   "source": [
    "calls.describe()"
   ]
  },
  {
   "cell_type": "markdown",
   "metadata": {},
   "source": [
    "Минимальное и максимальное значение в графе *'duration'* не вызывает подозрений, а также средняя продолжительность разговора около семи минут выглядит правдоподобно. Таким образом нет причин полагать, что в рассматриваемых данных имеются выбросы или некорректные значения.  \n",
    "Перейдем к переводу дат в необходимый нам тип."
   ]
  },
  {
   "cell_type": "code",
   "execution_count": 5,
   "metadata": {},
   "outputs": [
    {
     "data": {
      "text/plain": [
       "id                   object\n",
       "call_date    datetime64[ns]\n",
       "duration            float64\n",
       "user_id               int64\n",
       "dtype: object"
      ]
     },
     "execution_count": 5,
     "metadata": {},
     "output_type": "execute_result"
    }
   ],
   "source": [
    "calls['call_date'] = pd.to_datetime(calls['call_date'], format = '%Y-%m-%d')\n",
    "calls.dtypes"
   ]
  },
  {
   "cell_type": "markdown",
   "metadata": {},
   "source": [
    "Проверим, не содержит ли наша таблица явные дубликаты:"
   ]
  },
  {
   "cell_type": "code",
   "execution_count": 6,
   "metadata": {},
   "outputs": [
    {
     "data": {
      "text/plain": [
       "0"
      ]
     },
     "execution_count": 6,
     "metadata": {},
     "output_type": "execute_result"
    }
   ],
   "source": [
    "calls.duplicated().sum()"
   ]
  },
  {
   "cell_type": "markdown",
   "metadata": {},
   "source": [
    "Дубликатов не оказалось.  \n",
    "Так как анализировать информацию нам предстоит в разрезе месяцев, добавим в таблицу дополнительный столбец, содержащий информацию о месяце, в который был совершён звонок. В таком виде данные будет удобно группировать.  \n",
    "Нам известно, что «Мегалайн» всегда округляет секунды до минут. Каждый звонок округляется отдельно: даже если он длился всего 1 секунду, будет засчитан как 1 минута. Таким образом, добавим в таблицу столбец с длительностью разговоров, округленных в минуты.  \n",
    "Кроме того, столбец с уникальным номером звонка нам в дальнейшем не понадобится, поэтому просто удалим его.\n",
    "Выведем на экран 5 случайных строк, чтобы убедиться в том, что новые столбцы заполнились корректно:"
   ]
  },
  {
   "cell_type": "code",
   "execution_count": 7,
   "metadata": {},
   "outputs": [
    {
     "data": {
      "text/html": [
       "<div>\n",
       "<style scoped>\n",
       "    .dataframe tbody tr th:only-of-type {\n",
       "        vertical-align: middle;\n",
       "    }\n",
       "\n",
       "    .dataframe tbody tr th {\n",
       "        vertical-align: top;\n",
       "    }\n",
       "\n",
       "    .dataframe thead th {\n",
       "        text-align: right;\n",
       "    }\n",
       "</style>\n",
       "<table border=\"1\" class=\"dataframe\">\n",
       "  <thead>\n",
       "    <tr style=\"text-align: right;\">\n",
       "      <th></th>\n",
       "      <th>call_date</th>\n",
       "      <th>duration</th>\n",
       "      <th>user_id</th>\n",
       "      <th>month</th>\n",
       "      <th>duration_in_min</th>\n",
       "      <th>calls_count</th>\n",
       "    </tr>\n",
       "  </thead>\n",
       "  <tbody>\n",
       "    <tr>\n",
       "      <th>47435</th>\n",
       "      <td>2018-04-12</td>\n",
       "      <td>4.63</td>\n",
       "      <td>1118</td>\n",
       "      <td>2018-04-01</td>\n",
       "      <td>5.0</td>\n",
       "      <td>1</td>\n",
       "    </tr>\n",
       "    <tr>\n",
       "      <th>188645</th>\n",
       "      <td>2018-11-24</td>\n",
       "      <td>6.92</td>\n",
       "      <td>1465</td>\n",
       "      <td>2018-11-01</td>\n",
       "      <td>7.0</td>\n",
       "      <td>1</td>\n",
       "    </tr>\n",
       "    <tr>\n",
       "      <th>46422</th>\n",
       "      <td>2018-09-22</td>\n",
       "      <td>5.16</td>\n",
       "      <td>1116</td>\n",
       "      <td>2018-09-01</td>\n",
       "      <td>6.0</td>\n",
       "      <td>1</td>\n",
       "    </tr>\n",
       "    <tr>\n",
       "      <th>198203</th>\n",
       "      <td>2018-12-17</td>\n",
       "      <td>9.22</td>\n",
       "      <td>1486</td>\n",
       "      <td>2018-12-01</td>\n",
       "      <td>10.0</td>\n",
       "      <td>1</td>\n",
       "    </tr>\n",
       "    <tr>\n",
       "      <th>163808</th>\n",
       "      <td>2018-09-09</td>\n",
       "      <td>0.00</td>\n",
       "      <td>1402</td>\n",
       "      <td>2018-09-01</td>\n",
       "      <td>0.0</td>\n",
       "      <td>1</td>\n",
       "    </tr>\n",
       "  </tbody>\n",
       "</table>\n",
       "</div>"
      ],
      "text/plain": [
       "        call_date  duration  user_id      month  duration_in_min  calls_count\n",
       "47435  2018-04-12      4.63     1118 2018-04-01              5.0            1\n",
       "188645 2018-11-24      6.92     1465 2018-11-01              7.0            1\n",
       "46422  2018-09-22      5.16     1116 2018-09-01              6.0            1\n",
       "198203 2018-12-17      9.22     1486 2018-12-01             10.0            1\n",
       "163808 2018-09-09      0.00     1402 2018-09-01              0.0            1"
      ]
     },
     "execution_count": 7,
     "metadata": {},
     "output_type": "execute_result"
    }
   ],
   "source": [
    "calls['month'] = calls['call_date'].values.astype('datetime64[M]')\n",
    "calls['duration_in_min'] = np.ceil(calls['duration'])\n",
    "calls = calls[['call_date', 'duration', 'user_id', 'month', 'duration_in_min']]\n",
    "# добавим в таблицу столбец-счетчик для подсчета количества сделанных звонков\n",
    "calls['calls_count'] = 1\n",
    "calls.sample(5)"
   ]
  },
  {
   "cell_type": "markdown",
   "metadata": {},
   "source": [
    "___\n",
    "Перейдём к следующей таблице с данными. Она содержит информацию об интернет-сессиях. Прочитаем файл и выведем на экран первые 5 строк."
   ]
  },
  {
   "cell_type": "code",
   "execution_count": 8,
   "metadata": {},
   "outputs": [
    {
     "data": {
      "text/html": [
       "<div>\n",
       "<style scoped>\n",
       "    .dataframe tbody tr th:only-of-type {\n",
       "        vertical-align: middle;\n",
       "    }\n",
       "\n",
       "    .dataframe tbody tr th {\n",
       "        vertical-align: top;\n",
       "    }\n",
       "\n",
       "    .dataframe thead th {\n",
       "        text-align: right;\n",
       "    }\n",
       "</style>\n",
       "<table border=\"1\" class=\"dataframe\">\n",
       "  <thead>\n",
       "    <tr style=\"text-align: right;\">\n",
       "      <th></th>\n",
       "      <th>Unnamed: 0</th>\n",
       "      <th>id</th>\n",
       "      <th>mb_used</th>\n",
       "      <th>session_date</th>\n",
       "      <th>user_id</th>\n",
       "    </tr>\n",
       "  </thead>\n",
       "  <tbody>\n",
       "    <tr>\n",
       "      <th>0</th>\n",
       "      <td>0</td>\n",
       "      <td>1000_0</td>\n",
       "      <td>112.95</td>\n",
       "      <td>2018-11-25</td>\n",
       "      <td>1000</td>\n",
       "    </tr>\n",
       "    <tr>\n",
       "      <th>1</th>\n",
       "      <td>1</td>\n",
       "      <td>1000_1</td>\n",
       "      <td>1052.81</td>\n",
       "      <td>2018-09-07</td>\n",
       "      <td>1000</td>\n",
       "    </tr>\n",
       "    <tr>\n",
       "      <th>2</th>\n",
       "      <td>2</td>\n",
       "      <td>1000_2</td>\n",
       "      <td>1197.26</td>\n",
       "      <td>2018-06-25</td>\n",
       "      <td>1000</td>\n",
       "    </tr>\n",
       "    <tr>\n",
       "      <th>3</th>\n",
       "      <td>3</td>\n",
       "      <td>1000_3</td>\n",
       "      <td>550.27</td>\n",
       "      <td>2018-08-22</td>\n",
       "      <td>1000</td>\n",
       "    </tr>\n",
       "    <tr>\n",
       "      <th>4</th>\n",
       "      <td>4</td>\n",
       "      <td>1000_4</td>\n",
       "      <td>302.56</td>\n",
       "      <td>2018-09-24</td>\n",
       "      <td>1000</td>\n",
       "    </tr>\n",
       "  </tbody>\n",
       "</table>\n",
       "</div>"
      ],
      "text/plain": [
       "   Unnamed: 0      id  mb_used session_date  user_id\n",
       "0           0  1000_0   112.95   2018-11-25     1000\n",
       "1           1  1000_1  1052.81   2018-09-07     1000\n",
       "2           2  1000_2  1197.26   2018-06-25     1000\n",
       "3           3  1000_3   550.27   2018-08-22     1000\n",
       "4           4  1000_4   302.56   2018-09-24     1000"
      ]
     },
     "metadata": {},
     "output_type": "display_data"
    }
   ],
   "source": [
    "try:\n",
    "    internet = pd.read_csv('/datasets/internet.csv')\n",
    "except:\n",
    "    internet = pd.read_csv('internet.csv')\n",
    "display(internet.head())"
   ]
  },
  {
   "cell_type": "markdown",
   "metadata": {},
   "source": [
    "Согласно документации к данным, в датафрейме содержится следующая информация:\n",
    "\n",
    "**Таблица internet (информация об интернет-сессиях):**\n",
    "- id — уникальный номер сессии\n",
    "- mb_used — объём потраченного за сессию интернет-трафика (в мегабайтах)\n",
    "- session_date — дата интернет-сессии\n",
    "- user_id — идентификатор пользователя\n",
    "\n",
    "Познакомимся с основной информацией о таблице:"
   ]
  },
  {
   "cell_type": "code",
   "execution_count": 9,
   "metadata": {},
   "outputs": [
    {
     "name": "stdout",
     "output_type": "stream",
     "text": [
      "<class 'pandas.core.frame.DataFrame'>\n",
      "RangeIndex: 149396 entries, 0 to 149395\n",
      "Data columns (total 5 columns):\n",
      " #   Column        Non-Null Count   Dtype  \n",
      "---  ------        --------------   -----  \n",
      " 0   Unnamed: 0    149396 non-null  int64  \n",
      " 1   id            149396 non-null  object \n",
      " 2   mb_used       149396 non-null  float64\n",
      " 3   session_date  149396 non-null  object \n",
      " 4   user_id       149396 non-null  int64  \n",
      "dtypes: float64(1), int64(2), object(2)\n",
      "memory usage: 5.7+ MB\n"
     ]
    }
   ],
   "source": [
    "internet.info()"
   ]
  },
  {
   "cell_type": "markdown",
   "metadata": {},
   "source": [
    "Снова в нашем датафрейме не наблюдается пропущенных значений, проверим его на наличие подозрительных посредством знакомого метода *describe()*:"
   ]
  },
  {
   "cell_type": "code",
   "execution_count": 10,
   "metadata": {},
   "outputs": [
    {
     "data": {
      "text/html": [
       "<div>\n",
       "<style scoped>\n",
       "    .dataframe tbody tr th:only-of-type {\n",
       "        vertical-align: middle;\n",
       "    }\n",
       "\n",
       "    .dataframe tbody tr th {\n",
       "        vertical-align: top;\n",
       "    }\n",
       "\n",
       "    .dataframe thead th {\n",
       "        text-align: right;\n",
       "    }\n",
       "</style>\n",
       "<table border=\"1\" class=\"dataframe\">\n",
       "  <thead>\n",
       "    <tr style=\"text-align: right;\">\n",
       "      <th></th>\n",
       "      <th>Unnamed: 0</th>\n",
       "      <th>mb_used</th>\n",
       "      <th>user_id</th>\n",
       "    </tr>\n",
       "  </thead>\n",
       "  <tbody>\n",
       "    <tr>\n",
       "      <th>count</th>\n",
       "      <td>149396.000000</td>\n",
       "      <td>149396.000000</td>\n",
       "      <td>149396.000000</td>\n",
       "    </tr>\n",
       "    <tr>\n",
       "      <th>mean</th>\n",
       "      <td>74697.500000</td>\n",
       "      <td>370.192426</td>\n",
       "      <td>1252.099842</td>\n",
       "    </tr>\n",
       "    <tr>\n",
       "      <th>std</th>\n",
       "      <td>43127.054745</td>\n",
       "      <td>278.300951</td>\n",
       "      <td>144.050823</td>\n",
       "    </tr>\n",
       "    <tr>\n",
       "      <th>min</th>\n",
       "      <td>0.000000</td>\n",
       "      <td>0.000000</td>\n",
       "      <td>1000.000000</td>\n",
       "    </tr>\n",
       "    <tr>\n",
       "      <th>25%</th>\n",
       "      <td>37348.750000</td>\n",
       "      <td>138.187500</td>\n",
       "      <td>1130.000000</td>\n",
       "    </tr>\n",
       "    <tr>\n",
       "      <th>50%</th>\n",
       "      <td>74697.500000</td>\n",
       "      <td>348.015000</td>\n",
       "      <td>1251.000000</td>\n",
       "    </tr>\n",
       "    <tr>\n",
       "      <th>75%</th>\n",
       "      <td>112046.250000</td>\n",
       "      <td>559.552500</td>\n",
       "      <td>1380.000000</td>\n",
       "    </tr>\n",
       "    <tr>\n",
       "      <th>max</th>\n",
       "      <td>149395.000000</td>\n",
       "      <td>1724.830000</td>\n",
       "      <td>1499.000000</td>\n",
       "    </tr>\n",
       "  </tbody>\n",
       "</table>\n",
       "</div>"
      ],
      "text/plain": [
       "          Unnamed: 0        mb_used        user_id\n",
       "count  149396.000000  149396.000000  149396.000000\n",
       "mean    74697.500000     370.192426    1252.099842\n",
       "std     43127.054745     278.300951     144.050823\n",
       "min         0.000000       0.000000    1000.000000\n",
       "25%     37348.750000     138.187500    1130.000000\n",
       "50%     74697.500000     348.015000    1251.000000\n",
       "75%    112046.250000     559.552500    1380.000000\n",
       "max    149395.000000    1724.830000    1499.000000"
      ]
     },
     "execution_count": 10,
     "metadata": {},
     "output_type": "execute_result"
    }
   ],
   "source": [
    "internet.describe()"
   ]
  },
  {
   "cell_type": "markdown",
   "metadata": {},
   "source": [
    "В графе *'mb_used'* можно заметить большой разрыв между максимальным объёмом потраченного за сессию интернет-трафика и его значением на уровне 75% всех наблюдений. Имеют место выбросы, построим диаграмму рассеяния, чтобы их увидеть:"
   ]
  },
  {
   "cell_type": "code",
   "execution_count": 11,
   "metadata": {},
   "outputs": [
    {
     "data": {
      "image/png": "[encoded data removed]",
      "text/plain": [
       "<Figure size 432x288 with 1 Axes>"
      ]
     },
     "metadata": {
      "needs_background": "light"
     },
     "output_type": "display_data"
    }
   ],
   "source": [
    "sns.boxplot(x='mb_used', data=internet);"
   ]
  },
  {
   "cell_type": "markdown",
   "metadata": {},
   "source": [
    "Диаграмма рассеяния подтвердила наши подозрения, и мы видим, что ряд выбивающихся значений оказался за пределами диаграммы. Посчитаем,  сколько таких значений у нас получается:"
   ]
  },
  {
   "cell_type": "code",
   "execution_count": 12,
   "metadata": {},
   "outputs": [
    {
     "data": {
      "text/plain": [
       "494"
      ]
     },
     "execution_count": 12,
     "metadata": {},
     "output_type": "execute_result"
    }
   ],
   "source": [
    "len(internet[internet['mb_used']>1200])"
   ]
  },
  {
   "cell_type": "markdown",
   "metadata": {},
   "source": [
    "В итоге сильно \"мегабайтозатратными\" оказалось около 0,33% интернет-сессий. Однако, они сделали свой вклад в объем выручки \"Мегалайна\", поэтому удалять их в рамках текущего исследования нецелесообразно. Посмотрим, как распределился объем потраченного трафика по всем пользователям. Для этого построим гистограмму."
   ]
  },
  {
   "cell_type": "code",
   "execution_count": 13,
   "metadata": {},
   "outputs": [
    {
     "data": {
      "image/png": "[encoded data removed]",
      "text/plain": [
       "<Figure size 864x360 with 1 Axes>"
      ]
     },
     "metadata": {
      "needs_background": "light"
     },
     "output_type": "display_data"
    }
   ],
   "source": [
    "internet.plot(kind='hist', y='mb_used', bins=100, range = (0, 1750),\n",
    "        label='mb_used',color='violet', grid=True,\n",
    "        legend=True, title='mb_used', figsize=(12,5))\n",
    "plt.title('Объём потраченного за сессию интернет-трафика (в мегабайтах)')\n",
    "plt.xlabel('Объём трафика')\n",
    "plt.ylabel('Частота');"
   ]
  },
  {
   "cell_type": "markdown",
   "metadata": {},
   "source": [
    "На гистограмме мы видим резкий пик в районе нуля. Это, судя по всему, несостоявшиеся интернет-сессии или неактивные с точки зрения потребления трафика пользователи. А вот значений больше 1200 Mb очень мало, это очень хорошо видно на гистограмме."
   ]
  },
  {
   "cell_type": "markdown",
   "metadata": {},
   "source": [
    "Переведем дату совершенной интернет-сессии в тип *datetime*: "
   ]
  },
  {
   "cell_type": "code",
   "execution_count": 14,
   "metadata": {},
   "outputs": [
    {
     "data": {
      "text/plain": [
       "Unnamed: 0               int64\n",
       "id                      object\n",
       "mb_used                float64\n",
       "session_date    datetime64[ns]\n",
       "user_id                  int64\n",
       "dtype: object"
      ]
     },
     "execution_count": 14,
     "metadata": {},
     "output_type": "execute_result"
    }
   ],
   "source": [
    "internet['session_date'] = pd.to_datetime(internet['session_date'], format = '%Y-%m-%d')\n",
    "internet.dtypes"
   ]
  },
  {
   "cell_type": "markdown",
   "metadata": {},
   "source": [
    "Проверим, нет ли в таблице явных дубликатов:"
   ]
  },
  {
   "cell_type": "code",
   "execution_count": 15,
   "metadata": {},
   "outputs": [
    {
     "data": {
      "text/plain": [
       "0"
      ]
     },
     "execution_count": 15,
     "metadata": {},
     "output_type": "execute_result"
    }
   ],
   "source": [
    "internet.duplicated().sum()"
   ]
  },
  {
   "cell_type": "markdown",
   "metadata": {},
   "source": [
    "Так как анализировать информацию нам предстоит в разрезе месяцев, добавим в таблицу дополнительный столбец, содержащий информацию о месяце, в который была совершена интернет-сессия. В таков виде данные будет удобно группировать.  \n",
    "На этом же шаге избавимся от ненужных столбцов (идентификатор каждой интернет-сессии и *'Unnamed'* - индекс строки):"
   ]
  },
  {
   "cell_type": "code",
   "execution_count": 16,
   "metadata": {},
   "outputs": [
    {
     "data": {
      "text/html": [
       "<div>\n",
       "<style scoped>\n",
       "    .dataframe tbody tr th:only-of-type {\n",
       "        vertical-align: middle;\n",
       "    }\n",
       "\n",
       "    .dataframe tbody tr th {\n",
       "        vertical-align: top;\n",
       "    }\n",
       "\n",
       "    .dataframe thead th {\n",
       "        text-align: right;\n",
       "    }\n",
       "</style>\n",
       "<table border=\"1\" class=\"dataframe\">\n",
       "  <thead>\n",
       "    <tr style=\"text-align: right;\">\n",
       "      <th></th>\n",
       "      <th>mb_used</th>\n",
       "      <th>session_date</th>\n",
       "      <th>user_id</th>\n",
       "      <th>month</th>\n",
       "    </tr>\n",
       "  </thead>\n",
       "  <tbody>\n",
       "    <tr>\n",
       "      <th>17991</th>\n",
       "      <td>725.80</td>\n",
       "      <td>2018-09-25</td>\n",
       "      <td>1063</td>\n",
       "      <td>2018-09-01</td>\n",
       "    </tr>\n",
       "    <tr>\n",
       "      <th>23432</th>\n",
       "      <td>320.08</td>\n",
       "      <td>2018-11-18</td>\n",
       "      <td>1079</td>\n",
       "      <td>2018-11-01</td>\n",
       "    </tr>\n",
       "    <tr>\n",
       "      <th>142319</th>\n",
       "      <td>495.70</td>\n",
       "      <td>2018-05-01</td>\n",
       "      <td>1477</td>\n",
       "      <td>2018-05-01</td>\n",
       "    </tr>\n",
       "    <tr>\n",
       "      <th>32662</th>\n",
       "      <td>0.00</td>\n",
       "      <td>2018-09-29</td>\n",
       "      <td>1114</td>\n",
       "      <td>2018-09-01</td>\n",
       "    </tr>\n",
       "    <tr>\n",
       "      <th>98363</th>\n",
       "      <td>615.52</td>\n",
       "      <td>2018-04-30</td>\n",
       "      <td>1330</td>\n",
       "      <td>2018-04-01</td>\n",
       "    </tr>\n",
       "  </tbody>\n",
       "</table>\n",
       "</div>"
      ],
      "text/plain": [
       "        mb_used session_date  user_id      month\n",
       "17991    725.80   2018-09-25     1063 2018-09-01\n",
       "23432    320.08   2018-11-18     1079 2018-11-01\n",
       "142319   495.70   2018-05-01     1477 2018-05-01\n",
       "32662      0.00   2018-09-29     1114 2018-09-01\n",
       "98363    615.52   2018-04-30     1330 2018-04-01"
      ]
     },
     "execution_count": 16,
     "metadata": {},
     "output_type": "execute_result"
    }
   ],
   "source": [
    "internet['month'] = internet['session_date'].values.astype('datetime64[M]')\n",
    "internet = internet[['mb_used', 'session_date', 'user_id', 'month']]\n",
    "internet.sample(5)"
   ]
  },
  {
   "cell_type": "markdown",
   "metadata": {},
   "source": [
    "___\n",
    "Перейдём к таблице, содержащей информацию об отправленных сообщениях. Прочитаем файл и выведем на экран первые пять строк:"
   ]
  },
  {
   "cell_type": "code",
   "execution_count": 17,
   "metadata": {},
   "outputs": [
    {
     "data": {
      "text/html": [
       "<div>\n",
       "<style scoped>\n",
       "    .dataframe tbody tr th:only-of-type {\n",
       "        vertical-align: middle;\n",
       "    }\n",
       "\n",
       "    .dataframe tbody tr th {\n",
       "        vertical-align: top;\n",
       "    }\n",
       "\n",
       "    .dataframe thead th {\n",
       "        text-align: right;\n",
       "    }\n",
       "</style>\n",
       "<table border=\"1\" class=\"dataframe\">\n",
       "  <thead>\n",
       "    <tr style=\"text-align: right;\">\n",
       "      <th></th>\n",
       "      <th>id</th>\n",
       "      <th>message_date</th>\n",
       "      <th>user_id</th>\n",
       "    </tr>\n",
       "  </thead>\n",
       "  <tbody>\n",
       "    <tr>\n",
       "      <th>0</th>\n",
       "      <td>1000_0</td>\n",
       "      <td>2018-06-27</td>\n",
       "      <td>1000</td>\n",
       "    </tr>\n",
       "    <tr>\n",
       "      <th>1</th>\n",
       "      <td>1000_1</td>\n",
       "      <td>2018-10-08</td>\n",
       "      <td>1000</td>\n",
       "    </tr>\n",
       "    <tr>\n",
       "      <th>2</th>\n",
       "      <td>1000_2</td>\n",
       "      <td>2018-08-04</td>\n",
       "      <td>1000</td>\n",
       "    </tr>\n",
       "    <tr>\n",
       "      <th>3</th>\n",
       "      <td>1000_3</td>\n",
       "      <td>2018-06-16</td>\n",
       "      <td>1000</td>\n",
       "    </tr>\n",
       "    <tr>\n",
       "      <th>4</th>\n",
       "      <td>1000_4</td>\n",
       "      <td>2018-12-05</td>\n",
       "      <td>1000</td>\n",
       "    </tr>\n",
       "  </tbody>\n",
       "</table>\n",
       "</div>"
      ],
      "text/plain": [
       "       id message_date  user_id\n",
       "0  1000_0   2018-06-27     1000\n",
       "1  1000_1   2018-10-08     1000\n",
       "2  1000_2   2018-08-04     1000\n",
       "3  1000_3   2018-06-16     1000\n",
       "4  1000_4   2018-12-05     1000"
      ]
     },
     "metadata": {},
     "output_type": "display_data"
    }
   ],
   "source": [
    "try:\n",
    "    messages = pd.read_csv('/datasets/messages.csv')\n",
    "except:\n",
    "    messages = pd.read_csv('messages.csv')\n",
    "display(messages.head())"
   ]
  },
  {
   "cell_type": "markdown",
   "metadata": {},
   "source": [
    "Согласно документации к данным, в датафрейме содержатся следующие данные:  \n",
    "\n",
    "**Таблица messages (информация о сообщениях):**\n",
    "- id — уникальный номер сообщения\n",
    "- message_date — дата сообщения\n",
    "- user_id — идентификатор пользователя, отправившего сообщение\n",
    "\n",
    "Познакомимся с основной информацией о таблице:"
   ]
  },
  {
   "cell_type": "code",
   "execution_count": 18,
   "metadata": {},
   "outputs": [
    {
     "name": "stdout",
     "output_type": "stream",
     "text": [
      "<class 'pandas.core.frame.DataFrame'>\n",
      "RangeIndex: 123036 entries, 0 to 123035\n",
      "Data columns (total 3 columns):\n",
      " #   Column        Non-Null Count   Dtype \n",
      "---  ------        --------------   ----- \n",
      " 0   id            123036 non-null  object\n",
      " 1   message_date  123036 non-null  object\n",
      " 2   user_id       123036 non-null  int64 \n",
      "dtypes: int64(1), object(2)\n",
      "memory usage: 2.8+ MB\n"
     ]
    }
   ],
   "source": [
    "messages.info()"
   ]
  },
  {
   "cell_type": "markdown",
   "metadata": {},
   "source": [
    "Таблица не содержит пропущенных значений. Переведём дату отправки сообщения в удобный тип данных:"
   ]
  },
  {
   "cell_type": "code",
   "execution_count": 19,
   "metadata": {},
   "outputs": [
    {
     "data": {
      "text/plain": [
       "id                      object\n",
       "message_date    datetime64[ns]\n",
       "user_id                  int64\n",
       "dtype: object"
      ]
     },
     "execution_count": 19,
     "metadata": {},
     "output_type": "execute_result"
    }
   ],
   "source": [
    "messages['message_date'] = pd.to_datetime(messages['message_date'], format = '%Y-%m-%d')\n",
    "messages.dtypes"
   ]
  },
  {
   "cell_type": "markdown",
   "metadata": {},
   "source": [
    "Проверим таблицу на наличие явных дубликатов:"
   ]
  },
  {
   "cell_type": "code",
   "execution_count": 20,
   "metadata": {},
   "outputs": [
    {
     "data": {
      "text/plain": [
       "0"
      ]
     },
     "execution_count": 20,
     "metadata": {},
     "output_type": "execute_result"
    }
   ],
   "source": [
    "messages.duplicated().sum()"
   ]
  },
  {
   "cell_type": "markdown",
   "metadata": {},
   "source": [
    "Так как анализировать информацию нам предстоит в разрезе месяцев, добавим в таблицу дополнительный столбец, содержащий информацию о месяце, в который было отправлено сообщение. В таком виде данные будет удобно группировать.  \n",
    "Кроме того, для удобства подсчета количества отправленных сообщений добавим в таблицу столбец-счетчик, где на каждое наблюдение проставим \"1\". Выведем на экран 5 случайных строк, чтобы убедиться в том, что таблица обновилась:"
   ]
  },
  {
   "cell_type": "code",
   "execution_count": 21,
   "metadata": {},
   "outputs": [
    {
     "data": {
      "text/html": [
       "<div>\n",
       "<style scoped>\n",
       "    .dataframe tbody tr th:only-of-type {\n",
       "        vertical-align: middle;\n",
       "    }\n",
       "\n",
       "    .dataframe tbody tr th {\n",
       "        vertical-align: top;\n",
       "    }\n",
       "\n",
       "    .dataframe thead th {\n",
       "        text-align: right;\n",
       "    }\n",
       "</style>\n",
       "<table border=\"1\" class=\"dataframe\">\n",
       "  <thead>\n",
       "    <tr style=\"text-align: right;\">\n",
       "      <th></th>\n",
       "      <th>message_date</th>\n",
       "      <th>user_id</th>\n",
       "      <th>month</th>\n",
       "      <th>message_count</th>\n",
       "    </tr>\n",
       "  </thead>\n",
       "  <tbody>\n",
       "    <tr>\n",
       "      <th>62019</th>\n",
       "      <td>2018-09-28</td>\n",
       "      <td>1272</td>\n",
       "      <td>2018-09-01</td>\n",
       "      <td>1</td>\n",
       "    </tr>\n",
       "    <tr>\n",
       "      <th>95203</th>\n",
       "      <td>2018-05-18</td>\n",
       "      <td>1392</td>\n",
       "      <td>2018-05-01</td>\n",
       "      <td>1</td>\n",
       "    </tr>\n",
       "    <tr>\n",
       "      <th>104242</th>\n",
       "      <td>2018-09-09</td>\n",
       "      <td>1424</td>\n",
       "      <td>2018-09-01</td>\n",
       "      <td>1</td>\n",
       "    </tr>\n",
       "    <tr>\n",
       "      <th>2571</th>\n",
       "      <td>2018-05-10</td>\n",
       "      <td>1005</td>\n",
       "      <td>2018-05-01</td>\n",
       "      <td>1</td>\n",
       "    </tr>\n",
       "    <tr>\n",
       "      <th>68881</th>\n",
       "      <td>2018-09-02</td>\n",
       "      <td>1294</td>\n",
       "      <td>2018-09-01</td>\n",
       "      <td>1</td>\n",
       "    </tr>\n",
       "  </tbody>\n",
       "</table>\n",
       "</div>"
      ],
      "text/plain": [
       "       message_date  user_id      month  message_count\n",
       "62019    2018-09-28     1272 2018-09-01              1\n",
       "95203    2018-05-18     1392 2018-05-01              1\n",
       "104242   2018-09-09     1424 2018-09-01              1\n",
       "2571     2018-05-10     1005 2018-05-01              1\n",
       "68881    2018-09-02     1294 2018-09-01              1"
      ]
     },
     "execution_count": 21,
     "metadata": {},
     "output_type": "execute_result"
    }
   ],
   "source": [
    "messages['month'] = messages['message_date'].values.astype('datetime64[M]')\n",
    "messages['message_count'] = 1\n",
    "messages = messages[['message_date', 'user_id', 'month', 'message_count']]\n",
    "messages.sample(5)"
   ]
  },
  {
   "cell_type": "markdown",
   "metadata": {},
   "source": [
    "___\n",
    "Изучим таблицу с информацией о тарифах:"
   ]
  },
  {
   "cell_type": "code",
   "execution_count": 22,
   "metadata": {},
   "outputs": [
    {
     "data": {
      "text/html": [
       "<div>\n",
       "<style scoped>\n",
       "    .dataframe tbody tr th:only-of-type {\n",
       "        vertical-align: middle;\n",
       "    }\n",
       "\n",
       "    .dataframe tbody tr th {\n",
       "        vertical-align: top;\n",
       "    }\n",
       "\n",
       "    .dataframe thead th {\n",
       "        text-align: right;\n",
       "    }\n",
       "</style>\n",
       "<table border=\"1\" class=\"dataframe\">\n",
       "  <thead>\n",
       "    <tr style=\"text-align: right;\">\n",
       "      <th></th>\n",
       "      <th>messages_included</th>\n",
       "      <th>mb_per_month_included</th>\n",
       "      <th>minutes_included</th>\n",
       "      <th>rub_monthly_fee</th>\n",
       "      <th>rub_per_gb</th>\n",
       "      <th>rub_per_message</th>\n",
       "      <th>rub_per_minute</th>\n",
       "      <th>tariff_name</th>\n",
       "    </tr>\n",
       "  </thead>\n",
       "  <tbody>\n",
       "    <tr>\n",
       "      <th>0</th>\n",
       "      <td>50</td>\n",
       "      <td>15360</td>\n",
       "      <td>500</td>\n",
       "      <td>550</td>\n",
       "      <td>200</td>\n",
       "      <td>3</td>\n",
       "      <td>3</td>\n",
       "      <td>smart</td>\n",
       "    </tr>\n",
       "    <tr>\n",
       "      <th>1</th>\n",
       "      <td>1000</td>\n",
       "      <td>30720</td>\n",
       "      <td>3000</td>\n",
       "      <td>1950</td>\n",
       "      <td>150</td>\n",
       "      <td>1</td>\n",
       "      <td>1</td>\n",
       "      <td>ultra</td>\n",
       "    </tr>\n",
       "  </tbody>\n",
       "</table>\n",
       "</div>"
      ],
      "text/plain": [
       "   messages_included  mb_per_month_included  minutes_included  \\\n",
       "0                 50                  15360               500   \n",
       "1               1000                  30720              3000   \n",
       "\n",
       "   rub_monthly_fee  rub_per_gb  rub_per_message  rub_per_minute tariff_name  \n",
       "0              550         200                3               3       smart  \n",
       "1             1950         150                1               1       ultra  "
      ]
     },
     "metadata": {},
     "output_type": "display_data"
    }
   ],
   "source": [
    "try:\n",
    "    tariffs = pd.read_csv('/datasets/tariffs.csv')\n",
    "except:\n",
    "    tariffs = pd.read_csv('tariffs.csv')\n",
    "display(tariffs.head())"
   ]
  },
  {
   "cell_type": "markdown",
   "metadata": {},
   "source": [
    "Перед нами лаконичная таблица всего из двух строк, отображает информацию о двух сравниваемых тарифах.  \n",
    "Согласно документации к данным, в датафрейме хранятся следующие данные:\n",
    "\n",
    "**Таблица tariffs (информация о тарифах):**\n",
    "- tariff_name — название тарифа\n",
    "- rub_monthly_fee — ежемесячная абонентская плата в рублях\n",
    "- minutes_included — количество минут разговора в месяц, включённых в абонентскую плату\n",
    "- messages_included — количество сообщений в месяц, включённых в абонентскую плату\n",
    "- mb_per_month_included — объём интернет-трафика, включённого в абонентскую плату (в мегабайтах)\n",
    "- rub_per_minute — стоимость минуты разговора сверх тарифного пакета (например, если в тарифе 100 минут разговора в месяц, то со 101 минуты будет взиматься плата)\n",
    "- rub_per_message — стоимость отправки сообщения сверх тарифного пакета\n",
    "- rub_per_gb — стоимость дополнительного гигабайта интернет-трафика сверх тарифного пакета (1 гигабайт = 1024 мегабайта)\n",
    "\n",
    "Просмотрим общую информацию о таблице:"
   ]
  },
  {
   "cell_type": "code",
   "execution_count": 23,
   "metadata": {},
   "outputs": [
    {
     "name": "stdout",
     "output_type": "stream",
     "text": [
      "<class 'pandas.core.frame.DataFrame'>\n",
      "RangeIndex: 2 entries, 0 to 1\n",
      "Data columns (total 8 columns):\n",
      " #   Column                 Non-Null Count  Dtype \n",
      "---  ------                 --------------  ----- \n",
      " 0   messages_included      2 non-null      int64 \n",
      " 1   mb_per_month_included  2 non-null      int64 \n",
      " 2   minutes_included       2 non-null      int64 \n",
      " 3   rub_monthly_fee        2 non-null      int64 \n",
      " 4   rub_per_gb             2 non-null      int64 \n",
      " 5   rub_per_message        2 non-null      int64 \n",
      " 6   rub_per_minute         2 non-null      int64 \n",
      " 7   tariff_name            2 non-null      object\n",
      "dtypes: int64(7), object(1)\n",
      "memory usage: 256.0+ bytes\n"
     ]
    }
   ],
   "source": [
    "tariffs.info()"
   ]
  },
  {
   "cell_type": "markdown",
   "metadata": {},
   "source": [
    "Переведем мегабайты в гигабайты и соответственно присвоим новое имя графе. Также переименуем столбец *'tariff_name'* в более лаконичный и удобный *'tariff'* (это нам поможет при дальнейшем объединении, потому как аналогичный столбец есть в таблице с информацией о пользователях."
   ]
  },
  {
   "cell_type": "code",
   "execution_count": 24,
   "metadata": {},
   "outputs": [
    {
     "data": {
      "text/html": [
       "<div>\n",
       "<style scoped>\n",
       "    .dataframe tbody tr th:only-of-type {\n",
       "        vertical-align: middle;\n",
       "    }\n",
       "\n",
       "    .dataframe tbody tr th {\n",
       "        vertical-align: top;\n",
       "    }\n",
       "\n",
       "    .dataframe thead th {\n",
       "        text-align: right;\n",
       "    }\n",
       "</style>\n",
       "<table border=\"1\" class=\"dataframe\">\n",
       "  <thead>\n",
       "    <tr style=\"text-align: right;\">\n",
       "      <th></th>\n",
       "      <th>messages_included</th>\n",
       "      <th>gb_per_month_included</th>\n",
       "      <th>minutes_included</th>\n",
       "      <th>rub_monthly_fee</th>\n",
       "      <th>rub_per_gb</th>\n",
       "      <th>rub_per_message</th>\n",
       "      <th>rub_per_minute</th>\n",
       "      <th>tariff</th>\n",
       "    </tr>\n",
       "  </thead>\n",
       "  <tbody>\n",
       "    <tr>\n",
       "      <th>0</th>\n",
       "      <td>50</td>\n",
       "      <td>15.0</td>\n",
       "      <td>500</td>\n",
       "      <td>550</td>\n",
       "      <td>200</td>\n",
       "      <td>3</td>\n",
       "      <td>3</td>\n",
       "      <td>smart</td>\n",
       "    </tr>\n",
       "    <tr>\n",
       "      <th>1</th>\n",
       "      <td>1000</td>\n",
       "      <td>30.0</td>\n",
       "      <td>3000</td>\n",
       "      <td>1950</td>\n",
       "      <td>150</td>\n",
       "      <td>1</td>\n",
       "      <td>1</td>\n",
       "      <td>ultra</td>\n",
       "    </tr>\n",
       "  </tbody>\n",
       "</table>\n",
       "</div>"
      ],
      "text/plain": [
       "   messages_included  gb_per_month_included  minutes_included  \\\n",
       "0                 50                   15.0               500   \n",
       "1               1000                   30.0              3000   \n",
       "\n",
       "   rub_monthly_fee  rub_per_gb  rub_per_message  rub_per_minute tariff  \n",
       "0              550         200                3               3  smart  \n",
       "1             1950         150                1               1  ultra  "
      ]
     },
     "metadata": {},
     "output_type": "display_data"
    }
   ],
   "source": [
    "tariffs['mb_per_month_included'] = tariffs['mb_per_month_included']/1024\n",
    "tariffs = tariffs.rename(columns = {'tariff_name':'tariff', 'mb_per_month_included':'gb_per_month_included'})\n",
    "display(tariffs)"
   ]
  },
  {
   "cell_type": "markdown",
   "metadata": {},
   "source": [
    "___\n",
    "Последняя таблица хранит в себе информацию о пользователях. Посмотрим на первые пять строк:"
   ]
  },
  {
   "cell_type": "code",
   "execution_count": 25,
   "metadata": {},
   "outputs": [
    {
     "data": {
      "text/html": [
       "<div>\n",
       "<style scoped>\n",
       "    .dataframe tbody tr th:only-of-type {\n",
       "        vertical-align: middle;\n",
       "    }\n",
       "\n",
       "    .dataframe tbody tr th {\n",
       "        vertical-align: top;\n",
       "    }\n",
       "\n",
       "    .dataframe thead th {\n",
       "        text-align: right;\n",
       "    }\n",
       "</style>\n",
       "<table border=\"1\" class=\"dataframe\">\n",
       "  <thead>\n",
       "    <tr style=\"text-align: right;\">\n",
       "      <th></th>\n",
       "      <th>user_id</th>\n",
       "      <th>age</th>\n",
       "      <th>churn_date</th>\n",
       "      <th>city</th>\n",
       "      <th>first_name</th>\n",
       "      <th>last_name</th>\n",
       "      <th>reg_date</th>\n",
       "      <th>tariff</th>\n",
       "    </tr>\n",
       "  </thead>\n",
       "  <tbody>\n",
       "    <tr>\n",
       "      <th>0</th>\n",
       "      <td>1000</td>\n",
       "      <td>52</td>\n",
       "      <td>NaN</td>\n",
       "      <td>Краснодар</td>\n",
       "      <td>Рафаил</td>\n",
       "      <td>Верещагин</td>\n",
       "      <td>2018-05-25</td>\n",
       "      <td>ultra</td>\n",
       "    </tr>\n",
       "    <tr>\n",
       "      <th>1</th>\n",
       "      <td>1001</td>\n",
       "      <td>41</td>\n",
       "      <td>NaN</td>\n",
       "      <td>Москва</td>\n",
       "      <td>Иван</td>\n",
       "      <td>Ежов</td>\n",
       "      <td>2018-11-01</td>\n",
       "      <td>smart</td>\n",
       "    </tr>\n",
       "    <tr>\n",
       "      <th>2</th>\n",
       "      <td>1002</td>\n",
       "      <td>59</td>\n",
       "      <td>NaN</td>\n",
       "      <td>Стерлитамак</td>\n",
       "      <td>Евгений</td>\n",
       "      <td>Абрамович</td>\n",
       "      <td>2018-06-17</td>\n",
       "      <td>smart</td>\n",
       "    </tr>\n",
       "    <tr>\n",
       "      <th>3</th>\n",
       "      <td>1003</td>\n",
       "      <td>23</td>\n",
       "      <td>NaN</td>\n",
       "      <td>Москва</td>\n",
       "      <td>Белла</td>\n",
       "      <td>Белякова</td>\n",
       "      <td>2018-08-17</td>\n",
       "      <td>ultra</td>\n",
       "    </tr>\n",
       "    <tr>\n",
       "      <th>4</th>\n",
       "      <td>1004</td>\n",
       "      <td>68</td>\n",
       "      <td>NaN</td>\n",
       "      <td>Новокузнецк</td>\n",
       "      <td>Татьяна</td>\n",
       "      <td>Авдеенко</td>\n",
       "      <td>2018-05-14</td>\n",
       "      <td>ultra</td>\n",
       "    </tr>\n",
       "  </tbody>\n",
       "</table>\n",
       "</div>"
      ],
      "text/plain": [
       "   user_id  age churn_date         city first_name  last_name    reg_date  \\\n",
       "0     1000   52        NaN    Краснодар     Рафаил  Верещагин  2018-05-25   \n",
       "1     1001   41        NaN       Москва       Иван       Ежов  2018-11-01   \n",
       "2     1002   59        NaN  Стерлитамак    Евгений  Абрамович  2018-06-17   \n",
       "3     1003   23        NaN       Москва      Белла   Белякова  2018-08-17   \n",
       "4     1004   68        NaN  Новокузнецк    Татьяна   Авдеенко  2018-05-14   \n",
       "\n",
       "  tariff  \n",
       "0  ultra  \n",
       "1  smart  \n",
       "2  smart  \n",
       "3  ultra  \n",
       "4  ultra  "
      ]
     },
     "metadata": {},
     "output_type": "display_data"
    }
   ],
   "source": [
    "try:\n",
    "    users = pd.read_csv('/datasets/users.csv')\n",
    "except:\n",
    "    users = pd.read_csv('users.csv')\n",
    "display(users.head())"
   ]
  },
  {
   "cell_type": "markdown",
   "metadata": {},
   "source": [
    "Согласно документации к данным, датафрейм содержит следующую информацию:\n",
    "\n",
    "**Таблица users (информация о пользователях):**\n",
    "- user_id — уникальный идентификатор пользователя\n",
    "- first_name — имя пользователя\n",
    "- last_name — фамилия пользователя\n",
    "- age — возраст пользователя (годы)\n",
    "- reg_date — дата подключения тарифа (день, месяц, год)\n",
    "- churn_date — дата прекращения пользования тарифом (если значение пропущено, то тариф ещё действовал на момент выгрузки данных)\n",
    "- city — город проживания пользователя\n",
    "- tariff — название тарифного плана\n",
    "\n",
    "Посмотрим общую информацию о таблице:"
   ]
  },
  {
   "cell_type": "code",
   "execution_count": 26,
   "metadata": {},
   "outputs": [
    {
     "name": "stdout",
     "output_type": "stream",
     "text": [
      "<class 'pandas.core.frame.DataFrame'>\n",
      "RangeIndex: 500 entries, 0 to 499\n",
      "Data columns (total 8 columns):\n",
      " #   Column      Non-Null Count  Dtype \n",
      "---  ------      --------------  ----- \n",
      " 0   user_id     500 non-null    int64 \n",
      " 1   age         500 non-null    int64 \n",
      " 2   churn_date  38 non-null     object\n",
      " 3   city        500 non-null    object\n",
      " 4   first_name  500 non-null    object\n",
      " 5   last_name   500 non-null    object\n",
      " 6   reg_date    500 non-null    object\n",
      " 7   tariff      500 non-null    object\n",
      "dtypes: int64(2), object(6)\n",
      "memory usage: 31.4+ KB\n"
     ]
    }
   ],
   "source": [
    "users.info()"
   ]
  },
  {
   "cell_type": "markdown",
   "metadata": {},
   "source": [
    "Нам предоставлена информация о 500 пользователях. Пропущенные значения имеются только по датам прекращения пользования тарифом, что вполне объяснимо: тариф ещё действовал на момент выгрузки данных. Заполнять такие пропуски нецелесообразно.  \n",
    "Поработаем с датами, транформируем их в тип *datetime*:"
   ]
  },
  {
   "cell_type": "code",
   "execution_count": 27,
   "metadata": {},
   "outputs": [
    {
     "data": {
      "text/plain": [
       "user_id                int64\n",
       "age                    int64\n",
       "churn_date    datetime64[ns]\n",
       "city                  object\n",
       "first_name            object\n",
       "last_name             object\n",
       "reg_date      datetime64[ns]\n",
       "tariff                object\n",
       "dtype: object"
      ]
     },
     "execution_count": 27,
     "metadata": {},
     "output_type": "execute_result"
    }
   ],
   "source": [
    "users['reg_date'] = pd.to_datetime(users['reg_date'], format = '%Y-%m-%d')\n",
    "users['churn_date'] = pd.to_datetime(users['churn_date'], format = '%Y-%m-%d')\n",
    "users.dtypes"
   ]
  },
  {
   "cell_type": "markdown",
   "metadata": {},
   "source": [
    "Информация об имени, фамилии и возрасте пользователей в текущем исследовании не понадобится (достаточно уникального идентификатора *user_id*), поэтому избавимся от этих граф на этапе предобработки данных:"
   ]
  },
  {
   "cell_type": "code",
   "execution_count": 28,
   "metadata": {},
   "outputs": [
    {
     "data": {
      "text/html": [
       "<div>\n",
       "<style scoped>\n",
       "    .dataframe tbody tr th:only-of-type {\n",
       "        vertical-align: middle;\n",
       "    }\n",
       "\n",
       "    .dataframe tbody tr th {\n",
       "        vertical-align: top;\n",
       "    }\n",
       "\n",
       "    .dataframe thead th {\n",
       "        text-align: right;\n",
       "    }\n",
       "</style>\n",
       "<table border=\"1\" class=\"dataframe\">\n",
       "  <thead>\n",
       "    <tr style=\"text-align: right;\">\n",
       "      <th></th>\n",
       "      <th>user_id</th>\n",
       "      <th>churn_date</th>\n",
       "      <th>city</th>\n",
       "      <th>reg_date</th>\n",
       "      <th>tariff</th>\n",
       "    </tr>\n",
       "  </thead>\n",
       "  <tbody>\n",
       "    <tr>\n",
       "      <th>197</th>\n",
       "      <td>1197</td>\n",
       "      <td>NaT</td>\n",
       "      <td>Красноярск</td>\n",
       "      <td>2018-06-18</td>\n",
       "      <td>smart</td>\n",
       "    </tr>\n",
       "    <tr>\n",
       "      <th>437</th>\n",
       "      <td>1437</td>\n",
       "      <td>NaT</td>\n",
       "      <td>Казань</td>\n",
       "      <td>2018-08-03</td>\n",
       "      <td>smart</td>\n",
       "    </tr>\n",
       "    <tr>\n",
       "      <th>20</th>\n",
       "      <td>1020</td>\n",
       "      <td>2018-12-18</td>\n",
       "      <td>Чита</td>\n",
       "      <td>2018-10-22</td>\n",
       "      <td>smart</td>\n",
       "    </tr>\n",
       "    <tr>\n",
       "      <th>89</th>\n",
       "      <td>1089</td>\n",
       "      <td>NaT</td>\n",
       "      <td>Иркутск</td>\n",
       "      <td>2018-02-24</td>\n",
       "      <td>ultra</td>\n",
       "    </tr>\n",
       "    <tr>\n",
       "      <th>39</th>\n",
       "      <td>1039</td>\n",
       "      <td>NaT</td>\n",
       "      <td>Ярославль</td>\n",
       "      <td>2018-06-21</td>\n",
       "      <td>ultra</td>\n",
       "    </tr>\n",
       "  </tbody>\n",
       "</table>\n",
       "</div>"
      ],
      "text/plain": [
       "     user_id churn_date        city   reg_date tariff\n",
       "197     1197        NaT  Красноярск 2018-06-18  smart\n",
       "437     1437        NaT      Казань 2018-08-03  smart\n",
       "20      1020 2018-12-18        Чита 2018-10-22  smart\n",
       "89      1089        NaT     Иркутск 2018-02-24  ultra\n",
       "39      1039        NaT   Ярославль 2018-06-21  ultra"
      ]
     },
     "execution_count": 28,
     "metadata": {},
     "output_type": "execute_result"
    }
   ],
   "source": [
    "users = users[['user_id', 'churn_date', 'city', 'reg_date', 'tariff']]\n",
    "users.sample(5)"
   ]
  },
  {
   "cell_type": "markdown",
   "metadata": {},
   "source": [
    "В рамках текущего исследования необходимо будет сравнить среднюю выручку по пользователям из Москвы и других городов. Посмотрим, какие города оказались представлены в нашей выборке:"
   ]
  },
  {
   "cell_type": "code",
   "execution_count": 29,
   "metadata": {},
   "outputs": [
    {
     "data": {
      "text/plain": [
       "Москва             99\n",
       "Санкт-Петербург    39\n",
       "Новосибирск        16\n",
       "Омск               14\n",
       "Казань             14\n",
       "                   ..\n",
       "Архангельск         1\n",
       "Иваново             1\n",
       "Нижневартовск       1\n",
       "Химки               1\n",
       "Подольск            1\n",
       "Name: city, Length: 76, dtype: int64"
      ]
     },
     "execution_count": 29,
     "metadata": {},
     "output_type": "execute_result"
    }
   ],
   "source": [
    "users['city'].value_counts()"
   ]
  },
  {
   "cell_type": "markdown",
   "metadata": {},
   "source": [
    "Представленными оказаись 76 наименований, такая подробная катеоризация нам не нужна. Сузим её до трёх групп: Москва, Санкт-Петербург (как второй по объему представления в текущей выборке) и другие города. Перезапишем в столбец *'city'* новые категории:"
   ]
  },
  {
   "cell_type": "code",
   "execution_count": 30,
   "metadata": {},
   "outputs": [
    {
     "data": {
      "text/plain": [
       "Другой город       362\n",
       "Москва              99\n",
       "Санкт-Петербург     39\n",
       "Name: city, dtype: int64"
      ]
     },
     "execution_count": 30,
     "metadata": {},
     "output_type": "execute_result"
    }
   ],
   "source": [
    "# напишем функцию для перезаписи названий городов\n",
    "def city_rename(city):\n",
    "    if city == 'Москва':\n",
    "        return 'Москва'\n",
    "    if city == 'Санкт-Петербург':\n",
    "        return 'Санкт-Петербург'\n",
    "    return 'Другой город'\n",
    "\n",
    "users['city'] = users['city'].apply(city_rename)\n",
    "users['city'].value_counts()"
   ]
  },
  {
   "cell_type": "markdown",
   "metadata": {},
   "source": [
    "Таким образом, мы подготовили все наши таблицы к следующему шагу: группировкам и объединению.\n",
    "___\n",
    "Прежде, чем формировать датафрейм для исследования, убедимся, что в наших данных нет противоречий, а именно сравним даты звонков/сообщений/интернет-сессий с датами регистрации и прекращения пользования тарифом. Таким образом, выясним, все ли записи \"вписываются\" в срок действия тарифного плана.  \n",
    "Для этого к каждой из таблиц *'calls'*, *'internet'* и *'messages'* подсоединим данные из *'users'*:"
   ]
  },
  {
   "cell_type": "code",
   "execution_count": 31,
   "metadata": {},
   "outputs": [
    {
     "data": {
      "text/html": [
       "<div>\n",
       "<style scoped>\n",
       "    .dataframe tbody tr th:only-of-type {\n",
       "        vertical-align: middle;\n",
       "    }\n",
       "\n",
       "    .dataframe tbody tr th {\n",
       "        vertical-align: top;\n",
       "    }\n",
       "\n",
       "    .dataframe thead th {\n",
       "        text-align: right;\n",
       "    }\n",
       "</style>\n",
       "<table border=\"1\" class=\"dataframe\">\n",
       "  <thead>\n",
       "    <tr style=\"text-align: right;\">\n",
       "      <th></th>\n",
       "      <th>call_date</th>\n",
       "      <th>duration</th>\n",
       "      <th>user_id</th>\n",
       "      <th>month</th>\n",
       "      <th>duration_in_min</th>\n",
       "      <th>calls_count</th>\n",
       "      <th>churn_date</th>\n",
       "      <th>city</th>\n",
       "      <th>reg_date</th>\n",
       "      <th>tariff</th>\n",
       "    </tr>\n",
       "  </thead>\n",
       "  <tbody>\n",
       "    <tr>\n",
       "      <th>0</th>\n",
       "      <td>2018-07-25</td>\n",
       "      <td>0.00</td>\n",
       "      <td>1000</td>\n",
       "      <td>2018-07-01</td>\n",
       "      <td>0.0</td>\n",
       "      <td>1</td>\n",
       "      <td>NaT</td>\n",
       "      <td>Другой город</td>\n",
       "      <td>2018-05-25</td>\n",
       "      <td>ultra</td>\n",
       "    </tr>\n",
       "    <tr>\n",
       "      <th>1</th>\n",
       "      <td>2018-08-17</td>\n",
       "      <td>0.00</td>\n",
       "      <td>1000</td>\n",
       "      <td>2018-08-01</td>\n",
       "      <td>0.0</td>\n",
       "      <td>1</td>\n",
       "      <td>NaT</td>\n",
       "      <td>Другой город</td>\n",
       "      <td>2018-05-25</td>\n",
       "      <td>ultra</td>\n",
       "    </tr>\n",
       "    <tr>\n",
       "      <th>2</th>\n",
       "      <td>2018-06-11</td>\n",
       "      <td>2.85</td>\n",
       "      <td>1000</td>\n",
       "      <td>2018-06-01</td>\n",
       "      <td>3.0</td>\n",
       "      <td>1</td>\n",
       "      <td>NaT</td>\n",
       "      <td>Другой город</td>\n",
       "      <td>2018-05-25</td>\n",
       "      <td>ultra</td>\n",
       "    </tr>\n",
       "    <tr>\n",
       "      <th>3</th>\n",
       "      <td>2018-09-21</td>\n",
       "      <td>13.80</td>\n",
       "      <td>1000</td>\n",
       "      <td>2018-09-01</td>\n",
       "      <td>14.0</td>\n",
       "      <td>1</td>\n",
       "      <td>NaT</td>\n",
       "      <td>Другой город</td>\n",
       "      <td>2018-05-25</td>\n",
       "      <td>ultra</td>\n",
       "    </tr>\n",
       "    <tr>\n",
       "      <th>4</th>\n",
       "      <td>2018-12-15</td>\n",
       "      <td>5.18</td>\n",
       "      <td>1000</td>\n",
       "      <td>2018-12-01</td>\n",
       "      <td>6.0</td>\n",
       "      <td>1</td>\n",
       "      <td>NaT</td>\n",
       "      <td>Другой город</td>\n",
       "      <td>2018-05-25</td>\n",
       "      <td>ultra</td>\n",
       "    </tr>\n",
       "  </tbody>\n",
       "</table>\n",
       "</div>"
      ],
      "text/plain": [
       "   call_date  duration  user_id      month  duration_in_min  calls_count  \\\n",
       "0 2018-07-25      0.00     1000 2018-07-01              0.0            1   \n",
       "1 2018-08-17      0.00     1000 2018-08-01              0.0            1   \n",
       "2 2018-06-11      2.85     1000 2018-06-01              3.0            1   \n",
       "3 2018-09-21     13.80     1000 2018-09-01             14.0            1   \n",
       "4 2018-12-15      5.18     1000 2018-12-01              6.0            1   \n",
       "\n",
       "  churn_date          city   reg_date tariff  \n",
       "0        NaT  Другой город 2018-05-25  ultra  \n",
       "1        NaT  Другой город 2018-05-25  ultra  \n",
       "2        NaT  Другой город 2018-05-25  ultra  \n",
       "3        NaT  Другой город 2018-05-25  ultra  \n",
       "4        NaT  Другой город 2018-05-25  ultra  "
      ]
     },
     "execution_count": 31,
     "metadata": {},
     "output_type": "execute_result"
    }
   ],
   "source": [
    "calls_users = calls.merge(users, how='left', on='user_id')\n",
    "calls_users.head()"
   ]
  },
  {
   "cell_type": "markdown",
   "metadata": {},
   "source": [
    "Обратимся к ячейкам по условию выпадения из временного интервала действия тарифа. Если таких строк не окажется, то можно сделать вывод о том, что противоречий в данных по части звонков нет:"
   ]
  },
  {
   "cell_type": "code",
   "execution_count": 32,
   "metadata": {},
   "outputs": [
    {
     "data": {
      "text/html": [
       "<div>\n",
       "<style scoped>\n",
       "    .dataframe tbody tr th:only-of-type {\n",
       "        vertical-align: middle;\n",
       "    }\n",
       "\n",
       "    .dataframe tbody tr th {\n",
       "        vertical-align: top;\n",
       "    }\n",
       "\n",
       "    .dataframe thead th {\n",
       "        text-align: right;\n",
       "    }\n",
       "</style>\n",
       "<table border=\"1\" class=\"dataframe\">\n",
       "  <thead>\n",
       "    <tr style=\"text-align: right;\">\n",
       "      <th></th>\n",
       "      <th>call_date</th>\n",
       "      <th>duration</th>\n",
       "      <th>user_id</th>\n",
       "      <th>month</th>\n",
       "      <th>duration_in_min</th>\n",
       "      <th>calls_count</th>\n",
       "      <th>churn_date</th>\n",
       "      <th>city</th>\n",
       "      <th>reg_date</th>\n",
       "      <th>tariff</th>\n",
       "    </tr>\n",
       "  </thead>\n",
       "  <tbody>\n",
       "  </tbody>\n",
       "</table>\n",
       "</div>"
      ],
      "text/plain": [
       "Empty DataFrame\n",
       "Columns: [call_date, duration, user_id, month, duration_in_min, calls_count, churn_date, city, reg_date, tariff]\n",
       "Index: []"
      ]
     },
     "execution_count": 32,
     "metadata": {},
     "output_type": "execute_result"
    }
   ],
   "source": [
    "calls_users.loc[(calls_users['call_date'] < calls_users['reg_date']) | (\n",
    "    calls_users['call_date'] > calls_users['churn_date'])]"
   ]
  },
  {
   "cell_type": "markdown",
   "metadata": {},
   "source": [
    "Убедились в том, что с информацией о звонках всё в порядке. Проделаем всё то же самое для следующей таблицы:"
   ]
  },
  {
   "cell_type": "code",
   "execution_count": 33,
   "metadata": {},
   "outputs": [
    {
     "data": {
      "text/html": [
       "<div>\n",
       "<style scoped>\n",
       "    .dataframe tbody tr th:only-of-type {\n",
       "        vertical-align: middle;\n",
       "    }\n",
       "\n",
       "    .dataframe tbody tr th {\n",
       "        vertical-align: top;\n",
       "    }\n",
       "\n",
       "    .dataframe thead th {\n",
       "        text-align: right;\n",
       "    }\n",
       "</style>\n",
       "<table border=\"1\" class=\"dataframe\">\n",
       "  <thead>\n",
       "    <tr style=\"text-align: right;\">\n",
       "      <th></th>\n",
       "      <th>mb_used</th>\n",
       "      <th>session_date</th>\n",
       "      <th>user_id</th>\n",
       "      <th>month</th>\n",
       "      <th>churn_date</th>\n",
       "      <th>city</th>\n",
       "      <th>reg_date</th>\n",
       "      <th>tariff</th>\n",
       "    </tr>\n",
       "  </thead>\n",
       "  <tbody>\n",
       "    <tr>\n",
       "      <th>0</th>\n",
       "      <td>112.95</td>\n",
       "      <td>2018-11-25</td>\n",
       "      <td>1000</td>\n",
       "      <td>2018-11-01</td>\n",
       "      <td>NaT</td>\n",
       "      <td>Другой город</td>\n",
       "      <td>2018-05-25</td>\n",
       "      <td>ultra</td>\n",
       "    </tr>\n",
       "    <tr>\n",
       "      <th>1</th>\n",
       "      <td>1052.81</td>\n",
       "      <td>2018-09-07</td>\n",
       "      <td>1000</td>\n",
       "      <td>2018-09-01</td>\n",
       "      <td>NaT</td>\n",
       "      <td>Другой город</td>\n",
       "      <td>2018-05-25</td>\n",
       "      <td>ultra</td>\n",
       "    </tr>\n",
       "    <tr>\n",
       "      <th>2</th>\n",
       "      <td>1197.26</td>\n",
       "      <td>2018-06-25</td>\n",
       "      <td>1000</td>\n",
       "      <td>2018-06-01</td>\n",
       "      <td>NaT</td>\n",
       "      <td>Другой город</td>\n",
       "      <td>2018-05-25</td>\n",
       "      <td>ultra</td>\n",
       "    </tr>\n",
       "    <tr>\n",
       "      <th>3</th>\n",
       "      <td>550.27</td>\n",
       "      <td>2018-08-22</td>\n",
       "      <td>1000</td>\n",
       "      <td>2018-08-01</td>\n",
       "      <td>NaT</td>\n",
       "      <td>Другой город</td>\n",
       "      <td>2018-05-25</td>\n",
       "      <td>ultra</td>\n",
       "    </tr>\n",
       "    <tr>\n",
       "      <th>4</th>\n",
       "      <td>302.56</td>\n",
       "      <td>2018-09-24</td>\n",
       "      <td>1000</td>\n",
       "      <td>2018-09-01</td>\n",
       "      <td>NaT</td>\n",
       "      <td>Другой город</td>\n",
       "      <td>2018-05-25</td>\n",
       "      <td>ultra</td>\n",
       "    </tr>\n",
       "  </tbody>\n",
       "</table>\n",
       "</div>"
      ],
      "text/plain": [
       "   mb_used session_date  user_id      month churn_date          city  \\\n",
       "0   112.95   2018-11-25     1000 2018-11-01        NaT  Другой город   \n",
       "1  1052.81   2018-09-07     1000 2018-09-01        NaT  Другой город   \n",
       "2  1197.26   2018-06-25     1000 2018-06-01        NaT  Другой город   \n",
       "3   550.27   2018-08-22     1000 2018-08-01        NaT  Другой город   \n",
       "4   302.56   2018-09-24     1000 2018-09-01        NaT  Другой город   \n",
       "\n",
       "    reg_date tariff  \n",
       "0 2018-05-25  ultra  \n",
       "1 2018-05-25  ultra  \n",
       "2 2018-05-25  ultra  \n",
       "3 2018-05-25  ultra  \n",
       "4 2018-05-25  ultra  "
      ]
     },
     "execution_count": 33,
     "metadata": {},
     "output_type": "execute_result"
    }
   ],
   "source": [
    "internet_users = internet.merge(users, how='left', on='user_id')\n",
    "internet_users.head()"
   ]
  },
  {
   "cell_type": "markdown",
   "metadata": {},
   "source": [
    "Проверим условие для информации об интернет-сессиях:"
   ]
  },
  {
   "cell_type": "code",
   "execution_count": 34,
   "metadata": {},
   "outputs": [
    {
     "data": {
      "text/html": [
       "<div>\n",
       "<style scoped>\n",
       "    .dataframe tbody tr th:only-of-type {\n",
       "        vertical-align: middle;\n",
       "    }\n",
       "\n",
       "    .dataframe tbody tr th {\n",
       "        vertical-align: top;\n",
       "    }\n",
       "\n",
       "    .dataframe thead th {\n",
       "        text-align: right;\n",
       "    }\n",
       "</style>\n",
       "<table border=\"1\" class=\"dataframe\">\n",
       "  <thead>\n",
       "    <tr style=\"text-align: right;\">\n",
       "      <th></th>\n",
       "      <th>mb_used</th>\n",
       "      <th>session_date</th>\n",
       "      <th>user_id</th>\n",
       "      <th>month</th>\n",
       "      <th>churn_date</th>\n",
       "      <th>city</th>\n",
       "      <th>reg_date</th>\n",
       "      <th>tariff</th>\n",
       "    </tr>\n",
       "  </thead>\n",
       "  <tbody>\n",
       "  </tbody>\n",
       "</table>\n",
       "</div>"
      ],
      "text/plain": [
       "Empty DataFrame\n",
       "Columns: [mb_used, session_date, user_id, month, churn_date, city, reg_date, tariff]\n",
       "Index: []"
      ]
     },
     "execution_count": 34,
     "metadata": {},
     "output_type": "execute_result"
    }
   ],
   "source": [
    "internet_users.loc[(internet_users['session_date'] < internet_users['reg_date']) | (\n",
    "    internet_users['session_date'] > internet_users['churn_date'])]"
   ]
  },
  {
   "cell_type": "markdown",
   "metadata": {},
   "source": [
    "Всё в порядке и здесь. Перейдем к информации о сообщениях:"
   ]
  },
  {
   "cell_type": "code",
   "execution_count": 35,
   "metadata": {},
   "outputs": [
    {
     "data": {
      "text/html": [
       "<div>\n",
       "<style scoped>\n",
       "    .dataframe tbody tr th:only-of-type {\n",
       "        vertical-align: middle;\n",
       "    }\n",
       "\n",
       "    .dataframe tbody tr th {\n",
       "        vertical-align: top;\n",
       "    }\n",
       "\n",
       "    .dataframe thead th {\n",
       "        text-align: right;\n",
       "    }\n",
       "</style>\n",
       "<table border=\"1\" class=\"dataframe\">\n",
       "  <thead>\n",
       "    <tr style=\"text-align: right;\">\n",
       "      <th></th>\n",
       "      <th>message_date</th>\n",
       "      <th>user_id</th>\n",
       "      <th>month</th>\n",
       "      <th>message_count</th>\n",
       "      <th>churn_date</th>\n",
       "      <th>city</th>\n",
       "      <th>reg_date</th>\n",
       "      <th>tariff</th>\n",
       "    </tr>\n",
       "  </thead>\n",
       "  <tbody>\n",
       "    <tr>\n",
       "      <th>0</th>\n",
       "      <td>2018-06-27</td>\n",
       "      <td>1000</td>\n",
       "      <td>2018-06-01</td>\n",
       "      <td>1</td>\n",
       "      <td>NaT</td>\n",
       "      <td>Другой город</td>\n",
       "      <td>2018-05-25</td>\n",
       "      <td>ultra</td>\n",
       "    </tr>\n",
       "    <tr>\n",
       "      <th>1</th>\n",
       "      <td>2018-10-08</td>\n",
       "      <td>1000</td>\n",
       "      <td>2018-10-01</td>\n",
       "      <td>1</td>\n",
       "      <td>NaT</td>\n",
       "      <td>Другой город</td>\n",
       "      <td>2018-05-25</td>\n",
       "      <td>ultra</td>\n",
       "    </tr>\n",
       "    <tr>\n",
       "      <th>2</th>\n",
       "      <td>2018-08-04</td>\n",
       "      <td>1000</td>\n",
       "      <td>2018-08-01</td>\n",
       "      <td>1</td>\n",
       "      <td>NaT</td>\n",
       "      <td>Другой город</td>\n",
       "      <td>2018-05-25</td>\n",
       "      <td>ultra</td>\n",
       "    </tr>\n",
       "    <tr>\n",
       "      <th>3</th>\n",
       "      <td>2018-06-16</td>\n",
       "      <td>1000</td>\n",
       "      <td>2018-06-01</td>\n",
       "      <td>1</td>\n",
       "      <td>NaT</td>\n",
       "      <td>Другой город</td>\n",
       "      <td>2018-05-25</td>\n",
       "      <td>ultra</td>\n",
       "    </tr>\n",
       "    <tr>\n",
       "      <th>4</th>\n",
       "      <td>2018-12-05</td>\n",
       "      <td>1000</td>\n",
       "      <td>2018-12-01</td>\n",
       "      <td>1</td>\n",
       "      <td>NaT</td>\n",
       "      <td>Другой город</td>\n",
       "      <td>2018-05-25</td>\n",
       "      <td>ultra</td>\n",
       "    </tr>\n",
       "  </tbody>\n",
       "</table>\n",
       "</div>"
      ],
      "text/plain": [
       "  message_date  user_id      month  message_count churn_date          city  \\\n",
       "0   2018-06-27     1000 2018-06-01              1        NaT  Другой город   \n",
       "1   2018-10-08     1000 2018-10-01              1        NaT  Другой город   \n",
       "2   2018-08-04     1000 2018-08-01              1        NaT  Другой город   \n",
       "3   2018-06-16     1000 2018-06-01              1        NaT  Другой город   \n",
       "4   2018-12-05     1000 2018-12-01              1        NaT  Другой город   \n",
       "\n",
       "    reg_date tariff  \n",
       "0 2018-05-25  ultra  \n",
       "1 2018-05-25  ultra  \n",
       "2 2018-05-25  ultra  \n",
       "3 2018-05-25  ultra  \n",
       "4 2018-05-25  ultra  "
      ]
     },
     "execution_count": 35,
     "metadata": {},
     "output_type": "execute_result"
    }
   ],
   "source": [
    "messages_users = messages.merge(users, how='left', on='user_id')\n",
    "messages_users.head()"
   ]
  },
  {
   "cell_type": "markdown",
   "metadata": {},
   "source": [
    "Проверим условие также и для последней таблицы:"
   ]
  },
  {
   "cell_type": "code",
   "execution_count": 36,
   "metadata": {},
   "outputs": [
    {
     "data": {
      "text/html": [
       "<div>\n",
       "<style scoped>\n",
       "    .dataframe tbody tr th:only-of-type {\n",
       "        vertical-align: middle;\n",
       "    }\n",
       "\n",
       "    .dataframe tbody tr th {\n",
       "        vertical-align: top;\n",
       "    }\n",
       "\n",
       "    .dataframe thead th {\n",
       "        text-align: right;\n",
       "    }\n",
       "</style>\n",
       "<table border=\"1\" class=\"dataframe\">\n",
       "  <thead>\n",
       "    <tr style=\"text-align: right;\">\n",
       "      <th></th>\n",
       "      <th>message_date</th>\n",
       "      <th>user_id</th>\n",
       "      <th>month</th>\n",
       "      <th>message_count</th>\n",
       "      <th>churn_date</th>\n",
       "      <th>city</th>\n",
       "      <th>reg_date</th>\n",
       "      <th>tariff</th>\n",
       "    </tr>\n",
       "  </thead>\n",
       "  <tbody>\n",
       "  </tbody>\n",
       "</table>\n",
       "</div>"
      ],
      "text/plain": [
       "Empty DataFrame\n",
       "Columns: [message_date, user_id, month, message_count, churn_date, city, reg_date, tariff]\n",
       "Index: []"
      ]
     },
     "execution_count": 36,
     "metadata": {},
     "output_type": "execute_result"
    }
   ],
   "source": [
    "messages_users.loc[(messages_users['message_date'] < messages_users['reg_date']) | (\n",
    "    messages_users['message_date'] > messages_users['churn_date'])]"
   ]
  },
  {
   "cell_type": "markdown",
   "metadata": {},
   "source": [
    "Мы убедились в том, что противоречий среди дат в наших таблицах нет. Информация о  дате регистрации и дате прекращения действия тарифа нам больше не понадобится, поэтому удалим её из таблицы *'users'*:"
   ]
  },
  {
   "cell_type": "code",
   "execution_count": 37,
   "metadata": {},
   "outputs": [
    {
     "data": {
      "text/html": [
       "<div>\n",
       "<style scoped>\n",
       "    .dataframe tbody tr th:only-of-type {\n",
       "        vertical-align: middle;\n",
       "    }\n",
       "\n",
       "    .dataframe tbody tr th {\n",
       "        vertical-align: top;\n",
       "    }\n",
       "\n",
       "    .dataframe thead th {\n",
       "        text-align: right;\n",
       "    }\n",
       "</style>\n",
       "<table border=\"1\" class=\"dataframe\">\n",
       "  <thead>\n",
       "    <tr style=\"text-align: right;\">\n",
       "      <th></th>\n",
       "      <th>user_id</th>\n",
       "      <th>city</th>\n",
       "      <th>tariff</th>\n",
       "    </tr>\n",
       "  </thead>\n",
       "  <tbody>\n",
       "    <tr>\n",
       "      <th>0</th>\n",
       "      <td>1000</td>\n",
       "      <td>Другой город</td>\n",
       "      <td>ultra</td>\n",
       "    </tr>\n",
       "    <tr>\n",
       "      <th>1</th>\n",
       "      <td>1001</td>\n",
       "      <td>Москва</td>\n",
       "      <td>smart</td>\n",
       "    </tr>\n",
       "    <tr>\n",
       "      <th>2</th>\n",
       "      <td>1002</td>\n",
       "      <td>Другой город</td>\n",
       "      <td>smart</td>\n",
       "    </tr>\n",
       "    <tr>\n",
       "      <th>3</th>\n",
       "      <td>1003</td>\n",
       "      <td>Москва</td>\n",
       "      <td>ultra</td>\n",
       "    </tr>\n",
       "    <tr>\n",
       "      <th>4</th>\n",
       "      <td>1004</td>\n",
       "      <td>Другой город</td>\n",
       "      <td>ultra</td>\n",
       "    </tr>\n",
       "  </tbody>\n",
       "</table>\n",
       "</div>"
      ],
      "text/plain": [
       "   user_id          city tariff\n",
       "0     1000  Другой город  ultra\n",
       "1     1001        Москва  smart\n",
       "2     1002  Другой город  smart\n",
       "3     1003        Москва  ultra\n",
       "4     1004  Другой город  ultra"
      ]
     },
     "execution_count": 37,
     "metadata": {},
     "output_type": "execute_result"
    }
   ],
   "source": [
    "users = users[['user_id', 'city', 'tariff']]\n",
    "users.head()"
   ]
  },
  {
   "cell_type": "markdown",
   "metadata": {},
   "source": [
    "Теперь можно приступить к формированию датасета для проведения анализа. Чтобы не получить для исследования таблицу с очень большим количеством срок, перед объединением сгруппируем данные по месяцам и пользователям:"
   ]
  },
  {
   "cell_type": "code",
   "execution_count": 38,
   "metadata": {},
   "outputs": [
    {
     "data": {
      "text/html": [
       "<div>\n",
       "<style scoped>\n",
       "    .dataframe tbody tr th:only-of-type {\n",
       "        vertical-align: middle;\n",
       "    }\n",
       "\n",
       "    .dataframe tbody tr th {\n",
       "        vertical-align: top;\n",
       "    }\n",
       "\n",
       "    .dataframe thead th {\n",
       "        text-align: right;\n",
       "    }\n",
       "</style>\n",
       "<table border=\"1\" class=\"dataframe\">\n",
       "  <thead>\n",
       "    <tr style=\"text-align: right;\">\n",
       "      <th></th>\n",
       "      <th>month</th>\n",
       "      <th>user_id</th>\n",
       "      <th>duration_in_min</th>\n",
       "      <th>calls_count</th>\n",
       "    </tr>\n",
       "  </thead>\n",
       "  <tbody>\n",
       "    <tr>\n",
       "      <th>0</th>\n",
       "      <td>2018-01-01</td>\n",
       "      <td>1005</td>\n",
       "      <td>95.0</td>\n",
       "      <td>15</td>\n",
       "    </tr>\n",
       "    <tr>\n",
       "      <th>1</th>\n",
       "      <td>2018-01-01</td>\n",
       "      <td>1032</td>\n",
       "      <td>380.0</td>\n",
       "      <td>61</td>\n",
       "    </tr>\n",
       "    <tr>\n",
       "      <th>2</th>\n",
       "      <td>2018-01-01</td>\n",
       "      <td>1045</td>\n",
       "      <td>9.0</td>\n",
       "      <td>1</td>\n",
       "    </tr>\n",
       "    <tr>\n",
       "      <th>3</th>\n",
       "      <td>2018-01-01</td>\n",
       "      <td>1055</td>\n",
       "      <td>551.0</td>\n",
       "      <td>64</td>\n",
       "    </tr>\n",
       "    <tr>\n",
       "      <th>4</th>\n",
       "      <td>2018-01-01</td>\n",
       "      <td>1071</td>\n",
       "      <td>194.0</td>\n",
       "      <td>24</td>\n",
       "    </tr>\n",
       "  </tbody>\n",
       "</table>\n",
       "</div>"
      ],
      "text/plain": [
       "       month  user_id  duration_in_min  calls_count\n",
       "0 2018-01-01     1005             95.0           15\n",
       "1 2018-01-01     1032            380.0           61\n",
       "2 2018-01-01     1045              9.0            1\n",
       "3 2018-01-01     1055            551.0           64\n",
       "4 2018-01-01     1071            194.0           24"
      ]
     },
     "metadata": {},
     "output_type": "display_data"
    },
    {
     "data": {
      "text/plain": [
       "3174"
      ]
     },
     "execution_count": 38,
     "metadata": {},
     "output_type": "execute_result"
    }
   ],
   "source": [
    "calls = calls.groupby(['month', 'user_id'])['duration_in_min', 'calls_count'].sum().reset_index()\n",
    "display(calls.head())\n",
    "calls.shape[0]"
   ]
  },
  {
   "cell_type": "markdown",
   "metadata": {},
   "source": [
    "Количество строк заметно сократилось. В обновленной таблице мы получили информацию минутах разговора каждого пользователя в разрезе месяцев. Итоговое количество минут получено исходя из условия округления каждого звонка до целых минут. Аналогичным образом сгруппируем данные об интернет-сессиях. По условиям \"Мегалайна\" для веб-трафика отдельные сессии не считаются. Вместо этого общая сумма за месяц округляется в бо́льшую сторону. Если абонент использует 1025 мегабайт в этом месяце, с него возьмут плату за 2 гигабайта.  \n",
    "Посчитаем сразу количество потраченных каждым пользователем гигабайт в разрезе месяцев:"
   ]
  },
  {
   "cell_type": "code",
   "execution_count": 39,
   "metadata": {},
   "outputs": [
    {
     "data": {
      "text/html": [
       "<div>\n",
       "<style scoped>\n",
       "    .dataframe tbody tr th:only-of-type {\n",
       "        vertical-align: middle;\n",
       "    }\n",
       "\n",
       "    .dataframe tbody tr th {\n",
       "        vertical-align: top;\n",
       "    }\n",
       "\n",
       "    .dataframe thead th {\n",
       "        text-align: right;\n",
       "    }\n",
       "</style>\n",
       "<table border=\"1\" class=\"dataframe\">\n",
       "  <thead>\n",
       "    <tr style=\"text-align: right;\">\n",
       "      <th></th>\n",
       "      <th>month</th>\n",
       "      <th>user_id</th>\n",
       "      <th>gb_used</th>\n",
       "    </tr>\n",
       "  </thead>\n",
       "  <tbody>\n",
       "    <tr>\n",
       "      <th>0</th>\n",
       "      <td>2018-01-01</td>\n",
       "      <td>1005</td>\n",
       "      <td>3.0</td>\n",
       "    </tr>\n",
       "    <tr>\n",
       "      <th>1</th>\n",
       "      <td>2018-01-01</td>\n",
       "      <td>1032</td>\n",
       "      <td>24.0</td>\n",
       "    </tr>\n",
       "    <tr>\n",
       "      <th>2</th>\n",
       "      <td>2018-01-01</td>\n",
       "      <td>1045</td>\n",
       "      <td>3.0</td>\n",
       "    </tr>\n",
       "    <tr>\n",
       "      <th>3</th>\n",
       "      <td>2018-01-01</td>\n",
       "      <td>1055</td>\n",
       "      <td>17.0</td>\n",
       "    </tr>\n",
       "    <tr>\n",
       "      <th>4</th>\n",
       "      <td>2018-01-01</td>\n",
       "      <td>1071</td>\n",
       "      <td>16.0</td>\n",
       "    </tr>\n",
       "  </tbody>\n",
       "</table>\n",
       "</div>"
      ],
      "text/plain": [
       "       month  user_id  gb_used\n",
       "0 2018-01-01     1005      3.0\n",
       "1 2018-01-01     1032     24.0\n",
       "2 2018-01-01     1045      3.0\n",
       "3 2018-01-01     1055     17.0\n",
       "4 2018-01-01     1071     16.0"
      ]
     },
     "metadata": {},
     "output_type": "display_data"
    },
    {
     "data": {
      "text/plain": [
       "3203"
      ]
     },
     "execution_count": 39,
     "metadata": {},
     "output_type": "execute_result"
    }
   ],
   "source": [
    "internet = internet.groupby(['month', 'user_id'])['mb_used'].sum().reset_index()\n",
    "internet['gb_used'] = np.ceil(internet['mb_used'] /1024)\n",
    "internet = internet[['month', 'user_id', 'gb_used']]\n",
    "display(internet.head())\n",
    "internet.shape[0]"
   ]
  },
  {
   "cell_type": "markdown",
   "metadata": {},
   "source": [
    "Снова количесво строк существенно сократилось, будет удобно объединять. Сгруппируем также информацию об отправленных сообщениях:"
   ]
  },
  {
   "cell_type": "code",
   "execution_count": 40,
   "metadata": {},
   "outputs": [
    {
     "data": {
      "text/html": [
       "<div>\n",
       "<style scoped>\n",
       "    .dataframe tbody tr th:only-of-type {\n",
       "        vertical-align: middle;\n",
       "    }\n",
       "\n",
       "    .dataframe tbody tr th {\n",
       "        vertical-align: top;\n",
       "    }\n",
       "\n",
       "    .dataframe thead th {\n",
       "        text-align: right;\n",
       "    }\n",
       "</style>\n",
       "<table border=\"1\" class=\"dataframe\">\n",
       "  <thead>\n",
       "    <tr style=\"text-align: right;\">\n",
       "      <th></th>\n",
       "      <th>month</th>\n",
       "      <th>user_id</th>\n",
       "      <th>message_count</th>\n",
       "    </tr>\n",
       "  </thead>\n",
       "  <tbody>\n",
       "    <tr>\n",
       "      <th>0</th>\n",
       "      <td>2018-01-01</td>\n",
       "      <td>1005</td>\n",
       "      <td>7</td>\n",
       "    </tr>\n",
       "    <tr>\n",
       "      <th>1</th>\n",
       "      <td>2018-01-01</td>\n",
       "      <td>1032</td>\n",
       "      <td>38</td>\n",
       "    </tr>\n",
       "    <tr>\n",
       "      <th>2</th>\n",
       "      <td>2018-01-01</td>\n",
       "      <td>1045</td>\n",
       "      <td>5</td>\n",
       "    </tr>\n",
       "    <tr>\n",
       "      <th>3</th>\n",
       "      <td>2018-01-01</td>\n",
       "      <td>1055</td>\n",
       "      <td>30</td>\n",
       "    </tr>\n",
       "    <tr>\n",
       "      <th>4</th>\n",
       "      <td>2018-01-01</td>\n",
       "      <td>1071</td>\n",
       "      <td>16</td>\n",
       "    </tr>\n",
       "  </tbody>\n",
       "</table>\n",
       "</div>"
      ],
      "text/plain": [
       "       month  user_id  message_count\n",
       "0 2018-01-01     1005              7\n",
       "1 2018-01-01     1032             38\n",
       "2 2018-01-01     1045              5\n",
       "3 2018-01-01     1055             30\n",
       "4 2018-01-01     1071             16"
      ]
     },
     "metadata": {},
     "output_type": "display_data"
    },
    {
     "data": {
      "text/plain": [
       "2717"
      ]
     },
     "execution_count": 40,
     "metadata": {},
     "output_type": "execute_result"
    }
   ],
   "source": [
    "messages = messages.groupby(['month', 'user_id'])['message_count'].sum().reset_index()\n",
    "display(messages.head())\n",
    "messages.shape[0]"
   ]
  },
  {
   "cell_type": "markdown",
   "metadata": {},
   "source": [
    "Теперь объединим все три таблицы в один датафрейм, который будет отражать, сколько пользователи потратили минут, сообщений и гигабайт за каждый месяц:"
   ]
  },
  {
   "cell_type": "code",
   "execution_count": 41,
   "metadata": {},
   "outputs": [
    {
     "data": {
      "text/html": [
       "<div>\n",
       "<style scoped>\n",
       "    .dataframe tbody tr th:only-of-type {\n",
       "        vertical-align: middle;\n",
       "    }\n",
       "\n",
       "    .dataframe tbody tr th {\n",
       "        vertical-align: top;\n",
       "    }\n",
       "\n",
       "    .dataframe thead th {\n",
       "        text-align: right;\n",
       "    }\n",
       "</style>\n",
       "<table border=\"1\" class=\"dataframe\">\n",
       "  <thead>\n",
       "    <tr style=\"text-align: right;\">\n",
       "      <th></th>\n",
       "      <th>month</th>\n",
       "      <th>user_id</th>\n",
       "      <th>duration_in_min</th>\n",
       "      <th>calls_count</th>\n",
       "      <th>gb_used</th>\n",
       "      <th>message_count</th>\n",
       "    </tr>\n",
       "  </thead>\n",
       "  <tbody>\n",
       "    <tr>\n",
       "      <th>3163</th>\n",
       "      <td>2018-12-01</td>\n",
       "      <td>1487</td>\n",
       "      <td>155.0</td>\n",
       "      <td>30</td>\n",
       "      <td>12.0</td>\n",
       "      <td>20.0</td>\n",
       "    </tr>\n",
       "    <tr>\n",
       "      <th>2762</th>\n",
       "      <td>2018-12-01</td>\n",
       "      <td>1063</td>\n",
       "      <td>231.0</td>\n",
       "      <td>36</td>\n",
       "      <td>6.0</td>\n",
       "      <td>NaN</td>\n",
       "    </tr>\n",
       "    <tr>\n",
       "      <th>322</th>\n",
       "      <td>2018-04-01</td>\n",
       "      <td>1255</td>\n",
       "      <td>237.0</td>\n",
       "      <td>39</td>\n",
       "      <td>37.0</td>\n",
       "      <td>NaN</td>\n",
       "    </tr>\n",
       "    <tr>\n",
       "      <th>28</th>\n",
       "      <td>2018-01-01</td>\n",
       "      <td>1375</td>\n",
       "      <td>852.0</td>\n",
       "      <td>126</td>\n",
       "      <td>15.0</td>\n",
       "      <td>75.0</td>\n",
       "    </tr>\n",
       "    <tr>\n",
       "      <th>2111</th>\n",
       "      <td>2018-10-01</td>\n",
       "      <td>1322</td>\n",
       "      <td>583.0</td>\n",
       "      <td>88</td>\n",
       "      <td>14.0</td>\n",
       "      <td>NaN</td>\n",
       "    </tr>\n",
       "  </tbody>\n",
       "</table>\n",
       "</div>"
      ],
      "text/plain": [
       "          month  user_id  duration_in_min  calls_count  gb_used  message_count\n",
       "3163 2018-12-01     1487            155.0           30     12.0           20.0\n",
       "2762 2018-12-01     1063            231.0           36      6.0            NaN\n",
       "322  2018-04-01     1255            237.0           39     37.0            NaN\n",
       "28   2018-01-01     1375            852.0          126     15.0           75.0\n",
       "2111 2018-10-01     1322            583.0           88     14.0            NaN"
      ]
     },
     "metadata": {},
     "output_type": "display_data"
    },
    {
     "name": "stdout",
     "output_type": "stream",
     "text": [
      "<class 'pandas.core.frame.DataFrame'>\n",
      "Int64Index: 3174 entries, 0 to 3173\n",
      "Data columns (total 6 columns):\n",
      " #   Column           Non-Null Count  Dtype         \n",
      "---  ------           --------------  -----         \n",
      " 0   month            3174 non-null   datetime64[ns]\n",
      " 1   user_id          3174 non-null   int64         \n",
      " 2   duration_in_min  3174 non-null   float64       \n",
      " 3   calls_count      3174 non-null   int64         \n",
      " 4   gb_used          3163 non-null   float64       \n",
      " 5   message_count    2678 non-null   float64       \n",
      "dtypes: datetime64[ns](1), float64(3), int64(2)\n",
      "memory usage: 173.6 KB\n"
     ]
    }
   ],
   "source": [
    "df = calls.merge(internet, how='left', on=['month', 'user_id'])\n",
    "df = df.merge(messages, how='left', on=['month', 'user_id'])\n",
    "display(df.sample(5))\n",
    "df.info()"
   ]
  },
  {
   "cell_type": "markdown",
   "metadata": {},
   "source": [
    "В результате мы получили таблицу из 3174 строк. Пропуски в графах *'gb_used'* и *'message_count'* говорят о том, что были месяцы, в которых некоторые пользователи не пользовались интернетом и не отправляли сообщения. Можно заполнить их нулями:"
   ]
  },
  {
   "cell_type": "code",
   "execution_count": 42,
   "metadata": {},
   "outputs": [
    {
     "data": {
      "text/plain": [
       "month              0\n",
       "user_id            0\n",
       "duration_in_min    0\n",
       "calls_count        0\n",
       "gb_used            0\n",
       "message_count      0\n",
       "dtype: int64"
      ]
     },
     "execution_count": 42,
     "metadata": {},
     "output_type": "execute_result"
    }
   ],
   "source": [
    "df['gb_used'] = df['gb_used'].fillna(0)\n",
    "df['message_count'] = df['message_count'].fillna(0)\n",
    "df.isna().sum()"
   ]
  },
  {
   "cell_type": "markdown",
   "metadata": {},
   "source": [
    "Для дальнейшего расчета выручки по каждому пользователю, нам необходимо дополнить наш датафрейм информацией из таблиц *'users'* и *'tariffs'*:"
   ]
  },
  {
   "cell_type": "code",
   "execution_count": 43,
   "metadata": {},
   "outputs": [
    {
     "data": {
      "text/html": [
       "<div>\n",
       "<style scoped>\n",
       "    .dataframe tbody tr th:only-of-type {\n",
       "        vertical-align: middle;\n",
       "    }\n",
       "\n",
       "    .dataframe tbody tr th {\n",
       "        vertical-align: top;\n",
       "    }\n",
       "\n",
       "    .dataframe thead th {\n",
       "        text-align: right;\n",
       "    }\n",
       "</style>\n",
       "<table border=\"1\" class=\"dataframe\">\n",
       "  <thead>\n",
       "    <tr style=\"text-align: right;\">\n",
       "      <th></th>\n",
       "      <th>month</th>\n",
       "      <th>user_id</th>\n",
       "      <th>duration_in_min</th>\n",
       "      <th>calls_count</th>\n",
       "      <th>gb_used</th>\n",
       "      <th>message_count</th>\n",
       "      <th>city</th>\n",
       "      <th>tariff</th>\n",
       "      <th>messages_included</th>\n",
       "      <th>gb_per_month_included</th>\n",
       "      <th>minutes_included</th>\n",
       "      <th>rub_monthly_fee</th>\n",
       "      <th>rub_per_gb</th>\n",
       "      <th>rub_per_message</th>\n",
       "      <th>rub_per_minute</th>\n",
       "    </tr>\n",
       "  </thead>\n",
       "  <tbody>\n",
       "    <tr>\n",
       "      <th>1579</th>\n",
       "      <td>2018-09-01</td>\n",
       "      <td>1146</td>\n",
       "      <td>424.0</td>\n",
       "      <td>60</td>\n",
       "      <td>13.0</td>\n",
       "      <td>90.0</td>\n",
       "      <td>Санкт-Петербург</td>\n",
       "      <td>smart</td>\n",
       "      <td>50</td>\n",
       "      <td>15.0</td>\n",
       "      <td>500</td>\n",
       "      <td>550</td>\n",
       "      <td>200</td>\n",
       "      <td>3</td>\n",
       "      <td>3</td>\n",
       "    </tr>\n",
       "    <tr>\n",
       "      <th>1559</th>\n",
       "      <td>2018-09-01</td>\n",
       "      <td>1115</td>\n",
       "      <td>652.0</td>\n",
       "      <td>77</td>\n",
       "      <td>14.0</td>\n",
       "      <td>26.0</td>\n",
       "      <td>Москва</td>\n",
       "      <td>smart</td>\n",
       "      <td>50</td>\n",
       "      <td>15.0</td>\n",
       "      <td>500</td>\n",
       "      <td>550</td>\n",
       "      <td>200</td>\n",
       "      <td>3</td>\n",
       "      <td>3</td>\n",
       "    </tr>\n",
       "    <tr>\n",
       "      <th>495</th>\n",
       "      <td>2018-05-01</td>\n",
       "      <td>1219</td>\n",
       "      <td>467.0</td>\n",
       "      <td>57</td>\n",
       "      <td>17.0</td>\n",
       "      <td>13.0</td>\n",
       "      <td>Другой город</td>\n",
       "      <td>smart</td>\n",
       "      <td>50</td>\n",
       "      <td>15.0</td>\n",
       "      <td>500</td>\n",
       "      <td>550</td>\n",
       "      <td>200</td>\n",
       "      <td>3</td>\n",
       "      <td>3</td>\n",
       "    </tr>\n",
       "    <tr>\n",
       "      <th>2929</th>\n",
       "      <td>2018-12-01</td>\n",
       "      <td>1238</td>\n",
       "      <td>112.0</td>\n",
       "      <td>11</td>\n",
       "      <td>18.0</td>\n",
       "      <td>31.0</td>\n",
       "      <td>Другой город</td>\n",
       "      <td>smart</td>\n",
       "      <td>50</td>\n",
       "      <td>15.0</td>\n",
       "      <td>500</td>\n",
       "      <td>550</td>\n",
       "      <td>200</td>\n",
       "      <td>3</td>\n",
       "      <td>3</td>\n",
       "    </tr>\n",
       "    <tr>\n",
       "      <th>479</th>\n",
       "      <td>2018-05-01</td>\n",
       "      <td>1175</td>\n",
       "      <td>131.0</td>\n",
       "      <td>33</td>\n",
       "      <td>21.0</td>\n",
       "      <td>0.0</td>\n",
       "      <td>Москва</td>\n",
       "      <td>smart</td>\n",
       "      <td>50</td>\n",
       "      <td>15.0</td>\n",
       "      <td>500</td>\n",
       "      <td>550</td>\n",
       "      <td>200</td>\n",
       "      <td>3</td>\n",
       "      <td>3</td>\n",
       "    </tr>\n",
       "  </tbody>\n",
       "</table>\n",
       "</div>"
      ],
      "text/plain": [
       "          month  user_id  duration_in_min  calls_count  gb_used  \\\n",
       "1579 2018-09-01     1146            424.0           60     13.0   \n",
       "1559 2018-09-01     1115            652.0           77     14.0   \n",
       "495  2018-05-01     1219            467.0           57     17.0   \n",
       "2929 2018-12-01     1238            112.0           11     18.0   \n",
       "479  2018-05-01     1175            131.0           33     21.0   \n",
       "\n",
       "      message_count             city tariff  messages_included  \\\n",
       "1579           90.0  Санкт-Петербург  smart                 50   \n",
       "1559           26.0           Москва  smart                 50   \n",
       "495            13.0     Другой город  smart                 50   \n",
       "2929           31.0     Другой город  smart                 50   \n",
       "479             0.0           Москва  smart                 50   \n",
       "\n",
       "      gb_per_month_included  minutes_included  rub_monthly_fee  rub_per_gb  \\\n",
       "1579                   15.0               500              550         200   \n",
       "1559                   15.0               500              550         200   \n",
       "495                    15.0               500              550         200   \n",
       "2929                   15.0               500              550         200   \n",
       "479                    15.0               500              550         200   \n",
       "\n",
       "      rub_per_message  rub_per_minute  \n",
       "1579                3               3  \n",
       "1559                3               3  \n",
       "495                 3               3  \n",
       "2929                3               3  \n",
       "479                 3               3  "
      ]
     },
     "execution_count": 43,
     "metadata": {},
     "output_type": "execute_result"
    }
   ],
   "source": [
    "df = df.merge(users, how='left', on='user_id')\n",
    "df = df.merge(tariffs, how='left', on='tariff')\n",
    "df.sample(5)"
   ]
  },
  {
   "cell_type": "markdown",
   "metadata": {},
   "source": [
    "**Вывод**  \n",
    "Мы прочитали данные из файлов, привели данные к нужным типам, устранили ошибки. Собрали всю необходимую для расчета выручки информацию в один датафрейм. Сгруппировали данные в разрезе пользователей и месяцев. Для каждого пользователя посчитали количество потраченных минут, отправленных sms и объём потреблённого трафика, перевели данные в единицы измерения, удобные для тарификации.\n",
    "\n",
    "<a id='calculation'></a>\n",
    "## Расчет показателей для каждого пользователя\n",
    "Мы получили таблицу, на базе которой мы сможем рассчитать выручку по каждому пользователю в разрезе месяцев.  \n",
    "Необходимо посчитать помесячную выручку с каждого пользователя (вычесть бесплатный лимит из суммарного количества звонков, сообщений и интернет-трафика; остаток умножить на значение из тарифного плана; прибавить абонентскую плату, соответствующую тарифному плану).  \n",
    "\n",
    "Напомним себе описание тарифов:  \n",
    "**Тариф «Смарт»**\n",
    "Ежемесячная плата: 550 рублей\n",
    "Включено 500 минут разговора, 50 сообщений и 15 Гб интернет-трафика\n",
    "Стоимость услуг сверх тарифного пакета:\n",
    "минута разговора: 3 рубля\n",
    "сообщение: 3 рубля\n",
    "1 Гб интернет-трафика: 200 рублей  \n",
    "**Тариф «Ультра»**\n",
    "Ежемесячная плата: 1950 рублей\n",
    "Включено 3000 минут разговора, 1000 сообщений и 30 Гб интернет-трафика\n",
    "Стоимость услуг сверх тарифного пакета:\n",
    "минута разговора: 1 рубль\n",
    "сообщение: 1 рубль\n",
    "1 Гб интернет-трафика: 150 рублей  \n",
    "Произведём расчет с помощью функций:"
   ]
  },
  {
   "cell_type": "code",
   "execution_count": 44,
   "metadata": {},
   "outputs": [
    {
     "data": {
      "text/html": [
       "<div>\n",
       "<style scoped>\n",
       "    .dataframe tbody tr th:only-of-type {\n",
       "        vertical-align: middle;\n",
       "    }\n",
       "\n",
       "    .dataframe tbody tr th {\n",
       "        vertical-align: top;\n",
       "    }\n",
       "\n",
       "    .dataframe thead th {\n",
       "        text-align: right;\n",
       "    }\n",
       "</style>\n",
       "<table border=\"1\" class=\"dataframe\">\n",
       "  <thead>\n",
       "    <tr style=\"text-align: right;\">\n",
       "      <th></th>\n",
       "      <th>month</th>\n",
       "      <th>user_id</th>\n",
       "      <th>duration_in_min</th>\n",
       "      <th>gb_used</th>\n",
       "      <th>message_count</th>\n",
       "      <th>city</th>\n",
       "      <th>tariff</th>\n",
       "      <th>revenue</th>\n",
       "    </tr>\n",
       "  </thead>\n",
       "  <tbody>\n",
       "    <tr>\n",
       "      <th>887</th>\n",
       "      <td>2018-07-01</td>\n",
       "      <td>1057</td>\n",
       "      <td>781.0</td>\n",
       "      <td>17.0</td>\n",
       "      <td>29.0</td>\n",
       "      <td>Москва</td>\n",
       "      <td>ultra</td>\n",
       "      <td>1950.0</td>\n",
       "    </tr>\n",
       "    <tr>\n",
       "      <th>395</th>\n",
       "      <td>2018-04-01</td>\n",
       "      <td>1475</td>\n",
       "      <td>230.0</td>\n",
       "      <td>13.0</td>\n",
       "      <td>21.0</td>\n",
       "      <td>Другой город</td>\n",
       "      <td>smart</td>\n",
       "      <td>550.0</td>\n",
       "    </tr>\n",
       "    <tr>\n",
       "      <th>259</th>\n",
       "      <td>2018-04-01</td>\n",
       "      <td>1063</td>\n",
       "      <td>581.0</td>\n",
       "      <td>17.0</td>\n",
       "      <td>0.0</td>\n",
       "      <td>Другой город</td>\n",
       "      <td>ultra</td>\n",
       "      <td>1950.0</td>\n",
       "    </tr>\n",
       "    <tr>\n",
       "      <th>183</th>\n",
       "      <td>2018-03-01</td>\n",
       "      <td>1285</td>\n",
       "      <td>234.0</td>\n",
       "      <td>2.0</td>\n",
       "      <td>110.0</td>\n",
       "      <td>Другой город</td>\n",
       "      <td>smart</td>\n",
       "      <td>730.0</td>\n",
       "    </tr>\n",
       "    <tr>\n",
       "      <th>532</th>\n",
       "      <td>2018-05-01</td>\n",
       "      <td>1318</td>\n",
       "      <td>598.0</td>\n",
       "      <td>27.0</td>\n",
       "      <td>49.0</td>\n",
       "      <td>Другой город</td>\n",
       "      <td>ultra</td>\n",
       "      <td>1950.0</td>\n",
       "    </tr>\n",
       "  </tbody>\n",
       "</table>\n",
       "</div>"
      ],
      "text/plain": [
       "         month  user_id  duration_in_min  gb_used  message_count  \\\n",
       "887 2018-07-01     1057            781.0     17.0           29.0   \n",
       "395 2018-04-01     1475            230.0     13.0           21.0   \n",
       "259 2018-04-01     1063            581.0     17.0            0.0   \n",
       "183 2018-03-01     1285            234.0      2.0          110.0   \n",
       "532 2018-05-01     1318            598.0     27.0           49.0   \n",
       "\n",
       "             city tariff  revenue  \n",
       "887        Москва  ultra   1950.0  \n",
       "395  Другой город  smart    550.0  \n",
       "259  Другой город  ultra   1950.0  \n",
       "183  Другой город  smart    730.0  \n",
       "532  Другой город  ultra   1950.0  "
      ]
     },
     "execution_count": 44,
     "metadata": {},
     "output_type": "execute_result"
    }
   ],
   "source": [
    "def revenue_min(row):\n",
    "    \"\"\"\n",
    "Напишем функцию, которая:\n",
    "1) посчитает перерасход минут, умножит на цену за дополнительную минуту из тарифного плана\n",
    "2) добавит к результату абонентскую плату\n",
    "3) вернёт полученное значение\n",
    "4) в случае отсутствия перерасхода вернёт значение абонентской платы\n",
    "    \"\"\"\n",
    "    if row['duration_in_min'] > row['minutes_included']:\n",
    "        rev = (row['duration_in_min'] - row['minutes_included'])*row['rub_per_minute'] + row['rub_monthly_fee']\n",
    "        return rev\n",
    "    else:\n",
    "        rev = row['rub_monthly_fee']\n",
    "        return rev\n",
    "\n",
    "# напишем функцию, которая посчитает перерасход gb, умножит на цену за дополнительный gb из тарифного плана\n",
    "def revenue_gb(row):\n",
    "    if row['gb_used'] > row['gb_per_month_included']:\n",
    "        rev = (row['gb_used'] - row['gb_per_month_included'])*row['rub_per_gb']\n",
    "        return rev\n",
    "    else:\n",
    "        rev = 0\n",
    "        return rev\n",
    "\n",
    "# напишем функцию, которая посчитает перерасход sms, умножит на цену за дополнительное sms из тарифного плана\n",
    "def revenue_sms(row):\n",
    "    if row['message_count'] > row['messages_included']:\n",
    "        rev = (row['message_count'] - row['messages_included'])*row['rub_per_minute']\n",
    "        return rev\n",
    "    else:\n",
    "        rev = 0\n",
    "        return rev\n",
    "\n",
    "df['revenue'] = df.apply(revenue_min, axis=1)\n",
    "df['revenue'] += df.apply(revenue_gb, axis=1)\n",
    "df['revenue'] += df.apply(revenue_sms, axis=1)\n",
    "# оставим только нужные для дальнейшего исследования столбцы и выведем 5 случайных строк на экран\n",
    "df = df[['month', 'user_id', 'duration_in_min', 'gb_used', 'message_count', 'city', 'tariff', 'revenue']]\n",
    "df.sample(5)"
   ]
  },
  {
   "cell_type": "markdown",
   "metadata": {},
   "source": [
    "Сгруппируем данные по каждому тарифу и рассчитаем средние показатели для сравнения:"
   ]
  },
  {
   "cell_type": "code",
   "execution_count": 45,
   "metadata": {},
   "outputs": [
    {
     "data": {
      "text/html": [
       "<div>\n",
       "<style scoped>\n",
       "    .dataframe tbody tr th:only-of-type {\n",
       "        vertical-align: middle;\n",
       "    }\n",
       "\n",
       "    .dataframe tbody tr th {\n",
       "        vertical-align: top;\n",
       "    }\n",
       "\n",
       "    .dataframe thead th {\n",
       "        text-align: right;\n",
       "    }\n",
       "</style>\n",
       "<table border=\"1\" class=\"dataframe\">\n",
       "  <thead>\n",
       "    <tr style=\"text-align: right;\">\n",
       "      <th></th>\n",
       "      <th>duration_in_min</th>\n",
       "      <th>gb_used</th>\n",
       "      <th>message_count</th>\n",
       "      <th>revenue</th>\n",
       "    </tr>\n",
       "    <tr>\n",
       "      <th>tariff</th>\n",
       "      <th></th>\n",
       "      <th></th>\n",
       "      <th></th>\n",
       "      <th></th>\n",
       "    </tr>\n",
       "  </thead>\n",
       "  <tbody>\n",
       "    <tr>\n",
       "      <th>smart</th>\n",
       "      <td>419.062978</td>\n",
       "      <td>16.329735</td>\n",
       "      <td>33.396311</td>\n",
       "      <td>1290.891138</td>\n",
       "    </tr>\n",
       "    <tr>\n",
       "      <th>ultra</th>\n",
       "      <td>545.451104</td>\n",
       "      <td>19.487907</td>\n",
       "      <td>49.033649</td>\n",
       "      <td>2070.977918</td>\n",
       "    </tr>\n",
       "  </tbody>\n",
       "</table>\n",
       "</div>"
      ],
      "text/plain": [
       "        duration_in_min    gb_used  message_count      revenue\n",
       "tariff                                                        \n",
       "smart        419.062978  16.329735      33.396311  1290.891138\n",
       "ultra        545.451104  19.487907      49.033649  2070.977918"
      ]
     },
     "execution_count": 45,
     "metadata": {},
     "output_type": "execute_result"
    }
   ],
   "source": [
    "df.groupby('tariff')['duration_in_min', 'gb_used', 'message_count', 'revenue'].mean()"
   ]
  },
  {
   "cell_type": "markdown",
   "metadata": {},
   "source": [
    "Беглый взгляд по средним величинам говорит нам о том, что тариф \"ультра\" выбирают более активные пользователи, и выручки \"Мегалайну\" каждый такой средний пользователь приносит больше, чем пользователь \"смарт\".\n",
    "\n",
    "Так как в дальнейшем нам нужно сравнивать между собой тарифы, разобъём нашу таблицу на две отдельные для каждого тарифного плана:"
   ]
  },
  {
   "cell_type": "code",
   "execution_count": 46,
   "metadata": {},
   "outputs": [
    {
     "data": {
      "text/html": [
       "<div>\n",
       "<style scoped>\n",
       "    .dataframe tbody tr th:only-of-type {\n",
       "        vertical-align: middle;\n",
       "    }\n",
       "\n",
       "    .dataframe tbody tr th {\n",
       "        vertical-align: top;\n",
       "    }\n",
       "\n",
       "    .dataframe thead th {\n",
       "        text-align: right;\n",
       "    }\n",
       "</style>\n",
       "<table border=\"1\" class=\"dataframe\">\n",
       "  <thead>\n",
       "    <tr style=\"text-align: right;\">\n",
       "      <th></th>\n",
       "      <th>index</th>\n",
       "      <th>month</th>\n",
       "      <th>user_id</th>\n",
       "      <th>duration_in_min</th>\n",
       "      <th>gb_used</th>\n",
       "      <th>message_count</th>\n",
       "      <th>city</th>\n",
       "      <th>tariff</th>\n",
       "      <th>revenue</th>\n",
       "    </tr>\n",
       "  </thead>\n",
       "  <tbody>\n",
       "    <tr>\n",
       "      <th>0</th>\n",
       "      <td>0</td>\n",
       "      <td>2018-01-01</td>\n",
       "      <td>1005</td>\n",
       "      <td>95.0</td>\n",
       "      <td>3.0</td>\n",
       "      <td>7.0</td>\n",
       "      <td>Другой город</td>\n",
       "      <td>smart</td>\n",
       "      <td>550.0</td>\n",
       "    </tr>\n",
       "    <tr>\n",
       "      <th>1</th>\n",
       "      <td>1</td>\n",
       "      <td>2018-01-01</td>\n",
       "      <td>1032</td>\n",
       "      <td>380.0</td>\n",
       "      <td>24.0</td>\n",
       "      <td>38.0</td>\n",
       "      <td>Другой город</td>\n",
       "      <td>smart</td>\n",
       "      <td>2350.0</td>\n",
       "    </tr>\n",
       "    <tr>\n",
       "      <th>2</th>\n",
       "      <td>2</td>\n",
       "      <td>2018-01-01</td>\n",
       "      <td>1045</td>\n",
       "      <td>9.0</td>\n",
       "      <td>3.0</td>\n",
       "      <td>5.0</td>\n",
       "      <td>Другой город</td>\n",
       "      <td>smart</td>\n",
       "      <td>550.0</td>\n",
       "    </tr>\n",
       "    <tr>\n",
       "      <th>3</th>\n",
       "      <td>3</td>\n",
       "      <td>2018-01-01</td>\n",
       "      <td>1055</td>\n",
       "      <td>551.0</td>\n",
       "      <td>17.0</td>\n",
       "      <td>30.0</td>\n",
       "      <td>Другой город</td>\n",
       "      <td>smart</td>\n",
       "      <td>1103.0</td>\n",
       "    </tr>\n",
       "    <tr>\n",
       "      <th>4</th>\n",
       "      <td>4</td>\n",
       "      <td>2018-01-01</td>\n",
       "      <td>1071</td>\n",
       "      <td>194.0</td>\n",
       "      <td>16.0</td>\n",
       "      <td>16.0</td>\n",
       "      <td>Другой город</td>\n",
       "      <td>smart</td>\n",
       "      <td>750.0</td>\n",
       "    </tr>\n",
       "  </tbody>\n",
       "</table>\n",
       "</div>"
      ],
      "text/plain": [
       "   index      month  user_id  duration_in_min  gb_used  message_count  \\\n",
       "0      0 2018-01-01     1005             95.0      3.0            7.0   \n",
       "1      1 2018-01-01     1032            380.0     24.0           38.0   \n",
       "2      2 2018-01-01     1045              9.0      3.0            5.0   \n",
       "3      3 2018-01-01     1055            551.0     17.0           30.0   \n",
       "4      4 2018-01-01     1071            194.0     16.0           16.0   \n",
       "\n",
       "           city tariff  revenue  \n",
       "0  Другой город  smart    550.0  \n",
       "1  Другой город  smart   2350.0  \n",
       "2  Другой город  smart    550.0  \n",
       "3  Другой город  smart   1103.0  \n",
       "4  Другой город  smart    750.0  "
      ]
     },
     "metadata": {},
     "output_type": "display_data"
    },
    {
     "data": {
      "text/html": [
       "<div>\n",
       "<style scoped>\n",
       "    .dataframe tbody tr th:only-of-type {\n",
       "        vertical-align: middle;\n",
       "    }\n",
       "\n",
       "    .dataframe tbody tr th {\n",
       "        vertical-align: top;\n",
       "    }\n",
       "\n",
       "    .dataframe thead th {\n",
       "        text-align: right;\n",
       "    }\n",
       "</style>\n",
       "<table border=\"1\" class=\"dataframe\">\n",
       "  <thead>\n",
       "    <tr style=\"text-align: right;\">\n",
       "      <th></th>\n",
       "      <th>index</th>\n",
       "      <th>month</th>\n",
       "      <th>user_id</th>\n",
       "      <th>duration_in_min</th>\n",
       "      <th>gb_used</th>\n",
       "      <th>message_count</th>\n",
       "      <th>city</th>\n",
       "      <th>tariff</th>\n",
       "      <th>revenue</th>\n",
       "    </tr>\n",
       "  </thead>\n",
       "  <tbody>\n",
       "    <tr>\n",
       "      <th>0</th>\n",
       "      <td>6</td>\n",
       "      <td>2018-01-01</td>\n",
       "      <td>1120</td>\n",
       "      <td>55.0</td>\n",
       "      <td>1.0</td>\n",
       "      <td>0.0</td>\n",
       "      <td>Другой город</td>\n",
       "      <td>ultra</td>\n",
       "      <td>1950.0</td>\n",
       "    </tr>\n",
       "    <tr>\n",
       "      <th>1</th>\n",
       "      <td>7</td>\n",
       "      <td>2018-01-01</td>\n",
       "      <td>1126</td>\n",
       "      <td>272.0</td>\n",
       "      <td>16.0</td>\n",
       "      <td>4.0</td>\n",
       "      <td>Санкт-Петербург</td>\n",
       "      <td>ultra</td>\n",
       "      <td>1950.0</td>\n",
       "    </tr>\n",
       "    <tr>\n",
       "      <th>2</th>\n",
       "      <td>11</td>\n",
       "      <td>2018-01-01</td>\n",
       "      <td>1168</td>\n",
       "      <td>277.0</td>\n",
       "      <td>8.0</td>\n",
       "      <td>14.0</td>\n",
       "      <td>Другой город</td>\n",
       "      <td>ultra</td>\n",
       "      <td>1950.0</td>\n",
       "    </tr>\n",
       "    <tr>\n",
       "      <th>3</th>\n",
       "      <td>19</td>\n",
       "      <td>2018-01-01</td>\n",
       "      <td>1254</td>\n",
       "      <td>466.0</td>\n",
       "      <td>20.0</td>\n",
       "      <td>0.0</td>\n",
       "      <td>Москва</td>\n",
       "      <td>ultra</td>\n",
       "      <td>1950.0</td>\n",
       "    </tr>\n",
       "    <tr>\n",
       "      <th>4</th>\n",
       "      <td>28</td>\n",
       "      <td>2018-01-01</td>\n",
       "      <td>1375</td>\n",
       "      <td>852.0</td>\n",
       "      <td>15.0</td>\n",
       "      <td>75.0</td>\n",
       "      <td>Другой город</td>\n",
       "      <td>ultra</td>\n",
       "      <td>1950.0</td>\n",
       "    </tr>\n",
       "  </tbody>\n",
       "</table>\n",
       "</div>"
      ],
      "text/plain": [
       "   index      month  user_id  duration_in_min  gb_used  message_count  \\\n",
       "0      6 2018-01-01     1120             55.0      1.0            0.0   \n",
       "1      7 2018-01-01     1126            272.0     16.0            4.0   \n",
       "2     11 2018-01-01     1168            277.0      8.0           14.0   \n",
       "3     19 2018-01-01     1254            466.0     20.0            0.0   \n",
       "4     28 2018-01-01     1375            852.0     15.0           75.0   \n",
       "\n",
       "              city tariff  revenue  \n",
       "0     Другой город  ultra   1950.0  \n",
       "1  Санкт-Петербург  ultra   1950.0  \n",
       "2     Другой город  ultra   1950.0  \n",
       "3           Москва  ultra   1950.0  \n",
       "4     Другой город  ultra   1950.0  "
      ]
     },
     "execution_count": 46,
     "metadata": {},
     "output_type": "execute_result"
    }
   ],
   "source": [
    "smart = df.loc[df['tariff'] == 'smart'].reset_index()\n",
    "display(smart.head())\n",
    "ultra = df.loc[df['tariff'] == 'ultra'].reset_index()\n",
    "ultra.head()"
   ]
  },
  {
   "cell_type": "markdown",
   "metadata": {},
   "source": [
    "**Вывод**\n",
    "\n",
    "На базе построенной нами таблицы, приняв во внимание известные нам условия тарифов \"Мегалайна\", мы произвели расчет среднепользовательской выручки. На следующих этапах нашего исследования нам предстоит проанализировать поведение польователей обоих тарифов на протяжении 2018 года и сделать вывод: какой тариф лучше."
   ]
  },
  {
   "cell_type": "markdown",
   "metadata": {},
   "source": [
    "<a id='analisis'></a>\n",
    "## Анализ данных. Описание распределений\n",
    "Проанализируем наши данные: сравним поведение клиентов оператора, исходя из выборки (сколько минут разговора, сколько сообщений и какой объём интернет-трафика требуется пользователям каждого тарифа в месяц).\n",
    "Отразим средние значения на графиках для большей наглядности, проследим их динамику в пределах года."
   ]
  },
  {
   "cell_type": "code",
   "execution_count": 47,
   "metadata": {},
   "outputs": [
    {
     "data": {
      "image/png": "[encoded data removed]",
      "text/plain": [
       "<Figure size 864x360 with 1 Axes>"
      ]
     },
     "metadata": {
      "needs_background": "light"
     },
     "output_type": "display_data"
    }
   ],
   "source": [
    "ax = smart.pivot_table(\n",
    "index = 'month',\n",
    "values = 'duration_in_min',\n",
    "aggfunc = 'mean').plot(y='duration_in_min', color='green', label='smart')\n",
    "\n",
    "ultra.pivot_table(\n",
    "index = 'month',\n",
    "values = 'duration_in_min',\n",
    "aggfunc = 'mean').plot(\n",
    "    y='duration_in_min', grid=True, figsize=(12,5), color='blue', ax=ax, label='ultra', legend=True)\n",
    "\n",
    "# нарисуем линию лимита для тарифа \"смарт\"\n",
    "plt.hlines(500, xmin='2018-01-01', xmax='2018-12-01', color='green', alpha=0.4)\n",
    "plt.title('Поведение клиентов оператора (звонки)')\n",
    "plt.xlabel('Месяц')\n",
    "plt.ylabel('Количество потраченных минут');"
   ]
  },
  {
   "cell_type": "markdown",
   "metadata": {},
   "source": [
    "На графике видно, что пользователи тарифа \"ультра\" преимущественно более активны, чем пользователи тарифа \"смарт\" (за исключением февраля, где показатели практически равны). Заметна тенденция к наращиванию минут звонков в течение года.  \n",
    "На обоих тарифах пользователи в среднем тратят количество минут в пределах установленного тарифом лимита. Однако, пользователи тарифа \"смарт\" в декабре очень приблизились к отведённым 500 минутам. В то же время пользователи \"ультра\" не тратят даже пятой части от установленных 3000 минут.\n",
    "\n",
    "Сравним, сколько пользователи обоих тарифов тратят интернет-траффика:"
   ]
  },
  {
   "cell_type": "code",
   "execution_count": 48,
   "metadata": {},
   "outputs": [
    {
     "data": {
      "image/png": "[encoded data removed]",
      "text/plain": [
       "<Figure size 864x360 with 1 Axes>"
      ]
     },
     "metadata": {
      "needs_background": "light"
     },
     "output_type": "display_data"
    }
   ],
   "source": [
    "ax = smart.pivot_table(\n",
    "index = 'month',\n",
    "values = 'gb_used',\n",
    "aggfunc = 'mean').plot(y='gb_used', color='green', label='smart')\n",
    "\n",
    "ultra.pivot_table(\n",
    "index = 'month',\n",
    "values = 'gb_used',\n",
    "aggfunc = 'mean').plot(\n",
    "    y='gb_used', grid=True, figsize=(12,5), color='blue', ax=ax, label='ultra', legend=True)\n",
    "\n",
    "# нарисуем линию лимита для тарифа \"смарт\"\n",
    "plt.hlines(15, xmin='2018-01-01', xmax='2018-12-01', color='green', alpha=0.4)\n",
    "plt.title('Поведение клиентов оператора (интернет-траффик)')\n",
    "plt.xlabel('Месяц')\n",
    "plt.ylabel('Количество потраченных Gb');"
   ]
  },
  {
   "cell_type": "markdown",
   "metadata": {},
   "source": [
    "Графики о потраченном интернет-траффике пользователями обоих тарифов демонстрируют тенденции, аналогичные минутам разговора. В феврале показатели практически совпадают, а в течение года преимущественно растут. Пользователи тарифа \"ультра\" по большей части тратят больше интернет-траффика, чем пользователи тарифа \"смарт\". Однако, если обратиться к лимитам по тарифам, то становится видно, что примерно с мая пользователи \"смарт\" перестали укладываться в отведённые им 15 Gb. В то же время пользователи \"ультра\" в среднем не приблизились к установленным 30 Gb даже в декабре.\n",
    "\n",
    "Изучим активность пользователей обоих тарифов в части отправленных сообщений:"
   ]
  },
  {
   "cell_type": "code",
   "execution_count": 49,
   "metadata": {},
   "outputs": [
    {
     "data": {
      "image/png": "[encoded data removed]",
      "text/plain": [
       "<Figure size 864x360 with 1 Axes>"
      ]
     },
     "metadata": {
      "needs_background": "light"
     },
     "output_type": "display_data"
    }
   ],
   "source": [
    "ax = smart.pivot_table(\n",
    "index = 'month',\n",
    "values = 'message_count',\n",
    "aggfunc = 'mean').plot(y='message_count', color='green', label='smart')\n",
    "\n",
    "ultra.pivot_table(\n",
    "index = 'month',\n",
    "values = 'message_count',\n",
    "aggfunc = 'mean').plot(\n",
    "    y='message_count', grid=True, figsize=(12,5), color='blue', ax=ax, label='ultra', legend=True)\n",
    "\n",
    "# нарисуем линию лимита для тарифа \"смарт\"\n",
    "plt.hlines(50, xmin='2018-01-01', xmax='2018-12-01', color='green', alpha=0.4)\n",
    "plt.title('Поведение клиентов оператора (сообщения)')\n",
    "plt.xlabel('Месяц')\n",
    "plt.ylabel('Количество потраченных sms');"
   ]
  },
  {
   "cell_type": "markdown",
   "metadata": {},
   "source": [
    "Характер линий графиков, отражающих количество отправленных смс пользователями обоих тарифов в течение года, немного отличается от двух предыдущих. Здесь показатели почти сравнялись в марте, а вот в феврале пользователи тарифа \"смарт\" активнее писали сообщения, чем пользователи тарифа \"ультра\". С апреля по пользователям \"ультра\" заметен явный рост, а вот показатель тарифа \"смарт\" оставался практически на одном уровне.  \n",
    "С приходом мессенджеров в наши жизни SMS-сообщения потеряли свою актуальность. Линии графиков демонстрируют нам, что в установленный лимит отправленных сообщений пользователи обоих тарифов с лёгкостью укладываются.\n",
    "\n",
    "Средние величины демонтрируют нам общую тенденцию внутри каждой выборки. Посмотрим, насколько однородны данные по пользователям тарифов \"смарт\" и \"ультра\", рассчитав дисперсию и стандартное отклонение по каждому датафрейму:"
   ]
  },
  {
   "cell_type": "code",
   "execution_count": 50,
   "metadata": {
    "scrolled": true
   },
   "outputs": [
    {
     "name": "stdout",
     "output_type": "stream",
     "text": [
      "Дисперсия показателей по тарифу \"смарт\":\n",
      "duration_in_min     35828.065310\n",
      "gb_used                33.077510\n",
      "message_count         798.236550\n",
      "revenue            670655.507717\n",
      "dtype: float64\n"
     ]
    }
   ],
   "source": [
    "smart_variance = np.var(smart[['duration_in_min', 'gb_used', 'message_count', 'revenue']])\n",
    "print('Дисперсия показателей по тарифу \"смарт\":')\n",
    "print(smart_variance)"
   ]
  },
  {
   "cell_type": "code",
   "execution_count": 51,
   "metadata": {},
   "outputs": [
    {
     "name": "stdout",
     "output_type": "stream",
     "text": [
      "Дисперсия показателей по тарифу \"ультра\":\n",
      "duration_in_min     94104.361174\n",
      "gb_used                97.717782\n",
      "message_count        2196.421581\n",
      "revenue            143810.715601\n",
      "dtype: float64\n"
     ]
    }
   ],
   "source": [
    "ultra_variance = np.var(ultra[['duration_in_min', 'gb_used', 'message_count', 'revenue']])\n",
    "print('Дисперсия показателей по тарифу \"ультра\":')\n",
    "print(ultra_variance)"
   ]
  },
  {
   "cell_type": "markdown",
   "metadata": {},
   "source": [
    "Дисперсия характеризует разброс случайной величины вокруг её математического ожидания (среднего арифметического). Рассчитанные дисперсии демонстрируют нам, что разброс данных по тарифу \"ультра больше.\n",
    "\n",
    "Для того, чтобы понять как сильно отклоняются данные от средней величины, рассчитаем стандартное отклонение показателей по двум тарифам:"
   ]
  },
  {
   "cell_type": "code",
   "execution_count": 52,
   "metadata": {},
   "outputs": [
    {
     "name": "stdout",
     "output_type": "stream",
     "text": [
      "Стандартное отклонение показателей по тарифу \"смарт\":\n",
      "duration_in_min    189.325618\n",
      "gb_used              5.752599\n",
      "message_count       28.259437\n",
      "revenue            819.119853\n",
      "dtype: float64\n"
     ]
    }
   ],
   "source": [
    "smart_std = np.std(smart[['duration_in_min', 'gb_used', 'message_count', 'revenue']], ddof=1)\n",
    "print('Стандартное отклонение показателей по тарифу \"смарт\":')\n",
    "print(smart_std)"
   ]
  },
  {
   "cell_type": "code",
   "execution_count": 53,
   "metadata": {},
   "outputs": [
    {
     "name": "stdout",
     "output_type": "stream",
     "text": [
      "Стандартное отклонение показателей по тарифу \"ультра\":\n",
      "duration_in_min    306.925754\n",
      "gb_used              9.890432\n",
      "message_count       46.890656\n",
      "revenue            379.423372\n",
      "dtype: float64\n"
     ]
    }
   ],
   "source": [
    "ultra_std = np.std(ultra[['duration_in_min', 'gb_used', 'message_count', 'revenue']], ddof=1)\n",
    "print('Стандартное отклонение показателей по тарифу \"ультра\":')\n",
    "print(ultra_std)"
   ]
  },
  {
   "cell_type": "markdown",
   "metadata": {},
   "source": [
    "Мы видим, что отклонение от средней величины по показателям тарифа \"ультра\" также больше. Так, варианты звонков среди пользователей \"ультра\" откланяются от средней на почти 307 минут, а среди пользователей \"смарт\" - на 189 минут. Расход трафика пользователей \"ультра\" в среднем откланяется от среднего арифметического значения на 9.9 Gb, а пользователей \"смарт\" - на 5.8 Gb. Количество отправленных сообщений пользователями \"смарт\" в среднем отлично от средней арифметической на 28, а \"ультра\" - на 47 сообщений. Средний доход по пользователям \"ультра\" также варьирует сильнее, чем по пользователям \"смарт\".\n",
    "\n",
    "Прежде чем выдвигать гипотезы на проверку относительно выручки по обоим тарифам, необходимо посмотреть, как распределены данные. Для этой цели построим гистограммы для каждого показателя, подберём подходящее количество \"корзин\" для большей наглядности:"
   ]
  },
  {
   "cell_type": "code",
   "execution_count": 54,
   "metadata": {
    "scrolled": false
   },
   "outputs": [
    {
     "data": {
      "image/png": "[encoded data removed]",
      "text/plain": [
       "<Figure size 864x360 with 1 Axes>"
      ]
     },
     "metadata": {
      "needs_background": "light"
     },
     "output_type": "display_data"
    }
   ],
   "source": [
    "ax = ultra['gb_used'].plot(bins=50, alpha=0.7, kind='hist', label='ultra', legend=True, color='blue')\n",
    "smart['gb_used'].plot(\n",
    "    bins=50, alpha=0.7, ax=ax, kind='hist', label='smart', grid=True, figsize=(12,5), legend=True, color='green');\n",
    "plt.title('Распределение потраченного интернет-траффика среди пользователей обоих тарифов')\n",
    "plt.xlabel('Количество потраченных Gb')\n",
    "plt.ylabel('Частота');"
   ]
  },
  {
   "cell_type": "markdown",
   "metadata": {},
   "source": [
    "Очертания гистограммы по потраченному трафику среди пользователей тарифа \"смарт\" демонтрируют распределение, похожее на нормальное. А гистограмма по тарифу \"ультра\" не наглядна, поэтому построим для этих данных график квантилей-квантилей:"
   ]
  },
  {
   "cell_type": "code",
   "execution_count": 55,
   "metadata": {},
   "outputs": [
    {
     "data": {
      "image/png": "[encoded data removed]",
      "text/plain": [
       "<Figure size 432x288 with 1 Axes>"
      ]
     },
     "metadata": {
      "needs_background": "light"
     },
     "output_type": "display_data"
    }
   ],
   "source": [
    "sm.qqplot(smart['gb_used'], fit=True, line=\"45\", color='blue')\n",
    "plt.title('Распределение потраченного интернет-траффика среди пользователей тарифа \"смарт\"')\n",
    "plt.show()"
   ]
  },
  {
   "cell_type": "markdown",
   "metadata": {},
   "source": [
    "График квантилей-квантилей по потраченному трафику среди пользователей тарифа \"ультра\" тоже демонтрирует распределение, похожее на нормальное.\n",
    "\n",
    "Посмотрим, как выглядит распределение потраченных сообщений среди пользователей обоих тарифов:"
   ]
  },
  {
   "cell_type": "code",
   "execution_count": 56,
   "metadata": {},
   "outputs": [
    {
     "data": {
      "image/png": "[encoded data removed]",
      "text/plain": [
       "<Figure size 864x360 with 1 Axes>"
      ]
     },
     "metadata": {
      "needs_background": "light"
     },
     "output_type": "display_data"
    }
   ],
   "source": [
    "ax = ultra['message_count'].plot(bins=100, alpha=0.6, kind='hist', label='ultra', legend=True, color='blue', range=(\n",
    "    0,250))\n",
    "smart['message_count'].plot(\n",
    "    bins=100, alpha=0.6, ax=ax, kind='hist', label='smart', grid=True, figsize=(\n",
    "        12,5), legend=True, color='green', range=(0,250));\n",
    "plt.title('Распределение потраченных сообщений среди пользователей обоих тарифов')\n",
    "plt.xlabel('Количество потраченных sms')\n",
    "plt.ylabel('Частота');"
   ]
  },
  {
   "cell_type": "markdown",
   "metadata": {},
   "source": [
    "Здесь тоже лучше прибегнуть к графику квантилей-квантилей:"
   ]
  },
  {
   "cell_type": "code",
   "execution_count": 57,
   "metadata": {},
   "outputs": [
    {
     "data": {
      "image/png": "[encoded data removed]",
      "text/plain": [
       "<Figure size 432x288 with 1 Axes>"
      ]
     },
     "metadata": {
      "needs_background": "light"
     },
     "output_type": "display_data"
    },
    {
     "data": {
      "image/png": "[encoded data removed]",
      "text/plain": [
       "<Figure size 432x288 with 1 Axes>"
      ]
     },
     "metadata": {
      "needs_background": "light"
     },
     "output_type": "display_data"
    }
   ],
   "source": [
    "sm.qqplot(smart['message_count'], fit=True, line=\"45\", color='blue')\n",
    "plt.title('Распределение потраченных сообщений среди пользователей тарифа \"смарт\"')\n",
    "plt.show()\n",
    "sm.qqplot(ultra['message_count'], fit=True, line=\"45\", color='green')\n",
    "plt.title('Распределение потраченных сообщений среди пользователей тарифа \"ультра\"')\n",
    "plt.show()"
   ]
  },
  {
   "cell_type": "markdown",
   "metadata": {},
   "source": [
    "График квантилей-квантилей подтверждает нам, что нормальным это распределение назвать нельзя. Количество потраченных сообщений - дискретная величина, поэтому распределение скорее биномиальное. Однако, при большом количестве повторений простого биномиального эксперимента биномиальное распределение приближается к нормальному.\n",
    "\n",
    "Построим гистограмму распределения потраченных минут разговоров среди пользователей обоих тарифов:"
   ]
  },
  {
   "cell_type": "code",
   "execution_count": 58,
   "metadata": {},
   "outputs": [
    {
     "data": {
      "image/png": "[encoded data removed]",
      "text/plain": [
       "<Figure size 864x360 with 1 Axes>"
      ]
     },
     "metadata": {
      "needs_background": "light"
     },
     "output_type": "display_data"
    }
   ],
   "source": [
    "ax = ultra['duration_in_min'].plot(bins=100, alpha=0.7, kind='hist', label='ultra', legend=True, color='blue')\n",
    "smart['duration_in_min'].plot(\n",
    "    bins=100, alpha=0.7, ax=ax, kind='hist', label='smart', grid=True, figsize=(12,5), legend=True, color='green');\n",
    "plt.title('Распределение потраченных минут разговоров среди пользователей обоих тарифов')\n",
    "plt.xlabel('Количество потраченных минут')\n",
    "plt.ylabel('Частота');"
   ]
  },
  {
   "cell_type": "markdown",
   "metadata": {},
   "source": [
    "Данные о потраченных минутах разговорах среди пользователей тарифа \"смарт\" имеют распределение, похожее нанормальное. А данные по тарифу \"ультра\" снова имеет смысл дополнительно изобразить на графике квантилей-квантилей:"
   ]
  },
  {
   "cell_type": "code",
   "execution_count": 59,
   "metadata": {},
   "outputs": [
    {
     "data": {
      "image/png": "[encoded data removed]",
      "text/plain": [
       "<Figure size 432x288 with 1 Axes>"
      ]
     },
     "metadata": {
      "needs_background": "light"
     },
     "output_type": "display_data"
    }
   ],
   "source": [
    "sm.qqplot(smart['duration_in_min'], fit=True, line=\"45\", color='blue')\n",
    "plt.title('Распределение потраченных минут разговоров среди пользователей тарифа \"смарт\"')\n",
    "plt.show()"
   ]
  },
  {
   "cell_type": "markdown",
   "metadata": {},
   "source": [
    "Распределение потраченных минут разговоров среди пользователей тарифа \"смарт\" тоже похоже на нормальное. \n",
    "\n",
    "**Вывод**\n",
    "Стоит сказать, генеральная совокупнось может быть распределена как угодно: датасет из средних значений выборок всё равно будет нормально распределён вокруг среднего всей совокупности. В нашем распоряжении было достаточное количество данных. Сгруппировав данные в разрезе пользователей и месяцев, посчитав средние по каждой группе, изобразив распределения графически, мы убедились в том, что можем переходить к следующему шагу нашего исследования: формулированию гипотез и проведению статистического теста.\n",
    "\n",
    "<a id='hipothesis'></a>\n",
    "## Проверка гипотез\n",
    "В заключительной части нашего исследования нам предстоит проверить гипотезы: средняя выручка пользователей тарифов «Ультра» и «Смарт» различаются; средняя выручка пользователей из Москвы отличается от выручки пользователей из других регионов.\n",
    "\n",
    "Для начала, посмотрим динамику средней выручки пользователей по каждому тарифу и сравним с общей средней:"
   ]
  },
  {
   "cell_type": "code",
   "execution_count": 60,
   "metadata": {},
   "outputs": [
    {
     "data": {
      "image/png": "[encoded data removed]",
      "text/plain": [
       "<Figure size 864x360 with 1 Axes>"
      ]
     },
     "metadata": {
      "needs_background": "light"
     },
     "output_type": "display_data"
    }
   ],
   "source": [
    "ax = smart.pivot_table(\n",
    "index = 'month',\n",
    "values = 'revenue',\n",
    "aggfunc = 'mean').plot(y='revenue', color='green', label='smart')\n",
    "\n",
    "ultra.pivot_table(\n",
    "index = 'month',\n",
    "values = 'revenue',\n",
    "aggfunc = 'mean').plot(\n",
    "    y='revenue', grid=True, figsize=(12,5), color='blue', ax=ax, label='ultra', legend=True)\n",
    "\n",
    "# добавим на график динамику средней выручки пользователей обоих тарифов\n",
    "df.pivot_table(\n",
    "index = 'month',\n",
    "values = 'revenue',\n",
    "aggfunc = 'mean').plot(\n",
    "    y='revenue', grid=True, figsize=(12,5), color='red', ax=ax, label='all', legend=True)\n",
    "\n",
    "plt.title('Сравнение средней выручки по тарифам')\n",
    "plt.xlabel('Месяц')\n",
    "plt.ylabel('Средняя выручка с пользователя');"
   ]
  },
  {
   "cell_type": "markdown",
   "metadata": {},
   "source": [
    "По графику можно сделать вывод, что средняя выручка пользователей тарифа \"ультра\" значительно выше, чем выручка пользователей тарифа \"смарт\" (и выше, чем средняя выручка всех пользователей). Вместе с тем, заметим, что уровень средней выручки среди пользователей тарифа \"ультра\" колеблется незначительно, что нельзя сказать о графике средней выручки среди пользователей \"смарт\" - там заметна явная тенденция роста к концу 2018 года.\n",
    "\n",
    "Таким образом, сформулируем следующие гипотезы для проверки:  \n",
    "**H_0**: средняя выручка пользователей тарифов «Ультра» и «Смарт» равны,  \n",
    "**H_1**: средняя выручка пользователей тарифа «Ультра» больше, чем средняя выручка пользователей тарифа «Смарт» (альтернативную гипотезу выдвенем односторонней, так как первичный вывод нам позволили сделать графики).\n",
    "\n",
    "Так как мы имеем дело с двумя независимыми выборками, то для проверки гипотез будем использовать метод *ttest_ind()*:"
   ]
  },
  {
   "cell_type": "code",
   "execution_count": 61,
   "metadata": {},
   "outputs": [
    {
     "name": "stdout",
     "output_type": "stream",
     "text": [
      "p-значение: 1.0915154124556464e-155\n",
      "Отвергаем нулевую гипотезу\n"
     ]
    }
   ],
   "source": [
    "alpha = .05 # критический уровень статистической значимости\n",
    "            # если p-value окажется меньше него - отвергнем гипотезу\n",
    "\n",
    "results = st.ttest_ind(ultra['revenue'], smart['revenue'])\n",
    "\n",
    "# тест односторонний: p-value необходимо разделить на 2\n",
    "print('p-значение:', results.pvalue/2)\n",
    "\n",
    "# тест односторонний вправо:\n",
    "# отвергаем нулевую гипотезу только если среднее выборки \"ультра\" значимо больше среднего выборки \"смарт\"\n",
    "if (results.pvalue/2 < alpha) and (ultra['revenue'].mean() > smart['revenue'].mean()):\n",
    "    print('Отвергаем нулевую гипотезу')\n",
    "else:\n",
    "    print('Не получилось отвергнуть нулевую гипотезу')"
   ]
  },
  {
   "cell_type": "markdown",
   "metadata": {},
   "source": [
    "Полученные расчеты позволяют отвергнуть нулевую гипотезу о равенстве средней вручки пользователей тарифов \"смарт\" и \"ультра\" в пользу альтернативной гипотезы: средняя выручка пользователей тарифа «Ультра» больше, чем средняя выручка пользователей тарифа «Смарт». На следующем шаге нашего исследования нам предстоит сравнить среднюю выручку пользователей \"Мегалайн\" в Москве и других регионах. \n",
    "\n",
    "Таким образом, сформулируем следующие гипотезы для проверки:  \n",
    "**H_0**: средняя выручка пользователей \"Мегалайн\" из Москвы и из других регионов равны,  \n",
    "**H_1**: средняя выручка пользователей \"Мегалайн\" из Москвы отличается от выручки пользователей из других регионов (двусторонняя альтернативная гипотеза).\n",
    "\n",
    "Так как мы имеем дело с двумя независимыми выборками, то для проверки гипотез будем использовать метод ttest_ind():"
   ]
  },
  {
   "cell_type": "code",
   "execution_count": 62,
   "metadata": {},
   "outputs": [
    {
     "name": "stdout",
     "output_type": "stream",
     "text": [
      "p-значение: 0.4619932225305272\n",
      "Не получилось отвергнуть нулевую гипотезу\n"
     ]
    }
   ],
   "source": [
    "alpha = .05 # критический уровень статистической значимости\n",
    "            # если p-value окажется меньше него - отвергнем гипотезу\n",
    "\n",
    "results = st.ttest_ind(df[df['city'] == 'Москва']['revenue'], df[df['city'] != 'Москва']['revenue'])\n",
    "\n",
    "# для двустороннего теста p-value делить на 2 не нужно\n",
    "print('p-значение:', results.pvalue)\n",
    "\n",
    "if (results.pvalue < alpha):\n",
    "    print('Отвергаем нулевую гипотезу')\n",
    "else:\n",
    "    print('Не получилось отвергнуть нулевую гипотезу')"
   ]
  },
  {
   "cell_type": "markdown",
   "metadata": {},
   "source": [
    "В результате проведенного статитического теста мы получили высокий уровень значимости - 46% (намного больше выбранного нами критического уровня значимости в 5 %). Мы не смогли отвергнуть нулевую гипозезу о равенстве средней выручки пользователей \"Мегалайн\" в Москве и других регионах (то есть разницу между средними выручками по Москве и в других регионах мы не можем считать статистически значимой).\n",
    "\n",
    "Построим сводную таблицу, где сгруппируем данные по городам и рассчитаем среднепользовательскую выручку:"
   ]
  },
  {
   "cell_type": "code",
   "execution_count": 63,
   "metadata": {},
   "outputs": [
    {
     "data": {
      "text/html": [
       "<div>\n",
       "<style scoped>\n",
       "    .dataframe tbody tr th:only-of-type {\n",
       "        vertical-align: middle;\n",
       "    }\n",
       "\n",
       "    .dataframe tbody tr th {\n",
       "        vertical-align: top;\n",
       "    }\n",
       "\n",
       "    .dataframe thead tr th {\n",
       "        text-align: left;\n",
       "    }\n",
       "\n",
       "    .dataframe thead tr:last-of-type th {\n",
       "        text-align: right;\n",
       "    }\n",
       "</style>\n",
       "<table border=\"1\" class=\"dataframe\">\n",
       "  <thead>\n",
       "    <tr>\n",
       "      <th></th>\n",
       "      <th>sum</th>\n",
       "      <th>count</th>\n",
       "      <th>mean</th>\n",
       "    </tr>\n",
       "    <tr>\n",
       "      <th></th>\n",
       "      <th>revenue</th>\n",
       "      <th>revenue</th>\n",
       "      <th>revenue</th>\n",
       "    </tr>\n",
       "    <tr>\n",
       "      <th>city</th>\n",
       "      <th></th>\n",
       "      <th></th>\n",
       "      <th></th>\n",
       "    </tr>\n",
       "  </thead>\n",
       "  <tbody>\n",
       "    <tr>\n",
       "      <th>Другой город</th>\n",
       "      <td>3464227.0</td>\n",
       "      <td>2299</td>\n",
       "      <td>1506.840800</td>\n",
       "    </tr>\n",
       "    <tr>\n",
       "      <th>Москва</th>\n",
       "      <td>943092.0</td>\n",
       "      <td>610</td>\n",
       "      <td>1546.052459</td>\n",
       "    </tr>\n",
       "    <tr>\n",
       "      <th>Санкт-Петербург</th>\n",
       "      <td>431832.0</td>\n",
       "      <td>265</td>\n",
       "      <td>1629.554717</td>\n",
       "    </tr>\n",
       "  </tbody>\n",
       "</table>\n",
       "</div>"
      ],
      "text/plain": [
       "                       sum   count         mean\n",
       "                   revenue revenue      revenue\n",
       "city                                           \n",
       "Другой город     3464227.0    2299  1506.840800\n",
       "Москва            943092.0     610  1546.052459\n",
       "Санкт-Петербург   431832.0     265  1629.554717"
      ]
     },
     "execution_count": 63,
     "metadata": {},
     "output_type": "execute_result"
    }
   ],
   "source": [
    "df.pivot_table(\n",
    "index = 'city',\n",
    "values = 'revenue',\n",
    "aggfunc = ['sum', 'count', 'mean'])"
   ]
  },
  {
   "cell_type": "markdown",
   "metadata": {},
   "source": [
    "Из таблицы видно, что средняя выручка пользователей \"Мегалайн\" в Москве и Санкт-Петербурге выше, чем в других регионах. Однако, в Санкт-Петербурге выше, чем в Москве. Очень похоже, что рассчитав среднюю выручку пользователей по всем городам, кроме Москвы, мы получим значение близкое к столичному уровню. Проверим так ли это:"
   ]
  },
  {
   "cell_type": "code",
   "execution_count": 64,
   "metadata": {},
   "outputs": [
    {
     "data": {
      "text/plain": [
       "1519.5237909516381"
      ]
     },
     "execution_count": 64,
     "metadata": {},
     "output_type": "execute_result"
    }
   ],
   "source": [
    "df[df['city'] != 'Москва']['revenue'].mean()"
   ]
  },
  {
   "cell_type": "markdown",
   "metadata": {},
   "source": [
    "Действительно, мы получили разницу всего лишь около 27 рублей, поэтому и не смогли опровергнуть гипотезу о равенстве средней выручки пользователей \"Мегалайн\" в Москве и других регионах."
   ]
  },
  {
   "cell_type": "markdown",
   "metadata": {},
   "source": [
    "**Вывод**\n",
    "\n",
    "В заключительной части нашего исследования мы проверили две гипотезы: о равенствве средней выручки пользователей тарифа \"ультра\" и тарифа \"смарт\", о равенстве средней выручки пользователей из Москвы и других городов. Первую гипотезу мы отвергли в пользу односторонней альтернативной - среднепользовательская выручка тарифа \"ультра статистически выше среднепользовательской выручки тарифа \"смарт\". Вторую гипозезу о равенстве средней выручки пользователей \"Мегалайн\" в Москве и других регионах мы не смогли отвергнуть(то есть разницу между средними выручками по Москве и в других регионах мы не можем считать статистически значимой)."
   ]
  },
  {
   "cell_type": "markdown",
   "metadata": {},
   "source": [
    "<a id='total_conclusion'></a>\n",
    "## Общий вывод\n",
    "\n",
    "Мы прочитали данные из файлов, привели их к удобному для использования виду. На базе построенной нами таблицы, приняв во внимание известные нам условия тарифов \"Мегалайна\", мы произвели расчет среднепользовательской выручки. На следующих этапах нашего исследования мы проанализировали поведение польователей обоих тарифов на протяжении 2018 года.\n",
    "\n",
    "Пользователи тарифа \"ультра\" преимущественно более активны в звонках, чем пользователи тарифа \"смарт\" (за исключением февраля, где показатели практически равны). Заметна тенденция к наращиванию минут звонков в течение года.  \n",
    "На обоих тарифах пользователи в среднем тратят количество минут в пределах установленного тарифом лимита. Однако, пользователи тарифа \"смарт\" в декабре очень приблизились к отведённым 500 минутам. В то же время пользователи \"ультра\" не тратят даже пятой части от установленных 3000 минут.\n",
    "\n",
    "Графики о потраченном интернет-траффике пользователями обоих тарифов демонстрируют тенденции, аналогичные минутам разговора. В феврале показатели практически совпадают, а в течение года преимущественно растут. Пользователи тарифа \"ультра\" по большей части тратят больше интернет-траффика, чем пользователи тарифа \"смарт\". Однако, если обратиться к лимитам по тарифам, то становится видно, что примерно с мая пользователи \"смарт\" перестали укладываться в отведённые им 15 Gb. В то же время пользователи \"ультра\" в среднем не приблизились к установленным 30 Gb даже в декабре.\n",
    "\n",
    "Характер линий графиков, отражающих количество отправленных смс пользователями обоих тарифов в течение года, немного отличается от двух предыдущих. Здесь показатели почти сравнялись в марте, а вот в феврале пользователи тарифа \"смарт\" активнее писали сообщения, чем пользователи тарифа \"ультра\". С апреля по пользователям \"ультра\" заметен явный рост, а вот показатель тарифа \"смарт\" оставался практически на одном уровне. С приходом мессенджеров в наши жизни SMS-сообщения потеряли свою актуальность. Линии графиков демонстрируют нам, что в установленный лимит отправленных сообщений пользователи обоих тарифов с лёгкостью укладываются.\n",
    "\n",
    "Исходя из выше изложенной информации можно сделать вывод о преимущесте тарифа \"ультра\" над тарифом \"смарт\". Пользователи тарифа \"ультра\" демонтрируют большую активность в звонках, сообщениях и потреблении интернета, но при этом они даже не расходуют отведённый им лимит, включенный в абонетскую плату, что выгодно мобильнму оператору.\n",
    "\n",
    "Средние величины демонтрируют нам общую тенденцию внутри каждой выборки. Насколько однородны данные по пользователям тарифов \"смарт\" и \"ультра\", мы сумели понять, рассчитав дисперсию и стандартное отклонение по каждому датафрейму. Дисперсия характеризует разброс случайной величины вокруг её математического ожидания (среднего арифметического). Рассчитанные дисперсии демонстрируют нам, что разброс данных по тарифу \"ультра\" больше. Отклонение от средней величины по показателям тарифа \"ультра\" также больше. Так, варианты звонков среди пользователей \"ультра\" откланяются от средней на почти 307 минут, а среди пользователей \"смарт\" - на 189 минут. Расход трафика пользователей \"ультра\" в среднем откланяется от среднего арифметического значения на 9.9 Gb, а пользователей \"смарт\" - на 5.8 Gb. Количество отправленных сообщений пользователями \"смарт\" в среднем отлично от средней арифметической на 28, а \"ультра\" - на 47 сообщений. Средний доход по пользователям \"ультра\" также варьирует сильнее, чем по пользователям \"смарт\".\n",
    "\n",
    "Прежде чем выдвигать гипотезы на проверку относительно выручки по обоим тарифам, необходимо было посмотреть, как распределены данные. Для этой цели мы строили гистограммы для каждого показателя, подобрав подходящее количество \"корзин\" для большей наглядности. Стоит сказать, генеральная совокупнось может быть распределена как угодно: датасет из средних значений выборок всё равно будет нормально распределён вокруг среднего всей совокупности. В нашем распоряжении было достаточное количество данных. Сгруппировав данные в разрезе пользователей и месяцев, посчитав средние по каждой группе, изобразив распределения графически, мы убедились в том, что можем переходить к следующему шагу нашего исследования: формулированию гипотез и проведению статистического теста.\n",
    "\n",
    "В заключительной части нашего исследования мы проверили гипотезы:\n",
    "- средняя выручка пользователей тарифов «Ультра» и «Смарт» различаются; \n",
    "- средняя выручка пользователей из Москвы отличается от выручки пользователей из других регионов.\n",
    "\n",
    "Сначала мы построили график средней выручки по каждому тарифу и по двум тарифам вместе. Из графика было видно, что средняя выручка пользователей тарифа \"ультра\" значительно выше, чем выручка пользователей тарифа \"смарт\" (и выше, чем средняя выручка всех пользователей). Вместе с тем, уровень средней выручки среди пользователей тарифа \"ультра\" колеблется незначительно, что нельзя сказать о графике средней выручки среди пользователей \"смарт\" - там была заметна явная тенденция роста к концу 2018 года.\n",
    "\n",
    "Таким образом, мы сформулировали следующие гипотезы для проверки:  \n",
    "**H_0:** средняя выручка пользователей тарифов «Ультра» и «Смарт» равны,  \n",
    "**H_1:** средняя выручка пользователей тарифа «Ультра» больше, чем средняя выручка пользователей тарифа «Смарт» (альтернативную гипотезу выдвенем односторонней, так как первичный вывод нам позволили сделать графики).\n",
    "\n",
    "Так как мы имели дело с двумя независимыми выборками, то для проверки гипотез был использован метод ttest_ind(). Полученные расчеты позволили отвергнуть нулевую гипотезу о равенстве средней вручки пользователей тарифов \"смарт\" и \"ультра\" в пользу альтернативной гипотезы: средняя выручка пользователей тарифа «Ультра» больше, чем средняя выручка пользователей тарифа «Смарт».\n",
    "\n",
    "На следующем шаге нашего исследования мы сравнили среднюю выручку пользователей \"Мегалайн\" в Москве и других регионах. Были формулированы следующие гипотезы для проверки:   \n",
    "**H_0:** средняя выручка пользователей \"Мегалайн\" из Москвы и из других регионов равны,  \n",
    "**H_1:** средняя выручка пользователей \"Мегалайн\" из Москвы отличается от выручки пользователей из других регионов (двусторонняя альтернативная гипотеза).\n",
    "\n",
    "Снова был использован метод ttest_ind(). В результате проведенного статитического теста мы получили высокий уровень значимости - 46% (намного больше выбранного нами критического уровня значимости в 5 %). Мы не смогли отвергнуть нулевую гипозезу о равенстве средней выручки пользователей \"Мегалайн\" в Москве и других регионах (то есть разницу между средними выручками по Москве и в других регионах мы не можем считать статистически значимой).\n",
    "\n",
    "Далее мы построили сводную таблицу, где сгруппировали данные по городам и рассчитали среднепользовательскую выручку. Получили вывод о том,что средняя выручка пользователей \"Мегалайн\" в Москве и Санкт-Петербурге выше, чем в других регионах. Однако, в Санкт-Петербурге выше, чем в Москве. Рассчитав среднюю выручку пользователей по всем городам, кроме Москвы, мы получили значение близкое к столичному уровню - всего лишь около 27 рублей, поэтому и не смогли опровергнуть гипотезу о равенстве средней выручки пользователей \"Мегалайн\" в Москве и других регионах.\n",
    "\n",
    "С точки зрения \"Мегалайн\", выгоднее можно считать тариф \"ультра\". Среднепользовательская выручка в рамках этого тарифа выше. Кроме того, пользователи в большинстве случаев не расходуют полностью лимиты звонков, трафика и сообщений, включенных в абнентскую плату(то есть получается, что переплачивают). Однако, для более конкретного ответа на вопрос, у нас недостаточно данных. Необходимо также проанализировать затраты, которые могут в рамках обслуживания пользователей двух тарифов отличаться. Только в этом случае мы сможем судить о более рентабельном и перспективном тарифном плане.\n",
    "\n",
    "Текущее исследование можно развить. Можно выделить несколько наиболее охваченных \"Мегалайном\" городов (например, 5 самых крупных), изучить поведение пользователей и выбрать направления популяризации того или иного тарифного плана. Кроме того, можно выдвинуть гипотезу о равенстве среднепользовательской выручки в Санкт-Петербурге и Москве и проверить её."
   ]
  },
  {
   "cell_type": "code",
   "execution_count": null,
   "metadata": {},
   "outputs": [],
   "source": []
  }
 ],
 "metadata": {
  "ExecuteTimeLog": [
   {
    "duration": 1615,
    "start_time": "2022-02-16T22:53:39.478Z"
   },
   {
    "duration": 156,
    "start_time": "2022-02-16T22:53:41.095Z"
   },
   {
    "duration": 19,
    "start_time": "2022-02-16T22:53:41.253Z"
   },
   {
    "duration": 42,
    "start_time": "2022-02-16T22:53:41.274Z"
   },
   {
    "duration": 29,
    "start_time": "2022-02-16T22:53:41.317Z"
   },
   {
    "duration": 92,
    "start_time": "2022-02-16T22:53:41.347Z"
   },
   {
    "duration": 49,
    "start_time": "2022-02-16T22:53:41.441Z"
   },
   {
    "duration": 130,
    "start_time": "2022-02-16T22:53:41.492Z"
   },
   {
    "duration": 16,
    "start_time": "2022-02-16T22:53:41.624Z"
   },
   {
    "duration": 27,
    "start_time": "2022-02-16T22:53:41.641Z"
   },
   {
    "duration": 158,
    "start_time": "2022-02-16T22:53:41.669Z"
   },
   {
    "duration": 6,
    "start_time": "2022-02-16T22:53:41.828Z"
   },
   {
    "duration": 506,
    "start_time": "2022-02-16T22:53:41.835Z"
   },
   {
    "duration": 22,
    "start_time": "2022-02-16T22:53:42.343Z"
   },
   {
    "duration": 60,
    "start_time": "2022-02-16T22:53:42.366Z"
   },
   {
    "duration": 30,
    "start_time": "2022-02-16T22:53:42.427Z"
   },
   {
    "duration": 103,
    "start_time": "2022-02-16T22:53:42.458Z"
   },
   {
    "duration": 14,
    "start_time": "2022-02-16T22:53:42.562Z"
   },
   {
    "duration": 34,
    "start_time": "2022-02-16T22:53:42.578Z"
   },
   {
    "duration": 35,
    "start_time": "2022-02-16T22:53:42.614Z"
   },
   {
    "duration": 30,
    "start_time": "2022-02-16T22:53:42.650Z"
   },
   {
    "duration": 2810,
    "start_time": "2022-02-16T22:53:42.681Z"
   },
   {
    "duration": -2564,
    "start_time": "2022-02-16T22:53:48.060Z"
   },
   {
    "duration": -2582,
    "start_time": "2022-02-16T22:53:48.079Z"
   },
   {
    "duration": -2639,
    "start_time": "2022-02-16T22:53:48.137Z"
   },
   {
    "duration": -2656,
    "start_time": "2022-02-16T22:53:48.155Z"
   },
   {
    "duration": -2673,
    "start_time": "2022-02-16T22:53:48.173Z"
   },
   {
    "duration": -2690,
    "start_time": "2022-02-16T22:53:48.191Z"
   },
   {
    "duration": -2707,
    "start_time": "2022-02-16T22:53:48.209Z"
   },
   {
    "duration": -2737,
    "start_time": "2022-02-16T22:53:48.239Z"
   },
   {
    "duration": -2753,
    "start_time": "2022-02-16T22:53:48.256Z"
   },
   {
    "duration": -2767,
    "start_time": "2022-02-16T22:53:48.271Z"
   },
   {
    "duration": -2780,
    "start_time": "2022-02-16T22:53:48.285Z"
   },
   {
    "duration": -2791,
    "start_time": "2022-02-16T22:53:48.297Z"
   },
   {
    "duration": -2802,
    "start_time": "2022-02-16T22:53:48.309Z"
   },
   {
    "duration": -2816,
    "start_time": "2022-02-16T22:53:48.324Z"
   },
   {
    "duration": -2828,
    "start_time": "2022-02-16T22:53:48.337Z"
   },
   {
    "duration": -2836,
    "start_time": "2022-02-16T22:53:48.346Z"
   },
   {
    "duration": -2860,
    "start_time": "2022-02-16T22:53:48.371Z"
   },
   {
    "duration": -2890,
    "start_time": "2022-02-16T22:53:48.402Z"
   },
   {
    "duration": -2915,
    "start_time": "2022-02-16T22:53:48.428Z"
   },
   {
    "duration": -2932,
    "start_time": "2022-02-16T22:53:48.446Z"
   },
   {
    "duration": -2946,
    "start_time": "2022-02-16T22:53:48.461Z"
   },
   {
    "duration": -2961,
    "start_time": "2022-02-16T22:53:48.477Z"
   },
   {
    "duration": -2976,
    "start_time": "2022-02-16T22:53:48.493Z"
   },
   {
    "duration": -2991,
    "start_time": "2022-02-16T22:53:48.508Z"
   },
   {
    "duration": -3005,
    "start_time": "2022-02-16T22:53:48.523Z"
   },
   {
    "duration": -3023,
    "start_time": "2022-02-16T22:53:48.542Z"
   },
   {
    "duration": -3041,
    "start_time": "2022-02-16T22:53:48.561Z"
   },
   {
    "duration": -3052,
    "start_time": "2022-02-16T22:53:48.574Z"
   },
   {
    "duration": -3064,
    "start_time": "2022-02-16T22:53:48.587Z"
   },
   {
    "duration": -3080,
    "start_time": "2022-02-16T22:53:48.603Z"
   },
   {
    "duration": -3096,
    "start_time": "2022-02-16T22:53:48.620Z"
   },
   {
    "duration": -3112,
    "start_time": "2022-02-16T22:53:48.637Z"
   },
   {
    "duration": -3120,
    "start_time": "2022-02-16T22:53:48.647Z"
   },
   {
    "duration": -3136,
    "start_time": "2022-02-16T22:53:48.664Z"
   },
   {
    "duration": -3148,
    "start_time": "2022-02-16T22:53:48.677Z"
   },
   {
    "duration": -3175,
    "start_time": "2022-02-16T22:53:48.706Z"
   },
   {
    "duration": -3210,
    "start_time": "2022-02-16T22:53:48.742Z"
   },
   {
    "duration": -3274,
    "start_time": "2022-02-16T22:53:48.807Z"
   },
   {
    "duration": -3306,
    "start_time": "2022-02-16T22:53:48.841Z"
   },
   {
    "duration": -3339,
    "start_time": "2022-02-16T22:53:48.875Z"
   },
   {
    "duration": -3354,
    "start_time": "2022-02-16T22:53:48.892Z"
   },
   {
    "duration": -3368,
    "start_time": "2022-02-16T22:53:48.907Z"
   },
   {
    "duration": -3381,
    "start_time": "2022-02-16T22:53:48.921Z"
   },
   {
    "duration": -3393,
    "start_time": "2022-02-16T22:53:48.935Z"
   },
   {
    "duration": -3402,
    "start_time": "2022-02-16T22:53:48.945Z"
   },
   {
    "duration": -3415,
    "start_time": "2022-02-16T22:53:48.960Z"
   },
   {
    "duration": -3428,
    "start_time": "2022-02-16T22:53:48.974Z"
   },
   {
    "duration": -3441,
    "start_time": "2022-02-16T22:53:48.989Z"
   },
   {
    "duration": -3456,
    "start_time": "2022-02-16T22:53:49.005Z"
   },
   {
    "duration": -3470,
    "start_time": "2022-02-16T22:53:49.020Z"
   },
   {
    "duration": -3480,
    "start_time": "2022-02-16T22:53:49.032Z"
   },
   {
    "duration": -3490,
    "start_time": "2022-02-16T22:53:49.043Z"
   },
   {
    "duration": -3459,
    "start_time": "2022-02-16T22:53:49.071Z"
   },
   {
    "duration": -3501,
    "start_time": "2022-02-16T22:53:49.114Z"
   },
   {
    "duration": -3514,
    "start_time": "2022-02-16T22:53:49.128Z"
   },
   {
    "duration": -3536,
    "start_time": "2022-02-16T22:53:49.151Z"
   },
   {
    "duration": -3545,
    "start_time": "2022-02-16T22:53:49.161Z"
   },
   {
    "duration": -3559,
    "start_time": "2022-02-16T22:53:49.176Z"
   },
   {
    "duration": -3573,
    "start_time": "2022-02-16T22:53:49.191Z"
   },
   {
    "duration": -3587,
    "start_time": "2022-02-16T22:53:49.206Z"
   },
   {
    "duration": -3601,
    "start_time": "2022-02-16T22:53:49.221Z"
   },
   {
    "duration": -3615,
    "start_time": "2022-02-16T22:53:49.236Z"
   },
   {
    "duration": -3625,
    "start_time": "2022-02-16T22:53:49.247Z"
   },
   {
    "duration": -3641,
    "start_time": "2022-02-16T22:53:49.264Z"
   },
   {
    "duration": -3657,
    "start_time": "2022-02-16T22:53:49.281Z"
   },
   {
    "duration": -3670,
    "start_time": "2022-02-16T22:53:49.295Z"
   },
   {
    "duration": -3683,
    "start_time": "2022-02-16T22:53:49.309Z"
   },
   {
    "duration": -3698,
    "start_time": "2022-02-16T22:53:49.324Z"
   },
   {
    "duration": -3711,
    "start_time": "2022-02-16T22:53:49.338Z"
   },
   {
    "duration": -3727,
    "start_time": "2022-02-16T22:53:49.355Z"
   },
   {
    "duration": -3741,
    "start_time": "2022-02-16T22:53:49.370Z"
   },
   {
    "duration": -3781,
    "start_time": "2022-02-16T22:53:49.411Z"
   },
   {
    "duration": -3792,
    "start_time": "2022-02-16T22:53:49.423Z"
   },
   {
    "duration": -3824,
    "start_time": "2022-02-16T22:53:49.456Z"
   },
   {
    "duration": -3853,
    "start_time": "2022-02-16T22:53:49.486Z"
   },
   {
    "duration": -3863,
    "start_time": "2022-02-16T22:53:49.497Z"
   },
   {
    "duration": -3880,
    "start_time": "2022-02-16T22:53:49.514Z"
   },
   {
    "duration": -3896,
    "start_time": "2022-02-16T22:53:49.531Z"
   },
   {
    "duration": -3908,
    "start_time": "2022-02-16T22:53:49.544Z"
   },
   {
    "duration": -3922,
    "start_time": "2022-02-16T22:53:49.559Z"
   },
   {
    "duration": -3931,
    "start_time": "2022-02-16T22:53:49.569Z"
   },
   {
    "duration": -3939,
    "start_time": "2022-02-16T22:53:49.578Z"
   },
   {
    "duration": -3952,
    "start_time": "2022-02-16T22:53:49.592Z"
   },
   {
    "duration": -3967,
    "start_time": "2022-02-16T22:53:49.608Z"
   },
   {
    "duration": -3981,
    "start_time": "2022-02-16T22:53:49.623Z"
   },
   {
    "duration": -3995,
    "start_time": "2022-02-16T22:53:49.638Z"
   },
   {
    "duration": -4008,
    "start_time": "2022-02-16T22:53:49.652Z"
   },
   {
    "duration": -4018,
    "start_time": "2022-02-16T22:53:49.662Z"
   },
   {
    "duration": -4031,
    "start_time": "2022-02-16T22:53:49.676Z"
   },
   {
    "duration": -4045,
    "start_time": "2022-02-16T22:53:49.691Z"
   },
   {
    "duration": -4058,
    "start_time": "2022-02-16T22:53:49.705Z"
   },
   {
    "duration": -4072,
    "start_time": "2022-02-16T22:53:49.720Z"
   },
   {
    "duration": -4081,
    "start_time": "2022-02-16T22:53:49.730Z"
   },
   {
    "duration": -4095,
    "start_time": "2022-02-16T22:53:49.745Z"
   },
   {
    "duration": -4107,
    "start_time": "2022-02-16T22:53:49.758Z"
   },
   {
    "duration": -4124,
    "start_time": "2022-02-16T22:53:49.835Z"
   },
   {
    "duration": -4156,
    "start_time": "2022-02-16T22:53:49.869Z"
   },
   {
    "duration": -4171,
    "start_time": "2022-02-16T22:53:49.885Z"
   },
   {
    "duration": -4182,
    "start_time": "2022-02-16T22:53:49.897Z"
   },
   {
    "duration": -4200,
    "start_time": "2022-02-16T22:53:49.916Z"
   },
   {
    "duration": -4214,
    "start_time": "2022-02-16T22:53:49.931Z"
   },
   {
    "duration": -4229,
    "start_time": "2022-02-16T22:53:49.947Z"
   },
   {
    "duration": -4242,
    "start_time": "2022-02-16T22:53:49.961Z"
   },
   {
    "duration": -4257,
    "start_time": "2022-02-16T22:53:49.977Z"
   },
   {
    "duration": -4272,
    "start_time": "2022-02-16T22:53:49.993Z"
   },
   {
    "duration": -4286,
    "start_time": "2022-02-16T22:53:50.009Z"
   },
   {
    "duration": 1145,
    "start_time": "2022-02-16T22:56:56.180Z"
   },
   {
    "duration": 142,
    "start_time": "2022-02-16T22:56:57.327Z"
   },
   {
    "duration": 19,
    "start_time": "2022-02-16T22:56:57.471Z"
   },
   {
    "duration": 36,
    "start_time": "2022-02-16T22:56:57.492Z"
   },
   {
    "duration": 28,
    "start_time": "2022-02-16T22:56:57.529Z"
   },
   {
    "duration": 99,
    "start_time": "2022-02-16T22:56:57.558Z"
   },
   {
    "duration": 56,
    "start_time": "2022-02-16T22:56:57.659Z"
   },
   {
    "duration": 119,
    "start_time": "2022-02-16T22:56:57.717Z"
   },
   {
    "duration": 16,
    "start_time": "2022-02-16T22:56:57.838Z"
   },
   {
    "duration": 28,
    "start_time": "2022-02-16T22:56:57.855Z"
   },
   {
    "duration": 159,
    "start_time": "2022-02-16T22:56:57.884Z"
   },
   {
    "duration": 6,
    "start_time": "2022-02-16T22:56:58.044Z"
   },
   {
    "duration": 495,
    "start_time": "2022-02-16T22:56:58.052Z"
   },
   {
    "duration": 23,
    "start_time": "2022-02-16T22:56:58.549Z"
   },
   {
    "duration": 67,
    "start_time": "2022-02-16T22:56:58.573Z"
   },
   {
    "duration": 31,
    "start_time": "2022-02-16T22:56:58.642Z"
   },
   {
    "duration": 96,
    "start_time": "2022-02-16T22:56:58.675Z"
   },
   {
    "duration": 14,
    "start_time": "2022-02-16T22:56:58.772Z"
   },
   {
    "duration": 33,
    "start_time": "2022-02-16T22:56:58.788Z"
   },
   {
    "duration": 33,
    "start_time": "2022-02-16T22:56:58.823Z"
   },
   {
    "duration": 27,
    "start_time": "2022-02-16T22:56:58.858Z"
   },
   {
    "duration": 33,
    "start_time": "2022-02-16T22:56:58.887Z"
   },
   {
    "duration": 6,
    "start_time": "2022-02-16T22:56:58.924Z"
   },
   {
    "duration": 10,
    "start_time": "2022-02-16T22:56:58.933Z"
   },
   {
    "duration": 46,
    "start_time": "2022-02-16T22:56:58.944Z"
   },
   {
    "duration": 6,
    "start_time": "2022-02-16T22:56:58.992Z"
   },
   {
    "duration": 11,
    "start_time": "2022-02-16T22:56:59.000Z"
   },
   {
    "duration": 15,
    "start_time": "2022-02-16T22:56:59.013Z"
   },
   {
    "duration": 8,
    "start_time": "2022-02-16T22:56:59.030Z"
   },
   {
    "duration": 6,
    "start_time": "2022-02-16T22:56:59.040Z"
   },
   {
    "duration": 69,
    "start_time": "2022-02-16T22:56:59.048Z"
   },
   {
    "duration": 26,
    "start_time": "2022-02-16T22:56:59.119Z"
   },
   {
    "duration": 32,
    "start_time": "2022-02-16T22:56:59.146Z"
   },
   {
    "duration": 37,
    "start_time": "2022-02-16T22:56:59.180Z"
   },
   {
    "duration": 27,
    "start_time": "2022-02-16T22:56:59.219Z"
   },
   {
    "duration": 15,
    "start_time": "2022-02-16T22:56:59.248Z"
   },
   {
    "duration": 7,
    "start_time": "2022-02-16T22:56:59.265Z"
   },
   {
    "duration": 47,
    "start_time": "2022-02-16T22:56:59.273Z"
   },
   {
    "duration": 20,
    "start_time": "2022-02-16T22:56:59.321Z"
   },
   {
    "duration": 16,
    "start_time": "2022-02-16T22:56:59.343Z"
   },
   {
    "duration": 18,
    "start_time": "2022-02-16T22:56:59.361Z"
   },
   {
    "duration": 36,
    "start_time": "2022-02-16T22:56:59.380Z"
   },
   {
    "duration": 20,
    "start_time": "2022-02-16T22:56:59.418Z"
   },
   {
    "duration": 276,
    "start_time": "2022-02-16T22:56:59.440Z"
   },
   {
    "duration": 10,
    "start_time": "2022-02-16T22:56:59.718Z"
   },
   {
    "duration": 30,
    "start_time": "2022-02-16T22:56:59.729Z"
   },
   {
    "duration": 270,
    "start_time": "2022-02-16T22:56:59.761Z"
   },
   {
    "duration": 272,
    "start_time": "2022-02-16T22:57:00.032Z"
   },
   {
    "duration": 262,
    "start_time": "2022-02-16T22:57:00.305Z"
   },
   {
    "duration": 6,
    "start_time": "2022-02-16T22:57:00.569Z"
   },
   {
    "duration": 7,
    "start_time": "2022-02-16T22:57:00.577Z"
   },
   {
    "duration": 12,
    "start_time": "2022-02-16T22:57:00.586Z"
   },
   {
    "duration": 10,
    "start_time": "2022-02-16T22:57:00.613Z"
   },
   {
    "duration": 462,
    "start_time": "2022-02-16T22:57:00.625Z"
   },
   {
    "duration": 198,
    "start_time": "2022-02-16T22:57:01.088Z"
   },
   {
    "duration": 713,
    "start_time": "2022-02-16T22:57:01.287Z"
   },
   {
    "duration": 401,
    "start_time": "2022-02-16T22:57:02.003Z"
   },
   {
    "duration": 676,
    "start_time": "2022-02-16T22:57:02.406Z"
   },
   {
    "duration": 176,
    "start_time": "2022-02-16T22:57:03.083Z"
   },
   {
    "duration": 302,
    "start_time": "2022-02-16T22:57:03.261Z"
   },
   {
    "duration": 6,
    "start_time": "2022-02-16T22:57:03.565Z"
   },
   {
    "duration": 10,
    "start_time": "2022-02-16T22:57:03.572Z"
   },
   {
    "duration": 41,
    "start_time": "2022-02-16T22:57:03.584Z"
   },
   {
    "duration": 7,
    "start_time": "2022-02-16T22:57:03.627Z"
   },
   {
    "duration": 3,
    "start_time": "2022-02-16T22:57:03.636Z"
   },
   {
    "duration": 147,
    "start_time": "2022-02-16T22:57:03.641Z"
   },
   {
    "duration": 28,
    "start_time": "2022-02-16T22:57:03.789Z"
   },
   {
    "duration": 27,
    "start_time": "2022-02-16T22:57:03.823Z"
   },
   {
    "duration": 29,
    "start_time": "2022-02-16T22:57:03.852Z"
   },
   {
    "duration": 89,
    "start_time": "2022-02-16T22:57:03.882Z"
   },
   {
    "duration": 55,
    "start_time": "2022-02-16T22:57:03.973Z"
   },
   {
    "duration": 134,
    "start_time": "2022-02-16T22:57:04.030Z"
   },
   {
    "duration": 17,
    "start_time": "2022-02-16T22:57:04.166Z"
   },
   {
    "duration": 43,
    "start_time": "2022-02-16T22:57:04.185Z"
   },
   {
    "duration": 152,
    "start_time": "2022-02-16T22:57:04.230Z"
   },
   {
    "duration": 7,
    "start_time": "2022-02-16T22:57:04.383Z"
   },
   {
    "duration": 492,
    "start_time": "2022-02-16T22:57:04.391Z"
   },
   {
    "duration": 33,
    "start_time": "2022-02-16T22:57:04.885Z"
   },
   {
    "duration": 45,
    "start_time": "2022-02-16T22:57:04.920Z"
   },
   {
    "duration": 47,
    "start_time": "2022-02-16T22:57:04.966Z"
   },
   {
    "duration": 80,
    "start_time": "2022-02-16T22:57:05.015Z"
   },
   {
    "duration": 21,
    "start_time": "2022-02-16T22:57:05.097Z"
   },
   {
    "duration": 25,
    "start_time": "2022-02-16T22:57:05.119Z"
   },
   {
    "duration": 33,
    "start_time": "2022-02-16T22:57:05.146Z"
   },
   {
    "duration": 44,
    "start_time": "2022-02-16T22:57:05.180Z"
   },
   {
    "duration": 2950,
    "start_time": "2022-02-16T22:57:05.226Z"
   },
   {
    "duration": -4653,
    "start_time": "2022-02-16T22:57:12.831Z"
   },
   {
    "duration": -4667,
    "start_time": "2022-02-16T22:57:12.846Z"
   },
   {
    "duration": -4675,
    "start_time": "2022-02-16T22:57:12.855Z"
   },
   {
    "duration": -4734,
    "start_time": "2022-02-16T22:57:12.915Z"
   },
   {
    "duration": -4749,
    "start_time": "2022-02-16T22:57:12.931Z"
   },
   {
    "duration": -5696,
    "start_time": "2022-02-16T22:57:13.879Z"
   },
   {
    "duration": -5703,
    "start_time": "2022-02-16T22:57:13.887Z"
   },
   {
    "duration": -5724,
    "start_time": "2022-02-16T22:57:13.909Z"
   },
   {
    "duration": -5746,
    "start_time": "2022-02-16T22:57:13.931Z"
   },
   {
    "duration": -5767,
    "start_time": "2022-02-16T22:57:13.953Z"
   },
   {
    "duration": -5775,
    "start_time": "2022-02-16T22:57:13.962Z"
   },
   {
    "duration": -5783,
    "start_time": "2022-02-16T22:57:13.972Z"
   },
   {
    "duration": -5791,
    "start_time": "2022-02-16T22:57:13.981Z"
   },
   {
    "duration": -5801,
    "start_time": "2022-02-16T22:57:13.992Z"
   },
   {
    "duration": -5714,
    "start_time": "2022-02-16T22:57:14.001Z"
   },
   {
    "duration": -5727,
    "start_time": "2022-02-16T22:57:14.015Z"
   },
   {
    "duration": -5741,
    "start_time": "2022-02-16T22:57:14.030Z"
   },
   {
    "duration": -5751,
    "start_time": "2022-02-16T22:57:14.041Z"
   },
   {
    "duration": -5763,
    "start_time": "2022-02-16T22:57:14.054Z"
   },
   {
    "duration": -5775,
    "start_time": "2022-02-16T22:57:14.067Z"
   },
   {
    "duration": -5790,
    "start_time": "2022-02-16T22:57:14.083Z"
   },
   {
    "duration": -5806,
    "start_time": "2022-02-16T22:57:14.100Z"
   },
   {
    "duration": -5822,
    "start_time": "2022-02-16T22:57:14.117Z"
   },
   {
    "duration": -5837,
    "start_time": "2022-02-16T22:57:14.133Z"
   },
   {
    "duration": -5836,
    "start_time": "2022-02-16T22:57:14.148Z"
   },
   {
    "duration": -5850,
    "start_time": "2022-02-16T22:57:14.163Z"
   },
   {
    "duration": -5865,
    "start_time": "2022-02-16T22:57:14.178Z"
   },
   {
    "duration": -5875,
    "start_time": "2022-02-16T22:57:14.189Z"
   },
   {
    "duration": -5889,
    "start_time": "2022-02-16T22:57:14.204Z"
   },
   {
    "duration": -5902,
    "start_time": "2022-02-16T22:57:14.217Z"
   },
   {
    "duration": -5916,
    "start_time": "2022-02-16T22:57:14.232Z"
   },
   {
    "duration": -5929,
    "start_time": "2022-02-16T22:57:14.246Z"
   },
   {
    "duration": -5940,
    "start_time": "2022-02-16T22:57:14.258Z"
   },
   {
    "duration": -5950,
    "start_time": "2022-02-16T22:57:14.269Z"
   },
   {
    "duration": -5964,
    "start_time": "2022-02-16T22:57:14.283Z"
   },
   {
    "duration": -5972,
    "start_time": "2022-02-16T22:57:14.292Z"
   },
   {
    "duration": -5980,
    "start_time": "2022-02-16T22:57:14.301Z"
   },
   {
    "duration": -6012,
    "start_time": "2022-02-16T22:57:14.333Z"
   },
   {
    "duration": -6025,
    "start_time": "2022-02-16T22:57:14.347Z"
   },
   {
    "duration": -6058,
    "start_time": "2022-02-16T22:57:14.381Z"
   },
   {
    "duration": -6093,
    "start_time": "2022-02-16T22:57:14.417Z"
   },
   {
    "duration": -6131,
    "start_time": "2022-02-16T22:57:14.456Z"
   },
   {
    "duration": 1204,
    "start_time": "2022-02-16T23:07:32.555Z"
   },
   {
    "duration": 166,
    "start_time": "2022-02-16T23:07:33.761Z"
   },
   {
    "duration": 22,
    "start_time": "2022-02-16T23:07:33.929Z"
   },
   {
    "duration": 29,
    "start_time": "2022-02-16T23:07:33.953Z"
   },
   {
    "duration": 51,
    "start_time": "2022-02-16T23:07:33.984Z"
   },
   {
    "duration": 102,
    "start_time": "2022-02-16T23:07:34.037Z"
   },
   {
    "duration": 53,
    "start_time": "2022-02-16T23:07:34.140Z"
   },
   {
    "duration": 140,
    "start_time": "2022-02-16T23:07:34.195Z"
   },
   {
    "duration": 17,
    "start_time": "2022-02-16T23:07:34.338Z"
   },
   {
    "duration": 30,
    "start_time": "2022-02-16T23:07:34.358Z"
   },
   {
    "duration": 169,
    "start_time": "2022-02-16T23:07:34.413Z"
   },
   {
    "duration": 5,
    "start_time": "2022-02-16T23:07:34.584Z"
   },
   {
    "duration": 593,
    "start_time": "2022-02-16T23:07:34.590Z"
   },
   {
    "duration": 33,
    "start_time": "2022-02-16T23:07:35.184Z"
   },
   {
    "duration": 49,
    "start_time": "2022-02-16T23:07:35.218Z"
   },
   {
    "duration": 44,
    "start_time": "2022-02-16T23:07:35.269Z"
   },
   {
    "duration": 100,
    "start_time": "2022-02-16T23:07:35.315Z"
   },
   {
    "duration": 14,
    "start_time": "2022-02-16T23:07:35.417Z"
   },
   {
    "duration": 21,
    "start_time": "2022-02-16T23:07:35.433Z"
   },
   {
    "duration": 58,
    "start_time": "2022-02-16T23:07:35.455Z"
   },
   {
    "duration": 28,
    "start_time": "2022-02-16T23:07:35.515Z"
   },
   {
    "duration": 16,
    "start_time": "2022-02-16T23:07:35.545Z"
   },
   {
    "duration": 8,
    "start_time": "2022-02-16T23:07:35.563Z"
   },
   {
    "duration": 39,
    "start_time": "2022-02-16T23:07:35.573Z"
   },
   {
    "duration": 38,
    "start_time": "2022-02-16T23:07:35.613Z"
   },
   {
    "duration": 7,
    "start_time": "2022-02-16T23:07:35.652Z"
   },
   {
    "duration": 9,
    "start_time": "2022-02-16T23:07:35.662Z"
   },
   {
    "duration": 13,
    "start_time": "2022-02-16T23:07:35.673Z"
   },
   {
    "duration": 11,
    "start_time": "2022-02-16T23:07:35.687Z"
   },
   {
    "duration": 6,
    "start_time": "2022-02-16T23:07:35.700Z"
   },
   {
    "duration": 52,
    "start_time": "2022-02-16T23:07:35.708Z"
   },
   {
    "duration": 28,
    "start_time": "2022-02-16T23:07:35.761Z"
   },
   {
    "duration": 51,
    "start_time": "2022-02-16T23:07:35.791Z"
   },
   {
    "duration": 18,
    "start_time": "2022-02-16T23:07:35.843Z"
   },
   {
    "duration": 49,
    "start_time": "2022-02-16T23:07:35.863Z"
   },
   {
    "duration": 17,
    "start_time": "2022-02-16T23:07:35.914Z"
   },
   {
    "duration": 8,
    "start_time": "2022-02-16T23:07:35.934Z"
   },
   {
    "duration": 32,
    "start_time": "2022-02-16T23:07:35.944Z"
   },
   {
    "duration": 55,
    "start_time": "2022-02-16T23:07:35.978Z"
   },
   {
    "duration": 19,
    "start_time": "2022-02-16T23:07:36.035Z"
   },
   {
    "duration": 23,
    "start_time": "2022-02-16T23:07:36.056Z"
   },
   {
    "duration": 39,
    "start_time": "2022-02-16T23:07:36.081Z"
   },
   {
    "duration": 22,
    "start_time": "2022-02-16T23:07:36.121Z"
   },
   {
    "duration": 280,
    "start_time": "2022-02-16T23:07:36.145Z"
   },
   {
    "duration": 11,
    "start_time": "2022-02-16T23:07:36.427Z"
   },
   {
    "duration": 26,
    "start_time": "2022-02-16T23:07:36.440Z"
   },
   {
    "duration": 292,
    "start_time": "2022-02-16T23:07:36.468Z"
   },
   {
    "duration": 281,
    "start_time": "2022-02-16T23:07:36.761Z"
   },
   {
    "duration": 271,
    "start_time": "2022-02-16T23:07:37.044Z"
   },
   {
    "duration": 6,
    "start_time": "2022-02-16T23:07:37.316Z"
   },
   {
    "duration": 7,
    "start_time": "2022-02-16T23:07:37.324Z"
   },
   {
    "duration": 6,
    "start_time": "2022-02-16T23:07:37.332Z"
   },
   {
    "duration": 5,
    "start_time": "2022-02-16T23:07:37.340Z"
   },
   {
    "duration": 528,
    "start_time": "2022-02-16T23:07:37.347Z"
   },
   {
    "duration": 220,
    "start_time": "2022-02-16T23:07:37.876Z"
   },
   {
    "duration": 778,
    "start_time": "2022-02-16T23:07:38.098Z"
   },
   {
    "duration": 396,
    "start_time": "2022-02-16T23:07:38.878Z"
   },
   {
    "duration": 696,
    "start_time": "2022-02-16T23:07:39.276Z"
   },
   {
    "duration": 211,
    "start_time": "2022-02-16T23:07:39.973Z"
   },
   {
    "duration": 319,
    "start_time": "2022-02-16T23:07:40.186Z"
   },
   {
    "duration": 11,
    "start_time": "2022-02-16T23:07:40.507Z"
   },
   {
    "duration": 22,
    "start_time": "2022-02-16T23:07:40.520Z"
   },
   {
    "duration": 29,
    "start_time": "2022-02-16T23:07:40.543Z"
   },
   {
    "duration": 11,
    "start_time": "2022-02-16T23:07:40.574Z"
   },
   {
    "duration": 1256,
    "start_time": "2022-02-16T23:15:06.696Z"
   },
   {
    "duration": 153,
    "start_time": "2022-02-16T23:15:07.954Z"
   },
   {
    "duration": 20,
    "start_time": "2022-02-16T23:15:08.109Z"
   },
   {
    "duration": 25,
    "start_time": "2022-02-16T23:15:08.131Z"
   },
   {
    "duration": 54,
    "start_time": "2022-02-16T23:15:08.158Z"
   },
   {
    "duration": 86,
    "start_time": "2022-02-16T23:15:08.214Z"
   },
   {
    "duration": 52,
    "start_time": "2022-02-16T23:15:08.311Z"
   },
   {
    "duration": 134,
    "start_time": "2022-02-16T23:15:08.365Z"
   },
   {
    "duration": 24,
    "start_time": "2022-02-16T23:15:08.503Z"
   },
   {
    "duration": 28,
    "start_time": "2022-02-16T23:15:08.529Z"
   },
   {
    "duration": 166,
    "start_time": "2022-02-16T23:15:08.559Z"
   },
   {
    "duration": 6,
    "start_time": "2022-02-16T23:15:08.727Z"
   },
   {
    "duration": 541,
    "start_time": "2022-02-16T23:15:08.734Z"
   },
   {
    "duration": 24,
    "start_time": "2022-02-16T23:15:09.277Z"
   },
   {
    "duration": 59,
    "start_time": "2022-02-16T23:15:09.302Z"
   },
   {
    "duration": 30,
    "start_time": "2022-02-16T23:15:09.363Z"
   },
   {
    "duration": 96,
    "start_time": "2022-02-16T23:15:09.395Z"
   },
   {
    "duration": 23,
    "start_time": "2022-02-16T23:15:09.493Z"
   },
   {
    "duration": 22,
    "start_time": "2022-02-16T23:15:09.517Z"
   },
   {
    "duration": 35,
    "start_time": "2022-02-16T23:15:09.540Z"
   },
   {
    "duration": 52,
    "start_time": "2022-02-16T23:15:09.577Z"
   },
   {
    "duration": 15,
    "start_time": "2022-02-16T23:15:09.630Z"
   },
   {
    "duration": 23,
    "start_time": "2022-02-16T23:15:09.647Z"
   },
   {
    "duration": 23,
    "start_time": "2022-02-16T23:15:09.672Z"
   },
   {
    "duration": 51,
    "start_time": "2022-02-16T23:15:09.696Z"
   },
   {
    "duration": 21,
    "start_time": "2022-02-16T23:15:09.748Z"
   },
   {
    "duration": 13,
    "start_time": "2022-02-16T23:15:09.772Z"
   },
   {
    "duration": 23,
    "start_time": "2022-02-16T23:15:09.787Z"
   },
   {
    "duration": 12,
    "start_time": "2022-02-16T23:15:09.811Z"
   },
   {
    "duration": 16,
    "start_time": "2022-02-16T23:15:09.825Z"
   },
   {
    "duration": 66,
    "start_time": "2022-02-16T23:15:09.842Z"
   },
   {
    "duration": 27,
    "start_time": "2022-02-16T23:15:09.909Z"
   },
   {
    "duration": 33,
    "start_time": "2022-02-16T23:15:09.938Z"
   },
   {
    "duration": 16,
    "start_time": "2022-02-16T23:15:09.973Z"
   },
   {
    "duration": 49,
    "start_time": "2022-02-16T23:15:09.990Z"
   },
   {
    "duration": 19,
    "start_time": "2022-02-16T23:15:10.040Z"
   },
   {
    "duration": 9,
    "start_time": "2022-02-16T23:15:10.061Z"
   },
   {
    "duration": 63,
    "start_time": "2022-02-16T23:15:10.072Z"
   },
   {
    "duration": 24,
    "start_time": "2022-02-16T23:15:10.138Z"
   },
   {
    "duration": 22,
    "start_time": "2022-02-16T23:15:10.164Z"
   },
   {
    "duration": 43,
    "start_time": "2022-02-16T23:15:10.188Z"
   },
   {
    "duration": 7,
    "start_time": "2022-02-16T23:15:10.232Z"
   },
   {
    "duration": 23,
    "start_time": "2022-02-16T23:15:10.240Z"
   },
   {
    "duration": 290,
    "start_time": "2022-02-16T23:15:10.265Z"
   },
   {
    "duration": 11,
    "start_time": "2022-02-16T23:15:10.557Z"
   },
   {
    "duration": 45,
    "start_time": "2022-02-16T23:15:10.569Z"
   },
   {
    "duration": 280,
    "start_time": "2022-02-16T23:15:10.615Z"
   },
   {
    "duration": 282,
    "start_time": "2022-02-16T23:15:10.897Z"
   },
   {
    "duration": 271,
    "start_time": "2022-02-16T23:15:11.180Z"
   },
   {
    "duration": 6,
    "start_time": "2022-02-16T23:15:11.454Z"
   },
   {
    "duration": 6,
    "start_time": "2022-02-16T23:15:11.461Z"
   },
   {
    "duration": 5,
    "start_time": "2022-02-16T23:15:11.469Z"
   },
   {
    "duration": 6,
    "start_time": "2022-02-16T23:15:11.476Z"
   },
   {
    "duration": 521,
    "start_time": "2022-02-16T23:15:11.483Z"
   },
   {
    "duration": 218,
    "start_time": "2022-02-16T23:15:12.006Z"
   },
   {
    "duration": 805,
    "start_time": "2022-02-16T23:15:12.225Z"
   },
   {
    "duration": 417,
    "start_time": "2022-02-16T23:15:13.032Z"
   },
   {
    "duration": 733,
    "start_time": "2022-02-16T23:15:13.451Z"
   },
   {
    "duration": 196,
    "start_time": "2022-02-16T23:15:14.187Z"
   },
   {
    "duration": 315,
    "start_time": "2022-02-16T23:15:14.385Z"
   },
   {
    "duration": 13,
    "start_time": "2022-02-16T23:15:14.702Z"
   },
   {
    "duration": 8,
    "start_time": "2022-02-16T23:15:14.717Z"
   },
   {
    "duration": 24,
    "start_time": "2022-02-16T23:15:14.727Z"
   },
   {
    "duration": 5,
    "start_time": "2022-02-16T23:15:14.753Z"
   },
   {
    "duration": 1347,
    "start_time": "2022-02-25T11:35:51.371Z"
   },
   {
    "duration": 149,
    "start_time": "2022-02-25T11:35:52.720Z"
   },
   {
    "duration": 20,
    "start_time": "2022-02-25T11:35:52.873Z"
   },
   {
    "duration": 43,
    "start_time": "2022-02-25T11:35:52.895Z"
   },
   {
    "duration": 30,
    "start_time": "2022-02-25T11:35:52.940Z"
   },
   {
    "duration": 106,
    "start_time": "2022-02-25T11:35:52.971Z"
   },
   {
    "duration": 60,
    "start_time": "2022-02-25T11:35:53.079Z"
   },
   {
    "duration": 133,
    "start_time": "2022-02-25T11:35:53.141Z"
   },
   {
    "duration": 19,
    "start_time": "2022-02-25T11:35:53.276Z"
   },
   {
    "duration": 40,
    "start_time": "2022-02-25T11:35:53.297Z"
   },
   {
    "duration": 157,
    "start_time": "2022-02-25T11:35:53.339Z"
   },
   {
    "duration": 6,
    "start_time": "2022-02-25T11:35:53.498Z"
   },
   {
    "duration": 546,
    "start_time": "2022-02-25T11:35:53.505Z"
   },
   {
    "duration": 24,
    "start_time": "2022-02-25T11:35:54.053Z"
   },
   {
    "duration": 70,
    "start_time": "2022-02-25T11:35:54.079Z"
   },
   {
    "duration": 31,
    "start_time": "2022-02-25T11:35:54.150Z"
   },
   {
    "duration": 98,
    "start_time": "2022-02-25T11:35:54.183Z"
   },
   {
    "duration": 14,
    "start_time": "2022-02-25T11:35:54.283Z"
   },
   {
    "duration": 35,
    "start_time": "2022-02-25T11:35:54.299Z"
   },
   {
    "duration": 39,
    "start_time": "2022-02-25T11:35:54.335Z"
   },
   {
    "duration": 30,
    "start_time": "2022-02-25T11:35:54.375Z"
   },
   {
    "duration": 30,
    "start_time": "2022-02-25T11:35:54.409Z"
   },
   {
    "duration": 6,
    "start_time": "2022-02-25T11:35:54.441Z"
   },
   {
    "duration": 13,
    "start_time": "2022-02-25T11:35:54.449Z"
   },
   {
    "duration": 31,
    "start_time": "2022-02-25T11:35:54.463Z"
   },
   {
    "duration": 6,
    "start_time": "2022-02-25T11:35:54.496Z"
   },
   {
    "duration": 12,
    "start_time": "2022-02-25T11:35:54.504Z"
   },
   {
    "duration": 11,
    "start_time": "2022-02-25T11:35:54.533Z"
   },
   {
    "duration": 19,
    "start_time": "2022-02-25T11:35:54.546Z"
   },
   {
    "duration": 8,
    "start_time": "2022-02-25T11:35:54.567Z"
   },
   {
    "duration": 57,
    "start_time": "2022-02-25T11:35:54.576Z"
   },
   {
    "duration": 28,
    "start_time": "2022-02-25T11:35:54.635Z"
   },
   {
    "duration": 33,
    "start_time": "2022-02-25T11:35:54.665Z"
   },
   {
    "duration": 40,
    "start_time": "2022-02-25T11:35:54.700Z"
   },
   {
    "duration": 28,
    "start_time": "2022-02-25T11:35:54.742Z"
   },
   {
    "duration": 16,
    "start_time": "2022-02-25T11:35:54.772Z"
   },
   {
    "duration": 7,
    "start_time": "2022-02-25T11:35:54.790Z"
   },
   {
    "duration": 54,
    "start_time": "2022-02-25T11:35:54.799Z"
   },
   {
    "duration": 23,
    "start_time": "2022-02-25T11:35:54.855Z"
   },
   {
    "duration": 19,
    "start_time": "2022-02-25T11:35:54.879Z"
   },
   {
    "duration": 50,
    "start_time": "2022-02-25T11:35:54.899Z"
   },
   {
    "duration": 7,
    "start_time": "2022-02-25T11:35:54.951Z"
   },
   {
    "duration": 25,
    "start_time": "2022-02-25T11:35:54.959Z"
   },
   {
    "duration": 288,
    "start_time": "2022-02-25T11:35:54.985Z"
   },
   {
    "duration": 10,
    "start_time": "2022-02-25T11:35:55.274Z"
   },
   {
    "duration": 25,
    "start_time": "2022-02-25T11:35:55.286Z"
   },
   {
    "duration": 289,
    "start_time": "2022-02-25T11:35:55.313Z"
   },
   {
    "duration": 271,
    "start_time": "2022-02-25T11:35:55.604Z"
   },
   {
    "duration": 273,
    "start_time": "2022-02-25T11:35:55.877Z"
   },
   {
    "duration": 6,
    "start_time": "2022-02-25T11:35:56.152Z"
   },
   {
    "duration": 7,
    "start_time": "2022-02-25T11:35:56.159Z"
   },
   {
    "duration": 5,
    "start_time": "2022-02-25T11:35:56.167Z"
   },
   {
    "duration": 5,
    "start_time": "2022-02-25T11:35:56.174Z"
   },
   {
    "duration": 464,
    "start_time": "2022-02-25T11:35:56.181Z"
   },
   {
    "duration": 196,
    "start_time": "2022-02-25T11:35:56.647Z"
   },
   {
    "duration": 712,
    "start_time": "2022-02-25T11:35:56.845Z"
   },
   {
    "duration": 372,
    "start_time": "2022-02-25T11:35:57.559Z"
   },
   {
    "duration": 642,
    "start_time": "2022-02-25T11:35:57.932Z"
   },
   {
    "duration": 176,
    "start_time": "2022-02-25T11:35:58.576Z"
   },
   {
    "duration": 287,
    "start_time": "2022-02-25T11:35:58.753Z"
   },
   {
    "duration": 5,
    "start_time": "2022-02-25T11:35:59.042Z"
   },
   {
    "duration": 12,
    "start_time": "2022-02-25T11:35:59.049Z"
   },
   {
    "duration": 28,
    "start_time": "2022-02-25T11:35:59.063Z"
   },
   {
    "duration": 6,
    "start_time": "2022-02-25T11:35:59.093Z"
   },
   {
    "duration": 60,
    "start_time": "2022-02-25T11:53:54.692Z"
   },
   {
    "duration": 12,
    "start_time": "2022-02-25T12:03:11.852Z"
   },
   {
    "duration": 54,
    "start_time": "2022-02-25T12:04:21.890Z"
   },
   {
    "duration": 11,
    "start_time": "2022-02-25T12:04:46.409Z"
   },
   {
    "duration": 64,
    "start_time": "2022-02-25T12:07:37.437Z"
   },
   {
    "duration": 281,
    "start_time": "2022-02-25T12:10:57.459Z"
   },
   {
    "duration": 34,
    "start_time": "2022-02-25T12:11:25.611Z"
   },
   {
    "duration": 289,
    "start_time": "2022-02-25T17:25:46.841Z"
   },
   {
    "duration": 271,
    "start_time": "2022-02-25T17:26:01.376Z"
   },
   {
    "duration": 1918,
    "start_time": "2022-02-25T17:26:09.443Z"
   },
   {
    "duration": 215,
    "start_time": "2022-02-25T17:26:11.364Z"
   },
   {
    "duration": 25,
    "start_time": "2022-02-25T17:26:11.582Z"
   },
   {
    "duration": 33,
    "start_time": "2022-02-25T17:26:11.610Z"
   },
   {
    "duration": 35,
    "start_time": "2022-02-25T17:26:11.670Z"
   },
   {
    "duration": 118,
    "start_time": "2022-02-25T17:26:11.707Z"
   },
   {
    "duration": 65,
    "start_time": "2022-02-25T17:26:11.827Z"
   },
   {
    "duration": 158,
    "start_time": "2022-02-25T17:26:11.894Z"
   },
   {
    "duration": 24,
    "start_time": "2022-02-25T17:26:12.055Z"
   },
   {
    "duration": 32,
    "start_time": "2022-02-25T17:26:12.082Z"
   },
   {
    "duration": 195,
    "start_time": "2022-02-25T17:26:12.116Z"
   },
   {
    "duration": 6,
    "start_time": "2022-02-25T17:26:12.313Z"
   },
   {
    "duration": 630,
    "start_time": "2022-02-25T17:26:12.321Z"
   },
   {
    "duration": 32,
    "start_time": "2022-02-25T17:26:12.952Z"
   },
   {
    "duration": 58,
    "start_time": "2022-02-25T17:26:12.986Z"
   },
   {
    "duration": 50,
    "start_time": "2022-02-25T17:26:13.046Z"
   },
   {
    "duration": 116,
    "start_time": "2022-02-25T17:26:13.098Z"
   },
   {
    "duration": 16,
    "start_time": "2022-02-25T17:26:13.215Z"
   },
   {
    "duration": 36,
    "start_time": "2022-02-25T17:26:13.233Z"
   },
   {
    "duration": 45,
    "start_time": "2022-02-25T17:26:13.271Z"
   },
   {
    "duration": 33,
    "start_time": "2022-02-25T17:26:13.318Z"
   },
   {
    "duration": 22,
    "start_time": "2022-02-25T17:26:13.370Z"
   },
   {
    "duration": 9,
    "start_time": "2022-02-25T17:26:13.393Z"
   },
   {
    "duration": 15,
    "start_time": "2022-02-25T17:26:13.404Z"
   },
   {
    "duration": 72,
    "start_time": "2022-02-25T17:26:13.421Z"
   },
   {
    "duration": 8,
    "start_time": "2022-02-25T17:26:13.495Z"
   },
   {
    "duration": 10,
    "start_time": "2022-02-25T17:26:13.508Z"
   },
   {
    "duration": 13,
    "start_time": "2022-02-25T17:26:13.521Z"
   },
   {
    "duration": 7,
    "start_time": "2022-02-25T17:26:13.536Z"
   },
   {
    "duration": 10,
    "start_time": "2022-02-25T17:26:13.569Z"
   },
   {
    "duration": 60,
    "start_time": "2022-02-25T17:26:13.581Z"
   },
   {
    "duration": 55,
    "start_time": "2022-02-25T17:26:13.643Z"
   },
   {
    "duration": 39,
    "start_time": "2022-02-25T17:26:13.700Z"
   },
   {
    "duration": 38,
    "start_time": "2022-02-25T17:26:13.741Z"
   },
   {
    "duration": 33,
    "start_time": "2022-02-25T17:26:13.781Z"
   },
   {
    "duration": 19,
    "start_time": "2022-02-25T17:26:13.816Z"
   },
   {
    "duration": 33,
    "start_time": "2022-02-25T17:26:13.837Z"
   },
   {
    "duration": 33,
    "start_time": "2022-02-25T17:26:13.872Z"
   },
   {
    "duration": 28,
    "start_time": "2022-02-25T17:26:13.907Z"
   },
   {
    "duration": 23,
    "start_time": "2022-02-25T17:26:13.969Z"
   },
   {
    "duration": 26,
    "start_time": "2022-02-25T17:26:13.994Z"
   },
   {
    "duration": 7780,
    "start_time": "2022-02-25T17:26:14.021Z"
   },
   {
    "duration": -146,
    "start_time": "2022-02-25T17:26:21.950Z"
   },
   {
    "duration": -156,
    "start_time": "2022-02-25T17:26:21.961Z"
   },
   {
    "duration": -185,
    "start_time": "2022-02-25T17:26:21.991Z"
   },
   {
    "duration": -209,
    "start_time": "2022-02-25T17:26:22.016Z"
   },
   {
    "duration": -218,
    "start_time": "2022-02-25T17:26:22.026Z"
   },
   {
    "duration": -241,
    "start_time": "2022-02-25T17:26:22.050Z"
   },
   {
    "duration": -247,
    "start_time": "2022-02-25T17:26:22.058Z"
   },
   {
    "duration": -254,
    "start_time": "2022-02-25T17:26:22.066Z"
   },
   {
    "duration": -259,
    "start_time": "2022-02-25T17:26:22.072Z"
   },
   {
    "duration": -278,
    "start_time": "2022-02-25T17:26:22.092Z"
   },
   {
    "duration": -299,
    "start_time": "2022-02-25T17:26:22.114Z"
   },
   {
    "duration": -310,
    "start_time": "2022-02-25T17:26:22.126Z"
   },
   {
    "duration": -332,
    "start_time": "2022-02-25T17:26:22.149Z"
   },
   {
    "duration": -343,
    "start_time": "2022-02-25T17:26:22.161Z"
   },
   {
    "duration": -364,
    "start_time": "2022-02-25T17:26:22.183Z"
   },
   {
    "duration": -373,
    "start_time": "2022-02-25T17:26:22.193Z"
   },
   {
    "duration": -389,
    "start_time": "2022-02-25T17:26:22.210Z"
   },
   {
    "duration": -395,
    "start_time": "2022-02-25T17:26:22.217Z"
   },
   {
    "duration": -403,
    "start_time": "2022-02-25T17:26:22.226Z"
   },
   {
    "duration": -424,
    "start_time": "2022-02-25T17:26:22.248Z"
   },
   {
    "duration": -428,
    "start_time": "2022-02-25T17:26:22.253Z"
   },
   {
    "duration": -451,
    "start_time": "2022-02-25T17:26:22.277Z"
   },
   {
    "duration": 269,
    "start_time": "2022-02-25T17:26:45.556Z"
   },
   {
    "duration": 1315,
    "start_time": "2022-02-25T17:27:07.747Z"
   },
   {
    "duration": 187,
    "start_time": "2022-02-25T17:27:09.064Z"
   },
   {
    "duration": 22,
    "start_time": "2022-02-25T17:27:09.253Z"
   },
   {
    "duration": 38,
    "start_time": "2022-02-25T17:27:09.277Z"
   },
   {
    "duration": 33,
    "start_time": "2022-02-25T17:27:09.316Z"
   },
   {
    "duration": 122,
    "start_time": "2022-02-25T17:27:09.351Z"
   },
   {
    "duration": 58,
    "start_time": "2022-02-25T17:27:09.474Z"
   },
   {
    "duration": 153,
    "start_time": "2022-02-25T17:27:09.534Z"
   },
   {
    "duration": 21,
    "start_time": "2022-02-25T17:27:09.689Z"
   },
   {
    "duration": 30,
    "start_time": "2022-02-25T17:27:09.712Z"
   },
   {
    "duration": 194,
    "start_time": "2022-02-25T17:27:09.743Z"
   },
   {
    "duration": 6,
    "start_time": "2022-02-25T17:27:09.939Z"
   },
   {
    "duration": 630,
    "start_time": "2022-02-25T17:27:09.947Z"
   },
   {
    "duration": 25,
    "start_time": "2022-02-25T17:27:10.579Z"
   },
   {
    "duration": 72,
    "start_time": "2022-02-25T17:27:10.606Z"
   },
   {
    "duration": 35,
    "start_time": "2022-02-25T17:27:10.680Z"
   },
   {
    "duration": 113,
    "start_time": "2022-02-25T17:27:10.717Z"
   },
   {
    "duration": 16,
    "start_time": "2022-02-25T17:27:10.832Z"
   },
   {
    "duration": 35,
    "start_time": "2022-02-25T17:27:10.850Z"
   },
   {
    "duration": 42,
    "start_time": "2022-02-25T17:27:10.887Z"
   },
   {
    "duration": 54,
    "start_time": "2022-02-25T17:27:10.931Z"
   },
   {
    "duration": 22,
    "start_time": "2022-02-25T17:27:10.986Z"
   },
   {
    "duration": 7,
    "start_time": "2022-02-25T17:27:11.012Z"
   },
   {
    "duration": 22,
    "start_time": "2022-02-25T17:27:11.021Z"
   },
   {
    "duration": 52,
    "start_time": "2022-02-25T17:27:11.045Z"
   },
   {
    "duration": 8,
    "start_time": "2022-02-25T17:27:11.098Z"
   },
   {
    "duration": 17,
    "start_time": "2022-02-25T17:27:11.108Z"
   },
   {
    "duration": 23,
    "start_time": "2022-02-25T17:27:11.127Z"
   },
   {
    "duration": 13,
    "start_time": "2022-02-25T17:27:11.152Z"
   },
   {
    "duration": 19,
    "start_time": "2022-02-25T17:27:11.167Z"
   },
   {
    "duration": 69,
    "start_time": "2022-02-25T17:27:11.188Z"
   },
   {
    "duration": 32,
    "start_time": "2022-02-25T17:27:11.259Z"
   },
   {
    "duration": 39,
    "start_time": "2022-02-25T17:27:11.293Z"
   },
   {
    "duration": 36,
    "start_time": "2022-02-25T17:27:11.334Z"
   },
   {
    "duration": 33,
    "start_time": "2022-02-25T17:27:11.373Z"
   },
   {
    "duration": 18,
    "start_time": "2022-02-25T17:27:11.408Z"
   },
   {
    "duration": 11,
    "start_time": "2022-02-25T17:27:11.428Z"
   },
   {
    "duration": 56,
    "start_time": "2022-02-25T17:27:11.441Z"
   },
   {
    "duration": 27,
    "start_time": "2022-02-25T17:27:11.498Z"
   },
   {
    "duration": 49,
    "start_time": "2022-02-25T17:27:11.527Z"
   },
   {
    "duration": 24,
    "start_time": "2022-02-25T17:27:11.578Z"
   },
   {
    "duration": 8,
    "start_time": "2022-02-25T17:27:11.604Z"
   },
   {
    "duration": 30,
    "start_time": "2022-02-25T17:27:11.614Z"
   },
   {
    "duration": 307,
    "start_time": "2022-02-25T17:27:11.670Z"
   },
   {
    "duration": 12,
    "start_time": "2022-02-25T17:27:11.979Z"
   },
   {
    "duration": 40,
    "start_time": "2022-02-25T17:27:11.993Z"
   },
   {
    "duration": 309,
    "start_time": "2022-02-25T17:27:12.035Z"
   },
   {
    "duration": 311,
    "start_time": "2022-02-25T17:27:12.346Z"
   },
   {
    "duration": 302,
    "start_time": "2022-02-25T17:27:12.659Z"
   },
   {
    "duration": 9,
    "start_time": "2022-02-25T17:27:12.963Z"
   },
   {
    "duration": 10,
    "start_time": "2022-02-25T17:27:12.974Z"
   },
   {
    "duration": 11,
    "start_time": "2022-02-25T17:27:12.986Z"
   },
   {
    "duration": 7,
    "start_time": "2022-02-25T17:27:12.999Z"
   },
   {
    "duration": 548,
    "start_time": "2022-02-25T17:27:13.008Z"
   },
   {
    "duration": 246,
    "start_time": "2022-02-25T17:27:13.558Z"
   },
   {
    "duration": 886,
    "start_time": "2022-02-25T17:27:13.806Z"
   },
   {
    "duration": 477,
    "start_time": "2022-02-25T17:27:14.694Z"
   },
   {
    "duration": 803,
    "start_time": "2022-02-25T17:27:15.173Z"
   },
   {
    "duration": 210,
    "start_time": "2022-02-25T17:27:15.978Z"
   },
   {
    "duration": 341,
    "start_time": "2022-02-25T17:27:16.190Z"
   },
   {
    "duration": 6,
    "start_time": "2022-02-25T17:27:16.532Z"
   },
   {
    "duration": 24,
    "start_time": "2022-02-25T17:27:16.540Z"
   },
   {
    "duration": 41,
    "start_time": "2022-02-25T17:27:16.565Z"
   },
   {
    "duration": 6,
    "start_time": "2022-02-25T17:27:16.608Z"
   },
   {
    "duration": 10178,
    "start_time": "2022-02-25T17:31:33.287Z"
   },
   {
    "duration": 1392,
    "start_time": "2022-02-25T17:32:03.633Z"
   },
   {
    "duration": 187,
    "start_time": "2022-02-25T17:32:05.028Z"
   },
   {
    "duration": 24,
    "start_time": "2022-02-25T17:32:05.217Z"
   },
   {
    "duration": 50,
    "start_time": "2022-02-25T17:32:05.244Z"
   },
   {
    "duration": 36,
    "start_time": "2022-02-25T17:32:05.296Z"
   },
   {
    "duration": 127,
    "start_time": "2022-02-25T17:32:05.334Z"
   },
   {
    "duration": 72,
    "start_time": "2022-02-25T17:32:05.463Z"
   },
   {
    "duration": 158,
    "start_time": "2022-02-25T17:32:05.538Z"
   },
   {
    "duration": 18,
    "start_time": "2022-02-25T17:32:05.698Z"
   },
   {
    "duration": 33,
    "start_time": "2022-02-25T17:32:05.718Z"
   },
   {
    "duration": 175,
    "start_time": "2022-02-25T17:32:05.770Z"
   },
   {
    "duration": 6,
    "start_time": "2022-02-25T17:32:05.947Z"
   },
   {
    "duration": 626,
    "start_time": "2022-02-25T17:32:05.955Z"
   },
   {
    "duration": 26,
    "start_time": "2022-02-25T17:32:06.583Z"
   },
   {
    "duration": 87,
    "start_time": "2022-02-25T17:32:06.610Z"
   },
   {
    "duration": 38,
    "start_time": "2022-02-25T17:32:06.699Z"
   },
   {
    "duration": 122,
    "start_time": "2022-02-25T17:32:06.738Z"
   },
   {
    "duration": 23,
    "start_time": "2022-02-25T17:32:06.862Z"
   },
   {
    "duration": 26,
    "start_time": "2022-02-25T17:32:06.887Z"
   },
   {
    "duration": 66,
    "start_time": "2022-02-25T17:32:06.915Z"
   },
   {
    "duration": 32,
    "start_time": "2022-02-25T17:32:06.983Z"
   },
   {
    "duration": 23,
    "start_time": "2022-02-25T17:32:07.017Z"
   },
   {
    "duration": 24,
    "start_time": "2022-02-25T17:32:07.045Z"
   },
   {
    "duration": 14,
    "start_time": "2022-02-25T17:32:07.073Z"
   },
   {
    "duration": 72,
    "start_time": "2022-02-25T17:32:07.090Z"
   },
   {
    "duration": 8,
    "start_time": "2022-02-25T17:32:07.165Z"
   },
   {
    "duration": 12,
    "start_time": "2022-02-25T17:32:07.175Z"
   },
   {
    "duration": 14,
    "start_time": "2022-02-25T17:32:07.189Z"
   },
   {
    "duration": 13,
    "start_time": "2022-02-25T17:32:07.205Z"
   },
   {
    "duration": 11,
    "start_time": "2022-02-25T17:32:07.220Z"
   },
   {
    "duration": 91,
    "start_time": "2022-02-25T17:32:07.233Z"
   },
   {
    "duration": 45,
    "start_time": "2022-02-25T17:32:07.326Z"
   },
   {
    "duration": 39,
    "start_time": "2022-02-25T17:32:07.373Z"
   },
   {
    "duration": 20,
    "start_time": "2022-02-25T17:32:07.415Z"
   },
   {
    "duration": 61,
    "start_time": "2022-02-25T17:32:07.437Z"
   },
   {
    "duration": 19,
    "start_time": "2022-02-25T17:32:07.499Z"
   },
   {
    "duration": 8,
    "start_time": "2022-02-25T17:32:07.520Z"
   },
   {
    "duration": 53,
    "start_time": "2022-02-25T17:32:07.529Z"
   },
   {
    "duration": 26,
    "start_time": "2022-02-25T17:32:07.585Z"
   },
   {
    "duration": 21,
    "start_time": "2022-02-25T17:32:07.613Z"
   },
   {
    "duration": 48,
    "start_time": "2022-02-25T17:32:07.636Z"
   },
   {
    "duration": 8,
    "start_time": "2022-02-25T17:32:07.686Z"
   },
   {
    "duration": 25,
    "start_time": "2022-02-25T17:32:07.695Z"
   },
   {
    "duration": 322,
    "start_time": "2022-02-25T17:32:07.722Z"
   },
   {
    "duration": 12,
    "start_time": "2022-02-25T17:32:08.045Z"
   },
   {
    "duration": 38,
    "start_time": "2022-02-25T17:32:08.059Z"
   },
   {
    "duration": 327,
    "start_time": "2022-02-25T17:32:08.099Z"
   },
   {
    "duration": 325,
    "start_time": "2022-02-25T17:32:08.428Z"
   },
   {
    "duration": 318,
    "start_time": "2022-02-25T17:32:08.755Z"
   },
   {
    "duration": 7,
    "start_time": "2022-02-25T17:32:09.075Z"
   },
   {
    "duration": 12,
    "start_time": "2022-02-25T17:32:09.084Z"
   },
   {
    "duration": 9,
    "start_time": "2022-02-25T17:32:09.098Z"
   },
   {
    "duration": 6,
    "start_time": "2022-02-25T17:32:09.109Z"
   },
   {
    "duration": 561,
    "start_time": "2022-02-25T17:32:09.117Z"
   },
   {
    "duration": 240,
    "start_time": "2022-02-25T17:32:09.680Z"
   },
   {
    "duration": 888,
    "start_time": "2022-02-25T17:32:09.922Z"
   },
   {
    "duration": 479,
    "start_time": "2022-02-25T17:32:10.812Z"
   },
   {
    "duration": 818,
    "start_time": "2022-02-25T17:32:11.293Z"
   },
   {
    "duration": 218,
    "start_time": "2022-02-25T17:32:12.113Z"
   },
   {
    "duration": 353,
    "start_time": "2022-02-25T17:32:12.333Z"
   },
   {
    "duration": 6,
    "start_time": "2022-02-25T17:32:12.688Z"
   },
   {
    "duration": 10,
    "start_time": "2022-02-25T17:32:12.696Z"
   },
   {
    "duration": 29,
    "start_time": "2022-02-25T17:32:12.708Z"
   },
   {
    "duration": 32,
    "start_time": "2022-02-25T17:32:12.739Z"
   },
   {
    "duration": 392,
    "start_time": "2022-02-25T17:38:51.518Z"
   },
   {
    "duration": 2156,
    "start_time": "2022-02-25T17:39:07.016Z"
   },
   {
    "duration": 196,
    "start_time": "2022-02-25T17:39:09.174Z"
   },
   {
    "duration": 22,
    "start_time": "2022-02-25T17:39:09.372Z"
   },
   {
    "duration": 30,
    "start_time": "2022-02-25T17:39:09.397Z"
   },
   {
    "duration": 56,
    "start_time": "2022-02-25T17:39:09.428Z"
   },
   {
    "duration": 110,
    "start_time": "2022-02-25T17:39:09.486Z"
   },
   {
    "duration": 75,
    "start_time": "2022-02-25T17:39:09.599Z"
   },
   {
    "duration": 146,
    "start_time": "2022-02-25T17:39:09.677Z"
   },
   {
    "duration": 20,
    "start_time": "2022-02-25T17:39:09.826Z"
   },
   {
    "duration": 46,
    "start_time": "2022-02-25T17:39:09.848Z"
   },
   {
    "duration": 189,
    "start_time": "2022-02-25T17:39:09.896Z"
   },
   {
    "duration": 7,
    "start_time": "2022-02-25T17:39:10.087Z"
   },
   {
    "duration": 647,
    "start_time": "2022-02-25T17:39:10.095Z"
   },
   {
    "duration": 37,
    "start_time": "2022-02-25T17:39:10.744Z"
   },
   {
    "duration": 73,
    "start_time": "2022-02-25T17:39:10.783Z"
   },
   {
    "duration": 34,
    "start_time": "2022-02-25T17:39:10.870Z"
   },
   {
    "duration": 110,
    "start_time": "2022-02-25T17:39:10.906Z"
   },
   {
    "duration": 16,
    "start_time": "2022-02-25T17:39:11.018Z"
   },
   {
    "duration": 41,
    "start_time": "2022-02-25T17:39:11.036Z"
   },
   {
    "duration": 53,
    "start_time": "2022-02-25T17:39:11.079Z"
   },
   {
    "duration": 59,
    "start_time": "2022-02-25T17:39:11.134Z"
   },
   {
    "duration": 23,
    "start_time": "2022-02-25T17:39:11.194Z"
   },
   {
    "duration": 7,
    "start_time": "2022-02-25T17:39:11.223Z"
   },
   {
    "duration": 14,
    "start_time": "2022-02-25T17:39:11.233Z"
   },
   {
    "duration": 72,
    "start_time": "2022-02-25T17:39:11.249Z"
   },
   {
    "duration": 7,
    "start_time": "2022-02-25T17:39:11.323Z"
   },
   {
    "duration": 14,
    "start_time": "2022-02-25T17:39:11.332Z"
   },
   {
    "duration": 15,
    "start_time": "2022-02-25T17:39:11.348Z"
   },
   {
    "duration": 7,
    "start_time": "2022-02-25T17:39:11.365Z"
   },
   {
    "duration": 10,
    "start_time": "2022-02-25T17:39:11.373Z"
   },
   {
    "duration": 67,
    "start_time": "2022-02-25T17:39:11.385Z"
   },
   {
    "duration": 48,
    "start_time": "2022-02-25T17:39:11.453Z"
   },
   {
    "duration": 39,
    "start_time": "2022-02-25T17:39:11.502Z"
   },
   {
    "duration": 41,
    "start_time": "2022-02-25T17:39:11.542Z"
   },
   {
    "duration": 35,
    "start_time": "2022-02-25T17:39:11.585Z"
   },
   {
    "duration": 18,
    "start_time": "2022-02-25T17:39:11.622Z"
   },
   {
    "duration": 31,
    "start_time": "2022-02-25T17:39:11.641Z"
   },
   {
    "duration": 39,
    "start_time": "2022-02-25T17:39:11.674Z"
   },
   {
    "duration": 27,
    "start_time": "2022-02-25T17:39:11.715Z"
   },
   {
    "duration": 43,
    "start_time": "2022-02-25T17:39:11.744Z"
   },
   {
    "duration": 24,
    "start_time": "2022-02-25T17:39:11.789Z"
   },
   {
    "duration": 7,
    "start_time": "2022-02-25T17:39:11.814Z"
   },
   {
    "duration": 56,
    "start_time": "2022-02-25T17:39:11.823Z"
   },
   {
    "duration": 317,
    "start_time": "2022-02-25T17:39:11.880Z"
   },
   {
    "duration": 13,
    "start_time": "2022-02-25T17:39:12.199Z"
   },
   {
    "duration": 29,
    "start_time": "2022-02-25T17:39:12.214Z"
   },
   {
    "duration": 335,
    "start_time": "2022-02-25T17:39:12.245Z"
   },
   {
    "duration": 315,
    "start_time": "2022-02-25T17:39:12.582Z"
   },
   {
    "duration": 311,
    "start_time": "2022-02-25T17:39:12.899Z"
   },
   {
    "duration": 7,
    "start_time": "2022-02-25T17:39:13.212Z"
   },
   {
    "duration": 8,
    "start_time": "2022-02-25T17:39:13.221Z"
   },
   {
    "duration": 9,
    "start_time": "2022-02-25T17:39:13.231Z"
   },
   {
    "duration": 7,
    "start_time": "2022-02-25T17:39:13.269Z"
   },
   {
    "duration": 552,
    "start_time": "2022-02-25T17:39:13.277Z"
   },
   {
    "duration": 253,
    "start_time": "2022-02-25T17:39:13.832Z"
   },
   {
    "duration": 874,
    "start_time": "2022-02-25T17:39:14.087Z"
   },
   {
    "duration": 463,
    "start_time": "2022-02-25T17:39:14.963Z"
   },
   {
    "duration": 772,
    "start_time": "2022-02-25T17:39:15.428Z"
   },
   {
    "duration": 199,
    "start_time": "2022-02-25T17:39:16.201Z"
   },
   {
    "duration": 327,
    "start_time": "2022-02-25T17:39:16.402Z"
   },
   {
    "duration": 7,
    "start_time": "2022-02-25T17:39:16.730Z"
   },
   {
    "duration": 13,
    "start_time": "2022-02-25T17:39:16.739Z"
   },
   {
    "duration": 36,
    "start_time": "2022-02-25T17:39:16.754Z"
   },
   {
    "duration": 7,
    "start_time": "2022-02-25T17:39:16.793Z"
   }
  ],
  "kernelspec": {
   "display_name": "Python 3 (ipykernel)",
   "language": "python",
   "name": "python3"
  },
  "language_info": {
   "codemirror_mode": {
    "name": "ipython",
    "version": 3
   },
   "file_extension": ".py",
   "mimetype": "text/x-python",
   "name": "python",
   "nbconvert_exporter": "python",
   "pygments_lexer": "ipython3",
   "version": "3.9.7"
  },
  "toc": {
   "base_numbering": 1,
   "nav_menu": {},
   "number_sections": true,
   "sideBar": true,
   "skip_h1_title": true,
   "title_cell": "Table of Contents",
   "title_sidebar": "Contents",
   "toc_cell": false,
   "toc_position": {},
   "toc_section_display": true,
   "toc_window_display": false
  }
 },
 "nbformat": 4,
 "nbformat_minor": 2
}
