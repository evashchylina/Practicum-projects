{
 "cells": [
  {
   "cell_type": "markdown",
   "metadata": {},
   "source": [
    "# Исследование надёжности заёмщиков - анализ банковских данных 💰\n",
    "\n",
    "## Содержание\n",
    "1) [Обзор данных](#anchor_1)  \n",
    "2) [Предобработка данных](#anchor_2)  \n",
    "3) [Лемматизация](#anchor_3)  \n",
    "4) [Категоризация данных](#anchor_4)  \n",
    "5) [Факторы, влияющие на возврат кредита в срок](#anchor_5)  \n",
    "6) [Общий вывод](#anchor_6)"
   ]
  },
  {
   "cell_type": "markdown",
   "metadata": {},
   "source": [
    "<a id='anchor_1'></a>\n",
    "## Описание проекта\n",
    "\n",
    "**Задача:**  \n",
    "Изучить статистику о платёжеспособности клиентов и определить факторы, влияющие на факт погашения кредита в срок.\n",
    "\n",
    "В рамках данного исследования изучим зависимость между наличием детей и возвратом кредита в срок. Постараемся определить, есть ли зависимость между семейным положением и возвратом кредита в срок. Изучим взаимосвязь между уровнем дохода и возвратом кредита в срок. Исследуем цели кредита и их влияние на возврат долга в срок.\n",
    "\n",
    "Результаты исследования будут учтены при построении модели **кредитного скоринга** — специальной системы, которая оценивает способность потенциального заёмщика вернуть кредит банку.\n",
    "\n",
    "**Цель исследования:**  \n",
    "Предоставить кредитному отделу банка информацию о факторах, влияющих на возврат кредита в срок. Составить профиль благонадёжного клиента.\n",
    "\n",
    "**Ход исследования:**  \n",
    "Изучим данные о платёжеспосоности клиентов из файла, предоставленного банком. В силу того, что о качестве этих данных ничего не известно, сначала произведём обзор данных. Проверим данные на ошибки и оценим их влияние на исследование. Выполним предобработку данных.\n",
    "Таким образом, исследование пройдёт в три этапа:\n",
    "1. Обзор данных;\n",
    "2. Предобработка данных;\n",
    "3. Определение факторов, влияющих на возврат кредита."
   ]
  },
  {
   "cell_type": "markdown",
   "metadata": {},
   "source": [
    "## Обзор данных\n",
    "Для начала произведём импорт всех необходимых нам библиотек:"
   ]
  },
  {
   "cell_type": "code",
   "execution_count": 1,
   "metadata": {},
   "outputs": [
    {
     "name": "stdout",
     "output_type": "stream",
     "text": [
      "Requirement already satisfied: pymystem3 in /Users/macbook/opt/anaconda3/lib/python3.9/site-packages (0.2.0)\r\n",
      "Requirement already satisfied: requests in /Users/macbook/opt/anaconda3/lib/python3.9/site-packages (from pymystem3) (2.26.0)\r\n",
      "Requirement already satisfied: urllib3<1.27,>=1.21.1 in /Users/macbook/opt/anaconda3/lib/python3.9/site-packages (from requests->pymystem3) (1.26.7)\r\n",
      "Requirement already satisfied: charset-normalizer~=2.0.0 in /Users/macbook/opt/anaconda3/lib/python3.9/site-packages (from requests->pymystem3) (2.0.4)\r\n",
      "Requirement already satisfied: idna<4,>=2.5 in /Users/macbook/opt/anaconda3/lib/python3.9/site-packages (from requests->pymystem3) (3.2)\r\n",
      "Requirement already satisfied: certifi>=2017.4.17 in /Users/macbook/opt/anaconda3/lib/python3.9/site-packages (from requests->pymystem3) (2021.10.8)\r\n"
     ]
    }
   ],
   "source": [
    "# импорт библиотеки pandas\n",
    "import pandas as pd\n",
    "\n",
    "#импорт библиотеки numpy для операций с массивами\n",
    "import numpy as np\n",
    "\n",
    "# импорт библиотеки визуализации seaborn\n",
    "import seaborn as sns\n",
    "\n",
    "# импорт библиотеки matplotlib для продвинутой работы с графиками\n",
    "import matplotlib.pyplot as plt\n",
    "\n",
    "#вызовем библиотеку с функцией лемматизации\n",
    "!pip install pymystem3\n",
    "from pymystem3 import Mystem\n",
    "\n",
    "# импорт библиотеки для игнорирования предупреждений\n",
    "import warnings\n",
    "warnings.filterwarnings(\"ignore\")"
   ]
  },
  {
   "cell_type": "markdown",
   "metadata": {},
   "source": [
    "Изучим общую информацию о данных.  Импортируем библиотеку **pandas**, прочитаем файл, сохраним его в переменной *df*. Выведем на экран первые 10 строк таблицы:"
   ]
  },
  {
   "cell_type": "code",
   "execution_count": 2,
   "metadata": {},
   "outputs": [
    {
     "data": {
      "text/html": [
       "<div>\n",
       "<style scoped>\n",
       "    .dataframe tbody tr th:only-of-type {\n",
       "        vertical-align: middle;\n",
       "    }\n",
       "\n",
       "    .dataframe tbody tr th {\n",
       "        vertical-align: top;\n",
       "    }\n",
       "\n",
       "    .dataframe thead th {\n",
       "        text-align: right;\n",
       "    }\n",
       "</style>\n",
       "<table border=\"1\" class=\"dataframe\">\n",
       "  <thead>\n",
       "    <tr style=\"text-align: right;\">\n",
       "      <th></th>\n",
       "      <th>children</th>\n",
       "      <th>days_employed</th>\n",
       "      <th>dob_years</th>\n",
       "      <th>education</th>\n",
       "      <th>education_id</th>\n",
       "      <th>family_status</th>\n",
       "      <th>family_status_id</th>\n",
       "      <th>gender</th>\n",
       "      <th>income_type</th>\n",
       "      <th>debt</th>\n",
       "      <th>total_income</th>\n",
       "      <th>purpose</th>\n",
       "    </tr>\n",
       "  </thead>\n",
       "  <tbody>\n",
       "    <tr>\n",
       "      <th>0</th>\n",
       "      <td>1</td>\n",
       "      <td>-8437.673028</td>\n",
       "      <td>42</td>\n",
       "      <td>высшее</td>\n",
       "      <td>0</td>\n",
       "      <td>женат / замужем</td>\n",
       "      <td>0</td>\n",
       "      <td>F</td>\n",
       "      <td>сотрудник</td>\n",
       "      <td>0</td>\n",
       "      <td>253875.639453</td>\n",
       "      <td>покупка жилья</td>\n",
       "    </tr>\n",
       "    <tr>\n",
       "      <th>1</th>\n",
       "      <td>1</td>\n",
       "      <td>-4024.803754</td>\n",
       "      <td>36</td>\n",
       "      <td>среднее</td>\n",
       "      <td>1</td>\n",
       "      <td>женат / замужем</td>\n",
       "      <td>0</td>\n",
       "      <td>F</td>\n",
       "      <td>сотрудник</td>\n",
       "      <td>0</td>\n",
       "      <td>112080.014102</td>\n",
       "      <td>приобретение автомобиля</td>\n",
       "    </tr>\n",
       "    <tr>\n",
       "      <th>2</th>\n",
       "      <td>0</td>\n",
       "      <td>-5623.422610</td>\n",
       "      <td>33</td>\n",
       "      <td>Среднее</td>\n",
       "      <td>1</td>\n",
       "      <td>женат / замужем</td>\n",
       "      <td>0</td>\n",
       "      <td>M</td>\n",
       "      <td>сотрудник</td>\n",
       "      <td>0</td>\n",
       "      <td>145885.952297</td>\n",
       "      <td>покупка жилья</td>\n",
       "    </tr>\n",
       "    <tr>\n",
       "      <th>3</th>\n",
       "      <td>3</td>\n",
       "      <td>-4124.747207</td>\n",
       "      <td>32</td>\n",
       "      <td>среднее</td>\n",
       "      <td>1</td>\n",
       "      <td>женат / замужем</td>\n",
       "      <td>0</td>\n",
       "      <td>M</td>\n",
       "      <td>сотрудник</td>\n",
       "      <td>0</td>\n",
       "      <td>267628.550329</td>\n",
       "      <td>дополнительное образование</td>\n",
       "    </tr>\n",
       "    <tr>\n",
       "      <th>4</th>\n",
       "      <td>0</td>\n",
       "      <td>340266.072047</td>\n",
       "      <td>53</td>\n",
       "      <td>среднее</td>\n",
       "      <td>1</td>\n",
       "      <td>гражданский брак</td>\n",
       "      <td>1</td>\n",
       "      <td>F</td>\n",
       "      <td>пенсионер</td>\n",
       "      <td>0</td>\n",
       "      <td>158616.077870</td>\n",
       "      <td>сыграть свадьбу</td>\n",
       "    </tr>\n",
       "  </tbody>\n",
       "</table>\n",
       "</div>"
      ],
      "text/plain": [
       "   children  days_employed  dob_years education  education_id  \\\n",
       "0         1   -8437.673028         42    высшее             0   \n",
       "1         1   -4024.803754         36   среднее             1   \n",
       "2         0   -5623.422610         33   Среднее             1   \n",
       "3         3   -4124.747207         32   среднее             1   \n",
       "4         0  340266.072047         53   среднее             1   \n",
       "\n",
       "      family_status  family_status_id gender income_type  debt   total_income  \\\n",
       "0   женат / замужем                 0      F   сотрудник     0  253875.639453   \n",
       "1   женат / замужем                 0      F   сотрудник     0  112080.014102   \n",
       "2   женат / замужем                 0      M   сотрудник     0  145885.952297   \n",
       "3   женат / замужем                 0      M   сотрудник     0  267628.550329   \n",
       "4  гражданский брак                 1      F   пенсионер     0  158616.077870   \n",
       "\n",
       "                      purpose  \n",
       "0               покупка жилья  \n",
       "1     приобретение автомобиля  \n",
       "2               покупка жилья  \n",
       "3  дополнительное образование  \n",
       "4             сыграть свадьбу  "
      ]
     },
     "execution_count": 2,
     "metadata": {},
     "output_type": "execute_result"
    }
   ],
   "source": [
    "try:\n",
    "    df = pd.read_csv('/datasets/data.csv')\n",
    "except:\n",
    "    df = pd.read_csv('data.csv')\n",
    "df.head()"
   ]
  },
  {
   "cell_type": "markdown",
   "metadata": {},
   "source": [
    "Воспользуемся методом *tail()*, чтобы вывести на экран последние 10 строк."
   ]
  },
  {
   "cell_type": "code",
   "execution_count": 3,
   "metadata": {},
   "outputs": [
    {
     "data": {
      "text/html": [
       "<div>\n",
       "<style scoped>\n",
       "    .dataframe tbody tr th:only-of-type {\n",
       "        vertical-align: middle;\n",
       "    }\n",
       "\n",
       "    .dataframe tbody tr th {\n",
       "        vertical-align: top;\n",
       "    }\n",
       "\n",
       "    .dataframe thead th {\n",
       "        text-align: right;\n",
       "    }\n",
       "</style>\n",
       "<table border=\"1\" class=\"dataframe\">\n",
       "  <thead>\n",
       "    <tr style=\"text-align: right;\">\n",
       "      <th></th>\n",
       "      <th>children</th>\n",
       "      <th>days_employed</th>\n",
       "      <th>dob_years</th>\n",
       "      <th>education</th>\n",
       "      <th>education_id</th>\n",
       "      <th>family_status</th>\n",
       "      <th>family_status_id</th>\n",
       "      <th>gender</th>\n",
       "      <th>income_type</th>\n",
       "      <th>debt</th>\n",
       "      <th>total_income</th>\n",
       "      <th>purpose</th>\n",
       "    </tr>\n",
       "  </thead>\n",
       "  <tbody>\n",
       "    <tr>\n",
       "      <th>21515</th>\n",
       "      <td>1</td>\n",
       "      <td>-467.685130</td>\n",
       "      <td>28</td>\n",
       "      <td>среднее</td>\n",
       "      <td>1</td>\n",
       "      <td>женат / замужем</td>\n",
       "      <td>0</td>\n",
       "      <td>F</td>\n",
       "      <td>сотрудник</td>\n",
       "      <td>1</td>\n",
       "      <td>109486.327999</td>\n",
       "      <td>заняться образованием</td>\n",
       "    </tr>\n",
       "    <tr>\n",
       "      <th>21516</th>\n",
       "      <td>0</td>\n",
       "      <td>-914.391429</td>\n",
       "      <td>42</td>\n",
       "      <td>высшее</td>\n",
       "      <td>0</td>\n",
       "      <td>женат / замужем</td>\n",
       "      <td>0</td>\n",
       "      <td>F</td>\n",
       "      <td>компаньон</td>\n",
       "      <td>0</td>\n",
       "      <td>322807.776603</td>\n",
       "      <td>покупка своего жилья</td>\n",
       "    </tr>\n",
       "    <tr>\n",
       "      <th>21517</th>\n",
       "      <td>0</td>\n",
       "      <td>-404.679034</td>\n",
       "      <td>42</td>\n",
       "      <td>высшее</td>\n",
       "      <td>0</td>\n",
       "      <td>гражданский брак</td>\n",
       "      <td>1</td>\n",
       "      <td>F</td>\n",
       "      <td>компаньон</td>\n",
       "      <td>0</td>\n",
       "      <td>178059.553491</td>\n",
       "      <td>на покупку своего автомобиля</td>\n",
       "    </tr>\n",
       "    <tr>\n",
       "      <th>21518</th>\n",
       "      <td>0</td>\n",
       "      <td>373995.710838</td>\n",
       "      <td>59</td>\n",
       "      <td>СРЕДНЕЕ</td>\n",
       "      <td>1</td>\n",
       "      <td>женат / замужем</td>\n",
       "      <td>0</td>\n",
       "      <td>F</td>\n",
       "      <td>пенсионер</td>\n",
       "      <td>0</td>\n",
       "      <td>153864.650328</td>\n",
       "      <td>сделка с автомобилем</td>\n",
       "    </tr>\n",
       "    <tr>\n",
       "      <th>21519</th>\n",
       "      <td>1</td>\n",
       "      <td>-2351.431934</td>\n",
       "      <td>37</td>\n",
       "      <td>ученая степень</td>\n",
       "      <td>4</td>\n",
       "      <td>в разводе</td>\n",
       "      <td>3</td>\n",
       "      <td>M</td>\n",
       "      <td>сотрудник</td>\n",
       "      <td>0</td>\n",
       "      <td>115949.039788</td>\n",
       "      <td>покупка коммерческой недвижимости</td>\n",
       "    </tr>\n",
       "    <tr>\n",
       "      <th>21520</th>\n",
       "      <td>1</td>\n",
       "      <td>-4529.316663</td>\n",
       "      <td>43</td>\n",
       "      <td>среднее</td>\n",
       "      <td>1</td>\n",
       "      <td>гражданский брак</td>\n",
       "      <td>1</td>\n",
       "      <td>F</td>\n",
       "      <td>компаньон</td>\n",
       "      <td>0</td>\n",
       "      <td>224791.862382</td>\n",
       "      <td>операции с жильем</td>\n",
       "    </tr>\n",
       "    <tr>\n",
       "      <th>21521</th>\n",
       "      <td>0</td>\n",
       "      <td>343937.404131</td>\n",
       "      <td>67</td>\n",
       "      <td>среднее</td>\n",
       "      <td>1</td>\n",
       "      <td>женат / замужем</td>\n",
       "      <td>0</td>\n",
       "      <td>F</td>\n",
       "      <td>пенсионер</td>\n",
       "      <td>0</td>\n",
       "      <td>155999.806512</td>\n",
       "      <td>сделка с автомобилем</td>\n",
       "    </tr>\n",
       "    <tr>\n",
       "      <th>21522</th>\n",
       "      <td>1</td>\n",
       "      <td>-2113.346888</td>\n",
       "      <td>38</td>\n",
       "      <td>среднее</td>\n",
       "      <td>1</td>\n",
       "      <td>гражданский брак</td>\n",
       "      <td>1</td>\n",
       "      <td>M</td>\n",
       "      <td>сотрудник</td>\n",
       "      <td>1</td>\n",
       "      <td>89672.561153</td>\n",
       "      <td>недвижимость</td>\n",
       "    </tr>\n",
       "    <tr>\n",
       "      <th>21523</th>\n",
       "      <td>3</td>\n",
       "      <td>-3112.481705</td>\n",
       "      <td>38</td>\n",
       "      <td>среднее</td>\n",
       "      <td>1</td>\n",
       "      <td>женат / замужем</td>\n",
       "      <td>0</td>\n",
       "      <td>M</td>\n",
       "      <td>сотрудник</td>\n",
       "      <td>1</td>\n",
       "      <td>244093.050500</td>\n",
       "      <td>на покупку своего автомобиля</td>\n",
       "    </tr>\n",
       "    <tr>\n",
       "      <th>21524</th>\n",
       "      <td>2</td>\n",
       "      <td>-1984.507589</td>\n",
       "      <td>40</td>\n",
       "      <td>среднее</td>\n",
       "      <td>1</td>\n",
       "      <td>женат / замужем</td>\n",
       "      <td>0</td>\n",
       "      <td>F</td>\n",
       "      <td>сотрудник</td>\n",
       "      <td>0</td>\n",
       "      <td>82047.418899</td>\n",
       "      <td>на покупку автомобиля</td>\n",
       "    </tr>\n",
       "  </tbody>\n",
       "</table>\n",
       "</div>"
      ],
      "text/plain": [
       "       children  days_employed  dob_years       education  education_id  \\\n",
       "21515         1    -467.685130         28         среднее             1   \n",
       "21516         0    -914.391429         42          высшее             0   \n",
       "21517         0    -404.679034         42          высшее             0   \n",
       "21518         0  373995.710838         59         СРЕДНЕЕ             1   \n",
       "21519         1   -2351.431934         37  ученая степень             4   \n",
       "21520         1   -4529.316663         43         среднее             1   \n",
       "21521         0  343937.404131         67         среднее             1   \n",
       "21522         1   -2113.346888         38         среднее             1   \n",
       "21523         3   -3112.481705         38         среднее             1   \n",
       "21524         2   -1984.507589         40         среднее             1   \n",
       "\n",
       "          family_status  family_status_id gender income_type  debt  \\\n",
       "21515   женат / замужем                 0      F   сотрудник     1   \n",
       "21516   женат / замужем                 0      F   компаньон     0   \n",
       "21517  гражданский брак                 1      F   компаньон     0   \n",
       "21518   женат / замужем                 0      F   пенсионер     0   \n",
       "21519         в разводе                 3      M   сотрудник     0   \n",
       "21520  гражданский брак                 1      F   компаньон     0   \n",
       "21521   женат / замужем                 0      F   пенсионер     0   \n",
       "21522  гражданский брак                 1      M   сотрудник     1   \n",
       "21523   женат / замужем                 0      M   сотрудник     1   \n",
       "21524   женат / замужем                 0      F   сотрудник     0   \n",
       "\n",
       "        total_income                            purpose  \n",
       "21515  109486.327999              заняться образованием  \n",
       "21516  322807.776603               покупка своего жилья  \n",
       "21517  178059.553491       на покупку своего автомобиля  \n",
       "21518  153864.650328               сделка с автомобилем  \n",
       "21519  115949.039788  покупка коммерческой недвижимости  \n",
       "21520  224791.862382                  операции с жильем  \n",
       "21521  155999.806512               сделка с автомобилем  \n",
       "21522   89672.561153                       недвижимость  \n",
       "21523  244093.050500       на покупку своего автомобиля  \n",
       "21524   82047.418899              на покупку автомобиля  "
      ]
     },
     "execution_count": 3,
     "metadata": {},
     "output_type": "execute_result"
    }
   ],
   "source": [
    "df.tail(10)"
   ]
  },
  {
   "cell_type": "markdown",
   "metadata": {},
   "source": [
    "Одной командой получим общую информацию о таблице:"
   ]
  },
  {
   "cell_type": "code",
   "execution_count": 4,
   "metadata": {},
   "outputs": [
    {
     "name": "stdout",
     "output_type": "stream",
     "text": [
      "<class 'pandas.core.frame.DataFrame'>\n",
      "RangeIndex: 21525 entries, 0 to 21524\n",
      "Data columns (total 12 columns):\n",
      " #   Column            Non-Null Count  Dtype  \n",
      "---  ------            --------------  -----  \n",
      " 0   children          21525 non-null  int64  \n",
      " 1   days_employed     19351 non-null  float64\n",
      " 2   dob_years         21525 non-null  int64  \n",
      " 3   education         21525 non-null  object \n",
      " 4   education_id      21525 non-null  int64  \n",
      " 5   family_status     21525 non-null  object \n",
      " 6   family_status_id  21525 non-null  int64  \n",
      " 7   gender            21525 non-null  object \n",
      " 8   income_type       21525 non-null  object \n",
      " 9   debt              21525 non-null  int64  \n",
      " 10  total_income      19351 non-null  float64\n",
      " 11  purpose           21525 non-null  object \n",
      "dtypes: float64(2), int64(5), object(5)\n",
      "memory usage: 2.0+ MB\n"
     ]
    }
   ],
   "source": [
    "df.info()"
   ]
  },
  {
   "cell_type": "markdown",
   "metadata": {},
   "source": [
    "**Вывод** \n",
    "\n",
    "В каждой строке таблицы - данные о клиенте банка. Предварительно можно утверждать, что данных достаточно для проверки гипотез. Однако, в исходном массиве данных имеются пропуски и ошибки, которые могут исказить результаты исследования. Чтобы двигаться дальше, необходимо устранить проблемы в данных."
   ]
  },
  {
   "cell_type": "markdown",
   "metadata": {},
   "source": [
    "Итак, мы имеем дело с объемным массивом данных, в котором содержится более 21,5 тысяч строк. В таблице имеется 12 столбцов. Типы данных в столбцах - int, float и object.\n",
    "\n",
    "Согласно документации к данным:\n",
    "* children — количество детей в семье\n",
    "* days_employed — общий трудовой стаж в днях\n",
    "* dob_years — возраст клиента в годах\n",
    "* education — уровень образования клиента\n",
    "* education_id — идентификатор уровня образования\n",
    "* family_status — семейное положение\n",
    "* family_status_id — идентификатор семейного положения\n",
    "* gender — пол клиента\n",
    "* income_type — тип занятости\n",
    "* debt — имел ли задолженность по возврату кредитов\n",
    "* total_income — ежемесячный доход\n",
    "* purpose — цель получения кредита\n",
    "\n",
    "В названиях колонок нет нарушений стиля, их можно оставить без изменений. \n",
    "Количество значений в столбцах различается. Значит, в данных об общем трудовом стаже (days_employed) и ежемесячном доходе (total_income) есть пропущенные значения. Кроме того, беглый обзор первых и последних 10 строк таблицы позволяет заметить, что данные столбца days_employed некорректны. Большая их часть содержит отрицательное количество дней трудового стажа. Также имеются среди них нереально большие значения, говорящие о том, что люди работали более 1000 лет. Причина возникновения данных ошибок, вероятнее всего - некорректная выгрузка. Для их устранения стоило бы обратиться за повторной выгрузкой. Однако, данный показатель не имеет критически важного влияния на проверку наших гипотез, поэтому данный столбец можно исключить из исследуемого массива.\n",
    "\n",
    "Пересохраним в переменной *df* таблицу без \"поломанного\" столбца. Вызовем метод *shape* (посчитаем количество граф), чтобы убедиться в произведенных изменениях."
   ]
  },
  {
   "cell_type": "code",
   "execution_count": 5,
   "metadata": {},
   "outputs": [
    {
     "data": {
      "text/plain": [
       "11"
      ]
     },
     "execution_count": 5,
     "metadata": {},
     "output_type": "execute_result"
    }
   ],
   "source": [
    "# в списке перечислим только те столбцы, которые нам необходимы для исследования\n",
    "df = df[['children', 'dob_years', 'education', 'education_id', 'family_status',\n",
    "         'family_status_id', 'gender', 'income_type', 'debt', 'total_income', 'purpose']]\n",
    "df.shape[1]"
   ]
  },
  {
   "cell_type": "markdown",
   "metadata": {},
   "source": [
    "Таким образом, мы избавились от нежелательного столбца и можем продолжать исследование"
   ]
  },
  {
   "cell_type": "markdown",
   "metadata": {},
   "source": [
    "<a id='anchor_2'></a>\n",
    "## Предобработка данных\n",
    "\n",
    "Исключим пропуски. Заменим тип данных на более удобный. Проверим данные на дубликаты. Проведём лемматизацию целей кредита. Разобъём данные на категории."
   ]
  },
  {
   "cell_type": "markdown",
   "metadata": {},
   "source": [
    "### Обработка пропусков\n",
    "\n",
    "Сначала посчитаем, сколько в таблице пропущенных значений. Для этого достаточно двух методов Pandas:"
   ]
  },
  {
   "cell_type": "code",
   "execution_count": 6,
   "metadata": {
    "scrolled": true
   },
   "outputs": [
    {
     "data": {
      "text/plain": [
       "children               0\n",
       "dob_years              0\n",
       "education              0\n",
       "education_id           0\n",
       "family_status          0\n",
       "family_status_id       0\n",
       "gender                 0\n",
       "income_type            0\n",
       "debt                   0\n",
       "total_income        2174\n",
       "purpose                0\n",
       "dtype: int64"
      ]
     },
     "execution_count": 6,
     "metadata": {},
     "output_type": "execute_result"
    }
   ],
   "source": [
    "df.isna().sum()"
   ]
  },
  {
   "cell_type": "markdown",
   "metadata": {},
   "source": [
    "В столбце с данными о ежемесячном доходе имеются пробелы. Посчитаем, сколько процентов занимают пропуски в общем числе строк:"
   ]
  },
  {
   "cell_type": "code",
   "execution_count": 7,
   "metadata": {},
   "outputs": [
    {
     "data": {
      "text/plain": [
       "10.1"
      ]
     },
     "execution_count": 7,
     "metadata": {},
     "output_type": "execute_result"
    }
   ],
   "source": [
    "round(df['total_income'].isna().sum()/len(df)*100, 2)"
   ]
  },
  {
   "cell_type": "markdown",
   "metadata": {},
   "source": [
    "**Вывод**\n",
    "\n",
    "Отсутствие сведений может быть связано как с отсутствием дохода, так и с отсутствием предоставленной информации о нём. Доля пропущенных значений составляет более 10,1%, поэтому исключив эти сведения можно снизить качество проведенного исследования, и сответственно получить некорректные выводы.\n",
    "\n",
    "Просмотрим первые 10 строк таблицы, в которых отсутствует информация о ежемесячном доходе."
   ]
  },
  {
   "cell_type": "code",
   "execution_count": 8,
   "metadata": {},
   "outputs": [
    {
     "data": {
      "text/html": [
       "<div>\n",
       "<style scoped>\n",
       "    .dataframe tbody tr th:only-of-type {\n",
       "        vertical-align: middle;\n",
       "    }\n",
       "\n",
       "    .dataframe tbody tr th {\n",
       "        vertical-align: top;\n",
       "    }\n",
       "\n",
       "    .dataframe thead th {\n",
       "        text-align: right;\n",
       "    }\n",
       "</style>\n",
       "<table border=\"1\" class=\"dataframe\">\n",
       "  <thead>\n",
       "    <tr style=\"text-align: right;\">\n",
       "      <th></th>\n",
       "      <th>children</th>\n",
       "      <th>dob_years</th>\n",
       "      <th>education</th>\n",
       "      <th>education_id</th>\n",
       "      <th>family_status</th>\n",
       "      <th>family_status_id</th>\n",
       "      <th>gender</th>\n",
       "      <th>income_type</th>\n",
       "      <th>debt</th>\n",
       "      <th>total_income</th>\n",
       "      <th>purpose</th>\n",
       "    </tr>\n",
       "  </thead>\n",
       "  <tbody>\n",
       "    <tr>\n",
       "      <th>12</th>\n",
       "      <td>0</td>\n",
       "      <td>65</td>\n",
       "      <td>среднее</td>\n",
       "      <td>1</td>\n",
       "      <td>гражданский брак</td>\n",
       "      <td>1</td>\n",
       "      <td>M</td>\n",
       "      <td>пенсионер</td>\n",
       "      <td>0</td>\n",
       "      <td>NaN</td>\n",
       "      <td>сыграть свадьбу</td>\n",
       "    </tr>\n",
       "    <tr>\n",
       "      <th>26</th>\n",
       "      <td>0</td>\n",
       "      <td>41</td>\n",
       "      <td>среднее</td>\n",
       "      <td>1</td>\n",
       "      <td>женат / замужем</td>\n",
       "      <td>0</td>\n",
       "      <td>M</td>\n",
       "      <td>госслужащий</td>\n",
       "      <td>0</td>\n",
       "      <td>NaN</td>\n",
       "      <td>образование</td>\n",
       "    </tr>\n",
       "    <tr>\n",
       "      <th>29</th>\n",
       "      <td>0</td>\n",
       "      <td>63</td>\n",
       "      <td>среднее</td>\n",
       "      <td>1</td>\n",
       "      <td>Не женат / не замужем</td>\n",
       "      <td>4</td>\n",
       "      <td>F</td>\n",
       "      <td>пенсионер</td>\n",
       "      <td>0</td>\n",
       "      <td>NaN</td>\n",
       "      <td>строительство жилой недвижимости</td>\n",
       "    </tr>\n",
       "    <tr>\n",
       "      <th>41</th>\n",
       "      <td>0</td>\n",
       "      <td>50</td>\n",
       "      <td>среднее</td>\n",
       "      <td>1</td>\n",
       "      <td>женат / замужем</td>\n",
       "      <td>0</td>\n",
       "      <td>F</td>\n",
       "      <td>госслужащий</td>\n",
       "      <td>0</td>\n",
       "      <td>NaN</td>\n",
       "      <td>сделка с подержанным автомобилем</td>\n",
       "    </tr>\n",
       "    <tr>\n",
       "      <th>55</th>\n",
       "      <td>0</td>\n",
       "      <td>54</td>\n",
       "      <td>среднее</td>\n",
       "      <td>1</td>\n",
       "      <td>гражданский брак</td>\n",
       "      <td>1</td>\n",
       "      <td>F</td>\n",
       "      <td>пенсионер</td>\n",
       "      <td>1</td>\n",
       "      <td>NaN</td>\n",
       "      <td>сыграть свадьбу</td>\n",
       "    </tr>\n",
       "    <tr>\n",
       "      <th>65</th>\n",
       "      <td>0</td>\n",
       "      <td>21</td>\n",
       "      <td>среднее</td>\n",
       "      <td>1</td>\n",
       "      <td>Не женат / не замужем</td>\n",
       "      <td>4</td>\n",
       "      <td>M</td>\n",
       "      <td>компаньон</td>\n",
       "      <td>0</td>\n",
       "      <td>NaN</td>\n",
       "      <td>операции с коммерческой недвижимостью</td>\n",
       "    </tr>\n",
       "    <tr>\n",
       "      <th>67</th>\n",
       "      <td>0</td>\n",
       "      <td>52</td>\n",
       "      <td>высшее</td>\n",
       "      <td>0</td>\n",
       "      <td>женат / замужем</td>\n",
       "      <td>0</td>\n",
       "      <td>F</td>\n",
       "      <td>пенсионер</td>\n",
       "      <td>0</td>\n",
       "      <td>NaN</td>\n",
       "      <td>покупка жилья для семьи</td>\n",
       "    </tr>\n",
       "    <tr>\n",
       "      <th>72</th>\n",
       "      <td>1</td>\n",
       "      <td>32</td>\n",
       "      <td>высшее</td>\n",
       "      <td>0</td>\n",
       "      <td>женат / замужем</td>\n",
       "      <td>0</td>\n",
       "      <td>M</td>\n",
       "      <td>госслужащий</td>\n",
       "      <td>0</td>\n",
       "      <td>NaN</td>\n",
       "      <td>операции с коммерческой недвижимостью</td>\n",
       "    </tr>\n",
       "    <tr>\n",
       "      <th>82</th>\n",
       "      <td>2</td>\n",
       "      <td>50</td>\n",
       "      <td>высшее</td>\n",
       "      <td>0</td>\n",
       "      <td>женат / замужем</td>\n",
       "      <td>0</td>\n",
       "      <td>F</td>\n",
       "      <td>сотрудник</td>\n",
       "      <td>0</td>\n",
       "      <td>NaN</td>\n",
       "      <td>жилье</td>\n",
       "    </tr>\n",
       "    <tr>\n",
       "      <th>83</th>\n",
       "      <td>0</td>\n",
       "      <td>52</td>\n",
       "      <td>среднее</td>\n",
       "      <td>1</td>\n",
       "      <td>женат / замужем</td>\n",
       "      <td>0</td>\n",
       "      <td>M</td>\n",
       "      <td>сотрудник</td>\n",
       "      <td>0</td>\n",
       "      <td>NaN</td>\n",
       "      <td>жилье</td>\n",
       "    </tr>\n",
       "  </tbody>\n",
       "</table>\n",
       "</div>"
      ],
      "text/plain": [
       "    children  dob_years education  education_id          family_status  \\\n",
       "12         0         65   среднее             1       гражданский брак   \n",
       "26         0         41   среднее             1        женат / замужем   \n",
       "29         0         63   среднее             1  Не женат / не замужем   \n",
       "41         0         50   среднее             1        женат / замужем   \n",
       "55         0         54   среднее             1       гражданский брак   \n",
       "65         0         21   среднее             1  Не женат / не замужем   \n",
       "67         0         52    высшее             0        женат / замужем   \n",
       "72         1         32    высшее             0        женат / замужем   \n",
       "82         2         50    высшее             0        женат / замужем   \n",
       "83         0         52   среднее             1        женат / замужем   \n",
       "\n",
       "    family_status_id gender  income_type  debt  total_income  \\\n",
       "12                 1      M    пенсионер     0           NaN   \n",
       "26                 0      M  госслужащий     0           NaN   \n",
       "29                 4      F    пенсионер     0           NaN   \n",
       "41                 0      F  госслужащий     0           NaN   \n",
       "55                 1      F    пенсионер     1           NaN   \n",
       "65                 4      M    компаньон     0           NaN   \n",
       "67                 0      F    пенсионер     0           NaN   \n",
       "72                 0      M  госслужащий     0           NaN   \n",
       "82                 0      F    сотрудник     0           NaN   \n",
       "83                 0      M    сотрудник     0           NaN   \n",
       "\n",
       "                                  purpose  \n",
       "12                        сыграть свадьбу  \n",
       "26                            образование  \n",
       "29       строительство жилой недвижимости  \n",
       "41       сделка с подержанным автомобилем  \n",
       "55                        сыграть свадьбу  \n",
       "65  операции с коммерческой недвижимостью  \n",
       "67                покупка жилья для семьи  \n",
       "72  операции с коммерческой недвижимостью  \n",
       "82                                  жилье  \n",
       "83                                  жилье  "
      ]
     },
     "execution_count": 8,
     "metadata": {},
     "output_type": "execute_result"
    }
   ],
   "source": [
    "df[df['total_income'].isna()].head(10)"
   ]
  },
  {
   "cell_type": "markdown",
   "metadata": {},
   "source": [
    "Можно сделать вывод, что отсутствие информации о ежемесячном доходе не связано ни с одной характеристикой, приведенной в таблице. Сюда попадают клиенты разного пола и возраста, семейного положения, уровня образования и типа занятости. Они берут кредиты с разной целью. Таким образом, посчитаем эти пропуски случайными и заполним их.\n",
    "\n",
    "Чтобы примерно оценить типичные значения ежемесячного дохода в данной выборке, найдем максимальное, минимальное значение, среднее арифметическое и медиану."
   ]
  },
  {
   "cell_type": "code",
   "execution_count": 9,
   "metadata": {},
   "outputs": [
    {
     "name": "stdout",
     "output_type": "stream",
     "text": [
      "Максимальный ежемесячный доход в выборке - 2265604 рублей\n",
      "Минимальный ежемесячный доход в выборке - 20667 рублей\n",
      "Средний ежемесячный доход в выборке 167422 рублей\n",
      "Медианный ежемесячный доход в выборке 145018 рублей\n"
     ]
    }
   ],
   "source": [
    "max_income = df['total_income'].max()\n",
    "min_income = df['total_income'].min()\n",
    "mean_income = df['total_income'].mean()\n",
    "median_income = df['total_income'].median()\n",
    "print(f'Максимальный ежемесячный доход в выборке - {max_income:.0f} рублей')\n",
    "print(f'Минимальный ежемесячный доход в выборке - {min_income:.0f} рублей')\n",
    "print(f'Средний ежемесячный доход в выборке {mean_income:.0f} рублей')\n",
    "print(f'Медианный ежемесячный доход в выборке {median_income:.0f} рублей')"
   ]
  },
  {
   "cell_type": "markdown",
   "metadata": {},
   "source": [
    "Из рассчитанных выше характеристик видно, что уровень дохода клиентов в представленной выборке очень разный. Максимальный доход превышает минимальный более, чем в 100 раз. На основании этого можно предположить, что в представленной совокупности данных могут присутствовать \"выбросы\" - нехарактерные для изучаемой выборки, слишком большие или слишком малые значения. В этом случае для характеристики центральной тенденции в выборке следует применять медиану. В то же время доход может сильно дифференцироваться в зависимости от типа занятости: доходы безработного или пенсионера будут сильно ниже, чем у предпринимателя, например. Таким образом, заполним пропущенные значения в данных о ежемесячном доходе рассчитанным отдельно для каждой группы по типу занятости медианным значением:"
   ]
  },
  {
   "cell_type": "code",
   "execution_count": 10,
   "metadata": {},
   "outputs": [
    {
     "data": {
      "text/plain": [
       "children            0\n",
       "dob_years           0\n",
       "education           0\n",
       "education_id        0\n",
       "family_status       0\n",
       "family_status_id    0\n",
       "gender              0\n",
       "income_type         0\n",
       "debt                0\n",
       "total_income        0\n",
       "purpose             0\n",
       "dtype: int64"
      ]
     },
     "execution_count": 10,
     "metadata": {},
     "output_type": "execute_result"
    }
   ],
   "source": [
    "# пересохраним данные столбца 'total_income' с заполненными медианным значением пропусками\n",
    "df['total_income'] = df['total_income'].fillna(df.groupby('income_type')['total_income'].transform('median'))\n",
    "df.isna().sum()\n"
   ]
  },
  {
   "cell_type": "markdown",
   "metadata": {},
   "source": [
    "Вызвав методы *isna()* и *sum()* мы убедились в том, что все пропуски заполнены."
   ]
  },
  {
   "cell_type": "markdown",
   "metadata": {},
   "source": [
    "### Замена типа данных\n",
    "\n",
    "Данные о ежемесячном доходе в таблице приведены в виде десятичных дробей с шестью знаками после запятой. Такой вид представления загромождает массив. Для более простого восприятия и большей наглядности заменим вещественный тип данных в этом столбце на целочисленный. При переводе значений в числа используют методы *to_numeric()* и *astype()*. Однако особенность метода *to_numeric()* в том, что при переводе все числа будут иметь тип *float*. В нужный тип значения переводят методом *astype()*. Выведем первые 5 строк таблицы на экран, чтобы убедиться."
   ]
  },
  {
   "cell_type": "code",
   "execution_count": 11,
   "metadata": {},
   "outputs": [
    {
     "data": {
      "text/html": [
       "<div>\n",
       "<style scoped>\n",
       "    .dataframe tbody tr th:only-of-type {\n",
       "        vertical-align: middle;\n",
       "    }\n",
       "\n",
       "    .dataframe tbody tr th {\n",
       "        vertical-align: top;\n",
       "    }\n",
       "\n",
       "    .dataframe thead th {\n",
       "        text-align: right;\n",
       "    }\n",
       "</style>\n",
       "<table border=\"1\" class=\"dataframe\">\n",
       "  <thead>\n",
       "    <tr style=\"text-align: right;\">\n",
       "      <th></th>\n",
       "      <th>children</th>\n",
       "      <th>dob_years</th>\n",
       "      <th>education</th>\n",
       "      <th>education_id</th>\n",
       "      <th>family_status</th>\n",
       "      <th>family_status_id</th>\n",
       "      <th>gender</th>\n",
       "      <th>income_type</th>\n",
       "      <th>debt</th>\n",
       "      <th>total_income</th>\n",
       "      <th>purpose</th>\n",
       "    </tr>\n",
       "  </thead>\n",
       "  <tbody>\n",
       "    <tr>\n",
       "      <th>0</th>\n",
       "      <td>1</td>\n",
       "      <td>42</td>\n",
       "      <td>высшее</td>\n",
       "      <td>0</td>\n",
       "      <td>женат / замужем</td>\n",
       "      <td>0</td>\n",
       "      <td>F</td>\n",
       "      <td>сотрудник</td>\n",
       "      <td>0</td>\n",
       "      <td>253875</td>\n",
       "      <td>покупка жилья</td>\n",
       "    </tr>\n",
       "    <tr>\n",
       "      <th>1</th>\n",
       "      <td>1</td>\n",
       "      <td>36</td>\n",
       "      <td>среднее</td>\n",
       "      <td>1</td>\n",
       "      <td>женат / замужем</td>\n",
       "      <td>0</td>\n",
       "      <td>F</td>\n",
       "      <td>сотрудник</td>\n",
       "      <td>0</td>\n",
       "      <td>112080</td>\n",
       "      <td>приобретение автомобиля</td>\n",
       "    </tr>\n",
       "    <tr>\n",
       "      <th>2</th>\n",
       "      <td>0</td>\n",
       "      <td>33</td>\n",
       "      <td>Среднее</td>\n",
       "      <td>1</td>\n",
       "      <td>женат / замужем</td>\n",
       "      <td>0</td>\n",
       "      <td>M</td>\n",
       "      <td>сотрудник</td>\n",
       "      <td>0</td>\n",
       "      <td>145885</td>\n",
       "      <td>покупка жилья</td>\n",
       "    </tr>\n",
       "    <tr>\n",
       "      <th>3</th>\n",
       "      <td>3</td>\n",
       "      <td>32</td>\n",
       "      <td>среднее</td>\n",
       "      <td>1</td>\n",
       "      <td>женат / замужем</td>\n",
       "      <td>0</td>\n",
       "      <td>M</td>\n",
       "      <td>сотрудник</td>\n",
       "      <td>0</td>\n",
       "      <td>267628</td>\n",
       "      <td>дополнительное образование</td>\n",
       "    </tr>\n",
       "    <tr>\n",
       "      <th>4</th>\n",
       "      <td>0</td>\n",
       "      <td>53</td>\n",
       "      <td>среднее</td>\n",
       "      <td>1</td>\n",
       "      <td>гражданский брак</td>\n",
       "      <td>1</td>\n",
       "      <td>F</td>\n",
       "      <td>пенсионер</td>\n",
       "      <td>0</td>\n",
       "      <td>158616</td>\n",
       "      <td>сыграть свадьбу</td>\n",
       "    </tr>\n",
       "  </tbody>\n",
       "</table>\n",
       "</div>"
      ],
      "text/plain": [
       "   children  dob_years education  education_id     family_status  \\\n",
       "0         1         42    высшее             0   женат / замужем   \n",
       "1         1         36   среднее             1   женат / замужем   \n",
       "2         0         33   Среднее             1   женат / замужем   \n",
       "3         3         32   среднее             1   женат / замужем   \n",
       "4         0         53   среднее             1  гражданский брак   \n",
       "\n",
       "   family_status_id gender income_type  debt  total_income  \\\n",
       "0                 0      F   сотрудник     0        253875   \n",
       "1                 0      F   сотрудник     0        112080   \n",
       "2                 0      M   сотрудник     0        145885   \n",
       "3                 0      M   сотрудник     0        267628   \n",
       "4                 1      F   пенсионер     0        158616   \n",
       "\n",
       "                      purpose  \n",
       "0               покупка жилья  \n",
       "1     приобретение автомобиля  \n",
       "2               покупка жилья  \n",
       "3  дополнительное образование  \n",
       "4             сыграть свадьбу  "
      ]
     },
     "execution_count": 11,
     "metadata": {},
     "output_type": "execute_result"
    }
   ],
   "source": [
    "df['total_income'] = df['total_income'].astype('int')\n",
    "df.head()"
   ]
  },
  {
   "cell_type": "markdown",
   "metadata": {},
   "source": [
    "**Вывод**"
   ]
  },
  {
   "cell_type": "markdown",
   "metadata": {},
   "source": [
    "Заменив данные столбца о ежемесячном доходе целочисленными значениями, мы упростили восприятие данного показателя. Кроме того, в таком виде сведения будет проще категоризовать в последующих шагах исследования."
   ]
  },
  {
   "cell_type": "markdown",
   "metadata": {},
   "source": [
    "### Обработка дубликатов и подозрительных значений\n",
    "\n",
    "Посчитаем явные дубликаты в таблице одной командой:"
   ]
  },
  {
   "cell_type": "code",
   "execution_count": 12,
   "metadata": {},
   "outputs": [
    {
     "data": {
      "text/plain": [
       "54"
      ]
     },
     "execution_count": 12,
     "metadata": {},
     "output_type": "execute_result"
    }
   ],
   "source": [
    "df.duplicated().sum()"
   ]
  },
  {
   "cell_type": "markdown",
   "metadata": {},
   "source": [
    "Причина появления явных дубликатов в данных чаще всего таится в некорректной выгрузке информации. Однако, это легко исправить. Вызовем специальный метод **pandas**, чтобы удалить явные дубликаты:"
   ]
  },
  {
   "cell_type": "code",
   "execution_count": 13,
   "metadata": {},
   "outputs": [
    {
     "data": {
      "text/plain": [
       "(21471, 11)"
      ]
     },
     "execution_count": 13,
     "metadata": {},
     "output_type": "execute_result"
    }
   ],
   "source": [
    "# удаление явных дубликатов (с удалением старых индексов и формированием новых)\n",
    "df = df.drop_duplicates().reset_index(drop=True)\n",
    "# посмотрим размеры измененной таблицы\n",
    "df.shape"
   ]
  },
  {
   "cell_type": "markdown",
   "metadata": {},
   "source": [
    "Количество строк в таблице уменьшилось (в первоначальном варианте их было 21525). Однако, ещё раз посчитаем явные дубликаты в таблице - убедимся, что полностью от них избавились:"
   ]
  },
  {
   "cell_type": "code",
   "execution_count": 14,
   "metadata": {},
   "outputs": [
    {
     "data": {
      "text/plain": [
       "0"
      ]
     },
     "execution_count": 14,
     "metadata": {},
     "output_type": "execute_result"
    }
   ],
   "source": [
    "df.duplicated().sum()"
   ]
  },
  {
   "cell_type": "markdown",
   "metadata": {},
   "source": [
    "Теперь избавимся от неявных дубликатов в таблице. Обратимся к столбцам, в которых содержатся числа. Выведем уникальные значения на экран, для удобства отсортируем их по возрастанию:"
   ]
  },
  {
   "cell_type": "code",
   "execution_count": 15,
   "metadata": {},
   "outputs": [
    {
     "data": {
      "text/plain": [
       "[-1, 0, 1, 2, 3, 4, 5, 20]"
      ]
     },
     "execution_count": 15,
     "metadata": {},
     "output_type": "execute_result"
    }
   ],
   "source": [
    "sorted(df['children'].unique())"
   ]
  },
  {
   "cell_type": "markdown",
   "metadata": {},
   "source": [
    "Очевидно, отрицательное количество детей невозможно. Устраним ошибку ввода, заменив -1 на 1, и сразу проверим, как произвелась замена:"
   ]
  },
  {
   "cell_type": "code",
   "execution_count": 16,
   "metadata": {},
   "outputs": [
    {
     "data": {
      "text/plain": [
       "[0, 1, 2, 3, 4, 5, 20]"
      ]
     },
     "execution_count": 16,
     "metadata": {},
     "output_type": "execute_result"
    }
   ],
   "source": [
    "df['children'] = df['children'].replace(-1, 1)\n",
    "sorted(df['children'].unique())"
   ]
  },
  {
   "cell_type": "markdown",
   "metadata": {},
   "source": [
    "20 детей у одного человека выглядит подозрительно. Посмотрим на всю строку целиком, прибегнем к логической индексации:"
   ]
  },
  {
   "cell_type": "code",
   "execution_count": 17,
   "metadata": {},
   "outputs": [
    {
     "data": {
      "text/html": [
       "<div>\n",
       "<style scoped>\n",
       "    .dataframe tbody tr th:only-of-type {\n",
       "        vertical-align: middle;\n",
       "    }\n",
       "\n",
       "    .dataframe tbody tr th {\n",
       "        vertical-align: top;\n",
       "    }\n",
       "\n",
       "    .dataframe thead th {\n",
       "        text-align: right;\n",
       "    }\n",
       "</style>\n",
       "<table border=\"1\" class=\"dataframe\">\n",
       "  <thead>\n",
       "    <tr style=\"text-align: right;\">\n",
       "      <th></th>\n",
       "      <th>children</th>\n",
       "      <th>dob_years</th>\n",
       "      <th>education</th>\n",
       "      <th>education_id</th>\n",
       "      <th>family_status</th>\n",
       "      <th>family_status_id</th>\n",
       "      <th>gender</th>\n",
       "      <th>income_type</th>\n",
       "      <th>debt</th>\n",
       "      <th>total_income</th>\n",
       "      <th>purpose</th>\n",
       "    </tr>\n",
       "  </thead>\n",
       "  <tbody>\n",
       "    <tr>\n",
       "      <th>606</th>\n",
       "      <td>20</td>\n",
       "      <td>21</td>\n",
       "      <td>среднее</td>\n",
       "      <td>1</td>\n",
       "      <td>женат / замужем</td>\n",
       "      <td>0</td>\n",
       "      <td>M</td>\n",
       "      <td>компаньон</td>\n",
       "      <td>0</td>\n",
       "      <td>145334</td>\n",
       "      <td>покупка жилья</td>\n",
       "    </tr>\n",
       "    <tr>\n",
       "      <th>720</th>\n",
       "      <td>20</td>\n",
       "      <td>44</td>\n",
       "      <td>среднее</td>\n",
       "      <td>1</td>\n",
       "      <td>женат / замужем</td>\n",
       "      <td>0</td>\n",
       "      <td>F</td>\n",
       "      <td>компаньон</td>\n",
       "      <td>0</td>\n",
       "      <td>112998</td>\n",
       "      <td>покупка недвижимости</td>\n",
       "    </tr>\n",
       "    <tr>\n",
       "      <th>1074</th>\n",
       "      <td>20</td>\n",
       "      <td>56</td>\n",
       "      <td>среднее</td>\n",
       "      <td>1</td>\n",
       "      <td>женат / замужем</td>\n",
       "      <td>0</td>\n",
       "      <td>F</td>\n",
       "      <td>сотрудник</td>\n",
       "      <td>1</td>\n",
       "      <td>229518</td>\n",
       "      <td>получение образования</td>\n",
       "    </tr>\n",
       "    <tr>\n",
       "      <th>2510</th>\n",
       "      <td>20</td>\n",
       "      <td>59</td>\n",
       "      <td>высшее</td>\n",
       "      <td>0</td>\n",
       "      <td>вдовец / вдова</td>\n",
       "      <td>2</td>\n",
       "      <td>F</td>\n",
       "      <td>сотрудник</td>\n",
       "      <td>0</td>\n",
       "      <td>264474</td>\n",
       "      <td>операции с коммерческой недвижимостью</td>\n",
       "    </tr>\n",
       "    <tr>\n",
       "      <th>2940</th>\n",
       "      <td>20</td>\n",
       "      <td>0</td>\n",
       "      <td>среднее</td>\n",
       "      <td>1</td>\n",
       "      <td>женат / замужем</td>\n",
       "      <td>0</td>\n",
       "      <td>F</td>\n",
       "      <td>сотрудник</td>\n",
       "      <td>0</td>\n",
       "      <td>199739</td>\n",
       "      <td>на покупку автомобиля</td>\n",
       "    </tr>\n",
       "    <tr>\n",
       "      <th>...</th>\n",
       "      <td>...</td>\n",
       "      <td>...</td>\n",
       "      <td>...</td>\n",
       "      <td>...</td>\n",
       "      <td>...</td>\n",
       "      <td>...</td>\n",
       "      <td>...</td>\n",
       "      <td>...</td>\n",
       "      <td>...</td>\n",
       "      <td>...</td>\n",
       "      <td>...</td>\n",
       "    </tr>\n",
       "    <tr>\n",
       "      <th>20958</th>\n",
       "      <td>20</td>\n",
       "      <td>40</td>\n",
       "      <td>среднее</td>\n",
       "      <td>1</td>\n",
       "      <td>женат / замужем</td>\n",
       "      <td>0</td>\n",
       "      <td>F</td>\n",
       "      <td>сотрудник</td>\n",
       "      <td>1</td>\n",
       "      <td>133524</td>\n",
       "      <td>свой автомобиль</td>\n",
       "    </tr>\n",
       "    <tr>\n",
       "      <th>21272</th>\n",
       "      <td>20</td>\n",
       "      <td>37</td>\n",
       "      <td>среднее</td>\n",
       "      <td>1</td>\n",
       "      <td>женат / замужем</td>\n",
       "      <td>0</td>\n",
       "      <td>F</td>\n",
       "      <td>компаньон</td>\n",
       "      <td>0</td>\n",
       "      <td>102986</td>\n",
       "      <td>профильное образование</td>\n",
       "    </tr>\n",
       "    <tr>\n",
       "      <th>21337</th>\n",
       "      <td>20</td>\n",
       "      <td>53</td>\n",
       "      <td>среднее</td>\n",
       "      <td>1</td>\n",
       "      <td>женат / замужем</td>\n",
       "      <td>0</td>\n",
       "      <td>M</td>\n",
       "      <td>компаньон</td>\n",
       "      <td>0</td>\n",
       "      <td>172357</td>\n",
       "      <td>покупка жилой недвижимости</td>\n",
       "    </tr>\n",
       "    <tr>\n",
       "      <th>21351</th>\n",
       "      <td>20</td>\n",
       "      <td>52</td>\n",
       "      <td>среднее</td>\n",
       "      <td>1</td>\n",
       "      <td>женат / замужем</td>\n",
       "      <td>0</td>\n",
       "      <td>M</td>\n",
       "      <td>компаньон</td>\n",
       "      <td>0</td>\n",
       "      <td>156629</td>\n",
       "      <td>операции со своей недвижимостью</td>\n",
       "    </tr>\n",
       "    <tr>\n",
       "      <th>21437</th>\n",
       "      <td>20</td>\n",
       "      <td>27</td>\n",
       "      <td>среднее</td>\n",
       "      <td>1</td>\n",
       "      <td>женат / замужем</td>\n",
       "      <td>0</td>\n",
       "      <td>F</td>\n",
       "      <td>сотрудник</td>\n",
       "      <td>0</td>\n",
       "      <td>155520</td>\n",
       "      <td>на покупку подержанного автомобиля</td>\n",
       "    </tr>\n",
       "  </tbody>\n",
       "</table>\n",
       "<p>76 rows × 11 columns</p>\n",
       "</div>"
      ],
      "text/plain": [
       "       children  dob_years education  education_id    family_status  \\\n",
       "606          20         21   среднее             1  женат / замужем   \n",
       "720          20         44   среднее             1  женат / замужем   \n",
       "1074         20         56   среднее             1  женат / замужем   \n",
       "2510         20         59    высшее             0   вдовец / вдова   \n",
       "2940         20          0   среднее             1  женат / замужем   \n",
       "...         ...        ...       ...           ...              ...   \n",
       "20958        20         40   среднее             1  женат / замужем   \n",
       "21272        20         37   среднее             1  женат / замужем   \n",
       "21337        20         53   среднее             1  женат / замужем   \n",
       "21351        20         52   среднее             1  женат / замужем   \n",
       "21437        20         27   среднее             1  женат / замужем   \n",
       "\n",
       "       family_status_id gender income_type  debt  total_income  \\\n",
       "606                   0      M   компаньон     0        145334   \n",
       "720                   0      F   компаньон     0        112998   \n",
       "1074                  0      F   сотрудник     1        229518   \n",
       "2510                  2      F   сотрудник     0        264474   \n",
       "2940                  0      F   сотрудник     0        199739   \n",
       "...                 ...    ...         ...   ...           ...   \n",
       "20958                 0      F   сотрудник     1        133524   \n",
       "21272                 0      F   компаньон     0        102986   \n",
       "21337                 0      M   компаньон     0        172357   \n",
       "21351                 0      M   компаньон     0        156629   \n",
       "21437                 0      F   сотрудник     0        155520   \n",
       "\n",
       "                                     purpose  \n",
       "606                            покупка жилья  \n",
       "720                     покупка недвижимости  \n",
       "1074                   получение образования  \n",
       "2510   операции с коммерческой недвижимостью  \n",
       "2940                   на покупку автомобиля  \n",
       "...                                      ...  \n",
       "20958                        свой автомобиль  \n",
       "21272                 профильное образование  \n",
       "21337             покупка жилой недвижимости  \n",
       "21351        операции со своей недвижимостью  \n",
       "21437     на покупку подержанного автомобиля  \n",
       "\n",
       "[76 rows x 11 columns]"
      ]
     },
     "execution_count": 17,
     "metadata": {},
     "output_type": "execute_result"
    }
   ],
   "source": [
    "df[df['children'] == 20]"
   ]
  },
  {
   "cell_type": "markdown",
   "metadata": {},
   "source": [
    "Неожиданный поворот событий: таких многодетных семей в исследуемом массиве оказалось аж 76. Однако, обзавестись двадцатью детьми, пусть даже приёмными, к 21 году нереально. Скорее всего в данном случае снова имеет место ошибка ввода. Выделим людей молодого возраста (скажем, до 40 лет) и заменим количество детей с 20 на 2, а затем посчитаем сколько супермногодетных клиентов в гендерном разрезе у нас останется:"
   ]
  },
  {
   "cell_type": "code",
   "execution_count": 18,
   "metadata": {},
   "outputs": [
    {
     "data": {
      "text/plain": [
       "F    28\n",
       "M    12\n",
       "Name: gender, dtype: int64"
      ]
     },
     "execution_count": 18,
     "metadata": {},
     "output_type": "execute_result"
    }
   ],
   "source": [
    "df.loc[(df['children'] == 20) & (df['dob_years'] <= 40), 'children'] = 2\n",
    "df[df['children'] == 20]['gender'].value_counts()"
   ]
  },
  {
   "cell_type": "markdown",
   "metadata": {},
   "source": [
    "В нашей выборке осталось 28 женщин и 12 мужчин старше 40 лет, имеющих 20 детей. Историческая справка: русский крестьянин Фёдор Васильев был женат дважды и имел 87 детей: 69 от первой жены и 18 от второй. Его первая жена является мировым рекордсменом по числу рождённых детей и входит в Книгу рекордов Гиннесса. Таким образом, посчитаем, что от подозрительных значений в графе *'children'*, мешающих нашему исследованию, мы избавились\n",
    "\n",
    "Посмотрим, что хранит в себе столбец с возрастом:"
   ]
  },
  {
   "cell_type": "code",
   "execution_count": 19,
   "metadata": {},
   "outputs": [
    {
     "name": "stdout",
     "output_type": "stream",
     "text": [
      "[0, 19, 20, 21, 22, 23, 24, 25, 26, 27, 28, 29, 30, 31, 32, 33, 34, 35, 36, 37, 38, 39, 40, 41, 42, 43, 44, 45, 46, 47, 48, 49, 50, 51, 52, 53, 54, 55, 56, 57, 58, 59, 60, 61, 62, 63, 64, 65, 66, 67, 68, 69, 70, 71, 72, 73, 74, 75]\n"
     ]
    }
   ],
   "source": [
    "print(sorted(df['dob_years'].unique()))"
   ]
  },
  {
   "cell_type": "markdown",
   "metadata": {},
   "source": [
    "Возраст \"0\" похож на пропуск, заменим его на средний возраст клиентов, попавшив в выборку, приведём результат к целым числам:"
   ]
  },
  {
   "cell_type": "code",
   "execution_count": 20,
   "metadata": {},
   "outputs": [
    {
     "name": "stdout",
     "output_type": "stream",
     "text": [
      "[19, 20, 21, 22, 23, 24, 25, 26, 27, 28, 29, 30, 31, 32, 33, 34, 35, 36, 37, 38, 39, 40, 41, 42, 43, 44, 45, 46, 47, 48, 49, 50, 51, 52, 53, 54, 55, 56, 57, 58, 59, 60, 61, 62, 63, 64, 65, 66, 67, 68, 69, 70, 71, 72, 73, 74, 75]\n"
     ]
    }
   ],
   "source": [
    "df['dob_years'] = df['dob_years'].replace(0, df['dob_years'].mean())\n",
    "df['dob_years'] = df['dob_years'].astype('int')\n",
    "print(sorted(df['dob_years'].unique()))"
   ]
  },
  {
   "cell_type": "markdown",
   "metadata": {},
   "source": [
    "Проверим, какие данные хранятся в столбцах *'education_id'*, *'family_status_id'*, *'debt'* и *'gender'*:"
   ]
  },
  {
   "cell_type": "code",
   "execution_count": 21,
   "metadata": {},
   "outputs": [
    {
     "data": {
      "text/plain": [
       "[0, 1, 2, 3, 4]"
      ]
     },
     "execution_count": 21,
     "metadata": {},
     "output_type": "execute_result"
    }
   ],
   "source": [
    "sorted(df['education_id'].unique())"
   ]
  },
  {
   "cell_type": "code",
   "execution_count": 22,
   "metadata": {},
   "outputs": [
    {
     "data": {
      "text/plain": [
       "[0, 1, 2, 3, 4]"
      ]
     },
     "execution_count": 22,
     "metadata": {},
     "output_type": "execute_result"
    }
   ],
   "source": [
    "sorted(df['family_status_id'].unique())"
   ]
  },
  {
   "cell_type": "code",
   "execution_count": 23,
   "metadata": {
    "scrolled": true
   },
   "outputs": [
    {
     "data": {
      "text/plain": [
       "[0, 1]"
      ]
     },
     "execution_count": 23,
     "metadata": {},
     "output_type": "execute_result"
    }
   ],
   "source": [
    "sorted(df['debt'].unique())"
   ]
  },
  {
   "cell_type": "markdown",
   "metadata": {},
   "source": [
    "Данные в графах *'education_id'*, *'family_status_id'*, *'debt'* не имеют подозрительных значений и представлены в удобном для исследования виде. А вот столбец *'gender'* подготовил нам сюрприз:"
   ]
  },
  {
   "cell_type": "code",
   "execution_count": 24,
   "metadata": {},
   "outputs": [
    {
     "data": {
      "text/plain": [
       "['F', 'M', 'XNA']"
      ]
     },
     "execution_count": 24,
     "metadata": {},
     "output_type": "execute_result"
    }
   ],
   "source": [
    "sorted(df['gender'].unique())"
   ]
  },
  {
   "cell_type": "markdown",
   "metadata": {},
   "source": [
    "В представленной совокупности нашёлся \"неопознанный\" пол. Выведем отдельно на экран строки с этим подозрительным значением, посмотрим, сколько их:"
   ]
  },
  {
   "cell_type": "code",
   "execution_count": 25,
   "metadata": {},
   "outputs": [
    {
     "data": {
      "text/html": [
       "<div>\n",
       "<style scoped>\n",
       "    .dataframe tbody tr th:only-of-type {\n",
       "        vertical-align: middle;\n",
       "    }\n",
       "\n",
       "    .dataframe tbody tr th {\n",
       "        vertical-align: top;\n",
       "    }\n",
       "\n",
       "    .dataframe thead th {\n",
       "        text-align: right;\n",
       "    }\n",
       "</style>\n",
       "<table border=\"1\" class=\"dataframe\">\n",
       "  <thead>\n",
       "    <tr style=\"text-align: right;\">\n",
       "      <th></th>\n",
       "      <th>children</th>\n",
       "      <th>dob_years</th>\n",
       "      <th>education</th>\n",
       "      <th>education_id</th>\n",
       "      <th>family_status</th>\n",
       "      <th>family_status_id</th>\n",
       "      <th>gender</th>\n",
       "      <th>income_type</th>\n",
       "      <th>debt</th>\n",
       "      <th>total_income</th>\n",
       "      <th>purpose</th>\n",
       "    </tr>\n",
       "  </thead>\n",
       "  <tbody>\n",
       "    <tr>\n",
       "      <th>10690</th>\n",
       "      <td>0</td>\n",
       "      <td>24</td>\n",
       "      <td>неоконченное высшее</td>\n",
       "      <td>2</td>\n",
       "      <td>гражданский брак</td>\n",
       "      <td>1</td>\n",
       "      <td>XNA</td>\n",
       "      <td>компаньон</td>\n",
       "      <td>0</td>\n",
       "      <td>203905</td>\n",
       "      <td>покупка недвижимости</td>\n",
       "    </tr>\n",
       "  </tbody>\n",
       "</table>\n",
       "</div>"
      ],
      "text/plain": [
       "       children  dob_years            education  education_id  \\\n",
       "10690         0         24  неоконченное высшее             2   \n",
       "\n",
       "          family_status  family_status_id gender income_type  debt  \\\n",
       "10690  гражданский брак                 1    XNA   компаньон     0   \n",
       "\n",
       "       total_income               purpose  \n",
       "10690        203905  покупка недвижимости  "
      ]
     },
     "execution_count": 25,
     "metadata": {},
     "output_type": "execute_result"
    }
   ],
   "source": [
    "df[df['gender'] == 'XNA']"
   ]
  },
  {
   "cell_type": "markdown",
   "metadata": {},
   "source": [
    "\"Поломанных\" строк оказалось совсем немного. Заменим \"неопознанный\" пол на любой из известных (например, 'M'):"
   ]
  },
  {
   "cell_type": "code",
   "execution_count": 26,
   "metadata": {},
   "outputs": [
    {
     "data": {
      "text/plain": [
       "['F', 'M']"
      ]
     },
     "execution_count": 26,
     "metadata": {},
     "output_type": "execute_result"
    }
   ],
   "source": [
    "df['gender'] = df['gender'].replace('XNA', 'M')\n",
    "sorted(df['gender'].unique())"
   ]
  },
  {
   "cell_type": "markdown",
   "metadata": {},
   "source": [
    "Во время обзора первых и последних 10 строк таблицы мы заметили, что в графе 'education' дубликаты скрыты за буквами разных регистров. Убедимся в этом, вызвав метод value_counts(0):"
   ]
  },
  {
   "cell_type": "code",
   "execution_count": 27,
   "metadata": {},
   "outputs": [
    {
     "data": {
      "text/plain": [
       "среднее                13705\n",
       "высшее                  4710\n",
       "СРЕДНЕЕ                  772\n",
       "Среднее                  711\n",
       "неоконченное высшее      668\n",
       "ВЫСШЕЕ                   273\n",
       "Высшее                   268\n",
       "начальное                250\n",
       "Неоконченное высшее       47\n",
       "НЕОКОНЧЕННОЕ ВЫСШЕЕ       29\n",
       "НАЧАЛЬНОЕ                 17\n",
       "Начальное                 15\n",
       "ученая степень             4\n",
       "Ученая степень             1\n",
       "УЧЕНАЯ СТЕПЕНЬ             1\n",
       "Name: education, dtype: int64"
      ]
     },
     "execution_count": 27,
     "metadata": {},
     "output_type": "execute_result"
    }
   ],
   "source": [
    "df['education'].value_counts()"
   ]
  },
  {
   "cell_type": "markdown",
   "metadata": {},
   "source": [
    "Таким образом, мы выяснили,что образование в исследуемой совокупности представлено пятью категориями, но распознается большее количество групп из-за различного способа написания одного и того же слова (человеческий фактор, отсутствие единого шаблона заполнения анкеты). Исправим это, приведя все буквы в данном столбце к нижнему регистру:"
   ]
  },
  {
   "cell_type": "code",
   "execution_count": 28,
   "metadata": {},
   "outputs": [
    {
     "data": {
      "text/plain": [
       "среднее                15188\n",
       "высшее                  5251\n",
       "неоконченное высшее      744\n",
       "начальное                282\n",
       "ученая степень             6\n",
       "Name: education, dtype: int64"
      ]
     },
     "execution_count": 28,
     "metadata": {},
     "output_type": "execute_result"
    }
   ],
   "source": [
    "df['education'] = df['education'].str.lower()\n",
    "df['education'].value_counts()"
   ]
  },
  {
   "cell_type": "markdown",
   "metadata": {},
   "source": [
    "Ещё раз поищем явные дубликаты. Они могли появиться в результате наших действий."
   ]
  },
  {
   "cell_type": "code",
   "execution_count": 29,
   "metadata": {},
   "outputs": [
    {
     "data": {
      "text/plain": [
       "17"
      ]
     },
     "execution_count": 29,
     "metadata": {},
     "output_type": "execute_result"
    }
   ],
   "source": [
    "df.duplicated().sum()"
   ]
  },
  {
   "cell_type": "code",
   "execution_count": 30,
   "metadata": {},
   "outputs": [
    {
     "name": "stdout",
     "output_type": "stream",
     "text": [
      "(21454, 11)\n"
     ]
    },
    {
     "data": {
      "text/plain": [
       "0"
      ]
     },
     "execution_count": 30,
     "metadata": {},
     "output_type": "execute_result"
    }
   ],
   "source": [
    "# удаление явных дубликатов (с удалением старых индексов и формированием новых)\n",
    "df = df.drop_duplicates().reset_index(drop=True)\n",
    "# посмотрим размеры измененной таблицы\n",
    "print(df.shape)\n",
    "# посчитаем количество явных дубликатов\n",
    "df.duplicated().sum()"
   ]
  },
  {
   "cell_type": "markdown",
   "metadata": {},
   "source": [
    "Проверим, есть ли похожие проблемы в других столбцах со строковыми данными. Выведем уникальные значения и количество их упоминаний:"
   ]
  },
  {
   "cell_type": "code",
   "execution_count": 31,
   "metadata": {},
   "outputs": [
    {
     "data": {
      "text/plain": [
       "женат / замужем          12339\n",
       "гражданский брак          4151\n",
       "Не женат / не замужем     2810\n",
       "в разводе                 1195\n",
       "вдовец / вдова             959\n",
       "Name: family_status, dtype: int64"
      ]
     },
     "execution_count": 31,
     "metadata": {},
     "output_type": "execute_result"
    }
   ],
   "source": [
    "df['family_status'].value_counts()"
   ]
  },
  {
   "cell_type": "markdown",
   "metadata": {},
   "source": [
    "В графе с семейным положением нет скрытых дубликатов. Однако, категория \"Не женат / не замужем\" единственная из всех содержит сочетание букв верхнего и нижнего регистра, поэтому приведем её к аналогичному другим категориям виду:"
   ]
  },
  {
   "cell_type": "code",
   "execution_count": 32,
   "metadata": {},
   "outputs": [
    {
     "data": {
      "text/plain": [
       "женат / замужем          12339\n",
       "гражданский брак          4151\n",
       "не женат / не замужем     2810\n",
       "в разводе                 1195\n",
       "вдовец / вдова             959\n",
       "Name: family_status, dtype: int64"
      ]
     },
     "execution_count": 32,
     "metadata": {},
     "output_type": "execute_result"
    }
   ],
   "source": [
    "df['family_status'] = df['family_status'].str.lower()\n",
    "df['family_status'].value_counts()"
   ]
  },
  {
   "cell_type": "markdown",
   "metadata": {},
   "source": [
    "Аналогичным образом поступим с графой *'income_type'*:"
   ]
  },
  {
   "cell_type": "code",
   "execution_count": 33,
   "metadata": {},
   "outputs": [
    {
     "data": {
      "text/plain": [
       "сотрудник          11084\n",
       "компаньон           5078\n",
       "пенсионер           3829\n",
       "госслужащий         1457\n",
       "безработный            2\n",
       "предприниматель        2\n",
       "студент                1\n",
       "в декрете              1\n",
       "Name: income_type, dtype: int64"
      ]
     },
     "execution_count": 33,
     "metadata": {},
     "output_type": "execute_result"
    }
   ],
   "source": [
    "df['income_type'].value_counts()"
   ]
  },
  {
   "cell_type": "markdown",
   "metadata": {},
   "source": [
    "Графа с типом занятости представлена в  удобном для исследования виде.\n",
    "\n",
    "Проверим, какие уникальные значения содержит в себе столбец с целью получения кредита:"
   ]
  },
  {
   "cell_type": "code",
   "execution_count": 34,
   "metadata": {},
   "outputs": [
    {
     "data": {
      "text/plain": [
       "свадьба                                   791\n",
       "на проведение свадьбы                     768\n",
       "сыграть свадьбу                           765\n",
       "операции с недвижимостью                  675\n",
       "покупка коммерческой недвижимости         661\n",
       "операции с жильем                         652\n",
       "покупка жилья для сдачи                   651\n",
       "операции с коммерческой недвижимостью     650\n",
       "покупка жилья                             646\n",
       "жилье                                     646\n",
       "покупка жилья для семьи                   638\n",
       "строительство собственной недвижимости    635\n",
       "недвижимость                              633\n",
       "операции со своей недвижимостью           627\n",
       "строительство жилой недвижимости          624\n",
       "покупка недвижимости                      621\n",
       "покупка своего жилья                      620\n",
       "строительство недвижимости                619\n",
       "ремонт жилью                              607\n",
       "покупка жилой недвижимости                606\n",
       "на покупку своего автомобиля              505\n",
       "заняться высшим образованием              496\n",
       "автомобиль                                494\n",
       "сделка с подержанным автомобилем          486\n",
       "свой автомобиль                           478\n",
       "на покупку подержанного автомобиля        478\n",
       "автомобили                                478\n",
       "на покупку автомобиля                     471\n",
       "приобретение автомобиля                   461\n",
       "дополнительное образование                460\n",
       "сделка с автомобилем                      455\n",
       "высшее образование                        452\n",
       "образование                               447\n",
       "получение дополнительного образования     446\n",
       "получение образования                     442\n",
       "профильное образование                    436\n",
       "получение высшего образования             426\n",
       "заняться образованием                     408\n",
       "Name: purpose, dtype: int64"
      ]
     },
     "execution_count": 34,
     "metadata": {},
     "output_type": "execute_result"
    }
   ],
   "source": [
    "df['purpose'].value_counts()"
   ]
  },
  {
   "cell_type": "markdown",
   "metadata": {},
   "source": [
    "Так много разных целей. Но таких ли разных? И много ли? Разберемся с этим на следующих шагах предобработки данных.\n",
    "\n",
    "**Вывод**"
   ]
  },
  {
   "cell_type": "markdown",
   "metadata": {},
   "source": [
    "На этапе обработки дубликатов и подозрительных значений мы сначала выявили при помощи двух методов (*duplicated()* и *sum()*), а затем устранили явные дубликаты (полный повтор строки) методом *drop_duplicates()*. Далее мы проверили каждый из столбцов на предмет наличия в них скрытых дубликатов и также их устранили (для граф с количественными данными в основном использовали метод *unique()*, а для категориальных - *value_counts()*). В процессе нами были обнаружены подозрительные/нелогичные значения, от которых мы также избавились."
   ]
  },
  {
   "cell_type": "markdown",
   "metadata": {},
   "source": [
    "<a id='anchor_3'></a>\n",
    "## Лемматизация\n",
    "\n",
    "Графа целей получения кредита содержит в себе много вариантов этих целей. Однако, многие из них идентичны или схожи по смыслу. Необходимо привести данные этого столбца к унифицированному виду - выделить несколько основных целей получения кредита и перезаполнить графу. Для выполнения этой задачи прибегнем к **лемматизации** - приведению слова к его словарной форме (лемме). Одна из библиотек с функцией лемматизации на русском языке - *pymystem3*.\n",
    "\n",
    "Сузим наш список целей получения кредита к следующим основным категориям:\n",
    "* свадьба,\n",
    "* жильё/недвижимость,\n",
    "* получение образования,\n",
    "* покупка автомобиля,\n",
    "* другое.\n",
    "\n",
    "Для этого напишем функцию, которую потом через *apply()* применим к столбцу, чтобы она сразу сделала категоризацию, перезапишем рассматриваемый столбец:"
   ]
  },
  {
   "cell_type": "code",
   "execution_count": 35,
   "metadata": {},
   "outputs": [
    {
     "data": {
      "text/html": [
       "<div>\n",
       "<style scoped>\n",
       "    .dataframe tbody tr th:only-of-type {\n",
       "        vertical-align: middle;\n",
       "    }\n",
       "\n",
       "    .dataframe tbody tr th {\n",
       "        vertical-align: top;\n",
       "    }\n",
       "\n",
       "    .dataframe thead th {\n",
       "        text-align: right;\n",
       "    }\n",
       "</style>\n",
       "<table border=\"1\" class=\"dataframe\">\n",
       "  <thead>\n",
       "    <tr style=\"text-align: right;\">\n",
       "      <th></th>\n",
       "      <th>children</th>\n",
       "      <th>dob_years</th>\n",
       "      <th>education</th>\n",
       "      <th>education_id</th>\n",
       "      <th>family_status</th>\n",
       "      <th>family_status_id</th>\n",
       "      <th>gender</th>\n",
       "      <th>income_type</th>\n",
       "      <th>debt</th>\n",
       "      <th>total_income</th>\n",
       "      <th>purpose</th>\n",
       "    </tr>\n",
       "  </thead>\n",
       "  <tbody>\n",
       "    <tr>\n",
       "      <th>0</th>\n",
       "      <td>1</td>\n",
       "      <td>42</td>\n",
       "      <td>высшее</td>\n",
       "      <td>0</td>\n",
       "      <td>женат / замужем</td>\n",
       "      <td>0</td>\n",
       "      <td>F</td>\n",
       "      <td>сотрудник</td>\n",
       "      <td>0</td>\n",
       "      <td>253875</td>\n",
       "      <td>жильё/недвижимость</td>\n",
       "    </tr>\n",
       "    <tr>\n",
       "      <th>1</th>\n",
       "      <td>1</td>\n",
       "      <td>36</td>\n",
       "      <td>среднее</td>\n",
       "      <td>1</td>\n",
       "      <td>женат / замужем</td>\n",
       "      <td>0</td>\n",
       "      <td>F</td>\n",
       "      <td>сотрудник</td>\n",
       "      <td>0</td>\n",
       "      <td>112080</td>\n",
       "      <td>покупка автомобиля</td>\n",
       "    </tr>\n",
       "    <tr>\n",
       "      <th>2</th>\n",
       "      <td>0</td>\n",
       "      <td>33</td>\n",
       "      <td>среднее</td>\n",
       "      <td>1</td>\n",
       "      <td>женат / замужем</td>\n",
       "      <td>0</td>\n",
       "      <td>M</td>\n",
       "      <td>сотрудник</td>\n",
       "      <td>0</td>\n",
       "      <td>145885</td>\n",
       "      <td>жильё/недвижимость</td>\n",
       "    </tr>\n",
       "    <tr>\n",
       "      <th>3</th>\n",
       "      <td>3</td>\n",
       "      <td>32</td>\n",
       "      <td>среднее</td>\n",
       "      <td>1</td>\n",
       "      <td>женат / замужем</td>\n",
       "      <td>0</td>\n",
       "      <td>M</td>\n",
       "      <td>сотрудник</td>\n",
       "      <td>0</td>\n",
       "      <td>267628</td>\n",
       "      <td>получение образования</td>\n",
       "    </tr>\n",
       "    <tr>\n",
       "      <th>4</th>\n",
       "      <td>0</td>\n",
       "      <td>53</td>\n",
       "      <td>среднее</td>\n",
       "      <td>1</td>\n",
       "      <td>гражданский брак</td>\n",
       "      <td>1</td>\n",
       "      <td>F</td>\n",
       "      <td>пенсионер</td>\n",
       "      <td>0</td>\n",
       "      <td>158616</td>\n",
       "      <td>свадьба</td>\n",
       "    </tr>\n",
       "  </tbody>\n",
       "</table>\n",
       "</div>"
      ],
      "text/plain": [
       "   children  dob_years education  education_id     family_status  \\\n",
       "0         1         42    высшее             0   женат / замужем   \n",
       "1         1         36   среднее             1   женат / замужем   \n",
       "2         0         33   среднее             1   женат / замужем   \n",
       "3         3         32   среднее             1   женат / замужем   \n",
       "4         0         53   среднее             1  гражданский брак   \n",
       "\n",
       "   family_status_id gender income_type  debt  total_income  \\\n",
       "0                 0      F   сотрудник     0        253875   \n",
       "1                 0      F   сотрудник     0        112080   \n",
       "2                 0      M   сотрудник     0        145885   \n",
       "3                 0      M   сотрудник     0        267628   \n",
       "4                 1      F   пенсионер     0        158616   \n",
       "\n",
       "                 purpose  \n",
       "0     жильё/недвижимость  \n",
       "1     покупка автомобиля  \n",
       "2     жильё/недвижимость  \n",
       "3  получение образования  \n",
       "4                свадьба  "
      ]
     },
     "execution_count": 35,
     "metadata": {},
     "output_type": "execute_result"
    }
   ],
   "source": [
    "m = Mystem()\n",
    "#напишем функцию для категоризации целей получения кредита\n",
    "def purpose_category(row):\n",
    "    lemma = m.lemmatize(row['purpose'])\n",
    "    if 'свадьба' in lemma:\n",
    "        return 'свадьба'\n",
    "    if ('жилье' in lemma) or ('недвижимость' in lemma):\n",
    "        return 'жильё/недвижимость'\n",
    "    if 'образование' in lemma:\n",
    "        return 'получение образования'\n",
    "    if 'автомобиль' in lemma:\n",
    "        return 'покупка автомобиля'\n",
    "    return 'другое'\n",
    "\n",
    "df['purpose'] = df.apply(purpose_category, axis=1)\n",
    "df.head()"
   ]
  },
  {
   "cell_type": "markdown",
   "metadata": {},
   "source": [
    "Посмотрим, как распределились клиенты банка на новые категории по целям получения кредита:"
   ]
  },
  {
   "cell_type": "code",
   "execution_count": 36,
   "metadata": {},
   "outputs": [
    {
     "data": {
      "text/plain": [
       "жильё/недвижимость       10811\n",
       "покупка автомобиля        4306\n",
       "получение образования     4013\n",
       "свадьба                   2324\n",
       "Name: purpose, dtype: int64"
      ]
     },
     "execution_count": 36,
     "metadata": {},
     "output_type": "execute_result"
    }
   ],
   "source": [
    "df['purpose'].value_counts()"
   ]
  },
  {
   "cell_type": "code",
   "execution_count": 37,
   "metadata": {},
   "outputs": [
    {
     "data": {
      "image/png": "[encoded data removed]",
      "text/plain": [
       "<Figure size 432x288 with 1 Axes>"
      ]
     },
     "metadata": {},
     "output_type": "display_data"
    }
   ],
   "source": [
    "plot_df = df[['purpose', 'total_income']].groupby(\n",
    "    by = 'purpose', as_index=False).agg({'total_income':'count'})\n",
    "plt.pie(plot_df['total_income'], labels = plot_df['purpose'], autopct='%.01f%%', pctdistance=0.8, )\n",
    "plt.title('Группировка клиентов банка в разрезе целей кредита')\n",
    "plt.Figure(figsize=[12,6])\n",
    "plt.show()"
   ]
  },
  {
   "cell_type": "markdown",
   "metadata": {},
   "source": [
    "**Вывод**"
   ]
  },
  {
   "cell_type": "markdown",
   "metadata": {},
   "source": [
    "Таким образом, мы благополучно разбили совокупность на 4 главные группы по целям получения кредита. Применив лемматизацию, мы объединили синонимичные категории первоначальной группировки по целям получения кредита. Теперь наша таблица получила вид, удобный для расчета характеристик и установления взаимосвязей, которые смогут помочь нам определить факторы, которые влияют на возврат кредита."
   ]
  },
  {
   "cell_type": "markdown",
   "metadata": {},
   "source": [
    "<a id='anchor_4'></a>\n",
    "## Категоризация данных\n",
    "\n",
    "Для того, чтобы выявить факторы, которые сильнее других влияют на возврат кредита в срок, целесообразно разбить совокупность наблюдений на группы по определенным критериям. Мы уже так поступили с целями получения кредита. Аналогичным образом выделим в совокупности категории по наличию детей, семейному положению или уровню дохода.\n",
    "\n",
    "Итак, по наличию детей разобъём наши данные на 3 группы:\n",
    "* бездетная семья (0 детей),\n",
    "* малодетная семья (1-2 ребёнка),\n",
    "* многодетная семья (3 и более детей)\n",
    "\n",
    "Запишем правила классификации клиентов как функцию, на вход которой будет попадать количество детей в семье, а возвращать она будет категорию клиента по наличию детей:"
   ]
  },
  {
   "cell_type": "code",
   "execution_count": 38,
   "metadata": {},
   "outputs": [
    {
     "data": {
      "text/html": [
       "<div>\n",
       "<style scoped>\n",
       "    .dataframe tbody tr th:only-of-type {\n",
       "        vertical-align: middle;\n",
       "    }\n",
       "\n",
       "    .dataframe tbody tr th {\n",
       "        vertical-align: top;\n",
       "    }\n",
       "\n",
       "    .dataframe thead th {\n",
       "        text-align: right;\n",
       "    }\n",
       "</style>\n",
       "<table border=\"1\" class=\"dataframe\">\n",
       "  <thead>\n",
       "    <tr style=\"text-align: right;\">\n",
       "      <th></th>\n",
       "      <th>children</th>\n",
       "      <th>dob_years</th>\n",
       "      <th>education</th>\n",
       "      <th>education_id</th>\n",
       "      <th>family_status</th>\n",
       "      <th>family_status_id</th>\n",
       "      <th>gender</th>\n",
       "      <th>income_type</th>\n",
       "      <th>debt</th>\n",
       "      <th>total_income</th>\n",
       "      <th>purpose</th>\n",
       "      <th>family_type</th>\n",
       "    </tr>\n",
       "  </thead>\n",
       "  <tbody>\n",
       "    <tr>\n",
       "      <th>8769</th>\n",
       "      <td>0</td>\n",
       "      <td>52</td>\n",
       "      <td>среднее</td>\n",
       "      <td>1</td>\n",
       "      <td>женат / замужем</td>\n",
       "      <td>0</td>\n",
       "      <td>F</td>\n",
       "      <td>компаньон</td>\n",
       "      <td>0</td>\n",
       "      <td>115298</td>\n",
       "      <td>жильё/недвижимость</td>\n",
       "      <td>бездетная семья</td>\n",
       "    </tr>\n",
       "    <tr>\n",
       "      <th>19956</th>\n",
       "      <td>1</td>\n",
       "      <td>41</td>\n",
       "      <td>среднее</td>\n",
       "      <td>1</td>\n",
       "      <td>женат / замужем</td>\n",
       "      <td>0</td>\n",
       "      <td>F</td>\n",
       "      <td>компаньон</td>\n",
       "      <td>0</td>\n",
       "      <td>152469</td>\n",
       "      <td>жильё/недвижимость</td>\n",
       "      <td>малодетная семья</td>\n",
       "    </tr>\n",
       "    <tr>\n",
       "      <th>4365</th>\n",
       "      <td>0</td>\n",
       "      <td>58</td>\n",
       "      <td>высшее</td>\n",
       "      <td>0</td>\n",
       "      <td>женат / замужем</td>\n",
       "      <td>0</td>\n",
       "      <td>F</td>\n",
       "      <td>пенсионер</td>\n",
       "      <td>0</td>\n",
       "      <td>133626</td>\n",
       "      <td>получение образования</td>\n",
       "      <td>бездетная семья</td>\n",
       "    </tr>\n",
       "    <tr>\n",
       "      <th>6195</th>\n",
       "      <td>0</td>\n",
       "      <td>47</td>\n",
       "      <td>среднее</td>\n",
       "      <td>1</td>\n",
       "      <td>женат / замужем</td>\n",
       "      <td>0</td>\n",
       "      <td>F</td>\n",
       "      <td>госслужащий</td>\n",
       "      <td>0</td>\n",
       "      <td>141908</td>\n",
       "      <td>покупка автомобиля</td>\n",
       "      <td>бездетная семья</td>\n",
       "    </tr>\n",
       "    <tr>\n",
       "      <th>916</th>\n",
       "      <td>1</td>\n",
       "      <td>39</td>\n",
       "      <td>начальное</td>\n",
       "      <td>3</td>\n",
       "      <td>женат / замужем</td>\n",
       "      <td>0</td>\n",
       "      <td>M</td>\n",
       "      <td>сотрудник</td>\n",
       "      <td>0</td>\n",
       "      <td>165491</td>\n",
       "      <td>получение образования</td>\n",
       "      <td>малодетная семья</td>\n",
       "    </tr>\n",
       "  </tbody>\n",
       "</table>\n",
       "</div>"
      ],
      "text/plain": [
       "       children  dob_years  education  education_id    family_status  \\\n",
       "8769          0         52    среднее             1  женат / замужем   \n",
       "19956         1         41    среднее             1  женат / замужем   \n",
       "4365          0         58     высшее             0  женат / замужем   \n",
       "6195          0         47    среднее             1  женат / замужем   \n",
       "916           1         39  начальное             3  женат / замужем   \n",
       "\n",
       "       family_status_id gender  income_type  debt  total_income  \\\n",
       "8769                  0      F    компаньон     0        115298   \n",
       "19956                 0      F    компаньон     0        152469   \n",
       "4365                  0      F    пенсионер     0        133626   \n",
       "6195                  0      F  госслужащий     0        141908   \n",
       "916                   0      M    сотрудник     0        165491   \n",
       "\n",
       "                     purpose       family_type  \n",
       "8769      жильё/недвижимость   бездетная семья  \n",
       "19956     жильё/недвижимость  малодетная семья  \n",
       "4365   получение образования   бездетная семья  \n",
       "6195      покупка автомобиля   бездетная семья  \n",
       "916    получение образования  малодетная семья  "
      ]
     },
     "execution_count": 38,
     "metadata": {},
     "output_type": "execute_result"
    }
   ],
   "source": [
    "def family_type(children):\n",
    "    \"\"\"\n",
    "    Возвращает тип семьи по значению childfen, используя правила:\n",
    "    - 'бездетная семья', если childfen == 0;\n",
    "    - 'малодетная семья', если childfen от 1 до 2;\n",
    "    - 'многодетная семья', childfen >= 3.\n",
    "    \"\"\"\n",
    "    if children == 0:\n",
    "        return 'бездетная семья'\n",
    "    if children >= 3:\n",
    "        return 'многодетная семья '\n",
    "    return 'малодетная семья'\n",
    "df['family_type'] = df['children'].apply(family_type)\n",
    "df.sample(5)"
   ]
  },
  {
   "cell_type": "markdown",
   "metadata": {},
   "source": [
    "Проверим наполненность полученных групп, посчитав количество значений по каждой категории:"
   ]
  },
  {
   "cell_type": "code",
   "execution_count": 39,
   "metadata": {},
   "outputs": [
    {
     "data": {
      "text/plain": [
       "бездетная семья       14091\n",
       "малодетная семья       6943\n",
       "многодетная семья       420\n",
       "Name: family_type, dtype: int64"
      ]
     },
     "execution_count": 39,
     "metadata": {},
     "output_type": "execute_result"
    }
   ],
   "source": [
    "df['family_type'].value_counts()"
   ]
  },
  {
   "cell_type": "markdown",
   "metadata": {},
   "source": [
    "Таким образом, каждая из трёх групп оказалась наполнена в достаточной мере для того, чтобы рассчитывать статистические показатели, сравнивать их между собой и делать выводы.\n",
    "\n",
    "По семейному положению категории нам подскажут сами значения в столбце *'family_status'*. Разделим клиентов на две группы, принимая во внимание количество человек, на которых ложится кредитное бремя:\n",
    "* в браке - женат / замужем или гражданский брак,\n",
    "* одинок(а) - не женат / не замужем, в разводе или вдовец / вдова.\n",
    "\n",
    "Запишем правила классификации клиентов как функцию, на вход которой будет попадать  семейное положение, а возвращать она будет категорию клиента по семейному статусу:"
   ]
  },
  {
   "cell_type": "code",
   "execution_count": 40,
   "metadata": {},
   "outputs": [
    {
     "data": {
      "text/html": [
       "<div>\n",
       "<style scoped>\n",
       "    .dataframe tbody tr th:only-of-type {\n",
       "        vertical-align: middle;\n",
       "    }\n",
       "\n",
       "    .dataframe tbody tr th {\n",
       "        vertical-align: top;\n",
       "    }\n",
       "\n",
       "    .dataframe thead th {\n",
       "        text-align: right;\n",
       "    }\n",
       "</style>\n",
       "<table border=\"1\" class=\"dataframe\">\n",
       "  <thead>\n",
       "    <tr style=\"text-align: right;\">\n",
       "      <th></th>\n",
       "      <th>children</th>\n",
       "      <th>dob_years</th>\n",
       "      <th>education</th>\n",
       "      <th>education_id</th>\n",
       "      <th>family_status</th>\n",
       "      <th>family_status_id</th>\n",
       "      <th>gender</th>\n",
       "      <th>income_type</th>\n",
       "      <th>debt</th>\n",
       "      <th>total_income</th>\n",
       "      <th>purpose</th>\n",
       "      <th>family_type</th>\n",
       "      <th>family_category</th>\n",
       "    </tr>\n",
       "  </thead>\n",
       "  <tbody>\n",
       "    <tr>\n",
       "      <th>0</th>\n",
       "      <td>1</td>\n",
       "      <td>42</td>\n",
       "      <td>высшее</td>\n",
       "      <td>0</td>\n",
       "      <td>женат / замужем</td>\n",
       "      <td>0</td>\n",
       "      <td>F</td>\n",
       "      <td>сотрудник</td>\n",
       "      <td>0</td>\n",
       "      <td>253875</td>\n",
       "      <td>жильё/недвижимость</td>\n",
       "      <td>малодетная семья</td>\n",
       "      <td>в браке</td>\n",
       "    </tr>\n",
       "    <tr>\n",
       "      <th>1</th>\n",
       "      <td>1</td>\n",
       "      <td>36</td>\n",
       "      <td>среднее</td>\n",
       "      <td>1</td>\n",
       "      <td>женат / замужем</td>\n",
       "      <td>0</td>\n",
       "      <td>F</td>\n",
       "      <td>сотрудник</td>\n",
       "      <td>0</td>\n",
       "      <td>112080</td>\n",
       "      <td>покупка автомобиля</td>\n",
       "      <td>малодетная семья</td>\n",
       "      <td>в браке</td>\n",
       "    </tr>\n",
       "    <tr>\n",
       "      <th>2</th>\n",
       "      <td>0</td>\n",
       "      <td>33</td>\n",
       "      <td>среднее</td>\n",
       "      <td>1</td>\n",
       "      <td>женат / замужем</td>\n",
       "      <td>0</td>\n",
       "      <td>M</td>\n",
       "      <td>сотрудник</td>\n",
       "      <td>0</td>\n",
       "      <td>145885</td>\n",
       "      <td>жильё/недвижимость</td>\n",
       "      <td>бездетная семья</td>\n",
       "      <td>в браке</td>\n",
       "    </tr>\n",
       "    <tr>\n",
       "      <th>3</th>\n",
       "      <td>3</td>\n",
       "      <td>32</td>\n",
       "      <td>среднее</td>\n",
       "      <td>1</td>\n",
       "      <td>женат / замужем</td>\n",
       "      <td>0</td>\n",
       "      <td>M</td>\n",
       "      <td>сотрудник</td>\n",
       "      <td>0</td>\n",
       "      <td>267628</td>\n",
       "      <td>получение образования</td>\n",
       "      <td>многодетная семья</td>\n",
       "      <td>в браке</td>\n",
       "    </tr>\n",
       "    <tr>\n",
       "      <th>4</th>\n",
       "      <td>0</td>\n",
       "      <td>53</td>\n",
       "      <td>среднее</td>\n",
       "      <td>1</td>\n",
       "      <td>гражданский брак</td>\n",
       "      <td>1</td>\n",
       "      <td>F</td>\n",
       "      <td>пенсионер</td>\n",
       "      <td>0</td>\n",
       "      <td>158616</td>\n",
       "      <td>свадьба</td>\n",
       "      <td>бездетная семья</td>\n",
       "      <td>в браке</td>\n",
       "    </tr>\n",
       "  </tbody>\n",
       "</table>\n",
       "</div>"
      ],
      "text/plain": [
       "   children  dob_years education  education_id     family_status  \\\n",
       "0         1         42    высшее             0   женат / замужем   \n",
       "1         1         36   среднее             1   женат / замужем   \n",
       "2         0         33   среднее             1   женат / замужем   \n",
       "3         3         32   среднее             1   женат / замужем   \n",
       "4         0         53   среднее             1  гражданский брак   \n",
       "\n",
       "   family_status_id gender income_type  debt  total_income  \\\n",
       "0                 0      F   сотрудник     0        253875   \n",
       "1                 0      F   сотрудник     0        112080   \n",
       "2                 0      M   сотрудник     0        145885   \n",
       "3                 0      M   сотрудник     0        267628   \n",
       "4                 1      F   пенсионер     0        158616   \n",
       "\n",
       "                 purpose         family_type family_category  \n",
       "0     жильё/недвижимость    малодетная семья         в браке  \n",
       "1     покупка автомобиля    малодетная семья         в браке  \n",
       "2     жильё/недвижимость     бездетная семья         в браке  \n",
       "3  получение образования  многодетная семья          в браке  \n",
       "4                свадьба     бездетная семья         в браке  "
      ]
     },
     "execution_count": 40,
     "metadata": {},
     "output_type": "execute_result"
    }
   ],
   "source": [
    "def married_single(family_status):\n",
    "    \"\"\"\n",
    "    Возвращает категорию семейного положения по значению family_status, используя правила:\n",
    "    - 'в браке', если family_status == 'женат / замужем' или 'гражданский брак';\n",
    "    - 'одинок(а)', в остальных случаях.\n",
    "    \"\"\"\n",
    "    if (family_status == 'женат / замужем') or (family_status == 'гражданский брак'):\n",
    "        return 'в браке'\n",
    "    return 'одинок(а)'\n",
    "    \n",
    "df['family_category'] = df['family_status'].apply(married_single)\n",
    "df.head()"
   ]
  },
  {
   "cell_type": "markdown",
   "metadata": {},
   "source": [
    "Проверим наполненность полученных групп, посчитав количество значений по каждой из двух категорий:"
   ]
  },
  {
   "cell_type": "code",
   "execution_count": 41,
   "metadata": {},
   "outputs": [
    {
     "data": {
      "text/plain": [
       "в браке      16490\n",
       "одинок(а)     4964\n",
       "Name: family_category, dtype: int64"
      ]
     },
     "execution_count": 41,
     "metadata": {},
     "output_type": "execute_result"
    }
   ],
   "source": [
    "df['family_category'].value_counts()"
   ]
  },
  {
   "cell_type": "markdown",
   "metadata": {},
   "source": [
    "Таким образом, каждая из групп оказалась наполнена в достаточной мере для того, чтобы рассчитывать статистические показатели, сравнивать их между собой и делать выводы.\n",
    "\n",
    "По уровню ежемесячного дохода выделим следующие группы:\n",
    "* очень низкий доход (до 50000 рублей включительно),\n",
    "* низкий доход (от 50000 до 100000 рублей включительно),\n",
    "* средний доход (от 100000 до 200000 рублей включительно),\n",
    "* высокий доход (200000 до 450000 рублей включительно),\n",
    "* очень высокий доход (от 450000 рублей и выше)\n",
    "\n",
    "Запишем правила классификации клиентов как функцию, на вход которой будет попадать уровень ежемесячного дохода, а возвращать она будет категорию клиента по уровню дохода:"
   ]
  },
  {
   "cell_type": "code",
   "execution_count": 42,
   "metadata": {
    "scrolled": true
   },
   "outputs": [
    {
     "data": {
      "text/html": [
       "<div>\n",
       "<style scoped>\n",
       "    .dataframe tbody tr th:only-of-type {\n",
       "        vertical-align: middle;\n",
       "    }\n",
       "\n",
       "    .dataframe tbody tr th {\n",
       "        vertical-align: top;\n",
       "    }\n",
       "\n",
       "    .dataframe thead th {\n",
       "        text-align: right;\n",
       "    }\n",
       "</style>\n",
       "<table border=\"1\" class=\"dataframe\">\n",
       "  <thead>\n",
       "    <tr style=\"text-align: right;\">\n",
       "      <th></th>\n",
       "      <th>children</th>\n",
       "      <th>dob_years</th>\n",
       "      <th>education</th>\n",
       "      <th>education_id</th>\n",
       "      <th>family_status</th>\n",
       "      <th>family_status_id</th>\n",
       "      <th>gender</th>\n",
       "      <th>income_type</th>\n",
       "      <th>debt</th>\n",
       "      <th>total_income</th>\n",
       "      <th>purpose</th>\n",
       "      <th>family_type</th>\n",
       "      <th>family_category</th>\n",
       "      <th>income_category</th>\n",
       "    </tr>\n",
       "  </thead>\n",
       "  <tbody>\n",
       "    <tr>\n",
       "      <th>0</th>\n",
       "      <td>1</td>\n",
       "      <td>42</td>\n",
       "      <td>высшее</td>\n",
       "      <td>0</td>\n",
       "      <td>женат / замужем</td>\n",
       "      <td>0</td>\n",
       "      <td>F</td>\n",
       "      <td>сотрудник</td>\n",
       "      <td>0</td>\n",
       "      <td>253875</td>\n",
       "      <td>жильё/недвижимость</td>\n",
       "      <td>малодетная семья</td>\n",
       "      <td>в браке</td>\n",
       "      <td>высокий доход</td>\n",
       "    </tr>\n",
       "    <tr>\n",
       "      <th>1</th>\n",
       "      <td>1</td>\n",
       "      <td>36</td>\n",
       "      <td>среднее</td>\n",
       "      <td>1</td>\n",
       "      <td>женат / замужем</td>\n",
       "      <td>0</td>\n",
       "      <td>F</td>\n",
       "      <td>сотрудник</td>\n",
       "      <td>0</td>\n",
       "      <td>112080</td>\n",
       "      <td>покупка автомобиля</td>\n",
       "      <td>малодетная семья</td>\n",
       "      <td>в браке</td>\n",
       "      <td>средний доход</td>\n",
       "    </tr>\n",
       "    <tr>\n",
       "      <th>2</th>\n",
       "      <td>0</td>\n",
       "      <td>33</td>\n",
       "      <td>среднее</td>\n",
       "      <td>1</td>\n",
       "      <td>женат / замужем</td>\n",
       "      <td>0</td>\n",
       "      <td>M</td>\n",
       "      <td>сотрудник</td>\n",
       "      <td>0</td>\n",
       "      <td>145885</td>\n",
       "      <td>жильё/недвижимость</td>\n",
       "      <td>бездетная семья</td>\n",
       "      <td>в браке</td>\n",
       "      <td>средний доход</td>\n",
       "    </tr>\n",
       "    <tr>\n",
       "      <th>3</th>\n",
       "      <td>3</td>\n",
       "      <td>32</td>\n",
       "      <td>среднее</td>\n",
       "      <td>1</td>\n",
       "      <td>женат / замужем</td>\n",
       "      <td>0</td>\n",
       "      <td>M</td>\n",
       "      <td>сотрудник</td>\n",
       "      <td>0</td>\n",
       "      <td>267628</td>\n",
       "      <td>получение образования</td>\n",
       "      <td>многодетная семья</td>\n",
       "      <td>в браке</td>\n",
       "      <td>высокий доход</td>\n",
       "    </tr>\n",
       "    <tr>\n",
       "      <th>4</th>\n",
       "      <td>0</td>\n",
       "      <td>53</td>\n",
       "      <td>среднее</td>\n",
       "      <td>1</td>\n",
       "      <td>гражданский брак</td>\n",
       "      <td>1</td>\n",
       "      <td>F</td>\n",
       "      <td>пенсионер</td>\n",
       "      <td>0</td>\n",
       "      <td>158616</td>\n",
       "      <td>свадьба</td>\n",
       "      <td>бездетная семья</td>\n",
       "      <td>в браке</td>\n",
       "      <td>средний доход</td>\n",
       "    </tr>\n",
       "  </tbody>\n",
       "</table>\n",
       "</div>"
      ],
      "text/plain": [
       "   children  dob_years education  education_id     family_status  \\\n",
       "0         1         42    высшее             0   женат / замужем   \n",
       "1         1         36   среднее             1   женат / замужем   \n",
       "2         0         33   среднее             1   женат / замужем   \n",
       "3         3         32   среднее             1   женат / замужем   \n",
       "4         0         53   среднее             1  гражданский брак   \n",
       "\n",
       "   family_status_id gender income_type  debt  total_income  \\\n",
       "0                 0      F   сотрудник     0        253875   \n",
       "1                 0      F   сотрудник     0        112080   \n",
       "2                 0      M   сотрудник     0        145885   \n",
       "3                 0      M   сотрудник     0        267628   \n",
       "4                 1      F   пенсионер     0        158616   \n",
       "\n",
       "                 purpose         family_type family_category income_category  \n",
       "0     жильё/недвижимость    малодетная семья         в браке   высокий доход  \n",
       "1     покупка автомобиля    малодетная семья         в браке   средний доход  \n",
       "2     жильё/недвижимость     бездетная семья         в браке   средний доход  \n",
       "3  получение образования  многодетная семья          в браке   высокий доход  \n",
       "4                свадьба     бездетная семья         в браке   средний доход  "
      ]
     },
     "execution_count": 42,
     "metadata": {},
     "output_type": "execute_result"
    }
   ],
   "source": [
    "def income_category(income):\n",
    "    \"\"\"\n",
    "    Возвращает группу по доходам по значению income, используя правила:\n",
    "    - 'очень низкий доход', если income <= 50000;\n",
    "    - 'низкий доход', если income от 50000 до 100000;\n",
    "    - 'средний доход', если income от 100000 до 200000;\n",
    "    - 'высокий доход', если income от 200000 до 450000;\n",
    "    - 'очень высокий доход', income >= 450000.\n",
    "    \"\"\"\n",
    "    if income <= 50000:\n",
    "        return 'очень низкий доход'\n",
    "    if (income > 50000) & (income <= 100000):\n",
    "        return 'низкий доход'\n",
    "    if (income > 100000) & (income <= 200000):\n",
    "        return 'средний доход'\n",
    "    if (income > 200000) & (income <= 450000):\n",
    "        return 'высокий доход'\n",
    "    return 'очень высокий доход'\n",
    "df['income_category'] = df['total_income'].apply(income_category)\n",
    "df.head()"
   ]
  },
  {
   "cell_type": "markdown",
   "metadata": {},
   "source": [
    "Проверим наполненность полученных групп, посчитав количество значений по каждой категории:"
   ]
  },
  {
   "cell_type": "code",
   "execution_count": 43,
   "metadata": {},
   "outputs": [
    {
     "data": {
      "text/plain": [
       "средний доход          11924\n",
       "высокий доход           4734\n",
       "низкий доход            4091\n",
       "очень низкий доход       372\n",
       "очень высокий доход      333\n",
       "Name: income_category, dtype: int64"
      ]
     },
     "execution_count": 43,
     "metadata": {},
     "output_type": "execute_result"
    }
   ],
   "source": [
    "df['income_category'].value_counts()"
   ]
  },
  {
   "cell_type": "markdown",
   "metadata": {},
   "source": [
    "Таким образом, каждая из пяти групп оказалась наполнена в достаточной мере для того, чтобы рассчитывать статистические показатели, сравнивать их между собой и делать выводы."
   ]
  },
  {
   "cell_type": "markdown",
   "metadata": {},
   "source": [
    "**Вывод**"
   ]
  },
  {
   "cell_type": "markdown",
   "metadata": {},
   "source": [
    "Мы имеем дело с большим массивом данных. Мы прибегли к категозиции и разбили совокупность на общие группы, приняв в качестве параметров исследуемые характеристики. Теперь мы можем пытаться устанавливать зависимости между показателями, рассчитывая показатели описательной статистики по каждой группе отдельно и сравнивая их между собой."
   ]
  },
  {
   "cell_type": "markdown",
   "metadata": {},
   "source": [
    "<a id='anchor_5'></a>\n",
    "## Факторы, влияющие на возврат кредита в срок"
   ]
  },
  {
   "cell_type": "markdown",
   "metadata": {},
   "source": [
    "- Есть ли зависимость между наличием детей и возвратом кредита в срок?\n",
    "\n",
    "Выдвенем гипотезу о том, что наличие трёх и более детей у клиента увеличивает риск банка вернуть себе кредитные средства в срок, т.к. с ростом количества детей у клиента растёт уровень необходимых ежемесячных затрат на содержание семьи.\n",
    "\n",
    "Построим сводную таблицу, где установим, каким образом распределятся инидикаторы наличия задолженности по кредитам (графа исходного датафрейма *'debt'*) внутри каждой категории количества детей и рассчитаем долю неблагонадёжных клиентов от общего числа клиентов по каждой категории:"
   ]
  },
  {
   "cell_type": "code",
   "execution_count": 44,
   "metadata": {},
   "outputs": [
    {
     "data": {
      "text/html": [
       "<style type=\"text/css\">\n",
       "</style>\n",
       "<table id=\"T_d67ea_\">\n",
       "  <thead>\n",
       "    <tr>\n",
       "      <th class=\"index_name level0\" >debt</th>\n",
       "      <th class=\"col_heading level0 col0\" >0</th>\n",
       "      <th class=\"col_heading level0 col1\" >1</th>\n",
       "      <th class=\"col_heading level0 col2\" >debt_percent</th>\n",
       "    </tr>\n",
       "    <tr>\n",
       "      <th class=\"index_name level0\" >family_type</th>\n",
       "      <th class=\"blank col0\" >&nbsp;</th>\n",
       "      <th class=\"blank col1\" >&nbsp;</th>\n",
       "      <th class=\"blank col2\" >&nbsp;</th>\n",
       "    </tr>\n",
       "  </thead>\n",
       "  <tbody>\n",
       "    <tr>\n",
       "      <th id=\"T_d67ea_level0_row0\" class=\"row_heading level0 row0\" >бездетная семья</th>\n",
       "      <td id=\"T_d67ea_row0_col0\" class=\"data row0 col0\" >13028</td>\n",
       "      <td id=\"T_d67ea_row0_col1\" class=\"data row0 col1\" >1063</td>\n",
       "      <td id=\"T_d67ea_row0_col2\" class=\"data row0 col2\" >7.54%</td>\n",
       "    </tr>\n",
       "    <tr>\n",
       "      <th id=\"T_d67ea_level0_row1\" class=\"row_heading level0 row1\" >многодетная семья </th>\n",
       "      <td id=\"T_d67ea_row1_col0\" class=\"data row1 col0\" >385</td>\n",
       "      <td id=\"T_d67ea_row1_col1\" class=\"data row1 col1\" >35</td>\n",
       "      <td id=\"T_d67ea_row1_col2\" class=\"data row1 col2\" >8.33%</td>\n",
       "    </tr>\n",
       "    <tr>\n",
       "      <th id=\"T_d67ea_level0_row2\" class=\"row_heading level0 row2\" >малодетная семья</th>\n",
       "      <td id=\"T_d67ea_row2_col0\" class=\"data row2 col0\" >6300</td>\n",
       "      <td id=\"T_d67ea_row2_col1\" class=\"data row2 col1\" >643</td>\n",
       "      <td id=\"T_d67ea_row2_col2\" class=\"data row2 col2\" >9.26%</td>\n",
       "    </tr>\n",
       "  </tbody>\n",
       "</table>\n"
      ],
      "text/plain": [
       "<pandas.io.formats.style.Styler at 0x7fb1a6a4cb80>"
      ]
     },
     "execution_count": 44,
     "metadata": {},
     "output_type": "execute_result"
    }
   ],
   "source": [
    "pivot_children = df.pivot_table(\n",
    "    index='family_type',\n",
    "    columns = 'debt',\n",
    "    values = 'children',\n",
    "    aggfunc = 'count'\n",
    ")\n",
    "pivot_children['debt_percent'] = 100*pivot_children[1]/(pivot_children[0]+pivot_children[1])\n",
    "#отсортируем результаты по возрастанию доли\n",
    "pivot_children = pivot_children.sort_values(by='debt_percent', ascending=True)\n",
    "pivot_children.style.format({'debt_percent':'{:.2f}%'})"
   ]
  },
  {
   "cell_type": "markdown",
   "metadata": {},
   "source": [
    "**Вывод**"
   ]
  },
  {
   "cell_type": "markdown",
   "metadata": {},
   "source": [
    "Таким образом, наша гипотеза подтвердилась частично. Наибольший процент потенциальных неблагонадёжных клиентов выявился в категории малодетных семей (то есть среди клиентов с 1 или 2 детьми). Однако, стоит отметить, что минимальная доля неблагонадёжных клиентов от общего числа клиентов по категории наблюдается именно в бездетных семьях. Отсюда вывод: зависимость между наличием детей и возвратом кредита в срок есть. Клиент без детей вернёт кредит в срок с большей вероятностью, чем клиент, имеющий детей. "
   ]
  },
  {
   "cell_type": "markdown",
   "metadata": {},
   "source": [
    "- Есть ли зависимость между семейным положением и возвратом кредита в срок?\n",
    "\n",
    "Выдвинем гипотезу о том, что семейные люди благонадёжнее одиноких, так как они могут \"подстраховывать\" друг друга в вопросе выплаты кредита.\n",
    "\n",
    "Построим сводную таблицу, где установим, каким образом распределятся инидикаторы наличия задолженности по кредитам (графа исходного датафрейма 'debt') внутри каждой из двух категорий и рассчитаем долю неблагонадёжных клиентов от общего числа клиентов по каждой категории:"
   ]
  },
  {
   "cell_type": "code",
   "execution_count": 45,
   "metadata": {},
   "outputs": [
    {
     "data": {
      "text/html": [
       "<style type=\"text/css\">\n",
       "</style>\n",
       "<table id=\"T_5eb5d_\">\n",
       "  <thead>\n",
       "    <tr>\n",
       "      <th class=\"index_name level0\" >debt</th>\n",
       "      <th class=\"col_heading level0 col0\" >0</th>\n",
       "      <th class=\"col_heading level0 col1\" >1</th>\n",
       "      <th class=\"col_heading level0 col2\" >debt_percent</th>\n",
       "    </tr>\n",
       "    <tr>\n",
       "      <th class=\"index_name level0\" >family_category</th>\n",
       "      <th class=\"blank col0\" >&nbsp;</th>\n",
       "      <th class=\"blank col1\" >&nbsp;</th>\n",
       "      <th class=\"blank col2\" >&nbsp;</th>\n",
       "    </tr>\n",
       "  </thead>\n",
       "  <tbody>\n",
       "    <tr>\n",
       "      <th id=\"T_5eb5d_level0_row0\" class=\"row_heading level0 row0\" >в браке</th>\n",
       "      <td id=\"T_5eb5d_row0_col0\" class=\"data row0 col0\" >15171</td>\n",
       "      <td id=\"T_5eb5d_row0_col1\" class=\"data row0 col1\" >1319</td>\n",
       "      <td id=\"T_5eb5d_row0_col2\" class=\"data row0 col2\" >8.00%</td>\n",
       "    </tr>\n",
       "    <tr>\n",
       "      <th id=\"T_5eb5d_level0_row1\" class=\"row_heading level0 row1\" >одинок(а)</th>\n",
       "      <td id=\"T_5eb5d_row1_col0\" class=\"data row1 col0\" >4542</td>\n",
       "      <td id=\"T_5eb5d_row1_col1\" class=\"data row1 col1\" >422</td>\n",
       "      <td id=\"T_5eb5d_row1_col2\" class=\"data row1 col2\" >8.50%</td>\n",
       "    </tr>\n",
       "  </tbody>\n",
       "</table>\n"
      ],
      "text/plain": [
       "<pandas.io.formats.style.Styler at 0x7fb1a6a4cc70>"
      ]
     },
     "execution_count": 45,
     "metadata": {},
     "output_type": "execute_result"
    }
   ],
   "source": [
    "pivot_family_category = df.pivot_table(\n",
    "    index='family_category',\n",
    "    columns = 'debt',\n",
    "    values = 'family_status',\n",
    "    aggfunc = 'count'\n",
    ")\n",
    "pivot_family_category['debt_percent'] = 100*pivot_family_category[\n",
    "        1]/(pivot_family_category[0]+pivot_family_category[1])\n",
    "pivot_family_category.style.format({'debt_percent':'{:.2f}%'})"
   ]
  },
  {
   "cell_type": "markdown",
   "metadata": {},
   "source": [
    "На первый взгляд, наша гипотеза подтвердилась. Процент группы риска среди одиноких выше, чем среди семейных. Однако, разрыв всего лишь пол процента. Добавим в сводную таблицу все категории семейного положения, которых изначально было пять, и посмотрим, как неблагонадёжные клиенты распределятся в этих группах:"
   ]
  },
  {
   "cell_type": "code",
   "execution_count": 46,
   "metadata": {},
   "outputs": [
    {
     "data": {
      "text/html": [
       "<style type=\"text/css\">\n",
       "</style>\n",
       "<table id=\"T_89e30_\">\n",
       "  <thead>\n",
       "    <tr>\n",
       "      <th class=\"blank\" >&nbsp;</th>\n",
       "      <th class=\"index_name level0\" >debt</th>\n",
       "      <th class=\"col_heading level0 col0\" >0</th>\n",
       "      <th class=\"col_heading level0 col1\" >1</th>\n",
       "      <th class=\"col_heading level0 col2\" >debt_percent</th>\n",
       "    </tr>\n",
       "    <tr>\n",
       "      <th class=\"index_name level0\" >family_category</th>\n",
       "      <th class=\"index_name level1\" >family_status</th>\n",
       "      <th class=\"blank col0\" >&nbsp;</th>\n",
       "      <th class=\"blank col1\" >&nbsp;</th>\n",
       "      <th class=\"blank col2\" >&nbsp;</th>\n",
       "    </tr>\n",
       "  </thead>\n",
       "  <tbody>\n",
       "    <tr>\n",
       "      <th id=\"T_89e30_level0_row0\" class=\"row_heading level0 row0\" rowspan=\"2\">в браке</th>\n",
       "      <th id=\"T_89e30_level1_row0\" class=\"row_heading level1 row0\" >гражданский брак</th>\n",
       "      <td id=\"T_89e30_row0_col0\" class=\"data row0 col0\" >3763</td>\n",
       "      <td id=\"T_89e30_row0_col1\" class=\"data row0 col1\" >388</td>\n",
       "      <td id=\"T_89e30_row0_col2\" class=\"data row0 col2\" >9.35%</td>\n",
       "    </tr>\n",
       "    <tr>\n",
       "      <th id=\"T_89e30_level1_row1\" class=\"row_heading level1 row1\" >женат / замужем</th>\n",
       "      <td id=\"T_89e30_row1_col0\" class=\"data row1 col0\" >11408</td>\n",
       "      <td id=\"T_89e30_row1_col1\" class=\"data row1 col1\" >931</td>\n",
       "      <td id=\"T_89e30_row1_col2\" class=\"data row1 col2\" >7.55%</td>\n",
       "    </tr>\n",
       "    <tr>\n",
       "      <th id=\"T_89e30_level0_row2\" class=\"row_heading level0 row2\" rowspan=\"3\">одинок(а)</th>\n",
       "      <th id=\"T_89e30_level1_row2\" class=\"row_heading level1 row2\" >в разводе</th>\n",
       "      <td id=\"T_89e30_row2_col0\" class=\"data row2 col0\" >1110</td>\n",
       "      <td id=\"T_89e30_row2_col1\" class=\"data row2 col1\" >85</td>\n",
       "      <td id=\"T_89e30_row2_col2\" class=\"data row2 col2\" >7.11%</td>\n",
       "    </tr>\n",
       "    <tr>\n",
       "      <th id=\"T_89e30_level1_row3\" class=\"row_heading level1 row3\" >вдовец / вдова</th>\n",
       "      <td id=\"T_89e30_row3_col0\" class=\"data row3 col0\" >896</td>\n",
       "      <td id=\"T_89e30_row3_col1\" class=\"data row3 col1\" >63</td>\n",
       "      <td id=\"T_89e30_row3_col2\" class=\"data row3 col2\" >6.57%</td>\n",
       "    </tr>\n",
       "    <tr>\n",
       "      <th id=\"T_89e30_level1_row4\" class=\"row_heading level1 row4\" >не женат / не замужем</th>\n",
       "      <td id=\"T_89e30_row4_col0\" class=\"data row4 col0\" >2536</td>\n",
       "      <td id=\"T_89e30_row4_col1\" class=\"data row4 col1\" >274</td>\n",
       "      <td id=\"T_89e30_row4_col2\" class=\"data row4 col2\" >9.75%</td>\n",
       "    </tr>\n",
       "  </tbody>\n",
       "</table>\n"
      ],
      "text/plain": [
       "<pandas.io.formats.style.Styler at 0x7fb1a6a4c430>"
      ]
     },
     "execution_count": 46,
     "metadata": {},
     "output_type": "execute_result"
    }
   ],
   "source": [
    "pivot_family_category = df.pivot_table(\n",
    "    index=['family_category', 'family_status'],\n",
    "    columns = 'debt',\n",
    "    values = 'family_type',\n",
    "    aggfunc = 'count'\n",
    ")\n",
    "pivot_family_category['debt_percent'] = 100*pivot_family_category[\n",
    "        1]/(pivot_family_category[0]+pivot_family_category[1])\n",
    "pivot_family_category.style.format({'debt_percent':'{:.2f}%'})"
   ]
  },
  {
   "cell_type": "markdown",
   "metadata": {},
   "source": [
    "Получили интересную картину: наибольший процент неблагонадёжных клиентов наблюдается в группах 'гражданский брак' и 'не женат / не замужем', а процент в группах 'женат / замужем' и 'в разводе' практически одинаковый.\n",
    "\n",
    "**Вывод**"
   ]
  },
  {
   "cell_type": "markdown",
   "metadata": {},
   "source": [
    "Зависимость между семейным положением и возвратом кредита в срок не очевидна. Самыми надёжными оказались овдовевшие клиенты, в то время как люди, состоящие в гражданском браке, попали в группу риска. Таким образом одинокие и семейные люди практически с одинаковой вероятностью могут не вернуть кредит в срок."
   ]
  },
  {
   "cell_type": "markdown",
   "metadata": {},
   "source": [
    "- Есть ли зависимость между уровнем дохода и возвратом кредита в срок?\n",
    "\n",
    "Выдвинем гипотезу о том, что люди с большим уровнем дохода с большей вероятностью возвращают кредит в срок.\n",
    "\n",
    "Построим сводную таблицу, где установим, каким образом распределятся инидикаторы наличия задолженности по кредитам (графа исходного датафрейма 'debt') внутри каждой категории по ежемесячному доходу и рассчитаем долю неблагонадёжных клиентов от общего числа клиентов по каждой группе:"
   ]
  },
  {
   "cell_type": "code",
   "execution_count": 47,
   "metadata": {},
   "outputs": [
    {
     "data": {
      "text/html": [
       "<style type=\"text/css\">\n",
       "</style>\n",
       "<table id=\"T_0d201_\">\n",
       "  <thead>\n",
       "    <tr>\n",
       "      <th class=\"index_name level0\" >debt</th>\n",
       "      <th class=\"col_heading level0 col0\" >0</th>\n",
       "      <th class=\"col_heading level0 col1\" >1</th>\n",
       "      <th class=\"col_heading level0 col2\" >debt_percent</th>\n",
       "    </tr>\n",
       "    <tr>\n",
       "      <th class=\"index_name level0\" >income_category</th>\n",
       "      <th class=\"blank col0\" >&nbsp;</th>\n",
       "      <th class=\"blank col1\" >&nbsp;</th>\n",
       "      <th class=\"blank col2\" >&nbsp;</th>\n",
       "    </tr>\n",
       "  </thead>\n",
       "  <tbody>\n",
       "    <tr>\n",
       "      <th id=\"T_0d201_level0_row0\" class=\"row_heading level0 row0\" >очень высокий доход</th>\n",
       "      <td id=\"T_0d201_row0_col0\" class=\"data row0 col0\" >315</td>\n",
       "      <td id=\"T_0d201_row0_col1\" class=\"data row0 col1\" >18</td>\n",
       "      <td id=\"T_0d201_row0_col2\" class=\"data row0 col2\" >5.41%</td>\n",
       "    </tr>\n",
       "    <tr>\n",
       "      <th id=\"T_0d201_level0_row1\" class=\"row_heading level0 row1\" >очень низкий доход</th>\n",
       "      <td id=\"T_0d201_row1_col0\" class=\"data row1 col0\" >349</td>\n",
       "      <td id=\"T_0d201_row1_col1\" class=\"data row1 col1\" >23</td>\n",
       "      <td id=\"T_0d201_row1_col2\" class=\"data row1 col2\" >6.18%</td>\n",
       "    </tr>\n",
       "    <tr>\n",
       "      <th id=\"T_0d201_level0_row2\" class=\"row_heading level0 row2\" >высокий доход</th>\n",
       "      <td id=\"T_0d201_row2_col0\" class=\"data row2 col0\" >4394</td>\n",
       "      <td id=\"T_0d201_row2_col1\" class=\"data row2 col1\" >340</td>\n",
       "      <td id=\"T_0d201_row2_col2\" class=\"data row2 col2\" >7.18%</td>\n",
       "    </tr>\n",
       "    <tr>\n",
       "      <th id=\"T_0d201_level0_row3\" class=\"row_heading level0 row3\" >низкий доход</th>\n",
       "      <td id=\"T_0d201_row3_col0\" class=\"data row3 col0\" >3760</td>\n",
       "      <td id=\"T_0d201_row3_col1\" class=\"data row3 col1\" >331</td>\n",
       "      <td id=\"T_0d201_row3_col2\" class=\"data row3 col2\" >8.09%</td>\n",
       "    </tr>\n",
       "    <tr>\n",
       "      <th id=\"T_0d201_level0_row4\" class=\"row_heading level0 row4\" >средний доход</th>\n",
       "      <td id=\"T_0d201_row4_col0\" class=\"data row4 col0\" >10895</td>\n",
       "      <td id=\"T_0d201_row4_col1\" class=\"data row4 col1\" >1029</td>\n",
       "      <td id=\"T_0d201_row4_col2\" class=\"data row4 col2\" >8.63%</td>\n",
       "    </tr>\n",
       "  </tbody>\n",
       "</table>\n"
      ],
      "text/plain": [
       "<pandas.io.formats.style.Styler at 0x7fb1a7438f70>"
      ]
     },
     "execution_count": 47,
     "metadata": {},
     "output_type": "execute_result"
    }
   ],
   "source": [
    "pivot_income = df.pivot_table(\n",
    "    index='income_category',\n",
    "    columns = 'debt',\n",
    "    values = 'total_income',\n",
    "    aggfunc = 'count'\n",
    ")\n",
    "pivot_income['debt_percent'] = 100*pivot_income[1]/(pivot_income[0]+pivot_income[1])\n",
    "#отсортируем результаты по возрастанию доли\n",
    "pivot_income = pivot_income.sort_values(by='debt_percent', ascending=True)\n",
    "pivot_income.style.format({'debt_percent':'{:.2f}%'})"
   ]
  },
  {
   "cell_type": "markdown",
   "metadata": {},
   "source": [
    "Наша гипотеза подтвердилась частично, самой благонадёжной группой оказались клиенты с очень высоким доходом, а в группу риска попали клиенты со средним уровнем дохода. Часто случается, что уровень образования связан с размерами доходов. Проверим, влияет ли этот фактор на исследуемый нами вопрос благонадёжности клиентов, добавим ещё один столбец в сводную таблицу:"
   ]
  },
  {
   "cell_type": "code",
   "execution_count": 48,
   "metadata": {},
   "outputs": [
    {
     "data": {
      "text/html": [
       "<style type=\"text/css\">\n",
       "</style>\n",
       "<table id=\"T_a7a17_\">\n",
       "  <thead>\n",
       "    <tr>\n",
       "      <th class=\"blank\" >&nbsp;</th>\n",
       "      <th class=\"index_name level0\" >debt</th>\n",
       "      <th class=\"col_heading level0 col0\" >0</th>\n",
       "      <th class=\"col_heading level0 col1\" >1</th>\n",
       "      <th class=\"col_heading level0 col2\" >debt_percent</th>\n",
       "    </tr>\n",
       "    <tr>\n",
       "      <th class=\"index_name level0\" >income_category</th>\n",
       "      <th class=\"index_name level1\" >education</th>\n",
       "      <th class=\"blank col0\" >&nbsp;</th>\n",
       "      <th class=\"blank col1\" >&nbsp;</th>\n",
       "      <th class=\"blank col2\" >&nbsp;</th>\n",
       "    </tr>\n",
       "  </thead>\n",
       "  <tbody>\n",
       "    <tr>\n",
       "      <th id=\"T_a7a17_level0_row0\" class=\"row_heading level0 row0\" rowspan=\"5\">высокий доход</th>\n",
       "      <th id=\"T_a7a17_level1_row0\" class=\"row_heading level1 row0\" >высшее</th>\n",
       "      <td id=\"T_a7a17_row0_col0\" class=\"data row0 col0\" >1604.000000</td>\n",
       "      <td id=\"T_a7a17_row0_col1\" class=\"data row0 col1\" >74.000000</td>\n",
       "      <td id=\"T_a7a17_row0_col2\" class=\"data row0 col2\" >4.41%</td>\n",
       "    </tr>\n",
       "    <tr>\n",
       "      <th id=\"T_a7a17_level1_row1\" class=\"row_heading level1 row1\" >начальное</th>\n",
       "      <td id=\"T_a7a17_row1_col0\" class=\"data row1 col0\" >35.000000</td>\n",
       "      <td id=\"T_a7a17_row1_col1\" class=\"data row1 col1\" >4.000000</td>\n",
       "      <td id=\"T_a7a17_row1_col2\" class=\"data row1 col2\" >10.26%</td>\n",
       "    </tr>\n",
       "    <tr>\n",
       "      <th id=\"T_a7a17_level1_row2\" class=\"row_heading level1 row2\" >неоконченное высшее</th>\n",
       "      <td id=\"T_a7a17_row2_col0\" class=\"data row2 col0\" >183.000000</td>\n",
       "      <td id=\"T_a7a17_row2_col1\" class=\"data row2 col1\" >23.000000</td>\n",
       "      <td id=\"T_a7a17_row2_col2\" class=\"data row2 col2\" >11.17%</td>\n",
       "    </tr>\n",
       "    <tr>\n",
       "      <th id=\"T_a7a17_level1_row3\" class=\"row_heading level1 row3\" >среднее</th>\n",
       "      <td id=\"T_a7a17_row3_col0\" class=\"data row3 col0\" >2570.000000</td>\n",
       "      <td id=\"T_a7a17_row3_col1\" class=\"data row3 col1\" >239.000000</td>\n",
       "      <td id=\"T_a7a17_row3_col2\" class=\"data row3 col2\" >8.51%</td>\n",
       "    </tr>\n",
       "    <tr>\n",
       "      <th id=\"T_a7a17_level1_row4\" class=\"row_heading level1 row4\" >ученая степень</th>\n",
       "      <td id=\"T_a7a17_row4_col0\" class=\"data row4 col0\" >2.000000</td>\n",
       "      <td id=\"T_a7a17_row4_col1\" class=\"data row4 col1\" >nan</td>\n",
       "      <td id=\"T_a7a17_row4_col2\" class=\"data row4 col2\" >nan%</td>\n",
       "    </tr>\n",
       "    <tr>\n",
       "      <th id=\"T_a7a17_level0_row5\" class=\"row_heading level0 row5\" rowspan=\"5\">низкий доход</th>\n",
       "      <th id=\"T_a7a17_level1_row5\" class=\"row_heading level1 row5\" >высшее</th>\n",
       "      <td id=\"T_a7a17_row5_col0\" class=\"data row5 col0\" >541.000000</td>\n",
       "      <td id=\"T_a7a17_row5_col1\" class=\"data row5 col1\" >35.000000</td>\n",
       "      <td id=\"T_a7a17_row5_col2\" class=\"data row5 col2\" >6.08%</td>\n",
       "    </tr>\n",
       "    <tr>\n",
       "      <th id=\"T_a7a17_level1_row6\" class=\"row_heading level1 row6\" >начальное</th>\n",
       "      <td id=\"T_a7a17_row6_col0\" class=\"data row6 col0\" >72.000000</td>\n",
       "      <td id=\"T_a7a17_row6_col1\" class=\"data row6 col1\" >6.000000</td>\n",
       "      <td id=\"T_a7a17_row6_col2\" class=\"data row6 col2\" >7.69%</td>\n",
       "    </tr>\n",
       "    <tr>\n",
       "      <th id=\"T_a7a17_level1_row7\" class=\"row_heading level1 row7\" >неоконченное высшее</th>\n",
       "      <td id=\"T_a7a17_row7_col0\" class=\"data row7 col0\" >103.000000</td>\n",
       "      <td id=\"T_a7a17_row7_col1\" class=\"data row7 col1\" >8.000000</td>\n",
       "      <td id=\"T_a7a17_row7_col2\" class=\"data row7 col2\" >7.21%</td>\n",
       "    </tr>\n",
       "    <tr>\n",
       "      <th id=\"T_a7a17_level1_row8\" class=\"row_heading level1 row8\" >среднее</th>\n",
       "      <td id=\"T_a7a17_row8_col0\" class=\"data row8 col0\" >3043.000000</td>\n",
       "      <td id=\"T_a7a17_row8_col1\" class=\"data row8 col1\" >282.000000</td>\n",
       "      <td id=\"T_a7a17_row8_col2\" class=\"data row8 col2\" >8.48%</td>\n",
       "    </tr>\n",
       "    <tr>\n",
       "      <th id=\"T_a7a17_level1_row9\" class=\"row_heading level1 row9\" >ученая степень</th>\n",
       "      <td id=\"T_a7a17_row9_col0\" class=\"data row9 col0\" >1.000000</td>\n",
       "      <td id=\"T_a7a17_row9_col1\" class=\"data row9 col1\" >nan</td>\n",
       "      <td id=\"T_a7a17_row9_col2\" class=\"data row9 col2\" >nan%</td>\n",
       "    </tr>\n",
       "    <tr>\n",
       "      <th id=\"T_a7a17_level0_row10\" class=\"row_heading level0 row10\" rowspan=\"4\">очень высокий доход</th>\n",
       "      <th id=\"T_a7a17_level1_row10\" class=\"row_heading level1 row10\" >высшее</th>\n",
       "      <td id=\"T_a7a17_row10_col0\" class=\"data row10 col0\" >188.000000</td>\n",
       "      <td id=\"T_a7a17_row10_col1\" class=\"data row10 col1\" >10.000000</td>\n",
       "      <td id=\"T_a7a17_row10_col2\" class=\"data row10 col2\" >5.05%</td>\n",
       "    </tr>\n",
       "    <tr>\n",
       "      <th id=\"T_a7a17_level1_row11\" class=\"row_heading level1 row11\" >начальное</th>\n",
       "      <td id=\"T_a7a17_row11_col0\" class=\"data row11 col0\" >1.000000</td>\n",
       "      <td id=\"T_a7a17_row11_col1\" class=\"data row11 col1\" >nan</td>\n",
       "      <td id=\"T_a7a17_row11_col2\" class=\"data row11 col2\" >nan%</td>\n",
       "    </tr>\n",
       "    <tr>\n",
       "      <th id=\"T_a7a17_level1_row12\" class=\"row_heading level1 row12\" >неоконченное высшее</th>\n",
       "      <td id=\"T_a7a17_row12_col0\" class=\"data row12 col0\" >8.000000</td>\n",
       "      <td id=\"T_a7a17_row12_col1\" class=\"data row12 col1\" >4.000000</td>\n",
       "      <td id=\"T_a7a17_row12_col2\" class=\"data row12 col2\" >33.33%</td>\n",
       "    </tr>\n",
       "    <tr>\n",
       "      <th id=\"T_a7a17_level1_row13\" class=\"row_heading level1 row13\" >среднее</th>\n",
       "      <td id=\"T_a7a17_row13_col0\" class=\"data row13 col0\" >118.000000</td>\n",
       "      <td id=\"T_a7a17_row13_col1\" class=\"data row13 col1\" >4.000000</td>\n",
       "      <td id=\"T_a7a17_row13_col2\" class=\"data row13 col2\" >3.28%</td>\n",
       "    </tr>\n",
       "    <tr>\n",
       "      <th id=\"T_a7a17_level0_row14\" class=\"row_heading level0 row14\" rowspan=\"4\">очень низкий доход</th>\n",
       "      <th id=\"T_a7a17_level1_row14\" class=\"row_heading level1 row14\" >высшее</th>\n",
       "      <td id=\"T_a7a17_row14_col0\" class=\"data row14 col0\" >30.000000</td>\n",
       "      <td id=\"T_a7a17_row14_col1\" class=\"data row14 col1\" >1.000000</td>\n",
       "      <td id=\"T_a7a17_row14_col2\" class=\"data row14 col2\" >3.23%</td>\n",
       "    </tr>\n",
       "    <tr>\n",
       "      <th id=\"T_a7a17_level1_row15\" class=\"row_heading level1 row15\" >начальное</th>\n",
       "      <td id=\"T_a7a17_row15_col0\" class=\"data row15 col0\" >15.000000</td>\n",
       "      <td id=\"T_a7a17_row15_col1\" class=\"data row15 col1\" >nan</td>\n",
       "      <td id=\"T_a7a17_row15_col2\" class=\"data row15 col2\" >nan%</td>\n",
       "    </tr>\n",
       "    <tr>\n",
       "      <th id=\"T_a7a17_level1_row16\" class=\"row_heading level1 row16\" >неоконченное высшее</th>\n",
       "      <td id=\"T_a7a17_row16_col0\" class=\"data row16 col0\" >3.000000</td>\n",
       "      <td id=\"T_a7a17_row16_col1\" class=\"data row16 col1\" >nan</td>\n",
       "      <td id=\"T_a7a17_row16_col2\" class=\"data row16 col2\" >nan%</td>\n",
       "    </tr>\n",
       "    <tr>\n",
       "      <th id=\"T_a7a17_level1_row17\" class=\"row_heading level1 row17\" >среднее</th>\n",
       "      <td id=\"T_a7a17_row17_col0\" class=\"data row17 col0\" >301.000000</td>\n",
       "      <td id=\"T_a7a17_row17_col1\" class=\"data row17 col1\" >22.000000</td>\n",
       "      <td id=\"T_a7a17_row17_col2\" class=\"data row17 col2\" >6.81%</td>\n",
       "    </tr>\n",
       "    <tr>\n",
       "      <th id=\"T_a7a17_level0_row18\" class=\"row_heading level0 row18\" rowspan=\"5\">средний доход</th>\n",
       "      <th id=\"T_a7a17_level1_row18\" class=\"row_heading level1 row18\" >высшее</th>\n",
       "      <td id=\"T_a7a17_row18_col0\" class=\"data row18 col0\" >2609.000000</td>\n",
       "      <td id=\"T_a7a17_row18_col1\" class=\"data row18 col1\" >158.000000</td>\n",
       "      <td id=\"T_a7a17_row18_col2\" class=\"data row18 col2\" >5.71%</td>\n",
       "    </tr>\n",
       "    <tr>\n",
       "      <th id=\"T_a7a17_level1_row19\" class=\"row_heading level1 row19\" >начальное</th>\n",
       "      <td id=\"T_a7a17_row19_col0\" class=\"data row19 col0\" >128.000000</td>\n",
       "      <td id=\"T_a7a17_row19_col1\" class=\"data row19 col1\" >21.000000</td>\n",
       "      <td id=\"T_a7a17_row19_col2\" class=\"data row19 col2\" >14.09%</td>\n",
       "    </tr>\n",
       "    <tr>\n",
       "      <th id=\"T_a7a17_level1_row20\" class=\"row_heading level1 row20\" >неоконченное высшее</th>\n",
       "      <td id=\"T_a7a17_row20_col0\" class=\"data row20 col0\" >379.000000</td>\n",
       "      <td id=\"T_a7a17_row20_col1\" class=\"data row20 col1\" >33.000000</td>\n",
       "      <td id=\"T_a7a17_row20_col2\" class=\"data row20 col2\" >8.01%</td>\n",
       "    </tr>\n",
       "    <tr>\n",
       "      <th id=\"T_a7a17_level1_row21\" class=\"row_heading level1 row21\" >среднее</th>\n",
       "      <td id=\"T_a7a17_row21_col0\" class=\"data row21 col0\" >7776.000000</td>\n",
       "      <td id=\"T_a7a17_row21_col1\" class=\"data row21 col1\" >817.000000</td>\n",
       "      <td id=\"T_a7a17_row21_col2\" class=\"data row21 col2\" >9.51%</td>\n",
       "    </tr>\n",
       "    <tr>\n",
       "      <th id=\"T_a7a17_level1_row22\" class=\"row_heading level1 row22\" >ученая степень</th>\n",
       "      <td id=\"T_a7a17_row22_col0\" class=\"data row22 col0\" >3.000000</td>\n",
       "      <td id=\"T_a7a17_row22_col1\" class=\"data row22 col1\" >nan</td>\n",
       "      <td id=\"T_a7a17_row22_col2\" class=\"data row22 col2\" >nan%</td>\n",
       "    </tr>\n",
       "  </tbody>\n",
       "</table>\n"
      ],
      "text/plain": [
       "<pandas.io.formats.style.Styler at 0x7fb1a68937f0>"
      ]
     },
     "execution_count": 48,
     "metadata": {},
     "output_type": "execute_result"
    }
   ],
   "source": [
    "pivot_income = df.pivot_table(\n",
    "    index=['income_category', 'education'],\n",
    "    columns = 'debt',\n",
    "    values = 'total_income',\n",
    "    aggfunc = 'count'\n",
    ")\n",
    "pivot_income['debt_percent'] = 100*pivot_income[1]/(pivot_income[0]+pivot_income[1])\n",
    "pivot_income.style.format({'debt_percent':'{:.2f}%'})"
   ]
  },
  {
   "cell_type": "markdown",
   "metadata": {},
   "source": [
    "Среди клиентов, имеющих учёную степень не нашлось таких, которые бы имели непогашенные задолженности по кредиту, а неоконченное высшее образование в совокупности с очень высоким доходом составили серьёзную группу риска. По категории начального образования процент неблагонадёжных клиентов тоже достаточно высок.\n",
    "\n",
    "**Вывод**"
   ]
  },
  {
   "cell_type": "markdown",
   "metadata": {},
   "source": [
    "Зависимость между уровнем ежемесячного дохода и вероятностью возврата кредита в срок есть. Чаще других допускают задолженность клиенты со средним уровем дохода, а с высокими доходами - реже. При удовлетворении заявок на кредит следует обращать внимание также и на уровень образования клиентов. Неоконченное высшее и начальное образование - группа риска."
   ]
  },
  {
   "cell_type": "markdown",
   "metadata": {},
   "source": [
    "- Как разные цели кредита влияют на его возврат в срок?\n",
    "\n",
    "Выдвинем гипотезу о том, что краткосрочные кредиты (на свадьбу, получение образования или покупку автомобиля) с большей вероятностью не гасятся в срок, чем долгосрочные (на приобретение жилья или недвижимости. Связано это с большими сроками гашения и частым залогом собственности в последнем случае.\n",
    "\n",
    "Построим сводную таблицу, где установим, каким образом распределятся инидикаторы наличия задолженности по кредитам (графа исходного датафрейма 'debt') внутри каждой категории по целям получения кредита и рассчитаем долю неблагонадёжных клиентов от общего числа клиентов по каждой группе:"
   ]
  },
  {
   "cell_type": "code",
   "execution_count": 49,
   "metadata": {
    "scrolled": true
   },
   "outputs": [
    {
     "data": {
      "text/html": [
       "<style type=\"text/css\">\n",
       "</style>\n",
       "<table id=\"T_34f1e_\">\n",
       "  <thead>\n",
       "    <tr>\n",
       "      <th class=\"index_name level0\" >debt</th>\n",
       "      <th class=\"col_heading level0 col0\" >0</th>\n",
       "      <th class=\"col_heading level0 col1\" >1</th>\n",
       "      <th class=\"col_heading level0 col2\" >debt_percent</th>\n",
       "    </tr>\n",
       "    <tr>\n",
       "      <th class=\"index_name level0\" >purpose</th>\n",
       "      <th class=\"blank col0\" >&nbsp;</th>\n",
       "      <th class=\"blank col1\" >&nbsp;</th>\n",
       "      <th class=\"blank col2\" >&nbsp;</th>\n",
       "    </tr>\n",
       "  </thead>\n",
       "  <tbody>\n",
       "    <tr>\n",
       "      <th id=\"T_34f1e_level0_row0\" class=\"row_heading level0 row0\" >жильё/недвижимость</th>\n",
       "      <td id=\"T_34f1e_row0_col0\" class=\"data row0 col0\" >10029</td>\n",
       "      <td id=\"T_34f1e_row0_col1\" class=\"data row0 col1\" >782</td>\n",
       "      <td id=\"T_34f1e_row0_col2\" class=\"data row0 col2\" >7.23%</td>\n",
       "    </tr>\n",
       "    <tr>\n",
       "      <th id=\"T_34f1e_level0_row1\" class=\"row_heading level0 row1\" >свадьба</th>\n",
       "      <td id=\"T_34f1e_row1_col0\" class=\"data row1 col0\" >2138</td>\n",
       "      <td id=\"T_34f1e_row1_col1\" class=\"data row1 col1\" >186</td>\n",
       "      <td id=\"T_34f1e_row1_col2\" class=\"data row1 col2\" >8.00%</td>\n",
       "    </tr>\n",
       "    <tr>\n",
       "      <th id=\"T_34f1e_level0_row2\" class=\"row_heading level0 row2\" >получение образования</th>\n",
       "      <td id=\"T_34f1e_row2_col0\" class=\"data row2 col0\" >3643</td>\n",
       "      <td id=\"T_34f1e_row2_col1\" class=\"data row2 col1\" >370</td>\n",
       "      <td id=\"T_34f1e_row2_col2\" class=\"data row2 col2\" >9.22%</td>\n",
       "    </tr>\n",
       "    <tr>\n",
       "      <th id=\"T_34f1e_level0_row3\" class=\"row_heading level0 row3\" >покупка автомобиля</th>\n",
       "      <td id=\"T_34f1e_row3_col0\" class=\"data row3 col0\" >3903</td>\n",
       "      <td id=\"T_34f1e_row3_col1\" class=\"data row3 col1\" >403</td>\n",
       "      <td id=\"T_34f1e_row3_col2\" class=\"data row3 col2\" >9.36%</td>\n",
       "    </tr>\n",
       "  </tbody>\n",
       "</table>\n"
      ],
      "text/plain": [
       "<pandas.io.formats.style.Styler at 0x7fb1a6bf7d60>"
      ]
     },
     "execution_count": 49,
     "metadata": {},
     "output_type": "execute_result"
    }
   ],
   "source": [
    "pivot_purpose = df.pivot_table(\n",
    "    index='purpose',\n",
    "    columns = 'debt',\n",
    "    values = 'total_income',\n",
    "    aggfunc = 'count')\n",
    "pivot_purpose['debt_percent'] = 100*pivot_purpose[1]/(pivot_purpose[0]+pivot_purpose[1])\n",
    "#отсортируем результаты по возрастанию доли\n",
    "pivot_purpose = pivot_purpose.sort_values(by='debt_percent', ascending=True)\n",
    "pivot_purpose.style.format({'debt_percent':'{:.2f}%'})"
   ]
  },
  {
   "cell_type": "code",
   "execution_count": 50,
   "metadata": {},
   "outputs": [
    {
     "data": {
      "image/png": "[encoded data removed]",
      "text/plain": [
       "<Figure size 432x288 with 1 Axes>"
      ]
     },
     "metadata": {
      "needs_background": "light"
     },
     "output_type": "display_data"
    }
   ],
   "source": [
    "sns.barplot(x=100*df.groupby('purpose')['debt'].sum()/df.groupby('purpose')['debt'].count(),\n",
    "            y=df['purpose'].unique())\n",
    "plt.title('Доля клиентов, имеющих долги по кредиту')\n",
    "plt.xlabel('В % от общего числа клиентов');"
   ]
  },
  {
   "cell_type": "markdown",
   "metadata": {},
   "source": [
    "**Вывод**"
   ]
  },
  {
   "cell_type": "markdown",
   "metadata": {},
   "source": [
    "Наша гипотеза подтвердилась: люди, получающие кредит с целью приобретения жилья или недвижимости реже других нарушаю сроки гашения кредита. \"Рискованными\" целями оказалось получение образования и покупка автомобиля."
   ]
  },
  {
   "cell_type": "markdown",
   "metadata": {},
   "source": [
    "<a id='anchor_6'></a>\n",
    "## Общий вывод"
   ]
  },
  {
   "cell_type": "markdown",
   "metadata": {},
   "source": [
    "По заявке заказчика, кредитного отдела банка, перед нами стояла задача проверить влияние некоторых факторов на факт гашения кредита в срок. Данные о платёжеспосоности клиентов мы получили из файла, предоставленного банком. О качестве этих данных ничего не было известно.\n",
    "\n",
    "На этапе обзора данных мы выяснили, что данных достаточно для проверки гипотез. Однако, в исходном массиве имелись пропуски и ошибки, которые могли бы исказить результаты исследования. Мы исключим пропуски. Заменили данные столбца о ежемесячном доходе целочисленными значениями, упростив тем самым восприятие данного показателя. Кроме того, в таком виде сведения проще категоризовать.\n",
    "\n",
    "На этапе обработки дубликатов и подозрительных значений мы сначала выявили, а затем устранили явные дубликаты (полный повтор строки). Далее мы проверили каждый из столбцов на предмет наличия в них скрытых дубликатов и также их устранили. В процессе нами были обнаружены подозрительные/нелогичные значения, от которых мы также избавились.\n",
    "\n",
    "Применив лемматизацию, мы объединили синонимичные категории первоначальной группировки по целям получения кредита. Так как мы имели дело с большим массивом данных, для поиска ответов на поставленные вопросы мы прибегли к категозиции и разбили совокупность на общие группы, приняв в качестве параметров исследуемые характеристики. Далее мы установили зависимости между показателями, рассчитывая показатели описательной статистики по каждой группе отдельно и сравнивая их между собой, нашли ответы на поставленные перед нами вопросы:\n",
    "1. Есть ли зависимость между наличием детей и возвратом кредита в срок?\n",
    "2. Есть ли зависимость между семейным положением и возвратом кредита в срок?\n",
    "3. Есть ли зависимость между уровнем дохода и возвратом кредита в срок?\n",
    "4. Как разные цели кредита влияют на его возврат в срок?\n",
    "\n",
    "Гипотеза о прямой зависимости возврата кредита в срок от наличия детей подтвердилась частично. Наибольший процент потенциальных неблагонадёжных клиентов выявился в категории малодетных семей (то есть среди клиентов с 1 или 2 детьми). Однако, стоит отметить, что минимальная доля неблагонадёжных клиентов от общего числа клиентов по категории наблюдается именно в бездетных семьях. Отсюда вывод: зависимость между наличием детей и возвратом кредита в срок есть. Клиент без детей вернёт кредит в срок с большей вероятностью, чем клиент, имеющий детей.\n",
    "\n",
    "Зависимость между семейным положением и возвратом кредита в срок оказалась не очевидной. Самыми надёжными были установлены овдовевшие клиенты, в то время как люди, состоящие в гражданском браке, попали в группу риска. Таким образом одинокие и семейные люди практически с одинаковой вероятностью могут не вернуть кредит в срок.\n",
    "\n",
    "Зависимость между уровнем ежемесячного дохода и вероятностью возврата кредита в срок есть. Чаще других допускают задолженность клиенты со средним уровем дохода, а с высокими доходами - реже. При удовлетворении заявок на кредит следует обращать внимание также и на уровень образования клиентов. Неоконченное высшее и начальное образование - группа риска.\n",
    "\n",
    "Наша гипотеза о том, что люди, получающие кредит с целью приобретения жилья или недвижимости реже других нарушают сроки гашения кредита. \"Рискованными\" целями оказалось получение образования и покупка автомобиля.\n",
    "\n",
    "При построении модели **кредитного скоринга** — специальной системы, которая оценивает способность потенциального заёмщика вернуть кредит банку первостепенно следует учитывать следующие факторы: цель получения кредита и уровень дохода. Принять во внимание также можно наличие у клиента детей и уровень образования."
   ]
  },
  {
   "cell_type": "code",
   "execution_count": null,
   "metadata": {},
   "outputs": [],
   "source": []
  }
 ],
 "metadata": {
  "ExecuteTimeLog": [
   {
    "duration": 656,
    "start_time": "2022-01-09T14:26:25.575Z"
   },
   {
    "duration": 63,
    "start_time": "2022-01-09T14:27:40.954Z"
   },
   {
    "duration": 55,
    "start_time": "2022-01-09T14:27:55.954Z"
   },
   {
    "duration": 12,
    "start_time": "2022-01-09T15:43:52.174Z"
   },
   {
    "duration": 11,
    "start_time": "2022-01-09T15:56:38.626Z"
   },
   {
    "duration": 60,
    "start_time": "2022-01-09T16:00:15.415Z"
   },
   {
    "duration": 59,
    "start_time": "2022-01-09T20:25:34.242Z"
   },
   {
    "duration": 13,
    "start_time": "2022-01-09T20:25:34.303Z"
   },
   {
    "duration": 12,
    "start_time": "2022-01-09T20:25:34.318Z"
   },
   {
    "duration": 15,
    "start_time": "2022-01-09T20:25:34.341Z"
   },
   {
    "duration": 13,
    "start_time": "2022-01-09T20:31:16.297Z"
   },
   {
    "duration": 56,
    "start_time": "2022-01-09T20:35:40.577Z"
   },
   {
    "duration": 11,
    "start_time": "2022-01-09T20:35:40.635Z"
   },
   {
    "duration": 13,
    "start_time": "2022-01-09T20:35:40.648Z"
   },
   {
    "duration": 14,
    "start_time": "2022-01-09T20:35:40.663Z"
   },
   {
    "duration": 64,
    "start_time": "2022-01-09T20:46:53.630Z"
   },
   {
    "duration": 22,
    "start_time": "2022-01-09T20:47:07.421Z"
   },
   {
    "duration": 10,
    "start_time": "2022-01-09T20:54:13.535Z"
   },
   {
    "duration": 57,
    "start_time": "2022-01-09T21:11:16.540Z"
   },
   {
    "duration": 11,
    "start_time": "2022-01-09T21:11:16.599Z"
   },
   {
    "duration": 13,
    "start_time": "2022-01-09T21:11:16.612Z"
   },
   {
    "duration": 19,
    "start_time": "2022-01-09T21:11:16.626Z"
   },
   {
    "duration": 9,
    "start_time": "2022-01-09T21:11:16.647Z"
   },
   {
    "duration": 17,
    "start_time": "2022-01-09T21:12:39.699Z"
   },
   {
    "duration": 14,
    "start_time": "2022-01-09T21:13:39.804Z"
   },
   {
    "duration": 296,
    "start_time": "2022-01-09T21:36:12.855Z"
   },
   {
    "duration": 6,
    "start_time": "2022-01-09T21:36:54.156Z"
   },
   {
    "duration": 12,
    "start_time": "2022-01-09T21:37:26.668Z"
   },
   {
    "duration": 14,
    "start_time": "2022-01-09T21:38:19.368Z"
   },
   {
    "duration": 20,
    "start_time": "2022-01-09T21:38:41.476Z"
   },
   {
    "duration": 13,
    "start_time": "2022-01-09T21:39:32.255Z"
   },
   {
    "duration": 12,
    "start_time": "2022-01-09T21:43:15.907Z"
   },
   {
    "duration": 11,
    "start_time": "2022-01-09T21:44:41.595Z"
   },
   {
    "duration": 241,
    "start_time": "2022-01-09T21:57:33.086Z"
   },
   {
    "duration": 240,
    "start_time": "2022-01-09T21:57:58.387Z"
   },
   {
    "duration": 4,
    "start_time": "2022-01-09T22:00:42.767Z"
   },
   {
    "duration": 11,
    "start_time": "2022-01-09T22:01:03.395Z"
   },
   {
    "duration": 12,
    "start_time": "2022-01-09T22:02:33.924Z"
   },
   {
    "duration": 604,
    "start_time": "2022-01-10T16:37:57.180Z"
   },
   {
    "duration": 11,
    "start_time": "2022-01-10T16:37:57.786Z"
   },
   {
    "duration": 36,
    "start_time": "2022-01-10T16:37:57.798Z"
   },
   {
    "duration": 23,
    "start_time": "2022-01-10T16:37:57.835Z"
   },
   {
    "duration": 36,
    "start_time": "2022-01-10T16:37:57.859Z"
   },
   {
    "duration": 17,
    "start_time": "2022-01-10T16:37:57.897Z"
   },
   {
    "duration": 34,
    "start_time": "2022-01-10T16:37:57.915Z"
   },
   {
    "duration": 23,
    "start_time": "2022-01-10T16:37:57.951Z"
   },
   {
    "duration": 65,
    "start_time": "2022-01-10T16:51:58.676Z"
   },
   {
    "duration": 11,
    "start_time": "2022-01-10T16:51:58.743Z"
   },
   {
    "duration": 12,
    "start_time": "2022-01-10T16:51:58.757Z"
   },
   {
    "duration": 13,
    "start_time": "2022-01-10T16:51:58.771Z"
   },
   {
    "duration": 12,
    "start_time": "2022-01-10T16:51:58.786Z"
   },
   {
    "duration": 17,
    "start_time": "2022-01-10T16:51:58.799Z"
   },
   {
    "duration": 33,
    "start_time": "2022-01-10T16:51:58.818Z"
   },
   {
    "duration": 12,
    "start_time": "2022-01-10T16:51:58.853Z"
   },
   {
    "duration": 311,
    "start_time": "2022-01-10T17:00:23.116Z"
   },
   {
    "duration": 5,
    "start_time": "2022-01-10T17:00:32.214Z"
   },
   {
    "duration": 6,
    "start_time": "2022-01-10T17:03:23.957Z"
   },
   {
    "duration": 7,
    "start_time": "2022-01-10T17:05:20.929Z"
   },
   {
    "duration": 248,
    "start_time": "2022-01-10T17:06:10.951Z"
   },
   {
    "duration": 7,
    "start_time": "2022-01-10T17:08:57.204Z"
   },
   {
    "duration": 6,
    "start_time": "2022-01-10T17:09:11.389Z"
   },
   {
    "duration": 11,
    "start_time": "2022-01-10T17:21:06.056Z"
   },
   {
    "duration": 20,
    "start_time": "2022-01-10T17:21:30.757Z"
   },
   {
    "duration": 10,
    "start_time": "2022-01-10T17:22:18.903Z"
   },
   {
    "duration": 17,
    "start_time": "2022-01-10T17:36:24.887Z"
   },
   {
    "duration": 18,
    "start_time": "2022-01-10T17:42:51.514Z"
   },
   {
    "duration": 15,
    "start_time": "2022-01-10T17:46:48.323Z"
   },
   {
    "duration": 6,
    "start_time": "2022-01-10T17:56:59.750Z"
   },
   {
    "duration": 250,
    "start_time": "2022-01-10T18:03:01.646Z"
   },
   {
    "duration": 976,
    "start_time": "2022-01-10T18:06:50.764Z"
   },
   {
    "duration": 275,
    "start_time": "2022-01-10T18:07:13.272Z"
   },
   {
    "duration": 270,
    "start_time": "2022-01-10T18:07:23.194Z"
   },
   {
    "duration": 252,
    "start_time": "2022-01-10T18:09:01.999Z"
   },
   {
    "duration": 59,
    "start_time": "2022-01-10T18:14:28.707Z"
   },
   {
    "duration": 11,
    "start_time": "2022-01-10T18:14:28.768Z"
   },
   {
    "duration": 16,
    "start_time": "2022-01-10T18:14:28.781Z"
   },
   {
    "duration": 14,
    "start_time": "2022-01-10T18:14:28.799Z"
   },
   {
    "duration": 27,
    "start_time": "2022-01-10T18:14:28.815Z"
   },
   {
    "duration": 14,
    "start_time": "2022-01-10T18:14:28.844Z"
   },
   {
    "duration": 7,
    "start_time": "2022-01-10T18:14:28.860Z"
   },
   {
    "duration": 12,
    "start_time": "2022-01-10T18:14:28.869Z"
   },
   {
    "duration": 10,
    "start_time": "2022-01-10T18:14:28.884Z"
   },
   {
    "duration": 47,
    "start_time": "2022-01-10T18:14:28.896Z"
   },
   {
    "duration": 17,
    "start_time": "2022-01-10T18:14:28.945Z"
   },
   {
    "duration": 14,
    "start_time": "2022-01-10T18:14:28.964Z"
   },
   {
    "duration": 6,
    "start_time": "2022-01-10T18:14:28.979Z"
   },
   {
    "duration": 243,
    "start_time": "2022-01-10T18:14:28.987Z"
   },
   {
    "duration": 17,
    "start_time": "2022-01-10T18:15:10.202Z"
   },
   {
    "duration": 8,
    "start_time": "2022-01-10T18:21:27.149Z"
   },
   {
    "duration": 17,
    "start_time": "2022-01-10T18:26:08.700Z"
   },
   {
    "duration": 8,
    "start_time": "2022-01-10T18:28:51.254Z"
   },
   {
    "duration": 10,
    "start_time": "2022-01-10T18:29:06.529Z"
   },
   {
    "duration": 7,
    "start_time": "2022-01-10T18:29:29.549Z"
   },
   {
    "duration": 9,
    "start_time": "2022-01-10T18:29:42.122Z"
   },
   {
    "duration": 237,
    "start_time": "2022-01-10T18:38:21.299Z"
   },
   {
    "duration": 3,
    "start_time": "2022-01-10T18:39:04.819Z"
   },
   {
    "duration": 4,
    "start_time": "2022-01-10T18:39:22.738Z"
   },
   {
    "duration": 4,
    "start_time": "2022-01-10T18:42:36.881Z"
   },
   {
    "duration": 5,
    "start_time": "2022-01-10T18:42:47.640Z"
   },
   {
    "duration": 19,
    "start_time": "2022-01-10T18:46:57.231Z"
   },
   {
    "duration": 424,
    "start_time": "2022-01-10T19:11:28.433Z"
   },
   {
    "duration": 324,
    "start_time": "2022-01-10T19:11:46.695Z"
   },
   {
    "duration": 87,
    "start_time": "2022-01-10T19:12:46.844Z"
   },
   {
    "duration": 242,
    "start_time": "2022-01-10T19:14:07.258Z"
   },
   {
    "duration": 358,
    "start_time": "2022-01-10T19:15:13.891Z"
   },
   {
    "duration": 246,
    "start_time": "2022-01-10T19:15:24.149Z"
   },
   {
    "duration": 107,
    "start_time": "2022-01-10T19:17:17.749Z"
   },
   {
    "duration": 4,
    "start_time": "2022-01-10T19:19:09.077Z"
   },
   {
    "duration": 20,
    "start_time": "2022-01-10T19:19:52.659Z"
   },
   {
    "duration": 324,
    "start_time": "2022-01-10T19:20:33.556Z"
   },
   {
    "duration": 449,
    "start_time": "2022-01-10T19:21:00.074Z"
   },
   {
    "duration": 242,
    "start_time": "2022-01-10T19:23:41.696Z"
   },
   {
    "duration": 270,
    "start_time": "2022-01-10T19:29:10.437Z"
   },
   {
    "duration": 87,
    "start_time": "2022-01-10T19:29:31.390Z"
   },
   {
    "duration": 19,
    "start_time": "2022-01-10T19:30:17.625Z"
   },
   {
    "duration": 294,
    "start_time": "2022-01-10T19:32:13.667Z"
   },
   {
    "duration": 242,
    "start_time": "2022-01-10T19:32:27.368Z"
   },
   {
    "duration": 293,
    "start_time": "2022-01-10T19:32:56.066Z"
   },
   {
    "duration": 14,
    "start_time": "2022-01-10T19:33:02.745Z"
   },
   {
    "duration": 56,
    "start_time": "2022-01-10T19:33:44.539Z"
   },
   {
    "duration": 10,
    "start_time": "2022-01-10T19:33:44.597Z"
   },
   {
    "duration": 12,
    "start_time": "2022-01-10T19:33:44.609Z"
   },
   {
    "duration": 21,
    "start_time": "2022-01-10T19:33:44.622Z"
   },
   {
    "duration": 9,
    "start_time": "2022-01-10T19:33:44.644Z"
   },
   {
    "duration": 24,
    "start_time": "2022-01-10T19:33:44.654Z"
   },
   {
    "duration": 17,
    "start_time": "2022-01-10T19:33:44.679Z"
   },
   {
    "duration": 24,
    "start_time": "2022-01-10T19:33:44.697Z"
   },
   {
    "duration": 20,
    "start_time": "2022-01-10T19:33:44.723Z"
   },
   {
    "duration": 14,
    "start_time": "2022-01-10T19:33:44.745Z"
   },
   {
    "duration": 16,
    "start_time": "2022-01-10T19:33:44.761Z"
   },
   {
    "duration": 18,
    "start_time": "2022-01-10T19:33:44.779Z"
   },
   {
    "duration": 5,
    "start_time": "2022-01-10T19:33:44.799Z"
   },
   {
    "duration": 18,
    "start_time": "2022-01-10T19:33:44.806Z"
   },
   {
    "duration": 31,
    "start_time": "2022-01-10T19:33:44.825Z"
   },
   {
    "duration": 12,
    "start_time": "2022-01-10T19:33:44.857Z"
   },
   {
    "duration": 17,
    "start_time": "2022-01-10T19:33:44.870Z"
   },
   {
    "duration": 30,
    "start_time": "2022-01-10T19:33:44.889Z"
   },
   {
    "duration": 34,
    "start_time": "2022-01-10T19:33:44.921Z"
   },
   {
    "duration": 27,
    "start_time": "2022-01-10T19:33:44.956Z"
   },
   {
    "duration": 16,
    "start_time": "2022-01-10T19:33:44.984Z"
   },
   {
    "duration": 25,
    "start_time": "2022-01-10T19:33:45.002Z"
   },
   {
    "duration": 85,
    "start_time": "2022-01-10T19:35:32.082Z"
   },
   {
    "duration": 88,
    "start_time": "2022-01-10T19:35:41.906Z"
   },
   {
    "duration": 103,
    "start_time": "2022-01-10T19:35:52.214Z"
   },
   {
    "duration": 264,
    "start_time": "2022-01-10T19:36:11.515Z"
   },
   {
    "duration": 101,
    "start_time": "2022-01-10T19:37:11.915Z"
   },
   {
    "duration": 234,
    "start_time": "2022-01-10T19:38:39.388Z"
   },
   {
    "duration": 98,
    "start_time": "2022-01-10T19:53:29.472Z"
   },
   {
    "duration": 89,
    "start_time": "2022-01-10T19:53:47.542Z"
   },
   {
    "duration": 453,
    "start_time": "2022-01-10T19:54:07.330Z"
   },
   {
    "duration": 203,
    "start_time": "2022-01-10T19:54:44.217Z"
   },
   {
    "duration": 211,
    "start_time": "2022-01-10T19:55:18.011Z"
   },
   {
    "duration": 227,
    "start_time": "2022-01-10T19:56:23.823Z"
   },
   {
    "duration": 274,
    "start_time": "2022-01-10T19:57:31.628Z"
   },
   {
    "duration": 261,
    "start_time": "2022-01-10T19:58:39.315Z"
   },
   {
    "duration": 315,
    "start_time": "2022-01-10T19:58:52.647Z"
   },
   {
    "duration": 4,
    "start_time": "2022-01-10T20:11:39.874Z"
   },
   {
    "duration": 14,
    "start_time": "2022-01-10T20:12:02.649Z"
   },
   {
    "duration": 243,
    "start_time": "2022-01-10T20:12:19.306Z"
   },
   {
    "duration": 254,
    "start_time": "2022-01-10T20:12:54.404Z"
   },
   {
    "duration": 329,
    "start_time": "2022-01-10T20:13:48.437Z"
   },
   {
    "duration": 304,
    "start_time": "2022-01-10T20:19:36.366Z"
   },
   {
    "duration": 268,
    "start_time": "2022-01-10T20:20:00.682Z"
   },
   {
    "duration": 264,
    "start_time": "2022-01-10T20:20:46.382Z"
   },
   {
    "duration": 272,
    "start_time": "2022-01-10T20:21:16.196Z"
   },
   {
    "duration": 242,
    "start_time": "2022-01-10T20:22:05.456Z"
   },
   {
    "duration": 323,
    "start_time": "2022-01-10T20:26:12.563Z"
   },
   {
    "duration": 85,
    "start_time": "2022-01-10T20:26:32.044Z"
   },
   {
    "duration": 27,
    "start_time": "2022-01-10T20:26:32.131Z"
   },
   {
    "duration": 15,
    "start_time": "2022-01-10T20:26:32.160Z"
   },
   {
    "duration": 14,
    "start_time": "2022-01-10T20:26:32.177Z"
   },
   {
    "duration": 10,
    "start_time": "2022-01-10T20:26:32.193Z"
   },
   {
    "duration": 42,
    "start_time": "2022-01-10T20:26:32.204Z"
   },
   {
    "duration": 7,
    "start_time": "2022-01-10T20:26:32.248Z"
   },
   {
    "duration": 9,
    "start_time": "2022-01-10T20:26:32.257Z"
   },
   {
    "duration": 13,
    "start_time": "2022-01-10T20:26:32.268Z"
   },
   {
    "duration": 15,
    "start_time": "2022-01-10T20:26:32.283Z"
   },
   {
    "duration": 61,
    "start_time": "2022-01-10T20:26:32.300Z"
   },
   {
    "duration": 19,
    "start_time": "2022-01-10T20:26:32.363Z"
   },
   {
    "duration": 4,
    "start_time": "2022-01-10T20:26:32.384Z"
   },
   {
    "duration": 8,
    "start_time": "2022-01-10T20:26:32.389Z"
   },
   {
    "duration": 76,
    "start_time": "2022-01-10T20:26:32.398Z"
   },
   {
    "duration": 5,
    "start_time": "2022-01-10T20:26:32.476Z"
   },
   {
    "duration": 21,
    "start_time": "2022-01-10T20:26:32.482Z"
   },
   {
    "duration": 125,
    "start_time": "2022-01-10T20:26:32.505Z"
   },
   {
    "duration": 108,
    "start_time": "2022-01-10T20:26:32.632Z"
   },
   {
    "duration": 47,
    "start_time": "2022-01-10T20:26:32.742Z"
   },
   {
    "duration": 10,
    "start_time": "2022-01-10T20:26:32.791Z"
   },
   {
    "duration": 11,
    "start_time": "2022-01-10T20:26:32.803Z"
   },
   {
    "duration": 269,
    "start_time": "2022-01-10T20:31:26.834Z"
   },
   {
    "duration": 5,
    "start_time": "2022-01-10T20:31:43.174Z"
   },
   {
    "duration": 6,
    "start_time": "2022-01-10T20:32:03.033Z"
   },
   {
    "duration": 7,
    "start_time": "2022-01-10T20:33:07.368Z"
   },
   {
    "duration": 7,
    "start_time": "2022-01-10T20:34:32.962Z"
   },
   {
    "duration": 5,
    "start_time": "2022-01-10T20:34:47.019Z"
   },
   {
    "duration": 4,
    "start_time": "2022-01-10T20:36:38.231Z"
   },
   {
    "duration": 4,
    "start_time": "2022-01-10T20:37:02.266Z"
   },
   {
    "duration": 4,
    "start_time": "2022-01-10T20:37:31.331Z"
   },
   {
    "duration": 4,
    "start_time": "2022-01-10T20:38:42.693Z"
   },
   {
    "duration": 16,
    "start_time": "2022-01-10T20:41:30.108Z"
   },
   {
    "duration": 6,
    "start_time": "2022-01-10T20:57:56.122Z"
   },
   {
    "duration": 12,
    "start_time": "2022-01-10T21:41:45.386Z"
   },
   {
    "duration": 13,
    "start_time": "2022-01-10T21:41:45.400Z"
   },
   {
    "duration": 26,
    "start_time": "2022-01-10T21:41:45.415Z"
   },
   {
    "duration": 9,
    "start_time": "2022-01-10T21:41:45.443Z"
   },
   {
    "duration": 13,
    "start_time": "2022-01-10T21:41:50.128Z"
   },
   {
    "duration": 6,
    "start_time": "2022-01-10T21:41:50.143Z"
   },
   {
    "duration": 13,
    "start_time": "2022-01-10T21:41:50.151Z"
   },
   {
    "duration": 12,
    "start_time": "2022-01-10T21:41:50.166Z"
   },
   {
    "duration": 15,
    "start_time": "2022-01-10T21:41:54.597Z"
   },
   {
    "duration": 17,
    "start_time": "2022-01-10T21:41:54.614Z"
   },
   {
    "duration": 14,
    "start_time": "2022-01-10T21:41:54.633Z"
   },
   {
    "duration": 4,
    "start_time": "2022-01-10T21:41:54.649Z"
   },
   {
    "duration": 7,
    "start_time": "2022-01-10T21:41:54.654Z"
   },
   {
    "duration": 18,
    "start_time": "2022-01-10T21:41:54.662Z"
   },
   {
    "duration": 263,
    "start_time": "2022-01-10T21:41:54.682Z"
   },
   {
    "duration": -140,
    "start_time": "2022-01-10T21:41:55.087Z"
   },
   {
    "duration": -151,
    "start_time": "2022-01-10T21:41:55.099Z"
   },
   {
    "duration": -169,
    "start_time": "2022-01-10T21:41:55.118Z"
   },
   {
    "duration": -175,
    "start_time": "2022-01-10T21:41:55.125Z"
   },
   {
    "duration": -181,
    "start_time": "2022-01-10T21:41:55.131Z"
   },
   {
    "duration": -185,
    "start_time": "2022-01-10T21:41:55.136Z"
   },
   {
    "duration": -205,
    "start_time": "2022-01-10T21:41:55.157Z"
   },
   {
    "duration": -208,
    "start_time": "2022-01-10T21:41:55.162Z"
   },
   {
    "duration": -261,
    "start_time": "2022-01-10T21:41:55.216Z"
   },
   {
    "duration": -287,
    "start_time": "2022-01-10T21:41:55.243Z"
   },
   {
    "duration": -293,
    "start_time": "2022-01-10T21:41:55.249Z"
   },
   {
    "duration": -296,
    "start_time": "2022-01-10T21:41:55.253Z"
   },
   {
    "duration": -312,
    "start_time": "2022-01-10T21:41:55.270Z"
   },
   {
    "duration": -316,
    "start_time": "2022-01-10T21:41:55.275Z"
   },
   {
    "duration": 61,
    "start_time": "2022-01-10T21:41:55.309Z"
   },
   {
    "duration": 61,
    "start_time": "2022-01-10T21:41:59.736Z"
   },
   {
    "duration": 12,
    "start_time": "2022-01-10T21:41:59.799Z"
   },
   {
    "duration": 11,
    "start_time": "2022-01-10T21:41:59.814Z"
   },
   {
    "duration": 25,
    "start_time": "2022-01-10T21:41:59.827Z"
   },
   {
    "duration": 22,
    "start_time": "2022-01-10T21:41:59.854Z"
   },
   {
    "duration": 15,
    "start_time": "2022-01-10T21:41:59.878Z"
   },
   {
    "duration": 6,
    "start_time": "2022-01-10T21:41:59.894Z"
   },
   {
    "duration": 11,
    "start_time": "2022-01-10T21:41:59.902Z"
   },
   {
    "duration": 27,
    "start_time": "2022-01-10T21:41:59.915Z"
   },
   {
    "duration": 19,
    "start_time": "2022-01-10T21:41:59.944Z"
   },
   {
    "duration": 17,
    "start_time": "2022-01-10T21:41:59.964Z"
   },
   {
    "duration": 18,
    "start_time": "2022-01-10T21:41:59.983Z"
   },
   {
    "duration": 3,
    "start_time": "2022-01-10T21:42:00.043Z"
   },
   {
    "duration": 22,
    "start_time": "2022-01-10T21:42:00.048Z"
   },
   {
    "duration": 31,
    "start_time": "2022-01-10T21:42:00.072Z"
   },
   {
    "duration": 265,
    "start_time": "2022-01-10T21:42:00.105Z"
   },
   {
    "duration": -411,
    "start_time": "2022-01-10T21:42:00.783Z"
   },
   {
    "duration": -412,
    "start_time": "2022-01-10T21:42:00.785Z"
   },
   {
    "duration": -418,
    "start_time": "2022-01-10T21:42:00.792Z"
   },
   {
    "duration": -422,
    "start_time": "2022-01-10T21:42:00.797Z"
   },
   {
    "duration": -424,
    "start_time": "2022-01-10T21:42:00.801Z"
   },
   {
    "duration": -431,
    "start_time": "2022-01-10T21:42:00.809Z"
   },
   {
    "duration": -451,
    "start_time": "2022-01-10T21:42:00.829Z"
   },
   {
    "duration": -503,
    "start_time": "2022-01-10T21:42:00.882Z"
   },
   {
    "duration": -534,
    "start_time": "2022-01-10T21:42:00.914Z"
   },
   {
    "duration": -588,
    "start_time": "2022-01-10T21:42:00.969Z"
   },
   {
    "duration": -592,
    "start_time": "2022-01-10T21:42:00.974Z"
   },
   {
    "duration": -607,
    "start_time": "2022-01-10T21:42:00.990Z"
   },
   {
    "duration": -1986,
    "start_time": "2022-01-10T21:42:02.370Z"
   },
   {
    "duration": -1989,
    "start_time": "2022-01-10T21:42:02.374Z"
   },
   {
    "duration": 543,
    "start_time": "2022-01-10T21:42:49.566Z"
   },
   {
    "duration": 2,
    "start_time": "2022-01-10T21:56:43.105Z"
   },
   {
    "duration": 57,
    "start_time": "2022-01-10T21:56:49.742Z"
   },
   {
    "duration": 10,
    "start_time": "2022-01-10T21:56:49.801Z"
   },
   {
    "duration": 23,
    "start_time": "2022-01-10T21:56:49.813Z"
   },
   {
    "duration": 23,
    "start_time": "2022-01-10T21:56:49.838Z"
   },
   {
    "duration": 8,
    "start_time": "2022-01-10T21:56:49.863Z"
   },
   {
    "duration": 12,
    "start_time": "2022-01-10T21:56:49.872Z"
   },
   {
    "duration": 6,
    "start_time": "2022-01-10T21:56:49.885Z"
   },
   {
    "duration": 13,
    "start_time": "2022-01-10T21:56:49.892Z"
   },
   {
    "duration": 10,
    "start_time": "2022-01-10T21:56:49.907Z"
   },
   {
    "duration": 17,
    "start_time": "2022-01-10T21:56:50.763Z"
   },
   {
    "duration": 18,
    "start_time": "2022-01-10T21:56:50.781Z"
   },
   {
    "duration": 15,
    "start_time": "2022-01-10T21:56:50.801Z"
   },
   {
    "duration": 4,
    "start_time": "2022-01-10T21:56:50.817Z"
   },
   {
    "duration": 18,
    "start_time": "2022-01-10T21:56:50.823Z"
   },
   {
    "duration": 18,
    "start_time": "2022-01-10T21:56:50.843Z"
   },
   {
    "duration": 2,
    "start_time": "2022-01-10T21:56:50.863Z"
   },
   {
    "duration": 6,
    "start_time": "2022-01-10T21:56:50.867Z"
   },
   {
    "duration": 23,
    "start_time": "2022-01-10T21:56:50.874Z"
   },
   {
    "duration": 9,
    "start_time": "2022-01-10T21:56:50.900Z"
   },
   {
    "duration": 18,
    "start_time": "2022-01-10T21:56:50.911Z"
   },
   {
    "duration": 13,
    "start_time": "2022-01-10T21:56:50.930Z"
   },
   {
    "duration": 8,
    "start_time": "2022-01-10T21:56:50.945Z"
   },
   {
    "duration": 19,
    "start_time": "2022-01-10T21:56:50.955Z"
   },
   {
    "duration": 9,
    "start_time": "2022-01-10T21:56:50.976Z"
   },
   {
    "duration": 21,
    "start_time": "2022-01-10T21:56:50.987Z"
   },
   {
    "duration": 29,
    "start_time": "2022-01-10T21:56:51.010Z"
   },
   {
    "duration": 11,
    "start_time": "2022-01-10T21:56:51.040Z"
   },
   {
    "duration": 22,
    "start_time": "2022-01-10T21:56:51.052Z"
   },
   {
    "duration": 10,
    "start_time": "2022-01-10T21:56:51.075Z"
   },
   {
    "duration": 11,
    "start_time": "2022-01-10T21:56:51.086Z"
   },
   {
    "duration": 654,
    "start_time": "2022-01-11T15:19:01.682Z"
   },
   {
    "duration": 13,
    "start_time": "2022-01-11T15:19:02.337Z"
   },
   {
    "duration": 16,
    "start_time": "2022-01-11T15:19:02.353Z"
   },
   {
    "duration": 24,
    "start_time": "2022-01-11T15:19:02.371Z"
   },
   {
    "duration": 13,
    "start_time": "2022-01-11T15:19:02.398Z"
   },
   {
    "duration": 17,
    "start_time": "2022-01-11T15:19:02.413Z"
   },
   {
    "duration": 7,
    "start_time": "2022-01-11T15:19:02.432Z"
   },
   {
    "duration": 14,
    "start_time": "2022-01-11T15:19:02.441Z"
   },
   {
    "duration": 36,
    "start_time": "2022-01-11T15:19:02.457Z"
   },
   {
    "duration": 21,
    "start_time": "2022-01-11T15:19:02.495Z"
   },
   {
    "duration": 25,
    "start_time": "2022-01-11T15:19:02.518Z"
   },
   {
    "duration": 14,
    "start_time": "2022-01-11T15:19:02.545Z"
   },
   {
    "duration": 3,
    "start_time": "2022-01-11T15:19:02.561Z"
   },
   {
    "duration": 5,
    "start_time": "2022-01-11T15:19:02.592Z"
   },
   {
    "duration": 27,
    "start_time": "2022-01-11T15:19:02.599Z"
   },
   {
    "duration": 5,
    "start_time": "2022-01-11T15:19:02.628Z"
   },
   {
    "duration": 6,
    "start_time": "2022-01-11T15:19:02.635Z"
   },
   {
    "duration": 12,
    "start_time": "2022-01-11T15:19:02.643Z"
   },
   {
    "duration": 7,
    "start_time": "2022-01-11T15:19:02.657Z"
   },
   {
    "duration": 25,
    "start_time": "2022-01-11T15:19:02.666Z"
   },
   {
    "duration": 5,
    "start_time": "2022-01-11T15:19:02.693Z"
   },
   {
    "duration": 6,
    "start_time": "2022-01-11T15:19:02.700Z"
   },
   {
    "duration": 13,
    "start_time": "2022-01-11T15:19:02.709Z"
   },
   {
    "duration": 11,
    "start_time": "2022-01-11T15:19:02.724Z"
   },
   {
    "duration": 8,
    "start_time": "2022-01-11T15:19:02.737Z"
   },
   {
    "duration": 18,
    "start_time": "2022-01-11T15:19:02.747Z"
   },
   {
    "duration": 8,
    "start_time": "2022-01-11T15:19:02.793Z"
   },
   {
    "duration": 28,
    "start_time": "2022-01-11T15:19:02.804Z"
   },
   {
    "duration": 14,
    "start_time": "2022-01-11T15:19:02.835Z"
   },
   {
    "duration": 8,
    "start_time": "2022-01-11T15:19:02.851Z"
   },
   {
    "duration": 15,
    "start_time": "2022-01-11T15:21:53.683Z"
   },
   {
    "duration": 22,
    "start_time": "2022-01-11T15:22:36.091Z"
   },
   {
    "duration": 21,
    "start_time": "2022-01-11T15:24:36.643Z"
   },
   {
    "duration": 23,
    "start_time": "2022-01-11T15:25:08.474Z"
   },
   {
    "duration": 21,
    "start_time": "2022-01-11T15:25:50.786Z"
   },
   {
    "duration": 20,
    "start_time": "2022-01-11T15:26:03.787Z"
   },
   {
    "duration": 10,
    "start_time": "2022-01-11T15:30:24.829Z"
   },
   {
    "duration": 9,
    "start_time": "2022-01-11T15:30:28.737Z"
   },
   {
    "duration": 58,
    "start_time": "2022-01-11T15:30:34.402Z"
   },
   {
    "duration": 178,
    "start_time": "2022-01-11T15:30:34.462Z"
   },
   {
    "duration": 176,
    "start_time": "2022-01-11T15:30:34.642Z"
   },
   {
    "duration": 93,
    "start_time": "2022-01-11T15:30:34.820Z"
   },
   {
    "duration": 126,
    "start_time": "2022-01-11T15:30:34.915Z"
   },
   {
    "duration": 301,
    "start_time": "2022-01-11T15:30:35.043Z"
   },
   {
    "duration": 175,
    "start_time": "2022-01-11T15:30:35.345Z"
   },
   {
    "duration": 97,
    "start_time": "2022-01-11T15:30:35.522Z"
   },
   {
    "duration": 46,
    "start_time": "2022-01-11T15:30:35.622Z"
   },
   {
    "duration": 159,
    "start_time": "2022-01-11T15:30:35.670Z"
   },
   {
    "duration": 214,
    "start_time": "2022-01-11T15:30:35.830Z"
   },
   {
    "duration": 128,
    "start_time": "2022-01-11T15:30:36.046Z"
   },
   {
    "duration": 75,
    "start_time": "2022-01-11T15:30:36.176Z"
   },
   {
    "duration": 59,
    "start_time": "2022-01-11T15:30:36.252Z"
   },
   {
    "duration": 75,
    "start_time": "2022-01-11T15:30:36.313Z"
   },
   {
    "duration": 185,
    "start_time": "2022-01-11T15:30:36.389Z"
   },
   {
    "duration": 62,
    "start_time": "2022-01-11T15:30:36.576Z"
   },
   {
    "duration": 60,
    "start_time": "2022-01-11T15:30:36.640Z"
   },
   {
    "duration": 50,
    "start_time": "2022-01-11T15:30:36.702Z"
   },
   {
    "duration": 13,
    "start_time": "2022-01-11T15:30:36.754Z"
   },
   {
    "duration": 49,
    "start_time": "2022-01-11T15:30:36.769Z"
   },
   {
    "duration": 10,
    "start_time": "2022-01-11T15:30:36.821Z"
   },
   {
    "duration": 218,
    "start_time": "2022-01-11T15:30:36.833Z"
   },
   {
    "duration": 33,
    "start_time": "2022-01-11T15:30:37.052Z"
   },
   {
    "duration": 34,
    "start_time": "2022-01-11T15:30:37.087Z"
   },
   {
    "duration": 24,
    "start_time": "2022-01-11T15:30:37.123Z"
   },
   {
    "duration": 6,
    "start_time": "2022-01-11T15:30:37.151Z"
   },
   {
    "duration": 25,
    "start_time": "2022-01-11T15:30:37.159Z"
   },
   {
    "duration": 9,
    "start_time": "2022-01-11T15:30:37.186Z"
   },
   {
    "duration": 21,
    "start_time": "2022-01-11T15:30:37.197Z"
   },
   {
    "duration": 8,
    "start_time": "2022-01-11T15:31:23.834Z"
   },
   {
    "duration": 62,
    "start_time": "2022-01-11T15:31:30.674Z"
   },
   {
    "duration": 17,
    "start_time": "2022-01-11T15:31:30.738Z"
   },
   {
    "duration": 46,
    "start_time": "2022-01-11T15:31:30.757Z"
   },
   {
    "duration": 14,
    "start_time": "2022-01-11T15:31:30.806Z"
   },
   {
    "duration": 10,
    "start_time": "2022-01-11T15:31:30.822Z"
   },
   {
    "duration": 15,
    "start_time": "2022-01-11T15:31:30.834Z"
   },
   {
    "duration": 15,
    "start_time": "2022-01-11T15:31:30.850Z"
   },
   {
    "duration": 52,
    "start_time": "2022-01-11T15:31:30.866Z"
   },
   {
    "duration": 12,
    "start_time": "2022-01-11T15:31:30.922Z"
   },
   {
    "duration": 33,
    "start_time": "2022-01-11T15:31:30.936Z"
   },
   {
    "duration": 35,
    "start_time": "2022-01-11T15:31:30.971Z"
   },
   {
    "duration": 16,
    "start_time": "2022-01-11T15:31:31.009Z"
   },
   {
    "duration": 5,
    "start_time": "2022-01-11T15:31:31.026Z"
   },
   {
    "duration": 23,
    "start_time": "2022-01-11T15:31:31.032Z"
   },
   {
    "duration": 24,
    "start_time": "2022-01-11T15:31:31.057Z"
   },
   {
    "duration": 4,
    "start_time": "2022-01-11T15:31:31.083Z"
   },
   {
    "duration": 8,
    "start_time": "2022-01-11T15:31:31.089Z"
   },
   {
    "duration": 9,
    "start_time": "2022-01-11T15:31:31.099Z"
   },
   {
    "duration": 15,
    "start_time": "2022-01-11T15:31:31.110Z"
   },
   {
    "duration": 12,
    "start_time": "2022-01-11T15:31:31.127Z"
   },
   {
    "duration": 13,
    "start_time": "2022-01-11T15:31:31.141Z"
   },
   {
    "duration": 18,
    "start_time": "2022-01-11T15:31:31.156Z"
   },
   {
    "duration": 19,
    "start_time": "2022-01-11T15:31:31.177Z"
   },
   {
    "duration": 10,
    "start_time": "2022-01-11T15:31:31.198Z"
   },
   {
    "duration": 10,
    "start_time": "2022-01-11T15:31:31.210Z"
   },
   {
    "duration": 17,
    "start_time": "2022-01-11T15:31:31.222Z"
   },
   {
    "duration": 11,
    "start_time": "2022-01-11T15:31:31.242Z"
   },
   {
    "duration": 39,
    "start_time": "2022-01-11T15:31:31.255Z"
   },
   {
    "duration": 21,
    "start_time": "2022-01-11T15:31:31.297Z"
   },
   {
    "duration": 20,
    "start_time": "2022-01-11T15:31:31.320Z"
   },
   {
    "duration": 59,
    "start_time": "2022-01-11T15:32:41.474Z"
   },
   {
    "duration": 12,
    "start_time": "2022-01-11T15:32:41.535Z"
   },
   {
    "duration": 30,
    "start_time": "2022-01-11T15:32:41.550Z"
   },
   {
    "duration": 21,
    "start_time": "2022-01-11T15:32:41.582Z"
   },
   {
    "duration": 23,
    "start_time": "2022-01-11T15:32:41.605Z"
   },
   {
    "duration": 27,
    "start_time": "2022-01-11T15:32:41.629Z"
   },
   {
    "duration": 9,
    "start_time": "2022-01-11T15:32:41.658Z"
   },
   {
    "duration": 46,
    "start_time": "2022-01-11T15:32:41.669Z"
   },
   {
    "duration": 14,
    "start_time": "2022-01-11T15:32:41.717Z"
   },
   {
    "duration": 16,
    "start_time": "2022-01-11T15:32:41.734Z"
   },
   {
    "duration": 57,
    "start_time": "2022-01-11T15:32:41.752Z"
   },
   {
    "duration": 15,
    "start_time": "2022-01-11T15:32:41.811Z"
   },
   {
    "duration": 4,
    "start_time": "2022-01-11T15:32:41.828Z"
   },
   {
    "duration": 7,
    "start_time": "2022-01-11T15:32:41.834Z"
   },
   {
    "duration": 49,
    "start_time": "2022-01-11T15:32:41.842Z"
   },
   {
    "duration": 3,
    "start_time": "2022-01-11T15:32:41.893Z"
   },
   {
    "duration": 10,
    "start_time": "2022-01-11T15:32:41.898Z"
   },
   {
    "duration": 9,
    "start_time": "2022-01-11T15:32:41.909Z"
   },
   {
    "duration": 5,
    "start_time": "2022-01-11T15:32:41.920Z"
   },
   {
    "duration": 5,
    "start_time": "2022-01-11T15:32:41.927Z"
   },
   {
    "duration": 5,
    "start_time": "2022-01-11T15:32:41.934Z"
   },
   {
    "duration": 5,
    "start_time": "2022-01-11T15:32:41.941Z"
   },
   {
    "duration": 51,
    "start_time": "2022-01-11T15:32:41.947Z"
   },
   {
    "duration": 6,
    "start_time": "2022-01-11T15:32:42.000Z"
   },
   {
    "duration": 8,
    "start_time": "2022-01-11T15:32:42.007Z"
   },
   {
    "duration": 17,
    "start_time": "2022-01-11T15:32:42.017Z"
   },
   {
    "duration": 6,
    "start_time": "2022-01-11T15:32:42.038Z"
   },
   {
    "duration": 60,
    "start_time": "2022-01-11T15:32:42.046Z"
   },
   {
    "duration": 7,
    "start_time": "2022-01-11T15:32:42.108Z"
   },
   {
    "duration": 10,
    "start_time": "2022-01-11T15:32:42.117Z"
   },
   {
    "duration": 14,
    "start_time": "2022-01-11T15:34:06.313Z"
   },
   {
    "duration": 300,
    "start_time": "2022-01-11T15:40:48.638Z"
   },
   {
    "duration": 7,
    "start_time": "2022-01-11T15:41:14.917Z"
   },
   {
    "duration": 58,
    "start_time": "2022-01-11T15:45:54.373Z"
   },
   {
    "duration": 18,
    "start_time": "2022-01-11T15:45:54.433Z"
   },
   {
    "duration": 40,
    "start_time": "2022-01-11T15:45:54.454Z"
   },
   {
    "duration": 13,
    "start_time": "2022-01-11T15:45:54.497Z"
   },
   {
    "duration": 11,
    "start_time": "2022-01-11T15:45:54.512Z"
   },
   {
    "duration": 16,
    "start_time": "2022-01-11T15:45:54.525Z"
   },
   {
    "duration": 7,
    "start_time": "2022-01-11T15:45:54.543Z"
   },
   {
    "duration": 45,
    "start_time": "2022-01-11T15:45:54.552Z"
   },
   {
    "duration": 11,
    "start_time": "2022-01-11T15:45:54.600Z"
   },
   {
    "duration": 21,
    "start_time": "2022-01-11T15:45:54.613Z"
   },
   {
    "duration": 21,
    "start_time": "2022-01-11T15:45:54.636Z"
   },
   {
    "duration": 48,
    "start_time": "2022-01-11T15:45:54.659Z"
   },
   {
    "duration": 4,
    "start_time": "2022-01-11T15:45:54.709Z"
   },
   {
    "duration": 6,
    "start_time": "2022-01-11T15:45:54.715Z"
   },
   {
    "duration": 18,
    "start_time": "2022-01-11T15:45:54.723Z"
   },
   {
    "duration": 3,
    "start_time": "2022-01-11T15:45:54.743Z"
   },
   {
    "duration": 44,
    "start_time": "2022-01-11T15:45:54.748Z"
   },
   {
    "duration": 5,
    "start_time": "2022-01-11T15:45:54.794Z"
   },
   {
    "duration": 7,
    "start_time": "2022-01-11T15:45:54.800Z"
   },
   {
    "duration": 7,
    "start_time": "2022-01-11T15:45:54.808Z"
   },
   {
    "duration": 6,
    "start_time": "2022-01-11T15:45:54.817Z"
   },
   {
    "duration": 7,
    "start_time": "2022-01-11T15:45:54.824Z"
   },
   {
    "duration": 14,
    "start_time": "2022-01-11T15:45:54.832Z"
   },
   {
    "duration": 8,
    "start_time": "2022-01-11T15:45:54.848Z"
   },
   {
    "duration": 35,
    "start_time": "2022-01-11T15:45:54.858Z"
   },
   {
    "duration": 18,
    "start_time": "2022-01-11T15:45:54.894Z"
   },
   {
    "duration": 7,
    "start_time": "2022-01-11T15:45:54.914Z"
   },
   {
    "duration": 21,
    "start_time": "2022-01-11T15:45:54.922Z"
   },
   {
    "duration": 8,
    "start_time": "2022-01-11T15:45:54.945Z"
   },
   {
    "duration": 8,
    "start_time": "2022-01-11T15:45:54.955Z"
   },
   {
    "duration": 178,
    "start_time": "2022-01-11T15:51:12.203Z"
   },
   {
    "duration": 220,
    "start_time": "2022-01-11T15:52:26.779Z"
   },
   {
    "duration": 489,
    "start_time": "2022-01-11T15:53:09.107Z"
   },
   {
    "duration": 59,
    "start_time": "2022-01-11T15:55:40.307Z"
   },
   {
    "duration": 3714,
    "start_time": "2022-01-11T15:55:55.507Z"
   },
   {
    "duration": 4603,
    "start_time": "2022-01-11T15:56:26.132Z"
   },
   {
    "duration": 716,
    "start_time": "2022-01-11T15:57:06.074Z"
   },
   {
    "duration": 3606,
    "start_time": "2022-01-11T15:59:28.794Z"
   },
   {
    "duration": 6,
    "start_time": "2022-01-11T16:02:31.146Z"
   },
   {
    "duration": 22,
    "start_time": "2022-01-11T16:03:37.490Z"
   },
   {
    "duration": 259,
    "start_time": "2022-01-11T16:04:40.059Z"
   },
   {
    "duration": 178,
    "start_time": "2022-01-11T16:04:59.106Z"
   },
   {
    "duration": 7,
    "start_time": "2022-01-11T16:05:21.266Z"
   },
   {
    "duration": 31,
    "start_time": "2022-01-11T16:06:34.371Z"
   },
   {
    "duration": 59,
    "start_time": "2022-01-11T16:06:54.395Z"
   },
   {
    "duration": 12,
    "start_time": "2022-01-11T16:06:54.456Z"
   },
   {
    "duration": 12,
    "start_time": "2022-01-11T16:06:54.470Z"
   },
   {
    "duration": 15,
    "start_time": "2022-01-11T16:06:54.492Z"
   },
   {
    "duration": 10,
    "start_time": "2022-01-11T16:06:54.510Z"
   },
   {
    "duration": 19,
    "start_time": "2022-01-11T16:06:54.521Z"
   },
   {
    "duration": 8,
    "start_time": "2022-01-11T16:06:54.542Z"
   },
   {
    "duration": 50,
    "start_time": "2022-01-11T16:06:54.552Z"
   },
   {
    "duration": 11,
    "start_time": "2022-01-11T16:06:54.605Z"
   },
   {
    "duration": 15,
    "start_time": "2022-01-11T16:06:54.618Z"
   },
   {
    "duration": 16,
    "start_time": "2022-01-11T16:06:54.634Z"
   },
   {
    "duration": 46,
    "start_time": "2022-01-11T16:06:54.652Z"
   },
   {
    "duration": 4,
    "start_time": "2022-01-11T16:06:54.699Z"
   },
   {
    "duration": 7,
    "start_time": "2022-01-11T16:06:54.704Z"
   },
   {
    "duration": 22,
    "start_time": "2022-01-11T16:06:54.712Z"
   },
   {
    "duration": 20,
    "start_time": "2022-01-11T16:06:54.736Z"
   },
   {
    "duration": 34,
    "start_time": "2022-01-11T16:06:54.758Z"
   },
   {
    "duration": 6,
    "start_time": "2022-01-11T16:06:54.794Z"
   },
   {
    "duration": 5,
    "start_time": "2022-01-11T16:06:54.801Z"
   },
   {
    "duration": 5,
    "start_time": "2022-01-11T16:06:54.808Z"
   },
   {
    "duration": 5,
    "start_time": "2022-01-11T16:06:54.815Z"
   },
   {
    "duration": 4,
    "start_time": "2022-01-11T16:06:54.823Z"
   },
   {
    "duration": 12,
    "start_time": "2022-01-11T16:06:54.829Z"
   },
   {
    "duration": 7,
    "start_time": "2022-01-11T16:06:54.842Z"
   },
   {
    "duration": 44,
    "start_time": "2022-01-11T16:06:54.850Z"
   },
   {
    "duration": 17,
    "start_time": "2022-01-11T16:06:54.896Z"
   },
   {
    "duration": 6,
    "start_time": "2022-01-11T16:06:54.915Z"
   },
   {
    "duration": 18,
    "start_time": "2022-01-11T16:06:54.922Z"
   },
   {
    "duration": 7,
    "start_time": "2022-01-11T16:06:54.942Z"
   },
   {
    "duration": 46,
    "start_time": "2022-01-11T16:06:54.951Z"
   },
   {
    "duration": 29,
    "start_time": "2022-01-11T16:07:28.627Z"
   },
   {
    "duration": 73,
    "start_time": "2022-01-11T16:08:45.995Z"
   },
   {
    "duration": 13,
    "start_time": "2022-01-11T16:08:46.071Z"
   },
   {
    "duration": 15,
    "start_time": "2022-01-11T16:08:46.086Z"
   },
   {
    "duration": 19,
    "start_time": "2022-01-11T16:08:46.104Z"
   },
   {
    "duration": 15,
    "start_time": "2022-01-11T16:08:46.125Z"
   },
   {
    "duration": 13,
    "start_time": "2022-01-11T16:08:46.141Z"
   },
   {
    "duration": 37,
    "start_time": "2022-01-11T16:08:46.156Z"
   },
   {
    "duration": 14,
    "start_time": "2022-01-11T16:08:46.194Z"
   },
   {
    "duration": 12,
    "start_time": "2022-01-11T16:08:46.210Z"
   },
   {
    "duration": 16,
    "start_time": "2022-01-11T16:08:46.224Z"
   },
   {
    "duration": 54,
    "start_time": "2022-01-11T16:08:46.242Z"
   },
   {
    "duration": 14,
    "start_time": "2022-01-11T16:08:46.298Z"
   },
   {
    "duration": 4,
    "start_time": "2022-01-11T16:08:46.313Z"
   },
   {
    "duration": 7,
    "start_time": "2022-01-11T16:08:46.318Z"
   },
   {
    "duration": 20,
    "start_time": "2022-01-11T16:08:46.326Z"
   },
   {
    "duration": 52,
    "start_time": "2022-01-11T16:08:46.348Z"
   },
   {
    "duration": 3,
    "start_time": "2022-01-11T16:08:46.402Z"
   },
   {
    "duration": 8,
    "start_time": "2022-01-11T16:08:46.407Z"
   },
   {
    "duration": 5,
    "start_time": "2022-01-11T16:08:46.416Z"
   },
   {
    "duration": 7,
    "start_time": "2022-01-11T16:08:46.423Z"
   },
   {
    "duration": 5,
    "start_time": "2022-01-11T16:08:46.432Z"
   },
   {
    "duration": 6,
    "start_time": "2022-01-11T16:08:46.439Z"
   },
   {
    "duration": 51,
    "start_time": "2022-01-11T16:08:46.446Z"
   },
   {
    "duration": 6,
    "start_time": "2022-01-11T16:08:46.499Z"
   },
   {
    "duration": 9,
    "start_time": "2022-01-11T16:08:46.507Z"
   },
   {
    "duration": 18,
    "start_time": "2022-01-11T16:08:46.518Z"
   },
   {
    "duration": 7,
    "start_time": "2022-01-11T16:08:46.538Z"
   },
   {
    "duration": 53,
    "start_time": "2022-01-11T16:08:46.547Z"
   },
   {
    "duration": 7,
    "start_time": "2022-01-11T16:08:46.602Z"
   },
   {
    "duration": 8,
    "start_time": "2022-01-11T16:08:46.611Z"
   },
   {
    "duration": 21,
    "start_time": "2022-01-11T16:09:29.466Z"
   },
   {
    "duration": 20,
    "start_time": "2022-01-11T16:09:37.268Z"
   },
   {
    "duration": 24,
    "start_time": "2022-01-11T16:10:23.068Z"
   },
   {
    "duration": 7,
    "start_time": "2022-01-11T16:11:02.392Z"
   },
   {
    "duration": 18,
    "start_time": "2022-01-11T16:11:16.860Z"
   },
   {
    "duration": 5,
    "start_time": "2022-01-11T16:12:39.450Z"
   },
   {
    "duration": 9,
    "start_time": "2022-01-11T16:12:57.634Z"
   },
   {
    "duration": 10,
    "start_time": "2022-01-11T16:13:58.771Z"
   },
   {
    "duration": 95,
    "start_time": "2022-01-11T16:15:04.940Z"
   },
   {
    "duration": 9,
    "start_time": "2022-01-11T16:15:10.923Z"
   },
   {
    "duration": 23,
    "start_time": "2022-01-11T16:18:03.253Z"
   },
   {
    "duration": 10,
    "start_time": "2022-01-11T16:20:43.227Z"
   },
   {
    "duration": 64,
    "start_time": "2022-01-11T17:43:26.380Z"
   },
   {
    "duration": 12,
    "start_time": "2022-01-11T17:43:26.446Z"
   },
   {
    "duration": 34,
    "start_time": "2022-01-11T17:43:26.460Z"
   },
   {
    "duration": 17,
    "start_time": "2022-01-11T17:43:26.497Z"
   },
   {
    "duration": 9,
    "start_time": "2022-01-11T17:43:26.515Z"
   },
   {
    "duration": 12,
    "start_time": "2022-01-11T17:43:26.525Z"
   },
   {
    "duration": 6,
    "start_time": "2022-01-11T17:43:26.539Z"
   },
   {
    "duration": 13,
    "start_time": "2022-01-11T17:43:26.547Z"
   },
   {
    "duration": 14,
    "start_time": "2022-01-11T17:43:26.592Z"
   },
   {
    "duration": 15,
    "start_time": "2022-01-11T17:43:26.608Z"
   },
   {
    "duration": 17,
    "start_time": "2022-01-11T17:43:26.625Z"
   },
   {
    "duration": 13,
    "start_time": "2022-01-11T17:43:26.644Z"
   },
   {
    "duration": 35,
    "start_time": "2022-01-11T17:43:26.659Z"
   },
   {
    "duration": 6,
    "start_time": "2022-01-11T17:43:26.695Z"
   },
   {
    "duration": 25,
    "start_time": "2022-01-11T17:43:26.702Z"
   },
   {
    "duration": 10,
    "start_time": "2022-01-11T17:43:26.729Z"
   },
   {
    "duration": 3,
    "start_time": "2022-01-11T17:43:26.741Z"
   },
   {
    "duration": 7,
    "start_time": "2022-01-11T17:43:26.746Z"
   },
   {
    "duration": 4,
    "start_time": "2022-01-11T17:43:26.754Z"
   },
   {
    "duration": 9,
    "start_time": "2022-01-11T17:43:26.792Z"
   },
   {
    "duration": 5,
    "start_time": "2022-01-11T17:43:26.803Z"
   },
   {
    "duration": 4,
    "start_time": "2022-01-11T17:43:26.810Z"
   },
   {
    "duration": 11,
    "start_time": "2022-01-11T17:43:26.817Z"
   },
   {
    "duration": 6,
    "start_time": "2022-01-11T17:43:26.829Z"
   },
   {
    "duration": 7,
    "start_time": "2022-01-11T17:43:26.837Z"
   },
   {
    "duration": 16,
    "start_time": "2022-01-11T17:43:26.846Z"
   },
   {
    "duration": 11,
    "start_time": "2022-01-11T17:43:26.894Z"
   },
   {
    "duration": 19,
    "start_time": "2022-01-11T17:43:26.907Z"
   },
   {
    "duration": 5,
    "start_time": "2022-01-11T17:43:26.927Z"
   },
   {
    "duration": 8,
    "start_time": "2022-01-11T17:43:26.934Z"
   },
   {
    "duration": 4,
    "start_time": "2022-01-11T17:50:29.652Z"
   },
   {
    "duration": 3,
    "start_time": "2022-01-11T17:55:31.736Z"
   },
   {
    "duration": 622,
    "start_time": "2022-01-11T18:09:52.240Z"
   },
   {
    "duration": 13,
    "start_time": "2022-01-11T18:09:52.864Z"
   },
   {
    "duration": 15,
    "start_time": "2022-01-11T18:09:52.880Z"
   },
   {
    "duration": 14,
    "start_time": "2022-01-11T18:09:52.898Z"
   },
   {
    "duration": 9,
    "start_time": "2022-01-11T18:09:52.914Z"
   },
   {
    "duration": 13,
    "start_time": "2022-01-11T18:09:52.925Z"
   },
   {
    "duration": 7,
    "start_time": "2022-01-11T18:09:52.940Z"
   },
   {
    "duration": 54,
    "start_time": "2022-01-11T18:09:52.949Z"
   },
   {
    "duration": 11,
    "start_time": "2022-01-11T18:09:53.007Z"
   },
   {
    "duration": 16,
    "start_time": "2022-01-11T18:09:53.021Z"
   },
   {
    "duration": 18,
    "start_time": "2022-01-11T18:09:53.039Z"
   },
   {
    "duration": 16,
    "start_time": "2022-01-11T18:09:53.092Z"
   },
   {
    "duration": 4,
    "start_time": "2022-01-11T18:09:53.110Z"
   },
   {
    "duration": 9,
    "start_time": "2022-01-11T18:09:53.116Z"
   },
   {
    "duration": 19,
    "start_time": "2022-01-11T18:09:53.127Z"
   },
   {
    "duration": 45,
    "start_time": "2022-01-11T18:09:53.147Z"
   },
   {
    "duration": 4,
    "start_time": "2022-01-11T18:09:53.195Z"
   },
   {
    "duration": 7,
    "start_time": "2022-01-11T18:09:53.201Z"
   },
   {
    "duration": 4,
    "start_time": "2022-01-11T18:09:53.210Z"
   },
   {
    "duration": 5,
    "start_time": "2022-01-11T18:09:53.216Z"
   },
   {
    "duration": 5,
    "start_time": "2022-01-11T18:09:53.223Z"
   },
   {
    "duration": 6,
    "start_time": "2022-01-11T18:09:53.229Z"
   },
   {
    "duration": 11,
    "start_time": "2022-01-11T18:09:53.237Z"
   },
   {
    "duration": 47,
    "start_time": "2022-01-11T18:09:53.250Z"
   },
   {
    "duration": 8,
    "start_time": "2022-01-11T18:09:53.299Z"
   },
   {
    "duration": 17,
    "start_time": "2022-01-11T18:09:53.309Z"
   },
   {
    "duration": 6,
    "start_time": "2022-01-11T18:09:53.330Z"
   },
   {
    "duration": 18,
    "start_time": "2022-01-11T18:09:53.338Z"
   },
   {
    "duration": 7,
    "start_time": "2022-01-11T18:09:53.392Z"
   },
   {
    "duration": 9,
    "start_time": "2022-01-11T18:09:53.401Z"
   },
   {
    "duration": 7,
    "start_time": "2022-01-11T18:09:53.412Z"
   },
   {
    "duration": 5,
    "start_time": "2022-01-11T18:09:53.420Z"
   },
   {
    "duration": 281,
    "start_time": "2022-01-11T18:14:18.744Z"
   },
   {
    "duration": 357,
    "start_time": "2022-01-11T18:14:36.425Z"
   },
   {
    "duration": 60,
    "start_time": "2022-01-11T18:16:59.032Z"
   },
   {
    "duration": 13,
    "start_time": "2022-01-11T18:16:59.093Z"
   },
   {
    "duration": 13,
    "start_time": "2022-01-11T18:16:59.108Z"
   },
   {
    "duration": 12,
    "start_time": "2022-01-11T18:16:59.122Z"
   },
   {
    "duration": 9,
    "start_time": "2022-01-11T18:16:59.136Z"
   },
   {
    "duration": 16,
    "start_time": "2022-01-11T18:16:59.147Z"
   },
   {
    "duration": 9,
    "start_time": "2022-01-11T18:16:59.192Z"
   },
   {
    "duration": 18,
    "start_time": "2022-01-11T18:16:59.203Z"
   },
   {
    "duration": 13,
    "start_time": "2022-01-11T18:16:59.224Z"
   },
   {
    "duration": 16,
    "start_time": "2022-01-11T18:16:59.239Z"
   },
   {
    "duration": 20,
    "start_time": "2022-01-11T18:16:59.292Z"
   },
   {
    "duration": 15,
    "start_time": "2022-01-11T18:16:59.314Z"
   },
   {
    "duration": 3,
    "start_time": "2022-01-11T18:16:59.331Z"
   },
   {
    "duration": 7,
    "start_time": "2022-01-11T18:16:59.336Z"
   },
   {
    "duration": 50,
    "start_time": "2022-01-11T18:16:59.345Z"
   },
   {
    "duration": 12,
    "start_time": "2022-01-11T18:16:59.397Z"
   },
   {
    "duration": 4,
    "start_time": "2022-01-11T18:16:59.410Z"
   },
   {
    "duration": 9,
    "start_time": "2022-01-11T18:16:59.416Z"
   },
   {
    "duration": 5,
    "start_time": "2022-01-11T18:16:59.427Z"
   },
   {
    "duration": 5,
    "start_time": "2022-01-11T18:16:59.434Z"
   },
   {
    "duration": 7,
    "start_time": "2022-01-11T18:16:59.441Z"
   },
   {
    "duration": 5,
    "start_time": "2022-01-11T18:16:59.450Z"
   },
   {
    "duration": 45,
    "start_time": "2022-01-11T18:16:59.457Z"
   },
   {
    "duration": 11,
    "start_time": "2022-01-11T18:16:59.504Z"
   },
   {
    "duration": 9,
    "start_time": "2022-01-11T18:16:59.518Z"
   },
   {
    "duration": 23,
    "start_time": "2022-01-11T18:16:59.529Z"
   },
   {
    "duration": 15,
    "start_time": "2022-01-11T18:16:59.553Z"
   },
   {
    "duration": 41,
    "start_time": "2022-01-11T18:16:59.570Z"
   },
   {
    "duration": 14,
    "start_time": "2022-01-11T18:16:59.613Z"
   },
   {
    "duration": 13,
    "start_time": "2022-01-11T18:16:59.629Z"
   },
   {
    "duration": 11,
    "start_time": "2022-01-11T18:16:59.644Z"
   },
   {
    "duration": 361,
    "start_time": "2022-01-11T18:16:59.657Z"
   },
   {
    "duration": 381,
    "start_time": "2022-01-11T18:17:29.887Z"
   },
   {
    "duration": 306,
    "start_time": "2022-01-11T18:17:40.297Z"
   },
   {
    "duration": 2445,
    "start_time": "2022-01-11T18:20:47.176Z"
   },
   {
    "duration": 57,
    "start_time": "2022-01-11T18:21:31.880Z"
   },
   {
    "duration": 12,
    "start_time": "2022-01-11T18:21:31.938Z"
   },
   {
    "duration": 11,
    "start_time": "2022-01-11T18:21:31.952Z"
   },
   {
    "duration": 33,
    "start_time": "2022-01-11T18:21:31.965Z"
   },
   {
    "duration": 15,
    "start_time": "2022-01-11T18:21:32.000Z"
   },
   {
    "duration": 13,
    "start_time": "2022-01-11T18:21:32.017Z"
   },
   {
    "duration": 6,
    "start_time": "2022-01-11T18:21:32.032Z"
   },
   {
    "duration": 13,
    "start_time": "2022-01-11T18:21:32.040Z"
   },
   {
    "duration": 43,
    "start_time": "2022-01-11T18:21:32.055Z"
   },
   {
    "duration": 14,
    "start_time": "2022-01-11T18:21:32.100Z"
   },
   {
    "duration": 18,
    "start_time": "2022-01-11T18:21:32.115Z"
   },
   {
    "duration": 14,
    "start_time": "2022-01-11T18:21:32.134Z"
   },
   {
    "duration": 3,
    "start_time": "2022-01-11T18:21:32.149Z"
   },
   {
    "duration": 44,
    "start_time": "2022-01-11T18:21:32.153Z"
   },
   {
    "duration": 18,
    "start_time": "2022-01-11T18:21:32.199Z"
   },
   {
    "duration": 9,
    "start_time": "2022-01-11T18:21:32.218Z"
   },
   {
    "duration": 4,
    "start_time": "2022-01-11T18:21:32.228Z"
   },
   {
    "duration": 6,
    "start_time": "2022-01-11T18:21:32.233Z"
   },
   {
    "duration": 7,
    "start_time": "2022-01-11T18:21:32.240Z"
   },
   {
    "duration": 6,
    "start_time": "2022-01-11T18:21:32.248Z"
   },
   {
    "duration": 35,
    "start_time": "2022-01-11T18:21:32.256Z"
   },
   {
    "duration": 4,
    "start_time": "2022-01-11T18:21:32.293Z"
   },
   {
    "duration": 12,
    "start_time": "2022-01-11T18:21:32.299Z"
   },
   {
    "duration": 6,
    "start_time": "2022-01-11T18:21:32.313Z"
   },
   {
    "duration": 6,
    "start_time": "2022-01-11T18:21:32.322Z"
   },
   {
    "duration": 17,
    "start_time": "2022-01-11T18:21:32.330Z"
   },
   {
    "duration": 6,
    "start_time": "2022-01-11T18:21:32.349Z"
   },
   {
    "duration": 18,
    "start_time": "2022-01-11T18:21:32.391Z"
   },
   {
    "duration": 7,
    "start_time": "2022-01-11T18:21:32.411Z"
   },
   {
    "duration": 8,
    "start_time": "2022-01-11T18:21:32.420Z"
   },
   {
    "duration": 5,
    "start_time": "2022-01-11T18:21:32.429Z"
   },
   {
    "duration": 2442,
    "start_time": "2022-01-11T18:21:32.436Z"
   },
   {
    "duration": 171,
    "start_time": "2022-01-11T18:26:52.294Z"
   },
   {
    "duration": 13,
    "start_time": "2022-01-11T18:32:14.485Z"
   },
   {
    "duration": 7,
    "start_time": "2022-01-11T18:33:14.341Z"
   },
   {
    "duration": 59,
    "start_time": "2022-01-11T18:33:21.079Z"
   },
   {
    "duration": 12,
    "start_time": "2022-01-11T18:33:21.140Z"
   },
   {
    "duration": 11,
    "start_time": "2022-01-11T18:33:21.154Z"
   },
   {
    "duration": 33,
    "start_time": "2022-01-11T18:33:21.167Z"
   },
   {
    "duration": 9,
    "start_time": "2022-01-11T18:33:21.201Z"
   },
   {
    "duration": 16,
    "start_time": "2022-01-11T18:33:21.212Z"
   },
   {
    "duration": 6,
    "start_time": "2022-01-11T18:33:21.230Z"
   },
   {
    "duration": 14,
    "start_time": "2022-01-11T18:33:21.238Z"
   },
   {
    "duration": 43,
    "start_time": "2022-01-11T18:33:21.254Z"
   },
   {
    "duration": 15,
    "start_time": "2022-01-11T18:33:21.299Z"
   },
   {
    "duration": 16,
    "start_time": "2022-01-11T18:33:21.315Z"
   },
   {
    "duration": 13,
    "start_time": "2022-01-11T18:33:21.333Z"
   },
   {
    "duration": 3,
    "start_time": "2022-01-11T18:33:21.348Z"
   },
   {
    "duration": 42,
    "start_time": "2022-01-11T18:33:21.354Z"
   },
   {
    "duration": 18,
    "start_time": "2022-01-11T18:33:21.398Z"
   },
   {
    "duration": 11,
    "start_time": "2022-01-11T18:33:21.417Z"
   },
   {
    "duration": 3,
    "start_time": "2022-01-11T18:33:21.429Z"
   },
   {
    "duration": 6,
    "start_time": "2022-01-11T18:33:21.434Z"
   },
   {
    "duration": 7,
    "start_time": "2022-01-11T18:33:21.441Z"
   },
   {
    "duration": 8,
    "start_time": "2022-01-11T18:33:21.449Z"
   },
   {
    "duration": 33,
    "start_time": "2022-01-11T18:33:21.458Z"
   },
   {
    "duration": 4,
    "start_time": "2022-01-11T18:33:21.493Z"
   },
   {
    "duration": 21,
    "start_time": "2022-01-11T18:33:21.498Z"
   },
   {
    "duration": 8,
    "start_time": "2022-01-11T18:33:21.520Z"
   },
   {
    "duration": 7,
    "start_time": "2022-01-11T18:33:21.529Z"
   },
   {
    "duration": 15,
    "start_time": "2022-01-11T18:33:21.538Z"
   },
   {
    "duration": 42,
    "start_time": "2022-01-11T18:33:21.554Z"
   },
   {
    "duration": 16,
    "start_time": "2022-01-11T18:33:21.599Z"
   },
   {
    "duration": 6,
    "start_time": "2022-01-11T18:33:21.616Z"
   },
   {
    "duration": 14,
    "start_time": "2022-01-11T18:33:21.623Z"
   },
   {
    "duration": 5,
    "start_time": "2022-01-11T18:33:21.639Z"
   },
   {
    "duration": 286,
    "start_time": "2022-01-11T18:33:21.646Z"
   },
   {
    "duration": 62,
    "start_time": "2022-01-11T18:34:58.927Z"
   },
   {
    "duration": 14,
    "start_time": "2022-01-11T18:34:58.990Z"
   },
   {
    "duration": 27,
    "start_time": "2022-01-11T18:34:59.006Z"
   },
   {
    "duration": 29,
    "start_time": "2022-01-11T18:34:59.035Z"
   },
   {
    "duration": 39,
    "start_time": "2022-01-11T18:34:59.065Z"
   },
   {
    "duration": 15,
    "start_time": "2022-01-11T18:34:59.106Z"
   },
   {
    "duration": 7,
    "start_time": "2022-01-11T18:34:59.123Z"
   },
   {
    "duration": 15,
    "start_time": "2022-01-11T18:34:59.131Z"
   },
   {
    "duration": 11,
    "start_time": "2022-01-11T18:34:59.149Z"
   },
   {
    "duration": 15,
    "start_time": "2022-01-11T18:34:59.191Z"
   },
   {
    "duration": 20,
    "start_time": "2022-01-11T18:34:59.208Z"
   },
   {
    "duration": 15,
    "start_time": "2022-01-11T18:34:59.230Z"
   },
   {
    "duration": 4,
    "start_time": "2022-01-11T18:34:59.247Z"
   },
   {
    "duration": 6,
    "start_time": "2022-01-11T18:34:59.292Z"
   },
   {
    "duration": 20,
    "start_time": "2022-01-11T18:34:59.299Z"
   },
   {
    "duration": 9,
    "start_time": "2022-01-11T18:34:59.320Z"
   },
   {
    "duration": 2,
    "start_time": "2022-01-11T18:34:59.331Z"
   },
   {
    "duration": 6,
    "start_time": "2022-01-11T18:34:59.335Z"
   },
   {
    "duration": 5,
    "start_time": "2022-01-11T18:34:59.343Z"
   },
   {
    "duration": 42,
    "start_time": "2022-01-11T18:34:59.349Z"
   },
   {
    "duration": 4,
    "start_time": "2022-01-11T18:34:59.393Z"
   },
   {
    "duration": 6,
    "start_time": "2022-01-11T18:34:59.398Z"
   },
   {
    "duration": 13,
    "start_time": "2022-01-11T18:34:59.405Z"
   },
   {
    "duration": 5,
    "start_time": "2022-01-11T18:34:59.420Z"
   },
   {
    "duration": 7,
    "start_time": "2022-01-11T18:34:59.427Z"
   },
   {
    "duration": 18,
    "start_time": "2022-01-11T18:34:59.436Z"
   },
   {
    "duration": 39,
    "start_time": "2022-01-11T18:34:59.457Z"
   },
   {
    "duration": 20,
    "start_time": "2022-01-11T18:34:59.498Z"
   },
   {
    "duration": 7,
    "start_time": "2022-01-11T18:34:59.520Z"
   },
   {
    "duration": 8,
    "start_time": "2022-01-11T18:34:59.529Z"
   },
   {
    "duration": 5,
    "start_time": "2022-01-11T18:34:59.539Z"
   },
   {
    "duration": 312,
    "start_time": "2022-01-11T18:34:59.546Z"
   },
   {
    "duration": 60,
    "start_time": "2022-01-11T18:46:06.052Z"
   },
   {
    "duration": 12,
    "start_time": "2022-01-11T18:46:06.114Z"
   },
   {
    "duration": 11,
    "start_time": "2022-01-11T18:46:06.128Z"
   },
   {
    "duration": 14,
    "start_time": "2022-01-11T18:46:06.140Z"
   },
   {
    "duration": 37,
    "start_time": "2022-01-11T18:46:06.156Z"
   },
   {
    "duration": 14,
    "start_time": "2022-01-11T18:46:06.195Z"
   },
   {
    "duration": 7,
    "start_time": "2022-01-11T18:46:06.211Z"
   },
   {
    "duration": 13,
    "start_time": "2022-01-11T18:46:06.222Z"
   },
   {
    "duration": 12,
    "start_time": "2022-01-11T18:46:06.237Z"
   },
   {
    "duration": 16,
    "start_time": "2022-01-11T18:46:06.291Z"
   },
   {
    "duration": 17,
    "start_time": "2022-01-11T18:46:06.308Z"
   },
   {
    "duration": 14,
    "start_time": "2022-01-11T18:46:06.327Z"
   },
   {
    "duration": 4,
    "start_time": "2022-01-11T18:46:06.343Z"
   },
   {
    "duration": 42,
    "start_time": "2022-01-11T18:46:06.349Z"
   },
   {
    "duration": 19,
    "start_time": "2022-01-11T18:46:06.393Z"
   },
   {
    "duration": 10,
    "start_time": "2022-01-11T18:46:06.413Z"
   },
   {
    "duration": 3,
    "start_time": "2022-01-11T18:46:06.425Z"
   },
   {
    "duration": 6,
    "start_time": "2022-01-11T18:46:06.429Z"
   },
   {
    "duration": 5,
    "start_time": "2022-01-11T18:46:06.437Z"
   },
   {
    "duration": 5,
    "start_time": "2022-01-11T18:46:06.444Z"
   },
   {
    "duration": 42,
    "start_time": "2022-01-11T18:46:06.450Z"
   },
   {
    "duration": 7,
    "start_time": "2022-01-11T18:46:06.494Z"
   },
   {
    "duration": 11,
    "start_time": "2022-01-11T18:46:06.504Z"
   },
   {
    "duration": 5,
    "start_time": "2022-01-11T18:46:06.517Z"
   },
   {
    "duration": 12,
    "start_time": "2022-01-11T18:46:06.524Z"
   },
   {
    "duration": 17,
    "start_time": "2022-01-11T18:46:06.538Z"
   },
   {
    "duration": 38,
    "start_time": "2022-01-11T18:46:06.557Z"
   },
   {
    "duration": 21,
    "start_time": "2022-01-11T18:46:06.597Z"
   },
   {
    "duration": 6,
    "start_time": "2022-01-11T18:46:06.620Z"
   },
   {
    "duration": 9,
    "start_time": "2022-01-11T18:46:06.627Z"
   },
   {
    "duration": 4,
    "start_time": "2022-01-11T18:46:06.637Z"
   },
   {
    "duration": 300,
    "start_time": "2022-01-11T18:46:06.643Z"
   },
   {
    "duration": 283,
    "start_time": "2022-01-11T18:50:39.348Z"
   },
   {
    "duration": 296,
    "start_time": "2022-01-11T18:50:47.571Z"
   },
   {
    "duration": 57,
    "start_time": "2022-01-11T18:50:53.011Z"
   },
   {
    "duration": 13,
    "start_time": "2022-01-11T18:50:53.070Z"
   },
   {
    "duration": 12,
    "start_time": "2022-01-11T18:50:53.085Z"
   },
   {
    "duration": 12,
    "start_time": "2022-01-11T18:50:53.098Z"
   },
   {
    "duration": 9,
    "start_time": "2022-01-11T18:50:53.112Z"
   },
   {
    "duration": 13,
    "start_time": "2022-01-11T18:50:53.123Z"
   },
   {
    "duration": 11,
    "start_time": "2022-01-11T18:50:53.137Z"
   },
   {
    "duration": 47,
    "start_time": "2022-01-11T18:50:53.149Z"
   },
   {
    "duration": 11,
    "start_time": "2022-01-11T18:50:53.198Z"
   },
   {
    "duration": 15,
    "start_time": "2022-01-11T18:50:53.211Z"
   },
   {
    "duration": 17,
    "start_time": "2022-01-11T18:50:53.228Z"
   },
   {
    "duration": 46,
    "start_time": "2022-01-11T18:50:53.247Z"
   },
   {
    "duration": 3,
    "start_time": "2022-01-11T18:50:53.295Z"
   },
   {
    "duration": 6,
    "start_time": "2022-01-11T18:50:53.300Z"
   },
   {
    "duration": 18,
    "start_time": "2022-01-11T18:50:53.308Z"
   },
   {
    "duration": 9,
    "start_time": "2022-01-11T18:50:53.327Z"
   },
   {
    "duration": 3,
    "start_time": "2022-01-11T18:50:53.338Z"
   },
   {
    "duration": 5,
    "start_time": "2022-01-11T18:50:53.343Z"
   },
   {
    "duration": 4,
    "start_time": "2022-01-11T18:50:53.350Z"
   },
   {
    "duration": 39,
    "start_time": "2022-01-11T18:50:53.355Z"
   },
   {
    "duration": 6,
    "start_time": "2022-01-11T18:50:53.395Z"
   },
   {
    "duration": 5,
    "start_time": "2022-01-11T18:50:53.403Z"
   },
   {
    "duration": 12,
    "start_time": "2022-01-11T18:50:53.409Z"
   },
   {
    "duration": 7,
    "start_time": "2022-01-11T18:50:53.423Z"
   },
   {
    "duration": 7,
    "start_time": "2022-01-11T18:50:53.431Z"
   },
   {
    "duration": 17,
    "start_time": "2022-01-11T18:50:53.439Z"
   },
   {
    "duration": 6,
    "start_time": "2022-01-11T18:50:53.494Z"
   },
   {
    "duration": 17,
    "start_time": "2022-01-11T18:50:53.502Z"
   },
   {
    "duration": 7,
    "start_time": "2022-01-11T18:50:53.521Z"
   },
   {
    "duration": 13,
    "start_time": "2022-01-11T18:50:53.530Z"
   },
   {
    "duration": 5,
    "start_time": "2022-01-11T18:50:53.544Z"
   },
   {
    "duration": 292,
    "start_time": "2022-01-11T18:50:53.550Z"
   },
   {
    "duration": 305,
    "start_time": "2022-01-11T18:52:01.402Z"
   },
   {
    "duration": 58,
    "start_time": "2022-01-11T18:55:20.085Z"
   },
   {
    "duration": 12,
    "start_time": "2022-01-11T18:55:20.146Z"
   },
   {
    "duration": 11,
    "start_time": "2022-01-11T18:55:20.160Z"
   },
   {
    "duration": 14,
    "start_time": "2022-01-11T18:55:20.191Z"
   },
   {
    "duration": 10,
    "start_time": "2022-01-11T18:55:20.207Z"
   },
   {
    "duration": 16,
    "start_time": "2022-01-11T18:55:20.218Z"
   },
   {
    "duration": 7,
    "start_time": "2022-01-11T18:55:20.236Z"
   },
   {
    "duration": 49,
    "start_time": "2022-01-11T18:55:20.244Z"
   },
   {
    "duration": 13,
    "start_time": "2022-01-11T18:55:20.295Z"
   },
   {
    "duration": 15,
    "start_time": "2022-01-11T18:55:20.310Z"
   },
   {
    "duration": 16,
    "start_time": "2022-01-11T18:55:20.327Z"
   },
   {
    "duration": 14,
    "start_time": "2022-01-11T18:55:20.345Z"
   },
   {
    "duration": 32,
    "start_time": "2022-01-11T18:55:20.361Z"
   },
   {
    "duration": 6,
    "start_time": "2022-01-11T18:55:20.395Z"
   },
   {
    "duration": 19,
    "start_time": "2022-01-11T18:55:20.403Z"
   },
   {
    "duration": 11,
    "start_time": "2022-01-11T18:55:20.424Z"
   },
   {
    "duration": 4,
    "start_time": "2022-01-11T18:55:20.437Z"
   },
   {
    "duration": 48,
    "start_time": "2022-01-11T18:55:20.443Z"
   },
   {
    "duration": 4,
    "start_time": "2022-01-11T18:55:20.493Z"
   },
   {
    "duration": 6,
    "start_time": "2022-01-11T18:55:20.498Z"
   },
   {
    "duration": 4,
    "start_time": "2022-01-11T18:55:20.506Z"
   },
   {
    "duration": 9,
    "start_time": "2022-01-11T18:55:20.512Z"
   },
   {
    "duration": 12,
    "start_time": "2022-01-11T18:55:20.522Z"
   },
   {
    "duration": 9,
    "start_time": "2022-01-11T18:55:20.536Z"
   },
   {
    "duration": 8,
    "start_time": "2022-01-11T18:55:20.546Z"
   },
   {
    "duration": 52,
    "start_time": "2022-01-11T18:55:20.556Z"
   },
   {
    "duration": 5,
    "start_time": "2022-01-11T18:55:20.612Z"
   },
   {
    "duration": 22,
    "start_time": "2022-01-11T18:55:20.619Z"
   },
   {
    "duration": 8,
    "start_time": "2022-01-11T18:55:20.643Z"
   },
   {
    "duration": 9,
    "start_time": "2022-01-11T18:55:20.652Z"
   },
   {
    "duration": 5,
    "start_time": "2022-01-11T18:55:20.662Z"
   },
   {
    "duration": 362,
    "start_time": "2022-01-11T18:55:20.669Z"
   },
   {
    "duration": 6,
    "start_time": "2022-01-11T18:55:52.442Z"
   },
   {
    "duration": 392,
    "start_time": "2022-01-11T18:58:27.188Z"
   },
   {
    "duration": 353,
    "start_time": "2022-01-11T18:58:44.356Z"
   },
   {
    "duration": 57,
    "start_time": "2022-01-11T19:00:22.483Z"
   },
   {
    "duration": 20,
    "start_time": "2022-01-11T19:00:22.543Z"
   },
   {
    "duration": 29,
    "start_time": "2022-01-11T19:00:22.565Z"
   },
   {
    "duration": 15,
    "start_time": "2022-01-11T19:00:22.596Z"
   },
   {
    "duration": 9,
    "start_time": "2022-01-11T19:00:22.612Z"
   },
   {
    "duration": 14,
    "start_time": "2022-01-11T19:00:22.623Z"
   },
   {
    "duration": 9,
    "start_time": "2022-01-11T19:00:22.639Z"
   },
   {
    "duration": 49,
    "start_time": "2022-01-11T19:00:22.651Z"
   },
   {
    "duration": 13,
    "start_time": "2022-01-11T19:00:22.703Z"
   },
   {
    "duration": 16,
    "start_time": "2022-01-11T19:00:22.718Z"
   },
   {
    "duration": 19,
    "start_time": "2022-01-11T19:00:22.736Z"
   },
   {
    "duration": 17,
    "start_time": "2022-01-11T19:00:22.791Z"
   },
   {
    "duration": 4,
    "start_time": "2022-01-11T19:00:22.810Z"
   },
   {
    "duration": 5,
    "start_time": "2022-01-11T19:00:22.816Z"
   },
   {
    "duration": 21,
    "start_time": "2022-01-11T19:00:22.823Z"
   },
   {
    "duration": 45,
    "start_time": "2022-01-11T19:00:22.846Z"
   },
   {
    "duration": 4,
    "start_time": "2022-01-11T19:00:22.893Z"
   },
   {
    "duration": 7,
    "start_time": "2022-01-11T19:00:22.899Z"
   },
   {
    "duration": 5,
    "start_time": "2022-01-11T19:00:22.908Z"
   },
   {
    "duration": 8,
    "start_time": "2022-01-11T19:00:22.914Z"
   },
   {
    "duration": 4,
    "start_time": "2022-01-11T19:00:22.924Z"
   },
   {
    "duration": 6,
    "start_time": "2022-01-11T19:00:22.929Z"
   },
   {
    "duration": 61,
    "start_time": "2022-01-11T19:00:22.938Z"
   },
   {
    "duration": 6,
    "start_time": "2022-01-11T19:00:23.001Z"
   },
   {
    "duration": 7,
    "start_time": "2022-01-11T19:00:23.009Z"
   },
   {
    "duration": 16,
    "start_time": "2022-01-11T19:00:23.018Z"
   },
   {
    "duration": 6,
    "start_time": "2022-01-11T19:00:23.036Z"
   },
   {
    "duration": 67,
    "start_time": "2022-01-11T19:00:23.044Z"
   },
   {
    "duration": 7,
    "start_time": "2022-01-11T19:00:23.113Z"
   },
   {
    "duration": 9,
    "start_time": "2022-01-11T19:00:23.122Z"
   },
   {
    "duration": 7,
    "start_time": "2022-01-11T19:00:23.133Z"
   },
   {
    "duration": 356,
    "start_time": "2022-01-11T19:00:23.142Z"
   },
   {
    "duration": 307,
    "start_time": "2022-01-11T19:01:42.555Z"
   },
   {
    "duration": 61,
    "start_time": "2022-01-11T19:01:58.013Z"
   },
   {
    "duration": 17,
    "start_time": "2022-01-11T19:01:58.076Z"
   },
   {
    "duration": 20,
    "start_time": "2022-01-11T19:01:58.095Z"
   },
   {
    "duration": 23,
    "start_time": "2022-01-11T19:01:58.117Z"
   },
   {
    "duration": 14,
    "start_time": "2022-01-11T19:01:58.142Z"
   },
   {
    "duration": 23,
    "start_time": "2022-01-11T19:01:58.158Z"
   },
   {
    "duration": 13,
    "start_time": "2022-01-11T19:01:58.183Z"
   },
   {
    "duration": 38,
    "start_time": "2022-01-11T19:01:58.199Z"
   },
   {
    "duration": 18,
    "start_time": "2022-01-11T19:01:58.241Z"
   },
   {
    "duration": 30,
    "start_time": "2022-01-11T19:01:58.261Z"
   },
   {
    "duration": 17,
    "start_time": "2022-01-11T19:01:58.293Z"
   },
   {
    "duration": 14,
    "start_time": "2022-01-11T19:01:58.311Z"
   },
   {
    "duration": 3,
    "start_time": "2022-01-11T19:01:58.327Z"
   },
   {
    "duration": 10,
    "start_time": "2022-01-11T19:01:58.331Z"
   },
   {
    "duration": 59,
    "start_time": "2022-01-11T19:01:58.343Z"
   },
   {
    "duration": 9,
    "start_time": "2022-01-11T19:01:58.404Z"
   },
   {
    "duration": 3,
    "start_time": "2022-01-11T19:01:58.415Z"
   },
   {
    "duration": 6,
    "start_time": "2022-01-11T19:01:58.419Z"
   },
   {
    "duration": 5,
    "start_time": "2022-01-11T19:01:58.426Z"
   },
   {
    "duration": 6,
    "start_time": "2022-01-11T19:01:58.432Z"
   },
   {
    "duration": 51,
    "start_time": "2022-01-11T19:01:58.440Z"
   },
   {
    "duration": 4,
    "start_time": "2022-01-11T19:01:58.493Z"
   },
   {
    "duration": 24,
    "start_time": "2022-01-11T19:01:58.499Z"
   },
   {
    "duration": 9,
    "start_time": "2022-01-11T19:01:58.524Z"
   },
   {
    "duration": 7,
    "start_time": "2022-01-11T19:01:58.535Z"
   },
   {
    "duration": 54,
    "start_time": "2022-01-11T19:01:58.543Z"
   },
   {
    "duration": 7,
    "start_time": "2022-01-11T19:01:58.600Z"
   },
   {
    "duration": 20,
    "start_time": "2022-01-11T19:01:58.608Z"
   },
   {
    "duration": 7,
    "start_time": "2022-01-11T19:01:58.629Z"
   },
   {
    "duration": 8,
    "start_time": "2022-01-11T19:01:58.638Z"
   },
   {
    "duration": 45,
    "start_time": "2022-01-11T19:01:58.647Z"
   },
   {
    "duration": 326,
    "start_time": "2022-01-11T19:01:58.694Z"
   },
   {
    "duration": 60,
    "start_time": "2022-01-11T19:06:24.638Z"
   },
   {
    "duration": 13,
    "start_time": "2022-01-11T19:06:24.699Z"
   },
   {
    "duration": 12,
    "start_time": "2022-01-11T19:06:24.714Z"
   },
   {
    "duration": 13,
    "start_time": "2022-01-11T19:06:24.728Z"
   },
   {
    "duration": 9,
    "start_time": "2022-01-11T19:06:24.742Z"
   },
   {
    "duration": 48,
    "start_time": "2022-01-11T19:06:24.752Z"
   },
   {
    "duration": 6,
    "start_time": "2022-01-11T19:06:24.802Z"
   },
   {
    "duration": 15,
    "start_time": "2022-01-11T19:06:24.809Z"
   },
   {
    "duration": 10,
    "start_time": "2022-01-11T19:06:24.827Z"
   },
   {
    "duration": 14,
    "start_time": "2022-01-11T19:06:24.839Z"
   },
   {
    "duration": 39,
    "start_time": "2022-01-11T19:06:24.855Z"
   },
   {
    "duration": 13,
    "start_time": "2022-01-11T19:06:24.896Z"
   },
   {
    "duration": 3,
    "start_time": "2022-01-11T19:06:24.910Z"
   },
   {
    "duration": 5,
    "start_time": "2022-01-11T19:06:24.915Z"
   },
   {
    "duration": 18,
    "start_time": "2022-01-11T19:06:24.922Z"
   },
   {
    "duration": 8,
    "start_time": "2022-01-11T19:06:24.942Z"
   },
   {
    "duration": 4,
    "start_time": "2022-01-11T19:06:24.951Z"
   },
   {
    "duration": 38,
    "start_time": "2022-01-11T19:06:24.956Z"
   },
   {
    "duration": 4,
    "start_time": "2022-01-11T19:06:24.996Z"
   },
   {
    "duration": 6,
    "start_time": "2022-01-11T19:06:25.001Z"
   },
   {
    "duration": 5,
    "start_time": "2022-01-11T19:06:25.008Z"
   },
   {
    "duration": 5,
    "start_time": "2022-01-11T19:06:25.015Z"
   },
   {
    "duration": 15,
    "start_time": "2022-01-11T19:06:25.022Z"
   },
   {
    "duration": 9,
    "start_time": "2022-01-11T19:06:25.039Z"
   },
   {
    "duration": 41,
    "start_time": "2022-01-11T19:06:25.050Z"
   },
   {
    "duration": 16,
    "start_time": "2022-01-11T19:06:25.093Z"
   },
   {
    "duration": 6,
    "start_time": "2022-01-11T19:06:25.112Z"
   },
   {
    "duration": 18,
    "start_time": "2022-01-11T19:06:25.120Z"
   },
   {
    "duration": 6,
    "start_time": "2022-01-11T19:06:25.139Z"
   },
   {
    "duration": 10,
    "start_time": "2022-01-11T19:06:25.146Z"
   },
   {
    "duration": 34,
    "start_time": "2022-01-11T19:06:25.158Z"
   },
   {
    "duration": 77,
    "start_time": "2022-01-11T19:06:25.194Z"
   },
   {
    "duration": 58,
    "start_time": "2022-01-11T19:06:36.948Z"
   },
   {
    "duration": 12,
    "start_time": "2022-01-11T19:06:37.008Z"
   },
   {
    "duration": 11,
    "start_time": "2022-01-11T19:06:37.023Z"
   },
   {
    "duration": 14,
    "start_time": "2022-01-11T19:06:37.036Z"
   },
   {
    "duration": 10,
    "start_time": "2022-01-11T19:06:37.052Z"
   },
   {
    "duration": 15,
    "start_time": "2022-01-11T19:06:37.092Z"
   },
   {
    "duration": 9,
    "start_time": "2022-01-11T19:06:37.109Z"
   },
   {
    "duration": 14,
    "start_time": "2022-01-11T19:06:37.120Z"
   },
   {
    "duration": 11,
    "start_time": "2022-01-11T19:06:37.138Z"
   },
   {
    "duration": 57,
    "start_time": "2022-01-11T19:06:37.151Z"
   },
   {
    "duration": 21,
    "start_time": "2022-01-11T19:06:37.210Z"
   },
   {
    "duration": 14,
    "start_time": "2022-01-11T19:06:37.233Z"
   },
   {
    "duration": 3,
    "start_time": "2022-01-11T19:06:37.249Z"
   },
   {
    "duration": 7,
    "start_time": "2022-01-11T19:06:37.253Z"
   },
   {
    "duration": 47,
    "start_time": "2022-01-11T19:06:37.261Z"
   },
   {
    "duration": 10,
    "start_time": "2022-01-11T19:06:37.310Z"
   },
   {
    "duration": 4,
    "start_time": "2022-01-11T19:06:37.322Z"
   },
   {
    "duration": 6,
    "start_time": "2022-01-11T19:06:37.328Z"
   },
   {
    "duration": 4,
    "start_time": "2022-01-11T19:06:37.336Z"
   },
   {
    "duration": 4,
    "start_time": "2022-01-11T19:06:37.342Z"
   },
   {
    "duration": 45,
    "start_time": "2022-01-11T19:06:37.347Z"
   },
   {
    "duration": 4,
    "start_time": "2022-01-11T19:06:37.393Z"
   },
   {
    "duration": 13,
    "start_time": "2022-01-11T19:06:37.399Z"
   },
   {
    "duration": 8,
    "start_time": "2022-01-11T19:06:37.414Z"
   },
   {
    "duration": 6,
    "start_time": "2022-01-11T19:06:37.424Z"
   },
   {
    "duration": 17,
    "start_time": "2022-01-11T19:06:37.432Z"
   },
   {
    "duration": 43,
    "start_time": "2022-01-11T19:06:37.453Z"
   },
   {
    "duration": 19,
    "start_time": "2022-01-11T19:06:37.499Z"
   },
   {
    "duration": 6,
    "start_time": "2022-01-11T19:06:37.520Z"
   },
   {
    "duration": 8,
    "start_time": "2022-01-11T19:06:37.528Z"
   },
   {
    "duration": 6,
    "start_time": "2022-01-11T19:06:37.538Z"
   },
   {
    "duration": 348,
    "start_time": "2022-01-11T19:06:37.546Z"
   },
   {
    "duration": 3,
    "start_time": "2022-01-11T19:10:21.283Z"
   },
   {
    "duration": 6,
    "start_time": "2022-01-11T19:10:25.404Z"
   },
   {
    "duration": 60,
    "start_time": "2022-01-11T19:12:21.396Z"
   },
   {
    "duration": 316,
    "start_time": "2022-01-11T19:12:34.556Z"
   },
   {
    "duration": 61,
    "start_time": "2022-01-11T19:12:39.668Z"
   },
   {
    "duration": 14,
    "start_time": "2022-01-11T19:12:39.731Z"
   },
   {
    "duration": 24,
    "start_time": "2022-01-11T19:12:39.747Z"
   },
   {
    "duration": 29,
    "start_time": "2022-01-11T19:12:39.773Z"
   },
   {
    "duration": 10,
    "start_time": "2022-01-11T19:12:39.804Z"
   },
   {
    "duration": 33,
    "start_time": "2022-01-11T19:12:39.815Z"
   },
   {
    "duration": 14,
    "start_time": "2022-01-11T19:12:39.849Z"
   },
   {
    "duration": 45,
    "start_time": "2022-01-11T19:12:39.865Z"
   },
   {
    "duration": 14,
    "start_time": "2022-01-11T19:12:39.912Z"
   },
   {
    "duration": 20,
    "start_time": "2022-01-11T19:12:39.928Z"
   },
   {
    "duration": 29,
    "start_time": "2022-01-11T19:12:39.950Z"
   },
   {
    "duration": 12,
    "start_time": "2022-01-11T19:12:39.981Z"
   },
   {
    "duration": 9,
    "start_time": "2022-01-11T19:12:39.995Z"
   },
   {
    "duration": 21,
    "start_time": "2022-01-11T19:12:40.006Z"
   },
   {
    "duration": 21,
    "start_time": "2022-01-11T19:12:40.028Z"
   },
   {
    "duration": 30,
    "start_time": "2022-01-11T19:12:40.051Z"
   },
   {
    "duration": 10,
    "start_time": "2022-01-11T19:12:40.083Z"
   },
   {
    "duration": 26,
    "start_time": "2022-01-11T19:12:40.094Z"
   },
   {
    "duration": 27,
    "start_time": "2022-01-11T19:12:40.122Z"
   },
   {
    "duration": 17,
    "start_time": "2022-01-11T19:12:40.150Z"
   },
   {
    "duration": 24,
    "start_time": "2022-01-11T19:12:40.169Z"
   },
   {
    "duration": 23,
    "start_time": "2022-01-11T19:12:40.194Z"
   },
   {
    "duration": 29,
    "start_time": "2022-01-11T19:12:40.219Z"
   },
   {
    "duration": 30,
    "start_time": "2022-01-11T19:12:40.249Z"
   },
   {
    "duration": 12,
    "start_time": "2022-01-11T19:12:40.281Z"
   },
   {
    "duration": 34,
    "start_time": "2022-01-11T19:12:40.294Z"
   },
   {
    "duration": 11,
    "start_time": "2022-01-11T19:12:40.331Z"
   },
   {
    "duration": 31,
    "start_time": "2022-01-11T19:12:40.344Z"
   },
   {
    "duration": 14,
    "start_time": "2022-01-11T19:12:40.377Z"
   },
   {
    "duration": 25,
    "start_time": "2022-01-11T19:12:40.393Z"
   },
   {
    "duration": 18,
    "start_time": "2022-01-11T19:12:40.419Z"
   },
   {
    "duration": 298,
    "start_time": "2022-01-11T19:12:40.439Z"
   },
   {
    "duration": 565,
    "start_time": "2022-01-11T19:13:35.152Z"
   },
   {
    "duration": 12,
    "start_time": "2022-01-11T19:13:35.719Z"
   },
   {
    "duration": 11,
    "start_time": "2022-01-11T19:13:35.733Z"
   },
   {
    "duration": 20,
    "start_time": "2022-01-11T19:13:35.747Z"
   },
   {
    "duration": 36,
    "start_time": "2022-01-11T19:13:35.770Z"
   },
   {
    "duration": 22,
    "start_time": "2022-01-11T19:13:35.809Z"
   },
   {
    "duration": 9,
    "start_time": "2022-01-11T19:13:35.833Z"
   },
   {
    "duration": 52,
    "start_time": "2022-01-11T19:13:35.845Z"
   },
   {
    "duration": 17,
    "start_time": "2022-01-11T19:13:35.901Z"
   },
   {
    "duration": 16,
    "start_time": "2022-01-11T19:13:35.921Z"
   },
   {
    "duration": 18,
    "start_time": "2022-01-11T19:13:35.938Z"
   },
   {
    "duration": 42,
    "start_time": "2022-01-11T19:13:35.957Z"
   },
   {
    "duration": 3,
    "start_time": "2022-01-11T19:13:36.001Z"
   },
   {
    "duration": 6,
    "start_time": "2022-01-11T19:13:36.005Z"
   },
   {
    "duration": 19,
    "start_time": "2022-01-11T19:13:36.012Z"
   },
   {
    "duration": 8,
    "start_time": "2022-01-11T19:13:36.032Z"
   },
   {
    "duration": 3,
    "start_time": "2022-01-11T19:13:36.042Z"
   },
   {
    "duration": 8,
    "start_time": "2022-01-11T19:13:36.046Z"
   },
   {
    "duration": 35,
    "start_time": "2022-01-11T19:13:36.056Z"
   },
   {
    "duration": 4,
    "start_time": "2022-01-11T19:13:36.093Z"
   },
   {
    "duration": 5,
    "start_time": "2022-01-11T19:13:36.098Z"
   },
   {
    "duration": 6,
    "start_time": "2022-01-11T19:13:36.105Z"
   },
   {
    "duration": 11,
    "start_time": "2022-01-11T19:13:36.113Z"
   },
   {
    "duration": 8,
    "start_time": "2022-01-11T19:13:36.126Z"
   },
   {
    "duration": 7,
    "start_time": "2022-01-11T19:13:36.136Z"
   },
   {
    "duration": 54,
    "start_time": "2022-01-11T19:13:36.144Z"
   },
   {
    "duration": 6,
    "start_time": "2022-01-11T19:13:36.201Z"
   },
   {
    "duration": 18,
    "start_time": "2022-01-11T19:13:36.209Z"
   },
   {
    "duration": 6,
    "start_time": "2022-01-11T19:13:36.228Z"
   },
   {
    "duration": 7,
    "start_time": "2022-01-11T19:13:36.236Z"
   },
   {
    "duration": 4,
    "start_time": "2022-01-11T19:13:36.245Z"
   },
   {
    "duration": 407,
    "start_time": "2022-01-11T19:13:36.251Z"
   },
   {
    "duration": 60,
    "start_time": "2022-01-11T19:19:12.604Z"
   },
   {
    "duration": 13,
    "start_time": "2022-01-11T19:19:12.665Z"
   },
   {
    "duration": 26,
    "start_time": "2022-01-11T19:19:12.680Z"
   },
   {
    "duration": 15,
    "start_time": "2022-01-11T19:19:12.708Z"
   },
   {
    "duration": 30,
    "start_time": "2022-01-11T19:19:12.725Z"
   },
   {
    "duration": 27,
    "start_time": "2022-01-11T19:19:12.757Z"
   },
   {
    "duration": 6,
    "start_time": "2022-01-11T19:19:12.786Z"
   },
   {
    "duration": 46,
    "start_time": "2022-01-11T19:19:12.795Z"
   },
   {
    "duration": 11,
    "start_time": "2022-01-11T19:19:12.843Z"
   },
   {
    "duration": 30,
    "start_time": "2022-01-11T19:19:12.855Z"
   },
   {
    "duration": 17,
    "start_time": "2022-01-11T19:19:12.886Z"
   },
   {
    "duration": 18,
    "start_time": "2022-01-11T19:19:12.904Z"
   },
   {
    "duration": 3,
    "start_time": "2022-01-11T19:19:12.923Z"
   },
   {
    "duration": 14,
    "start_time": "2022-01-11T19:19:12.928Z"
   },
   {
    "duration": 36,
    "start_time": "2022-01-11T19:19:12.944Z"
   },
   {
    "duration": 8,
    "start_time": "2022-01-11T19:19:12.981Z"
   },
   {
    "duration": 17,
    "start_time": "2022-01-11T19:19:12.991Z"
   },
   {
    "duration": 20,
    "start_time": "2022-01-11T19:19:13.010Z"
   },
   {
    "duration": 20,
    "start_time": "2022-01-11T19:19:13.031Z"
   },
   {
    "duration": 34,
    "start_time": "2022-01-11T19:19:13.053Z"
   },
   {
    "duration": 14,
    "start_time": "2022-01-11T19:19:13.089Z"
   },
   {
    "duration": 25,
    "start_time": "2022-01-11T19:19:13.105Z"
   },
   {
    "duration": 29,
    "start_time": "2022-01-11T19:19:13.133Z"
   },
   {
    "duration": 44,
    "start_time": "2022-01-11T19:19:13.164Z"
   },
   {
    "duration": 26,
    "start_time": "2022-01-11T19:19:13.210Z"
   },
   {
    "duration": 44,
    "start_time": "2022-01-11T19:19:13.238Z"
   },
   {
    "duration": 22,
    "start_time": "2022-01-11T19:19:13.284Z"
   },
   {
    "duration": 30,
    "start_time": "2022-01-11T19:19:13.307Z"
   },
   {
    "duration": 18,
    "start_time": "2022-01-11T19:19:13.339Z"
   },
   {
    "duration": 7,
    "start_time": "2022-01-11T19:19:13.359Z"
   },
   {
    "duration": 15,
    "start_time": "2022-01-11T19:19:13.368Z"
   },
   {
    "duration": 331,
    "start_time": "2022-01-11T19:19:13.384Z"
   },
   {
    "duration": 635,
    "start_time": "2022-01-11T20:04:31.118Z"
   },
   {
    "duration": 12,
    "start_time": "2022-01-11T20:04:31.755Z"
   },
   {
    "duration": 18,
    "start_time": "2022-01-11T20:04:31.769Z"
   },
   {
    "duration": 12,
    "start_time": "2022-01-11T20:04:31.789Z"
   },
   {
    "duration": 9,
    "start_time": "2022-01-11T20:04:31.803Z"
   },
   {
    "duration": 12,
    "start_time": "2022-01-11T20:04:31.814Z"
   },
   {
    "duration": 7,
    "start_time": "2022-01-11T20:04:31.828Z"
   },
   {
    "duration": 16,
    "start_time": "2022-01-11T20:04:31.837Z"
   },
   {
    "duration": 40,
    "start_time": "2022-01-11T20:04:31.855Z"
   },
   {
    "duration": 16,
    "start_time": "2022-01-11T20:04:31.896Z"
   },
   {
    "duration": 19,
    "start_time": "2022-01-11T20:04:31.913Z"
   },
   {
    "duration": 15,
    "start_time": "2022-01-11T20:04:31.934Z"
   },
   {
    "duration": 3,
    "start_time": "2022-01-11T20:04:31.951Z"
   },
   {
    "duration": 40,
    "start_time": "2022-01-11T20:04:31.956Z"
   },
   {
    "duration": 20,
    "start_time": "2022-01-11T20:04:31.998Z"
   },
   {
    "duration": 10,
    "start_time": "2022-01-11T20:04:32.019Z"
   },
   {
    "duration": 3,
    "start_time": "2022-01-11T20:04:32.031Z"
   },
   {
    "duration": 7,
    "start_time": "2022-01-11T20:04:32.036Z"
   },
   {
    "duration": 5,
    "start_time": "2022-01-11T20:04:32.044Z"
   },
   {
    "duration": 4,
    "start_time": "2022-01-11T20:04:32.091Z"
   },
   {
    "duration": 6,
    "start_time": "2022-01-11T20:04:32.097Z"
   },
   {
    "duration": 6,
    "start_time": "2022-01-11T20:04:32.104Z"
   },
   {
    "duration": 12,
    "start_time": "2022-01-11T20:04:32.113Z"
   },
   {
    "duration": 9,
    "start_time": "2022-01-11T20:04:32.127Z"
   },
   {
    "duration": 7,
    "start_time": "2022-01-11T20:04:32.138Z"
   },
   {
    "duration": 56,
    "start_time": "2022-01-11T20:04:32.147Z"
   },
   {
    "duration": 7,
    "start_time": "2022-01-11T20:04:32.204Z"
   },
   {
    "duration": 20,
    "start_time": "2022-01-11T20:04:32.212Z"
   },
   {
    "duration": 7,
    "start_time": "2022-01-11T20:04:32.234Z"
   },
   {
    "duration": 8,
    "start_time": "2022-01-11T20:04:32.243Z"
   },
   {
    "duration": 6,
    "start_time": "2022-01-11T20:04:32.253Z"
   },
   {
    "duration": 401,
    "start_time": "2022-01-11T20:04:32.260Z"
   },
   {
    "duration": 647,
    "start_time": "2022-01-11T20:05:09.095Z"
   },
   {
    "duration": 13,
    "start_time": "2022-01-11T20:05:09.743Z"
   },
   {
    "duration": 12,
    "start_time": "2022-01-11T20:05:09.758Z"
   },
   {
    "duration": 25,
    "start_time": "2022-01-11T20:05:09.772Z"
   },
   {
    "duration": 9,
    "start_time": "2022-01-11T20:05:09.799Z"
   },
   {
    "duration": 24,
    "start_time": "2022-01-11T20:05:09.809Z"
   },
   {
    "duration": 7,
    "start_time": "2022-01-11T20:05:09.834Z"
   },
   {
    "duration": 15,
    "start_time": "2022-01-11T20:05:09.843Z"
   },
   {
    "duration": 36,
    "start_time": "2022-01-11T20:05:09.860Z"
   },
   {
    "duration": 15,
    "start_time": "2022-01-11T20:05:09.898Z"
   },
   {
    "duration": 18,
    "start_time": "2022-01-11T20:05:09.915Z"
   },
   {
    "duration": 13,
    "start_time": "2022-01-11T20:05:09.935Z"
   },
   {
    "duration": 3,
    "start_time": "2022-01-11T20:05:09.950Z"
   },
   {
    "duration": 36,
    "start_time": "2022-01-11T20:05:09.955Z"
   },
   {
    "duration": 20,
    "start_time": "2022-01-11T20:05:09.993Z"
   },
   {
    "duration": 10,
    "start_time": "2022-01-11T20:05:10.015Z"
   },
   {
    "duration": 5,
    "start_time": "2022-01-11T20:05:10.027Z"
   },
   {
    "duration": 8,
    "start_time": "2022-01-11T20:05:10.033Z"
   },
   {
    "duration": 5,
    "start_time": "2022-01-11T20:05:10.043Z"
   },
   {
    "duration": 8,
    "start_time": "2022-01-11T20:05:10.050Z"
   },
   {
    "duration": 4,
    "start_time": "2022-01-11T20:05:10.092Z"
   },
   {
    "duration": 9,
    "start_time": "2022-01-11T20:05:10.097Z"
   },
   {
    "duration": 13,
    "start_time": "2022-01-11T20:05:10.109Z"
   },
   {
    "duration": 9,
    "start_time": "2022-01-11T20:05:10.124Z"
   },
   {
    "duration": 9,
    "start_time": "2022-01-11T20:05:10.135Z"
   },
   {
    "duration": 19,
    "start_time": "2022-01-11T20:05:10.145Z"
   },
   {
    "duration": 31,
    "start_time": "2022-01-11T20:05:10.166Z"
   },
   {
    "duration": 20,
    "start_time": "2022-01-11T20:05:10.199Z"
   },
   {
    "duration": 6,
    "start_time": "2022-01-11T20:05:10.220Z"
   },
   {
    "duration": 9,
    "start_time": "2022-01-11T20:05:10.228Z"
   },
   {
    "duration": 7,
    "start_time": "2022-01-11T20:05:10.238Z"
   },
   {
    "duration": 356,
    "start_time": "2022-01-11T20:05:10.246Z"
   },
   {
    "duration": 66,
    "start_time": "2022-01-11T20:08:29.988Z"
   },
   {
    "duration": 13,
    "start_time": "2022-01-11T20:08:30.056Z"
   },
   {
    "duration": 25,
    "start_time": "2022-01-11T20:08:30.071Z"
   },
   {
    "duration": 14,
    "start_time": "2022-01-11T20:08:30.098Z"
   },
   {
    "duration": 10,
    "start_time": "2022-01-11T20:08:30.114Z"
   },
   {
    "duration": 20,
    "start_time": "2022-01-11T20:08:30.126Z"
   },
   {
    "duration": 8,
    "start_time": "2022-01-11T20:08:30.148Z"
   },
   {
    "duration": 46,
    "start_time": "2022-01-11T20:08:30.157Z"
   },
   {
    "duration": 12,
    "start_time": "2022-01-11T20:08:30.206Z"
   },
   {
    "duration": 14,
    "start_time": "2022-01-11T20:08:30.220Z"
   },
   {
    "duration": 17,
    "start_time": "2022-01-11T20:08:30.236Z"
   },
   {
    "duration": 47,
    "start_time": "2022-01-11T20:08:30.255Z"
   },
   {
    "duration": 3,
    "start_time": "2022-01-11T20:08:30.304Z"
   },
   {
    "duration": 16,
    "start_time": "2022-01-11T20:08:30.309Z"
   },
   {
    "duration": 22,
    "start_time": "2022-01-11T20:08:30.327Z"
   },
   {
    "duration": 10,
    "start_time": "2022-01-11T20:08:30.351Z"
   },
   {
    "duration": 7,
    "start_time": "2022-01-11T20:08:30.362Z"
   },
   {
    "duration": 22,
    "start_time": "2022-01-11T20:08:30.371Z"
   },
   {
    "duration": 4,
    "start_time": "2022-01-11T20:08:30.395Z"
   },
   {
    "duration": 4,
    "start_time": "2022-01-11T20:08:30.401Z"
   },
   {
    "duration": 8,
    "start_time": "2022-01-11T20:08:30.408Z"
   },
   {
    "duration": 8,
    "start_time": "2022-01-11T20:08:30.418Z"
   },
   {
    "duration": 14,
    "start_time": "2022-01-11T20:08:30.428Z"
   },
   {
    "duration": 27,
    "start_time": "2022-01-11T20:08:30.444Z"
   },
   {
    "duration": 21,
    "start_time": "2022-01-11T20:08:30.473Z"
   },
   {
    "duration": 18,
    "start_time": "2022-01-11T20:08:30.496Z"
   },
   {
    "duration": 8,
    "start_time": "2022-01-11T20:08:30.519Z"
   },
   {
    "duration": 34,
    "start_time": "2022-01-11T20:08:30.529Z"
   },
   {
    "duration": 16,
    "start_time": "2022-01-11T20:08:30.565Z"
   },
   {
    "duration": 17,
    "start_time": "2022-01-11T20:08:30.583Z"
   },
   {
    "duration": 59,
    "start_time": "2022-01-11T20:10:23.239Z"
   },
   {
    "duration": 14,
    "start_time": "2022-01-11T20:10:26.282Z"
   },
   {
    "duration": 11,
    "start_time": "2022-01-11T20:10:29.484Z"
   },
   {
    "duration": 15,
    "start_time": "2022-01-11T20:12:24.758Z"
   },
   {
    "duration": 10,
    "start_time": "2022-01-11T20:12:40.826Z"
   },
   {
    "duration": 15,
    "start_time": "2022-01-11T20:12:47.217Z"
   },
   {
    "duration": 7,
    "start_time": "2022-01-11T20:12:49.775Z"
   },
   {
    "duration": 14,
    "start_time": "2022-01-11T20:12:52.234Z"
   },
   {
    "duration": 12,
    "start_time": "2022-01-11T20:12:55.526Z"
   },
   {
    "duration": 14,
    "start_time": "2022-01-11T20:12:59.008Z"
   },
   {
    "duration": 19,
    "start_time": "2022-01-11T20:13:01.090Z"
   },
   {
    "duration": 15,
    "start_time": "2022-01-11T20:13:02.440Z"
   },
   {
    "duration": 4,
    "start_time": "2022-01-11T20:13:04.640Z"
   },
   {
    "duration": 5,
    "start_time": "2022-01-11T20:13:06.263Z"
   },
   {
    "duration": 20,
    "start_time": "2022-01-11T20:13:07.901Z"
   },
   {
    "duration": 10,
    "start_time": "2022-01-11T20:13:09.552Z"
   },
   {
    "duration": 4,
    "start_time": "2022-01-11T20:13:11.110Z"
   },
   {
    "duration": 6,
    "start_time": "2022-01-11T20:13:13.046Z"
   },
   {
    "duration": 4,
    "start_time": "2022-01-11T20:13:14.577Z"
   },
   {
    "duration": 4,
    "start_time": "2022-01-11T20:13:15.400Z"
   },
   {
    "duration": 4,
    "start_time": "2022-01-11T20:13:16.070Z"
   },
   {
    "duration": 4,
    "start_time": "2022-01-11T20:13:18.408Z"
   },
   {
    "duration": 12,
    "start_time": "2022-01-11T20:13:20.171Z"
   },
   {
    "duration": 7,
    "start_time": "2022-01-11T20:13:21.813Z"
   },
   {
    "duration": 6,
    "start_time": "2022-01-11T20:13:24.553Z"
   },
   {
    "duration": 16,
    "start_time": "2022-01-11T20:13:26.352Z"
   },
   {
    "duration": 7,
    "start_time": "2022-01-11T20:13:28.617Z"
   },
   {
    "duration": 17,
    "start_time": "2022-01-11T20:13:30.907Z"
   },
   {
    "duration": 7,
    "start_time": "2022-01-11T20:13:33.125Z"
   },
   {
    "duration": 11,
    "start_time": "2022-01-11T20:13:40.210Z"
   },
   {
    "duration": 3,
    "start_time": "2022-01-11T20:13:47.105Z"
   },
   {
    "duration": 297,
    "start_time": "2022-01-11T20:13:49.626Z"
   },
   {
    "duration": 3,
    "start_time": "2022-01-11T20:16:34.653Z"
   },
   {
    "duration": 59,
    "start_time": "2022-01-11T20:24:20.074Z"
   },
   {
    "duration": 13,
    "start_time": "2022-01-11T20:24:20.135Z"
   },
   {
    "duration": 41,
    "start_time": "2022-01-11T20:24:20.150Z"
   },
   {
    "duration": 20,
    "start_time": "2022-01-11T20:24:20.193Z"
   },
   {
    "duration": 24,
    "start_time": "2022-01-11T20:24:20.215Z"
   },
   {
    "duration": 24,
    "start_time": "2022-01-11T20:24:20.241Z"
   },
   {
    "duration": 12,
    "start_time": "2022-01-11T20:24:20.267Z"
   },
   {
    "duration": 13,
    "start_time": "2022-01-11T20:24:20.292Z"
   },
   {
    "duration": 26,
    "start_time": "2022-01-11T20:24:20.307Z"
   },
   {
    "duration": 17,
    "start_time": "2022-01-11T20:24:20.334Z"
   },
   {
    "duration": 23,
    "start_time": "2022-01-11T20:24:20.353Z"
   },
   {
    "duration": 27,
    "start_time": "2022-01-11T20:24:20.378Z"
   },
   {
    "duration": 8,
    "start_time": "2022-01-11T20:24:20.406Z"
   },
   {
    "duration": 21,
    "start_time": "2022-01-11T20:24:20.415Z"
   },
   {
    "duration": 28,
    "start_time": "2022-01-11T20:24:20.438Z"
   },
   {
    "duration": 25,
    "start_time": "2022-01-11T20:24:20.468Z"
   },
   {
    "duration": 7,
    "start_time": "2022-01-11T20:24:20.495Z"
   },
   {
    "duration": 14,
    "start_time": "2022-01-11T20:24:20.504Z"
   },
   {
    "duration": 25,
    "start_time": "2022-01-11T20:24:20.520Z"
   },
   {
    "duration": 11,
    "start_time": "2022-01-11T20:24:20.547Z"
   },
   {
    "duration": 15,
    "start_time": "2022-01-11T20:24:20.559Z"
   },
   {
    "duration": 15,
    "start_time": "2022-01-11T20:24:20.576Z"
   },
   {
    "duration": 16,
    "start_time": "2022-01-11T20:24:20.595Z"
   },
   {
    "duration": 29,
    "start_time": "2022-01-11T20:24:20.613Z"
   },
   {
    "duration": 15,
    "start_time": "2022-01-11T20:24:20.644Z"
   },
   {
    "duration": 24,
    "start_time": "2022-01-11T20:24:20.661Z"
   },
   {
    "duration": 15,
    "start_time": "2022-01-11T20:24:20.687Z"
   },
   {
    "duration": 30,
    "start_time": "2022-01-11T20:24:20.704Z"
   },
   {
    "duration": 17,
    "start_time": "2022-01-11T20:24:20.736Z"
   },
   {
    "duration": 17,
    "start_time": "2022-01-11T20:24:20.754Z"
   },
   {
    "duration": 30,
    "start_time": "2022-01-11T20:24:20.772Z"
   },
   {
    "duration": 891,
    "start_time": "2022-01-11T20:24:20.804Z"
   },
   {
    "duration": 6,
    "start_time": "2022-01-11T20:25:39.979Z"
   },
   {
    "duration": 16,
    "start_time": "2022-01-11T20:27:44.992Z"
   },
   {
    "duration": 3,
    "start_time": "2022-01-11T20:28:00.234Z"
   },
   {
    "duration": 280,
    "start_time": "2022-01-11T20:31:24.514Z"
   },
   {
    "duration": 302,
    "start_time": "2022-01-11T20:31:37.183Z"
   },
   {
    "duration": 13,
    "start_time": "2022-01-11T20:32:45.401Z"
   },
   {
    "duration": 5,
    "start_time": "2022-01-11T20:33:08.836Z"
   },
   {
    "duration": 57,
    "start_time": "2022-01-11T20:52:05.401Z"
   },
   {
    "duration": 13,
    "start_time": "2022-01-11T20:52:05.460Z"
   },
   {
    "duration": 21,
    "start_time": "2022-01-11T20:52:05.475Z"
   },
   {
    "duration": 12,
    "start_time": "2022-01-11T20:52:05.498Z"
   },
   {
    "duration": 9,
    "start_time": "2022-01-11T20:52:05.512Z"
   },
   {
    "duration": 20,
    "start_time": "2022-01-11T20:52:05.522Z"
   },
   {
    "duration": 6,
    "start_time": "2022-01-11T20:52:05.543Z"
   },
   {
    "duration": 40,
    "start_time": "2022-01-11T20:52:05.552Z"
   },
   {
    "duration": 12,
    "start_time": "2022-01-11T20:52:05.594Z"
   },
   {
    "duration": 21,
    "start_time": "2022-01-11T20:52:05.608Z"
   },
   {
    "duration": 18,
    "start_time": "2022-01-11T20:52:05.630Z"
   },
   {
    "duration": 44,
    "start_time": "2022-01-11T20:52:05.651Z"
   },
   {
    "duration": 3,
    "start_time": "2022-01-11T20:52:05.697Z"
   },
   {
    "duration": 10,
    "start_time": "2022-01-11T20:52:05.702Z"
   },
   {
    "duration": 24,
    "start_time": "2022-01-11T20:52:05.714Z"
   },
   {
    "duration": 15,
    "start_time": "2022-01-11T20:52:05.740Z"
   },
   {
    "duration": 4,
    "start_time": "2022-01-11T20:52:05.756Z"
   },
   {
    "duration": 18,
    "start_time": "2022-01-11T20:52:05.761Z"
   },
   {
    "duration": 12,
    "start_time": "2022-01-11T20:52:05.780Z"
   },
   {
    "duration": 16,
    "start_time": "2022-01-11T20:52:05.793Z"
   },
   {
    "duration": 17,
    "start_time": "2022-01-11T20:52:05.811Z"
   },
   {
    "duration": 19,
    "start_time": "2022-01-11T20:52:05.830Z"
   },
   {
    "duration": 26,
    "start_time": "2022-01-11T20:52:05.853Z"
   },
   {
    "duration": 17,
    "start_time": "2022-01-11T20:52:05.881Z"
   },
   {
    "duration": 16,
    "start_time": "2022-01-11T20:52:05.901Z"
   },
   {
    "duration": 32,
    "start_time": "2022-01-11T20:52:05.918Z"
   },
   {
    "duration": 7,
    "start_time": "2022-01-11T20:52:05.952Z"
   },
   {
    "duration": 29,
    "start_time": "2022-01-11T20:52:05.961Z"
   },
   {
    "duration": 26,
    "start_time": "2022-01-11T20:52:05.992Z"
   },
   {
    "duration": 14,
    "start_time": "2022-01-11T20:52:06.020Z"
   },
   {
    "duration": 12,
    "start_time": "2022-01-11T20:52:06.036Z"
   },
   {
    "duration": 1022,
    "start_time": "2022-01-11T20:52:06.050Z"
   },
   {
    "duration": 70,
    "start_time": "2022-01-11T21:41:22.743Z"
   },
   {
    "duration": 16,
    "start_time": "2022-01-11T21:41:22.815Z"
   },
   {
    "duration": 15,
    "start_time": "2022-01-11T21:41:22.834Z"
   },
   {
    "duration": 50,
    "start_time": "2022-01-11T21:41:22.851Z"
   },
   {
    "duration": 14,
    "start_time": "2022-01-11T21:41:22.903Z"
   },
   {
    "duration": 16,
    "start_time": "2022-01-11T21:41:22.919Z"
   },
   {
    "duration": 7,
    "start_time": "2022-01-11T21:41:22.937Z"
   },
   {
    "duration": 47,
    "start_time": "2022-01-11T21:41:22.948Z"
   },
   {
    "duration": 12,
    "start_time": "2022-01-11T21:41:22.997Z"
   },
   {
    "duration": 18,
    "start_time": "2022-01-11T21:41:23.011Z"
   },
   {
    "duration": 17,
    "start_time": "2022-01-11T21:41:23.031Z"
   },
   {
    "duration": 44,
    "start_time": "2022-01-11T21:41:23.049Z"
   },
   {
    "duration": 4,
    "start_time": "2022-01-11T21:41:23.095Z"
   },
   {
    "duration": 7,
    "start_time": "2022-01-11T21:41:23.100Z"
   },
   {
    "duration": 26,
    "start_time": "2022-01-11T21:41:23.109Z"
   },
   {
    "duration": 12,
    "start_time": "2022-01-11T21:41:23.137Z"
   },
   {
    "duration": 41,
    "start_time": "2022-01-11T21:41:23.151Z"
   },
   {
    "duration": 7,
    "start_time": "2022-01-11T21:41:23.194Z"
   },
   {
    "duration": 4,
    "start_time": "2022-01-11T21:41:23.203Z"
   },
   {
    "duration": 5,
    "start_time": "2022-01-11T21:41:23.208Z"
   },
   {
    "duration": 5,
    "start_time": "2022-01-11T21:41:23.215Z"
   },
   {
    "duration": 6,
    "start_time": "2022-01-11T21:41:23.222Z"
   },
   {
    "duration": 14,
    "start_time": "2022-01-11T21:41:23.232Z"
   },
   {
    "duration": 48,
    "start_time": "2022-01-11T21:41:23.248Z"
   },
   {
    "duration": 9,
    "start_time": "2022-01-11T21:41:23.298Z"
   },
   {
    "duration": 26,
    "start_time": "2022-01-11T21:41:23.309Z"
   },
   {
    "duration": 14,
    "start_time": "2022-01-11T21:41:23.337Z"
   },
   {
    "duration": 55,
    "start_time": "2022-01-11T21:41:23.353Z"
   },
   {
    "duration": 9,
    "start_time": "2022-01-11T21:41:23.410Z"
   },
   {
    "duration": 10,
    "start_time": "2022-01-11T21:41:23.421Z"
   },
   {
    "duration": 5,
    "start_time": "2022-01-11T21:41:23.433Z"
   },
   {
    "duration": 310,
    "start_time": "2022-01-11T21:41:23.440Z"
   },
   {
    "duration": -207,
    "start_time": "2022-01-11T21:41:23.959Z"
   },
   {
    "duration": 18,
    "start_time": "2022-01-11T21:45:37.603Z"
   },
   {
    "duration": 18,
    "start_time": "2022-01-11T21:45:44.145Z"
   },
   {
    "duration": 29,
    "start_time": "2022-01-11T21:46:00.204Z"
   },
   {
    "duration": 20,
    "start_time": "2022-01-11T21:46:37.755Z"
   },
   {
    "duration": 24,
    "start_time": "2022-01-11T21:46:52.955Z"
   },
   {
    "duration": 57,
    "start_time": "2022-01-11T21:47:19.184Z"
   },
   {
    "duration": 14,
    "start_time": "2022-01-11T21:47:27.996Z"
   },
   {
    "duration": 17,
    "start_time": "2022-01-11T21:47:50.423Z"
   },
   {
    "duration": 175,
    "start_time": "2022-01-11T21:48:08.944Z"
   },
   {
    "duration": 174,
    "start_time": "2022-01-11T21:48:28.904Z"
   },
   {
    "duration": 59,
    "start_time": "2022-01-11T21:48:35.194Z"
   },
   {
    "duration": 13,
    "start_time": "2022-01-11T21:48:35.255Z"
   },
   {
    "duration": 31,
    "start_time": "2022-01-11T21:48:35.270Z"
   },
   {
    "duration": 14,
    "start_time": "2022-01-11T21:48:35.303Z"
   },
   {
    "duration": 9,
    "start_time": "2022-01-11T21:48:35.319Z"
   },
   {
    "duration": 15,
    "start_time": "2022-01-11T21:48:35.330Z"
   },
   {
    "duration": 8,
    "start_time": "2022-01-11T21:48:35.346Z"
   },
   {
    "duration": 52,
    "start_time": "2022-01-11T21:48:35.356Z"
   },
   {
    "duration": 15,
    "start_time": "2022-01-11T21:48:35.411Z"
   },
   {
    "duration": 19,
    "start_time": "2022-01-11T21:48:35.429Z"
   },
   {
    "duration": 17,
    "start_time": "2022-01-11T21:48:35.449Z"
   },
   {
    "duration": 16,
    "start_time": "2022-01-11T21:48:35.491Z"
   },
   {
    "duration": 21,
    "start_time": "2022-01-11T21:48:35.509Z"
   },
   {
    "duration": 23,
    "start_time": "2022-01-11T21:48:35.532Z"
   },
   {
    "duration": 60,
    "start_time": "2022-01-11T21:48:35.557Z"
   },
   {
    "duration": 37,
    "start_time": "2022-01-11T21:48:35.619Z"
   },
   {
    "duration": 21,
    "start_time": "2022-01-11T21:48:35.658Z"
   },
   {
    "duration": 14,
    "start_time": "2022-01-11T21:48:35.681Z"
   },
   {
    "duration": 25,
    "start_time": "2022-01-11T21:48:35.697Z"
   },
   {
    "duration": 28,
    "start_time": "2022-01-11T21:48:35.724Z"
   },
   {
    "duration": 24,
    "start_time": "2022-01-11T21:48:35.754Z"
   },
   {
    "duration": 24,
    "start_time": "2022-01-11T21:48:35.781Z"
   },
   {
    "duration": 26,
    "start_time": "2022-01-11T21:48:35.807Z"
   },
   {
    "duration": 32,
    "start_time": "2022-01-11T21:48:35.835Z"
   },
   {
    "duration": 17,
    "start_time": "2022-01-11T21:48:35.869Z"
   },
   {
    "duration": 44,
    "start_time": "2022-01-11T21:48:35.887Z"
   },
   {
    "duration": 9,
    "start_time": "2022-01-11T21:48:35.935Z"
   },
   {
    "duration": 28,
    "start_time": "2022-01-11T21:48:35.946Z"
   },
   {
    "duration": 8,
    "start_time": "2022-01-11T21:48:35.976Z"
   },
   {
    "duration": 10,
    "start_time": "2022-01-11T21:48:35.991Z"
   },
   {
    "duration": 6,
    "start_time": "2022-01-11T21:48:36.003Z"
   },
   {
    "duration": 314,
    "start_time": "2022-01-11T21:48:36.010Z"
   },
   {
    "duration": -378,
    "start_time": "2022-01-11T21:48:36.704Z"
   },
   {
    "duration": 13,
    "start_time": "2022-01-11T21:49:01.584Z"
   },
   {
    "duration": 23,
    "start_time": "2022-01-11T21:49:14.443Z"
   },
   {
    "duration": 64,
    "start_time": "2022-01-11T21:49:29.635Z"
   },
   {
    "duration": 57,
    "start_time": "2022-01-11T21:49:37.268Z"
   },
   {
    "duration": 63,
    "start_time": "2022-01-11T21:49:46.876Z"
   },
   {
    "duration": 13,
    "start_time": "2022-01-11T21:49:46.941Z"
   },
   {
    "duration": 35,
    "start_time": "2022-01-11T21:49:46.956Z"
   },
   {
    "duration": 13,
    "start_time": "2022-01-11T21:49:46.993Z"
   },
   {
    "duration": 29,
    "start_time": "2022-01-11T21:49:47.008Z"
   },
   {
    "duration": 37,
    "start_time": "2022-01-11T21:49:47.039Z"
   },
   {
    "duration": 8,
    "start_time": "2022-01-11T21:49:47.079Z"
   },
   {
    "duration": 15,
    "start_time": "2022-01-11T21:49:47.089Z"
   },
   {
    "duration": 12,
    "start_time": "2022-01-11T21:49:47.108Z"
   },
   {
    "duration": 20,
    "start_time": "2022-01-11T21:49:47.122Z"
   },
   {
    "duration": 32,
    "start_time": "2022-01-11T21:49:47.144Z"
   },
   {
    "duration": 34,
    "start_time": "2022-01-11T21:49:47.178Z"
   },
   {
    "duration": 65,
    "start_time": "2022-01-11T21:49:47.214Z"
   },
   {
    "duration": -15,
    "start_time": "2022-01-11T21:49:47.296Z"
   },
   {
    "duration": -19,
    "start_time": "2022-01-11T21:49:47.301Z"
   },
   {
    "duration": -21,
    "start_time": "2022-01-11T21:49:47.304Z"
   },
   {
    "duration": -24,
    "start_time": "2022-01-11T21:49:47.308Z"
   },
   {
    "duration": -27,
    "start_time": "2022-01-11T21:49:47.313Z"
   },
   {
    "duration": -29,
    "start_time": "2022-01-11T21:49:47.316Z"
   },
   {
    "duration": -34,
    "start_time": "2022-01-11T21:49:47.322Z"
   },
   {
    "duration": -37,
    "start_time": "2022-01-11T21:49:47.326Z"
   },
   {
    "duration": -39,
    "start_time": "2022-01-11T21:49:47.329Z"
   },
   {
    "duration": -41,
    "start_time": "2022-01-11T21:49:47.332Z"
   },
   {
    "duration": -72,
    "start_time": "2022-01-11T21:49:47.364Z"
   },
   {
    "duration": -77,
    "start_time": "2022-01-11T21:49:47.370Z"
   },
   {
    "duration": -79,
    "start_time": "2022-01-11T21:49:47.373Z"
   },
   {
    "duration": -82,
    "start_time": "2022-01-11T21:49:47.377Z"
   },
   {
    "duration": -83,
    "start_time": "2022-01-11T21:49:47.379Z"
   },
   {
    "duration": -99,
    "start_time": "2022-01-11T21:49:47.396Z"
   },
   {
    "duration": -103,
    "start_time": "2022-01-11T21:49:47.402Z"
   },
   {
    "duration": -105,
    "start_time": "2022-01-11T21:49:47.405Z"
   },
   {
    "duration": -107,
    "start_time": "2022-01-11T21:49:47.408Z"
   },
   {
    "duration": -110,
    "start_time": "2022-01-11T21:49:47.412Z"
   },
   {
    "duration": 6,
    "start_time": "2022-01-11T21:50:27.295Z"
   },
   {
    "duration": 5,
    "start_time": "2022-01-11T21:50:43.695Z"
   },
   {
    "duration": 5,
    "start_time": "2022-01-11T21:50:58.295Z"
   },
   {
    "duration": 7,
    "start_time": "2022-01-11T21:51:06.883Z"
   },
   {
    "duration": 27,
    "start_time": "2022-01-11T21:51:15.656Z"
   },
   {
    "duration": 11,
    "start_time": "2022-01-11T21:51:29.016Z"
   },
   {
    "duration": 6,
    "start_time": "2022-01-11T21:51:38.603Z"
   },
   {
    "duration": 4,
    "start_time": "2022-01-11T21:52:01.244Z"
   },
   {
    "duration": 6,
    "start_time": "2022-01-11T21:52:19.403Z"
   },
   {
    "duration": 4,
    "start_time": "2022-01-11T21:52:21.964Z"
   },
   {
    "duration": 5,
    "start_time": "2022-01-11T21:52:28.143Z"
   },
   {
    "duration": 5,
    "start_time": "2022-01-11T21:52:34.556Z"
   },
   {
    "duration": 5,
    "start_time": "2022-01-11T21:52:40.364Z"
   },
   {
    "duration": 5,
    "start_time": "2022-01-11T21:52:49.516Z"
   },
   {
    "duration": 12,
    "start_time": "2022-01-11T21:52:57.775Z"
   },
   {
    "duration": 6,
    "start_time": "2022-01-11T21:53:08.944Z"
   },
   {
    "duration": 11,
    "start_time": "2022-01-11T21:53:18.483Z"
   },
   {
    "duration": 18,
    "start_time": "2022-01-11T21:53:26.884Z"
   },
   {
    "duration": 8,
    "start_time": "2022-01-11T21:53:34.875Z"
   },
   {
    "duration": 20,
    "start_time": "2022-01-11T21:53:43.024Z"
   },
   {
    "duration": 11,
    "start_time": "2022-01-11T21:53:50.444Z"
   },
   {
    "duration": 11,
    "start_time": "2022-01-11T21:53:59.384Z"
   },
   {
    "duration": 7,
    "start_time": "2022-01-11T21:54:16.144Z"
   },
   {
    "duration": 320,
    "start_time": "2022-01-11T21:54:18.616Z"
   },
   {
    "duration": 19,
    "start_time": "2022-01-11T21:54:35.664Z"
   },
   {
    "duration": 26,
    "start_time": "2022-01-11T22:17:12.979Z"
   },
   {
    "duration": 22,
    "start_time": "2022-01-11T22:18:01.585Z"
   },
   {
    "duration": 8,
    "start_time": "2022-01-11T22:18:48.464Z"
   },
   {
    "duration": 21,
    "start_time": "2022-01-11T22:20:17.635Z"
   },
   {
    "duration": 10,
    "start_time": "2022-01-11T22:20:24.744Z"
   },
   {
    "duration": 20,
    "start_time": "2022-01-11T22:26:37.428Z"
   },
   {
    "duration": 18,
    "start_time": "2022-01-11T22:32:38.136Z"
   },
   {
    "duration": 20,
    "start_time": "2022-01-11T22:32:48.429Z"
   },
   {
    "duration": 18,
    "start_time": "2022-01-11T22:33:14.468Z"
   },
   {
    "duration": 65,
    "start_time": "2022-01-11T22:33:22.948Z"
   },
   {
    "duration": 12,
    "start_time": "2022-01-11T22:33:23.015Z"
   },
   {
    "duration": 13,
    "start_time": "2022-01-11T22:33:23.029Z"
   },
   {
    "duration": 12,
    "start_time": "2022-01-11T22:33:23.044Z"
   },
   {
    "duration": 36,
    "start_time": "2022-01-11T22:33:23.057Z"
   },
   {
    "duration": 18,
    "start_time": "2022-01-11T22:33:23.095Z"
   },
   {
    "duration": 10,
    "start_time": "2022-01-11T22:33:23.115Z"
   },
   {
    "duration": 17,
    "start_time": "2022-01-11T22:33:23.127Z"
   },
   {
    "duration": 47,
    "start_time": "2022-01-11T22:33:23.147Z"
   },
   {
    "duration": 20,
    "start_time": "2022-01-11T22:33:23.196Z"
   },
   {
    "duration": 17,
    "start_time": "2022-01-11T22:33:23.218Z"
   },
   {
    "duration": 13,
    "start_time": "2022-01-11T22:33:23.237Z"
   },
   {
    "duration": 5,
    "start_time": "2022-01-11T22:33:23.251Z"
   },
   {
    "duration": 7,
    "start_time": "2022-01-11T22:33:23.292Z"
   },
   {
    "duration": 22,
    "start_time": "2022-01-11T22:33:23.303Z"
   },
   {
    "duration": 10,
    "start_time": "2022-01-11T22:33:23.327Z"
   },
   {
    "duration": 3,
    "start_time": "2022-01-11T22:33:23.339Z"
   },
   {
    "duration": 6,
    "start_time": "2022-01-11T22:33:23.344Z"
   },
   {
    "duration": 6,
    "start_time": "2022-01-11T22:33:23.393Z"
   },
   {
    "duration": 10,
    "start_time": "2022-01-11T22:33:23.400Z"
   },
   {
    "duration": 8,
    "start_time": "2022-01-11T22:33:23.412Z"
   },
   {
    "duration": 6,
    "start_time": "2022-01-11T22:33:23.422Z"
   },
   {
    "duration": 10,
    "start_time": "2022-01-11T22:33:23.430Z"
   },
   {
    "duration": 7,
    "start_time": "2022-01-11T22:33:23.442Z"
   },
   {
    "duration": 7,
    "start_time": "2022-01-11T22:33:23.450Z"
   },
   {
    "duration": 60,
    "start_time": "2022-01-11T22:33:23.458Z"
   },
   {
    "duration": 7,
    "start_time": "2022-01-11T22:33:23.521Z"
   },
   {
    "duration": 19,
    "start_time": "2022-01-11T22:33:23.530Z"
   },
   {
    "duration": 9,
    "start_time": "2022-01-11T22:33:23.551Z"
   },
   {
    "duration": 35,
    "start_time": "2022-01-11T22:33:23.562Z"
   },
   {
    "duration": 8,
    "start_time": "2022-01-11T22:33:23.599Z"
   },
   {
    "duration": 345,
    "start_time": "2022-01-11T22:33:23.610Z"
   },
   {
    "duration": -366,
    "start_time": "2022-01-11T22:33:24.323Z"
   },
   {
    "duration": -368,
    "start_time": "2022-01-11T22:33:24.326Z"
   },
   {
    "duration": -371,
    "start_time": "2022-01-11T22:33:24.330Z"
   },
   {
    "duration": 17,
    "start_time": "2022-01-11T22:33:31.709Z"
   },
   {
    "duration": 16,
    "start_time": "2022-01-11T22:34:12.468Z"
   },
   {
    "duration": 20,
    "start_time": "2022-01-11T22:34:20.149Z"
   },
   {
    "duration": 22,
    "start_time": "2022-01-11T22:34:49.589Z"
   },
   {
    "duration": 63,
    "start_time": "2022-01-11T22:34:56.789Z"
   },
   {
    "duration": 13,
    "start_time": "2022-01-11T22:34:56.853Z"
   },
   {
    "duration": 35,
    "start_time": "2022-01-11T22:34:56.868Z"
   },
   {
    "duration": 14,
    "start_time": "2022-01-11T22:34:56.905Z"
   },
   {
    "duration": 16,
    "start_time": "2022-01-11T22:34:56.921Z"
   },
   {
    "duration": 20,
    "start_time": "2022-01-11T22:34:56.938Z"
   },
   {
    "duration": 6,
    "start_time": "2022-01-11T22:34:56.960Z"
   },
   {
    "duration": 35,
    "start_time": "2022-01-11T22:34:56.967Z"
   },
   {
    "duration": 13,
    "start_time": "2022-01-11T22:34:57.005Z"
   },
   {
    "duration": 21,
    "start_time": "2022-01-11T22:34:57.020Z"
   },
   {
    "duration": 18,
    "start_time": "2022-01-11T22:34:57.043Z"
   },
   {
    "duration": 48,
    "start_time": "2022-01-11T22:34:57.063Z"
   },
   {
    "duration": 4,
    "start_time": "2022-01-11T22:34:57.113Z"
   },
   {
    "duration": 9,
    "start_time": "2022-01-11T22:34:57.119Z"
   },
   {
    "duration": 21,
    "start_time": "2022-01-11T22:34:57.129Z"
   },
   {
    "duration": 9,
    "start_time": "2022-01-11T22:34:57.151Z"
   },
   {
    "duration": 3,
    "start_time": "2022-01-11T22:34:57.162Z"
   },
   {
    "duration": 9,
    "start_time": "2022-01-11T22:34:57.191Z"
   },
   {
    "duration": 12,
    "start_time": "2022-01-11T22:34:57.202Z"
   },
   {
    "duration": 7,
    "start_time": "2022-01-11T22:34:57.216Z"
   },
   {
    "duration": 5,
    "start_time": "2022-01-11T22:34:57.225Z"
   },
   {
    "duration": 6,
    "start_time": "2022-01-11T22:34:57.232Z"
   },
   {
    "duration": 11,
    "start_time": "2022-01-11T22:34:57.239Z"
   },
   {
    "duration": 39,
    "start_time": "2022-01-11T22:34:57.252Z"
   },
   {
    "duration": 13,
    "start_time": "2022-01-11T22:34:57.294Z"
   },
   {
    "duration": 18,
    "start_time": "2022-01-11T22:34:57.308Z"
   },
   {
    "duration": 9,
    "start_time": "2022-01-11T22:34:57.330Z"
   },
   {
    "duration": 19,
    "start_time": "2022-01-11T22:34:57.342Z"
   },
   {
    "duration": 34,
    "start_time": "2022-01-11T22:34:57.363Z"
   },
   {
    "duration": 12,
    "start_time": "2022-01-11T22:34:57.400Z"
   },
   {
    "duration": 6,
    "start_time": "2022-01-11T22:34:57.415Z"
   },
   {
    "duration": 300,
    "start_time": "2022-01-11T22:34:57.423Z"
   },
   {
    "duration": -409,
    "start_time": "2022-01-11T22:34:58.134Z"
   },
   {
    "duration": -415,
    "start_time": "2022-01-11T22:34:58.141Z"
   },
   {
    "duration": -420,
    "start_time": "2022-01-11T22:34:58.147Z"
   },
   {
    "duration": 24,
    "start_time": "2022-01-11T22:35:05.589Z"
   },
   {
    "duration": 21,
    "start_time": "2022-01-11T22:35:21.221Z"
   },
   {
    "duration": 18,
    "start_time": "2022-01-11T22:38:41.499Z"
   },
   {
    "duration": 7,
    "start_time": "2022-01-11T22:39:13.380Z"
   },
   {
    "duration": 7,
    "start_time": "2022-01-11T22:39:31.241Z"
   },
   {
    "duration": 8,
    "start_time": "2022-01-11T22:40:04.400Z"
   },
   {
    "duration": 625,
    "start_time": "2022-01-11T22:42:11.247Z"
   },
   {
    "duration": 13,
    "start_time": "2022-01-11T22:42:11.874Z"
   },
   {
    "duration": 11,
    "start_time": "2022-01-11T22:42:11.892Z"
   },
   {
    "duration": 21,
    "start_time": "2022-01-11T22:42:11.906Z"
   },
   {
    "duration": 16,
    "start_time": "2022-01-11T22:42:11.929Z"
   },
   {
    "duration": 50,
    "start_time": "2022-01-11T22:42:11.947Z"
   },
   {
    "duration": 9,
    "start_time": "2022-01-11T22:42:12.000Z"
   },
   {
    "duration": 20,
    "start_time": "2022-01-11T22:42:12.011Z"
   },
   {
    "duration": 12,
    "start_time": "2022-01-11T22:42:12.034Z"
   },
   {
    "duration": 50,
    "start_time": "2022-01-11T22:42:12.048Z"
   },
   {
    "duration": 24,
    "start_time": "2022-01-11T22:42:12.100Z"
   },
   {
    "duration": 14,
    "start_time": "2022-01-11T22:42:12.126Z"
   },
   {
    "duration": 6,
    "start_time": "2022-01-11T22:42:12.142Z"
   },
   {
    "duration": 7,
    "start_time": "2022-01-11T22:42:12.150Z"
   },
   {
    "duration": 62,
    "start_time": "2022-01-11T22:42:12.159Z"
   },
   {
    "duration": 10,
    "start_time": "2022-01-11T22:42:12.223Z"
   },
   {
    "duration": 4,
    "start_time": "2022-01-11T22:42:12.235Z"
   },
   {
    "duration": 6,
    "start_time": "2022-01-11T22:42:12.241Z"
   },
   {
    "duration": 5,
    "start_time": "2022-01-11T22:42:12.249Z"
   },
   {
    "duration": 40,
    "start_time": "2022-01-11T22:42:12.256Z"
   },
   {
    "duration": 5,
    "start_time": "2022-01-11T22:42:12.298Z"
   },
   {
    "duration": 6,
    "start_time": "2022-01-11T22:42:12.305Z"
   },
   {
    "duration": 18,
    "start_time": "2022-01-11T22:42:12.313Z"
   },
   {
    "duration": 7,
    "start_time": "2022-01-11T22:42:12.333Z"
   },
   {
    "duration": 7,
    "start_time": "2022-01-11T22:42:12.342Z"
   },
   {
    "duration": 58,
    "start_time": "2022-01-11T22:42:12.351Z"
   },
   {
    "duration": 8,
    "start_time": "2022-01-11T22:42:12.413Z"
   },
   {
    "duration": 18,
    "start_time": "2022-01-11T22:42:12.423Z"
   },
   {
    "duration": 8,
    "start_time": "2022-01-11T22:42:12.443Z"
   },
   {
    "duration": 41,
    "start_time": "2022-01-11T22:42:12.453Z"
   },
   {
    "duration": 5,
    "start_time": "2022-01-11T22:42:12.497Z"
   },
   {
    "duration": 376,
    "start_time": "2022-01-11T22:42:12.504Z"
   },
   {
    "duration": -154,
    "start_time": "2022-01-11T22:42:13.037Z"
   },
   {
    "duration": -192,
    "start_time": "2022-01-11T22:42:13.076Z"
   },
   {
    "duration": -195,
    "start_time": "2022-01-11T22:42:13.080Z"
   },
   {
    "duration": -198,
    "start_time": "2022-01-11T22:42:13.084Z"
   },
   {
    "duration": 76,
    "start_time": "2022-01-11T22:42:36.308Z"
   },
   {
    "duration": 12,
    "start_time": "2022-01-11T22:42:36.386Z"
   },
   {
    "duration": 16,
    "start_time": "2022-01-11T22:42:36.401Z"
   },
   {
    "duration": 17,
    "start_time": "2022-01-11T22:42:36.420Z"
   },
   {
    "duration": 9,
    "start_time": "2022-01-11T22:42:36.439Z"
   },
   {
    "duration": 48,
    "start_time": "2022-01-11T22:42:36.451Z"
   },
   {
    "duration": 11,
    "start_time": "2022-01-11T22:42:36.501Z"
   },
   {
    "duration": 14,
    "start_time": "2022-01-11T22:42:36.514Z"
   },
   {
    "duration": 15,
    "start_time": "2022-01-11T22:42:36.531Z"
   },
   {
    "duration": 50,
    "start_time": "2022-01-11T22:42:36.549Z"
   },
   {
    "duration": 19,
    "start_time": "2022-01-11T22:42:36.602Z"
   },
   {
    "duration": 14,
    "start_time": "2022-01-11T22:42:36.622Z"
   },
   {
    "duration": 4,
    "start_time": "2022-01-11T22:42:36.638Z"
   },
   {
    "duration": 7,
    "start_time": "2022-01-11T22:42:36.644Z"
   },
   {
    "duration": 54,
    "start_time": "2022-01-11T22:42:36.653Z"
   },
   {
    "duration": 11,
    "start_time": "2022-01-11T22:42:36.709Z"
   },
   {
    "duration": 4,
    "start_time": "2022-01-11T22:42:36.721Z"
   },
   {
    "duration": 5,
    "start_time": "2022-01-11T22:42:36.727Z"
   },
   {
    "duration": 6,
    "start_time": "2022-01-11T22:42:36.734Z"
   },
   {
    "duration": 6,
    "start_time": "2022-01-11T22:42:36.742Z"
   },
   {
    "duration": 43,
    "start_time": "2022-01-11T22:42:36.750Z"
   },
   {
    "duration": 19,
    "start_time": "2022-01-11T22:42:36.795Z"
   },
   {
    "duration": 16,
    "start_time": "2022-01-11T22:42:36.816Z"
   },
   {
    "duration": 14,
    "start_time": "2022-01-11T22:42:36.834Z"
   },
   {
    "duration": 29,
    "start_time": "2022-01-11T22:42:36.850Z"
   },
   {
    "duration": 21,
    "start_time": "2022-01-11T22:42:36.881Z"
   },
   {
    "duration": 7,
    "start_time": "2022-01-11T22:42:36.905Z"
   },
   {
    "duration": 42,
    "start_time": "2022-01-11T22:42:36.915Z"
   },
   {
    "duration": 10,
    "start_time": "2022-01-11T22:42:36.959Z"
   },
   {
    "duration": 29,
    "start_time": "2022-01-11T22:42:36.971Z"
   },
   {
    "duration": 11,
    "start_time": "2022-01-11T22:42:37.002Z"
   },
   {
    "duration": 1120,
    "start_time": "2022-01-11T22:42:37.015Z"
   },
   {
    "duration": 57,
    "start_time": "2022-01-11T22:43:48.812Z"
   },
   {
    "duration": 11,
    "start_time": "2022-01-11T22:43:48.871Z"
   },
   {
    "duration": 11,
    "start_time": "2022-01-11T22:43:48.884Z"
   },
   {
    "duration": 11,
    "start_time": "2022-01-11T22:43:48.897Z"
   },
   {
    "duration": 9,
    "start_time": "2022-01-11T22:43:48.909Z"
   },
   {
    "duration": 13,
    "start_time": "2022-01-11T22:43:48.919Z"
   },
   {
    "duration": 7,
    "start_time": "2022-01-11T22:43:48.933Z"
   },
   {
    "duration": 14,
    "start_time": "2022-01-11T22:43:48.941Z"
   },
   {
    "duration": 11,
    "start_time": "2022-01-11T22:43:48.992Z"
   },
   {
    "duration": 14,
    "start_time": "2022-01-11T22:43:49.005Z"
   },
   {
    "duration": 16,
    "start_time": "2022-01-11T22:43:49.021Z"
   },
   {
    "duration": 14,
    "start_time": "2022-01-11T22:43:49.038Z"
   },
   {
    "duration": 4,
    "start_time": "2022-01-11T22:43:49.053Z"
   },
   {
    "duration": 36,
    "start_time": "2022-01-11T22:43:49.059Z"
   },
   {
    "duration": 18,
    "start_time": "2022-01-11T22:43:49.096Z"
   },
   {
    "duration": 9,
    "start_time": "2022-01-11T22:43:49.116Z"
   },
   {
    "duration": 5,
    "start_time": "2022-01-11T22:43:49.126Z"
   },
   {
    "duration": 6,
    "start_time": "2022-01-11T22:43:49.132Z"
   },
   {
    "duration": 4,
    "start_time": "2022-01-11T22:43:49.139Z"
   },
   {
    "duration": 7,
    "start_time": "2022-01-11T22:43:49.145Z"
   },
   {
    "duration": 39,
    "start_time": "2022-01-11T22:43:49.153Z"
   },
   {
    "duration": 4,
    "start_time": "2022-01-11T22:43:49.194Z"
   },
   {
    "duration": 13,
    "start_time": "2022-01-11T22:43:49.199Z"
   },
   {
    "duration": 6,
    "start_time": "2022-01-11T22:43:49.214Z"
   },
   {
    "duration": 10,
    "start_time": "2022-01-11T22:43:49.221Z"
   },
   {
    "duration": 17,
    "start_time": "2022-01-11T22:43:49.232Z"
   },
   {
    "duration": 7,
    "start_time": "2022-01-11T22:43:49.252Z"
   },
   {
    "duration": 17,
    "start_time": "2022-01-11T22:43:49.292Z"
   },
   {
    "duration": 8,
    "start_time": "2022-01-11T22:43:49.311Z"
   },
   {
    "duration": 8,
    "start_time": "2022-01-11T22:43:49.320Z"
   },
   {
    "duration": 6,
    "start_time": "2022-01-11T22:43:49.329Z"
   },
   {
    "duration": 346,
    "start_time": "2022-01-11T22:43:49.336Z"
   },
   {
    "duration": -339,
    "start_time": "2022-01-11T22:43:50.022Z"
   },
   {
    "duration": -342,
    "start_time": "2022-01-11T22:43:50.026Z"
   },
   {
    "duration": -345,
    "start_time": "2022-01-11T22:43:50.030Z"
   },
   {
    "duration": -347,
    "start_time": "2022-01-11T22:43:50.033Z"
   },
   {
    "duration": 16,
    "start_time": "2022-01-11T22:44:02.542Z"
   },
   {
    "duration": 8,
    "start_time": "2022-01-11T22:44:07.642Z"
   },
   {
    "duration": 631,
    "start_time": "2022-01-12T04:17:28.434Z"
   },
   {
    "duration": 13,
    "start_time": "2022-01-12T04:17:29.067Z"
   },
   {
    "duration": 11,
    "start_time": "2022-01-12T04:17:29.082Z"
   },
   {
    "duration": 12,
    "start_time": "2022-01-12T04:17:29.095Z"
   },
   {
    "duration": 33,
    "start_time": "2022-01-12T04:17:29.109Z"
   },
   {
    "duration": 12,
    "start_time": "2022-01-12T04:17:29.144Z"
   },
   {
    "duration": 7,
    "start_time": "2022-01-12T04:17:29.158Z"
   },
   {
    "duration": 16,
    "start_time": "2022-01-12T04:17:29.166Z"
   },
   {
    "duration": 10,
    "start_time": "2022-01-12T04:17:29.185Z"
   },
   {
    "duration": 49,
    "start_time": "2022-01-12T04:17:29.197Z"
   },
   {
    "duration": 19,
    "start_time": "2022-01-12T04:17:29.247Z"
   },
   {
    "duration": 13,
    "start_time": "2022-01-12T04:17:29.267Z"
   },
   {
    "duration": 4,
    "start_time": "2022-01-12T04:17:29.281Z"
   },
   {
    "duration": 7,
    "start_time": "2022-01-12T04:17:29.286Z"
   },
   {
    "duration": 21,
    "start_time": "2022-01-12T04:17:29.295Z"
   },
   {
    "duration": 31,
    "start_time": "2022-01-12T04:17:29.317Z"
   },
   {
    "duration": 4,
    "start_time": "2022-01-12T04:17:29.349Z"
   },
   {
    "duration": 9,
    "start_time": "2022-01-12T04:17:29.355Z"
   },
   {
    "duration": 9,
    "start_time": "2022-01-12T04:17:29.365Z"
   },
   {
    "duration": 8,
    "start_time": "2022-01-12T04:17:29.375Z"
   },
   {
    "duration": 7,
    "start_time": "2022-01-12T04:17:29.385Z"
   },
   {
    "duration": 7,
    "start_time": "2022-01-12T04:17:29.394Z"
   },
   {
    "duration": 15,
    "start_time": "2022-01-12T04:17:29.402Z"
   },
   {
    "duration": 23,
    "start_time": "2022-01-12T04:17:29.418Z"
   },
   {
    "duration": 6,
    "start_time": "2022-01-12T04:17:29.443Z"
   },
   {
    "duration": 28,
    "start_time": "2022-01-12T04:17:29.451Z"
   },
   {
    "duration": 6,
    "start_time": "2022-01-12T04:17:29.483Z"
   },
   {
    "duration": 21,
    "start_time": "2022-01-12T04:17:29.491Z"
   },
   {
    "duration": 6,
    "start_time": "2022-01-12T04:17:29.514Z"
   },
   {
    "duration": 22,
    "start_time": "2022-01-12T04:17:29.521Z"
   },
   {
    "duration": 7,
    "start_time": "2022-01-12T04:17:29.545Z"
   },
   {
    "duration": 477,
    "start_time": "2022-01-12T04:17:29.553Z"
   },
   {
    "duration": 2,
    "start_time": "2022-01-12T04:17:30.029Z"
   },
   {
    "duration": -1,
    "start_time": "2022-01-12T04:17:30.033Z"
   },
   {
    "duration": -3,
    "start_time": "2022-01-12T04:17:30.036Z"
   },
   {
    "duration": -6,
    "start_time": "2022-01-12T04:17:30.040Z"
   },
   {
    "duration": 83,
    "start_time": "2022-01-12T04:17:49.998Z"
   },
   {
    "duration": 582,
    "start_time": "2022-01-12T04:18:20.578Z"
   },
   {
    "duration": 11,
    "start_time": "2022-01-12T04:18:21.161Z"
   },
   {
    "duration": 41,
    "start_time": "2022-01-12T04:18:21.173Z"
   },
   {
    "duration": 25,
    "start_time": "2022-01-12T04:18:21.216Z"
   },
   {
    "duration": 33,
    "start_time": "2022-01-12T04:18:21.243Z"
   },
   {
    "duration": 23,
    "start_time": "2022-01-12T04:18:21.278Z"
   },
   {
    "duration": 21,
    "start_time": "2022-01-12T04:18:21.303Z"
   },
   {
    "duration": 41,
    "start_time": "2022-01-12T04:18:21.327Z"
   },
   {
    "duration": 20,
    "start_time": "2022-01-12T04:18:21.370Z"
   },
   {
    "duration": 33,
    "start_time": "2022-01-12T04:18:21.392Z"
   },
   {
    "duration": 28,
    "start_time": "2022-01-12T04:18:21.426Z"
   },
   {
    "duration": 37,
    "start_time": "2022-01-12T04:18:21.456Z"
   },
   {
    "duration": 23,
    "start_time": "2022-01-12T04:18:21.494Z"
   },
   {
    "duration": 12,
    "start_time": "2022-01-12T04:18:21.518Z"
   },
   {
    "duration": 43,
    "start_time": "2022-01-12T04:18:21.531Z"
   },
   {
    "duration": 22,
    "start_time": "2022-01-12T04:18:21.576Z"
   },
   {
    "duration": 11,
    "start_time": "2022-01-12T04:18:21.600Z"
   },
   {
    "duration": 6,
    "start_time": "2022-01-12T04:18:21.612Z"
   },
   {
    "duration": 5,
    "start_time": "2022-01-12T04:18:21.619Z"
   },
   {
    "duration": 6,
    "start_time": "2022-01-12T04:18:21.625Z"
   },
   {
    "duration": 6,
    "start_time": "2022-01-12T04:18:21.632Z"
   },
   {
    "duration": 7,
    "start_time": "2022-01-12T04:18:21.640Z"
   },
   {
    "duration": 13,
    "start_time": "2022-01-12T04:18:21.649Z"
   },
   {
    "duration": 9,
    "start_time": "2022-01-12T04:18:21.663Z"
   },
   {
    "duration": 10,
    "start_time": "2022-01-12T04:18:21.673Z"
   },
   {
    "duration": 24,
    "start_time": "2022-01-12T04:18:21.685Z"
   },
   {
    "duration": 10,
    "start_time": "2022-01-12T04:18:21.711Z"
   },
   {
    "duration": 19,
    "start_time": "2022-01-12T04:18:21.723Z"
   },
   {
    "duration": 6,
    "start_time": "2022-01-12T04:18:21.743Z"
   },
   {
    "duration": 11,
    "start_time": "2022-01-12T04:18:21.750Z"
   },
   {
    "duration": 9,
    "start_time": "2022-01-12T04:18:21.762Z"
   },
   {
    "duration": 78,
    "start_time": "2022-01-12T04:18:21.772Z"
   },
   {
    "duration": -28,
    "start_time": "2022-01-12T04:18:21.881Z"
   },
   {
    "duration": -31,
    "start_time": "2022-01-12T04:18:21.885Z"
   },
   {
    "duration": -36,
    "start_time": "2022-01-12T04:18:21.891Z"
   },
   {
    "duration": -40,
    "start_time": "2022-01-12T04:18:21.897Z"
   },
   {
    "duration": 4562,
    "start_time": "2022-01-12T04:19:38.211Z"
   },
   {
    "duration": 4324,
    "start_time": "2022-01-12T04:20:03.843Z"
   },
   {
    "duration": 3686,
    "start_time": "2022-01-12T04:20:35.592Z"
   },
   {
    "duration": 3985,
    "start_time": "2022-01-12T04:22:18.943Z"
   },
   {
    "duration": 3979,
    "start_time": "2022-01-12T04:22:26.787Z"
   },
   {
    "duration": 59,
    "start_time": "2022-01-12T04:26:21.310Z"
   },
   {
    "duration": 12,
    "start_time": "2022-01-12T04:26:21.370Z"
   },
   {
    "duration": 32,
    "start_time": "2022-01-12T04:26:21.384Z"
   },
   {
    "duration": 40,
    "start_time": "2022-01-12T04:26:21.418Z"
   },
   {
    "duration": 62,
    "start_time": "2022-01-12T04:26:21.460Z"
   },
   {
    "duration": 42,
    "start_time": "2022-01-12T04:26:21.524Z"
   },
   {
    "duration": 9,
    "start_time": "2022-01-12T04:26:21.567Z"
   },
   {
    "duration": 35,
    "start_time": "2022-01-12T04:26:21.579Z"
   },
   {
    "duration": 12,
    "start_time": "2022-01-12T04:26:21.616Z"
   },
   {
    "duration": 27,
    "start_time": "2022-01-12T04:26:21.630Z"
   },
   {
    "duration": 15,
    "start_time": "2022-01-12T04:26:21.658Z"
   },
   {
    "duration": 12,
    "start_time": "2022-01-12T04:26:21.675Z"
   },
   {
    "duration": 4,
    "start_time": "2022-01-12T04:26:21.689Z"
   },
   {
    "duration": 6,
    "start_time": "2022-01-12T04:26:21.694Z"
   },
   {
    "duration": 16,
    "start_time": "2022-01-12T04:26:21.701Z"
   },
   {
    "duration": 30,
    "start_time": "2022-01-12T04:26:21.718Z"
   },
   {
    "duration": 4,
    "start_time": "2022-01-12T04:26:21.749Z"
   },
   {
    "duration": 6,
    "start_time": "2022-01-12T04:26:21.754Z"
   },
   {
    "duration": 18,
    "start_time": "2022-01-12T04:26:21.762Z"
   },
   {
    "duration": 8,
    "start_time": "2022-01-12T04:26:21.781Z"
   },
   {
    "duration": 8,
    "start_time": "2022-01-12T04:26:21.790Z"
   },
   {
    "duration": 10,
    "start_time": "2022-01-12T04:26:21.799Z"
   },
   {
    "duration": 14,
    "start_time": "2022-01-12T04:26:21.812Z"
   },
   {
    "duration": 16,
    "start_time": "2022-01-12T04:26:21.828Z"
   },
   {
    "duration": 8,
    "start_time": "2022-01-12T04:26:21.845Z"
   },
   {
    "duration": 19,
    "start_time": "2022-01-12T04:26:21.854Z"
   },
   {
    "duration": 6,
    "start_time": "2022-01-12T04:26:21.874Z"
   },
   {
    "duration": 18,
    "start_time": "2022-01-12T04:26:21.882Z"
   },
   {
    "duration": 5,
    "start_time": "2022-01-12T04:26:21.902Z"
   },
   {
    "duration": 11,
    "start_time": "2022-01-12T04:26:21.908Z"
   },
   {
    "duration": 4142,
    "start_time": "2022-01-12T04:26:21.920Z"
   },
   {
    "duration": 15,
    "start_time": "2022-01-12T04:26:26.064Z"
   },
   {
    "duration": 12,
    "start_time": "2022-01-12T04:26:26.081Z"
   },
   {
    "duration": 20,
    "start_time": "2022-01-12T04:26:26.094Z"
   },
   {
    "duration": 8,
    "start_time": "2022-01-12T04:26:26.116Z"
   },
   {
    "duration": 4021,
    "start_time": "2022-01-12T04:26:33.896Z"
   },
   {
    "duration": 2932,
    "start_time": "2022-01-12T04:27:46.298Z"
   },
   {
    "duration": 598,
    "start_time": "2022-01-12T15:32:04.591Z"
   },
   {
    "duration": 11,
    "start_time": "2022-01-12T15:32:05.191Z"
   },
   {
    "duration": 11,
    "start_time": "2022-01-12T15:32:05.204Z"
   },
   {
    "duration": 10,
    "start_time": "2022-01-12T15:32:05.216Z"
   },
   {
    "duration": 7,
    "start_time": "2022-01-12T15:32:05.228Z"
   },
   {
    "duration": 12,
    "start_time": "2022-01-12T15:32:05.236Z"
   },
   {
    "duration": 7,
    "start_time": "2022-01-12T15:32:05.250Z"
   },
   {
    "duration": 12,
    "start_time": "2022-01-12T15:32:05.259Z"
   },
   {
    "duration": 46,
    "start_time": "2022-01-12T15:32:05.273Z"
   },
   {
    "duration": 12,
    "start_time": "2022-01-12T15:32:05.321Z"
   },
   {
    "duration": 14,
    "start_time": "2022-01-12T15:32:05.335Z"
   },
   {
    "duration": 11,
    "start_time": "2022-01-12T15:32:05.350Z"
   },
   {
    "duration": 3,
    "start_time": "2022-01-12T15:32:05.363Z"
   },
   {
    "duration": 6,
    "start_time": "2022-01-12T15:32:05.367Z"
   },
   {
    "duration": 49,
    "start_time": "2022-01-12T15:32:05.374Z"
   },
   {
    "duration": 10,
    "start_time": "2022-01-12T15:32:05.424Z"
   },
   {
    "duration": 8,
    "start_time": "2022-01-12T15:32:05.435Z"
   },
   {
    "duration": 6,
    "start_time": "2022-01-12T15:32:05.444Z"
   },
   {
    "duration": 4,
    "start_time": "2022-01-12T15:32:05.451Z"
   },
   {
    "duration": 8,
    "start_time": "2022-01-12T15:32:05.456Z"
   },
   {
    "duration": 13,
    "start_time": "2022-01-12T15:32:05.465Z"
   },
   {
    "duration": 9,
    "start_time": "2022-01-12T15:32:05.479Z"
   },
   {
    "duration": 23,
    "start_time": "2022-01-12T15:32:05.490Z"
   },
   {
    "duration": 6,
    "start_time": "2022-01-12T15:32:05.515Z"
   },
   {
    "duration": 7,
    "start_time": "2022-01-12T15:32:05.522Z"
   },
   {
    "duration": 17,
    "start_time": "2022-01-12T15:32:05.530Z"
   },
   {
    "duration": 6,
    "start_time": "2022-01-12T15:32:05.548Z"
   },
   {
    "duration": 16,
    "start_time": "2022-01-12T15:32:05.556Z"
   },
   {
    "duration": 11,
    "start_time": "2022-01-12T15:32:05.574Z"
   },
   {
    "duration": 27,
    "start_time": "2022-01-12T15:32:05.587Z"
   },
   {
    "duration": 3517,
    "start_time": "2022-01-12T15:32:05.615Z"
   },
   {
    "duration": 14,
    "start_time": "2022-01-12T15:32:09.133Z"
   },
   {
    "duration": 13,
    "start_time": "2022-01-12T15:32:09.148Z"
   },
   {
    "duration": 34,
    "start_time": "2022-01-12T15:32:09.162Z"
   },
   {
    "duration": 13,
    "start_time": "2022-01-12T15:32:09.197Z"
   },
   {
    "duration": 6,
    "start_time": "2022-01-12T15:35:39.938Z"
   },
   {
    "duration": 53,
    "start_time": "2022-01-12T16:31:02.843Z"
   },
   {
    "duration": 11,
    "start_time": "2022-01-12T16:31:02.897Z"
   },
   {
    "duration": 18,
    "start_time": "2022-01-12T16:31:02.910Z"
   },
   {
    "duration": 12,
    "start_time": "2022-01-12T16:31:02.930Z"
   },
   {
    "duration": 7,
    "start_time": "2022-01-12T16:31:02.943Z"
   },
   {
    "duration": 13,
    "start_time": "2022-01-12T16:31:02.952Z"
   },
   {
    "duration": 5,
    "start_time": "2022-01-12T16:31:02.966Z"
   },
   {
    "duration": 16,
    "start_time": "2022-01-12T16:31:02.973Z"
   },
   {
    "duration": 26,
    "start_time": "2022-01-12T16:31:02.991Z"
   },
   {
    "duration": 17,
    "start_time": "2022-01-12T16:31:03.018Z"
   },
   {
    "duration": 14,
    "start_time": "2022-01-12T16:31:03.037Z"
   },
   {
    "duration": 11,
    "start_time": "2022-01-12T16:31:03.052Z"
   },
   {
    "duration": 3,
    "start_time": "2022-01-12T16:31:03.064Z"
   },
   {
    "duration": 5,
    "start_time": "2022-01-12T16:31:03.069Z"
   },
   {
    "duration": 45,
    "start_time": "2022-01-12T16:31:03.076Z"
   },
   {
    "duration": 9,
    "start_time": "2022-01-12T16:31:03.122Z"
   },
   {
    "duration": 3,
    "start_time": "2022-01-12T16:31:03.132Z"
   },
   {
    "duration": 5,
    "start_time": "2022-01-12T16:31:03.136Z"
   },
   {
    "duration": 3,
    "start_time": "2022-01-12T16:31:03.142Z"
   },
   {
    "duration": 4,
    "start_time": "2022-01-12T16:31:03.147Z"
   },
   {
    "duration": 10,
    "start_time": "2022-01-12T16:31:03.152Z"
   },
   {
    "duration": 9,
    "start_time": "2022-01-12T16:31:03.163Z"
   },
   {
    "duration": 10,
    "start_time": "2022-01-12T16:31:03.173Z"
   },
   {
    "duration": 5,
    "start_time": "2022-01-12T16:31:03.212Z"
   },
   {
    "duration": 8,
    "start_time": "2022-01-12T16:31:03.218Z"
   },
   {
    "duration": 19,
    "start_time": "2022-01-12T16:31:03.227Z"
   },
   {
    "duration": 5,
    "start_time": "2022-01-12T16:31:03.249Z"
   },
   {
    "duration": 16,
    "start_time": "2022-01-12T16:31:03.256Z"
   },
   {
    "duration": 6,
    "start_time": "2022-01-12T16:31:03.274Z"
   },
   {
    "duration": 33,
    "start_time": "2022-01-12T16:31:03.281Z"
   },
   {
    "duration": 3486,
    "start_time": "2022-01-12T16:31:03.315Z"
   },
   {
    "duration": 15,
    "start_time": "2022-01-12T16:31:06.802Z"
   },
   {
    "duration": 17,
    "start_time": "2022-01-12T16:31:06.818Z"
   },
   {
    "duration": 5,
    "start_time": "2022-01-12T16:31:06.836Z"
   },
   {
    "duration": 18,
    "start_time": "2022-01-12T16:31:06.843Z"
   },
   {
    "duration": 22,
    "start_time": "2022-01-12T16:31:06.862Z"
   },
   {
    "duration": 974,
    "start_time": "2022-01-12T16:42:18.806Z"
   },
   {
    "duration": 18,
    "start_time": "2022-01-12T16:45:53.676Z"
   },
   {
    "duration": 26,
    "start_time": "2022-01-12T16:46:07.447Z"
   },
   {
    "duration": 16,
    "start_time": "2022-01-12T16:46:30.279Z"
   },
   {
    "duration": 6,
    "start_time": "2022-01-12T16:48:41.507Z"
   },
   {
    "duration": 52,
    "start_time": "2022-01-12T16:52:18.220Z"
   },
   {
    "duration": 10,
    "start_time": "2022-01-12T16:52:18.274Z"
   },
   {
    "duration": 11,
    "start_time": "2022-01-12T16:52:18.286Z"
   },
   {
    "duration": 23,
    "start_time": "2022-01-12T16:52:18.298Z"
   },
   {
    "duration": 8,
    "start_time": "2022-01-12T16:52:18.322Z"
   },
   {
    "duration": 12,
    "start_time": "2022-01-12T16:52:18.331Z"
   },
   {
    "duration": 5,
    "start_time": "2022-01-12T16:52:18.344Z"
   },
   {
    "duration": 11,
    "start_time": "2022-01-12T16:52:18.351Z"
   },
   {
    "duration": 10,
    "start_time": "2022-01-12T16:52:18.364Z"
   },
   {
    "duration": 13,
    "start_time": "2022-01-12T16:52:18.413Z"
   },
   {
    "duration": 15,
    "start_time": "2022-01-12T16:52:18.428Z"
   },
   {
    "duration": 12,
    "start_time": "2022-01-12T16:52:18.444Z"
   },
   {
    "duration": 3,
    "start_time": "2022-01-12T16:52:18.458Z"
   },
   {
    "duration": 5,
    "start_time": "2022-01-12T16:52:18.463Z"
   },
   {
    "duration": 50,
    "start_time": "2022-01-12T16:52:18.469Z"
   },
   {
    "duration": 9,
    "start_time": "2022-01-12T16:52:18.520Z"
   },
   {
    "duration": 3,
    "start_time": "2022-01-12T16:52:18.530Z"
   },
   {
    "duration": 6,
    "start_time": "2022-01-12T16:52:18.534Z"
   },
   {
    "duration": 4,
    "start_time": "2022-01-12T16:52:18.541Z"
   },
   {
    "duration": 6,
    "start_time": "2022-01-12T16:52:18.546Z"
   },
   {
    "duration": 4,
    "start_time": "2022-01-12T16:52:18.554Z"
   },
   {
    "duration": 12,
    "start_time": "2022-01-12T16:52:18.559Z"
   },
   {
    "duration": 40,
    "start_time": "2022-01-12T16:52:18.573Z"
   },
   {
    "duration": 7,
    "start_time": "2022-01-12T16:52:18.614Z"
   },
   {
    "duration": 6,
    "start_time": "2022-01-12T16:52:18.622Z"
   },
   {
    "duration": 16,
    "start_time": "2022-01-12T16:52:18.629Z"
   },
   {
    "duration": 6,
    "start_time": "2022-01-12T16:52:18.648Z"
   },
   {
    "duration": 18,
    "start_time": "2022-01-12T16:52:18.655Z"
   },
   {
    "duration": 40,
    "start_time": "2022-01-12T16:52:18.674Z"
   },
   {
    "duration": 8,
    "start_time": "2022-01-12T16:52:18.716Z"
   },
   {
    "duration": 3624,
    "start_time": "2022-01-12T16:52:18.726Z"
   },
   {
    "duration": 7,
    "start_time": "2022-01-12T16:52:22.351Z"
   },
   {
    "duration": 15,
    "start_time": "2022-01-12T16:52:22.359Z"
   },
   {
    "duration": 5,
    "start_time": "2022-01-12T16:52:22.376Z"
   },
   {
    "duration": 38,
    "start_time": "2022-01-12T16:52:22.383Z"
   },
   {
    "duration": 6,
    "start_time": "2022-01-12T16:52:22.422Z"
   },
   {
    "duration": 18,
    "start_time": "2022-01-12T16:52:22.429Z"
   },
   {
    "duration": 6,
    "start_time": "2022-01-12T16:52:22.448Z"
   },
   {
    "duration": 52,
    "start_time": "2022-01-12T17:04:48.553Z"
   },
   {
    "duration": 12,
    "start_time": "2022-01-12T17:04:48.608Z"
   },
   {
    "duration": 10,
    "start_time": "2022-01-12T17:04:48.622Z"
   },
   {
    "duration": 11,
    "start_time": "2022-01-12T17:04:48.633Z"
   },
   {
    "duration": 8,
    "start_time": "2022-01-12T17:04:48.645Z"
   },
   {
    "duration": 12,
    "start_time": "2022-01-12T17:04:48.654Z"
   },
   {
    "duration": 7,
    "start_time": "2022-01-12T17:04:49.591Z"
   },
   {
    "duration": 14,
    "start_time": "2022-01-12T17:04:49.599Z"
   },
   {
    "duration": 11,
    "start_time": "2022-01-12T17:04:49.614Z"
   },
   {
    "duration": 14,
    "start_time": "2022-01-12T17:04:49.627Z"
   },
   {
    "duration": 19,
    "start_time": "2022-01-12T17:04:49.651Z"
   },
   {
    "duration": 13,
    "start_time": "2022-01-12T17:04:49.672Z"
   },
   {
    "duration": 28,
    "start_time": "2022-01-12T17:04:49.687Z"
   },
   {
    "duration": 6,
    "start_time": "2022-01-12T17:04:49.717Z"
   },
   {
    "duration": 18,
    "start_time": "2022-01-12T17:04:49.725Z"
   },
   {
    "duration": 11,
    "start_time": "2022-01-12T17:04:49.745Z"
   },
   {
    "duration": 4,
    "start_time": "2022-01-12T17:04:49.757Z"
   },
   {
    "duration": 49,
    "start_time": "2022-01-12T17:04:49.763Z"
   },
   {
    "duration": 5,
    "start_time": "2022-01-12T17:04:50.168Z"
   },
   {
    "duration": 5,
    "start_time": "2022-01-12T17:04:50.175Z"
   },
   {
    "duration": 4,
    "start_time": "2022-01-12T17:04:50.182Z"
   },
   {
    "duration": 5,
    "start_time": "2022-01-12T17:04:50.188Z"
   },
   {
    "duration": 11,
    "start_time": "2022-01-12T17:04:50.194Z"
   },
   {
    "duration": 6,
    "start_time": "2022-01-12T17:04:50.207Z"
   },
   {
    "duration": 8,
    "start_time": "2022-01-12T17:04:50.215Z"
   },
   {
    "duration": 17,
    "start_time": "2022-01-12T17:04:50.224Z"
   },
   {
    "duration": 6,
    "start_time": "2022-01-12T17:04:50.244Z"
   },
   {
    "duration": 19,
    "start_time": "2022-01-12T17:04:50.252Z"
   },
   {
    "duration": 9,
    "start_time": "2022-01-12T17:04:50.273Z"
   },
   {
    "duration": 34,
    "start_time": "2022-01-12T17:04:50.283Z"
   },
   {
    "duration": 4179,
    "start_time": "2022-01-12T17:04:50.318Z"
   },
   {
    "duration": 16,
    "start_time": "2022-01-12T17:04:54.499Z"
   },
   {
    "duration": 18,
    "start_time": "2022-01-12T17:04:54.516Z"
   },
   {
    "duration": 7,
    "start_time": "2022-01-12T17:04:54.536Z"
   },
   {
    "duration": 16,
    "start_time": "2022-01-12T17:04:54.544Z"
   },
   {
    "duration": 6,
    "start_time": "2022-01-12T17:04:54.562Z"
   },
   {
    "duration": 53,
    "start_time": "2022-01-12T17:04:54.570Z"
   },
   {
    "duration": 7,
    "start_time": "2022-01-12T17:04:54.624Z"
   },
   {
    "duration": 644,
    "start_time": "2022-01-12T17:40:24.820Z"
   },
   {
    "duration": 11,
    "start_time": "2022-01-12T17:40:25.465Z"
   },
   {
    "duration": 10,
    "start_time": "2022-01-12T17:40:25.477Z"
   },
   {
    "duration": 24,
    "start_time": "2022-01-12T17:40:25.489Z"
   },
   {
    "duration": 11,
    "start_time": "2022-01-12T17:40:25.516Z"
   },
   {
    "duration": 13,
    "start_time": "2022-01-12T17:40:25.529Z"
   },
   {
    "duration": 6,
    "start_time": "2022-01-12T17:40:25.544Z"
   },
   {
    "duration": 13,
    "start_time": "2022-01-12T17:40:25.552Z"
   },
   {
    "duration": 46,
    "start_time": "2022-01-12T17:40:25.567Z"
   },
   {
    "duration": 17,
    "start_time": "2022-01-12T17:40:25.616Z"
   },
   {
    "duration": 15,
    "start_time": "2022-01-12T17:40:25.635Z"
   },
   {
    "duration": 12,
    "start_time": "2022-01-12T17:40:25.651Z"
   },
   {
    "duration": 4,
    "start_time": "2022-01-12T17:40:25.664Z"
   },
   {
    "duration": 5,
    "start_time": "2022-01-12T17:40:25.669Z"
   },
   {
    "duration": 56,
    "start_time": "2022-01-12T17:40:25.675Z"
   },
   {
    "duration": 9,
    "start_time": "2022-01-12T17:40:25.733Z"
   },
   {
    "duration": 3,
    "start_time": "2022-01-12T17:40:25.743Z"
   },
   {
    "duration": 5,
    "start_time": "2022-01-12T17:40:25.747Z"
   },
   {
    "duration": 5,
    "start_time": "2022-01-12T17:40:25.754Z"
   },
   {
    "duration": 4,
    "start_time": "2022-01-12T17:40:25.760Z"
   },
   {
    "duration": 4,
    "start_time": "2022-01-12T17:40:25.765Z"
   },
   {
    "duration": 5,
    "start_time": "2022-01-12T17:40:25.770Z"
   },
   {
    "duration": 38,
    "start_time": "2022-01-12T17:40:25.776Z"
   },
   {
    "duration": 9,
    "start_time": "2022-01-12T17:40:25.816Z"
   },
   {
    "duration": 8,
    "start_time": "2022-01-12T17:40:25.826Z"
   },
   {
    "duration": 16,
    "start_time": "2022-01-12T17:40:25.836Z"
   },
   {
    "duration": 6,
    "start_time": "2022-01-12T17:40:25.856Z"
   },
   {
    "duration": 65,
    "start_time": "2022-01-12T17:40:25.864Z"
   },
   {
    "duration": 7,
    "start_time": "2022-01-12T17:40:25.930Z"
   },
   {
    "duration": 8,
    "start_time": "2022-01-12T17:40:25.939Z"
   },
   {
    "duration": 3823,
    "start_time": "2022-01-12T17:40:25.949Z"
   },
   {
    "duration": 8,
    "start_time": "2022-01-12T17:40:29.774Z"
   },
   {
    "duration": 33,
    "start_time": "2022-01-12T17:40:29.783Z"
   },
   {
    "duration": 8,
    "start_time": "2022-01-12T17:40:29.818Z"
   },
   {
    "duration": 16,
    "start_time": "2022-01-12T17:40:29.828Z"
   },
   {
    "duration": 7,
    "start_time": "2022-01-12T17:40:29.845Z"
   },
   {
    "duration": 17,
    "start_time": "2022-01-12T17:40:29.854Z"
   },
   {
    "duration": 6,
    "start_time": "2022-01-12T17:40:29.873Z"
   },
   {
    "duration": 549,
    "start_time": "2022-01-12T17:40:29.912Z"
   },
   {
    "duration": 17,
    "start_time": "2022-01-12T17:41:56.048Z"
   },
   {
    "duration": 591,
    "start_time": "2022-01-12T17:42:14.042Z"
   },
   {
    "duration": 12,
    "start_time": "2022-01-12T17:42:14.634Z"
   },
   {
    "duration": 12,
    "start_time": "2022-01-12T17:42:14.647Z"
   },
   {
    "duration": 11,
    "start_time": "2022-01-12T17:42:14.660Z"
   },
   {
    "duration": 10,
    "start_time": "2022-01-12T17:42:14.672Z"
   },
   {
    "duration": 30,
    "start_time": "2022-01-12T17:42:14.683Z"
   },
   {
    "duration": 9,
    "start_time": "2022-01-12T17:42:14.716Z"
   },
   {
    "duration": 12,
    "start_time": "2022-01-12T17:42:14.728Z"
   },
   {
    "duration": 9,
    "start_time": "2022-01-12T17:42:14.742Z"
   },
   {
    "duration": 12,
    "start_time": "2022-01-12T17:42:14.753Z"
   },
   {
    "duration": 15,
    "start_time": "2022-01-12T17:42:14.766Z"
   },
   {
    "duration": 49,
    "start_time": "2022-01-12T17:42:14.782Z"
   },
   {
    "duration": 4,
    "start_time": "2022-01-12T17:42:14.832Z"
   },
   {
    "duration": 6,
    "start_time": "2022-01-12T17:42:14.837Z"
   },
   {
    "duration": 17,
    "start_time": "2022-01-12T17:42:14.844Z"
   },
   {
    "duration": 9,
    "start_time": "2022-01-12T17:42:14.862Z"
   },
   {
    "duration": 3,
    "start_time": "2022-01-12T17:42:14.872Z"
   },
   {
    "duration": 39,
    "start_time": "2022-01-12T17:42:14.876Z"
   },
   {
    "duration": 14,
    "start_time": "2022-01-12T17:42:14.917Z"
   },
   {
    "duration": 7,
    "start_time": "2022-01-12T17:42:14.933Z"
   },
   {
    "duration": 4,
    "start_time": "2022-01-12T17:42:14.941Z"
   },
   {
    "duration": 6,
    "start_time": "2022-01-12T17:42:14.946Z"
   },
   {
    "duration": 9,
    "start_time": "2022-01-12T17:42:14.954Z"
   },
   {
    "duration": 6,
    "start_time": "2022-01-12T17:42:14.965Z"
   },
   {
    "duration": 5,
    "start_time": "2022-01-12T17:42:14.972Z"
   },
   {
    "duration": 42,
    "start_time": "2022-01-12T17:42:14.979Z"
   },
   {
    "duration": 9,
    "start_time": "2022-01-12T17:42:15.024Z"
   },
   {
    "duration": 19,
    "start_time": "2022-01-12T17:42:15.034Z"
   },
   {
    "duration": 9,
    "start_time": "2022-01-12T17:42:15.054Z"
   },
   {
    "duration": 7,
    "start_time": "2022-01-12T17:42:15.064Z"
   },
   {
    "duration": 3749,
    "start_time": "2022-01-12T17:42:15.073Z"
   },
   {
    "duration": 9,
    "start_time": "2022-01-12T17:42:18.824Z"
   },
   {
    "duration": 15,
    "start_time": "2022-01-12T17:42:18.834Z"
   },
   {
    "duration": 9,
    "start_time": "2022-01-12T17:42:18.851Z"
   },
   {
    "duration": 15,
    "start_time": "2022-01-12T17:42:18.861Z"
   },
   {
    "duration": 6,
    "start_time": "2022-01-12T17:42:18.877Z"
   },
   {
    "duration": 26,
    "start_time": "2022-01-12T17:42:18.914Z"
   },
   {
    "duration": 7,
    "start_time": "2022-01-12T17:42:18.941Z"
   },
   {
    "duration": 278,
    "start_time": "2022-01-12T17:42:18.950Z"
   },
   {
    "duration": 211,
    "start_time": "2022-01-12T17:45:21.585Z"
   },
   {
    "duration": 64,
    "start_time": "2022-01-12T17:50:48.586Z"
   },
   {
    "duration": 11,
    "start_time": "2022-01-12T17:50:48.651Z"
   },
   {
    "duration": 10,
    "start_time": "2022-01-12T17:50:48.664Z"
   },
   {
    "duration": 36,
    "start_time": "2022-01-12T17:50:48.676Z"
   },
   {
    "duration": 15,
    "start_time": "2022-01-12T17:50:48.715Z"
   },
   {
    "duration": 13,
    "start_time": "2022-01-12T17:50:48.733Z"
   },
   {
    "duration": 6,
    "start_time": "2022-01-12T17:50:48.748Z"
   },
   {
    "duration": 16,
    "start_time": "2022-01-12T17:50:48.756Z"
   },
   {
    "duration": 46,
    "start_time": "2022-01-12T17:50:48.774Z"
   },
   {
    "duration": 17,
    "start_time": "2022-01-12T17:50:48.823Z"
   },
   {
    "duration": 15,
    "start_time": "2022-01-12T17:50:48.842Z"
   },
   {
    "duration": 12,
    "start_time": "2022-01-12T17:50:48.858Z"
   },
   {
    "duration": 4,
    "start_time": "2022-01-12T17:50:48.871Z"
   },
   {
    "duration": 37,
    "start_time": "2022-01-12T17:50:48.877Z"
   },
   {
    "duration": 24,
    "start_time": "2022-01-12T17:50:48.917Z"
   },
   {
    "duration": 10,
    "start_time": "2022-01-12T17:50:48.942Z"
   },
   {
    "duration": 4,
    "start_time": "2022-01-12T17:50:48.953Z"
   },
   {
    "duration": 7,
    "start_time": "2022-01-12T17:50:48.958Z"
   },
   {
    "duration": 10,
    "start_time": "2022-01-12T17:50:48.967Z"
   },
   {
    "duration": 5,
    "start_time": "2022-01-12T17:50:48.978Z"
   },
   {
    "duration": 7,
    "start_time": "2022-01-12T17:50:49.013Z"
   },
   {
    "duration": 6,
    "start_time": "2022-01-12T17:50:49.023Z"
   },
   {
    "duration": 10,
    "start_time": "2022-01-12T17:50:49.035Z"
   },
   {
    "duration": 7,
    "start_time": "2022-01-12T17:50:49.047Z"
   },
   {
    "duration": 8,
    "start_time": "2022-01-12T17:50:49.056Z"
   },
   {
    "duration": 63,
    "start_time": "2022-01-12T17:50:49.066Z"
   },
   {
    "duration": 7,
    "start_time": "2022-01-12T17:50:49.131Z"
   },
   {
    "duration": 19,
    "start_time": "2022-01-12T17:50:49.140Z"
   },
   {
    "duration": 6,
    "start_time": "2022-01-12T17:50:49.160Z"
   },
   {
    "duration": 8,
    "start_time": "2022-01-12T17:50:49.168Z"
   },
   {
    "duration": 4225,
    "start_time": "2022-01-12T17:50:49.177Z"
   },
   {
    "duration": 13,
    "start_time": "2022-01-12T17:50:53.404Z"
   },
   {
    "duration": 24,
    "start_time": "2022-01-12T17:50:53.419Z"
   },
   {
    "duration": 8,
    "start_time": "2022-01-12T17:50:53.445Z"
   },
   {
    "duration": 20,
    "start_time": "2022-01-12T17:50:53.455Z"
   },
   {
    "duration": 11,
    "start_time": "2022-01-12T17:50:53.513Z"
   },
   {
    "duration": 27,
    "start_time": "2022-01-12T17:50:53.526Z"
   },
   {
    "duration": 7,
    "start_time": "2022-01-12T17:50:53.555Z"
   },
   {
    "duration": 209,
    "start_time": "2022-01-12T17:50:53.564Z"
   },
   {
    "duration": 3,
    "start_time": "2022-01-12T17:53:35.733Z"
   },
   {
    "duration": 188,
    "start_time": "2022-01-12T17:54:04.682Z"
   },
   {
    "duration": 4,
    "start_time": "2022-01-12T17:54:32.762Z"
   },
   {
    "duration": 4,
    "start_time": "2022-01-12T17:54:41.286Z"
   },
   {
    "duration": 4,
    "start_time": "2022-01-12T17:55:10.577Z"
   },
   {
    "duration": 54,
    "start_time": "2022-01-12T17:56:46.460Z"
   },
   {
    "duration": 16,
    "start_time": "2022-01-12T17:56:46.517Z"
   },
   {
    "duration": 15,
    "start_time": "2022-01-12T17:56:46.536Z"
   },
   {
    "duration": 11,
    "start_time": "2022-01-12T17:56:46.553Z"
   },
   {
    "duration": 14,
    "start_time": "2022-01-12T17:56:46.565Z"
   },
   {
    "duration": 19,
    "start_time": "2022-01-12T17:56:46.614Z"
   },
   {
    "duration": 7,
    "start_time": "2022-01-12T17:56:46.635Z"
   },
   {
    "duration": 12,
    "start_time": "2022-01-12T17:56:46.643Z"
   },
   {
    "duration": 11,
    "start_time": "2022-01-12T17:56:46.657Z"
   },
   {
    "duration": 51,
    "start_time": "2022-01-12T17:56:46.669Z"
   },
   {
    "duration": 25,
    "start_time": "2022-01-12T17:56:46.722Z"
   },
   {
    "duration": 19,
    "start_time": "2022-01-12T17:56:46.749Z"
   },
   {
    "duration": 5,
    "start_time": "2022-01-12T17:56:46.770Z"
   },
   {
    "duration": 6,
    "start_time": "2022-01-12T17:56:46.776Z"
   },
   {
    "duration": 53,
    "start_time": "2022-01-12T17:56:46.783Z"
   },
   {
    "duration": 10,
    "start_time": "2022-01-12T17:56:46.838Z"
   },
   {
    "duration": 3,
    "start_time": "2022-01-12T17:56:46.850Z"
   },
   {
    "duration": 6,
    "start_time": "2022-01-12T17:56:46.855Z"
   },
   {
    "duration": 4,
    "start_time": "2022-01-12T17:56:46.862Z"
   },
   {
    "duration": 6,
    "start_time": "2022-01-12T17:56:46.868Z"
   },
   {
    "duration": 7,
    "start_time": "2022-01-12T17:56:46.875Z"
   },
   {
    "duration": 7,
    "start_time": "2022-01-12T17:56:46.913Z"
   },
   {
    "duration": 12,
    "start_time": "2022-01-12T17:56:46.924Z"
   },
   {
    "duration": 7,
    "start_time": "2022-01-12T17:56:46.937Z"
   },
   {
    "duration": 7,
    "start_time": "2022-01-12T17:56:46.946Z"
   },
   {
    "duration": 16,
    "start_time": "2022-01-12T17:56:46.955Z"
   },
   {
    "duration": 14,
    "start_time": "2022-01-12T17:56:47.012Z"
   },
   {
    "duration": 18,
    "start_time": "2022-01-12T17:56:47.028Z"
   },
   {
    "duration": 6,
    "start_time": "2022-01-12T17:56:47.048Z"
   },
   {
    "duration": 8,
    "start_time": "2022-01-12T17:56:47.056Z"
   },
   {
    "duration": 4288,
    "start_time": "2022-01-12T17:56:47.065Z"
   },
   {
    "duration": 7,
    "start_time": "2022-01-12T17:56:51.355Z"
   },
   {
    "duration": 19,
    "start_time": "2022-01-12T17:56:51.363Z"
   },
   {
    "duration": 6,
    "start_time": "2022-01-12T17:56:51.383Z"
   },
   {
    "duration": 40,
    "start_time": "2022-01-12T17:56:51.390Z"
   },
   {
    "duration": 7,
    "start_time": "2022-01-12T17:56:51.432Z"
   },
   {
    "duration": 21,
    "start_time": "2022-01-12T17:56:51.440Z"
   },
   {
    "duration": 6,
    "start_time": "2022-01-12T17:56:51.463Z"
   },
   {
    "duration": 7,
    "start_time": "2022-01-12T17:56:51.471Z"
   },
   {
    "duration": 4,
    "start_time": "2022-01-12T17:57:22.507Z"
   },
   {
    "duration": 19,
    "start_time": "2022-01-12T17:57:31.618Z"
   },
   {
    "duration": 10,
    "start_time": "2022-01-12T17:58:29.144Z"
   },
   {
    "duration": 14,
    "start_time": "2022-01-12T17:58:45.529Z"
   },
   {
    "duration": 20,
    "start_time": "2022-01-12T17:59:39.296Z"
   },
   {
    "duration": 17,
    "start_time": "2022-01-12T17:59:50.305Z"
   },
   {
    "duration": 212,
    "start_time": "2022-01-12T18:02:40.815Z"
   },
   {
    "duration": 223,
    "start_time": "2022-01-12T18:02:49.820Z"
   },
   {
    "duration": 203,
    "start_time": "2022-01-12T18:04:12.015Z"
   },
   {
    "duration": 20,
    "start_time": "2022-01-12T18:07:43.761Z"
   },
   {
    "duration": 214,
    "start_time": "2022-01-12T18:09:24.843Z"
   },
   {
    "duration": 27,
    "start_time": "2022-01-12T18:09:35.321Z"
   },
   {
    "duration": 234,
    "start_time": "2022-01-12T18:15:28.673Z"
   },
   {
    "duration": 220,
    "start_time": "2022-01-12T18:16:06.093Z"
   },
   {
    "duration": 583,
    "start_time": "2022-01-12T18:16:18.676Z"
   },
   {
    "duration": 11,
    "start_time": "2022-01-12T18:16:19.261Z"
   },
   {
    "duration": 12,
    "start_time": "2022-01-12T18:16:19.274Z"
   },
   {
    "duration": 30,
    "start_time": "2022-01-12T18:16:19.287Z"
   },
   {
    "duration": 12,
    "start_time": "2022-01-12T18:16:19.319Z"
   },
   {
    "duration": 13,
    "start_time": "2022-01-12T18:16:19.333Z"
   },
   {
    "duration": 7,
    "start_time": "2022-01-12T18:16:19.348Z"
   },
   {
    "duration": 12,
    "start_time": "2022-01-12T18:16:19.358Z"
   },
   {
    "duration": 51,
    "start_time": "2022-01-12T18:16:19.372Z"
   },
   {
    "duration": 16,
    "start_time": "2022-01-12T18:16:19.426Z"
   },
   {
    "duration": 16,
    "start_time": "2022-01-12T18:16:19.444Z"
   },
   {
    "duration": 12,
    "start_time": "2022-01-12T18:16:19.462Z"
   },
   {
    "duration": 3,
    "start_time": "2022-01-12T18:16:19.476Z"
   },
   {
    "duration": 33,
    "start_time": "2022-01-12T18:16:19.481Z"
   },
   {
    "duration": 21,
    "start_time": "2022-01-12T18:16:19.516Z"
   },
   {
    "duration": 9,
    "start_time": "2022-01-12T18:16:19.539Z"
   },
   {
    "duration": 3,
    "start_time": "2022-01-12T18:16:19.550Z"
   },
   {
    "duration": 6,
    "start_time": "2022-01-12T18:16:19.554Z"
   },
   {
    "duration": 5,
    "start_time": "2022-01-12T18:16:19.561Z"
   },
   {
    "duration": 4,
    "start_time": "2022-01-12T18:16:19.568Z"
   },
   {
    "duration": 6,
    "start_time": "2022-01-12T18:16:19.613Z"
   },
   {
    "duration": 8,
    "start_time": "2022-01-12T18:16:19.620Z"
   },
   {
    "duration": 11,
    "start_time": "2022-01-12T18:16:19.632Z"
   },
   {
    "duration": 5,
    "start_time": "2022-01-12T18:16:19.645Z"
   },
   {
    "duration": 6,
    "start_time": "2022-01-12T18:16:19.652Z"
   },
   {
    "duration": 64,
    "start_time": "2022-01-12T18:16:19.660Z"
   },
   {
    "duration": 11,
    "start_time": "2022-01-12T18:16:19.726Z"
   },
   {
    "duration": 19,
    "start_time": "2022-01-12T18:16:19.739Z"
   },
   {
    "duration": 7,
    "start_time": "2022-01-12T18:16:19.760Z"
   },
   {
    "duration": 8,
    "start_time": "2022-01-12T18:16:19.769Z"
   },
   {
    "duration": 4033,
    "start_time": "2022-01-12T18:16:19.779Z"
   },
   {
    "duration": 10,
    "start_time": "2022-01-12T18:16:23.814Z"
   },
   {
    "duration": 17,
    "start_time": "2022-01-12T18:16:23.827Z"
   },
   {
    "duration": 11,
    "start_time": "2022-01-12T18:16:23.845Z"
   },
   {
    "duration": 15,
    "start_time": "2022-01-12T18:16:23.857Z"
   },
   {
    "duration": 7,
    "start_time": "2022-01-12T18:16:23.873Z"
   },
   {
    "duration": 56,
    "start_time": "2022-01-12T18:16:23.882Z"
   },
   {
    "duration": 6,
    "start_time": "2022-01-12T18:16:23.939Z"
   },
   {
    "duration": 261,
    "start_time": "2022-01-12T18:16:23.947Z"
   },
   {
    "duration": 188,
    "start_time": "2022-01-12T18:16:37.191Z"
   },
   {
    "duration": 17,
    "start_time": "2022-01-12T18:16:50.732Z"
   },
   {
    "duration": 193,
    "start_time": "2022-01-12T18:17:25.579Z"
   },
   {
    "duration": 23,
    "start_time": "2022-01-12T18:17:43.786Z"
   },
   {
    "duration": 24,
    "start_time": "2022-01-12T18:17:51.988Z"
   },
   {
    "duration": 16,
    "start_time": "2022-01-12T18:18:19.848Z"
   },
   {
    "duration": 21,
    "start_time": "2022-01-12T18:19:47.737Z"
   },
   {
    "duration": 61,
    "start_time": "2022-01-12T18:24:56.954Z"
   },
   {
    "duration": 71,
    "start_time": "2022-01-12T18:25:09.673Z"
   },
   {
    "duration": 74,
    "start_time": "2022-01-12T18:28:49.619Z"
   },
   {
    "duration": 18,
    "start_time": "2022-01-12T18:28:56.984Z"
   },
   {
    "duration": 18,
    "start_time": "2022-01-12T18:30:06.161Z"
   },
   {
    "duration": 26,
    "start_time": "2022-01-12T18:31:41.003Z"
   },
   {
    "duration": 56,
    "start_time": "2022-01-12T18:32:47.843Z"
   },
   {
    "duration": 203,
    "start_time": "2022-01-12T18:35:14.327Z"
   },
   {
    "duration": 206,
    "start_time": "2022-01-12T18:35:37.300Z"
   },
   {
    "duration": 189,
    "start_time": "2022-01-12T18:38:43.799Z"
   },
   {
    "duration": 26,
    "start_time": "2022-01-12T18:40:55.093Z"
   },
   {
    "duration": 359,
    "start_time": "2022-01-12T18:49:22.245Z"
   },
   {
    "duration": 64,
    "start_time": "2022-01-12T18:49:55.192Z"
   },
   {
    "duration": 11,
    "start_time": "2022-01-12T18:49:55.258Z"
   },
   {
    "duration": 12,
    "start_time": "2022-01-12T18:49:55.271Z"
   },
   {
    "duration": 41,
    "start_time": "2022-01-12T18:49:55.285Z"
   },
   {
    "duration": 13,
    "start_time": "2022-01-12T18:49:55.329Z"
   },
   {
    "duration": 18,
    "start_time": "2022-01-12T18:50:24.006Z"
   },
   {
    "duration": 7,
    "start_time": "2022-01-12T18:50:24.027Z"
   },
   {
    "duration": 12,
    "start_time": "2022-01-12T18:50:24.037Z"
   },
   {
    "duration": 11,
    "start_time": "2022-01-12T18:50:24.050Z"
   },
   {
    "duration": 14,
    "start_time": "2022-01-12T18:50:24.062Z"
   },
   {
    "duration": 56,
    "start_time": "2022-01-12T18:50:24.078Z"
   },
   {
    "duration": 14,
    "start_time": "2022-01-12T18:50:24.136Z"
   },
   {
    "duration": 5,
    "start_time": "2022-01-12T18:50:24.151Z"
   },
   {
    "duration": 6,
    "start_time": "2022-01-12T18:50:24.159Z"
   },
   {
    "duration": 55,
    "start_time": "2022-01-12T18:50:24.167Z"
   },
   {
    "duration": 11,
    "start_time": "2022-01-12T18:50:24.224Z"
   },
   {
    "duration": 4,
    "start_time": "2022-01-12T18:50:24.236Z"
   },
   {
    "duration": 5,
    "start_time": "2022-01-12T18:50:24.241Z"
   },
   {
    "duration": 4,
    "start_time": "2022-01-12T18:50:24.247Z"
   },
   {
    "duration": 5,
    "start_time": "2022-01-12T18:50:24.253Z"
   },
   {
    "duration": 4,
    "start_time": "2022-01-12T18:50:24.260Z"
   },
   {
    "duration": 5,
    "start_time": "2022-01-12T18:50:24.265Z"
   },
   {
    "duration": 55,
    "start_time": "2022-01-12T18:50:24.271Z"
   },
   {
    "duration": 5,
    "start_time": "2022-01-12T18:50:24.328Z"
   },
   {
    "duration": 8,
    "start_time": "2022-01-12T18:50:24.335Z"
   },
   {
    "duration": 25,
    "start_time": "2022-01-12T18:50:24.344Z"
   },
   {
    "duration": 6,
    "start_time": "2022-01-12T18:50:24.370Z"
   },
   {
    "duration": 49,
    "start_time": "2022-01-12T18:50:24.377Z"
   },
   {
    "duration": 9,
    "start_time": "2022-01-12T18:50:24.428Z"
   },
   {
    "duration": 7,
    "start_time": "2022-01-12T18:50:24.439Z"
   },
   {
    "duration": 4181,
    "start_time": "2022-01-12T18:50:24.449Z"
   },
   {
    "duration": 7,
    "start_time": "2022-01-12T18:50:28.632Z"
   },
   {
    "duration": 16,
    "start_time": "2022-01-12T18:50:28.641Z"
   },
   {
    "duration": 9,
    "start_time": "2022-01-12T18:50:28.658Z"
   },
   {
    "duration": 14,
    "start_time": "2022-01-12T18:50:28.669Z"
   },
   {
    "duration": 32,
    "start_time": "2022-01-12T18:50:28.685Z"
   },
   {
    "duration": 72,
    "start_time": "2022-01-12T18:50:28.719Z"
   },
   {
    "duration": 24,
    "start_time": "2022-01-12T18:50:28.792Z"
   },
   {
    "duration": 25,
    "start_time": "2022-01-12T18:50:28.818Z"
   },
   {
    "duration": 19,
    "start_time": "2022-01-12T18:51:01.830Z"
   },
   {
    "duration": 18,
    "start_time": "2022-01-12T18:51:11.881Z"
   },
   {
    "duration": 20,
    "start_time": "2022-01-12T18:53:07.946Z"
   },
   {
    "duration": 54,
    "start_time": "2022-01-12T18:53:16.745Z"
   },
   {
    "duration": 12,
    "start_time": "2022-01-12T18:53:16.801Z"
   },
   {
    "duration": 13,
    "start_time": "2022-01-12T18:53:16.816Z"
   },
   {
    "duration": 12,
    "start_time": "2022-01-12T18:53:16.831Z"
   },
   {
    "duration": 12,
    "start_time": "2022-01-12T18:53:16.845Z"
   },
   {
    "duration": 18,
    "start_time": "2022-01-12T18:53:18.361Z"
   },
   {
    "duration": 7,
    "start_time": "2022-01-12T18:53:18.381Z"
   },
   {
    "duration": 19,
    "start_time": "2022-01-12T18:53:21.249Z"
   },
   {
    "duration": 13,
    "start_time": "2022-01-12T18:53:21.270Z"
   },
   {
    "duration": 18,
    "start_time": "2022-01-12T18:53:21.285Z"
   },
   {
    "duration": 17,
    "start_time": "2022-01-12T18:53:21.677Z"
   },
   {
    "duration": 14,
    "start_time": "2022-01-12T18:53:21.696Z"
   },
   {
    "duration": 4,
    "start_time": "2022-01-12T18:53:21.736Z"
   },
   {
    "duration": 5,
    "start_time": "2022-01-12T18:53:21.742Z"
   },
   {
    "duration": 17,
    "start_time": "2022-01-12T18:53:21.750Z"
   },
   {
    "duration": 10,
    "start_time": "2022-01-12T18:53:21.769Z"
   },
   {
    "duration": 4,
    "start_time": "2022-01-12T18:53:21.780Z"
   },
   {
    "duration": 5,
    "start_time": "2022-01-12T18:53:21.785Z"
   },
   {
    "duration": 4,
    "start_time": "2022-01-12T18:53:22.458Z"
   },
   {
    "duration": 6,
    "start_time": "2022-01-12T18:53:22.463Z"
   },
   {
    "duration": 4,
    "start_time": "2022-01-12T18:53:22.470Z"
   },
   {
    "duration": 4,
    "start_time": "2022-01-12T18:53:22.476Z"
   },
   {
    "duration": 10,
    "start_time": "2022-01-12T18:53:22.482Z"
   },
   {
    "duration": 6,
    "start_time": "2022-01-12T18:53:22.494Z"
   },
   {
    "duration": 8,
    "start_time": "2022-01-12T18:53:22.502Z"
   },
   {
    "duration": 23,
    "start_time": "2022-01-12T18:53:22.512Z"
   },
   {
    "duration": 10,
    "start_time": "2022-01-12T18:53:22.537Z"
   },
   {
    "duration": 18,
    "start_time": "2022-01-12T18:53:22.549Z"
   },
   {
    "duration": 7,
    "start_time": "2022-01-12T18:53:23.469Z"
   },
   {
    "duration": 9,
    "start_time": "2022-01-12T18:53:23.478Z"
   },
   {
    "duration": 4178,
    "start_time": "2022-01-12T18:53:23.489Z"
   },
   {
    "duration": 50,
    "start_time": "2022-01-12T18:53:27.669Z"
   },
   {
    "duration": 22,
    "start_time": "2022-01-12T18:53:27.721Z"
   },
   {
    "duration": 10,
    "start_time": "2022-01-12T18:53:27.745Z"
   },
   {
    "duration": 16,
    "start_time": "2022-01-12T18:53:27.757Z"
   },
   {
    "duration": 6,
    "start_time": "2022-01-12T18:53:27.774Z"
   },
   {
    "duration": 18,
    "start_time": "2022-01-12T18:53:27.781Z"
   },
   {
    "duration": 8,
    "start_time": "2022-01-12T18:53:27.801Z"
   },
   {
    "duration": 31,
    "start_time": "2022-01-12T18:53:27.811Z"
   },
   {
    "duration": 63,
    "start_time": "2022-01-12T18:54:40.306Z"
   },
   {
    "duration": 11,
    "start_time": "2022-01-12T18:54:40.371Z"
   },
   {
    "duration": 11,
    "start_time": "2022-01-12T18:54:40.384Z"
   },
   {
    "duration": 32,
    "start_time": "2022-01-12T18:54:40.396Z"
   },
   {
    "duration": 10,
    "start_time": "2022-01-12T18:54:40.430Z"
   },
   {
    "duration": 13,
    "start_time": "2022-01-12T18:54:40.442Z"
   },
   {
    "duration": 7,
    "start_time": "2022-01-12T18:54:40.458Z"
   },
   {
    "duration": 57,
    "start_time": "2022-01-12T18:54:40.467Z"
   },
   {
    "duration": 13,
    "start_time": "2022-01-12T18:54:40.526Z"
   },
   {
    "duration": 15,
    "start_time": "2022-01-12T18:54:40.540Z"
   },
   {
    "duration": 16,
    "start_time": "2022-01-12T18:54:40.556Z"
   },
   {
    "duration": 41,
    "start_time": "2022-01-12T18:54:40.573Z"
   },
   {
    "duration": 6,
    "start_time": "2022-01-12T18:54:40.617Z"
   },
   {
    "duration": 7,
    "start_time": "2022-01-12T18:54:40.625Z"
   },
   {
    "duration": 18,
    "start_time": "2022-01-12T18:54:40.634Z"
   },
   {
    "duration": 11,
    "start_time": "2022-01-12T18:54:40.654Z"
   },
   {
    "duration": 2,
    "start_time": "2022-01-12T18:54:40.667Z"
   },
   {
    "duration": 4,
    "start_time": "2022-01-12T18:54:40.671Z"
   },
   {
    "duration": 41,
    "start_time": "2022-01-12T18:54:40.677Z"
   },
   {
    "duration": 5,
    "start_time": "2022-01-12T18:54:40.720Z"
   },
   {
    "duration": 5,
    "start_time": "2022-01-12T18:54:40.727Z"
   },
   {
    "duration": 5,
    "start_time": "2022-01-12T18:54:40.734Z"
   },
   {
    "duration": 11,
    "start_time": "2022-01-12T18:54:40.741Z"
   },
   {
    "duration": 58,
    "start_time": "2022-01-12T18:54:40.754Z"
   },
   {
    "duration": 11,
    "start_time": "2022-01-12T18:54:40.818Z"
   },
   {
    "duration": 16,
    "start_time": "2022-01-12T18:54:40.832Z"
   },
   {
    "duration": 7,
    "start_time": "2022-01-12T18:54:40.850Z"
   },
   {
    "duration": 16,
    "start_time": "2022-01-12T18:54:40.858Z"
   },
   {
    "duration": 35,
    "start_time": "2022-01-12T18:54:40.876Z"
   },
   {
    "duration": 12,
    "start_time": "2022-01-12T18:54:40.915Z"
   },
   {
    "duration": 4471,
    "start_time": "2022-01-12T18:54:40.929Z"
   },
   {
    "duration": 19,
    "start_time": "2022-01-12T18:54:45.401Z"
   },
   {
    "duration": 20,
    "start_time": "2022-01-12T18:54:45.423Z"
   },
   {
    "duration": 7,
    "start_time": "2022-01-12T18:54:45.445Z"
   },
   {
    "duration": 18,
    "start_time": "2022-01-12T18:54:45.454Z"
   },
   {
    "duration": 7,
    "start_time": "2022-01-12T18:54:45.473Z"
   },
   {
    "duration": 21,
    "start_time": "2022-01-12T18:54:45.513Z"
   },
   {
    "duration": 7,
    "start_time": "2022-01-12T18:54:45.535Z"
   },
   {
    "duration": 26,
    "start_time": "2022-01-12T18:54:45.546Z"
   },
   {
    "duration": 225,
    "start_time": "2022-01-12T18:55:15.134Z"
   },
   {
    "duration": 19,
    "start_time": "2022-01-12T18:55:25.535Z"
   },
   {
    "duration": 19,
    "start_time": "2022-01-12T18:55:45.249Z"
   },
   {
    "duration": 30,
    "start_time": "2022-01-12T18:58:16.560Z"
   },
   {
    "duration": 19,
    "start_time": "2022-01-12T19:09:11.647Z"
   },
   {
    "duration": 19,
    "start_time": "2022-01-12T19:11:53.669Z"
   },
   {
    "duration": 16,
    "start_time": "2022-01-12T19:15:00.307Z"
   },
   {
    "duration": 18,
    "start_time": "2022-01-12T19:29:35.683Z"
   },
   {
    "duration": 60,
    "start_time": "2022-01-12T19:33:17.403Z"
   },
   {
    "duration": 26,
    "start_time": "2022-01-12T19:33:32.964Z"
   },
   {
    "duration": 17,
    "start_time": "2022-01-12T19:33:58.965Z"
   },
   {
    "duration": 18,
    "start_time": "2022-01-12T19:36:16.900Z"
   },
   {
    "duration": 18,
    "start_time": "2022-01-12T19:36:32.338Z"
   },
   {
    "duration": 16,
    "start_time": "2022-01-12T19:37:07.937Z"
   },
   {
    "duration": 216,
    "start_time": "2022-01-12T19:40:02.956Z"
   },
   {
    "duration": 17,
    "start_time": "2022-01-12T19:40:55.174Z"
   },
   {
    "duration": 18,
    "start_time": "2022-01-12T19:45:08.348Z"
   },
   {
    "duration": 18,
    "start_time": "2022-01-12T19:45:35.344Z"
   },
   {
    "duration": 17,
    "start_time": "2022-01-12T19:46:05.251Z"
   },
   {
    "duration": 16,
    "start_time": "2022-01-12T19:47:26.688Z"
   },
   {
    "duration": 17,
    "start_time": "2022-01-12T19:47:49.090Z"
   },
   {
    "duration": 17,
    "start_time": "2022-01-12T19:49:02.081Z"
   },
   {
    "duration": 17,
    "start_time": "2022-01-12T19:49:10.070Z"
   },
   {
    "duration": 616,
    "start_time": "2022-01-12T19:58:36.928Z"
   },
   {
    "duration": 11,
    "start_time": "2022-01-12T19:58:37.545Z"
   },
   {
    "duration": 11,
    "start_time": "2022-01-12T19:58:37.558Z"
   },
   {
    "duration": 11,
    "start_time": "2022-01-12T19:58:37.571Z"
   },
   {
    "duration": 8,
    "start_time": "2022-01-12T19:58:37.583Z"
   },
   {
    "duration": 35,
    "start_time": "2022-01-12T19:58:37.592Z"
   },
   {
    "duration": 8,
    "start_time": "2022-01-12T19:58:37.629Z"
   },
   {
    "duration": 12,
    "start_time": "2022-01-12T19:58:37.640Z"
   },
   {
    "duration": 11,
    "start_time": "2022-01-12T19:58:37.654Z"
   },
   {
    "duration": 47,
    "start_time": "2022-01-12T19:58:37.666Z"
   },
   {
    "duration": 23,
    "start_time": "2022-01-12T19:58:37.715Z"
   },
   {
    "duration": 12,
    "start_time": "2022-01-12T19:58:37.739Z"
   },
   {
    "duration": 4,
    "start_time": "2022-01-12T19:58:37.752Z"
   },
   {
    "duration": 6,
    "start_time": "2022-01-12T19:58:37.757Z"
   },
   {
    "duration": 16,
    "start_time": "2022-01-12T19:58:37.764Z"
   },
   {
    "duration": 16,
    "start_time": "2022-01-12T19:58:37.812Z"
   },
   {
    "duration": 4,
    "start_time": "2022-01-12T19:58:37.830Z"
   },
   {
    "duration": 7,
    "start_time": "2022-01-12T19:58:37.835Z"
   },
   {
    "duration": 6,
    "start_time": "2022-01-12T19:58:37.844Z"
   },
   {
    "duration": 5,
    "start_time": "2022-01-12T19:58:37.851Z"
   },
   {
    "duration": 4,
    "start_time": "2022-01-12T19:58:37.857Z"
   },
   {
    "duration": 5,
    "start_time": "2022-01-12T19:58:37.863Z"
   },
   {
    "duration": 43,
    "start_time": "2022-01-12T19:58:37.871Z"
   },
   {
    "duration": 8,
    "start_time": "2022-01-12T19:58:37.916Z"
   },
   {
    "duration": 9,
    "start_time": "2022-01-12T19:58:37.925Z"
   },
   {
    "duration": 16,
    "start_time": "2022-01-12T19:58:37.936Z"
   },
   {
    "duration": 8,
    "start_time": "2022-01-12T19:58:37.953Z"
   },
   {
    "duration": 17,
    "start_time": "2022-01-12T19:58:37.962Z"
   },
   {
    "duration": 11,
    "start_time": "2022-01-12T19:58:38.012Z"
   },
   {
    "duration": 10,
    "start_time": "2022-01-12T19:58:38.026Z"
   },
   {
    "duration": 3709,
    "start_time": "2022-01-12T19:58:38.037Z"
   },
   {
    "duration": 7,
    "start_time": "2022-01-12T19:58:41.748Z"
   },
   {
    "duration": 15,
    "start_time": "2022-01-12T19:58:41.756Z"
   },
   {
    "duration": 6,
    "start_time": "2022-01-12T19:58:41.773Z"
   },
   {
    "duration": 47,
    "start_time": "2022-01-12T19:58:41.780Z"
   },
   {
    "duration": 7,
    "start_time": "2022-01-12T19:58:41.829Z"
   },
   {
    "duration": 18,
    "start_time": "2022-01-12T19:58:41.837Z"
   },
   {
    "duration": 11,
    "start_time": "2022-01-12T19:58:41.856Z"
   },
   {
    "duration": 377,
    "start_time": "2022-01-12T19:58:41.869Z"
   },
   {
    "duration": 22,
    "start_time": "2022-01-12T19:58:42.247Z"
   },
   {
    "duration": 17,
    "start_time": "2022-01-12T19:58:42.271Z"
   },
   {
    "duration": 36,
    "start_time": "2022-01-12T19:58:42.289Z"
   },
   {
    "duration": 59,
    "start_time": "2022-01-12T20:00:09.101Z"
   },
   {
    "duration": 13,
    "start_time": "2022-01-12T20:00:09.162Z"
   },
   {
    "duration": 36,
    "start_time": "2022-01-12T20:00:09.177Z"
   },
   {
    "duration": 17,
    "start_time": "2022-01-12T20:00:09.215Z"
   },
   {
    "duration": 9,
    "start_time": "2022-01-12T20:00:09.234Z"
   },
   {
    "duration": 12,
    "start_time": "2022-01-12T20:00:09.244Z"
   },
   {
    "duration": 6,
    "start_time": "2022-01-12T20:00:09.257Z"
   },
   {
    "duration": 51,
    "start_time": "2022-01-12T20:00:09.266Z"
   },
   {
    "duration": 13,
    "start_time": "2022-01-12T20:00:09.319Z"
   },
   {
    "duration": 14,
    "start_time": "2022-01-12T20:00:09.333Z"
   },
   {
    "duration": 15,
    "start_time": "2022-01-12T20:00:09.349Z"
   },
   {
    "duration": 11,
    "start_time": "2022-01-12T20:00:09.366Z"
   },
   {
    "duration": 4,
    "start_time": "2022-01-12T20:00:09.378Z"
   },
   {
    "duration": 8,
    "start_time": "2022-01-12T20:00:09.412Z"
   },
   {
    "duration": 18,
    "start_time": "2022-01-12T20:00:09.423Z"
   },
   {
    "duration": 9,
    "start_time": "2022-01-12T20:00:09.442Z"
   },
   {
    "duration": 3,
    "start_time": "2022-01-12T20:00:09.452Z"
   },
   {
    "duration": 5,
    "start_time": "2022-01-12T20:00:09.456Z"
   },
   {
    "duration": 88,
    "start_time": "2022-01-12T20:00:09.463Z"
   },
   {
    "duration": 5,
    "start_time": "2022-01-12T20:00:09.553Z"
   },
   {
    "duration": 6,
    "start_time": "2022-01-12T20:00:09.559Z"
   },
   {
    "duration": 6,
    "start_time": "2022-01-12T20:00:09.567Z"
   },
   {
    "duration": 10,
    "start_time": "2022-01-12T20:00:09.576Z"
   },
   {
    "duration": 30,
    "start_time": "2022-01-12T20:00:09.587Z"
   },
   {
    "duration": 22,
    "start_time": "2022-01-12T20:00:09.620Z"
   },
   {
    "duration": 23,
    "start_time": "2022-01-12T20:00:09.643Z"
   },
   {
    "duration": 12,
    "start_time": "2022-01-12T20:00:09.668Z"
   },
   {
    "duration": 27,
    "start_time": "2022-01-12T20:00:09.681Z"
   },
   {
    "duration": 12,
    "start_time": "2022-01-12T20:00:09.709Z"
   },
   {
    "duration": 16,
    "start_time": "2022-01-12T20:00:09.723Z"
   },
   {
    "duration": 3830,
    "start_time": "2022-01-12T20:00:09.741Z"
   },
   {
    "duration": 7,
    "start_time": "2022-01-12T20:00:13.573Z"
   },
   {
    "duration": 17,
    "start_time": "2022-01-12T20:00:13.581Z"
   },
   {
    "duration": 10,
    "start_time": "2022-01-12T20:00:13.612Z"
   },
   {
    "duration": 16,
    "start_time": "2022-01-12T20:00:13.625Z"
   },
   {
    "duration": 13,
    "start_time": "2022-01-12T20:00:13.643Z"
   },
   {
    "duration": 21,
    "start_time": "2022-01-12T20:00:13.657Z"
   },
   {
    "duration": 5,
    "start_time": "2022-01-12T20:00:13.680Z"
   },
   {
    "duration": 44,
    "start_time": "2022-01-12T20:00:13.687Z"
   },
   {
    "duration": 19,
    "start_time": "2022-01-12T20:00:13.733Z"
   },
   {
    "duration": 16,
    "start_time": "2022-01-12T20:00:13.753Z"
   },
   {
    "duration": 47,
    "start_time": "2022-01-12T20:00:13.770Z"
   },
   {
    "duration": 26,
    "start_time": "2022-01-12T20:01:50.202Z"
   },
   {
    "duration": 60,
    "start_time": "2022-01-12T20:02:48.099Z"
   },
   {
    "duration": 11,
    "start_time": "2022-01-12T20:02:48.161Z"
   },
   {
    "duration": 10,
    "start_time": "2022-01-12T20:02:48.173Z"
   },
   {
    "duration": 28,
    "start_time": "2022-01-12T20:02:48.185Z"
   },
   {
    "duration": 14,
    "start_time": "2022-01-12T20:02:48.215Z"
   },
   {
    "duration": 12,
    "start_time": "2022-01-12T20:02:48.230Z"
   },
   {
    "duration": 6,
    "start_time": "2022-01-12T20:02:50.300Z"
   },
   {
    "duration": 20,
    "start_time": "2022-01-12T20:02:50.308Z"
   },
   {
    "duration": 10,
    "start_time": "2022-01-12T20:02:50.330Z"
   },
   {
    "duration": 17,
    "start_time": "2022-01-12T20:02:50.342Z"
   },
   {
    "duration": 14,
    "start_time": "2022-01-12T20:02:50.360Z"
   },
   {
    "duration": 12,
    "start_time": "2022-01-12T20:02:50.376Z"
   },
   {
    "duration": 26,
    "start_time": "2022-01-12T20:02:50.389Z"
   },
   {
    "duration": 7,
    "start_time": "2022-01-12T20:02:50.417Z"
   },
   {
    "duration": 17,
    "start_time": "2022-01-12T20:02:50.427Z"
   },
   {
    "duration": 8,
    "start_time": "2022-01-12T20:02:50.446Z"
   },
   {
    "duration": 3,
    "start_time": "2022-01-12T20:02:50.455Z"
   },
   {
    "duration": 6,
    "start_time": "2022-01-12T20:02:50.460Z"
   },
   {
    "duration": 7,
    "start_time": "2022-01-12T20:02:50.468Z"
   },
   {
    "duration": 38,
    "start_time": "2022-01-12T20:02:50.476Z"
   },
   {
    "duration": 11,
    "start_time": "2022-01-12T20:02:50.516Z"
   },
   {
    "duration": 4,
    "start_time": "2022-01-12T20:02:50.529Z"
   },
   {
    "duration": 12,
    "start_time": "2022-01-12T20:02:50.535Z"
   },
   {
    "duration": 6,
    "start_time": "2022-01-12T20:02:50.549Z"
   },
   {
    "duration": 12,
    "start_time": "2022-01-12T20:02:50.557Z"
   },
   {
    "duration": 16,
    "start_time": "2022-01-12T20:02:50.570Z"
   },
   {
    "duration": 30,
    "start_time": "2022-01-12T20:02:50.588Z"
   },
   {
    "duration": 18,
    "start_time": "2022-01-12T20:02:50.621Z"
   },
   {
    "duration": 6,
    "start_time": "2022-01-12T20:02:50.641Z"
   },
   {
    "duration": 11,
    "start_time": "2022-01-12T20:02:50.648Z"
   },
   {
    "duration": 4155,
    "start_time": "2022-01-12T20:02:50.660Z"
   },
   {
    "duration": 9,
    "start_time": "2022-01-12T20:02:54.817Z"
   },
   {
    "duration": 15,
    "start_time": "2022-01-12T20:02:54.830Z"
   },
   {
    "duration": 7,
    "start_time": "2022-01-12T20:02:54.846Z"
   },
   {
    "duration": 17,
    "start_time": "2022-01-12T20:02:54.854Z"
   },
   {
    "duration": 6,
    "start_time": "2022-01-12T20:02:54.873Z"
   },
   {
    "duration": 24,
    "start_time": "2022-01-12T20:02:54.915Z"
   },
   {
    "duration": 5,
    "start_time": "2022-01-12T20:02:54.941Z"
   },
   {
    "duration": 21,
    "start_time": "2022-01-12T20:02:54.948Z"
   },
   {
    "duration": 16,
    "start_time": "2022-01-12T20:02:54.971Z"
   },
   {
    "duration": 44,
    "start_time": "2022-01-12T20:02:54.989Z"
   },
   {
    "duration": 17,
    "start_time": "2022-01-12T20:02:55.035Z"
   },
   {
    "duration": 18,
    "start_time": "2022-01-12T20:04:22.671Z"
   },
   {
    "duration": 61,
    "start_time": "2022-01-12T20:05:10.506Z"
   },
   {
    "duration": 276,
    "start_time": "2022-01-12T20:05:17.650Z"
   },
   {
    "duration": 22,
    "start_time": "2022-01-12T20:05:50.687Z"
   },
   {
    "duration": 20,
    "start_time": "2022-01-12T20:06:29.959Z"
   },
   {
    "duration": 7,
    "start_time": "2022-01-12T20:10:43.702Z"
   },
   {
    "duration": 14,
    "start_time": "2022-01-12T20:11:24.419Z"
   },
   {
    "duration": 11,
    "start_time": "2022-01-12T20:12:25.990Z"
   },
   {
    "duration": 58,
    "start_time": "2022-01-12T20:15:40.796Z"
   },
   {
    "duration": 14,
    "start_time": "2022-01-12T20:15:40.856Z"
   },
   {
    "duration": 10,
    "start_time": "2022-01-12T20:15:40.872Z"
   },
   {
    "duration": 40,
    "start_time": "2022-01-12T20:15:40.884Z"
   },
   {
    "duration": 9,
    "start_time": "2022-01-12T20:15:40.926Z"
   },
   {
    "duration": 13,
    "start_time": "2022-01-12T20:15:40.937Z"
   },
   {
    "duration": 7,
    "start_time": "2022-01-12T20:15:40.951Z"
   },
   {
    "duration": 13,
    "start_time": "2022-01-12T20:15:40.959Z"
   },
   {
    "duration": 43,
    "start_time": "2022-01-12T20:15:40.974Z"
   },
   {
    "duration": 18,
    "start_time": "2022-01-12T20:15:41.020Z"
   },
   {
    "duration": 15,
    "start_time": "2022-01-12T20:15:41.040Z"
   },
   {
    "duration": 11,
    "start_time": "2022-01-12T20:15:41.057Z"
   },
   {
    "duration": 3,
    "start_time": "2022-01-12T20:15:41.069Z"
   },
   {
    "duration": 6,
    "start_time": "2022-01-12T20:15:41.073Z"
   },
   {
    "duration": 53,
    "start_time": "2022-01-12T20:15:41.080Z"
   },
   {
    "duration": 8,
    "start_time": "2022-01-12T20:15:41.135Z"
   },
   {
    "duration": 3,
    "start_time": "2022-01-12T20:15:41.144Z"
   },
   {
    "duration": 9,
    "start_time": "2022-01-12T20:15:41.148Z"
   },
   {
    "duration": 5,
    "start_time": "2022-01-12T20:15:41.158Z"
   },
   {
    "duration": 5,
    "start_time": "2022-01-12T20:15:41.164Z"
   },
   {
    "duration": 4,
    "start_time": "2022-01-12T20:15:41.170Z"
   },
   {
    "duration": 43,
    "start_time": "2022-01-12T20:15:41.175Z"
   },
   {
    "duration": 15,
    "start_time": "2022-01-12T20:15:41.220Z"
   },
   {
    "duration": 20,
    "start_time": "2022-01-12T20:15:41.236Z"
   },
   {
    "duration": 14,
    "start_time": "2022-01-12T20:15:41.257Z"
   },
   {
    "duration": 17,
    "start_time": "2022-01-12T20:15:41.272Z"
   },
   {
    "duration": 6,
    "start_time": "2022-01-12T20:15:41.292Z"
   },
   {
    "duration": 26,
    "start_time": "2022-01-12T20:15:41.299Z"
   },
   {
    "duration": 7,
    "start_time": "2022-01-12T20:15:41.328Z"
   },
   {
    "duration": 9,
    "start_time": "2022-01-12T20:15:41.336Z"
   },
   {
    "duration": 3670,
    "start_time": "2022-01-12T20:15:41.347Z"
   },
   {
    "duration": 11,
    "start_time": "2022-01-12T20:15:45.020Z"
   },
   {
    "duration": 16,
    "start_time": "2022-01-12T20:15:45.033Z"
   },
   {
    "duration": 6,
    "start_time": "2022-01-12T20:15:45.051Z"
   },
   {
    "duration": 16,
    "start_time": "2022-01-12T20:15:45.059Z"
   },
   {
    "duration": 6,
    "start_time": "2022-01-12T20:15:45.076Z"
   },
   {
    "duration": 28,
    "start_time": "2022-01-12T20:15:45.112Z"
   },
   {
    "duration": 6,
    "start_time": "2022-01-12T20:15:45.141Z"
   },
   {
    "duration": 22,
    "start_time": "2022-01-12T20:15:45.149Z"
   },
   {
    "duration": 42,
    "start_time": "2022-01-12T20:15:45.172Z"
   },
   {
    "duration": 22,
    "start_time": "2022-01-12T20:15:45.216Z"
   },
   {
    "duration": 15,
    "start_time": "2022-01-12T20:15:45.239Z"
   },
   {
    "duration": 16,
    "start_time": "2022-01-12T20:15:45.255Z"
   },
   {
    "duration": 24,
    "start_time": "2022-01-12T20:19:10.752Z"
   },
   {
    "duration": 22,
    "start_time": "2022-01-12T20:19:24.172Z"
   },
   {
    "duration": 30,
    "start_time": "2022-01-12T20:20:34.702Z"
   },
   {
    "duration": 21,
    "start_time": "2022-01-12T20:21:39.435Z"
   },
   {
    "duration": 72,
    "start_time": "2022-01-12T20:23:07.296Z"
   },
   {
    "duration": 23,
    "start_time": "2022-01-12T20:23:23.229Z"
   },
   {
    "duration": 19,
    "start_time": "2022-01-12T20:25:47.553Z"
   },
   {
    "duration": 23,
    "start_time": "2022-01-12T20:26:27.081Z"
   },
   {
    "duration": 11,
    "start_time": "2022-01-12T20:32:14.751Z"
   },
   {
    "duration": 12,
    "start_time": "2022-01-12T20:34:02.827Z"
   },
   {
    "duration": 56,
    "start_time": "2022-01-12T20:38:34.729Z"
   },
   {
    "duration": 14,
    "start_time": "2022-01-12T20:38:54.185Z"
   },
   {
    "duration": 12,
    "start_time": "2022-01-12T20:41:21.381Z"
   },
   {
    "duration": 13,
    "start_time": "2022-01-12T20:42:31.389Z"
   },
   {
    "duration": 17,
    "start_time": "2022-01-12T20:43:32.942Z"
   },
   {
    "duration": 743,
    "start_time": "2022-01-12T20:44:04.162Z"
   },
   {
    "duration": 747,
    "start_time": "2022-01-12T20:44:11.192Z"
   },
   {
    "duration": 20,
    "start_time": "2022-01-12T20:44:23.123Z"
   },
   {
    "duration": 19,
    "start_time": "2022-01-12T20:46:02.362Z"
   },
   {
    "duration": 19,
    "start_time": "2022-01-12T20:46:13.839Z"
   },
   {
    "duration": 25,
    "start_time": "2022-01-12T20:47:53.627Z"
   },
   {
    "duration": 20,
    "start_time": "2022-01-12T20:48:05.946Z"
   },
   {
    "duration": 25,
    "start_time": "2022-01-12T20:51:49.921Z"
   },
   {
    "duration": 22,
    "start_time": "2022-01-12T20:51:59.348Z"
   },
   {
    "duration": 39,
    "start_time": "2022-01-12T20:53:39.990Z"
   },
   {
    "duration": 29,
    "start_time": "2022-01-12T20:54:57.607Z"
   },
   {
    "duration": 27,
    "start_time": "2022-01-12T20:55:29.209Z"
   },
   {
    "duration": 18,
    "start_time": "2022-01-12T20:56:33.864Z"
   },
   {
    "duration": 52,
    "start_time": "2022-01-12T20:58:14.148Z"
   },
   {
    "duration": 12,
    "start_time": "2022-01-12T20:58:14.201Z"
   },
   {
    "duration": 15,
    "start_time": "2022-01-12T20:58:14.216Z"
   },
   {
    "duration": 11,
    "start_time": "2022-01-12T20:58:14.232Z"
   },
   {
    "duration": 8,
    "start_time": "2022-01-12T20:58:14.245Z"
   },
   {
    "duration": 13,
    "start_time": "2022-01-12T20:58:14.254Z"
   },
   {
    "duration": 5,
    "start_time": "2022-01-12T20:58:14.268Z"
   },
   {
    "duration": 51,
    "start_time": "2022-01-12T20:58:14.275Z"
   },
   {
    "duration": 11,
    "start_time": "2022-01-12T20:58:14.329Z"
   },
   {
    "duration": 12,
    "start_time": "2022-01-12T20:58:14.341Z"
   },
   {
    "duration": 15,
    "start_time": "2022-01-12T20:58:14.355Z"
   },
   {
    "duration": 46,
    "start_time": "2022-01-12T20:58:14.371Z"
   },
   {
    "duration": 6,
    "start_time": "2022-01-12T20:58:14.419Z"
   },
   {
    "duration": 14,
    "start_time": "2022-01-12T20:58:14.427Z"
   },
   {
    "duration": 15,
    "start_time": "2022-01-12T20:58:14.442Z"
   },
   {
    "duration": 8,
    "start_time": "2022-01-12T20:58:14.459Z"
   },
   {
    "duration": 3,
    "start_time": "2022-01-12T20:58:14.468Z"
   },
   {
    "duration": 40,
    "start_time": "2022-01-12T20:58:14.472Z"
   },
   {
    "duration": 5,
    "start_time": "2022-01-12T20:58:14.515Z"
   },
   {
    "duration": 6,
    "start_time": "2022-01-12T20:58:14.523Z"
   },
   {
    "duration": 4,
    "start_time": "2022-01-12T20:58:14.530Z"
   },
   {
    "duration": 5,
    "start_time": "2022-01-12T20:58:14.536Z"
   },
   {
    "duration": 9,
    "start_time": "2022-01-12T20:58:14.545Z"
   },
   {
    "duration": 6,
    "start_time": "2022-01-12T20:58:14.556Z"
   },
   {
    "duration": 7,
    "start_time": "2022-01-12T20:58:14.564Z"
   },
   {
    "duration": 21,
    "start_time": "2022-01-12T20:58:14.612Z"
   },
   {
    "duration": 6,
    "start_time": "2022-01-12T20:58:14.635Z"
   },
   {
    "duration": 16,
    "start_time": "2022-01-12T20:58:14.643Z"
   },
   {
    "duration": 6,
    "start_time": "2022-01-12T20:58:14.660Z"
   },
   {
    "duration": 6,
    "start_time": "2022-01-12T20:58:14.667Z"
   },
   {
    "duration": 3902,
    "start_time": "2022-01-12T20:58:14.675Z"
   },
   {
    "duration": 6,
    "start_time": "2022-01-12T20:58:18.579Z"
   },
   {
    "duration": 27,
    "start_time": "2022-01-12T20:58:18.586Z"
   },
   {
    "duration": 9,
    "start_time": "2022-01-12T20:58:18.615Z"
   },
   {
    "duration": 17,
    "start_time": "2022-01-12T20:58:18.627Z"
   },
   {
    "duration": 9,
    "start_time": "2022-01-12T20:58:18.645Z"
   },
   {
    "duration": 18,
    "start_time": "2022-01-12T20:58:18.655Z"
   },
   {
    "duration": 5,
    "start_time": "2022-01-12T20:58:18.674Z"
   },
   {
    "duration": 58,
    "start_time": "2022-01-12T20:58:18.681Z"
   },
   {
    "duration": 17,
    "start_time": "2022-01-12T20:58:18.740Z"
   },
   {
    "duration": 21,
    "start_time": "2022-01-12T20:58:18.758Z"
   },
   {
    "duration": 46,
    "start_time": "2022-01-12T20:58:18.780Z"
   },
   {
    "duration": 23,
    "start_time": "2022-01-12T20:58:18.828Z"
   },
   {
    "duration": 18,
    "start_time": "2022-01-12T20:58:18.853Z"
   },
   {
    "duration": 596,
    "start_time": "2022-01-12T22:27:22.602Z"
   },
   {
    "duration": 10,
    "start_time": "2022-01-12T22:27:23.200Z"
   },
   {
    "duration": 11,
    "start_time": "2022-01-12T22:27:23.213Z"
   },
   {
    "duration": 11,
    "start_time": "2022-01-12T22:27:23.226Z"
   },
   {
    "duration": 9,
    "start_time": "2022-01-12T22:27:23.238Z"
   },
   {
    "duration": 12,
    "start_time": "2022-01-12T22:27:23.248Z"
   },
   {
    "duration": 6,
    "start_time": "2022-01-12T22:27:23.262Z"
   },
   {
    "duration": 49,
    "start_time": "2022-01-12T22:27:23.270Z"
   },
   {
    "duration": 10,
    "start_time": "2022-01-12T22:27:23.322Z"
   },
   {
    "duration": 15,
    "start_time": "2022-01-12T22:27:23.334Z"
   },
   {
    "duration": 15,
    "start_time": "2022-01-12T22:27:23.351Z"
   },
   {
    "duration": 12,
    "start_time": "2022-01-12T22:27:23.368Z"
   },
   {
    "duration": 4,
    "start_time": "2022-01-12T22:27:23.413Z"
   },
   {
    "duration": 5,
    "start_time": "2022-01-12T22:27:23.419Z"
   },
   {
    "duration": 17,
    "start_time": "2022-01-12T22:27:23.426Z"
   },
   {
    "duration": 9,
    "start_time": "2022-01-12T22:27:23.444Z"
   },
   {
    "duration": 4,
    "start_time": "2022-01-12T22:27:23.454Z"
   },
   {
    "duration": 6,
    "start_time": "2022-01-12T22:27:23.460Z"
   },
   {
    "duration": 45,
    "start_time": "2022-01-12T22:27:23.467Z"
   },
   {
    "duration": 4,
    "start_time": "2022-01-12T22:27:23.514Z"
   },
   {
    "duration": 4,
    "start_time": "2022-01-12T22:27:23.519Z"
   },
   {
    "duration": 4,
    "start_time": "2022-01-12T22:27:23.525Z"
   },
   {
    "duration": 9,
    "start_time": "2022-01-12T22:27:23.531Z"
   },
   {
    "duration": 5,
    "start_time": "2022-01-12T22:27:23.541Z"
   },
   {
    "duration": 6,
    "start_time": "2022-01-12T22:27:23.548Z"
   },
   {
    "duration": 15,
    "start_time": "2022-01-12T22:27:23.555Z"
   },
   {
    "duration": 42,
    "start_time": "2022-01-12T22:27:23.573Z"
   },
   {
    "duration": 16,
    "start_time": "2022-01-12T22:27:23.617Z"
   },
   {
    "duration": 10,
    "start_time": "2022-01-12T22:27:23.634Z"
   },
   {
    "duration": 10,
    "start_time": "2022-01-12T22:27:23.646Z"
   },
   {
    "duration": 3433,
    "start_time": "2022-01-12T22:27:23.657Z"
   },
   {
    "duration": 7,
    "start_time": "2022-01-12T22:27:27.091Z"
   },
   {
    "duration": 24,
    "start_time": "2022-01-12T22:27:27.099Z"
   },
   {
    "duration": 6,
    "start_time": "2022-01-12T22:27:27.124Z"
   },
   {
    "duration": 15,
    "start_time": "2022-01-12T22:27:27.131Z"
   },
   {
    "duration": 5,
    "start_time": "2022-01-12T22:27:27.147Z"
   },
   {
    "duration": 18,
    "start_time": "2022-01-12T22:27:27.153Z"
   },
   {
    "duration": 5,
    "start_time": "2022-01-12T22:27:27.172Z"
   },
   {
    "duration": 360,
    "start_time": "2022-01-12T22:27:27.179Z"
   },
   {
    "duration": 21,
    "start_time": "2022-01-12T22:27:27.541Z"
   },
   {
    "duration": 19,
    "start_time": "2022-01-12T22:27:27.563Z"
   },
   {
    "duration": 32,
    "start_time": "2022-01-12T22:27:27.584Z"
   },
   {
    "duration": 22,
    "start_time": "2022-01-12T22:27:27.617Z"
   },
   {
    "duration": 16,
    "start_time": "2022-01-12T22:27:27.640Z"
   },
   {
    "duration": 18,
    "start_time": "2022-01-12T22:52:29.560Z"
   },
   {
    "duration": 18,
    "start_time": "2022-01-12T22:55:28.061Z"
   },
   {
    "duration": 21,
    "start_time": "2022-01-12T22:55:46.316Z"
   },
   {
    "duration": 22,
    "start_time": "2022-01-12T22:55:52.922Z"
   },
   {
    "duration": 19,
    "start_time": "2022-01-12T22:56:04.632Z"
   },
   {
    "duration": 70,
    "start_time": "2022-01-12T22:56:12.739Z"
   },
   {
    "duration": 19,
    "start_time": "2022-01-12T22:56:33.215Z"
   },
   {
    "duration": 610,
    "start_time": "2022-01-12T22:56:58.837Z"
   },
   {
    "duration": 12,
    "start_time": "2022-01-12T22:56:59.449Z"
   },
   {
    "duration": 18,
    "start_time": "2022-01-12T22:56:59.463Z"
   },
   {
    "duration": 12,
    "start_time": "2022-01-12T22:56:59.483Z"
   },
   {
    "duration": 23,
    "start_time": "2022-01-12T22:56:59.496Z"
   },
   {
    "duration": 13,
    "start_time": "2022-01-12T22:56:59.521Z"
   },
   {
    "duration": 6,
    "start_time": "2022-01-12T22:56:59.536Z"
   },
   {
    "duration": 14,
    "start_time": "2022-01-12T22:56:59.544Z"
   },
   {
    "duration": 10,
    "start_time": "2022-01-12T22:56:59.560Z"
   },
   {
    "duration": 51,
    "start_time": "2022-01-12T22:56:59.572Z"
   },
   {
    "duration": 17,
    "start_time": "2022-01-12T22:56:59.625Z"
   },
   {
    "duration": 14,
    "start_time": "2022-01-12T22:56:59.643Z"
   },
   {
    "duration": 4,
    "start_time": "2022-01-12T22:56:59.658Z"
   },
   {
    "duration": 5,
    "start_time": "2022-01-12T22:56:59.663Z"
   },
   {
    "duration": 46,
    "start_time": "2022-01-12T22:56:59.670Z"
   },
   {
    "duration": 9,
    "start_time": "2022-01-12T22:56:59.717Z"
   },
   {
    "duration": 3,
    "start_time": "2022-01-12T22:56:59.728Z"
   },
   {
    "duration": 6,
    "start_time": "2022-01-12T22:56:59.732Z"
   },
   {
    "duration": 4,
    "start_time": "2022-01-12T22:56:59.739Z"
   },
   {
    "duration": 4,
    "start_time": "2022-01-12T22:56:59.745Z"
   },
   {
    "duration": 4,
    "start_time": "2022-01-12T22:56:59.750Z"
   },
   {
    "duration": 4,
    "start_time": "2022-01-12T22:56:59.756Z"
   },
   {
    "duration": 55,
    "start_time": "2022-01-12T22:56:59.764Z"
   },
   {
    "duration": 6,
    "start_time": "2022-01-12T22:56:59.821Z"
   },
   {
    "duration": 7,
    "start_time": "2022-01-12T22:56:59.829Z"
   },
   {
    "duration": 17,
    "start_time": "2022-01-12T22:56:59.837Z"
   },
   {
    "duration": 6,
    "start_time": "2022-01-12T22:56:59.855Z"
   },
   {
    "duration": 19,
    "start_time": "2022-01-12T22:56:59.863Z"
   },
   {
    "duration": 7,
    "start_time": "2022-01-12T22:56:59.912Z"
   },
   {
    "duration": 8,
    "start_time": "2022-01-12T22:56:59.920Z"
   },
   {
    "duration": 3360,
    "start_time": "2022-01-12T22:56:59.929Z"
   },
   {
    "duration": 6,
    "start_time": "2022-01-12T22:57:03.291Z"
   },
   {
    "duration": 15,
    "start_time": "2022-01-12T22:57:03.312Z"
   },
   {
    "duration": 6,
    "start_time": "2022-01-12T22:57:03.328Z"
   },
   {
    "duration": 15,
    "start_time": "2022-01-12T22:57:03.336Z"
   },
   {
    "duration": 6,
    "start_time": "2022-01-12T22:57:03.353Z"
   },
   {
    "duration": 28,
    "start_time": "2022-01-12T22:57:03.361Z"
   },
   {
    "duration": 24,
    "start_time": "2022-01-12T22:57:03.390Z"
   },
   {
    "duration": 353,
    "start_time": "2022-01-12T22:57:03.415Z"
   },
   {
    "duration": 22,
    "start_time": "2022-01-12T22:57:03.770Z"
   },
   {
    "duration": 26,
    "start_time": "2022-01-12T22:57:03.794Z"
   },
   {
    "duration": 17,
    "start_time": "2022-01-12T22:57:03.822Z"
   },
   {
    "duration": 23,
    "start_time": "2022-01-12T22:57:03.840Z"
   },
   {
    "duration": 17,
    "start_time": "2022-01-12T22:57:03.864Z"
   },
   {
    "duration": 323,
    "start_time": "2022-01-14T20:52:18.235Z"
   },
   {
    "duration": 804,
    "start_time": "2022-01-14T20:52:25.195Z"
   },
   {
    "duration": 20,
    "start_time": "2022-01-14T20:52:26.002Z"
   },
   {
    "duration": 39,
    "start_time": "2022-01-14T20:52:26.025Z"
   },
   {
    "duration": 19,
    "start_time": "2022-01-14T20:52:26.067Z"
   },
   {
    "duration": 13,
    "start_time": "2022-01-14T20:52:26.088Z"
   },
   {
    "duration": 56,
    "start_time": "2022-01-14T20:52:26.103Z"
   },
   {
    "duration": 9,
    "start_time": "2022-01-14T20:52:26.162Z"
   },
   {
    "duration": 22,
    "start_time": "2022-01-14T20:52:26.176Z"
   },
   {
    "duration": 19,
    "start_time": "2022-01-14T20:52:26.201Z"
   },
   {
    "duration": 65,
    "start_time": "2022-01-14T20:52:26.223Z"
   },
   {
    "duration": 32,
    "start_time": "2022-01-14T20:52:26.291Z"
   },
   {
    "duration": 49,
    "start_time": "2022-01-14T20:52:26.325Z"
   },
   {
    "duration": 5,
    "start_time": "2022-01-14T20:52:26.376Z"
   },
   {
    "duration": 10,
    "start_time": "2022-01-14T20:52:26.384Z"
   },
   {
    "duration": 63,
    "start_time": "2022-01-14T20:52:26.396Z"
   },
   {
    "duration": 15,
    "start_time": "2022-01-14T20:52:26.461Z"
   },
   {
    "duration": 4,
    "start_time": "2022-01-14T20:52:26.478Z"
   },
   {
    "duration": 10,
    "start_time": "2022-01-14T20:52:26.484Z"
   },
   {
    "duration": 5,
    "start_time": "2022-01-14T20:52:26.496Z"
   },
   {
    "duration": 55,
    "start_time": "2022-01-14T20:52:26.504Z"
   },
   {
    "duration": 7,
    "start_time": "2022-01-14T20:52:26.561Z"
   },
   {
    "duration": 21,
    "start_time": "2022-01-14T20:52:26.570Z"
   },
   {
    "duration": 17,
    "start_time": "2022-01-14T20:52:26.596Z"
   },
   {
    "duration": 12,
    "start_time": "2022-01-14T20:52:26.616Z"
   },
   {
    "duration": 34,
    "start_time": "2022-01-14T20:52:26.631Z"
   },
   {
    "duration": 27,
    "start_time": "2022-01-14T20:52:26.667Z"
   },
   {
    "duration": 23,
    "start_time": "2022-01-14T20:52:26.696Z"
   },
   {
    "duration": 38,
    "start_time": "2022-01-14T20:52:26.721Z"
   },
   {
    "duration": 29,
    "start_time": "2022-01-14T20:52:26.763Z"
   },
   {
    "duration": 12,
    "start_time": "2022-01-14T20:52:26.796Z"
   },
   {
    "duration": 56,
    "start_time": "2022-01-14T20:52:26.811Z"
   },
   {
    "duration": 6118,
    "start_time": "2022-01-14T20:52:26.870Z"
   },
   {
    "duration": 10,
    "start_time": "2022-01-14T20:52:32.991Z"
   },
   {
    "duration": 26,
    "start_time": "2022-01-14T20:52:33.003Z"
   },
   {
    "duration": 34,
    "start_time": "2022-01-14T20:52:33.032Z"
   },
   {
    "duration": 25,
    "start_time": "2022-01-14T20:52:33.069Z"
   },
   {
    "duration": 11,
    "start_time": "2022-01-14T20:52:33.097Z"
   },
   {
    "duration": 65,
    "start_time": "2022-01-14T20:52:33.111Z"
   },
   {
    "duration": 9,
    "start_time": "2022-01-14T20:52:33.179Z"
   },
   {
    "duration": 194137,
    "start_time": "2022-01-14T20:52:33.191Z"
   },
   {
    "duration": 40,
    "start_time": "2022-01-14T20:55:47.331Z"
   },
   {
    "duration": 36,
    "start_time": "2022-01-14T20:55:47.373Z"
   },
   {
    "duration": 30,
    "start_time": "2022-01-14T20:55:47.411Z"
   },
   {
    "duration": 48,
    "start_time": "2022-01-14T20:55:47.444Z"
   },
   {
    "duration": 31,
    "start_time": "2022-01-14T20:55:47.495Z"
   },
   {
    "duration": 281,
    "start_time": "2022-01-16T12:22:42.439Z"
   },
   {
    "duration": 655,
    "start_time": "2022-01-16T12:22:48.664Z"
   },
   {
    "duration": 13,
    "start_time": "2022-01-16T12:22:49.321Z"
   },
   {
    "duration": 12,
    "start_time": "2022-01-16T12:22:49.337Z"
   },
   {
    "duration": 13,
    "start_time": "2022-01-16T12:22:49.360Z"
   },
   {
    "duration": 9,
    "start_time": "2022-01-16T12:22:49.375Z"
   },
   {
    "duration": 14,
    "start_time": "2022-01-16T12:22:49.386Z"
   },
   {
    "duration": 7,
    "start_time": "2022-01-16T12:22:49.401Z"
   },
   {
    "duration": 50,
    "start_time": "2022-01-16T12:22:49.412Z"
   },
   {
    "duration": 12,
    "start_time": "2022-01-16T12:22:49.464Z"
   },
   {
    "duration": 18,
    "start_time": "2022-01-16T12:22:49.478Z"
   },
   {
    "duration": 18,
    "start_time": "2022-01-16T12:22:49.498Z"
   },
   {
    "duration": 44,
    "start_time": "2022-01-16T12:22:49.518Z"
   },
   {
    "duration": 4,
    "start_time": "2022-01-16T12:22:49.564Z"
   },
   {
    "duration": 8,
    "start_time": "2022-01-16T12:22:49.570Z"
   },
   {
    "duration": 19,
    "start_time": "2022-01-16T12:22:49.580Z"
   },
   {
    "duration": 11,
    "start_time": "2022-01-16T12:22:49.601Z"
   },
   {
    "duration": 7,
    "start_time": "2022-01-16T12:22:49.613Z"
   },
   {
    "duration": 39,
    "start_time": "2022-01-16T12:22:49.622Z"
   },
   {
    "duration": 4,
    "start_time": "2022-01-16T12:22:49.663Z"
   },
   {
    "duration": 7,
    "start_time": "2022-01-16T12:22:49.669Z"
   },
   {
    "duration": 5,
    "start_time": "2022-01-16T12:22:49.677Z"
   },
   {
    "duration": 6,
    "start_time": "2022-01-16T12:22:49.684Z"
   },
   {
    "duration": 12,
    "start_time": "2022-01-16T12:22:49.693Z"
   },
   {
    "duration": 54,
    "start_time": "2022-01-16T12:22:49.707Z"
   },
   {
    "duration": 8,
    "start_time": "2022-01-16T12:22:49.763Z"
   },
   {
    "duration": 22,
    "start_time": "2022-01-16T12:22:49.772Z"
   },
   {
    "duration": 16,
    "start_time": "2022-01-16T12:22:49.795Z"
   },
   {
    "duration": 51,
    "start_time": "2022-01-16T12:22:49.813Z"
   },
   {
    "duration": 7,
    "start_time": "2022-01-16T12:22:49.866Z"
   },
   {
    "duration": 25,
    "start_time": "2022-01-16T12:22:49.875Z"
   },
   {
    "duration": 7,
    "start_time": "2022-01-16T12:22:49.902Z"
   },
   {
    "duration": 17,
    "start_time": "2022-01-16T12:22:49.911Z"
   },
   {
    "duration": 4580,
    "start_time": "2022-01-16T12:22:49.930Z"
   },
   {
    "duration": 8,
    "start_time": "2022-01-16T12:22:54.512Z"
   },
   {
    "duration": 39,
    "start_time": "2022-01-16T12:22:54.522Z"
   },
   {
    "duration": 7,
    "start_time": "2022-01-16T12:22:54.563Z"
   },
   {
    "duration": 20,
    "start_time": "2022-01-16T12:22:54.572Z"
   },
   {
    "duration": 7,
    "start_time": "2022-01-16T12:22:54.594Z"
   },
   {
    "duration": 20,
    "start_time": "2022-01-16T12:22:54.602Z"
   },
   {
    "duration": 38,
    "start_time": "2022-01-16T12:22:54.624Z"
   },
   {
    "duration": 566,
    "start_time": "2022-01-16T12:22:54.664Z"
   },
   {
    "duration": 25,
    "start_time": "2022-01-16T12:22:55.232Z"
   },
   {
    "duration": 34,
    "start_time": "2022-01-16T12:22:55.259Z"
   },
   {
    "duration": 32,
    "start_time": "2022-01-16T12:22:55.295Z"
   },
   {
    "duration": 46,
    "start_time": "2022-01-16T12:22:55.329Z"
   },
   {
    "duration": 29,
    "start_time": "2022-01-16T12:22:55.377Z"
   },
   {
    "duration": 47,
    "start_time": "2022-01-16T12:25:10.816Z"
   },
   {
    "duration": 19,
    "start_time": "2022-01-16T12:27:52.578Z"
   },
   {
    "duration": 58,
    "start_time": "2022-01-16T12:27:58.597Z"
   },
   {
    "duration": 12,
    "start_time": "2022-01-16T12:27:58.657Z"
   },
   {
    "duration": 13,
    "start_time": "2022-01-16T12:27:58.671Z"
   },
   {
    "duration": 12,
    "start_time": "2022-01-16T12:27:58.686Z"
   },
   {
    "duration": 10,
    "start_time": "2022-01-16T12:27:58.700Z"
   },
   {
    "duration": 87,
    "start_time": "2022-01-16T12:27:58.711Z"
   },
   {
    "duration": 6,
    "start_time": "2022-01-16T12:27:58.800Z"
   },
   {
    "duration": 15,
    "start_time": "2022-01-16T12:27:58.808Z"
   },
   {
    "duration": 11,
    "start_time": "2022-01-16T12:27:58.825Z"
   },
   {
    "duration": 17,
    "start_time": "2022-01-16T12:27:59.257Z"
   },
   {
    "duration": 18,
    "start_time": "2022-01-16T12:27:59.276Z"
   },
   {
    "duration": 14,
    "start_time": "2022-01-16T12:27:59.297Z"
   },
   {
    "duration": 4,
    "start_time": "2022-01-16T12:27:59.313Z"
   },
   {
    "duration": 6,
    "start_time": "2022-01-16T12:27:59.319Z"
   },
   {
    "duration": 53,
    "start_time": "2022-01-16T12:27:59.327Z"
   },
   {
    "duration": 10,
    "start_time": "2022-01-16T12:27:59.381Z"
   },
   {
    "duration": 3,
    "start_time": "2022-01-16T12:27:59.393Z"
   },
   {
    "duration": 6,
    "start_time": "2022-01-16T12:27:59.398Z"
   },
   {
    "duration": 11,
    "start_time": "2022-01-16T12:27:59.406Z"
   },
   {
    "duration": 5,
    "start_time": "2022-01-16T12:27:59.419Z"
   },
   {
    "duration": 36,
    "start_time": "2022-01-16T12:27:59.425Z"
   },
   {
    "duration": 5,
    "start_time": "2022-01-16T12:27:59.462Z"
   },
   {
    "duration": 13,
    "start_time": "2022-01-16T12:27:59.469Z"
   },
   {
    "duration": 10,
    "start_time": "2022-01-16T12:27:59.483Z"
   },
   {
    "duration": 9,
    "start_time": "2022-01-16T12:27:59.494Z"
   },
   {
    "duration": 17,
    "start_time": "2022-01-16T12:27:59.505Z"
   },
   {
    "duration": 42,
    "start_time": "2022-01-16T12:27:59.524Z"
   },
   {
    "duration": 33,
    "start_time": "2022-01-16T12:27:59.568Z"
   },
   {
    "duration": 9,
    "start_time": "2022-01-16T12:27:59.603Z"
   },
   {
    "duration": 48,
    "start_time": "2022-01-16T12:27:59.613Z"
   },
   {
    "duration": 8,
    "start_time": "2022-01-16T12:27:59.663Z"
   },
   {
    "duration": 9,
    "start_time": "2022-01-16T12:27:59.673Z"
   },
   {
    "duration": 4220,
    "start_time": "2022-01-16T12:27:59.684Z"
   },
   {
    "duration": 8,
    "start_time": "2022-01-16T12:28:03.906Z"
   },
   {
    "duration": 24,
    "start_time": "2022-01-16T12:28:03.916Z"
   },
   {
    "duration": 20,
    "start_time": "2022-01-16T12:28:03.944Z"
   },
   {
    "duration": 33,
    "start_time": "2022-01-16T12:28:03.966Z"
   },
   {
    "duration": 37,
    "start_time": "2022-01-16T12:28:04.001Z"
   },
   {
    "duration": 41,
    "start_time": "2022-01-16T12:28:04.040Z"
   },
   {
    "duration": 26,
    "start_time": "2022-01-16T12:28:04.083Z"
   },
   {
    "duration": 42,
    "start_time": "2022-01-16T12:28:04.111Z"
   },
   {
    "duration": 52,
    "start_time": "2022-01-16T12:28:04.154Z"
   },
   {
    "duration": 27,
    "start_time": "2022-01-16T12:28:04.208Z"
   },
   {
    "duration": 23,
    "start_time": "2022-01-16T12:28:04.237Z"
   },
   {
    "duration": 44,
    "start_time": "2022-01-16T12:28:04.262Z"
   },
   {
    "duration": 21,
    "start_time": "2022-01-16T12:28:04.308Z"
   },
   {
    "duration": 46,
    "start_time": "2022-01-16T12:30:18.174Z"
   },
   {
    "duration": 41,
    "start_time": "2022-01-16T12:30:30.639Z"
   },
   {
    "duration": 763,
    "start_time": "2022-01-16T12:44:59.054Z"
   },
   {
    "duration": 6458,
    "start_time": "2022-01-16T12:46:11.028Z"
   },
   {
    "duration": 6832,
    "start_time": "2022-01-16T12:48:35.093Z"
   },
   {
    "duration": 6790,
    "start_time": "2022-01-16T12:52:06.614Z"
   },
   {
    "duration": 6681,
    "start_time": "2022-01-16T12:52:42.211Z"
   },
   {
    "duration": 5,
    "start_time": "2022-01-16T12:54:14.942Z"
   },
   {
    "duration": 266,
    "start_time": "2022-01-16T12:56:31.351Z"
   },
   {
    "duration": 5,
    "start_time": "2022-01-16T12:57:31.034Z"
   },
   {
    "duration": 5,
    "start_time": "2022-01-16T12:57:50.202Z"
   },
   {
    "duration": 4,
    "start_time": "2022-01-16T12:58:17.035Z"
   },
   {
    "duration": 6632,
    "start_time": "2022-01-16T12:58:49.016Z"
   },
   {
    "duration": 6380,
    "start_time": "2022-01-16T12:59:19.302Z"
   },
   {
    "duration": 330,
    "start_time": "2022-01-16T13:00:54.176Z"
   },
   {
    "duration": 5,
    "start_time": "2022-01-16T13:01:03.914Z"
   },
   {
    "duration": 162,
    "start_time": "2022-01-16T13:01:20.154Z"
   },
   {
    "duration": 187,
    "start_time": "2022-01-16T13:01:46.735Z"
   },
   {
    "duration": 8,
    "start_time": "2022-01-16T13:03:26.969Z"
   },
   {
    "duration": 149,
    "start_time": "2022-01-16T13:04:40.771Z"
   },
   {
    "duration": 262,
    "start_time": "2022-01-16T13:10:07.077Z"
   },
   {
    "duration": 154,
    "start_time": "2022-01-16T13:10:19.846Z"
   },
   {
    "duration": 166,
    "start_time": "2022-01-16T13:11:24.633Z"
   },
   {
    "duration": 152,
    "start_time": "2022-01-16T13:11:55.593Z"
   },
   {
    "duration": 150,
    "start_time": "2022-01-16T13:12:11.417Z"
   },
   {
    "duration": 699,
    "start_time": "2022-01-16T13:12:54.583Z"
   },
   {
    "duration": 20,
    "start_time": "2022-01-16T13:12:55.285Z"
   },
   {
    "duration": 16,
    "start_time": "2022-01-16T13:12:55.308Z"
   },
   {
    "duration": 37,
    "start_time": "2022-01-16T13:12:55.326Z"
   },
   {
    "duration": 14,
    "start_time": "2022-01-16T13:12:55.366Z"
   },
   {
    "duration": 14,
    "start_time": "2022-01-16T13:12:55.383Z"
   },
   {
    "duration": 7,
    "start_time": "2022-01-16T13:12:55.399Z"
   },
   {
    "duration": 19,
    "start_time": "2022-01-16T13:12:55.408Z"
   },
   {
    "duration": 47,
    "start_time": "2022-01-16T13:12:55.429Z"
   },
   {
    "duration": 27,
    "start_time": "2022-01-16T13:12:55.479Z"
   },
   {
    "duration": 18,
    "start_time": "2022-01-16T13:12:55.508Z"
   },
   {
    "duration": 15,
    "start_time": "2022-01-16T13:12:55.527Z"
   },
   {
    "duration": 5,
    "start_time": "2022-01-16T13:12:55.563Z"
   },
   {
    "duration": 13,
    "start_time": "2022-01-16T13:12:55.571Z"
   },
   {
    "duration": 22,
    "start_time": "2022-01-16T13:12:55.586Z"
   },
   {
    "duration": 12,
    "start_time": "2022-01-16T13:12:55.610Z"
   },
   {
    "duration": 3,
    "start_time": "2022-01-16T13:12:55.624Z"
   },
   {
    "duration": 33,
    "start_time": "2022-01-16T13:12:55.629Z"
   },
   {
    "duration": 14,
    "start_time": "2022-01-16T13:12:55.665Z"
   },
   {
    "duration": 7,
    "start_time": "2022-01-16T13:12:55.680Z"
   },
   {
    "duration": 8,
    "start_time": "2022-01-16T13:12:55.688Z"
   },
   {
    "duration": 7,
    "start_time": "2022-01-16T13:12:55.697Z"
   },
   {
    "duration": 11,
    "start_time": "2022-01-16T13:12:55.707Z"
   },
   {
    "duration": 9,
    "start_time": "2022-01-16T13:12:55.720Z"
   },
   {
    "duration": 34,
    "start_time": "2022-01-16T13:12:55.730Z"
   },
   {
    "duration": 22,
    "start_time": "2022-01-16T13:12:55.766Z"
   },
   {
    "duration": 16,
    "start_time": "2022-01-16T13:12:55.790Z"
   },
   {
    "duration": 54,
    "start_time": "2022-01-16T13:12:55.808Z"
   },
   {
    "duration": 9,
    "start_time": "2022-01-16T13:12:55.864Z"
   },
   {
    "duration": 28,
    "start_time": "2022-01-16T13:12:55.875Z"
   },
   {
    "duration": 7,
    "start_time": "2022-01-16T13:12:55.905Z"
   },
   {
    "duration": 8,
    "start_time": "2022-01-16T13:12:55.914Z"
   },
   {
    "duration": 4506,
    "start_time": "2022-01-16T13:12:55.924Z"
   },
   {
    "duration": 8,
    "start_time": "2022-01-16T13:13:00.432Z"
   },
   {
    "duration": 43,
    "start_time": "2022-01-16T13:13:00.441Z"
   },
   {
    "duration": 23,
    "start_time": "2022-01-16T13:13:00.486Z"
   },
   {
    "duration": 31,
    "start_time": "2022-01-16T13:13:00.510Z"
   },
   {
    "duration": 14,
    "start_time": "2022-01-16T13:13:00.543Z"
   },
   {
    "duration": 39,
    "start_time": "2022-01-16T13:13:00.559Z"
   },
   {
    "duration": 28,
    "start_time": "2022-01-16T13:13:00.600Z"
   },
   {
    "duration": 604,
    "start_time": "2022-01-16T13:13:00.630Z"
   },
   {
    "duration": 30,
    "start_time": "2022-01-16T13:13:01.236Z"
   },
   {
    "duration": 44,
    "start_time": "2022-01-16T13:13:01.269Z"
   },
   {
    "duration": 22,
    "start_time": "2022-01-16T13:13:01.315Z"
   },
   {
    "duration": 46,
    "start_time": "2022-01-16T13:13:01.338Z"
   },
   {
    "duration": 34,
    "start_time": "2022-01-16T13:13:01.386Z"
   },
   {
    "duration": 637,
    "start_time": "2022-01-16T13:13:01.421Z"
   },
   {
    "duration": 109,
    "start_time": "2022-01-16T13:13:34.281Z"
   },
   {
    "duration": 95,
    "start_time": "2022-01-16T13:13:49.996Z"
   },
   {
    "duration": 25,
    "start_time": "2022-01-16T13:14:22.886Z"
   },
   {
    "duration": 779,
    "start_time": "2022-01-16T13:15:42.694Z"
   },
   {
    "duration": 14,
    "start_time": "2022-01-16T13:15:43.476Z"
   },
   {
    "duration": 12,
    "start_time": "2022-01-16T13:15:43.492Z"
   },
   {
    "duration": 14,
    "start_time": "2022-01-16T13:15:43.506Z"
   },
   {
    "duration": 39,
    "start_time": "2022-01-16T13:15:43.522Z"
   },
   {
    "duration": 19,
    "start_time": "2022-01-16T13:15:43.563Z"
   },
   {
    "duration": 8,
    "start_time": "2022-01-16T13:15:43.583Z"
   },
   {
    "duration": 14,
    "start_time": "2022-01-16T13:15:43.593Z"
   },
   {
    "duration": 11,
    "start_time": "2022-01-16T13:15:43.611Z"
   },
   {
    "duration": 56,
    "start_time": "2022-01-16T13:15:43.625Z"
   },
   {
    "duration": 19,
    "start_time": "2022-01-16T13:15:43.683Z"
   },
   {
    "duration": 13,
    "start_time": "2022-01-16T13:15:43.704Z"
   },
   {
    "duration": 3,
    "start_time": "2022-01-16T13:15:43.719Z"
   },
   {
    "duration": 7,
    "start_time": "2022-01-16T13:15:43.724Z"
   },
   {
    "duration": 50,
    "start_time": "2022-01-16T13:15:43.733Z"
   },
   {
    "duration": 10,
    "start_time": "2022-01-16T13:15:43.784Z"
   },
   {
    "duration": 4,
    "start_time": "2022-01-16T13:15:43.796Z"
   },
   {
    "duration": 12,
    "start_time": "2022-01-16T13:15:43.802Z"
   },
   {
    "duration": 13,
    "start_time": "2022-01-16T13:15:43.815Z"
   },
   {
    "duration": 6,
    "start_time": "2022-01-16T13:15:43.830Z"
   },
   {
    "duration": 27,
    "start_time": "2022-01-16T13:15:43.838Z"
   },
   {
    "duration": 15,
    "start_time": "2022-01-16T13:15:43.868Z"
   },
   {
    "duration": 13,
    "start_time": "2022-01-16T13:15:43.884Z"
   },
   {
    "duration": 7,
    "start_time": "2022-01-16T13:15:43.898Z"
   },
   {
    "duration": 7,
    "start_time": "2022-01-16T13:15:43.907Z"
   },
   {
    "duration": 18,
    "start_time": "2022-01-16T13:15:43.915Z"
   },
   {
    "duration": 22,
    "start_time": "2022-01-16T13:15:43.962Z"
   },
   {
    "duration": 29,
    "start_time": "2022-01-16T13:15:43.986Z"
   },
   {
    "duration": 7,
    "start_time": "2022-01-16T13:15:44.017Z"
   },
   {
    "duration": 52,
    "start_time": "2022-01-16T13:15:44.025Z"
   },
   {
    "duration": 9,
    "start_time": "2022-01-16T13:15:44.079Z"
   },
   {
    "duration": 11,
    "start_time": "2022-01-16T13:15:44.090Z"
   },
   {
    "duration": 4485,
    "start_time": "2022-01-16T13:15:44.103Z"
   },
   {
    "duration": 9,
    "start_time": "2022-01-16T13:15:48.590Z"
   },
   {
    "duration": 19,
    "start_time": "2022-01-16T13:15:48.600Z"
   },
   {
    "duration": 9,
    "start_time": "2022-01-16T13:15:48.620Z"
   },
   {
    "duration": 45,
    "start_time": "2022-01-16T13:15:48.630Z"
   },
   {
    "duration": 10,
    "start_time": "2022-01-16T13:15:48.677Z"
   },
   {
    "duration": 19,
    "start_time": "2022-01-16T13:15:48.688Z"
   },
   {
    "duration": 6,
    "start_time": "2022-01-16T13:15:48.709Z"
   },
   {
    "duration": 618,
    "start_time": "2022-01-16T13:15:48.717Z"
   },
   {
    "duration": 29,
    "start_time": "2022-01-16T13:15:49.338Z"
   },
   {
    "duration": 28,
    "start_time": "2022-01-16T13:15:49.370Z"
   },
   {
    "duration": 22,
    "start_time": "2022-01-16T13:15:49.400Z"
   },
   {
    "duration": 57,
    "start_time": "2022-01-16T13:15:49.423Z"
   },
   {
    "duration": 22,
    "start_time": "2022-01-16T13:15:49.481Z"
   },
   {
    "duration": 642,
    "start_time": "2022-01-16T13:15:49.505Z"
   },
   {
    "duration": 20,
    "start_time": "2022-01-16T13:18:38.183Z"
   },
   {
    "duration": 836,
    "start_time": "2022-01-16T13:21:07.328Z"
   },
   {
    "duration": 14,
    "start_time": "2022-01-16T13:21:08.166Z"
   },
   {
    "duration": 12,
    "start_time": "2022-01-16T13:21:08.182Z"
   },
   {
    "duration": 13,
    "start_time": "2022-01-16T13:21:08.196Z"
   },
   {
    "duration": 10,
    "start_time": "2022-01-16T13:21:08.211Z"
   },
   {
    "duration": 50,
    "start_time": "2022-01-16T13:21:08.222Z"
   },
   {
    "duration": 9,
    "start_time": "2022-01-16T13:21:08.274Z"
   },
   {
    "duration": 15,
    "start_time": "2022-01-16T13:21:08.285Z"
   },
   {
    "duration": 11,
    "start_time": "2022-01-16T13:21:08.302Z"
   },
   {
    "duration": 47,
    "start_time": "2022-01-16T13:21:08.315Z"
   },
   {
    "duration": 18,
    "start_time": "2022-01-16T13:21:08.364Z"
   },
   {
    "duration": 15,
    "start_time": "2022-01-16T13:21:08.384Z"
   },
   {
    "duration": 5,
    "start_time": "2022-01-16T13:21:08.401Z"
   },
   {
    "duration": 9,
    "start_time": "2022-01-16T13:21:08.408Z"
   },
   {
    "duration": 59,
    "start_time": "2022-01-16T13:21:08.418Z"
   },
   {
    "duration": 14,
    "start_time": "2022-01-16T13:21:08.479Z"
   },
   {
    "duration": 5,
    "start_time": "2022-01-16T13:21:08.495Z"
   },
   {
    "duration": 8,
    "start_time": "2022-01-16T13:21:08.502Z"
   },
   {
    "duration": 7,
    "start_time": "2022-01-16T13:21:08.513Z"
   },
   {
    "duration": 5,
    "start_time": "2022-01-16T13:21:08.522Z"
   },
   {
    "duration": 35,
    "start_time": "2022-01-16T13:21:08.529Z"
   },
   {
    "duration": 10,
    "start_time": "2022-01-16T13:21:08.567Z"
   },
   {
    "duration": 17,
    "start_time": "2022-01-16T13:21:08.583Z"
   },
   {
    "duration": 9,
    "start_time": "2022-01-16T13:21:08.603Z"
   },
   {
    "duration": 8,
    "start_time": "2022-01-16T13:21:08.614Z"
   },
   {
    "duration": 57,
    "start_time": "2022-01-16T13:21:08.623Z"
   },
   {
    "duration": 17,
    "start_time": "2022-01-16T13:21:08.682Z"
   },
   {
    "duration": 30,
    "start_time": "2022-01-16T13:21:08.701Z"
   },
   {
    "duration": 33,
    "start_time": "2022-01-16T13:21:08.733Z"
   },
   {
    "duration": 21,
    "start_time": "2022-01-16T13:21:08.768Z"
   },
   {
    "duration": 7,
    "start_time": "2022-01-16T13:21:08.791Z"
   },
   {
    "duration": 9,
    "start_time": "2022-01-16T13:21:08.800Z"
   },
   {
    "duration": 4880,
    "start_time": "2022-01-16T13:21:08.811Z"
   },
   {
    "duration": 8,
    "start_time": "2022-01-16T13:21:13.694Z"
   },
   {
    "duration": 53,
    "start_time": "2022-01-16T13:21:13.703Z"
   },
   {
    "duration": 53,
    "start_time": "2022-01-16T13:21:13.758Z"
   },
   {
    "duration": 47,
    "start_time": "2022-01-16T13:21:13.813Z"
   },
   {
    "duration": 48,
    "start_time": "2022-01-16T13:21:13.862Z"
   },
   {
    "duration": 48,
    "start_time": "2022-01-16T13:21:13.912Z"
   },
   {
    "duration": 58,
    "start_time": "2022-01-16T13:21:13.962Z"
   },
   {
    "duration": 619,
    "start_time": "2022-01-16T13:21:14.022Z"
   },
   {
    "duration": 23,
    "start_time": "2022-01-16T13:21:14.643Z"
   },
   {
    "duration": 43,
    "start_time": "2022-01-16T13:21:14.668Z"
   },
   {
    "duration": 39,
    "start_time": "2022-01-16T13:21:14.713Z"
   },
   {
    "duration": 29,
    "start_time": "2022-01-16T13:21:14.754Z"
   },
   {
    "duration": 58,
    "start_time": "2022-01-16T13:21:14.785Z"
   },
   {
    "duration": 732,
    "start_time": "2022-01-16T13:21:14.845Z"
   }
  ],
  "kernelspec": {
   "display_name": "Python 3 (ipykernel)",
   "language": "python",
   "name": "python3"
  },
  "language_info": {
   "codemirror_mode": {
    "name": "ipython",
    "version": 3
   },
   "file_extension": ".py",
   "mimetype": "text/x-python",
   "name": "python",
   "nbconvert_exporter": "python",
   "pygments_lexer": "ipython3",
   "version": "3.9.7"
  },
  "toc": {
   "base_numbering": 1,
   "nav_menu": {},
   "number_sections": true,
   "sideBar": true,
   "skip_h1_title": false,
   "title_cell": "Table of Contents",
   "title_sidebar": "Contents",
   "toc_cell": false,
   "toc_position": {
    "height": "calc(100% - 180px)",
    "left": "10px",
    "top": "150px",
    "width": "232.391px"
   },
   "toc_section_display": true,
   "toc_window_display": true
  }
 },
 "nbformat": 4,
 "nbformat_minor": 2
}
